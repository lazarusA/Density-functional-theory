{
 "cells": [
  {
   "cell_type": "markdown",
   "metadata": {},
   "source": [
    "## Teoría de perturbaciones"
   ]
  },
  {
   "cell_type": "markdown",
   "metadata": {},
   "source": [
    "Consiste en resolver un sistema perturbado(se conoce la solución al no perturbado), y donde el interés es conocer la contribución de la parte perturbada $H'$ al nuevo sistema total. "
   ]
  },
  {
   "cell_type": "markdown",
   "metadata": {},
   "source": [
    "$$ H = H^{0} + H'$$"
   ]
  },
  {
   "cell_type": "markdown",
   "metadata": {},
   "source": [
    "Para sistemas no degenerados, la corrección a la energía a primer orden se calcula como \n",
    "\n",
    "$$ E_{n}^{(1)} = \\int\\psi_{n}^{(0)*} H' \\psi_{n}^{(0)}d\\tau$$"
   ]
  },
  {
   "cell_type": "markdown",
   "metadata": {},
   "source": [
    "** Tarea 1 : Programar esta ecuación si conoces $H^{0}$ y sus soluciones. **"
   ]
  },
  {
   "cell_type": "code",
   "execution_count": 11,
   "metadata": {
    "collapsed": false
   },
   "outputs": [
    {
     "name": "stdout",
     "output_type": "stream",
     "text": [
      "Valor de la energia: 1\n",
      "Frecuencia Angular: 1\n",
      "Perturbation: 0\n"
     ]
    },
    {
     "data": {
      "text/latex": [
       "$$\\frac{0.75 \\hbar^{2}}{\\hbar} + 0.75 \\hbar$$"
      ],
      "text/plain": [
       "       2         \n",
       "0.75⋅h̅          \n",
       "──────── + 0.75⋅ℏ\n",
       "   ℏ             "
      ]
     },
     "execution_count": 11,
     "metadata": {},
     "output_type": "execute_result"
    }
   ],
   "source": [
    "from sympy.physics.qho_1d import psi_n\n",
    "from sympy.physics.qho_1d import E_n\n",
    "from sympy import *\n",
    "from sympy import init_printing; init_printing(use_latex = 'mathjax')\n",
    "\n",
    "n, m, m_e, omega, hbar = symbols('n m m_e omega hbar', real = True, constant = True)\n",
    "var('x')\n",
    "\n",
    "m_e = 9.10938356e-31\n",
    "n = Abs(sympify(input('Valor de la energia: ')))\n",
    "omega = sympify(input('Frecuencia Angular: '))\n",
    "\n",
    "# Funcion de onda del hamiltoniano H.O no perturbado \n",
    "FunOnda = psi_n(n, x, m_e, omega)\n",
    "\n",
    "#Energia del hamiltoniano no perturbado\n",
    "E0 = E_n(n, omega)\n",
    "\n",
    "#Se necesita definir el nuevo hamiltoniano agregando la perturbacion\n",
    "H = ((-(hbar**2)/(2*m_e))*diff(FunOnda, x, 2) + FunOnda*(m_e*(omega*x)**2)/(2))+FunOnda*sympify(input('Perturbation: '))\n",
    "\n",
    "#Producto interno\n",
    "sandwich = conjugate(FunOnda)*H                                    \n",
    "E = integrate(sandwich, (x, -oo,oo))\n",
    "Error = (((E-E0)*100)/E0)\n",
    "E\n",
    "\n",
    "\n",
    "\n"
   ]
  },
  {
   "cell_type": "markdown",
   "metadata": {},
   "source": [
    "Y la corrección a la función de onda, también a primer orden, se obtiene como:\n",
    "\n",
    " $$ \\psi_{n}^{(1)} = \\sum_{m\\neq n} \\frac{\\langle\\psi_{m}^{(0)} | H' | \\psi_{n}^{(0)} \\rangle}{E_{n}^{(0)} - E_{m}^{(0)}} \\psi_{m}^{(0)}$$"
   ]
  },
  {
   "cell_type": "markdown",
   "metadata": {},
   "source": [
    "**Tarea 2: Programar esta ecuación si conoces $H^{0}$ y sus soluciones. **"
   ]
  },
  {
   "cell_type": "code",
   "execution_count": 12,
   "metadata": {
    "collapsed": false
   },
   "outputs": [
    {
     "name": "stdout",
     "output_type": "stream",
     "text": [
      "Nivel de energia para la correcion de la funcion de onda: 1\n",
      "Nivel mas alto de energia:5\n",
      "Frecuencia Angular: 1\n",
      "Perturbacion: x**3\n"
     ]
    },
    {
     "data": {
      "image/png": "[encoded data removed]",
      "text/plain": [
       "<matplotlib.figure.Figure at 0xa8a3ef0>"
      ]
     },
     "metadata": {},
     "output_type": "display_data"
    },
    {
     "data": {
      "text/plain": [
       "<sympy.plotting.plot.Plot at 0xa8a3f98>"
      ]
     },
     "execution_count": 12,
     "metadata": {},
     "output_type": "execute_result"
    }
   ],
   "source": [
    "### Solución\n",
    "#Importar de sympy el hamiltoniano y eigenfunciones para el oscilador armónico cuántico\n",
    "from sympy.physics.qho_1d import psi_n\n",
    "from sympy.physics.qho_1d import E_n\n",
    "from sympy import *\n",
    "from sympy import init_printing; init_printing(use_latex = 'mathjax')\n",
    "\n",
    "n, m, m_e, omega, hbar = symbols('n m m_e omega hbar', real = True, constant = True)\n",
    "var('x')\n",
    "\n",
    "m_e = 9.10938356e-31\n",
    "#Nivel de energia, sobre el cual realizar la corrección\n",
    "n = Abs(sympify(input('Nivel de energia para la correcion de la funcion de onda: ')))\n",
    "i= Abs(sympify(input('Nivel mas alto de energia:')))\n",
    "omega = sympify(input('Frecuencia Angular: '))\n",
    "#Funcion de onda no perturbada\n",
    "FunOnda = psi_n(n, x, m_e, omega)\n",
    "\n",
    "#Energía previa a la perturbación\n",
    "E0 = E_n(n, omega)\n",
    "\n",
    "#Nuevo hamiltoniano, contiene el original y la perturbacion\n",
    "H =  FunOnda*sympify(input('Perturbacion: '))\n",
    "\n",
    "#Energia no perturbada del Hamiltoniano\n",
    "E0 = E_n(n, omega)\n",
    "psicorrec = 0\n",
    "\n",
    "for m in range(i):\n",
    "    if m !=n:\n",
    "        psim= psi_n(m, x, m_e, omega)\n",
    "        producto = conjugate(psim)*H\n",
    "        sandwich = integrate(producto, (x,-oo,oo))\n",
    "        Em = E_n(m, omega)\n",
    "        correc = ((sandwich)/(E0-Em))*psim\n",
    "        psicorrec = psicorrec + correc\n",
    "    \n",
    "    \n",
    "    else:\n",
    "        psicorrec = psicorrec\n",
    "        \n",
    "#Integral del producto interno\n",
    "sandwich = conjugate(FunOnda)*H                                  \n",
    "E = E0 + integrate(sandwich, (x, -oo,oo))\n",
    "Error = (((E-E0)*100)/E0)\n",
    "\n",
    "psipert = FunOnda + psicorrec\n",
    "psipert.evalf()\n",
    "psiplot = conjugate(psipert)*psipert\n",
    "plot(psiplot,(x,-0.1,0.1))\n",
    "\n",
    "\n"
   ]
  },
  {
   "cell_type": "markdown",
   "metadata": {},
   "source": [
    "**Tarea 3: Investigue las soluciones a segundo orden y también programe las soluciones. **"
   ]
  },
  {
   "cell_type": "code",
   "execution_count": 13,
   "metadata": {
    "collapsed": false
   },
   "outputs": [
    {
     "name": "stdout",
     "output_type": "stream",
     "text": [
      "Nivel de energia para la correcion de la funcion de onda: 1\n",
      "Nivel mas alto de energia:10\n",
      "Frecuencia angular: 1\n",
      "Perturbacion: x**3\n"
     ]
    },
    {
     "data": {
      "text/latex": [
       "$$- 1.17409001625997 \\cdot 10^{91} \\hbar^{2} - \\frac{\\hbar^{2}}{\\pi} 1.883130520616 \\cdot 10^{59} + \\frac{3 \\hbar}{2}$$"
      ],
      "text/plain": [
       "                                                2      \n",
       "                        2   1.883130520616e+59⋅ℏ    3⋅ℏ\n",
       "- 1.17409001625997e+91⋅ℏ  - ───────────────────── + ───\n",
       "                                      π              2 "
      ]
     },
     "execution_count": 13,
     "metadata": {},
     "output_type": "execute_result"
    }
   ],
   "source": [
    "### Solución\n",
    "#La forma para la corrección de la energía a segundo orden es parecida. Trabajamos con energía en vez de funciones de onda.\n",
    "from sympy.physics.qho_1d import psi_n\n",
    "from sympy.physics.qho_1d import E_n\n",
    "from sympy import *\n",
    "from sympy import init_printing; init_printing(use_latex = 'mathjax')\n",
    "\n",
    "n, m, m_e, omega, hbar = symbols('n m m_e omega hbar', real = True, constant = True)\n",
    "var('x')\n",
    "\n",
    "m_e = 9.10938356e-31\n",
    "#Nivel de energia sobre la cual trabajamos \n",
    "n = Abs(sympify(input('Nivel de energia para la correcion de la funcion de onda: ')))\n",
    "i= Abs(sympify(input('Nivel mas alto de energia:')))\n",
    "omega = sympify(input('Frecuencia angular: '))\n",
    "#Funcion de onda no perturbada\n",
    "FunOnda = psi_n(n, x, m_e, omega)\n",
    "\n",
    "#Energía antes de la perturbación\n",
    "E0 = E_n(n, omega)\n",
    "\n",
    "#Nuevo hamiltoniano, contiene el original y la perturbacion\n",
    "H =  FunOnda*sympify(input('Perturbacion: '))\n",
    "intepriorden = conjugate(FunOnda)*H\n",
    "priorden = integrate (intepriorden, (x,-oo,oo))\n",
    "#Energia del hamiltoniano no perturbado\n",
    "E0 = E_n(n, omega)\n",
    "Ecorrec = 0\n",
    "\n",
    "#La primera parte de la corrección a 2º orden es la de primer orden\n",
    "for m in range(i):\n",
    "    if m !=n:\n",
    "        psim= psi_n(m, x, m_e, omega)\n",
    "        product = conjugate(psim)*H\n",
    "        sandwich = integrate(product, (x,-oo,oo))\n",
    "        Em = E_n(m, omega)\n",
    "        corr = ((sandwich)**2/(E0-Em))\n",
    "        Ecorrec = Ecorrec + corr\n",
    "    \n",
    "    \n",
    "    else:\n",
    "        Ecorrec = Ecorrec\n",
    "        \n",
    "\n",
    "E = E0 + priorden + Ecorrec\n",
    "\n",
    "E\n",
    "\n",
    "\n",
    "\n"
   ]
  },
  {
   "cell_type": "markdown",
   "metadata": {},
   "source": [
    "**Tarea 4.  Resolver el átomo de helio aplicando los programas anteriores.** "
   ]
  },
  {
   "cell_type": "code",
   "execution_count": 18,
   "metadata": {
    "collapsed": false
   },
   "outputs": [
    {
     "data": {
      "text/latex": [
       "$$\\left ( \\frac{4}{e^{r_{1}} e^{r_{2}}}, \\quad -1, \\quad 16 q^{2} \\int_{0}^{\\infty} \\frac{r_{2}^{2}}{e^{2 r_{2}}} \\int_{0}^{\\infty} \\frac{r_{1}^{2}}{e^{2 r_{1}} \\left|{r_{1} - r_{2}}\\right|}\\, dr_{1}\\, dr_{2}, \\quad \\frac{5 q^{2}}{8}\\right )$$"
      ],
      "text/plain": [
       "⎛                       ∞                                          ⎞\n",
       "⎜                       ⌠                                          ⎟\n",
       "⎜                       ⎮            ∞                             ⎟\n",
       "⎜                       ⎮            ⌠                             ⎟\n",
       "⎜                       ⎮            ⎮   2  -2⋅r₁                 2⎟\n",
       "⎜   -r₁  -r₂          2 ⎮   2  -2⋅r₂ ⎮ r₁ ⋅ℯ                   5⋅q ⎟\n",
       "⎜4⋅ℯ   ⋅ℯ   , -1, 16⋅q ⋅⎮ r₂ ⋅ℯ     ⋅⎮ ────────── d(r₁) d(r₂), ────⎟\n",
       "⎜                       ⎮            ⎮ │r₁ - r₂│                8  ⎟\n",
       "⎜                       ⎮            ⌡                             ⎟\n",
       "⎜                       ⎮            0                             ⎟\n",
       "⎜                       ⌡                                          ⎟\n",
       "⎝                       0                                          ⎠"
      ]
     },
     "execution_count": 18,
     "metadata": {},
     "output_type": "execute_result"
    }
   ],
   "source": [
    "from sympy.physics.hydrogen import E_nl, R_nl\n",
    "var('r1, r2, q', positive=True, real=True)\n",
    "\n",
    "\n",
    "\n",
    "def Helium(N1,N2,L1,L2):\n",
    "    \n",
    "    Eb=E_nl(N1,1)+E_nl(N2,1)\n",
    "    Psi1=R_nl(N1, L1, r1, Z=1)\n",
    "    Psi2=R_nl(N2, L2, r2, Z=1)\n",
    "    Psi=Psi1*Psi2\n",
    "    E_correction1 = integrate(integrate(r1**2*r2**2*conjugate(Psi1)*conjugate(Psi2)*q**2*Psi1*Psi2/abs(r1-r2), (r1,0,oo)), (r2,0,oo))\n",
    "    E_correctionR1 = q**2*integrate(r2**2*conjugate(Psi2)*Psi2*(integrate(r1**2*conjugate(Psi1)*Psi1/r2, (r1,0,r2))+integrate(r1**2*conjugate(Psi1)*Psi1/r1, (r1,r2,oo))), (r2,0,oo))\n",
    "    \n",
    "    return Psi, Eb, E_correction1, E_correctionR1\n",
    "\n",
    "\n",
    "    E_correction1, E_correctionR1\n",
    "    \n",
    "Helium (1,1,0,0)\n"
   ]
  },
  {
   "cell_type": "markdown",
   "metadata": {},
   "source": [
    "**Tarea 5: Método variacional-perturbativo. **"
   ]
  },
  {
   "cell_type": "markdown",
   "metadata": {},
   "source": [
    "Este método nos permite estimar de forma precisa $E^{(2)}$ y correcciones perturbativas de la energía de órdenes más elevados para el estado fundamental del sistema, sin evaluar sumas infinitas. Ver ecuación 9.38 del libro. "
   ]
  },
  {
   "cell_type": "markdown",
   "metadata": {},
   "source": [
    "**Resolver el átomo de helio, considerando este método (sección 9.4), como mejor le parezca. **"
   ]
  },
  {
   "cell_type": "markdown",
   "metadata": {},
   "source": [
    "**Tarea 6. Revisar sección 9.7. **\n",
    "\n",
    "Inicialmente a mano, y sengunda instancia favor de intentar programar sección del problema, i.e. integral de Coulomb  e integral de intercambio."
   ]
  },
  {
   "cell_type": "markdown",
   "metadata": {},
   "source": [
    "## Siguiente: Segunda parte, Octubre\n",
    "Simetrías moleculares y Hartree-Fock"
   ]
  },
  {
   "cell_type": "code",
   "execution_count": null,
   "metadata": {
    "collapsed": true
   },
   "outputs": [],
   "source": []
  }
 ],
 "metadata": {
  "anaconda-cloud": {},
  "kernelspec": {
   "display_name": "Python [conda root]",
   "language": "python",
   "name": "conda-root-py"
  },
  "language_info": {
   "codemirror_mode": {
    "name": "ipython",
    "version": 3
   },
   "file_extension": ".py",
   "mimetype": "text/x-python",
   "name": "python",
   "nbconvert_exporter": "python",
   "pygments_lexer": "ipython3",
   "version": "3.5.2"
  }
 },
 "nbformat": 4,
 "nbformat_minor": 0
}
