{
 "cells": [
  {
   "cell_type": "markdown",
   "metadata": {},
   "source": [
    "## Teoría de perturbaciones"
   ]
  },
  {
   "cell_type": "markdown",
   "metadata": {},
   "source": [
    "Consiste en resolver un sistema perturbado(se conoce la solución al no perturbado), y donde el interés es conocer la contribución de la parte perturbada $H'$ al nuevo sistema total. "
   ]
  },
  {
   "cell_type": "markdown",
   "metadata": {},
   "source": [
    "$$ H = H^{0} + H'$$"
   ]
  },
  {
   "cell_type": "markdown",
   "metadata": {},
   "source": [
    "Para sistemas no degenerados, la corrección a la energía a primer orden se calcula como \n",
    "\n",
    "$$ E_{n}^{(1)} = \\int\\psi_{n}^{(0)*} H' \\psi_{n}^{(0)}d\\tau$$"
   ]
  },
  {
   "cell_type": "markdown",
   "metadata": {},
   "source": [
    "** Tarea 1 : Programar esta ecuación si conoces $H^{0}$ y sus soluciones. **"
   ]
  },
  {
   "cell_type": "code",
   "execution_count": 1,
   "metadata": {
    "collapsed": true
   },
   "outputs": [],
   "source": [
    "from sympy import *\n",
    "from sympy import init_printing; init_printing(use_latex = 'mathjax')\n"
   ]
  },
  {
   "cell_type": "code",
   "execution_count": 21,
   "metadata": {
    "collapsed": false
   },
   "outputs": [
    {
     "name": "stdout",
     "output_type": "stream",
     "text": [
      "Determinte el estado de la función(n)1\n",
      "Determine la perturbación:C*(x/L)\n"
     ]
    }
   ],
   "source": [
    "### Solución\n",
    "\n",
    "\n",
    "#para partícula en una caja\n",
    "\n",
    "var('x L')\n",
    "C, a, m, hbar = symbols ('C, a, m, hbar',positive = True, real = True )\n",
    "n = int(input('Determinte el estado de la función(n)'))\n",
    "\n",
    "#Estado n = 1\n",
    "\n",
    "En = (n**2*hbar**2*pi**2)/(2*m*L**2)\n",
    "psi = sqrt(2/L)*sin(n*pi*x/L)\n",
    "\n",
    "Hp = str(input('Determine la perturbación:'))\n",
    "\n",
    "Hp = sympify(Hp)\n",
    "\n",
    "# perturbación es V(x) = C*(x/L)\n",
    "\n",
    "En1 = Integral((psi**2)*Hp, (x,0,L)).doit()\n",
    "\n",
    "Entotal = simplify(En1+En)\n"
   ]
  },
  {
   "cell_type": "code",
   "execution_count": 22,
   "metadata": {
    "collapsed": false
   },
   "outputs": [
    {
     "data": {
      "text/latex": [
       "$$\\frac{C}{2} + \\frac{\\pi^{2} \\hbar^{2}}{2 L^{2} m}$$"
      ],
      "text/plain": [
       "     2   2\n",
       "C   π ⋅h̅ \n",
       "─ + ──────\n",
       "2      2  \n",
       "    2⋅L ⋅m"
      ]
     },
     "execution_count": 22,
     "metadata": {},
     "output_type": "execute_result"
    }
   ],
   "source": [
    "Entotal"
   ]
  },
  {
   "cell_type": "code",
   "execution_count": 30,
   "metadata": {
    "collapsed": false
   },
   "outputs": [
    {
     "name": "stdout",
     "output_type": "stream",
     "text": [
      "determinine el estado cuantico vibracional (v): 1\n",
      "Determine la perturbación:a*x**4\n"
     ]
    }
   ],
   "source": [
    "#Para osciliador anarmónico en estado 0\n",
    "var ('a v k omega m', positive = True, real = True )\n",
    "\n",
    "v = int(input('determinine el estado cuantico vibracional (v): '))\n",
    "#omega = 2*pi\n",
    "\n",
    "k = (omega**2)*m\n",
    "En = hbar*omega*(v+1/2)\n",
    "C = (k/(pi*hbar*omega))\n",
    "psi = C**(1/4)*exp((-k*x**2)/(2*hbar*omega ))\n",
    "\n",
    "#Determinamos la perturbación v(x) =a*x**4 \n",
    "Hp = str(input('Determine la perturbación:'))\n",
    "\n",
    "Hp = sympify(Hp)\n",
    "\n",
    "En1 = Integral((psi**2)*Hp, (x,-oo,oo)).doit()\n",
    "\n",
    "En1 = simplify(En1) \n",
    "\n",
    "#correción\n",
    "\n",
    "Entotal= simplify(En+En1)\n"
   ]
  },
  {
   "cell_type": "code",
   "execution_count": 31,
   "metadata": {
    "collapsed": false
   },
   "outputs": [
    {
     "data": {
      "text/latex": [
       "$$\\frac{3 a \\hbar^{2.0}}{4 m^{2.0} \\omega^{2.0}}$$"
      ],
      "text/plain": [
       "      2.0  -2.0  -2.0\n",
       "3⋅a⋅h̅   ⋅m    ⋅ω    \n",
       "─────────────────────\n",
       "          4          "
      ]
     },
     "execution_count": 31,
     "metadata": {},
     "output_type": "execute_result"
    }
   ],
   "source": [
    "En1"
   ]
  },
  {
   "cell_type": "code",
   "execution_count": 32,
   "metadata": {
    "collapsed": false
   },
   "outputs": [
    {
     "data": {
      "text/latex": [
       "$$\\frac{3 a \\hbar^{2.0}}{4 m^{2.0} \\omega^{2.0}} + 1.5 \\hbar \\omega^{1.0}$$"
      ],
      "text/plain": [
       "      2.0  -2.0  -2.0              \n",
       "3⋅a⋅h̅   ⋅m    ⋅ω               1.0\n",
       "───────────────────── + 1.5⋅h̅⋅ω   \n",
       "          4                        "
      ]
     },
     "execution_count": 32,
     "metadata": {},
     "output_type": "execute_result"
    }
   ],
   "source": [
    "Entotal"
   ]
  },
  {
   "cell_type": "markdown",
   "metadata": {},
   "source": [
    "Y la corrección a la función de onda, también a primer orden, se obtiene como:\n",
    "\n",
    " $$ \\psi_{n}^{(1)} = \\sum_{m\\neq n} \\frac{\\langle\\psi_{m}^{(0)} | H' | \\psi_{n}^{(0)} \\rangle}{E_{n}^{(0)} - E_{m}^{(0)}} \\psi_{m}^{(0)}$$"
   ]
  },
  {
   "cell_type": "markdown",
   "metadata": {},
   "source": [
    "**Tarea 2: Programar esta ecuación si conoces $H^{0}$ y sus soluciones. **"
   ]
  },
  {
   "cell_type": "code",
   "execution_count": 16,
   "metadata": {
    "collapsed": false
   },
   "outputs": [
    {
     "name": "stdout",
     "output_type": "stream",
     "text": [
      "Energy level for which we are going to calculate the corrected wavefunction: 0\n",
      "Highest energy level we are going to consider:10\n",
      "Angular frequency, 1 is suggested: 1\n",
      "Perturbation: x**3\n"
     ]
    },
    {
     "data": {
      "text/plain": [
       "<sympy.plotting.plot.Plot at 0x7bd3358>"
      ]
     },
     "execution_count": 16,
     "metadata": {},
     "output_type": "execute_result"
    }
   ],
   "source": [
    "### Solución\n",
    "from sympy.physics.qho_1d import psi_n\n",
    "from sympy.physics.qho_1d import E_n\n",
    "\n",
    "n, m, m_e, omega, hbar = symbols('n m m_e omega hbar', real = True, constant = True)\n",
    "var('x')\n",
    "\n",
    "m_e = 9.10938356e-31\n",
    "#Necesitamos seleccionar un nivel energético, sobre el cual realizar la corrección debida a la perturbación\n",
    "n = Abs(sympify(input('Energy level for which we are going to calculate the corrected wavefunction: ')))\n",
    "i= Abs(sympify(input('Highest energy level we are going to consider:')))\n",
    "omega = sympify(input('Angular frequency, 1 is suggested: '))\n",
    "#Unperturbed wavefunctions\n",
    "wavefuncn = psi_n(n, x, m_e, omega)\n",
    "\n",
    "#Energía previa a la perturbación\n",
    "E0 = E_n(n, omega)\n",
    "\n",
    "#Necesitamos definir un nuevo hamiltoniano. Este debe contener el original y agregar la perturbación\n",
    "\n",
    "H =  wavefuncn*sympify(input('Perturbation: '))\n",
    "\n",
    "#Energy of the unperturbed H.O. Hamiltonian\n",
    "E0 = E_n(n, omega)\n",
    "psicorr = 0\n",
    "\n",
    "for m in range(i):\n",
    "    if m !=n:\n",
    "        psim= psi_n(m, x, m_e, omega)\n",
    "        product = conjugate(psim)*H\n",
    "        innerproduct = integrate(product, (x,-oo,oo))\n",
    "        Em = E_n(m, omega)\n",
    "        corr = ((innerproduct)/(E0-Em))*psim\n",
    "        psicorr = psicorr + corr\n",
    "    \n",
    "    \n",
    "    else:\n",
    "        psicorr = psicorr\n",
    "        \n",
    "#here we perform the inner product integral\n",
    "innerproduct = conjugate(wavefuncn)*H                                  \n",
    "E = E0 + integrate(innerproduct, (x, -oo,oo))\n",
    "Err = (((E-E0)*100)/E0)\n",
    "\n",
    "psipert = wavefuncn + psicorr\n",
    "psipert.evalf()\n",
    "psiplot = conjugate(psipert)*psipert\n",
    "E\n",
    "plot(psiplot,(x,-0.1,0.1))"
   ]
  },
  {
   "cell_type": "markdown",
   "metadata": {},
   "source": [
    "**Tarea 3: Investigue las soluciones a segundo orden y también programe las soluciones. **"
   ]
  },
  {
   "cell_type": "code",
   "execution_count": 18,
   "metadata": {
    "collapsed": false
   },
   "outputs": [
    {
     "name": "stdout",
     "output_type": "stream",
     "text": [
      "Energy level for which we are going to calculate the energy correction: 0\n",
      "Highest energy level we are going to consider for our calculations:10\n",
      "Angular frequency, 1 is suggested: 1\n",
      "Perturbation: x**3\n"
     ]
    },
    {
     "data": {
      "text/plain": [
       "<sympy.plotting.plot.Plot at 0xaa03d68>"
      ]
     },
     "execution_count": 18,
     "metadata": {},
     "output_type": "execute_result"
    }
   ],
   "source": [
    "### Solución\n",
    "from sympy.physics.qho_1d import psi_n\n",
    "from sympy.physics.qho_1d import E_n\n",
    "n, m, m_e, omega, hbar = symbols('n m m_e omega hbar', real = True, constant = True)\n",
    "var('x')\n",
    "\n",
    "m_e = 9.10938356e-31\n",
    "#Necesitamos seleccionar un nivel energético, sobre el cual realizar la corrección debida a la perturbación\n",
    "n = Abs(sympify(input('Energy level for which we are going to calculate the energy correction: ')))\n",
    "i= Abs(sympify(input('Highest energy level we are going to consider for our calculations:')))\n",
    "omega = sympify(input('Angular frequency, 1 is suggested: '))\n",
    "#Unperturbed wavefunctions\n",
    "wavefuncn = psi_n(n, x, m_e, omega)\n",
    "\n",
    "#Energía previa a la perturbación\n",
    "E0 = E_n(n, omega)\n",
    "\n",
    "#Necesitamos definir un nuevo hamiltoniano. Este debe contener el original y agregar la perturbación\n",
    "\n",
    "H =  wavefuncn*sympify(input('Perturbation: '))\n",
    "\n",
    "integrandoprimerorden = conjugate(wavefuncn)*H\n",
    "primerorden = integrate (integrandoprimerorden, (x,-oo,oo))\n",
    "#Energy of the unperturbed H.O. Hamiltonian\n",
    "E0 = E_n(n, omega)\n",
    "Ecorr = 0\n",
    "\n",
    "#La primera parte de la corrección a 2º orden es la de primer orden\n",
    "\n",
    "\n",
    "for m in range(i):\n",
    "    if m !=n:\n",
    "        psim= psi_n(m, x, m_e, omega)\n",
    "        product = conjugate(psim)*H\n",
    "        innerproduct = integrate(product, (x,-oo,oo))\n",
    "        Em = E_n(m, omega)\n",
    "        corr = ((innerproduct)**2/(E0-Em))\n",
    "        Ecorr = Ecorr + corr\n",
    "    \n",
    "    \n",
    "    else:\n",
    "        Ecorr = Ecorr\n",
    "        \n",
    "#here we perform the inner product integral\n",
    "innerproduct = conjugate(wavefuncn)*H                                  \n",
    "E = E0 + integrate(innerproduct, (x, -oo,oo))\n",
    "Err = (((E-E0)*100)/E0)\n",
    "\n",
    "psipert = wavefuncn + psicorr\n",
    "psiplot = conjugate(psipert)*psipert\n",
    "\n",
    "\n",
    "E = E0 + primerorden + Ecorr\n",
    "\n",
    "E\n",
    "plot(psiplot,(x,-0.1,0.1))\n",
    "\n"
   ]
  },
  {
   "cell_type": "markdown",
   "metadata": {},
   "source": [
    "**Tarea 4.  Resolver el átomo de helio aplicando los programas anteriores.** "
   ]
  },
  {
   "cell_type": "code",
   "execution_count": null,
   "metadata": {
    "collapsed": true
   },
   "outputs": [],
   "source": []
  },
  {
   "cell_type": "markdown",
   "metadata": {},
   "source": [
    "**Tarea 5: Método variacional-perturbativo. **"
   ]
  },
  {
   "cell_type": "markdown",
   "metadata": {},
   "source": [
    "Este método nos permite estimar de forma precisa $E^{(2)}$ y correcciones perturbativas de la energía de órdenes más elevados para el estado fundamental del sistema, sin evaluar sumas infinitas. Ver ecuación 9.38 del libro. "
   ]
  },
  {
   "cell_type": "markdown",
   "metadata": {},
   "source": [
    "**Resolver el átomo de helio, considerando este método (sección 9.4), como mejor le parezca. **"
   ]
  },
  {
   "cell_type": "markdown",
   "metadata": {},
   "source": [
    "**Tarea 6. Revisar sección 9.7. **\n",
    "\n",
    "Inicialmente a mano, y sengunda instancia favor de intentar programar sección del problema, i.e. integral de Coulomb  e integral de intercambio."
   ]
  },
  {
   "cell_type": "markdown",
   "metadata": {},
   "source": [
    "## Siguiente: Segunda parte, Octubre\n",
    "Simetrías moleculares y Hartree-Fock"
   ]
  },
  {
   "cell_type": "code",
   "execution_count": null,
   "metadata": {
    "collapsed": true
   },
   "outputs": [],
   "source": []
  }
 ],
 "metadata": {
  "anaconda-cloud": {},
  "kernelspec": {
   "display_name": "Python [Root]",
   "language": "python",
   "name": "Python [Root]"
  },
  "language_info": {
   "codemirror_mode": {
    "name": "ipython",
    "version": 3
   },
   "file_extension": ".py",
   "mimetype": "text/x-python",
   "name": "python",
   "nbconvert_exporter": "python",
   "pygments_lexer": "ipython3",
   "version": "3.5.2"
  }
 },
 "nbformat": 4,
 "nbformat_minor": 0
}
