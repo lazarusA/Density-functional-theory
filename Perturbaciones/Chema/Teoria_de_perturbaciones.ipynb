{
 "cells": [
  {
   "cell_type": "code",
   "execution_count": 150,
   "metadata": {
    "collapsed": false
   },
   "outputs": [],
   "source": [
    "# Método para resolver las energías y eigenfunciones de un sistema cuántico numéricamente por Teoría de Pertubaciones\n",
    "# Modelado Molecular 2\n",
    "# By: José Manuel Casillas Martín     22-oct-2017\n",
    "import numpy as np\n",
    "from sympy import *\n",
    "from sympy.physics.qho_1d import E_n, psi_n\n",
    "from sympy.physics.hydrogen import E_nl, R_nl\n",
    "from sympy import init_printing; init_printing(use_latex = 'mathjax')\n",
    "from scipy import integrate\n",
    "from scipy.constants import hbar, m_e, m_p, e\n",
    "from mpmath import spherharm\n",
    "from numpy import inf, array\n",
    "import numpy as np\n",
    "import matplotlib.pyplot as plt \n",
    "import traitlets\n",
    "from IPython.display import display\n",
    "from ipywidgets import Layout, Box, Text, Dropdown, Label, IntRangeSlider, IntSlider, RadioButtons"
   ]
  },
  {
   "cell_type": "markdown",
   "metadata": {},
   "source": [
    "<h1><center>Teoría de Perturbaciones</center></h1>"
   ]
  },
  {
   "cell_type": "markdown",
   "metadata": {},
   "source": [
    "Consiste en resolver un sistema perturbado(se conoce la solución al no perturbado), y donde el interés es conocer la contribución de la parte perturbada $H'$ al nuevo sistema total. "
   ]
  },
  {
   "cell_type": "markdown",
   "metadata": {},
   "source": [
    "$$ H = H^{0}+H'$$"
   ]
  },
  {
   "cell_type": "markdown",
   "metadata": {},
   "source": [
    "La resolución adecuada del problema, depende en gran parte, de una correcta elección de $H'$."
   ]
  },
  {
   "cell_type": "code",
   "execution_count": 151,
   "metadata": {
    "collapsed": false
   },
   "outputs": [],
   "source": [
    "form_item_layout = Layout(display='flex',flex_flow='row',justify_content='space-between')\n",
    "\n",
    "PType=Dropdown(options=['Particle in a one-dimensional box', 'Harmonic oscilator', 'Hydrogen atom (Helium correction)'])\n",
    "Pert=Text()\n",
    "Rang=IntRangeSlider(min=0, max=20, step=1, disabled=False, continuous_update=False, orientation='horizontal',\\\n",
    "                    readout=True, readout_format='d')\n",
    "M=Text()\n",
    "Correc=Dropdown(options=['1', '2'])\n",
    "hbarra=Dropdown(options=[1, 1.0545718e-34])\n",
    "\n",
    "form_items = [\n",
    "    Box([Label(value='Problem'),PType], layout=form_item_layout),\n",
    "    Box([Label(value='Perturbation'),Pert], layout=form_item_layout),\n",
    "    Box([Label(value='Correction order'),Correc], layout=form_item_layout),\n",
    "    Box([Label(value='n Range'),Rang], layout=form_item_layout),\n",
    "    Box([Label(value='Mass'),M], layout=form_item_layout),\n",
    "    Box([Label(value='Hbar'),hbarra], layout=form_item_layout),]\n",
    "\n",
    "form = Box(form_items, layout=Layout(display='flex',flex_flow='column',border='solid 2px',align_items='stretch',width='40%'))\n",
    "form"
   ]
  },
  {
   "cell_type": "markdown",
   "metadata": {},
   "source": [
    "En esta caja interactiva llena los datos del problema que deseas resolver."
   ]
  },
  {
   "cell_type": "markdown",
   "metadata": {},
   "source": [
    "# Nota 1:\n",
    "Es recomendable usar unidades atómicas de Hartree para eficientar los cálculos. 1 u.a. (energía)= 27.211eV."
   ]
  },
  {
   "cell_type": "markdown",
   "metadata": {},
   "source": [
    "# Nota 2:\n",
    "Para la partícula en una caja unidimensional es recomendable que n sea mayor o igual a 1."
   ]
  },
  {
   "cell_type": "markdown",
   "metadata": {},
   "source": [
    "## Nota 3:\n",
    "Para la correción a la energía del átomo de Helio sólo es necesario seleccionar el problema, automáticamente se calcula la correción a primer orden y no se corrigen las funciones de onda."
   ]
  },
  {
   "cell_type": "code",
   "execution_count": 175,
   "metadata": {
    "collapsed": false
   },
   "outputs": [],
   "source": [
    "Problem=PType.value\n",
    "form_item_layout = Layout(display='flex',flex_flow='row',justify_content='space-between')\n",
    "\n",
    "L=Text()\n",
    "W=Text()\n",
    "atomic_number=RadioButtons(options=['1 (Show Hydrogen energies)','2 (Correct Helium first energy)'],disabled=False)\n",
    "\n",
    "if Problem=='Particle in a one-dimensional box':\n",
    "    form_items = [Box([Label(value='Large of box'),L], layout=form_item_layout)]\n",
    "\n",
    "if Problem=='Harmonic oscilator':\n",
    "    form_items = [Box([Label(value='Angular Fr'),W], layout=form_item_layout)]\n",
    "\n",
    "if Problem=='Hydrogen atom (Helium correction)':\n",
    "    form_items = [Box([Label(value='Atomic number'),atomic_number], layout=form_item_layout)]\n",
    "\n",
    "form = Box(form_items, layout=Layout(display='flex',flex_flow='column',border='solid 2px',align_items='stretch',width='40%'))\n",
    "form"
   ]
  },
  {
   "cell_type": "code",
   "execution_count": null,
   "metadata": {
    "collapsed": true
   },
   "outputs": [],
   "source": []
  },
  {
   "cell_type": "code",
   "execution_count": 216,
   "metadata": {
    "collapsed": false
   },
   "outputs": [],
   "source": [
    "# Variables que se utilizarán\n",
    "# x=variable de integracion, l=largo del pozo, m=masa del electrón, w=frecuencia angular\n",
    "# n=número cuántico principal, Z=Número atómico, q=número cuántico angular(l)\n",
    "var('x theta phi')\n",
    "var('r1 r2', real=True)\n",
    "var('l m hbar w n Z', positive=True, real=True)\n",
    "\n",
    "# Perturbación\n",
    "if Pert.value!='':\n",
    "    H_p=sympify(Pert.value)\n",
    "    h_p=eval(Pert.value)\n",
    "else:\n",
    "    H_p=0\n",
    "    h_p=0\n",
    "\n",
    "# Constantes\n",
    "h=hbarra.value\n",
    "a0=5.2917721067e-11\n",
    "if M.value!='':\n",
    "    mass=float(eval(M.value))\n",
    "else:\n",
    "    mass=1\n",
    "\n",
    "# Energías y funciones que se desea corregir\n",
    "n_inf=min(Rang.value)\n",
    "n_sup=max(Rang.value)\n",
    "    \n",
    "if Problem=='Particle in a one-dimensional box':\n",
    "    if L.value=='':\n",
    "        large=1\n",
    "    else:\n",
    "        large=float(eval(L.value))\n",
    "    omega=0\n",
    "    # Energías del pozo de potencial infinito\n",
    "    k=n*pi/l\n",
    "    En=hbar**2*k**2/(2*m)\n",
    "        \n",
    "    # Funciones de onda del pozo de potencial infinito\n",
    "    Psin=sqrt(2/l)*sin(n*pi*x/l)\n",
    "    \n",
    "    # Límites del pozo definido de 0 a l para sympy\n",
    "    li_sympy=0\n",
    "    ls_sympy=l\n",
    "    # Mismo limites para scipy\n",
    "    li_scipy=0\n",
    "    ls_scipy=large\n",
    "\n",
    "if Problem=='Harmonic oscilator':\n",
    "    large=0\n",
    "    if W.value=='':\n",
    "        omega=1\n",
    "    else:\n",
    "        omega=float(eval(W.value))\n",
    "    # Energías del oscilador armónico cuántico\n",
    "    En=E_n(n,w)\n",
    "    \n",
    "    # Funciones de onda del oscilador armónico cuántico\n",
    "    Psin=psi_n(n,x,m,w)\n",
    "\n",
    "     # Límites del pozo definido de -oo a oo para sympy\n",
    "    li_sympy=-oo\n",
    "    ls_sympy=oo\n",
    "    # Límites del pozo definido de -oo a oo para scipy\n",
    "    li_scipy=-inf\n",
    "    ls_scipy=inf\n",
    "        \n",
    "if Problem=='Hydrogen atom (Helium correction)':\n",
    "    if atomic_number.value=='1 (Show Hydrogen energies)':\n",
    "        z=1\n",
    "    if atomic_number.value=='2 (Correct Helium first energy)':\n",
    "        z=2\n",
    "    large=0\n",
    "    omega=0\n",
    "    \n",
    "    # Energías del átomo hidrogenoide\n",
    "    En=z*E_nl(n,z)\n",
    "    \n",
    "    # Funciones de onda del átomo de hidrógeno\n",
    "    # Número cuántico l=0\n",
    "    q=0 # La variable l ya esta siendo utilizada para el largo de la caja por ello se sustituyo por q\n",
    "    Psin=(R_nl(n,q,r1,z)*R_nl(n,q,r2,z))\n",
    "    \n",
    "     # Límites del átomo de hidrógeno de 0 a oo para sympy\n",
    "    li_sympy=0\n",
    "    ls_sympy=oo\n",
    "    # Límites del átomo de hidrógeno de 0 a oo para scipy\n",
    "    li_scipy=0\n",
    "    ls_scipy=inf"
   ]
  },
  {
   "cell_type": "markdown",
   "metadata": {},
   "source": [
    "Para sistemas no degenerados, la corrección a la energía a primer orden se calcula como \n",
    "\n",
    "$$ E_{n}^{(1)} = \\int\\psi_{n}^{(0)*} H' \\psi_{n}^{(0)}d\\tau$$"
   ]
  },
  {
   "cell_type": "markdown",
   "metadata": {},
   "source": [
    "** Tarea 1 : Programar esta ecuación si conoces $H^{0}$ y sus soluciones. **"
   ]
  },
  {
   "cell_type": "code",
   "execution_count": 217,
   "metadata": {
    "collapsed": true
   },
   "outputs": [],
   "source": [
    "def correcion_1st_order_Energy(E_n,Psi_n,H_p,li,ls):\n",
    "    E1_n=Integral(Psi_n*(H_p)*Psi_n,(x,li,ls)).doit()\n",
    "    return(E_n+E1_n)"
   ]
  },
  {
   "cell_type": "code",
   "execution_count": 218,
   "metadata": {
    "collapsed": false
   },
   "outputs": [],
   "source": [
    "# Correción de la energía a primer orden\n",
    "E=[]\n",
    "Eev=[]\n",
    "Ec1=[]\n",
    "if Problem=='Particle in a one-dimensional box' or Problem=='Harmonic oscilator':\n",
    "    for i in range(n_inf,n_sup+1):\n",
    "        E.append(En.subs({n:i}))\n",
    "        Eev.append(E[i-n_inf].subs({m:mass, l:large, hbar:h}).evalf())\n",
    "        Ec1.append(correcion_1st_order_Energy(En.subs({n:i}),Psin.subs({n:i}),H_p,li_sympy,ls_sympy))\n",
    "if Problem=='Hydrogen atom (Helium correction)':\n",
    "    for i in range(n_inf,n_sup+1):\n",
    "        E.append(En.subs({n:i}))\n",
    "        Eev.append(E[i-n_inf])\n",
    "    if z==2:\n",
    "        integral_1=Integral(Integral((16*z**6*r1*r2**2*exp(-2*z*(r1+r2))),(r2,0,r1)),(r1,0,oo)).doit()\n",
    "        integral_2=Integral(Integral((16*z**6*r1**2*r2*exp(-2*z*(r1+r2))),(r2,r1,oo)),(r1,0,oo)).doit()\n",
    "        integral_total=(integral_1+integral_2)\n",
    "        Ec1.append(E[0]+integral_total)"
   ]
  },
  {
   "cell_type": "markdown",
   "metadata": {},
   "source": [
    "Y la corrección a la función de onda, también a primer orden, se obtiene como:\n",
    "\n",
    " $$ \\psi_{n}^{(1)} = \\sum_{m\\neq n} \\frac{\\langle\\psi_{m}^{(0)} | H' | \\psi_{n}^{(0)} \\rangle}{E_{n}^{(0)} - E_{m}^{(0)}} \\psi_{m}^{(0)}$$"
   ]
  },
  {
   "cell_type": "markdown",
   "metadata": {},
   "source": [
    "**Tarea 2: Programar esta ecuación si conoces $H^{0}$ y sus soluciones. **"
   ]
  },
  {
   "cell_type": "code",
   "execution_count": 219,
   "metadata": {
    "collapsed": false
   },
   "outputs": [],
   "source": [
    "# Correción de las funciones a primer orden\n",
    "if Pert.value!='':\n",
    "    if Problem=='Particle in a one-dimensional box' or Problem=='Harmonic oscilator':\n",
    "        Psi_c=[]\n",
    "        integrals=np.zeros((n_sup+1,n_sup+1))\n",
    "        for i in range(n_inf,n_sup+1):\n",
    "            a=0\n",
    "            for j in range(n_inf,n_sup+1):\n",
    "                if i!=j:\n",
    "                    integ= lambda x: eval(str(Psin.subs({n:j})*(h_p)*Psin.subs({n:i}))).subs({m:mass,l:large,w:omega,hbar:h})\n",
    "                    integrals[i,j]=integrate.quad(integ,li_scipy,ls_scipy)[0]\n",
    "                    cte=integrals[i,j]/(En.subs({n:i,m:mass,l:large})-En.subs({n:j,m:mass,l:large})).evalf()\n",
    "                    a=a+cte*Psin.subs({n:j})\n",
    "            Psi_c.append(Psin.subs({n:i})+a)     "
   ]
  },
  {
   "cell_type": "markdown",
   "metadata": {},
   "source": [
    "**Tarea 3: Investigue las soluciones a segundo orden y también programe las soluciones. **"
   ]
  },
  {
   "cell_type": "markdown",
   "metadata": {},
   "source": [
    "Y la corrección a la energía a segundo orden, se obtiene como:\n",
    "\n",
    " $$  E_{n}^{(2)} = \\sum_{m\\neq n} \\frac{|\\langle\\psi_{m}^{(0)} | H' | \\psi_{n}^{(0)} \\rangle|^{2}}{E_{n}^{(0)} - E_{m}^{(0)}} $$"
   ]
  },
  {
   "cell_type": "code",
   "execution_count": 220,
   "metadata": {
    "collapsed": false
   },
   "outputs": [],
   "source": [
    "# Correción a la energía a segundo orden\n",
    "if Pert.value!='':\n",
    "    if Problem=='Particle in a one-dimensional box' or Problem=='Harmonic oscilator':\n",
    "        if Correc.value=='2':\n",
    "            Ec2=[]\n",
    "            for i in range(n_inf,n_sup+1):\n",
    "                a=0\n",
    "                for j in range(n_inf,n_sup+1):\n",
    "                    if i!=j:\n",
    "                        cte=((integrals[i,j])**2)/(En.subs({n:i,m:mass,l:large,hbar:h})-En.subs({n:j,m:mass,l:large,hbar:h})).evalf()\n",
    "                        a=a+cte\n",
    "                Ec2.append(Ec1[i-n_inf]+a) "
   ]
  },
  {
   "cell_type": "markdown",
   "metadata": {},
   "source": [
    "**A continuación se muestran algunos de los resultados al problema resuelto**"
   ]
  },
  {
   "cell_type": "markdown",
   "metadata": {},
   "source": [
    "Las energías sin perturbación son:"
   ]
  },
  {
   "cell_type": "code",
   "execution_count": 221,
   "metadata": {
    "collapsed": false
   },
   "outputs": [
    {
     "data": {
      "text/latex": [
       "$$\\left [ \\frac{\\pi^{2} \\hbar^{2}}{2 l^{2} m}, \\quad \\frac{2 \\pi^{2} \\hbar^{2}}{l^{2} m}, \\quad \\frac{9 \\pi^{2} \\hbar^{2}}{2 l^{2} m}\\right ]$$"
      ],
      "text/plain": [
       "⎡ 2   2     2   2     2   2⎤\n",
       "⎢π ⋅h̅   2⋅π ⋅h̅   9⋅π ⋅h̅ ⎥\n",
       "⎢──────, ────────, ────────⎥\n",
       "⎢   2       2          2   ⎥\n",
       "⎣2⋅l ⋅m    l ⋅m     2⋅l ⋅m ⎦"
      ]
     },
     "execution_count": 221,
     "metadata": {},
     "output_type": "execute_result"
    }
   ],
   "source": [
    "E"
   ]
  },
  {
   "cell_type": "markdown",
   "metadata": {},
   "source": [
    "La correción a primer orden de las energías son:"
   ]
  },
  {
   "cell_type": "code",
   "execution_count": 222,
   "metadata": {
    "collapsed": false
   },
   "outputs": [
    {
     "data": {
      "text/latex": [
       "$$\\left [ \\frac{\\pi^{2} \\hbar^{2}}{2 l^{2} m} + \\frac{1}{l} \\left(- \\frac{5 l^{3}}{\\pi^{2}} + \\frac{10 l^{3}}{3} - 5 l l^{2} + \\frac{5 l}{2} l^{2}\\right), \\quad \\frac{2 \\pi^{2} \\hbar^{2}}{l^{2} m} - \\frac{5 l l}{4 \\pi^{2}} + \\frac{1}{l} \\left(- \\frac{5 l^{3}}{4 \\pi^{2}} + \\frac{10 l^{3}}{3} - 5 l l^{2} + \\frac{5 l l^{2}}{4 \\pi^{2}} + \\frac{5 l}{2} l^{2}\\right), \\quad \\frac{9 \\pi^{2} \\hbar^{2}}{2 l^{2} m} + \\frac{1}{l} \\left(- \\frac{5 l^{3}}{9 \\pi^{2}} + \\frac{10 l^{3}}{3} - 5 l l^{2} + \\frac{5 l}{2} l^{2}\\right)\\right ]$$"
      ],
      "text/plain": [
       "⎡            ⎛    3     3      2      2⎞                        ⎛     3     3 \n",
       "⎢            ⎜   l     l    l⋅l    l⋅l ⎟                        ⎜    l     l  \n",
       "⎢         20⋅⎜- ──── + ── - ──── + ────⎟                     20⋅⎜- ───── + ── \n",
       "⎢ 2   2      ⎜     2   6     4      8  ⎟     2   2              ⎜      2   6  \n",
       "⎢π ⋅h̅       ⎝  4⋅π                    ⎠  2⋅π ⋅h̅    5⋅l⋅l      ⎝  16⋅π       \n",
       "⎢────── + ──────────────────────────────, ──────── - ───── + ─────────────────\n",
       "⎢   2                   l                    2           2                    \n",
       "⎣2⋅l ⋅m                                     l ⋅m      4⋅π                     \n",
       "\n",
       "     2       2      2⎞                ⎛     3     3      2      2⎞⎤\n",
       "  l⋅l     l⋅l    l⋅l ⎟                ⎜    l     l    l⋅l    l⋅l ⎟⎥\n",
       "- ──── + ───── + ────⎟             20⋅⎜- ───── + ── - ──── + ────⎟⎥\n",
       "   4         2    8  ⎟     2   2      ⎜      2   6     4      8  ⎟⎥\n",
       "         16⋅π        ⎠  9⋅π ⋅h̅       ⎝  36⋅π                    ⎠⎥\n",
       "──────────────────────, ──────── + ───────────────────────────────⎥\n",
       "  l                         2                     l               ⎥\n",
       "                         2⋅l ⋅m                                   ⎦"
      ]
     },
     "execution_count": 222,
     "metadata": {},
     "output_type": "execute_result"
    }
   ],
   "source": [
    "Ec1"
   ]
  },
  {
   "cell_type": "markdown",
   "metadata": {},
   "source": [
    "Si seleccionaste en los parámetros iniciales una correción a segundo orden entonces..."
   ]
  },
  {
   "cell_type": "markdown",
   "metadata": {},
   "source": [
    "Las correciones a la energía a segundo orden son:"
   ]
  },
  {
   "cell_type": "code",
   "execution_count": 223,
   "metadata": {
    "collapsed": false
   },
   "outputs": [
    {
     "data": {
      "text/latex": [
       "$$\\left [ \\frac{\\pi^{2} \\hbar^{2}}{2 l^{2} m} - 0.00365681767955573 + \\frac{1}{l} \\left(- \\frac{5 l^{3}}{\\pi^{2}} + \\frac{10 l^{3}}{3} - 5 l l^{2} + \\frac{5 l}{2} l^{2}\\right), \\quad \\frac{2 \\pi^{2} \\hbar^{2}}{l^{2} m} - \\frac{5 l l}{4 \\pi^{2}} - 4.42245128165018 \\cdot 10^{-34} + \\frac{1}{l} \\left(- \\frac{5 l^{3}}{4 \\pi^{2}} + \\frac{10 l^{3}}{3} - 5 l l^{2} + \\frac{5 l l^{2}}{4 \\pi^{2}} + \\frac{5 l}{2} l^{2}\\right), \\quad \\frac{9 \\pi^{2} \\hbar^{2}}{2 l^{2} m} + 0.00365681767955573 + \\frac{1}{l} \\left(- \\frac{5 l^{3}}{9 \\pi^{2}} + \\frac{10 l^{3}}{3} - 5 l l^{2} + \\frac{5 l}{2} l^{2}\\right)\\right ]$$"
      ],
      "text/plain": [
       "⎡                                  ⎛    3     3      2      2⎞                \n",
       "⎢                                  ⎜   l     l    l⋅l    l⋅l ⎟                \n",
       "⎢                               20⋅⎜- ──── + ── - ──── + ────⎟                \n",
       "⎢ 2   2                            ⎜     2   6     4      8  ⎟     2   2      \n",
       "⎢π ⋅h̅                             ⎝  4⋅π                    ⎠  2⋅π ⋅h̅    5⋅l\n",
       "⎢────── - 0.00365681767955573 + ──────────────────────────────, ──────── - ───\n",
       "⎢   2                                         l                    2          \n",
       "⎣2⋅l ⋅m                                                           l ⋅m      4⋅\n",
       "\n",
       "                               ⎛     3     3      2       2      2⎞           \n",
       "                               ⎜    l     l    l⋅l     l⋅l    l⋅l ⎟           \n",
       "                            20⋅⎜- ───── + ── - ──── + ───── + ────⎟           \n",
       "                               ⎜      2   6     4         2    8  ⎟     2   2 \n",
       "⋅l                             ⎝  16⋅π                16⋅π        ⎠  9⋅π ⋅h̅  \n",
       "── - 4.42245128165018e-34 + ───────────────────────────────────────, ──────── \n",
       " 2                                             l                         2    \n",
       "π                                                                     2⋅l ⋅m  \n",
       "\n",
       "                           ⎛     3     3      2      2⎞⎤\n",
       "                           ⎜    l     l    l⋅l    l⋅l ⎟⎥\n",
       "                        20⋅⎜- ───── + ── - ──── + ────⎟⎥\n",
       "                           ⎜      2   6     4      8  ⎟⎥\n",
       "                           ⎝  36⋅π                    ⎠⎥\n",
       "+ 0.00365681767955573 + ───────────────────────────────⎥\n",
       "                                       l               ⎥\n",
       "                                                       ⎦"
      ]
     },
     "execution_count": 223,
     "metadata": {},
     "output_type": "execute_result"
    }
   ],
   "source": [
    "Ec2"
   ]
  },
  {
   "cell_type": "markdown",
   "metadata": {},
   "source": [
    "Ahora vamos con la función de onda $(\\psi)$"
   ]
  },
  {
   "cell_type": "code",
   "execution_count": 224,
   "metadata": {
    "collapsed": false
   },
   "outputs": [],
   "source": [
    "form_item_layout = Layout(\n",
    "    display='flex',\n",
    "    flex_flow='row',\n",
    "    justify_content='space-between')\n",
    "\n",
    "Graph=IntSlider(min=n_inf, max=n_sup, step=1, disabled=False, continuous_update=False, orientation='horizontal',\\\n",
    "                readout=True, readout_format='d')\n",
    "\n",
    "form_items = [\n",
    "    Box([Label(value='What function do you want to see?'),\n",
    "         Graph], layout=form_item_layout)]\n",
    "\n",
    "form = Box(form_items, layout=Layout(\n",
    "    display='flex',\n",
    "    flex_flow='column',\n",
    "    border='solid 2px',\n",
    "    align_items='stretch',\n",
    "    width='40%'))\n",
    "form"
   ]
  },
  {
   "cell_type": "markdown",
   "metadata": {},
   "source": [
    "La función de onda original es:"
   ]
  },
  {
   "cell_type": "code",
   "execution_count": 229,
   "metadata": {
    "collapsed": false
   },
   "outputs": [
    {
     "data": {
      "text/latex": [
       "$$\\frac{\\sqrt{2}}{\\sqrt{l}} \\sin{\\left (\\frac{2 \\pi}{l} x \\right )}$$"
      ],
      "text/plain": [
       "      ⎛2⋅π⋅x⎞\n",
       "√2⋅sin⎜─────⎟\n",
       "      ⎝  l  ⎠\n",
       "─────────────\n",
       "      √l     "
      ]
     },
     "execution_count": 229,
     "metadata": {},
     "output_type": "execute_result"
    }
   ],
   "source": [
    "Psin.subs({n:Graph.value})"
   ]
  },
  {
   "cell_type": "markdown",
   "metadata": {},
   "source": [
    "La correción a primer orden a la función de onda (utilizando todas las funciones en el rango seleccionado) es:"
   ]
  },
  {
   "cell_type": "code",
   "execution_count": 230,
   "metadata": {
    "collapsed": false
   },
   "outputs": [
    {
     "data": {
      "text/latex": [
       "$$\\frac{\\sqrt{2}}{\\sqrt{l}} \\sin{\\left (\\frac{2 \\pi}{l} x \\right )} + \\frac{1.11621501604059 \\cdot 10^{-18} \\sqrt{2}}{\\hbar^{2} \\sqrt{l}} \\sin{\\left (\\frac{\\pi x}{l} \\right )} - \\frac{4.321004688208 \\cdot 10^{-18} \\sqrt{2}}{\\hbar^{2} \\sqrt{l}} \\sin{\\left (\\frac{3 \\pi}{l} x \\right )}$$"
      ],
      "text/plain": [
       "      ⎛2⋅π⋅x⎞                              ⎛π⋅x⎞                            ⎛3\n",
       "√2⋅sin⎜─────⎟   1.11621501604059e-18⋅√2⋅sin⎜───⎟   4.321004688208e-18⋅√2⋅sin⎜─\n",
       "      ⎝  l  ⎠                              ⎝ l ⎠                            ⎝ \n",
       "───────────── + ──────────────────────────────── - ───────────────────────────\n",
       "      √l                       2                                  2           \n",
       "                             h̅ ⋅√l                             h̅ ⋅√l        \n",
       "\n",
       "⋅π⋅x⎞\n",
       "────⎟\n",
       " l  ⎠\n",
       "─────\n",
       "     \n",
       "     "
      ]
     },
     "execution_count": 230,
     "metadata": {},
     "output_type": "execute_result"
    }
   ],
   "source": [
    "Psi_c[Graph.value-n_inf]"
   ]
  },
  {
   "cell_type": "markdown",
   "metadata": {},
   "source": [
    "Vamos a graficarlas para verlas mejor..."
   ]
  },
  {
   "cell_type": "markdown",
   "metadata": {},
   "source": [
    "La función de onda original es:"
   ]
  },
  {
   "cell_type": "code",
   "execution_count": 231,
   "metadata": {
    "collapsed": false
   },
   "outputs": [
    {
     "data": {
      "image/png": "[encoded data removed]",
      "text/plain": [
       "<matplotlib.figure.Figure at 0x1dbde1a6f60>"
      ]
     },
     "metadata": {},
     "output_type": "display_data"
    }
   ],
   "source": [
    "if Problem=='Particle in a one-dimensional box':\n",
    "    plot(eval(str(Psin)).subs({n:Graph.value,m:mass,l:large,w:omega,hbar:h}),xlim=(li_scipy,ls_scipy),\\\n",
    "         title='$\\psi_{%d}$'%Graph.value)\n",
    "if Problem=='Harmonic oscilator':\n",
    "    plot(eval(str(Psin)).subs({n:Graph.value,m:mass,l:large,w:omega,hbar:h}),xlim=(-10*h/(mass*omega),10*h/(mass*omega)),\\\n",
    "         title='$\\psi_{%d}$'%Graph.value)\n",
    "if Problem=='Hydrogen atom (Helium correction)':\n",
    "    print('Densidad de probabilidad para un electrón')\n",
    "    plot(eval(str((4*pi*x**2*R_nl(Graph.value,q,x,z)**2))),xlim=(0,10),ylim=(0,20/Graph.value), title='$\\psi_{%ds}$'%Graph.value)\n",
    "    print('Tome en cuenta que debido a la dificultad para seleccionar los límites de la gráfica se muestran bien los primeros\\n\\\n",
    "3 estados. A partir de ahí visualizar la gráfica se complica.')"
   ]
  },
  {
   "cell_type": "markdown",
   "metadata": {},
   "source": [
    "La corrección a la función de onda es:"
   ]
  },
  {
   "cell_type": "code",
   "execution_count": 232,
   "metadata": {
    "collapsed": false
   },
   "outputs": [
    {
     "data": {
      "image/png": "[encoded data removed]",
      "text/plain": [
       "<matplotlib.figure.Figure at 0x1dbde869080>"
      ]
     },
     "metadata": {},
     "output_type": "display_data"
    }
   ],
   "source": [
    "if Problem=='Particle in a one-dimensional box':\n",
    "    if Pert.value!='':\n",
    "        plot(eval(str(Psi_c[Graph.value-n_inf])).subs({n:Graph.value,m:mass,l:large,w:omega,hbar:h}),\\\n",
    "             xlim=(li_scipy,ls_scipy),title='$\\psi_{%d}$'%Graph.value)\n",
    "    if Pert.value=='':\n",
    "        print('No se ingreso ninguna perturbación')\n",
    "if Problem=='Harmonic oscilator':\n",
    "    if Pert.value!='':\n",
    "        plot(eval(str(Psi_c[Graph.value-n_inf])).subs({n:Graph.value,m:mass,l:large,w:omega,hbar:h}),\\\n",
    "             xlim=(-10*h/(mass*omega),10*h/(mass*omega)),title='$\\psi_{%d}$' %Graph.value)\n",
    "    if Pert.value=='':\n",
    "        print('No se ingreso ninguna perturbación')\n",
    "if Problem=='Hydrogen atom (Helium correction)':\n",
    "    print('Este programa no corrige las fucniones de un átomo hidrogenoide')"
   ]
  },
  {
   "cell_type": "markdown",
   "metadata": {},
   "source": [
    "**Tarea 4.  Resolver el átomo de helio aplicando los programas anteriores.** "
   ]
  },
  {
   "cell_type": "markdown",
   "metadata": {},
   "source": [
    "Para el cálculo a las correciones del átomo de Helio se tomó en cuenta lo siguiente..."
   ]
  },
  {
   "cell_type": "markdown",
   "metadata": {},
   "source": [
    "La función de onda del átomo de Helio puede ser representada como:\n",
    "\n",
    "$$ \\psi_{nlm} = \\psi(r1)_{nlm} \\psi(r2)_{nlm}$$"
   ]
  },
  {
   "cell_type": "markdown",
   "metadata": {},
   "source": [
    "Donde, para el estado fundamental:\n",
    "\n",
    "$$ \\psi(r_{1}.r_{2})_{100} = \\frac{Z^{3}}{\\pi a_{0}^{3}} e^{\\frac{-Z}{a_{0}}(r_{1}+r_{2})}$$"
   ]
  },
  {
   "cell_type": "markdown",
   "metadata": {},
   "source": [
    "Y la perturbación sería el término de repulsión entre los dos electrones, es decir:\n",
    "\n",
    "$$ H'= \\frac{e^{2}}{r_{12}}=\\frac{e^{2}}{|r_{1}-r_{2}|}$$"
   ]
  },
  {
   "cell_type": "markdown",
   "metadata": {},
   "source": [
    "Finalmente la correción a primer orden de la energía sería:\n",
    "    \n",
    "$$ E^{(1)}= \\langle\\psi_{n}^{(0)} | H' | \\psi_{n}^{(0)} \\rangle =\\frac{Z^{6}e^{2}}{\\pi^{2} a_{0}^{6}} \\int_{0}^{2\\pi}\\int_{0}^{2\\pi}\\int_{0}^{\\pi}\\int_{0}^{\\pi}\\int_{0}^{\\infty}\\int_{0}^{\\infty} \\frac{e^{\\frac{-2Z}{a_{0}}(r_{1}+r_{2})}}{r_{12}} r_{1}^{2}r_{2}^{2}sen{\\theta_{1}}sen{\\theta_{2}} dr_{2} dr_{1} d\\theta_{2} d\\theta_{1} d\\phi_{2} d\\phi_{1}$$"
   ]
  },
  {
   "cell_type": "markdown",
   "metadata": {},
   "source": [
    "Se utiliza una expansión del termino de repulsión con los armónicos esféricos y se integra la parte angular. Una vez hecho eso, la integral queda expresada de la siguiente manera:"
   ]
  },
  {
   "cell_type": "markdown",
   "metadata": {},
   "source": [
    "$$ E^{(1)}= \\frac{16Z^{6}e^{2}}{a_{0}^{6}} \\left[\\int_{0}^{\\infty} r_{1}^{2} e^{\\frac{-2Z}{a_{0}}r_{1}} \\left(\\int_{0}^{r_{1}} \\frac{r_{2}^{2}}{r_{1}} e^{\\frac{-2Z}{a_{0}}r_{2}} dr_{2}+\\int_{r_{1}}^{\\infty}r_{2} e^{\\frac{-2Z}{a_{0}}r_{2}}dr_{2}\\right) dr_{1} \\right]$$"
   ]
  },
  {
   "cell_type": "markdown",
   "metadata": {},
   "source": [
    "Esta fue la integral que se programó para hacer la correción a la energía del Helio"
   ]
  },
  {
   "cell_type": "markdown",
   "metadata": {},
   "source": [
    "**Tarea 5: Método variacional-perturbativo. **"
   ]
  },
  {
   "cell_type": "markdown",
   "metadata": {},
   "source": [
    "Este método nos permite estimar de forma precisa $E^{(2)}$ y correcciones perturbativas de la energía de órdenes más elevados para el estado fundamental del sistema, sin evaluar sumas infinitas. Ver ecuación 9.38 del libro. "
   ]
  },
  {
   "cell_type": "markdown",
   "metadata": {
    "collapsed": true
   },
   "source": [
    "$$ \\langle u | H^{0} - E_{g}^{(0)} | u \\rangle + \\langle u | H' - E_{g}^{(1)} | \\psi_{g}^{(0)} \\rangle +\\langle\\psi_{g}^{(0)} | H' - E_{g}^{(1)} | u \\rangle \\geq E_{g}^{(2)} $$"
   ]
  },
  {
   "cell_type": "markdown",
   "metadata": {},
   "source": [
    "Donde:"
   ]
  },
  {
   "cell_type": "markdown",
   "metadata": {},
   "source": [
    "u, es cualquier función que se comporte bien y satisfaga condiciones de frontera."
   ]
  },
  {
   "cell_type": "markdown",
   "metadata": {},
   "source": [
    "Por lo general, u tiene un parámetro variacional que permite minimizar el lado izquierdo de la ecuación para estimar $E_{g}^{(2)} $. La función u resulta ser una aproximación a $\\psi_{g}^{(1)}$, por lo que se puede utilizar está misma función para estimar $E_{g}^{(3)}$ y seguir haciendo iteraciones para hacer correciones de orden superior tanto a la energía como a la función de onda."
   ]
  },
  {
   "cell_type": "markdown",
   "metadata": {},
   "source": [
    "Es necesario meter parámetros de optimización a las funciones de prueba para que tenga sentido intentar programar esto. Esto nos limita a usar Sympy para resolver la integral simbólicamente. Entonces, estamos limitados a las capacidades de esta librería para resolver las integrales y a la capacidad de nuestro procesador."
   ]
  },
  {
   "cell_type": "markdown",
   "metadata": {},
   "source": [
    "A continuación se muestra un código que, aprovechando los datos introducidos anteriormente, encuentra por medio del método variacional-perturbativo la correción a segundo orden de la energía y a primer orden de la función de onda."
   ]
  },
  {
   "cell_type": "code",
   "execution_count": 233,
   "metadata": {
    "collapsed": false
   },
   "outputs": [],
   "source": [
    "form_item_layout = Layout(display='flex',flex_flow='row',justify_content='space-between')\n",
    "\n",
    "F_prueba=Text()\n",
    "Ran_n=IntSlider(min=n_inf, max=n_sup, step=1, disabled=False, continuous_update=False, orientation='horizontal',\\\n",
    "                    readout=True, readout_format='d')\n",
    "Correcc=RadioButtons(options=[2],disabled=False)\n",
    "\n",
    "form_items = [\n",
    "    Box([Label(value='Test function'),F_prueba], layout=form_item_layout),\n",
    "    Box([Label(value='Correction order'),Correcc], layout=form_item_layout),\n",
    "    Box([Label(value='Function to correct'),Ran_n], layout=form_item_layout),]\n",
    "\n",
    "form = Box(form_items, layout=Layout(display='flex',flex_flow='column',border='solid 2px',align_items='stretch',width='40%'))\n",
    "form"
   ]
  },
  {
   "cell_type": "markdown",
   "metadata": {},
   "source": [
    "Para la función de prueba se espera que el usuario introduzca una función que sea cuadrado-integrable y que sea compatible en las fronteras con el tipo de problema que se esta solucionando. Además, puede intruducir una constante de optimización (utilice \"c\")"
   ]
  },
  {
   "cell_type": "code",
   "execution_count": 234,
   "metadata": {
    "collapsed": false
   },
   "outputs": [],
   "source": [
    "# Variables que se utilizarán\n",
    "# c y d=constantes de optimización\n",
    "var('c')#, real=True)\n",
    "\n",
    "u=eval(F_prueba.value)\n",
    "order=Correcc.value\n",
    "n_n=Ran_n.value\n",
    "\n",
    "if Problem=='Particle in a one-dimensional box':\n",
    "    V=0\n",
    "    \n",
    "if Problem=='Harmonic oscilator':\n",
    "    V=(m/2)*w**2*x**2\n",
    "    \n",
    "if Problem=='Particle in a one-dimensional box' or Problem=='Harmonic oscilator':\n",
    "    integrando_a=(u)*((-hbar**2)/(2*m)*diff(u,x,2))+(u)*V*(u)-(u)*En.subs({n:n_n})*(u)\n",
    "    integrando_b=(u)*h_p*(Psin.subs({n:n_n}))-(u)*(Ec1[n_n-n_inf]-En.subs({n:n_n}))*(Psin.subs({n:n_n}))\n",
    "    integral_a=Integral(eval(str(integrando_a)),(x,li_sympy,ls_sympy)).doit()\n",
    "    integral_b=Integral(eval(str(integrando_b)),(x,li_sympy,ls_sympy)).doit()\n",
    "    integral_T=integral_a+2*integral_b\n",
    "    f_opt=diff(integral_T,c,1)\n",
    "    c2=solve(f_opt,c)\n",
    "    E_c2=Ec1[n_n-n_inf]+integral_T.subs({c:c2[0]})\n",
    "    Psi_c1=(Psin.subs({n:n_n})+u.subs({c:c2[0]}))"
   ]
  },
  {
   "cell_type": "markdown",
   "metadata": {},
   "source": [
    "Se considero que para fines de esta tarea que:"
   ]
  },
  {
   "cell_type": "markdown",
   "metadata": {},
   "source": [
    " $$\\langle u | H' - E_{g}^{(1)} | \\psi_{g}^{(0)} \\rangle =\\langle\\psi_{g}^{(0)} | H' - E_{g}^{(1)} | u \\rangle$$"
   ]
  },
  {
   "cell_type": "markdown",
   "metadata": {},
   "source": [
    "Lo cual se cumple cuando $H'$ es una función sin operadores diferenciales, y además, u y $\\psi_{g}^{(0)}$ son funciones reales."
   ]
  },
  {
   "cell_type": "markdown",
   "metadata": {},
   "source": [
    "Las correciones a la energía son:"
   ]
  },
  {
   "cell_type": "code",
   "execution_count": 235,
   "metadata": {
    "collapsed": false
   },
   "outputs": [
    {
     "data": {
      "text/latex": [
       "$$\\frac{\\pi^{2} \\hbar^{2}}{2 l^{2} m}$$"
      ],
      "text/plain": [
       " 2   2\n",
       "π ⋅h̅ \n",
       "──────\n",
       "   2  \n",
       "2⋅l ⋅m"
      ]
     },
     "execution_count": 235,
     "metadata": {},
     "output_type": "execute_result"
    }
   ],
   "source": [
    "E[n_n-n_inf]"
   ]
  },
  {
   "cell_type": "code",
   "execution_count": 236,
   "metadata": {
    "collapsed": false
   },
   "outputs": [
    {
     "data": {
      "text/latex": [
       "$$\\frac{\\pi^{2} \\hbar^{2}}{2 l^{2} m} + \\frac{1}{l} \\left(- \\frac{5 l^{3}}{\\pi^{2}} + \\frac{10 l^{3}}{3} - 5 l l^{2} + \\frac{5 l}{2} l^{2}\\right)$$"
      ],
      "text/plain": [
       "            ⎛    3     3      2      2⎞\n",
       "            ⎜   l     l    l⋅l    l⋅l ⎟\n",
       "         20⋅⎜- ──── + ── - ──── + ────⎟\n",
       " 2   2      ⎜     2   6     4      8  ⎟\n",
       "π ⋅h̅       ⎝  4⋅π                    ⎠\n",
       "────── + ──────────────────────────────\n",
       "   2                   l               \n",
       "2⋅l ⋅m                                 "
      ]
     },
     "execution_count": 236,
     "metadata": {},
     "output_type": "execute_result"
    }
   ],
   "source": [
    "Ec1[n_n-n_inf]"
   ]
  },
  {
   "cell_type": "code",
   "execution_count": 237,
   "metadata": {
    "collapsed": false
   },
   "outputs": [
    {
     "data": {
      "text/latex": [
       "$$\\frac{\\pi^{2} \\hbar^{2}}{2 l^{2} m} - \\frac{l^{3}}{6 m} \\left(\\frac{3.05840621137506 l^{3}}{\\hbar^{2}} m^{2} + \\frac{1.52920310568753 \\pi^{2}}{\\hbar^{2}} l^{3} m^{2}\\right) + \\frac{1}{l} \\left(- \\frac{5 l^{3}}{\\pi^{2}} + \\frac{10 l^{3}}{3} - 5 l l^{2} + \\frac{5 l}{2} l^{2}\\right) + \\frac{0.764601552843765 m}{\\hbar^{2}} l^{6} + \\frac{0.22938046585313 m}{\\hbar^{2}} \\pi^{2} l^{6} - \\frac{24.7321904059267 l}{\\hbar^{2}} \\sqrt{2} m \\left(- \\frac{24 l^{5}}{\\pi^{5}} + \\frac{5 l^{5}}{2 \\pi^{3}}\\right) + \\frac{24.7321904059267 l}{\\hbar^{2}} \\sqrt{2} m \\left(- \\frac{5 l^{5}}{2 \\pi^{3}} + \\frac{24 l^{5}}{\\pi^{5}}\\right) + \\frac{197.857523247414 \\sqrt{2} l^{3.0} m}{\\pi^{3} \\hbar^{2}} \\left(- \\frac{l^{3}}{4 \\pi^{2}} + \\frac{l^{3}}{24}\\right)$$"
      ],
      "text/plain": [
       "            ⎛                  3  2                     2  3  2⎞      ⎛    3  \n",
       "          3 ⎜3.05840621137506⋅l ⋅m    1.52920310568753⋅π ⋅l ⋅m ⎟      ⎜   l   \n",
       "         l ⋅⎜────────────────────── + ─────────────────────────⎟   20⋅⎜- ──── \n",
       " 2   2      ⎜           2                          2           ⎟      ⎜     2 \n",
       "π ⋅h̅       ⎝         h̅                         h̅            ⎠      ⎝  4⋅π  \n",
       "────── - ─────────────────────────────────────────────────────── + ───────────\n",
       "   2                               6⋅m                                        \n",
       "2⋅l ⋅m                                                                        \n",
       "\n",
       "   3      2      2⎞                                                           \n",
       "  l    l⋅l    l⋅l ⎟                                                           \n",
       "+ ── - ──── + ────⎟                                                       24.7\n",
       "  6     4      8  ⎟                      6                       2  6         \n",
       "                  ⎠   0.764601552843765⋅l ⋅m   0.22938046585313⋅π ⋅l ⋅m       \n",
       "─────────────────── + ────────────────────── + ──────────────────────── - ────\n",
       "   l                             2                         2                  \n",
       "                               h̅                        h̅                   \n",
       "\n",
       "                    ⎛      5      5⎞                           ⎛     5       5\n",
       "                    ⎜  24⋅l    5⋅l ⎟                           ⎜  5⋅l    24⋅l \n",
       "321904059267⋅√2⋅l⋅m⋅⎜- ───── + ────⎟   24.7321904059267⋅√2⋅l⋅m⋅⎜- ──── + ─────\n",
       "                    ⎜     5       3⎟                           ⎜     3      5 \n",
       "                    ⎝    π     2⋅π ⎠                           ⎝  2⋅π      π  \n",
       "──────────────────────────────────── + ───────────────────────────────────────\n",
       "                2                                          2                  \n",
       "              h̅                                         h̅                   \n",
       "\n",
       "⎞                              ⎛    3     3⎞\n",
       "⎟                        3.0   ⎜   l     l ⎟\n",
       "⎟   197.857523247414⋅√2⋅l   ⋅m⋅⎜- ──── + ──⎟\n",
       "⎟                              ⎜     2   24⎟\n",
       "⎠                              ⎝  4⋅π      ⎠\n",
       "─ + ────────────────────────────────────────\n",
       "                      3   2                 \n",
       "                     π ⋅h̅                  "
      ]
     },
     "execution_count": 237,
     "metadata": {},
     "output_type": "execute_result"
    }
   ],
   "source": [
    "E_c2"
   ]
  },
  {
   "cell_type": "markdown",
   "metadata": {},
   "source": [
    "Las correción a la función de onda:"
   ]
  },
  {
   "cell_type": "code",
   "execution_count": 238,
   "metadata": {
    "collapsed": false
   },
   "outputs": [
    {
     "data": {
      "text/latex": [
       "$$\\frac{\\sqrt{2}}{\\sqrt{l}} \\sin{\\left (\\frac{\\pi x}{l} \\right )}$$"
      ],
      "text/plain": [
       "      ⎛π⋅x⎞\n",
       "√2⋅sin⎜───⎟\n",
       "      ⎝ l ⎠\n",
       "───────────\n",
       "     √l    "
      ]
     },
     "execution_count": 238,
     "metadata": {},
     "output_type": "execute_result"
    }
   ],
   "source": [
    "Psin.subs({n:n_n})"
   ]
  },
  {
   "cell_type": "code",
   "execution_count": 239,
   "metadata": {
    "collapsed": false
   },
   "outputs": [
    {
     "data": {
      "text/latex": [
       "$$\\frac{\\sqrt{2}}{\\sqrt{l}} \\sin{\\left (\\frac{\\pi x}{l} \\right )} - \\frac{1.23660952029633 x}{\\hbar^{2}} l^{\\frac{3}{2}} m \\left(l - x\\right)$$"
      ],
      "text/plain": [
       "      ⎛π⋅x⎞                                    \n",
       "√2⋅sin⎜───⎟                     3/2            \n",
       "      ⎝ l ⎠   1.23660952029633⋅l   ⋅m⋅x⋅(l - x)\n",
       "─────────── - ─────────────────────────────────\n",
       "     √l                        2               \n",
       "                             h̅                "
      ]
     },
     "execution_count": 239,
     "metadata": {},
     "output_type": "execute_result"
    }
   ],
   "source": [
    "Psi_c1"
   ]
  },
  {
   "cell_type": "markdown",
   "metadata": {},
   "source": [
    "Veamos ahora las gráficas de estas funciones..."
   ]
  },
  {
   "cell_type": "markdown",
   "metadata": {},
   "source": [
    "La función de onda original es:"
   ]
  },
  {
   "cell_type": "code",
   "execution_count": 240,
   "metadata": {
    "collapsed": false
   },
   "outputs": [
    {
     "data": {
      "image/png": "[encoded data removed]",
      "text/plain": [
       "<matplotlib.figure.Figure at 0x1dbdfd4a860>"
      ]
     },
     "metadata": {},
     "output_type": "display_data"
    }
   ],
   "source": [
    "if Problem=='Particle in a one-dimensional box':\n",
    "    plot(eval(str(Psin)).subs({n:n_n,m:mass,l:large,w:omega,hbar:h}),xlim=(li_scipy,ls_scipy),\\\n",
    "         title='$\\psi_{%d}$'%n_n)\n",
    "if Problem=='Harmonic oscilator':\n",
    "    plot(eval(str(Psin)).subs({n:n_n,m:mass,l:large,w:omega,hbar:h}),xlim=(-10*h/(mass*omega),10*h/(mass*omega)),\\\n",
    "         title='$\\psi_{%d}$'%n_n)"
   ]
  },
  {
   "cell_type": "markdown",
   "metadata": {},
   "source": [
    "Su correción por medio del método variacional-perturbativo es:"
   ]
  },
  {
   "cell_type": "code",
   "execution_count": 241,
   "metadata": {
    "collapsed": false
   },
   "outputs": [
    {
     "data": {
      "image/png": "[encoded data removed]",
      "text/plain": [
       "<matplotlib.figure.Figure at 0x1dbde586fd0>"
      ]
     },
     "metadata": {},
     "output_type": "display_data"
    }
   ],
   "source": [
    "if Problem=='Particle in a one-dimensional box':\n",
    "    if Pert.value!='':\n",
    "        plot(Psi_c1.subs({m:mass,l:large,w:omega,hbar:h}),\\\n",
    "             xlim=(li_scipy,ls_scipy),ylim=(-1.5,1.5),title='$\\psi_{%d}$'%n_n)\n",
    "    if Pert.value=='':\n",
    "        print('No se ingreso ninguna perturbación')\n",
    "if Problem=='Harmonic oscilator':\n",
    "    if Pert.value!='':\n",
    "        plot(Psi_c1.subs({m:mass,l:large,w:omega,hbar:h}),\\\n",
    "             xlim=(-10*h/(mass*omega),10*h/(mass*omega)),title='$\\psi_{%d}$' %n_n)"
   ]
  },
  {
   "cell_type": "markdown",
   "metadata": {},
   "source": [
    "**Tarea 6. Revisar sección 9.7. **\n",
    "\n",
    "Inicialmente a mano, y en segunda instancia favor de intentar programar sección del problema, i.e. integral de Coulomb  e integral de intercambio."
   ]
  },
  {
   "cell_type": "markdown",
   "metadata": {},
   "source": [
    "Para comenzar a solucionar este problema, es necesario ser capaz de escribir el termino de repulsión que aparece en la fuerza coulombiana ($\\frac {1} {r_{12} }$) en términos de los armónicos esféricos de la siguiente manera:"
   ]
  },
  {
   "cell_type": "markdown",
   "metadata": {},
   "source": [
    "$$ \\frac {1} {r_{12} } = \\sum_{l=0}^{\\infty} \\sum_{m=-l}^{l} \\frac{4\\pi}{2l+1} \\frac{r_{<}^{l}}{r_{>}^{l+1}}  \\left[Y_{l}^{m}(\\theta_{1},\\phi_{1})  \\right]^{*} Y_{l}^{m}(\\theta_{2},\\phi_{2})  $$"
   ]
  },
  {
   "cell_type": "markdown",
   "metadata": {},
   "source": [
    "Se tiene el problema de que para programar esta ecuación los armónicos esféricos no están programados de forma simbólica, así como tampoco estan programados los polinomios asociados de Legendre."
   ]
  },
  {
   "cell_type": "markdown",
   "metadata": {},
   "source": [
    "Se podría intentar programar las integral de intercambio y de Coulomb de forma numérica o intentar aprovechar la ortogonalidad de los armónicos esféricos, que al integrar aparecen los términos $\\delta_{l,l'}$ y $\\delta_{m,m'}$, por lo que la mayoría de las integrales se hacen $0$."
   ]
  },
  {
   "cell_type": "markdown",
   "metadata": {},
   "source": [
    "Aún cuando se lograra programar todo esto, hace falta verificar que se seleccionaron correctamente los límites de integración radiales para que el término $\\frac{r_{<}^{l}}{r_{>}^{l+1}}$ tenga sentido."
   ]
  },
  {
   "cell_type": "code",
   "execution_count": 127,
   "metadata": {
    "collapsed": false
   },
   "outputs": [],
   "source": [
    "form_item_layout = Layout(display='flex',flex_flow='row',justify_content='space-between')\n",
    "\n",
    "T1=RadioButtons(options=['1s','2s','2p','3s'],disabled=False)\n",
    "T2=RadioButtons(options=['1s','2s','2p','3s'],disabled=False)\n",
    "\n",
    "form_items = [\n",
    "    Box([Label(value='Type electron 1'),T1], layout=form_item_layout),\n",
    "    Box([Label(value='Type electron 2'),T2], layout=form_item_layout)]\n",
    "\n",
    "form = Box(form_items, layout=Layout(display='flex',flex_flow='column',border='solid 2px',align_items='stretch',width='40%'))\n",
    "form"
   ]
  },
  {
   "cell_type": "code",
   "execution_count": 148,
   "metadata": {
    "collapsed": false
   },
   "outputs": [],
   "source": [
    "# Se puede intentar programar aprovechando la ortogonalidad de los armónicos esféricos para evitar las 4 integrales angulares\n",
    "# y solo integrar sobre las coordenadas radiales\n",
    "var('rmenor rmayor')\n",
    "var('lq',integrer=True, positive=True)\n",
    "Type1=T1.value\n",
    "Type2=T2.value\n",
    "n_a=2\n",
    "\n",
    "if Type1=='1s':\n",
    "        n1=1\n",
    "        l1=0\n",
    "if Type1=='2s':\n",
    "        n1=2 \n",
    "        l1=0\n",
    "if Type1=='2p':\n",
    "        n1=2\n",
    "        l1=1\n",
    "if Type1=='3s':\n",
    "        n1=3\n",
    "        l1=0\n",
    "        \n",
    "if Type2=='1s':\n",
    "        n2=1\n",
    "        l2=0\n",
    "if Type2=='2s':\n",
    "        n2=2\n",
    "        l2=0\n",
    "if Type2=='2p':\n",
    "        n2=2\n",
    "        l2=1\n",
    "if Type2=='3s':\n",
    "        n2=3\n",
    "        l2=0\n",
    "        \n",
    "r12_inv=1/(2*lq+1)*rmenor**lq/rmayor**(lq+1)\n",
    "\n",
    "if n1>n2:\n",
    "    n_m=n1\n",
    "else:\n",
    "    n_m=n2\n",
    "\n",
    "\n",
    "for n in range(1,n_m+1):\n",
    "    a=[]\n",
    "    for nn in range(1,n_m+1):\n",
    "        b=[]\n",
    "        for o in range(n_m):\n",
    "            c=[]\n",
    "            if o<nn:\n",
    "                for m in range(-o,o+1):\n",
    "                    c.append(r12_inv.subs({lq:o}))\n",
    "                b.append(c)\n",
    "        a.append(b)\n",
    "# Después de esto tengo una lista que para utilizarla debo usar a[n-1][l][m+l]\n",
    "\n",
    "\n",
    "Psi1=R_nl(n1,l1,r1,n_a)\n",
    "Psi2=R_nl(n2,l2,r2,n_a)\n",
    "Psi_t=Psi1*Psi2\n",
    "\n",
    "Integral_Coulumb1=0\n",
    "Integral_Coulumb2=0\n",
    "Integral_Intercambio1=0\n",
    "Integral_Intercambio2=0\n",
    "\n",
    "if l1==l2:\n",
    "    for m in range(-l1,l1+1):\n",
    "    Integral_Coulumb1=Integral_Coulumb1+Integral(Integral(r1**2*r2**2*Psi1**2*Psi2**2*\\\n",
    "                            a[n1-1][l1][l1].subs({rmayor:r1,rmenor:r2,lq:0}),(r2,0,r1)),(r1,0,oo)).doit()\n",
    "    Integral_Coulumb2=Integral_Coulumb2+Integral(Integral(r1**2*r2**2*Psi1**2*Psi2**2*\\\n",
    "                            a[n1-1][l1][l1].subs({rmayor:r2,rmenor:r1,lq:0}),(r2,r1,oo)),(r1,0,oo)).doit()\n",
    "    Integral_CoulumbT=Integral_Coulumb1+Integral_Coulumb2\n",
    "else:\n",
    "     Integral_CoulumbT=0\n",
    "        \n",
    "if l1!=l2:\n",
    "    Integral_Intercambio1=Integral(Integral(r1**2*r2**2*Psi1*Psi2*Psi1.subs({r1:r2})*Psi2.subs({r2:r1})*\\\n",
    "                                            a[n1-1][l1][l1].subs({rmayor:r1,rmenor:r2,lq:0}),(r2,0,r1)),(r1,0,oo)).doit()\n",
    "    Integral_Intercambio2=Integral(Integral(r1**2*r2**2*Psi1*Psi2*Psi1.subs({r1:r2})*Psi2.subs({r2:r1})*\\\n",
    "                                            a[n1-1][l1][l1].subs({rmayor:r2,rmenor:r1,lq:0}),(r2,r1,oo)),(r1,0,oo)).doit()\n",
    "    Integral_IntercambioT=Integral_Intercambio1+Integral_Intercambio2     \n",
    "else:\n",
    "    Integral_IntercambioT=0"
   ]
  },
  {
   "cell_type": "code",
   "execution_count": 166,
   "metadata": {
    "collapsed": false
   },
   "outputs": [],
   "source": [
    "# Programa funciona para 1s\n",
    "\n",
    "# Encontrar la manera de hacer matrices nxlxm que puedan ser llenadas con variables para posteriormente revisar\n",
    "# como encontrar las integrales aprovechando ortogonalidad de los armónicos esféricos.\n",
    "\n",
    "# Una opción para la matriz puedes hacer una lista y hacer reshape cada ciertas iteraciones en el ciclo for"
   ]
  },
  {
   "cell_type": "markdown",
   "metadata": {},
   "source": [
    "Falta verificar la ortogonalidad de los armónicos esféricos y como aprovecharla para hacer únicamente las integrales radiales pero aún no esta listo.\n"
   ]
  },
  {
   "cell_type": "code",
   "execution_count": null,
   "metadata": {
    "collapsed": true
   },
   "outputs": [],
   "source": []
  }
 ],
 "metadata": {
  "anaconda-cloud": {},
  "kernelspec": {
   "display_name": "Python [conda root]",
   "language": "python",
   "name": "conda-root-py"
  },
  "language_info": {
   "codemirror_mode": {
    "name": "ipython",
    "version": 3
   },
   "file_extension": ".py",
   "mimetype": "text/x-python",
   "name": "python",
   "nbconvert_exporter": "python",
   "pygments_lexer": "ipython3",
   "version": "3.5.2"
  },
  "widgets": {
   "state": {
    "13ebb6fe9a154b01a4b7d8e50cf30bd2": {
     "views": [
      {
       "cell_index": 32
      }
     ]
    },
    "3dee4b4098424dc38c87be1b9693f7d6": {
     "views": [
      {
       "cell_index": 5
      }
     ]
    },
    "78c63c5c95804e69b9cf4d9b821ad147": {
     "views": [
      {
       "cell_index": 10
      }
     ]
    },
    "aa8e4f139209496dab1c179aed3f5a2b": {
     "views": [
      {
       "cell_index": 83
      }
     ]
    },
    "ca39254ea6584c6399163ce874b42bb3": {
     "views": [
      {
       "cell_index": 59
      }
     ]
    }
   },
   "version": "1.2.0"
  }
 },
 "nbformat": 4,
 "nbformat_minor": 1
}
