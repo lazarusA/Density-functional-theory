{
 "cells": [
  {
   "cell_type": "code",
   "execution_count": 1,
   "metadata": {
    "collapsed": false
   },
   "outputs": [],
   "source": [
    "# Método para resolver las energías y eigenfunciones de un sistema cuántico numéricamente por Teoría de Pertubaciones\n",
    "# Modelado Molecular 2\n",
    "# By: José Manuel Casillas Martín     22-oct-2017\n",
    "import numpy as np\n",
    "from sympy import *\n",
    "from sympy.physics.qho_1d import E_n, psi_n\n",
    "from sympy.physics.hydrogen import E_nl, R_nl\n",
    "from sympy import init_printing; init_printing(use_latex = 'mathjax')\n",
    "from scipy import integrate\n",
    "from scipy.constants import hbar, m_e, m_p, e\n",
    "from mpmath import spherharm\n",
    "from numpy import inf, array\n",
    "import numpy as np\n",
    "import matplotlib.pyplot as plt \n",
    "import traitlets\n",
    "from IPython.display import display\n",
    "from ipywidgets import Layout, Box, Text, Dropdown, Label, IntRangeSlider, IntSlider, RadioButtons"
   ]
  },
  {
   "cell_type": "markdown",
   "metadata": {},
   "source": [
    "<h1><center>Teoría de Perturbaciones</center></h1>"
   ]
  },
  {
   "cell_type": "markdown",
   "metadata": {},
   "source": [
    "Consiste en resolver un sistema perturbado(se conoce la solución al no perturbado), y donde el interés es conocer la contribución de la parte perturbada $H'$ al nuevo sistema total. "
   ]
  },
  {
   "cell_type": "markdown",
   "metadata": {},
   "source": [
    "$$ H = H^{0}+H'$$"
   ]
  },
  {
   "cell_type": "markdown",
   "metadata": {},
   "source": [
    "La resolución adecuada del problema, depende en gran parte, de una correcta elección de $H'$."
   ]
  },
  {
   "cell_type": "code",
   "execution_count": 2,
   "metadata": {
    "collapsed": false
   },
   "outputs": [],
   "source": [
    "form_item_layout = Layout(display='flex',flex_flow='row',justify_content='space-between')\n",
    "\n",
    "PType=Dropdown(options=['Particle in a one-dimensional box', 'Harmonic oscilator', 'Hydrogen atom (Helium correction)'])\n",
    "Pert=Text()\n",
    "Rang=IntRangeSlider(min=0, max=20, step=1, disabled=False, continuous_update=False, orientation='horizontal',\\\n",
    "                    readout=True, readout_format='d')\n",
    "M=Text()\n",
    "Correc=Dropdown(options=['1', '2'])\n",
    "hbarra=Dropdown(options=[1, 1.0545718e-34])\n",
    "\n",
    "form_items = [\n",
    "    Box([Label(value='Problem'),PType], layout=form_item_layout),\n",
    "    Box([Label(value='Perturbation'),Pert], layout=form_item_layout),\n",
    "    Box([Label(value='Correction order'),Correc], layout=form_item_layout),\n",
    "    Box([Label(value='n Range'),Rang], layout=form_item_layout),\n",
    "    Box([Label(value='Mass'),M], layout=form_item_layout),\n",
    "    Box([Label(value='Hbar'),hbarra], layout=form_item_layout),]\n",
    "\n",
    "form = Box(form_items, layout=Layout(display='flex',flex_flow='column',border='solid 2px',align_items='stretch',width='40%'))\n",
    "form"
   ]
  },
  {
   "cell_type": "markdown",
   "metadata": {},
   "source": [
    "En esta caja interactiva llena los datos del problema que deseas resolver."
   ]
  },
  {
   "cell_type": "markdown",
   "metadata": {},
   "source": [
    "# Nota 1:\n",
    "Es recomendable usar unidades atómicas de Hartree para eficientar los cálculos. 1 u.a. (energía)= 27.211eV."
   ]
  },
  {
   "cell_type": "markdown",
   "metadata": {},
   "source": [
    "# Nota 2:\n",
    "Para la partícula en una caja unidimensional es recomendable que n sea mayor o igual a 1."
   ]
  },
  {
   "cell_type": "markdown",
   "metadata": {},
   "source": [
    "## Nota 3:\n",
    "Para la correción a la energía del átomo de Helio sólo es necesario seleccionar el problema, automáticamente se calcula la correción a primer orden y no se corrigen las funciones de onda."
   ]
  },
  {
   "cell_type": "code",
   "execution_count": 3,
   "metadata": {
    "collapsed": false
   },
   "outputs": [],
   "source": [
    "Problem=PType.value\n",
    "form_item_layout = Layout(display='flex',flex_flow='row',justify_content='space-between')\n",
    "\n",
    "L=Text()\n",
    "W=Text()\n",
    "atomic_number=RadioButtons(options=['1 (Show Hydrogen energies)','2 (Correct Helium first energy)'],disabled=False)\n",
    "\n",
    "if Problem=='Particle in a one-dimensional box':\n",
    "    form_items = [Box([Label(value='Large of box'),L], layout=form_item_layout)]\n",
    "\n",
    "if Problem=='Harmonic oscilator':\n",
    "    form_items = [Box([Label(value='Angular Fr'),W], layout=form_item_layout)]\n",
    "\n",
    "if Problem=='Hydrogen atom (Helium correction)':\n",
    "    form_items = [Box([Label(value='Atomic number'),atomic_number], layout=form_item_layout)]\n",
    "\n",
    "form = Box(form_items, layout=Layout(display='flex',flex_flow='column',border='solid 2px',align_items='stretch',width='40%'))\n",
    "form"
   ]
  },
  {
   "cell_type": "code",
   "execution_count": 4,
   "metadata": {
    "collapsed": false
   },
   "outputs": [],
   "source": [
    "# Variables que se utilizarán\n",
    "# x=variable de integracion, l=largo del pozo, m=masa del electrón, w=frecuencia angular\n",
    "# n=número cuántico principal, Z=Número atómico, q=número cuántico angular(l)\n",
    "var('x theta phi')\n",
    "var('r1 r2', real=True)\n",
    "var('l m hbar w n Z', positive=True, real=True)\n",
    "\n",
    "# Perturbación\n",
    "if Pert.value!='':\n",
    "    H_p=sympify(Pert.value)\n",
    "    h_p=eval(Pert.value)\n",
    "else:\n",
    "    H_p=0\n",
    "    h_p=0\n",
    "\n",
    "# Constantes\n",
    "h=hbarra.value\n",
    "a0=5.2917721067e-11\n",
    "if M.value!='':\n",
    "    mass=float(eval(M.value))\n",
    "else:\n",
    "    mass=1\n",
    "\n",
    "# Energías y funciones que se desea corregir\n",
    "n_inf=min(Rang.value)\n",
    "n_sup=max(Rang.value)\n",
    "    \n",
    "if Problem=='Particle in a one-dimensional box':\n",
    "    if L.value=='':\n",
    "        large=1\n",
    "    else:\n",
    "        large=float(eval(L.value))\n",
    "    omega=0\n",
    "    # Energías del pozo de potencial infinito\n",
    "    k=n*pi/l\n",
    "    En=hbar**2*k**2/(2*m)\n",
    "        \n",
    "    # Funciones de onda del pozo de potencial infinito\n",
    "    Psin=sqrt(2/l)*sin(n*pi*x/l)\n",
    "    \n",
    "    # Límites del pozo definido de 0 a l para sympy\n",
    "    li_sympy=0\n",
    "    ls_sympy=l\n",
    "    # Mismo limites para scipy\n",
    "    li_scipy=0\n",
    "    ls_scipy=large\n",
    "\n",
    "if Problem=='Harmonic oscilator':\n",
    "    large=0\n",
    "    if W.value=='':\n",
    "        omega=1\n",
    "    else:\n",
    "        omega=float(eval(W.value))\n",
    "    # Energías del oscilador armónico cuántico\n",
    "    En=E_n(n,w)\n",
    "    \n",
    "    # Funciones de onda del oscilador armónico cuántico\n",
    "    Psin=psi_n(n,x,m,w)\n",
    "\n",
    "     # Límites del pozo definido de -oo a oo para sympy\n",
    "    li_sympy=-oo\n",
    "    ls_sympy=oo\n",
    "    # Límites del pozo definido de -oo a oo para scipy\n",
    "    li_scipy=-inf\n",
    "    ls_scipy=inf\n",
    "        \n",
    "if Problem=='Hydrogen atom (Helium correction)':\n",
    "    if atomic_number.value=='1 (Show Hydrogen energies)':\n",
    "        z=1\n",
    "    if atomic_number.value=='2 (Correct Helium first energy)':\n",
    "        z=2\n",
    "    large=0\n",
    "    omega=0\n",
    "    \n",
    "    # Energías del átomo hidrogenoide\n",
    "    En=z*E_nl(n,z)\n",
    "    \n",
    "    # Funciones de onda del átomo de hidrógeno\n",
    "    # Número cuántico l=0\n",
    "    q=0 # La variable l ya esta siendo utilizada para el largo de la caja por ello se sustituyo por q\n",
    "    Psin=(R_nl(n,q,r1,z)*R_nl(n,q,r2,z))\n",
    "    \n",
    "     # Límites del átomo de hidrógeno de 0 a oo para sympy\n",
    "    li_sympy=0\n",
    "    ls_sympy=oo\n",
    "    # Límites del átomo de hidrógeno de 0 a oo para scipy\n",
    "    li_scipy=0\n",
    "    ls_scipy=inf"
   ]
  },
  {
   "cell_type": "markdown",
   "metadata": {},
   "source": [
    "Para sistemas no degenerados, la corrección a la energía a primer orden se calcula como \n",
    "\n",
    "$$ E_{n}^{(1)} = \\int\\psi_{n}^{(0)*} H' \\psi_{n}^{(0)}d\\tau$$"
   ]
  },
  {
   "cell_type": "markdown",
   "metadata": {},
   "source": [
    "** Tarea 1 : Programar esta ecuación si conoces $H^{0}$ y sus soluciones. **"
   ]
  },
  {
   "cell_type": "code",
   "execution_count": 5,
   "metadata": {
    "collapsed": true
   },
   "outputs": [],
   "source": [
    "def correcion_1st_order_Energy(E_n,Psi_n,H_p,li,ls):\n",
    "    E1_n=Integral(Psi_n*(H_p)*Psi_n,(x,li,ls)).doit()\n",
    "    return(E_n+E1_n)"
   ]
  },
  {
   "cell_type": "code",
   "execution_count": 6,
   "metadata": {
    "collapsed": false
   },
   "outputs": [],
   "source": [
    "# Correción de la energía a primer orden\n",
    "E=[]\n",
    "Eev=[]\n",
    "Ec1=[]\n",
    "if Problem=='Particle in a one-dimensional box' or Problem=='Harmonic oscilator':\n",
    "    for i in range(n_inf,n_sup+1):\n",
    "        E.append(En.subs({n:i}))\n",
    "        Eev.append(E[i-n_inf].subs({m:mass, l:large, hbar:h}).evalf())\n",
    "        Ec1.append(correcion_1st_order_Energy(En.subs({n:i}),Psin.subs({n:i}),H_p,li_sympy,ls_sympy))\n",
    "if Problem=='Hydrogen atom (Helium correction)':\n",
    "    for i in range(n_inf,n_sup+1):\n",
    "        E.append(En.subs({n:i}))\n",
    "        Eev.append(E[i-n_inf])\n",
    "    if z==2:\n",
    "        integral_1=Integral(Integral((16*z**6*r1*r2**2*exp(-2*z*(r1+r2))),(r2,0,r1)),(r1,0,oo)).doit()\n",
    "        integral_2=Integral(Integral((16*z**6*r1**2*r2*exp(-2*z*(r1+r2))),(r2,r1,oo)),(r1,0,oo)).doit()\n",
    "        integral_total=(integral_1+integral_2)\n",
    "        Ec1.append(E[0]+integral_total)"
   ]
  },
  {
   "cell_type": "markdown",
   "metadata": {},
   "source": [
    "Y la corrección a la función de onda, también a primer orden, se obtiene como:\n",
    "\n",
    " $$ \\psi_{n}^{(1)} = \\sum_{m\\neq n} \\frac{\\langle\\psi_{m}^{(0)} | H' | \\psi_{n}^{(0)} \\rangle}{E_{n}^{(0)} - E_{m}^{(0)}} \\psi_{m}^{(0)}$$"
   ]
  },
  {
   "cell_type": "markdown",
   "metadata": {},
   "source": [
    "**Tarea 2: Programar esta ecuación si conoces $H^{0}$ y sus soluciones. **"
   ]
  },
  {
   "cell_type": "code",
   "execution_count": 7,
   "metadata": {
    "collapsed": false
   },
   "outputs": [],
   "source": [
    "# Correción de las funciones a primer orden\n",
    "if Pert.value!='':\n",
    "    if Problem=='Particle in a one-dimensional box' or Problem=='Harmonic oscilator':\n",
    "        Psi_c=[]\n",
    "        integrals=np.zeros((n_sup+1,n_sup+1))\n",
    "        for i in range(n_inf,n_sup+1):\n",
    "            a=0\n",
    "            for j in range(n_inf,n_sup+1):\n",
    "                if i!=j:\n",
    "                    integ= lambda x: eval(str(Psin.subs({n:j})*(h_p)*Psin.subs({n:i}))).subs({m:mass,l:large,w:omega,hbar:h})\n",
    "                    integrals[i,j]=integrate.quad(integ,li_scipy,ls_scipy)[0]\n",
    "                    cte=integrals[i,j]/(En.subs({n:i,m:mass,l:large})-En.subs({n:j,m:mass,l:large})).evalf()\n",
    "                    a=a+cte*Psin.subs({n:j})\n",
    "            Psi_c.append(Psin.subs({n:i})+a)     "
   ]
  },
  {
   "cell_type": "markdown",
   "metadata": {},
   "source": [
    "**Tarea 3: Investigue las soluciones a segundo orden y también programe las soluciones. **"
   ]
  },
  {
   "cell_type": "markdown",
   "metadata": {},
   "source": [
    "Y la corrección a la energía a segundo orden, se obtiene como:\n",
    "\n",
    " $$  E_{n}^{(2)} = \\sum_{m\\neq n} \\frac{|\\langle\\psi_{m}^{(0)} | H' | \\psi_{n}^{(0)} \\rangle|^{2}}{E_{n}^{(0)} - E_{m}^{(0)}} $$"
   ]
  },
  {
   "cell_type": "code",
   "execution_count": 8,
   "metadata": {
    "collapsed": false
   },
   "outputs": [],
   "source": [
    "# Correción a la energía a segundo orden\n",
    "if Pert.value!='':\n",
    "    if Problem=='Particle in a one-dimensional box' or Problem=='Harmonic oscilator':\n",
    "        if Correc.value=='2':\n",
    "            Ec2=[]\n",
    "            for i in range(n_inf,n_sup+1):\n",
    "                a=0\n",
    "                for j in range(n_inf,n_sup+1):\n",
    "                    if i!=j:\n",
    "                        cte=((integrals[i,j])**2)/(En.subs({n:i,m:mass,l:large,hbar:h})-En.subs({n:j,m:mass,l:large,hbar:h})).evalf()\n",
    "                        a=a+cte\n",
    "                Ec2.append(Ec1[i-n_inf]+a) "
   ]
  },
  {
   "cell_type": "markdown",
   "metadata": {},
   "source": [
    "**A continuación se muestran algunos de los resultados al problema resuelto**"
   ]
  },
  {
   "cell_type": "markdown",
   "metadata": {},
   "source": [
    "Las energías sin perturbación son:"
   ]
  },
  {
   "cell_type": "code",
   "execution_count": 9,
   "metadata": {
    "collapsed": false
   },
   "outputs": [
    {
     "data": {
      "text/latex": [
       "$$\\left [ \\frac{\\hbar w}{2}, \\quad \\frac{3 w}{2} \\hbar, \\quad \\frac{5 w}{2} \\hbar, \\quad \\frac{7 w}{2} \\hbar\\right ]$$"
      ],
      "text/plain": [
       "⎡ℏ⋅w  3⋅ℏ⋅w  5⋅ℏ⋅w  7⋅ℏ⋅w⎤\n",
       "⎢───, ─────, ─────, ─────⎥\n",
       "⎣ 2     2      2      2  ⎦"
      ]
     },
     "execution_count": 9,
     "metadata": {},
     "output_type": "execute_result"
    }
   ],
   "source": [
    "E"
   ]
  },
  {
   "cell_type": "markdown",
   "metadata": {},
   "source": [
    "La correción a primer orden de las energías son:"
   ]
  },
  {
   "cell_type": "code",
   "execution_count": 10,
   "metadata": {
    "collapsed": false
   },
   "outputs": [
    {
     "data": {
      "text/latex": [
       "$$\\left [ \\frac{\\hbar w}{2} + \\frac{\\hbar}{2 m w}, \\quad \\frac{3 w}{2} \\hbar + \\frac{3 \\hbar}{2 m w}, \\quad \\frac{5 w}{2} \\hbar + \\frac{5 \\hbar}{2 m w}, \\quad \\frac{7 w}{2} \\hbar + \\frac{7 \\hbar}{2 m w}\\right ]$$"
      ],
      "text/plain": [
       "⎡ℏ⋅w     ℏ    3⋅ℏ⋅w    3⋅ℏ   5⋅ℏ⋅w    5⋅ℏ   7⋅ℏ⋅w    7⋅ℏ ⎤\n",
       "⎢─── + ─────, ───── + ─────, ───── + ─────, ───── + ─────⎥\n",
       "⎣ 2    2⋅m⋅w    2     2⋅m⋅w    2     2⋅m⋅w    2     2⋅m⋅w⎦"
      ]
     },
     "execution_count": 10,
     "metadata": {},
     "output_type": "execute_result"
    }
   ],
   "source": [
    "Ec1"
   ]
  },
  {
   "cell_type": "markdown",
   "metadata": {},
   "source": [
    "Si seleccionaste en los parámetros iniciales una correción a segundo orden entonces..."
   ]
  },
  {
   "cell_type": "markdown",
   "metadata": {},
   "source": [
    "Las correciones a la energía a segundo orden son:"
   ]
  },
  {
   "cell_type": "code",
   "execution_count": 11,
   "metadata": {
    "collapsed": false
   },
   "outputs": [
    {
     "data": {
      "text/latex": [
       "$$\\left [ \\frac{\\hbar w}{2} - \\frac{1}{w} 2.37063083491664 \\cdot 10^{33} + \\frac{\\hbar}{2 m w}, \\quad \\frac{3 w}{2} \\hbar - \\frac{1}{w} 7.11189250474994 \\cdot 10^{33} + \\frac{3 \\hbar}{2 m w}, \\quad \\frac{5 w}{2} \\hbar + \\frac{1}{w} 2.37063083491664 \\cdot 10^{33} + \\frac{5 \\hbar}{2 m w}, \\quad \\frac{7 w}{2} \\hbar + \\frac{1}{w} 7.11189250474994 \\cdot 10^{33} + \\frac{7 \\hbar}{2 m w}\\right ]$$"
      ],
      "text/plain": [
       "⎡ℏ⋅w   2.37063083491664e+33     ℏ    3⋅ℏ⋅w   7.11189250474994e+33    3⋅ℏ   5⋅ℏ\n",
       "⎢─── - ──────────────────── + ─────, ───── - ──────────────────── + ─────, ───\n",
       "⎣ 2             w             2⋅m⋅w    2              w             2⋅m⋅w    2\n",
       "\n",
       "⋅w   2.37063083491664e+33    5⋅ℏ   7⋅ℏ⋅w   7.11189250474994e+33    7⋅ℏ ⎤\n",
       "── + ──────────────────── + ─────, ───── + ──────────────────── + ─────⎥\n",
       "              w             2⋅m⋅w    2              w             2⋅m⋅w⎦"
      ]
     },
     "execution_count": 11,
     "metadata": {},
     "output_type": "execute_result"
    }
   ],
   "source": [
    "Ec2"
   ]
  },
  {
   "cell_type": "markdown",
   "metadata": {},
   "source": [
    "Ahora vamos con la función de onda $(\\psi)$"
   ]
  },
  {
   "cell_type": "code",
   "execution_count": 12,
   "metadata": {
    "collapsed": false
   },
   "outputs": [],
   "source": [
    "form_item_layout = Layout(\n",
    "    display='flex',\n",
    "    flex_flow='row',\n",
    "    justify_content='space-between')\n",
    "\n",
    "Graph=IntSlider(min=n_inf, max=n_sup, step=1, disabled=False, continuous_update=False, orientation='horizontal',\\\n",
    "                readout=True, readout_format='d')\n",
    "\n",
    "form_items = [\n",
    "    Box([Label(value='What function do you want to see?'),\n",
    "         Graph], layout=form_item_layout)]\n",
    "\n",
    "form = Box(form_items, layout=Layout(\n",
    "    display='flex',\n",
    "    flex_flow='column',\n",
    "    border='solid 2px',\n",
    "    align_items='stretch',\n",
    "    width='40%'))\n",
    "form"
   ]
  },
  {
   "cell_type": "markdown",
   "metadata": {},
   "source": [
    "La función de onda original es:"
   ]
  },
  {
   "cell_type": "code",
   "execution_count": 13,
   "metadata": {
    "collapsed": false
   },
   "outputs": [
    {
     "data": {
      "text/latex": [
       "$$\\frac{\\sqrt[4]{m} \\sqrt[4]{w}}{\\sqrt[4]{\\hbar} \\sqrt[4]{\\pi}} e^{- \\frac{m w x^{2}}{2 \\hbar}}$$"
      ],
      "text/plain": [
       "                   2 \n",
       "             -m⋅w⋅x  \n",
       "             ────────\n",
       "4 ___ 4 ___    2⋅ℏ   \n",
       "╲╱ m ⋅╲╱ w ⋅ℯ        \n",
       "─────────────────────\n",
       "     4 ___ 4 ___     \n",
       "     ╲╱ ℏ ⋅╲╱ π      "
      ]
     },
     "execution_count": 13,
     "metadata": {},
     "output_type": "execute_result"
    }
   ],
   "source": [
    "Psin.subs({n:Graph.value})"
   ]
  },
  {
   "cell_type": "markdown",
   "metadata": {},
   "source": [
    "La correción a primer orden a la función de onda (utilizando todas las funciones en el rango seleccionado) es:"
   ]
  },
  {
   "cell_type": "code",
   "execution_count": 14,
   "metadata": {
    "collapsed": false
   },
   "outputs": [
    {
     "data": {
      "text/latex": [
       "$$\\frac{\\sqrt[4]{m} \\sqrt[4]{w}}{\\sqrt[4]{\\hbar} \\sqrt[4]{\\pi}} e^{- \\frac{m w x^{2}}{2 \\hbar}} - \\frac{8.38144569529743 \\cdot 10^{32} \\sqrt{2} \\sqrt[4]{m}}{\\sqrt[4]{\\hbar} \\sqrt[4]{\\pi} w^{\\frac{3}{4}}} \\left(\\frac{4 m}{\\hbar} w x^{2} - 2\\right) e^{- \\frac{m w x^{2}}{2 \\hbar}}$$"
      ],
      "text/plain": [
       "                                                                            2 \n",
       "                   2                                                  -m⋅w⋅x  \n",
       "             -m⋅w⋅x                                   ⎛       2    ⎞  ────────\n",
       "             ────────                           4 ___ ⎜4⋅m⋅w⋅x     ⎟    2⋅ℏ   \n",
       "4 ___ 4 ___    2⋅ℏ      8.38144569529743e+32⋅√2⋅╲╱ m ⋅⎜──────── - 2⎟⋅ℯ        \n",
       "╲╱ m ⋅╲╱ w ⋅ℯ                                         ⎝   ℏ        ⎠          \n",
       "───────────────────── - ──────────────────────────────────────────────────────\n",
       "     4 ___ 4 ___                           4 ___ 4 ___  3/4                   \n",
       "     ╲╱ ℏ ⋅╲╱ π                            ╲╱ ℏ ⋅╲╱ π ⋅w                      "
      ]
     },
     "execution_count": 14,
     "metadata": {},
     "output_type": "execute_result"
    }
   ],
   "source": [
    "Psi_c[Graph.value-n_inf]"
   ]
  },
  {
   "cell_type": "markdown",
   "metadata": {},
   "source": [
    "Vamos a graficarlas para verlas mejor..."
   ]
  },
  {
   "cell_type": "markdown",
   "metadata": {},
   "source": [
    "La función de onda original es:"
   ]
  },
  {
   "cell_type": "code",
   "execution_count": 15,
   "metadata": {
    "collapsed": false
   },
   "outputs": [
    {
     "data": {
      "image/png": "[encoded data removed]",
      "text/plain": [
       "<matplotlib.figure.Figure at 0x1e522fa7e10>"
      ]
     },
     "metadata": {},
     "output_type": "display_data"
    }
   ],
   "source": [
    "if Problem=='Particle in a one-dimensional box':\n",
    "    plot(eval(str(Psin)).subs({n:Graph.value,m:mass,l:large,w:omega,hbar:h}),xlim=(li_scipy,ls_scipy),\\\n",
    "         title='$\\psi_{%d}$'%Graph.value)\n",
    "if Problem=='Harmonic oscilator':\n",
    "    plot(eval(str(Psin)).subs({n:Graph.value,m:mass,l:large,w:omega,hbar:h}),xlim=(-10*h/(mass*omega),10*h/(mass*omega)),\\\n",
    "         title='$\\psi_{%d}$'%Graph.value)\n",
    "if Problem=='Hydrogen atom (Helium correction)':\n",
    "    print('Densidad de probabilidad para un electrón')\n",
    "    plot(eval(str((4*pi*x**2*R_nl(Graph.value,q,x,z)**2))),xlim=(0,10),ylim=(0,20/Graph.value), title='$\\psi_{%ds}$'%Graph.value)\n",
    "    print('Tome en cuenta que debido a la dificultad para seleccionar los límites de la gráfica se muestran bien los primeros\\n\\\n",
    "3 estados. A partir de ahí visualizar la gráfica se complica.')"
   ]
  },
  {
   "cell_type": "markdown",
   "metadata": {},
   "source": [
    "La corrección a la función de onda es:"
   ]
  },
  {
   "cell_type": "code",
   "execution_count": 16,
   "metadata": {
    "collapsed": false
   },
   "outputs": [
    {
     "data": {
      "image/png": "[encoded data removed]",
      "text/plain": [
       "<matplotlib.figure.Figure at 0x1e523a653c8>"
      ]
     },
     "metadata": {},
     "output_type": "display_data"
    }
   ],
   "source": [
    "if Problem=='Particle in a one-dimensional box':\n",
    "    if Pert.value!='':\n",
    "        plot(eval(str(Psi_c[Graph.value-n_inf])).subs({n:Graph.value,m:mass,l:large,w:omega,hbar:h}),\\\n",
    "             xlim=(li_scipy,ls_scipy),title='$\\psi_{%d}$'%Graph.value)\n",
    "    if Pert.value=='':\n",
    "        print('No se ingreso ninguna perturbación')\n",
    "if Problem=='Harmonic oscilator':\n",
    "    if Pert.value!='':\n",
    "        plot(eval(str(Psi_c[Graph.value-n_inf])).subs({n:Graph.value,m:mass,l:large,w:omega,hbar:h}),\\\n",
    "             xlim=(-10*h/(mass*omega),10*h/(mass*omega)),title='$\\psi_{%d}$' %Graph.value)\n",
    "    if Pert.value=='':\n",
    "        print('No se ingreso ninguna perturbación')\n",
    "if Problem=='Hydrogen atom (Helium correction)':\n",
    "    print('Este programa no corrige las fucniones de un átomo hidrogenoide')"
   ]
  },
  {
   "cell_type": "markdown",
   "metadata": {},
   "source": [
    "**Tarea 4.  Resolver el átomo de helio aplicando los programas anteriores.** "
   ]
  },
  {
   "cell_type": "markdown",
   "metadata": {},
   "source": [
    "Para el cálculo a las correciones del átomo de Helio se tomó en cuenta lo siguiente..."
   ]
  },
  {
   "cell_type": "markdown",
   "metadata": {},
   "source": [
    "La función de onda del átomo de Helio puede ser representada como:\n",
    "\n",
    "$$ \\psi_{nlm} = \\psi(r1)_{nlm} \\psi(r2)_{nlm}$$"
   ]
  },
  {
   "cell_type": "markdown",
   "metadata": {},
   "source": [
    "Donde, para el estado fundamental:\n",
    "\n",
    "$$ \\psi(r_{1}.r_{2})_{100} = \\frac{Z^{3}}{\\pi a_{0}^{3}} e^{\\frac{-Z}{a_{0}}(r_{1}+r_{2})}$$"
   ]
  },
  {
   "cell_type": "markdown",
   "metadata": {},
   "source": [
    "Y la perturbación sería el término de repulsión entre los dos electrones, es decir:\n",
    "\n",
    "$$ H'= \\frac{e^{2}}{r_{12}}=\\frac{e^{2}}{|r_{1}-r_{2}|}$$"
   ]
  },
  {
   "cell_type": "markdown",
   "metadata": {},
   "source": [
    "Finalmente la correción a primer orden de la energía sería:\n",
    "    \n",
    "$$ E^{(1)}= \\langle\\psi_{n}^{(0)} | H' | \\psi_{n}^{(0)} \\rangle =\\frac{Z^{6}e^{2}}{\\pi^{2} a_{0}^{6}} \\int_{0}^{2\\pi}\\int_{0}^{2\\pi}\\int_{0}^{\\pi}\\int_{0}^{\\pi}\\int_{0}^{\\infty}\\int_{0}^{\\infty} \\frac{e^{\\frac{-2Z}{a_{0}}(r_{1}+r_{2})}}{r_{12}} r_{1}^{2}r_{2}^{2}sen{\\theta_{1}}sen{\\theta_{2}} dr_{2} dr_{1} d\\theta_{2} d\\theta_{1} d\\phi_{2} d\\phi_{1}$$"
   ]
  },
  {
   "cell_type": "markdown",
   "metadata": {},
   "source": [
    "Se utiliza una expansión del termino de repulsión con los armónicos esféricos y se integra la parte angular. Una vez hecho eso, la integral queda expresada de la siguiente manera:"
   ]
  },
  {
   "cell_type": "markdown",
   "metadata": {},
   "source": [
    "$$ E^{(1)}= \\frac{16Z^{6}e^{2}}{a_{0}^{6}} \\left[\\int_{0}^{\\infty} r_{1}^{2} e^{\\frac{-2Z}{a_{0}}r_{1}} \\left(\\int_{0}^{r_{1}} \\frac{r_{2}^{2}}{r_{1}} e^{\\frac{-2Z}{a_{0}}r_{2}} dr_{2}+\\int_{r_{1}}^{\\infty}r_{2} e^{\\frac{-2Z}{a_{0}}r_{2}}dr_{2}\\right) dr_{1} \\right]$$"
   ]
  },
  {
   "cell_type": "markdown",
   "metadata": {},
   "source": [
    "Esta fue la integral que se programó para hacer la correción a la energía del Helio"
   ]
  },
  {
   "cell_type": "markdown",
   "metadata": {},
   "source": [
    "**Tarea 5: Método variacional-perturbativo. **"
   ]
  },
  {
   "cell_type": "markdown",
   "metadata": {},
   "source": [
    "Este método nos permite estimar de forma precisa $E^{(2)}$ y correcciones perturbativas de la energía de órdenes más elevados para el estado fundamental del sistema, sin evaluar sumas infinitas. Ver ecuación 9.38 del libro. "
   ]
  },
  {
   "cell_type": "markdown",
   "metadata": {
    "collapsed": true
   },
   "source": [
    "$$ \\langle u | H^{0} - E_{g}^{(0)} | u \\rangle + \\langle u | H' - E_{g}^{(1)} | \\psi_{g}^{(0)} \\rangle +\\langle\\psi_{g}^{(0)} | H' - E_{g}^{(1)} | u \\rangle \\geq E_{g}^{(2)} $$"
   ]
  },
  {
   "cell_type": "markdown",
   "metadata": {},
   "source": [
    "Donde:"
   ]
  },
  {
   "cell_type": "markdown",
   "metadata": {},
   "source": [
    "u, es cualquier función que se comporte bien y satisfaga condiciones de frontera."
   ]
  },
  {
   "cell_type": "markdown",
   "metadata": {},
   "source": [
    "Por lo general, u tiene un parámetro variacional que permite minimizar el lado izquierdo de la ecuación para estimar $E_{g}^{(2)} $. La función u resulta ser una aproximación a $\\psi_{g}^{(1)}$, por lo que se puede utilizar está misma función para estimar $E_{g}^{(3)}$ y seguir haciendo iteraciones para hacer correciones de orden superior tanto a la energía como a la función de onda."
   ]
  },
  {
   "cell_type": "markdown",
   "metadata": {},
   "source": [
    "Es necesario meter parámetros de optimización a las funciones de prueba para que tenga sentido intentar programar esto. Esto nos limita a usar Sympy para resolver la integral simbólicamente. Entonces, estamos limitados a las capacidades de esta librería para resolver las integrales y a la capacidad de nuestro procesador. Ya corroboramos que un intel I-7 es cerca de 10 veces más rápido que un I-5."
   ]
  },
  {
   "cell_type": "markdown",
   "metadata": {},
   "source": [
    "A continuación se muestra un código que, aprovechando los datos introducidos anteriormente, encuentra por medio del método variacional-perturbativo la correción a segundo orden de la energía y a primer orden de la función de onda."
   ]
  },
  {
   "cell_type": "code",
   "execution_count": 17,
   "metadata": {
    "collapsed": false
   },
   "outputs": [],
   "source": [
    "form_item_layout = Layout(display='flex',flex_flow='row',justify_content='space-between')\n",
    "\n",
    "F_prueba=Text()\n",
    "Ran_n=IntSlider(min=n_inf, max=n_sup, step=1, disabled=False, continuous_update=False, orientation='horizontal',\\\n",
    "                    readout=True, readout_format='d')\n",
    "Correcc=RadioButtons(options=[2],disabled=False)\n",
    "\n",
    "form_items = [\n",
    "    Box([Label(value='Test function'),F_prueba], layout=form_item_layout),\n",
    "    Box([Label(value='Correction order'),Correcc], layout=form_item_layout),\n",
    "    Box([Label(value='Function to correct'),Ran_n], layout=form_item_layout),]\n",
    "\n",
    "form = Box(form_items, layout=Layout(display='flex',flex_flow='column',border='solid 2px',align_items='stretch',width='40%'))\n",
    "form"
   ]
  },
  {
   "cell_type": "markdown",
   "metadata": {},
   "source": [
    "Para la función de prueba se espera que el usuario introduzca una función que sea cuadrado-integrable y que sea compatible en las fronteras con el tipo de problema que se esta solucionando. Además, puede intruducir una constante de optimización (utilice \"c\")"
   ]
  },
  {
   "cell_type": "code",
   "execution_count": 47,
   "metadata": {
    "collapsed": false
   },
   "outputs": [],
   "source": [
    "# Variables que se utilizarán\n",
    "# c y d=constantes de optimización\n",
    "var('c')#, real=True)\n",
    "\n",
    "u=eval(F_prueba.value)\n",
    "order=Correcc.value\n",
    "n_n=Ran_n.value\n",
    "\n",
    "if Problem=='Particle in a one-dimensional box':\n",
    "    V=0\n",
    "    \n",
    "if Problem=='Harmonic oscilator':\n",
    "    V=(m/2)*w**2*x**2\n",
    "    \n",
    "if Problem=='Particle in a one-dimensional box' or Problem=='Harmonic oscilator':\n",
    "    integrando_a=(u)*((-hbar**2)/(2*m)*diff(u,x,2))+(u)*V*(u)-(u)*En.subs({n:n_n})*(u)\n",
    "    integrando_b=(u)*h_p*(Psin.subs({n:n_n}))-(u)*(Ec1[n_n-n_inf]-En.subs({n:n_n}))*(Psin.subs({n:n_n}))\n",
    "    integral_a=Integral(eval(str(integrando_a)),(x,li_sympy,ls_sympy)).doit()\n",
    "    integral_b=Integral(eval(str(integrando_b)),(x,li_sympy,ls_sympy)).doit()\n",
    "    integral_T=integral_a+2*integral_b\n",
    "    f_opt=diff(integral_T,c,1)\n",
    "    c2=solve(f_opt,c)\n",
    "    E_c2=Ec1[n_n-n_inf]+integral_T.subs({c:c2[0]})\n",
    "    Psi_c1=(Psin.subs({n:n_n})+u.subs({c:c2[0]}))"
   ]
  },
  {
   "cell_type": "markdown",
   "metadata": {},
   "source": [
    "Se considero que para fines de esta tarea que:"
   ]
  },
  {
   "cell_type": "markdown",
   "metadata": {},
   "source": [
    " $$\\langle u | H' - E_{g}^{(1)} | \\psi_{g}^{(0)} \\rangle =\\langle\\psi_{g}^{(0)} | H' - E_{g}^{(1)} | u \\rangle$$"
   ]
  },
  {
   "cell_type": "markdown",
   "metadata": {},
   "source": [
    "Lo cual se cumple cuando $H'$ es una función sin operadores diferenciales, y además, u y $\\psi_{g}^{(0)}$ son funciones reales."
   ]
  },
  {
   "cell_type": "markdown",
   "metadata": {},
   "source": [
    "Las correciones a la energía son:"
   ]
  },
  {
   "cell_type": "code",
   "execution_count": 56,
   "metadata": {
    "collapsed": false
   },
   "outputs": [
    {
     "data": {
      "text/latex": [
       "$$\\frac{\\hbar w}{2}$$"
      ],
      "text/plain": [
       "ℏ⋅w\n",
       "───\n",
       " 2 "
      ]
     },
     "execution_count": 56,
     "metadata": {},
     "output_type": "execute_result"
    }
   ],
   "source": [
    "E[n_n-n_inf]"
   ]
  },
  {
   "cell_type": "code",
   "execution_count": 57,
   "metadata": {
    "collapsed": false
   },
   "outputs": [
    {
     "data": {
      "text/latex": [
       "$$\\frac{\\hbar w}{2} + \\frac{\\hbar}{2 m w}$$"
      ],
      "text/plain": [
       "ℏ⋅w     ℏ  \n",
       "─── + ─────\n",
       " 2    2⋅m⋅w"
      ]
     },
     "execution_count": 57,
     "metadata": {},
     "output_type": "execute_result"
    }
   ],
   "source": [
    "Ec1[n_n-n_inf]"
   ]
  },
  {
   "cell_type": "code",
   "execution_count": 58,
   "metadata": {
    "collapsed": false
   },
   "outputs": [
    {
     "data": {
      "text/latex": [
       "$$- \\frac{0.375562772232471 \\pi^{0.25} \\hbar^{1.0}}{m^{2.0} w^{3.0}} + \\frac{0.141047395886939 \\sqrt{\\pi} \\hbar}{m^{2} w^{3}} + \\frac{\\hbar w}{2} + \\frac{\\hbar}{2 m w}$$"
      ],
      "text/plain": [
       "                     0.25   1.0  -2.0  -3.0   0.141047395886939⋅√π⋅h̅   ℏ⋅w   \n",
       "- 0.375562772232471⋅π    ⋅h̅   ⋅m    ⋅w     + ─────────────────────── + ─── + \n",
       "                                                        2  3             2    \n",
       "                                                       m ⋅w                   \n",
       "\n",
       "  ℏ  \n",
       "─────\n",
       "2⋅m⋅w\n",
       "     "
      ]
     },
     "execution_count": 58,
     "metadata": {},
     "output_type": "execute_result"
    }
   ],
   "source": [
    "E_c2"
   ]
  },
  {
   "cell_type": "markdown",
   "metadata": {},
   "source": [
    "Las correción a la función de onda:"
   ]
  },
  {
   "cell_type": "code",
   "execution_count": 59,
   "metadata": {
    "collapsed": false
   },
   "outputs": [
    {
     "data": {
      "text/latex": [
       "$$\\frac{\\sqrt[4]{m} \\sqrt[4]{w}}{\\sqrt[4]{\\hbar} \\sqrt[4]{\\pi}} e^{- \\frac{m w x^{2}}{2 \\hbar}}$$"
      ],
      "text/plain": [
       "                   2 \n",
       "             -m⋅w⋅x  \n",
       "             ────────\n",
       "4 ___ 4 ___    2⋅ℏ   \n",
       "╲╱ m ⋅╲╱ w ⋅ℯ        \n",
       "─────────────────────\n",
       "     4 ___ 4 ___     \n",
       "     ╲╱ ℏ ⋅╲╱ π      "
      ]
     },
     "execution_count": 59,
     "metadata": {},
     "output_type": "execute_result"
    }
   ],
   "source": [
    "Psin.subs({n:n_n})"
   ]
  },
  {
   "cell_type": "code",
   "execution_count": 60,
   "metadata": {
    "collapsed": false
   },
   "outputs": [
    {
     "data": {
      "text/latex": [
       "$$\\frac{\\sqrt[4]{m} \\sqrt[4]{w}}{\\sqrt[4]{\\hbar} \\sqrt[4]{\\pi}} e^{- \\frac{m w x^{2}}{2 \\hbar}} - \\frac{0.375562772232471 \\sqrt[4]{m} x^{2}}{\\hbar^{\\frac{5}{4}} w^{\\frac{3}{4}}} e^{- \\frac{m w x^{2}}{2 \\hbar}}$$"
      ],
      "text/plain": [
       "                   2                                      2 \n",
       "             -m⋅w⋅x                                 -m⋅w⋅x  \n",
       "             ────────                               ────────\n",
       "4 ___ 4 ___    2⋅ℏ                        4 ___  2    2⋅h̅  \n",
       "╲╱ m ⋅╲╱ w ⋅ℯ           0.375562772232471⋅╲╱ m ⋅x ⋅ℯ        \n",
       "───────────────────── - ────────────────────────────────────\n",
       "     4 ___ 4 ___                       5/4  3/4             \n",
       "     ╲╱ ℏ ⋅╲╱ π                      h̅   ⋅w                "
      ]
     },
     "execution_count": 60,
     "metadata": {},
     "output_type": "execute_result"
    }
   ],
   "source": [
    "Psi_c1"
   ]
  },
  {
   "cell_type": "markdown",
   "metadata": {},
   "source": [
    "Veamos ahora las gráficas de estas funciones..."
   ]
  },
  {
   "cell_type": "markdown",
   "metadata": {},
   "source": [
    "La función de onda original es:"
   ]
  },
  {
   "cell_type": "code",
   "execution_count": 61,
   "metadata": {
    "collapsed": false
   },
   "outputs": [
    {
     "data": {
      "image/png": "[encoded data removed]",
      "text/plain": [
       "<matplotlib.figure.Figure at 0x1e524e6c1d0>"
      ]
     },
     "metadata": {},
     "output_type": "display_data"
    }
   ],
   "source": [
    "if Problem=='Particle in a one-dimensional box':\n",
    "    plot(eval(str(Psin)).subs({n:n_n,m:mass,l:large,w:omega,hbar:h}),xlim=(li_scipy,ls_scipy),\\\n",
    "         title='$\\psi_{%d}$'%n_n)\n",
    "if Problem=='Harmonic oscilator':\n",
    "    plot(eval(str(Psin)).subs({n:n_n,m:mass,l:large,w:omega,hbar:h}),xlim=(-10*h/(mass*omega),10*h/(mass*omega)),\\\n",
    "         title='$\\psi_{%d}$'%n_n)"
   ]
  },
  {
   "cell_type": "markdown",
   "metadata": {},
   "source": [
    "Su correción por medio del método variacional-perturbativo es:"
   ]
  },
  {
   "cell_type": "code",
   "execution_count": 62,
   "metadata": {
    "collapsed": false
   },
   "outputs": [
    {
     "data": {
      "image/png": "[encoded data removed]",
      "text/plain": [
       "<matplotlib.figure.Figure at 0x1e523c75f98>"
      ]
     },
     "metadata": {},
     "output_type": "display_data"
    }
   ],
   "source": [
    "if Problem=='Particle in a one-dimensional box':\n",
    "    if Pert.value!='':\n",
    "        plot(Psi_c1.subs({m:mass,l:large,w:omega,hbar:h}),\\\n",
    "             xlim=(li_scipy,ls_scipy),ylim=(-1.5,1.5),title='$\\psi_{%d}$'%n_n)\n",
    "    if Pert.value=='':\n",
    "        print('No se ingreso ninguna perturbación')\n",
    "if Problem=='Harmonic oscilator':\n",
    "    if Pert.value!='':\n",
    "        plot(Psi_c1.subs({m:mass,l:large,w:omega,hbar:h}),\\\n",
    "             xlim=(-10*h/(mass*omega),10*h/(mass*omega)),title='$\\psi_{%d}$' %n_n)"
   ]
  },
  {
   "cell_type": "markdown",
   "metadata": {},
   "source": [
    "**Tarea 6. Revisar sección 9.7. **\n",
    "\n",
    "Inicialmente a mano, y sengunda instancia favor de intentar programar sección del problema, i.e. integral de Coulomb  e integral de intercambio."
   ]
  },
  {
   "cell_type": "markdown",
   "metadata": {},
   "source": [
    "Para comenzar a solucionar este problema, es necesario ser capaz de escribir el termino de repulsión que aparece en la fuerza culombiana ($\\frac {1} {r_{12} }$) en términos de los armónicos esféricos de la siguiente manera:"
   ]
  },
  {
   "cell_type": "markdown",
   "metadata": {},
   "source": [
    "$$ \\frac {1} {r_{12} } = \\sum_{l=0}^{\\infty} \\sum_{m=-l}^{l} \\frac{4\\pi}{2l+1} \\frac{r_{<}^{l}}{r_{>}^{l+1}}  \\left[Y_{l}^{m}(\\theta_{1},\\phi_{1})  \\right]^{*} Y_{l}^{m}(\\theta_{2},\\phi_{2})  $$"
   ]
  },
  {
   "cell_type": "markdown",
   "metadata": {},
   "source": [
    "Intentar programar esto se complica, puesto que los armónicos esféricos sólo han sido definido en librerias de python de forma numérica. Si intentamos programar los armónicos de manera simbólica es necesario utilizar las Polinomios asociados de Legendre, que de igual manera, sólo han sido definidos de manera numérica."
   ]
  },
  {
   "cell_type": "markdown",
   "metadata": {},
   "source": [
    "Se podría intentar programar las integral de intercambio de forma numérica pero hacerlo de forma simbólica permitiría simplificar mucho los cálculos, porque al integrar los armónicos esféricos aparecen $\\delta_{l,l'}$ y $\\delta_{m,m'}$, por lo que la mayoría de las integrales se hacen $0$."
   ]
  },
  {
   "cell_type": "markdown",
   "metadata": {},
   "source": [
    "Aún cuando se lograra programar todo esto, hace falta verificar que se seleccionaron correctamente los límites de integración radiales para que el término $\\frac{r_{<}^{l}}{r_{>}^{l+1}}$ haga sentido."
   ]
  },
  {
   "cell_type": "code",
   "execution_count": null,
   "metadata": {
    "collapsed": true
   },
   "outputs": [],
   "source": []
  }
 ],
 "metadata": {
  "anaconda-cloud": {},
  "kernelspec": {
   "display_name": "Python [conda root]",
   "language": "python",
   "name": "conda-root-py"
  },
  "language_info": {
   "codemirror_mode": {
    "name": "ipython",
    "version": 3
   },
   "file_extension": ".py",
   "mimetype": "text/x-python",
   "name": "python",
   "nbconvert_exporter": "python",
   "pygments_lexer": "ipython3",
   "version": "3.5.2"
  },
  "widgets": {
   "state": {
    "4a6b6fb9848d4188994b3cb9eb370d10": {
     "views": [
      {
       "cell_index": 31
      }
     ]
    },
    "571d4b3569944b55b593e90fc4aae6cf": {
     "views": [
      {
       "cell_index": 10
      }
     ]
    },
    "8262d11481fb4923b1b13318ea8fa7da": {
     "views": [
      {
       "cell_index": 58
      }
     ]
    },
    "e619df5bbbeb4ad1aa294d03a6fdf4f4": {
     "views": [
      {
       "cell_index": 5
      }
     ]
    }
   },
   "version": "1.2.0"
  }
 },
 "nbformat": 4,
 "nbformat_minor": 1
}
