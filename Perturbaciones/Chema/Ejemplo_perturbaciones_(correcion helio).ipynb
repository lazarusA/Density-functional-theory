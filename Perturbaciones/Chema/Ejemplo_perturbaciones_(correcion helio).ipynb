{
 "cells": [
  {
   "cell_type": "code",
   "execution_count": 1,
   "metadata": {
    "collapsed": false
   },
   "outputs": [],
   "source": [
    "# Método para resolver las energías y eigenfunciones de un sistema cuántico numéricamente por Teoría de Pertubaciones\n",
    "# Modelado Molecular 2\n",
    "# By: José Manuel Casillas Martín     22-oct-2017\n",
    "import numpy as np\n",
    "from sympy import *\n",
    "from sympy.physics.qho_1d import E_n, psi_n\n",
    "from sympy.physics.hydrogen import E_nl, R_nl\n",
    "from sympy import init_printing; init_printing(use_latex = 'mathjax')\n",
    "from scipy import integrate\n",
    "from scipy.constants import hbar, m_e, m_p, e\n",
    "from mpmath import spherharm\n",
    "from numpy import inf, array\n",
    "import numpy as np\n",
    "import matplotlib.pyplot as plt \n",
    "import traitlets\n",
    "from IPython.display import display\n",
    "from ipywidgets import Layout, Box, Text, Dropdown, Label, IntRangeSlider, IntSlider, RadioButtons"
   ]
  },
  {
   "cell_type": "markdown",
   "metadata": {},
   "source": [
    "<h1><center>Teoría de Perturbaciones</center></h1>"
   ]
  },
  {
   "cell_type": "markdown",
   "metadata": {},
   "source": [
    "Consiste en resolver un sistema perturbado(se conoce la solución al no perturbado), y donde el interés es conocer la contribución de la parte perturbada $H'$ al nuevo sistema total. "
   ]
  },
  {
   "cell_type": "markdown",
   "metadata": {},
   "source": [
    "$$ H = H^{0}+H'$$"
   ]
  },
  {
   "cell_type": "markdown",
   "metadata": {},
   "source": [
    "La resolución adecuada del problema, depende en gran parte, de una correcta elección de $H'$."
   ]
  },
  {
   "cell_type": "code",
   "execution_count": 2,
   "metadata": {
    "collapsed": false
   },
   "outputs": [],
   "source": [
    "form_item_layout = Layout(display='flex',flex_flow='row',justify_content='space-between')\n",
    "\n",
    "PType=Dropdown(options=['Particle in a one-dimensional box', 'Harmonic oscilator', 'Hydrogen atom (Helium correction)'])\n",
    "Pert=Text()\n",
    "Rang=IntRangeSlider(min=0, max=20, step=1, disabled=False, continuous_update=False, orientation='horizontal',\\\n",
    "                    readout=True, readout_format='d')\n",
    "M=Text()\n",
    "Correc=Dropdown(options=['1', '2'])\n",
    "hbarra=Dropdown(options=[1, 1.0545718e-34])\n",
    "\n",
    "form_items = [\n",
    "    Box([Label(value='Problem'),PType], layout=form_item_layout),\n",
    "    Box([Label(value='Perturbation'),Pert], layout=form_item_layout),\n",
    "    Box([Label(value='Correction order'),Correc], layout=form_item_layout),\n",
    "    Box([Label(value='n Range'),Rang], layout=form_item_layout),\n",
    "    Box([Label(value='Mass'),M], layout=form_item_layout),\n",
    "    Box([Label(value='Hbar'),hbarra], layout=form_item_layout),]\n",
    "\n",
    "form = Box(form_items, layout=Layout(display='flex',flex_flow='column',border='solid 2px',align_items='stretch',width='40%'))\n",
    "form"
   ]
  },
  {
   "cell_type": "markdown",
   "metadata": {},
   "source": [
    "En esta caja interactiva llena los datos del problema que deseas resolver."
   ]
  },
  {
   "cell_type": "markdown",
   "metadata": {},
   "source": [
    "# Nota 1:\n",
    "Es recomendable usar unidades atómicas de Hartree para eficientar los cálculos. 1 u.a. (energía)= 27.211eV."
   ]
  },
  {
   "cell_type": "markdown",
   "metadata": {},
   "source": [
    "# Nota 2:\n",
    "Para la partícula en una caja unidimensional es recomendable que n sea mayor a 1."
   ]
  },
  {
   "cell_type": "markdown",
   "metadata": {},
   "source": [
    "## Nota 3:\n",
    "Para la correción a la energía del átomo de Helio sólo es necesario seleccionar el problema, automáticamente se calcula la correción a primer orden y no se corrigen las funciones de onda."
   ]
  },
  {
   "cell_type": "code",
   "execution_count": 3,
   "metadata": {
    "collapsed": false
   },
   "outputs": [],
   "source": [
    "Problem=PType.value\n",
    "form_item_layout = Layout(display='flex',flex_flow='row',justify_content='space-between')\n",
    "\n",
    "L=Text()\n",
    "W=Text()\n",
    "atomic_number=RadioButtons(options=['1 (Show Hydrogen energies)','2 (Correct Helium first energy)'],disabled=False)\n",
    "\n",
    "if Problem=='Particle in a one-dimensional box':\n",
    "    form_items = [Box([Label(value='Large of box'),L], layout=form_item_layout)]\n",
    "\n",
    "if Problem=='Harmonic oscilator':\n",
    "    form_items = [Box([Label(value='Angular Fr'),W], layout=form_item_layout)]\n",
    "\n",
    "if Problem=='Hydrogen atom (Helium correction)':\n",
    "    form_items = [Box([Label(value='Atomic number'),atomic_number], layout=form_item_layout)]\n",
    "\n",
    "form = Box(form_items, layout=Layout(display='flex',flex_flow='column',border='solid 2px',align_items='stretch',width='40%'))\n",
    "form"
   ]
  },
  {
   "cell_type": "code",
   "execution_count": 4,
   "metadata": {
    "collapsed": false
   },
   "outputs": [],
   "source": [
    "# Variables que se utilizarán\n",
    "# x=variable de integracion, l=largo del pozo, m=masa del electrón, w=frecuencia angular\n",
    "# n=número cuántico principal, Z=Número atómico, q=número cuántico angular(l)\n",
    "var('x theta phi')\n",
    "var('r1 r2', real=True)\n",
    "var('l m hbar w n Z', positive=True, real=True)\n",
    "\n",
    "# Perturbación\n",
    "if Pert.value!='':\n",
    "    H_p=sympify(Pert.value)\n",
    "    h_p=eval(Pert.value)\n",
    "else:\n",
    "    H_p=0\n",
    "    h_p=0\n",
    "\n",
    "# Constantes\n",
    "h=hbarra.value\n",
    "a0=5.2917721067e-11\n",
    "if M.value!='':\n",
    "    mass=float(eval(M.value))\n",
    "else:\n",
    "    mass=1\n",
    "\n",
    "# Energías y funciones que se desea corregir\n",
    "n_inf=min(Rang.value)\n",
    "n_sup=max(Rang.value)\n",
    "    \n",
    "if Problem=='Particle in a one-dimensional box':\n",
    "    if L.value=='':\n",
    "        large=1\n",
    "    else:\n",
    "        large=float(eval(L.value))\n",
    "    omega=0\n",
    "    # Energías del pozo de potencial infinito\n",
    "    k=n*pi/l\n",
    "    En=hbar**2*k**2/(2*m)\n",
    "        \n",
    "    # Funciones de onda del pozo de potencial infinito\n",
    "    Psin=sqrt(2/l)*sin(n*pi*x/l)\n",
    "    \n",
    "    # Límites del pozo definido de 0 a l para sympy\n",
    "    li_sympy=0\n",
    "    ls_sympy=l\n",
    "    # Mismo limites para scipy\n",
    "    li_scipy=0\n",
    "    ls_scipy=large\n",
    "\n",
    "if Problem=='Harmonic oscilator':\n",
    "    large=0\n",
    "    if W.value=='':\n",
    "        omega=1\n",
    "    else:\n",
    "        omega=float(eval(W.value))\n",
    "    # Energías del oscilador armónico cuántico\n",
    "    En=E_n(n,w)\n",
    "    \n",
    "    # Funciones de onda del oscilador armónico cuántico\n",
    "    Psin=psi_n(n,x,m,w)\n",
    "\n",
    "     # Límites del pozo definido de -oo a oo para sympy\n",
    "    li_sympy=-oo\n",
    "    ls_sympy=oo\n",
    "    # Límites del pozo definido de -oo a oo para scipy\n",
    "    li_scipy=-inf\n",
    "    ls_scipy=inf\n",
    "        \n",
    "if Problem=='Hydrogen atom (Helium correction)':\n",
    "    if atomic_number.value=='1 (Show Hydrogen energies)':\n",
    "        z=1\n",
    "    if atomic_number.value=='2 (Correct Helium first energy)':\n",
    "        z=2\n",
    "    large=0\n",
    "    omega=0\n",
    "    \n",
    "    # Energías del átomo hidrogenoide\n",
    "    En=z*E_nl(n,z)\n",
    "    \n",
    "    # Funciones de onda del átomo de hidrógeno\n",
    "    # Número cuántico l=0\n",
    "    q=0 # La variable l ya esta siendo utilizada para el largo de la caja por ello se sustituyo por q\n",
    "    Psin=(R_nl(n,q,r1,z)*R_nl(n,q,r2,z))\n",
    "    \n",
    "     # Límites del átomo de hidrógeno de 0 a oo para sympy\n",
    "    li_sympy=0\n",
    "    ls_sympy=oo\n",
    "    # Límites del átomo de hidrógeno de 0 a oo para scipy\n",
    "    li_scipy=0\n",
    "    ls_scipy=inf"
   ]
  },
  {
   "cell_type": "markdown",
   "metadata": {},
   "source": [
    "Para sistemas no degenerados, la corrección a la energía a primer orden se calcula como \n",
    "\n",
    "$$ E_{n}^{(1)} = \\int\\psi_{n}^{(0)*} H' \\psi_{n}^{(0)}d\\tau$$"
   ]
  },
  {
   "cell_type": "markdown",
   "metadata": {},
   "source": [
    "** Tarea 1 : Programar esta ecuación si conoces $H^{0}$ y sus soluciones. **"
   ]
  },
  {
   "cell_type": "code",
   "execution_count": 5,
   "metadata": {
    "collapsed": true
   },
   "outputs": [],
   "source": [
    "def correcion_1st_order_Energy(E_n,Psi_n,H_p,li,ls):\n",
    "    E1_n=Integral(Psi_n*(H_p)*Psi_n,(x,li,ls)).doit()\n",
    "    return(E_n+E1_n)"
   ]
  },
  {
   "cell_type": "code",
   "execution_count": 6,
   "metadata": {
    "collapsed": false
   },
   "outputs": [],
   "source": [
    "# Correción de la energía a primer orden\n",
    "E=[]\n",
    "Eev=[]\n",
    "Ec1=[]\n",
    "if Problem=='Particle in a one-dimensional box' or Problem=='Harmonic oscilator':\n",
    "    for i in range(n_inf,n_sup+1):\n",
    "        E.append(En.subs({n:i}))\n",
    "        Eev.append(E[i-n_inf].subs({m:mass, l:large, hbar:h}).evalf())\n",
    "        Ec1.append(correcion_1st_order_Energy(En.subs({n:i}),Psin.subs({n:i}),H_p,li_sympy,ls_sympy))\n",
    "if Problem=='Hydrogen atom (Helium correction)':\n",
    "    for i in range(n_inf,n_sup+1):\n",
    "        E.append(En.subs({n:i}))\n",
    "        Eev.append(E[i-n_inf])\n",
    "    if z==2:\n",
    "        integral_1=Integral(Integral((16*z**6*r1*r2**2*exp(-2*z*(r1+r2))),(r2,0,r1)),(r1,0,oo)).doit()\n",
    "        integral_2=Integral(Integral((16*z**6*r1**2*r2*exp(-2*z*(r1+r2))),(r2,r1,oo)),(r1,0,oo)).doit()\n",
    "        integral_total=(integral_1+integral_2)\n",
    "        Ec1.append(E[0]+integral_total)"
   ]
  },
  {
   "cell_type": "markdown",
   "metadata": {},
   "source": [
    "Y la corrección a la función de onda, también a primer orden, se obtiene como:\n",
    "\n",
    " $$ \\psi_{n}^{(1)} = \\sum_{m\\neq n} \\frac{\\langle\\psi_{m}^{(0)} | H' | \\psi_{n}^{(0)} \\rangle}{E_{n}^{(0)} - E_{m}^{(0)}} \\psi_{m}^{(0)}$$"
   ]
  },
  {
   "cell_type": "markdown",
   "metadata": {},
   "source": [
    "**Tarea 2: Programar esta ecuación si conoces $H^{0}$ y sus soluciones. **"
   ]
  },
  {
   "cell_type": "code",
   "execution_count": 7,
   "metadata": {
    "collapsed": false
   },
   "outputs": [],
   "source": [
    "# Correción de las funciones a primer orden\n",
    "if Pert.value!='':\n",
    "    if Problem=='Particle in a one-dimensional box' or Problem=='Harmonic oscilator':\n",
    "        Psi_c=[]\n",
    "        integrals=np.zeros((n_sup+1,n_sup+1))\n",
    "        for i in range(n_inf,n_sup+1):\n",
    "            a=0\n",
    "            for j in range(n_inf,n_sup+1):\n",
    "                if i!=j:\n",
    "                    integ= lambda x: eval(str(Psin.subs({n:j})*(h_p)*Psin.subs({n:i}))).subs({m:mass,l:large,w:omega,hbar:h})\n",
    "                    integrals[i,j]=integrate.quad(integ,li_scipy,ls_scipy)[0]\n",
    "                    cte=integrals[i,j]/(En.subs({n:i,m:mass,l:large})-En.subs({n:j,m:mass,l:large})).evalf()\n",
    "                    a=a+cte*Psin.subs({n:j})\n",
    "            Psi_c.append(Psin.subs({n:i})+a)     "
   ]
  },
  {
   "cell_type": "markdown",
   "metadata": {},
   "source": [
    "**Tarea 3: Investigue las soluciones a segundo orden y también programe las soluciones. **"
   ]
  },
  {
   "cell_type": "markdown",
   "metadata": {},
   "source": [
    "Y la corrección a la energía a segundo orden, se obtiene como:\n",
    "\n",
    " $$  E_{n}^{(2)} = \\sum_{m\\neq n} \\frac{|\\langle\\psi_{m}^{(0)} | H' | \\psi_{n}^{(0)} \\rangle|^{2}}{E_{n}^{(0)} - E_{m}^{(0)}} $$"
   ]
  },
  {
   "cell_type": "code",
   "execution_count": 8,
   "metadata": {
    "collapsed": false
   },
   "outputs": [],
   "source": [
    "# Correción a la energía a segundo orden\n",
    "if Pert.value!='':\n",
    "    if Problem=='Particle in a one-dimensional box' or Problem=='Harmonic oscilator':\n",
    "        if Correc.value=='2':\n",
    "            Ec2=[]\n",
    "            for i in range(n_inf,n_sup+1):\n",
    "                a=0\n",
    "                for j in range(n_inf,n_sup+1):\n",
    "                    if i!=j:\n",
    "                        cte=((integrals[i,j])**2)/(En.subs({n:i,m:mass,l:large,hbar:h})-En.subs({n:j,m:mass,l:large,hbar:h})).evalf()\n",
    "                        a=a+cte\n",
    "                Ec2.append(Ec1[i-n_inf]+a) "
   ]
  },
  {
   "cell_type": "markdown",
   "metadata": {},
   "source": [
    "**A continuación se muestran algunos de los resultados al problema resuelto**"
   ]
  },
  {
   "cell_type": "markdown",
   "metadata": {},
   "source": [
    "Las energías sin perturbación son:"
   ]
  },
  {
   "cell_type": "code",
   "execution_count": 9,
   "metadata": {
    "collapsed": false
   },
   "outputs": [
    {
     "name": "stdout",
     "output_type": "stream",
     "text": [
      "Para el estado base del Helio la energía es: -108.440 eV\n"
     ]
    }
   ],
   "source": [
    "if Problem=='Particle in a one-dimensional box' or Problem=='Harmonic oscilator':\n",
    "    if Pert.value!='':\n",
    "        print('%s'%eval(E))\n",
    "    if Pert.value=='':\n",
    "        print('No se ingreso ninguna perturbación')\n",
    "if Problem=='Hydrogen atom (Helium correction)':\n",
    "    if z==1:\n",
    "        for i in range(n_inf,n_sup+1):\n",
    "            print('La energía del estado %d es: %.3f' %i %(E[0]*27.211))\n",
    "    print('Para el estado base del Helio la energía es: %.3f eV' %(E[0]*27.11))"
   ]
  },
  {
   "cell_type": "markdown",
   "metadata": {},
   "source": [
    "La correción a primer orden de las energías son:"
   ]
  },
  {
   "cell_type": "code",
   "execution_count": 10,
   "metadata": {
    "collapsed": false
   },
   "outputs": [
    {
     "name": "stdout",
     "output_type": "stream",
     "text": [
      "Para el estado base del Helio la energía es: -74.552 eV\n"
     ]
    }
   ],
   "source": [
    "if Problem=='Particle in a one-dimensional box' or Problem=='Harmonic oscilator':\n",
    "    if Pert.value!='':\n",
    "        print(Ec1)\n",
    "    if Pert.value=='':\n",
    "        print('No se ingreso ninguna perturbación')\n",
    "if Problem=='Hydrogen atom (Helium correction)':\n",
    "    print('Para el estado base del Helio la energía es: %.3f eV' %(Ec1[0]*27.11))"
   ]
  },
  {
   "cell_type": "markdown",
   "metadata": {},
   "source": [
    "Si seleccionaste en los parámetros iniciales una correción a segundo orden entonces..."
   ]
  },
  {
   "cell_type": "markdown",
   "metadata": {},
   "source": [
    "Las correciones a la energía a segundo orden son:"
   ]
  },
  {
   "cell_type": "code",
   "execution_count": 11,
   "metadata": {
    "collapsed": false
   },
   "outputs": [
    {
     "name": "stdout",
     "output_type": "stream",
     "text": [
      "Este programa no corrige las energías a segundo orden de un átomo hidrogenoide\n"
     ]
    }
   ],
   "source": [
    "if Problem=='Particle in a one-dimensional box' or Problem=='Harmonic oscilator':\n",
    "    if Pert.value!='':\n",
    "        if Correc.value=='2':\n",
    "            print(Ec2)\n",
    "    if Pert.value=='':\n",
    "        print('No se ingreso ninguna perturbación')\n",
    "if Problem=='Hydrogen atom (Helium correction)':\n",
    "    print('Este programa no corrige las energías a segundo orden de un átomo hidrogenoide')"
   ]
  },
  {
   "cell_type": "markdown",
   "metadata": {},
   "source": [
    "Ahora vamos con la función de onda $(\\psi)$"
   ]
  },
  {
   "cell_type": "code",
   "execution_count": 12,
   "metadata": {
    "collapsed": false
   },
   "outputs": [],
   "source": [
    "form_item_layout = Layout(\n",
    "    display='flex',\n",
    "    flex_flow='row',\n",
    "    justify_content='space-between')\n",
    "\n",
    "Graph=IntSlider(min=n_inf, max=n_sup, step=1, disabled=False, continuous_update=False, orientation='horizontal',\\\n",
    "                readout=True, readout_format='d')\n",
    "\n",
    "form_items = [\n",
    "    Box([Label(value='What function do you want to see?'),\n",
    "         Graph], layout=form_item_layout)]\n",
    "\n",
    "form = Box(form_items, layout=Layout(\n",
    "    display='flex',\n",
    "    flex_flow='column',\n",
    "    border='solid 2px',\n",
    "    align_items='stretch',\n",
    "    width='40%'))\n",
    "form"
   ]
  },
  {
   "cell_type": "markdown",
   "metadata": {},
   "source": [
    "La función de onda original es:"
   ]
  },
  {
   "cell_type": "code",
   "execution_count": 16,
   "metadata": {
    "collapsed": false
   },
   "outputs": [
    {
     "data": {
      "text/latex": [
       "$$\\left(- 2 r_{1} + 2\\right) \\left(- 2 r_{2} + 2\\right) e^{- r_{1}} e^{- r_{2}}$$"
      ],
      "text/plain": [
       "                         -r₁  -r₂\n",
       "(-2⋅r₁ + 2)⋅(-2⋅r₂ + 2)⋅ℯ   ⋅ℯ   "
      ]
     },
     "execution_count": 16,
     "metadata": {},
     "output_type": "execute_result"
    }
   ],
   "source": [
    "Psin.subs({n:Graph.value})"
   ]
  },
  {
   "cell_type": "markdown",
   "metadata": {},
   "source": [
    "La correción a primer orden a la función de onda (utilizando todas las funciones en el rango seleccionado) es:"
   ]
  },
  {
   "cell_type": "code",
   "execution_count": 17,
   "metadata": {
    "collapsed": false
   },
   "outputs": [
    {
     "name": "stdout",
     "output_type": "stream",
     "text": [
      "Este programa no corrige las fucniones de un átomo hidrogenoide\n"
     ]
    }
   ],
   "source": [
    "if Problem=='Particle in a one-dimensional box' or Problem=='Harmonic oscilator':\n",
    "    if Pert.value!='':\n",
    "            Psi_c[Graph.value-n_inf]\n",
    "    if Pert.value=='':\n",
    "        print('No se ingreso ninguna perturbación')\n",
    "if Problem=='Hydrogen atom (Helium correction)':\n",
    "    print('Este programa no corrige las fucniones de un átomo hidrogenoide')"
   ]
  },
  {
   "cell_type": "markdown",
   "metadata": {},
   "source": [
    "Vamos a graficarlas para verlas mejor..."
   ]
  },
  {
   "cell_type": "markdown",
   "metadata": {},
   "source": [
    "La función de onda original es:"
   ]
  },
  {
   "cell_type": "code",
   "execution_count": 18,
   "metadata": {
    "collapsed": false
   },
   "outputs": [
    {
     "name": "stdout",
     "output_type": "stream",
     "text": [
      "Densidad de probabilidad para un electrón\n"
     ]
    },
    {
     "data": {
      "image/png": "[encoded data removed]",
      "text/plain": [
       "<matplotlib.figure.Figure at 0x1d035f68080>"
      ]
     },
     "metadata": {},
     "output_type": "display_data"
    },
    {
     "name": "stdout",
     "output_type": "stream",
     "text": [
      "Tome en cuenta que debido a la dificultad para seleccionar los límites de la gráfica se muestran bien los primeros\n",
      "3 estados. A partir de ahí visualizar la gráfica se complica.\n"
     ]
    }
   ],
   "source": [
    "if Problem=='Particle in a one-dimensional box':\n",
    "    plot(eval(str(Psin)).subs({n:Graph.value,m:mass,l:large,w:omega,hbar:h}),xlim=(li_scipy,ls_scipy),\\\n",
    "         title='$\\psi_{%d}$'%Graph.value)\n",
    "if Problem=='Harmonic oscilator':\n",
    "    plot(eval(str(Psin)).subs({n:Graph.value,m:mass,l:large,w:omega,hbar:h}),xlim=(-10*h/(mass*omega),10*h/(mass*omega)),\\\n",
    "         title='$\\psi_{%d}$'%Graph.value)\n",
    "if Problem=='Hydrogen atom (Helium correction)':\n",
    "    print('Densidad de probabilidad para un electrón')\n",
    "    plot(eval(str((4*pi*x**2*R_nl(Graph.value,q,x,z)**2))),xlim=(0,10),ylim=(0,20/Graph.value), title='$\\psi_{%ds}$'%Graph.value)\n",
    "    print('Tome en cuenta que debido a la dificultad para seleccionar los límites de la gráfica se muestran bien los primeros\\n\\\n",
    "3 estados. A partir de ahí visualizar la gráfica se complica.')"
   ]
  },
  {
   "cell_type": "markdown",
   "metadata": {},
   "source": [
    "La corrección a la función de onda es:"
   ]
  },
  {
   "cell_type": "code",
   "execution_count": 19,
   "metadata": {
    "collapsed": false
   },
   "outputs": [
    {
     "name": "stdout",
     "output_type": "stream",
     "text": [
      "Este programa no corrige las fucniones de un átomo hidrogenoide\n"
     ]
    }
   ],
   "source": [
    "if Problem=='Particle in a one-dimensional box':\n",
    "    if Pert.value!='':\n",
    "        plot(eval(str(Psi_c[Graph.value-n_inf])).subs({n:Graph.value,m:mass,l:large,w:omega,hbar:h}),\\\n",
    "             xlim=(li_scipy,ls_scipy),title='$\\psi_{%d}$'%Graph.value)\n",
    "    if Pert.value=='':\n",
    "        print('No se ingreso ninguna perturbación')\n",
    "if Problem=='Harmonic oscilator':\n",
    "    if Pert.value!='':\n",
    "        plot(eval(str(Psi_c[Graph.value-n_inf])).subs({n:Graph.value,m:mass,l:large,w:omega,hbar:h}),\\\n",
    "             xlim=(-10*h/(mass*omega),10*h/(mass*omega)),title='$\\psi_{%d}$' %Graph.value)\n",
    "    if Pert.value=='':\n",
    "        print('No se ingreso ninguna perturbación')\n",
    "if Problem=='Hydrogen atom (Helium correction)':\n",
    "    print('Este programa no corrige las fucniones de un átomo hidrogenoide')"
   ]
  },
  {
   "cell_type": "markdown",
   "metadata": {},
   "source": [
    "**Tarea 4.  Resolver el átomo de helio aplicando los programas anteriores.** "
   ]
  },
  {
   "cell_type": "markdown",
   "metadata": {},
   "source": [
    "Para resolver el átomo de helio se utilizaron los conceptos, que sirvieron como base para las primeras tareas. Sin embargo, en el Apéndice 1 viene con mayor detalles las consideraciones tomadas para resolver el problema."
   ]
  },
  {
   "cell_type": "markdown",
   "metadata": {},
   "source": [
    "## Apéndice 1"
   ]
  },
  {
   "cell_type": "markdown",
   "metadata": {},
   "source": [
    "Para el cálculo a las correciones del átomo de Helio se tomó en cuenta lo siguiente..."
   ]
  },
  {
   "cell_type": "markdown",
   "metadata": {},
   "source": [
    "La función de onda del átomo de Helio puede ser representada como:\n",
    "\n",
    "$$ \\psi_{nlm} = \\psi(r1)_{nlm} \\psi(r2)_{nlm}$$"
   ]
  },
  {
   "cell_type": "markdown",
   "metadata": {},
   "source": [
    "Donde, para el estado fundamental:\n",
    "\n",
    "$$ \\psi(r_{1}.r_{2})_{100} = \\frac{Z^{3}}{\\pi a_{0}^{3}} e^{\\frac{-Z}{a_{0}}(r_{1}+r_{2})}$$"
   ]
  },
  {
   "cell_type": "markdown",
   "metadata": {},
   "source": [
    "Y la perturbación sería el término de repulsión entre los dos electrones, es decir:\n",
    "\n",
    "$$ H'= \\frac{e^{2}}{r_{12}}=\\frac{e^{2}}{|r_{1}-r_{2}|}$$"
   ]
  },
  {
   "cell_type": "markdown",
   "metadata": {},
   "source": [
    "Finalmente la correción a primer orden de la energía sería:\n",
    "    \n",
    "$$ E^{1}= \\langle\\psi_{n}^{(0)} | H' | \\psi_{n}^{(0)} \\rangle =\\frac{Z^{6}e^{2}}{\\pi^{2} a_{0}^{6}} \\int_{0}^{2\\pi}\\int_{0}^{2\\pi}\\int_{0}^{\\pi}\\int_{0}^{\\pi}\\int_{0}^{\\infty}\\int_{0}^{\\infty} \\frac{e^{\\frac{-2Z}{a_{0}}(r_{1}+r_{2})}}{r_{12}} r_{1}^{2}r_{2}^{2}sen{\\theta_{1}}sen{\\theta_{2}} dr_{2} dr_{1} d\\theta_{2} d\\theta_{1} d\\phi_{2} d\\phi_{1}$$"
   ]
  },
  {
   "cell_type": "markdown",
   "metadata": {},
   "source": [
    "Se utiliza una expansión del termino de repulsión con los armónicos esféricos y se integra la parte angular. Una vez hecho eso, la integral queda expresada de la siguiente manera:"
   ]
  },
  {
   "cell_type": "markdown",
   "metadata": {},
   "source": [
    "$$ E^{1}= \\frac{16Z^{6}e^{2}}{a_{0}^{6}} \\left[\\int_{0}^{\\infty} r_{1}^{2} e^{\\frac{-2Z}{a_{0}}r_{1}} \\left(\\int_{0}^{r_{1}} \\frac{r_{2}^{2}}{r_{1}} e^{\\frac{-2Z}{a_{0}}r_{2}} dr_{2}+\\int_{r_{1}}^{\\infty}r_{2} e^{\\frac{-2Z}{a_{0}}r_{2}}dr_{2}\\right) dr_{1} \\right]$$"
   ]
  },
  {
   "cell_type": "markdown",
   "metadata": {},
   "source": [
    "**Tarea 5: Método variacional-perturbativo. **"
   ]
  },
  {
   "cell_type": "markdown",
   "metadata": {},
   "source": [
    "Este método nos permite estimar de forma precisa $E^{(2)}$ y correcciones perturbativas de la energía de órdenes más elevados para el estado fundamental del sistema, sin evaluar sumas infinitas. Ver ecuación 9.38 del libro. "
   ]
  },
  {
   "cell_type": "code",
   "execution_count": null,
   "metadata": {
    "collapsed": true
   },
   "outputs": [],
   "source": []
  },
  {
   "cell_type": "markdown",
   "metadata": {},
   "source": [
    "**Tarea 6. Revisar sección 9.7. **\n",
    "\n",
    "Inicialmente a mano, y sengunda instancia favor de intentar programar sección del problema, i.e. integral de Coulomb  e integral de intercambio."
   ]
  },
  {
   "cell_type": "code",
   "execution_count": null,
   "metadata": {
    "collapsed": true
   },
   "outputs": [],
   "source": []
  }
 ],
 "metadata": {
  "anaconda-cloud": {},
  "kernelspec": {
   "display_name": "Python [conda root]",
   "language": "python",
   "name": "conda-root-py"
  },
  "language_info": {
   "codemirror_mode": {
    "name": "ipython",
    "version": 3
   },
   "file_extension": ".py",
   "mimetype": "text/x-python",
   "name": "python",
   "nbconvert_exporter": "python",
   "pygments_lexer": "ipython3",
   "version": "3.5.2"
  },
  "widgets": {
   "state": {
    "40fd035f26b94adf81622378beb697a2": {
     "views": [
      {
       "cell_index": 10
      }
     ]
    },
    "4627107d00b54416a006bf440d813315": {
     "views": [
      {
       "cell_index": 31
      }
     ]
    },
    "8c6d0bea770c4369b29c040d5dd364d4": {
     "views": [
      {
       "cell_index": 5
      }
     ]
    }
   },
   "version": "1.2.0"
  }
 },
 "nbformat": 4,
 "nbformat_minor": 1
}
