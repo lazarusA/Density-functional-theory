{
 "cells": [
  {
   "cell_type": "markdown",
   "metadata": {
    "deletable": true,
    "editable": true
   },
   "source": [
    "## Teoría de perturbaciones"
   ]
  },
  {
   "cell_type": "markdown",
   "metadata": {
    "deletable": true,
    "editable": true
   },
   "source": [
    "Consiste en resolver un sistema perturbado(se conoce la solución al no perturbado), y donde el interés es conocer la contribución de la parte perturbada $H'$ al nuevo sistema total. "
   ]
  },
  {
   "cell_type": "markdown",
   "metadata": {
    "deletable": true,
    "editable": true
   },
   "source": [
    "$$ H = H^{0} + H'$$"
   ]
  },
  {
   "cell_type": "markdown",
   "metadata": {
    "deletable": true,
    "editable": true
   },
   "source": [
    "Para sistemas no degenerados, la corrección a la energía a primer orden se calcula como \n",
    "\n",
    "$$ E_{n}^{(1)} = \\int\\psi_{n}^{(0)*} H' \\psi_{n}^{(0)}d\\tau$$"
   ]
  },
  {
   "cell_type": "markdown",
   "metadata": {
    "deletable": true,
    "editable": true
   },
   "source": [
    "** Tarea 1 : Programar esta ecuación si conoces $H^{0}$ y sus soluciones. **"
   ]
  },
  {
   "cell_type": "markdown",
   "metadata": {
    "deletable": true,
    "editable": true
   },
   "source": [
    "Y la corrección a la función de onda, también a primer orden, se obtiene como:\n",
    "\n",
    " $$ \\psi_{n}^{(1)} = \\sum_{m\\neq n} \\frac{\\langle\\psi_{m}^{(0)} | H' | \\psi_{n}^{(0)} \\rangle}{E_{n}^{(0)} - E_{m}^{(0)}} \\psi_{m}^{(0)}$$"
   ]
  },
  {
   "cell_type": "markdown",
   "metadata": {
    "deletable": true,
    "editable": true
   },
   "source": [
    "**Tarea 2: Programar esta ecuación si conoces $H^{0}$ y sus soluciones. **"
   ]
  },
  {
   "cell_type": "markdown",
   "metadata": {
    "deletable": true,
    "editable": true
   },
   "source": [
    "**Tarea 3: Investigue las soluciones a segundo orden y también programe las soluciones. **"
   ]
  },
  {
   "cell_type": "markdown",
   "metadata": {
    "deletable": true,
    "editable": true
   },
   "source": [
    "**Tarea 4.  Resolver el átomo de helio aplicando los programas anteriores.** "
   ]
  },
  {
   "cell_type": "markdown",
   "metadata": {
    "deletable": true,
    "editable": true
   },
   "source": [
    "**Tarea 5: Método variacional-perturbativo. **"
   ]
  },
  {
   "cell_type": "markdown",
   "metadata": {
    "deletable": true,
    "editable": true
   },
   "source": [
    "Este método nos permite estimar de forma precisa $E^{(2)}$ y correcciones perturbativas de la energía de órdenes más elevados para el estado fundamental del sistema, sin evaluar sumas infinitas. Ver ecuación 9.38 del libro. "
   ]
  },
  {
   "cell_type": "markdown",
   "metadata": {
    "deletable": true,
    "editable": true
   },
   "source": [
    "**Resolver el átomo de helio, considerando este método (sección 9.4), como mejor le parezca. **"
   ]
  },
  {
   "cell_type": "markdown",
   "metadata": {
    "deletable": true,
    "editable": true
   },
   "source": [
    "**Tarea 6. Revisar sección 9.7. **\n",
    "\n",
    "Inicialmente a mano, y sengunda instancia favor de intentar programar sección del problema, i.e. integral de Coulomb  e integral de intercambio."
   ]
  },
  {
   "cell_type": "code",
   "execution_count": 2,
   "metadata": {
    "collapsed": true,
    "deletable": true,
    "editable": true
   },
   "outputs": [],
   "source": [
    "from sympy import *\n",
    "from sympy import init_printing; init_printing(use_latex = 'mathjax')\n",
    "import numpy as np\n",
    "import sympy.physics.hydrogen as hyd\n",
    "import mpmath as mp\n",
    "import sympy.functions.special.spherical_harmonics as sp\n",
    "import scipy.integrate as integ\n",
    "import scipy.constants as scc"
   ]
  },
  {
   "cell_type": "code",
   "execution_count": 3,
   "metadata": {
    "collapsed": false,
    "deletable": true,
    "editable": true
   },
   "outputs": [
    {
     "data": {
      "text/latex": [
       "$$\\left ( m_{e}, \\quad \\hbar, \\quad Z, \\quad \\omega, \\quad a_{0}, \\quad e, \\quad L, \\quad c, \\quad d, \\quad Z\\right )$$"
      ],
      "text/plain": [
       "(mₑ, h̅, Z, ω, a₀, e, L, c, d, Z)"
      ]
     },
     "execution_count": 3,
     "metadata": {},
     "output_type": "execute_result"
    }
   ],
   "source": [
    "var('x r r_1 r_2 phi_1 phi_2 theta_1 theta_2 phi theta r_r zeta')\n",
    "var('n l m', positive = 'True', integer = 'True')\n",
    "var('m_e hbar Z omega a_0 e L c d Z', real = 'True', constant = 'True')"
   ]
  },
  {
   "cell_type": "markdown",
   "metadata": {
    "collapsed": true,
    "deletable": true,
    "editable": true
   },
   "source": [
    "### Átomo de hidrógeno"
   ]
  },
  {
   "cell_type": "code",
   "execution_count": 4,
   "metadata": {
    "collapsed": false,
    "deletable": true,
    "editable": true
   },
   "outputs": [
    {
     "data": {
      "text/latex": [
       "$$\\frac{2 \\left(\\frac{2 r}{n}\\right)^{l} e^{- \\frac{r}{n}}}{n^{2} \\sqrt{\\left(l + n\\right)!}} L_{- l + n - 1}^{\\left(2 l + 1\\right)}\\left(\\frac{2 r}{n}\\right) \\sqrt{\\left(- l + n - 1\\right)!}$$"
      ],
      "text/plain": [
       "          -r                                                            \n",
       "       l  ───                                                           \n",
       "  ⎛2⋅r⎞    n                ⎛                     2⋅r⎞   _______________\n",
       "2⋅⎜───⎟ ⋅ℯ   ⋅assoc_laguerre⎜-l + n - 1, 2⋅l + 1, ───⎟⋅╲╱ (-l + n - 1)! \n",
       "  ⎝ n ⎠                     ⎝                      n ⎠                  \n",
       "────────────────────────────────────────────────────────────────────────\n",
       "                             2   __________                             \n",
       "                            n ⋅╲╱ (l + n)!                              "
      ]
     },
     "execution_count": 4,
     "metadata": {},
     "output_type": "execute_result"
    }
   ],
   "source": [
    "Yhyd = hyd.R_nl(n, l, r)\n",
    "Yhyd"
   ]
  },
  {
   "cell_type": "code",
   "execution_count": 5,
   "metadata": {
    "collapsed": false,
    "deletable": true,
    "editable": true
   },
   "outputs": [
    {
     "data": {
      "text/latex": [
       "$$- \\frac{1}{2 n^{2}}$$"
      ],
      "text/plain": [
       "-1  \n",
       "────\n",
       "   2\n",
       "2⋅n "
      ]
     },
     "execution_count": 5,
     "metadata": {},
     "output_type": "execute_result"
    }
   ],
   "source": [
    "Ehyd = hyd.E_nl(n)\n",
    "Ehyd"
   ]
  },
  {
   "cell_type": "code",
   "execution_count": 6,
   "metadata": {
    "collapsed": true,
    "deletable": true,
    "editable": true
   },
   "outputs": [],
   "source": [
    "#Corrección energía primer orden"
   ]
  },
  {
   "cell_type": "code",
   "execution_count": 7,
   "metadata": {
    "collapsed": false,
    "deletable": true,
    "editable": true,
    "scrolled": true
   },
   "outputs": [
    {
     "data": {
      "text/latex": [
       "$$- \\frac{\\hbar^{4}}{8 c^{2} m^{3}}$$"
      ],
      "text/plain": [
       "    4  \n",
       " -h̅   \n",
       "───────\n",
       "   2  3\n",
       "8⋅c ⋅m "
      ]
     },
     "execution_count": 7,
     "metadata": {},
     "output_type": "execute_result"
    }
   ],
   "source": [
    "Ehyd_1 = integrate(Yhyd.subs([(n, 1), (l, 0)])*(hbar/I)**4*(-1/(8*m**3*c**2))*\\\n",
    "          diff(Yhyd.subs([(n, 1), (l, 0)]), r, 4)*r**2, (r, 0, oo))\n",
    "Ehyd_1"
   ]
  },
  {
   "cell_type": "code",
   "execution_count": 8,
   "metadata": {
    "collapsed": false,
    "deletable": true,
    "editable": true
   },
   "outputs": [
    {
     "data": {
      "text/latex": [
       "$$-1.44634324025469 \\cdot 10^{-22}$$"
      ],
      "text/plain": [
       "-1.44634324025469e-22"
      ]
     },
     "execution_count": 8,
     "metadata": {},
     "output_type": "execute_result"
    }
   ],
   "source": [
    "Ehyd_1.subs([(hbar,scc.hbar),(c, scc.c),(m,scc.m_e)]) /(4*scc.epsilon_0)**4"
   ]
  },
  {
   "cell_type": "code",
   "execution_count": 9,
   "metadata": {
    "collapsed": true,
    "deletable": true,
    "editable": true
   },
   "outputs": [],
   "source": [
    "#Correción función primer orden"
   ]
  },
  {
   "cell_type": "code",
   "execution_count": 10,
   "metadata": {
    "collapsed": false,
    "deletable": true,
    "editable": true
   },
   "outputs": [
    {
     "data": {
      "text/latex": [
       "$$\\left [ - \\frac{5 \\sqrt{2} \\pi \\hbar^{4}}{48 c^{2} m^{3}}, \\quad - \\frac{49 \\sqrt{3} \\pi \\hbar^{4}}{1215 c^{2} m^{3}}, \\quad - \\frac{979 \\pi \\hbar^{4}}{23040 c^{2} m^{3}}\\right ]$$"
      ],
      "text/plain": [
       "⎡          4              4            4 ⎤\n",
       "⎢-5⋅√2⋅π⋅h̅    -49⋅√3⋅π⋅h̅    -979⋅π⋅h̅  ⎥\n",
       "⎢────────────, ─────────────, ───────────⎥\n",
       "⎢      2  3            2  3          2  3⎥\n",
       "⎣  48⋅c ⋅m       1215⋅c ⋅m    23040⋅c ⋅m ⎦"
      ]
     },
     "execution_count": 10,
     "metadata": {},
     "output_type": "execute_result"
    }
   ],
   "source": [
    "Yhyd_num = [simplify(integrate(Yhyd.subs([(n, i), (l, 0)])*(hbar/I)**4*(-1/(8*m**3*c**2))*\\\n",
    "          diff(Yhyd.subs([(n, 1), (l, 0)]), r, 4)*sin(theta)*r**2,\\\n",
    "                (r, 0, 1), (theta, 0, pi), (phi, 0, 2*pi)).args[0][0]) for i in range(2,5)]\n",
    "Yhyd_num"
   ]
  },
  {
   "cell_type": "code",
   "execution_count": 11,
   "metadata": {
    "collapsed": false,
    "deletable": true,
    "editable": true
   },
   "outputs": [
    {
     "data": {
      "text/latex": [
       "$$\\left [ - \\frac{3}{8}, \\quad - \\frac{4}{9}, \\quad - \\frac{15}{32}\\right ]$$"
      ],
      "text/plain": [
       "⎡            -15 ⎤\n",
       "⎢-3/8, -4/9, ────⎥\n",
       "⎣             32 ⎦"
      ]
     },
     "execution_count": 11,
     "metadata": {},
     "output_type": "execute_result"
    }
   ],
   "source": [
    "Yhyd_den = [(Ehyd.subs([(n, 1)]) - Ehyd.subs([(n, i)])) for i in range(2, 5)]\n",
    "Yhyd_den"
   ]
  },
  {
   "cell_type": "code",
   "execution_count": 12,
   "metadata": {
    "collapsed": false,
    "deletable": true,
    "editable": true
   },
   "outputs": [
    {
     "data": {
      "text/latex": [
       "$$\\frac{49 \\sqrt{6} \\pi \\hbar^{4} e^{- \\frac{r}{2}}}{2160 c^{2} m^{3}} \\left(- r + 2\\right) + \\frac{979 \\sqrt{3} \\pi \\hbar^{4} e^{- \\frac{r}{3}}}{145800 c^{2} m^{3}} \\left(\\frac{2 r^{2}}{9} - 2 r + 3\\right) + \\frac{5 \\sqrt{2} \\pi \\hbar^{4} e^{- r}}{9 c^{2} m^{3}}$$"
      ],
      "text/plain": [
       "                                                           -r                 \n",
       "                      -r                 ⎛   2          ⎞  ───                \n",
       "                      ───              4 ⎜2⋅r           ⎟   3                 \n",
       "          4            2    979⋅√3⋅π⋅h̅ ⋅⎜──── - 2⋅r + 3⎟⋅ℯ               4  -\n",
       "49⋅√6⋅π⋅h̅ ⋅(-r + 2)⋅ℯ                   ⎝ 9            ⎠        5⋅√2⋅π⋅h̅ ⋅ℯ \n",
       "───────────────────────── + ────────────────────────────────── + ─────────────\n",
       "              2  3                             2  3                    2  3   \n",
       "        2160⋅c ⋅m                      145800⋅c ⋅m                  9⋅c ⋅m    \n",
       "\n",
       " \n",
       " \n",
       " \n",
       "r\n",
       " \n",
       "─\n",
       " \n",
       " "
      ]
     },
     "execution_count": 12,
     "metadata": {},
     "output_type": "execute_result"
    }
   ],
   "source": [
    "Yhyd_1 = sum([(Yhyd_num[i]*Yhyd.subs([(n, i+1), (l, 0)]))/Yhyd_den[i] for i in range(3)])\n",
    "Yhyd_1"
   ]
  },
  {
   "cell_type": "code",
   "execution_count": 13,
   "metadata": {
    "collapsed": true,
    "deletable": true,
    "editable": true
   },
   "outputs": [],
   "source": [
    "#Corrección energía segundo orden"
   ]
  },
  {
   "cell_type": "code",
   "execution_count": 14,
   "metadata": {
    "collapsed": false,
    "deletable": true,
    "editable": true
   },
   "outputs": [
    {
     "data": {
      "text/latex": [
       "$$\\left [ \\frac{24649 \\pi^{2}}{1152 c^{4} m^{6}}, \\quad \\frac{2719201 \\pi^{2}}{492075 c^{4} m^{6}}, \\quad \\frac{1159879249 \\pi^{2}}{530841600 c^{4} m^{6}}\\right ]$$"
      ],
      "text/plain": [
       "⎡        2             2                2 ⎤\n",
       "⎢ 24649⋅π     2719201⋅π     1159879249⋅π  ⎥\n",
       "⎢──────────, ────────────, ───────────────⎥\n",
       "⎢      4  6          4  6             4  6⎥\n",
       "⎣1152⋅c ⋅m   492075⋅c ⋅m   530841600⋅c ⋅m ⎦"
      ]
     },
     "execution_count": 14,
     "metadata": {},
     "output_type": "execute_result"
    }
   ],
   "source": [
    "Ehyd_2_num = [simplify(integrate(Yhyd.subs([(n, i), (l, 0)])*(-1/(8*m**3*c**2))*\\\n",
    "          diff(Yhyd.subs([(n, 1), (l, 0)])*sin(theta)*r**2, r, 4),\\\n",
    "                (r, 0, 1), (theta, 0, pi), (phi, 0, 2*pi)).args[0][0]**2) for i in range(2,5)]\n",
    "Ehyd_2_num"
   ]
  },
  {
   "cell_type": "code",
   "execution_count": 15,
   "metadata": {
    "collapsed": false,
    "deletable": true,
    "editable": true
   },
   "outputs": [
    {
     "data": {
      "text/latex": [
       "$$\\left [ - \\frac{3}{8}, \\quad - \\frac{4}{9}, \\quad - \\frac{15}{32}\\right ]$$"
      ],
      "text/plain": [
       "⎡            -15 ⎤\n",
       "⎢-3/8, -4/9, ────⎥\n",
       "⎣             32 ⎦"
      ]
     },
     "execution_count": 15,
     "metadata": {},
     "output_type": "execute_result"
    }
   ],
   "source": [
    "Ehyd_2_den = [(Ehyd.subs([(n, 1)]) - Ehyd.subs([(n, i)])) for i in range(2, 5)]\n",
    "Ehyd_2_den"
   ]
  },
  {
   "cell_type": "code",
   "execution_count": 16,
   "metadata": {
    "collapsed": false,
    "deletable": true,
    "editable": true
   },
   "outputs": [
    {
     "data": {
      "text/latex": [
       "$$- \\frac{3.22200858259767 \\cdot 10^{-16} \\pi^{2}}{c^{4} m^{6}}$$"
      ],
      "text/plain": [
       "                       2 \n",
       "-3.22200858259767e-16⋅π  \n",
       "─────────────────────────\n",
       "           4  6          \n",
       "          c ⋅m           "
      ]
     },
     "execution_count": 16,
     "metadata": {},
     "output_type": "execute_result"
    }
   ],
   "source": [
    "Ehyd_2 = sum([Ehyd_2_num[i] / Ehyd_2_den[i] for i in range(3)])\n",
    "Ehyd_2 *(27.12*scc.eV)"
   ]
  },
  {
   "cell_type": "markdown",
   "metadata": {
    "collapsed": true,
    "deletable": true,
    "editable": true
   },
   "source": [
    "### Oscilador armónico"
   ]
  },
  {
   "cell_type": "code",
   "execution_count": 17,
   "metadata": {
    "collapsed": true,
    "deletable": true,
    "editable": true
   },
   "outputs": [],
   "source": [
    "import sympy.physics.qho_1d as qho"
   ]
  },
  {
   "cell_type": "code",
   "execution_count": 18,
   "metadata": {
    "collapsed": false,
    "deletable": true,
    "editable": true
   },
   "outputs": [
    {
     "data": {
      "text/latex": [
       "$$\\frac{\\sqrt[4]{m} \\sqrt[4]{\\omega} e^{- \\frac{m \\omega x^{2}}{2 \\hbar}}}{2^{\\frac{n}{2}} \\sqrt[4]{\\hbar} \\sqrt[4]{\\pi} \\sqrt{n!}} H_{n}\\left(\\frac{\\sqrt{\\omega} x}{\\sqrt{\\hbar}} \\sqrt{m}\\right)$$"
      ],
      "text/plain": [
       "                        2                     \n",
       " -n               -m⋅ω⋅x                      \n",
       " ───              ────────                    \n",
       "  2  4 ___ 4 ___    2⋅ℏ           ⎛   √m⋅√ω⋅x⎞\n",
       "2   ⋅╲╱ m ⋅╲╱ ω ⋅ℯ        ⋅hermite⎜n, ───────⎟\n",
       "                                  ⎝      √ℏ  ⎠\n",
       "──────────────────────────────────────────────\n",
       "              4 ___ 4 ___   ____              \n",
       "              ╲╱ ℏ ⋅╲╱ π ⋅╲╱ n!               "
      ]
     },
     "execution_count": 18,
     "metadata": {},
     "output_type": "execute_result"
    }
   ],
   "source": [
    "Yqho = qho.psi_n(n, x, m, omega)\n",
    "Yqho"
   ]
  },
  {
   "cell_type": "code",
   "execution_count": 19,
   "metadata": {
    "collapsed": false,
    "deletable": true,
    "editable": true
   },
   "outputs": [
    {
     "data": {
      "text/latex": [
       "$$\\hbar \\omega \\left(n + \\frac{1}{2}\\right)$$"
      ],
      "text/plain": [
       "ℏ⋅ω⋅(n + 1/2)"
      ]
     },
     "execution_count": 19,
     "metadata": {},
     "output_type": "execute_result"
    }
   ],
   "source": [
    "Eqho = qho.E_n(n, omega)\n",
    "Eqho"
   ]
  },
  {
   "cell_type": "code",
   "execution_count": 20,
   "metadata": {
    "collapsed": true,
    "deletable": true,
    "editable": true
   },
   "outputs": [],
   "source": [
    "#Corrección energía primer orden"
   ]
  },
  {
   "cell_type": "code",
   "execution_count": 21,
   "metadata": {
    "collapsed": false,
    "deletable": true,
    "editable": true
   },
   "outputs": [],
   "source": [
    "H_1 = c*x**3 + d*x**4"
   ]
  },
  {
   "cell_type": "code",
   "execution_count": 22,
   "metadata": {
    "collapsed": false,
    "deletable": true,
    "editable": true
   },
   "outputs": [
    {
     "data": {
      "text/latex": [
       "$$\\frac{3 \\hbar^{2} d}{4 m^{2} \\omega^{2}}$$"
      ],
      "text/plain": [
       "    2  \n",
       " 3⋅ℏ ⋅d\n",
       "───────\n",
       "   2  2\n",
       "4⋅m ⋅ω "
      ]
     },
     "execution_count": 22,
     "metadata": {},
     "output_type": "execute_result"
    }
   ],
   "source": [
    "Eqho_1 = integrate(Yqho.subs([(n, 0)])*H_1*Yqho.subs([(n, 0)]), (x, -oo, oo))\n",
    "Eqho_1.args[0][0]"
   ]
  },
  {
   "cell_type": "code",
   "execution_count": 23,
   "metadata": {
    "collapsed": true,
    "deletable": true,
    "editable": true
   },
   "outputs": [],
   "source": [
    "#Corrección función primer orden"
   ]
  },
  {
   "cell_type": "code",
   "execution_count": 24,
   "metadata": {
    "collapsed": false,
    "deletable": true,
    "editable": true
   },
   "outputs": [
    {
     "data": {
      "text/latex": [
       "$$\\left [ \\frac{3 \\sqrt{2} \\hbar^{\\frac{3}{2}} c}{4 m^{\\frac{3}{2}} \\omega^{\\frac{3}{2}}}, \\quad \\frac{3 \\sqrt{2} \\hbar^{2} d}{2 m^{2} \\omega^{2}}, \\quad \\frac{\\sqrt{3} \\hbar^{\\frac{3}{2}} c}{2 m^{\\frac{3}{2}} \\omega^{\\frac{3}{2}}}\\right ]$$"
      ],
      "text/plain": [
       "⎡      3/2          2         3/2   ⎤\n",
       "⎢3⋅√2⋅ℏ   ⋅c  3⋅√2⋅ℏ ⋅d   √3⋅ℏ   ⋅c ⎥\n",
       "⎢───────────, ─────────, ───────────⎥\n",
       "⎢   3/2  3/2      2  2      3/2  3/2⎥\n",
       "⎣4⋅m   ⋅ω      2⋅m ⋅ω    2⋅m   ⋅ω   ⎦"
      ]
     },
     "execution_count": 24,
     "metadata": {},
     "output_type": "execute_result"
    }
   ],
   "source": [
    "Yqho_num = [integrate(Yqho.subs([(n, i)])*H_1*Yqho.subs([(n, 0)]), (x, -oo, oo)) for i in range(4) if i != 0]\n",
    "Yqho_num = [Yqho_num[i].args[0][0] for i in range(3)]\n",
    "Yqho_num"
   ]
  },
  {
   "cell_type": "code",
   "execution_count": 25,
   "metadata": {
    "collapsed": false,
    "deletable": true,
    "editable": true
   },
   "outputs": [
    {
     "data": {
      "text/latex": [
       "$$\\left [ - \\hbar \\omega, \\quad - 2 \\hbar \\omega, \\quad - 3 \\hbar \\omega\\right ]$$"
      ],
      "text/plain": [
       "[-ℏ⋅ω, -2⋅ℏ⋅ω, -3⋅ℏ⋅ω]"
      ]
     },
     "execution_count": 25,
     "metadata": {},
     "output_type": "execute_result"
    }
   ],
   "source": [
    "Yqho_den = [(Eqho.subs([(n, 0)]) - Eqho.subs([(n, i)])) for i in range(4) if i != 0]\n",
    "Yqho_den"
   ]
  },
  {
   "cell_type": "code",
   "execution_count": 26,
   "metadata": {
    "collapsed": false,
    "deletable": true,
    "editable": true
   },
   "outputs": [
    {
     "data": {
      "text/latex": [
       "$$\\frac{e^{- \\frac{m \\omega x^{2}}{2 \\hbar}}}{\\hbar^{\\frac{5}{4}} \\sqrt[4]{\\pi} m^{\\frac{7}{4}} \\omega^{\\frac{11}{4}}} \\left(- \\frac{c x^{3}}{3} m^{2} \\omega^{2} - \\hbar c m \\omega x - \\frac{3 d}{2} \\hbar m \\omega x^{2} + \\frac{3 d}{4} \\hbar^{2}\\right)$$"
      ],
      "text/plain": [
       "                                                          2 \n",
       "                                                    -m⋅ω⋅x  \n",
       "⎛     2  2  3                          2      2  ⎞  ────────\n",
       "⎜  c⋅m ⋅ω ⋅x                3⋅ℏ⋅d⋅m⋅ω⋅x    3⋅ℏ ⋅d⎟    2⋅ℏ   \n",
       "⎜- ────────── - ℏ⋅c⋅m⋅ω⋅x - ──────────── + ──────⎟⋅ℯ        \n",
       "⎝      3                         2           4   ⎠          \n",
       "────────────────────────────────────────────────────────────\n",
       "                    5/4 4 ___  7/4  11/4                    \n",
       "                   ℏ   ⋅╲╱ π ⋅m   ⋅ω                        "
      ]
     },
     "execution_count": 26,
     "metadata": {},
     "output_type": "execute_result"
    }
   ],
   "source": [
    "Yqho_1 = sum([(Yqho_num[i]*Yqho.subs([(n, i+1)]))/Yqho_den[i] for i in range(3)])\n",
    "simplify(Yqho_1)"
   ]
  },
  {
   "cell_type": "code",
   "execution_count": 27,
   "metadata": {
    "collapsed": true,
    "deletable": true,
    "editable": true
   },
   "outputs": [],
   "source": [
    "#Corrección energía segundo orden"
   ]
  },
  {
   "cell_type": "code",
   "execution_count": 28,
   "metadata": {
    "collapsed": false,
    "deletable": true,
    "editable": true
   },
   "outputs": [
    {
     "data": {
      "text/latex": [
       "$$\\left [ \\frac{9 \\hbar^{3} c^{2}}{8 m^{3} \\omega^{3}}, \\quad \\frac{9 \\hbar^{4} d^{2}}{2 m^{4} \\omega^{4}}, \\quad \\frac{3 \\hbar^{3} c^{2}}{4 m^{3} \\omega^{3}}\\right ]$$"
      ],
      "text/plain": [
       "⎡   3  2     4  2     3  2⎤\n",
       "⎢9⋅ℏ ⋅c   9⋅ℏ ⋅d   3⋅ℏ ⋅c ⎥\n",
       "⎢───────, ───────, ───────⎥\n",
       "⎢   3  3     4  4     3  3⎥\n",
       "⎣8⋅m ⋅ω   2⋅m ⋅ω   4⋅m ⋅ω ⎦"
      ]
     },
     "execution_count": 28,
     "metadata": {},
     "output_type": "execute_result"
    }
   ],
   "source": [
    "Eqho_2_num = [integrate(Yqho.subs([(n, i)])*H_1*Yqho.subs([(n, 0)]), (x, -oo, oo)) for i in range(4) if i != 0]\n",
    "Eqho_2_num = [Eqho_2_num[i].args[0][0]**2 for i in range(3)]\n",
    "Eqho_2_num"
   ]
  },
  {
   "cell_type": "code",
   "execution_count": 29,
   "metadata": {
    "collapsed": false,
    "deletable": true,
    "editable": true
   },
   "outputs": [
    {
     "data": {
      "text/latex": [
       "$$\\left [ - \\hbar \\omega, \\quad - 2 \\hbar \\omega, \\quad - 3 \\hbar \\omega\\right ]$$"
      ],
      "text/plain": [
       "[-ℏ⋅ω, -2⋅ℏ⋅ω, -3⋅ℏ⋅ω]"
      ]
     },
     "execution_count": 29,
     "metadata": {},
     "output_type": "execute_result"
    }
   ],
   "source": [
    "Eqho_2_den = [(Eqho.subs([(n, 0)]) - Eqho.subs([(n, i)])) for i in range(4) if i != 0]\n",
    "Eqho_2_den"
   ]
  },
  {
   "cell_type": "code",
   "execution_count": 30,
   "metadata": {
    "collapsed": false,
    "deletable": true,
    "editable": true
   },
   "outputs": [
    {
     "data": {
      "text/latex": [
       "$$- \\frac{11 \\hbar^{2} c^{2}}{8 m^{3} \\omega^{4}} - \\frac{9 \\hbar^{3} d^{2}}{4 m^{4} \\omega^{5}}$$"
      ],
      "text/plain": [
       "      2  2      3  2\n",
       "  11⋅ℏ ⋅c    9⋅ℏ ⋅d \n",
       "- ──────── - ───────\n",
       "     3  4       4  5\n",
       "  8⋅m ⋅ω     4⋅m ⋅ω "
      ]
     },
     "execution_count": 30,
     "metadata": {},
     "output_type": "execute_result"
    }
   ],
   "source": [
    "Eqho_2 = sum([Eqho_2_num[i]/Eqho_2_den[i] for i in range(3)])\n",
    "Eqho_2"
   ]
  },
  {
   "cell_type": "markdown",
   "metadata": {
    "collapsed": true,
    "deletable": true,
    "editable": true
   },
   "source": [
    "### Partícula en caja"
   ]
  },
  {
   "cell_type": "code",
   "execution_count": 31,
   "metadata": {
    "collapsed": false,
    "deletable": true,
    "editable": true
   },
   "outputs": [
    {
     "data": {
      "text/latex": [
       "$$\\sqrt{2} \\sqrt{\\frac{1}{L}} \\sin{\\left (\\frac{\\pi x}{L} n \\right )}$$"
      ],
      "text/plain": [
       "       ___           \n",
       "      ╱ 1     ⎛π⋅n⋅x⎞\n",
       "√2⋅  ╱  ─ ⋅sin⎜─────⎟\n",
       "   ╲╱   L     ⎝  L  ⎠"
      ]
     },
     "execution_count": 31,
     "metadata": {},
     "output_type": "execute_result"
    }
   ],
   "source": [
    "Ypiab = sqrt(2/L) * sin(n*pi * x/L)\n",
    "Ypiabm = Ypiab.subs(n,m)\n",
    "Ypiab"
   ]
  },
  {
   "cell_type": "code",
   "execution_count": 32,
   "metadata": {
    "collapsed": false,
    "deletable": true,
    "editable": true
   },
   "outputs": [
    {
     "data": {
      "text/latex": [
       "$$\\frac{\\pi^{2} \\hbar^{2} n^{2}}{2 L^{2} m_{e}}$$"
      ],
      "text/plain": [
       " 2   2  2\n",
       "π ⋅h̅ ⋅n \n",
       "─────────\n",
       "    2    \n",
       " 2⋅L ⋅mₑ "
      ]
     },
     "execution_count": 32,
     "metadata": {},
     "output_type": "execute_result"
    }
   ],
   "source": [
    "Epiab = (hbar*pi*n)**2/(2*m_e*L**2)\n",
    "Epiab"
   ]
  },
  {
   "cell_type": "code",
   "execution_count": 33,
   "metadata": {
    "collapsed": true,
    "deletable": true,
    "editable": true
   },
   "outputs": [],
   "source": [
    "#Correción energía primer orden"
   ]
  },
  {
   "cell_type": "code",
   "execution_count": 34,
   "metadata": {
    "collapsed": false,
    "deletable": true,
    "editable": true,
    "scrolled": false
   },
   "outputs": [
    {
     "data": {
      "text/latex": [
       "$$- \\frac{L^{2}}{2 \\pi^{2}} + \\frac{L^{2}}{3}$$"
      ],
      "text/plain": [
       "    2     2\n",
       "   L     L \n",
       "- ──── + ──\n",
       "     2   3 \n",
       "  2⋅π      "
      ]
     },
     "execution_count": 34,
     "metadata": {},
     "output_type": "execute_result"
    }
   ],
   "source": [
    "H_1 = x**2\n",
    "Epiab_1 = integrate(Ypiab.subs([(n, 1)])*H_1*Ypiab.subs([(n, 1)]), (x, 0, L)).simplify()\n",
    "Epiab_1"
   ]
  },
  {
   "cell_type": "code",
   "execution_count": 35,
   "metadata": {
    "collapsed": true,
    "deletable": true,
    "editable": true
   },
   "outputs": [],
   "source": [
    "#Correción función de onda primer orden"
   ]
  },
  {
   "cell_type": "code",
   "execution_count": 36,
   "metadata": {
    "collapsed": true,
    "deletable": true,
    "editable": true
   },
   "outputs": [],
   "source": [
    "def ev(x, eL, en, em, epi, H):\n",
    "    return Ypiab.subs([(L, eL), (n, en), (pi, epi)])*H*Ypiabm.subs([(L, eL), (m, em), (pi, epi)])"
   ]
  },
  {
   "cell_type": "code",
   "execution_count": 37,
   "metadata": {
    "collapsed": false,
    "deletable": true,
    "editable": true
   },
   "outputs": [],
   "source": [
    "en = 1\n",
    "eL = 1e-9\n",
    "Ypiab_num = np.array([integ.quad(lambdify(x, ev(x, eL, en, i, np.pi, H_1), 'numpy'), 0, eL)[0] for i in range(1,5) if i != en])\n",
    "Ypiab_den = [Epiab.subs([(n, en), (L, eL)]) - Epiab.subs([(n, i), (L, eL)]) for i in range(1,5) if i != en]"
   ]
  },
  {
   "cell_type": "code",
   "execution_count": 133,
   "metadata": {
    "collapsed": false,
    "deletable": true,
    "editable": true
   },
   "outputs": [
    {
     "data": {
      "text/latex": [
       "$$\\left ( \\frac{1.20084365798327 \\cdot 10^{-37} m_{e}}{\\pi^{2} \\hbar^{2}}, \\quad - \\frac{9.49886096646936 \\cdot 10^{-39} m_{e}}{\\pi^{2} \\hbar^{2}}, \\quad \\frac{1.92134985277342 \\cdot 10^{-39} m_{e}}{\\pi^{2} \\hbar^{2}}\\right )$$"
      ],
      "text/plain": [
       "⎛1.20084365798327e-37⋅mₑ  -9.49886096646936e-39⋅mₑ   1.92134985277342e-39⋅mₑ⎞\n",
       "⎜───────────────────────, ─────────────────────────, ───────────────────────⎟\n",
       "⎜          2   2                     2   2                     2   2        ⎟\n",
       "⎝         π ⋅h̅                     π ⋅h̅                     π ⋅h̅         ⎠"
      ]
     },
     "execution_count": 133,
     "metadata": {},
     "output_type": "execute_result"
    }
   ],
   "source": [
    "Ampiab = Ypiab_num / Ypiab_den\n",
    "Ampiab[0], Ampiab[1], Ampiab[2]"
   ]
  },
  {
   "cell_type": "code",
   "execution_count": 39,
   "metadata": {
    "collapsed": false,
    "deletable": true,
    "editable": true
   },
   "outputs": [
    {
     "data": {
      "text/latex": [
       "$$\\frac{3.79740107299537 \\cdot 10^{-33} m_{e}}{\\pi^{2} \\hbar^{2}} \\sqrt{2} \\sin{\\left (2000000000.0 \\pi x \\right )} - \\frac{3.00380358313115 \\cdot 10^{-34} m_{e}}{\\pi^{2} \\hbar^{2}} \\sqrt{2} \\sin{\\left (3000000000.0 \\pi x \\right )} + \\frac{6.07584171679318 \\cdot 10^{-35} m_{e}}{\\pi^{2} \\hbar^{2}} \\sqrt{2} \\sin{\\left (4000000000.0 \\pi x \\right )}$$"
      ],
      "text/plain": [
       "3.79740107299537e-33⋅√2⋅mₑ⋅sin(2000000000.0⋅π⋅x)   3.00380358313115e-34⋅√2⋅mₑ⋅\n",
       "──────────────────────────────────────────────── - ───────────────────────────\n",
       "                      2   2                                              2   2\n",
       "                     π ⋅h̅                                              π ⋅h̅ \n",
       "\n",
       "sin(3000000000.0⋅π⋅x)   6.07584171679318e-35⋅√2⋅mₑ⋅sin(4000000000.0⋅π⋅x)\n",
       "───────────────────── + ────────────────────────────────────────────────\n",
       "                                              2   2                     \n",
       "                                             π ⋅h̅                      "
      ]
     },
     "execution_count": 39,
     "metadata": {},
     "output_type": "execute_result"
    }
   ],
   "source": [
    "Ypiab_1 = sum([Ampiab[i-2] * Ypiab.subs([(n, i), (L, eL)]) for i in range(1,5) if i != 1])\n",
    "Ypiab_1"
   ]
  },
  {
   "cell_type": "code",
   "execution_count": 40,
   "metadata": {
    "collapsed": true,
    "deletable": true,
    "editable": true
   },
   "outputs": [],
   "source": [
    "#Corrección energía segundo orden"
   ]
  },
  {
   "cell_type": "code",
   "execution_count": 41,
   "metadata": {
    "collapsed": false,
    "deletable": true,
    "editable": true
   },
   "outputs": [
    {
     "data": {
      "text/plain": [
       "array([  3.24455735e-38,   1.44365375e-39,   2.07651671e-40])"
      ]
     },
     "execution_count": 41,
     "metadata": {},
     "output_type": "execute_result"
    }
   ],
   "source": [
    "Epiab_2_num = np.array([integ.quad(lambdify(x, ev(x, eL, en, i, np.pi, H_1), 'numpy'), 0, eL)[0]**2 for i in range(1,5) if i != en])\n",
    "Epiab_2_num"
   ]
  },
  {
   "cell_type": "code",
   "execution_count": 42,
   "metadata": {
    "collapsed": false,
    "deletable": true,
    "editable": true
   },
   "outputs": [
    {
     "data": {
      "text/latex": [
       "$$\\left [ - \\frac{\\pi^{2} \\hbar^{2}}{m_{e}} 1.5 \\cdot 10^{18}, \\quad - \\frac{\\pi^{2} \\hbar^{2}}{m_{e}} 4.0 \\cdot 10^{18}, \\quad - \\frac{\\pi^{2} \\hbar^{2}}{m_{e}} 7.5 \\cdot 10^{18}\\right ]$$"
      ],
      "text/plain": [
       "⎡          2   2             2   2             2   2 ⎤\n",
       "⎢-1.5e+18⋅π ⋅h̅    -4.0e+18⋅π ⋅h̅    -7.5e+18⋅π ⋅h̅  ⎥\n",
       "⎢────────────────, ────────────────, ────────────────⎥\n",
       "⎣       mₑ                mₑ                mₑ       ⎦"
      ]
     },
     "execution_count": 42,
     "metadata": {},
     "output_type": "execute_result"
    }
   ],
   "source": [
    "Epiab_2_den = [Epiab.subs([(n, en), (L, eL)]) - Epiab.subs([(n, i), (L, eL)]) for i in range(1,5) if i != en]\n",
    "Epiab_2_den"
   ]
  },
  {
   "cell_type": "code",
   "execution_count": 43,
   "metadata": {
    "collapsed": false,
    "deletable": true,
    "editable": true
   },
   "outputs": [
    {
     "data": {
      "text/latex": [
       "$$- \\frac{2.20189826918465 \\cdot 10^{-56} m_{e}}{\\pi^{2} \\hbar^{2}}$$"
      ],
      "text/plain": [
       "-2.20189826918465e-56⋅mₑ \n",
       "─────────────────────────\n",
       "           2   2         \n",
       "          π ⋅h̅          "
      ]
     },
     "execution_count": 43,
     "metadata": {},
     "output_type": "execute_result"
    }
   ],
   "source": [
    "Epiab_2 = sum([Epiab_2_num[i]/Epiab_2_den[i] for i in range(3)])\n",
    "Epiab_2"
   ]
  },
  {
   "cell_type": "markdown",
   "metadata": {
    "deletable": true,
    "editable": true
   },
   "source": [
    "### Átomo de helio"
   ]
  },
  {
   "cell_type": "code",
   "execution_count": 44,
   "metadata": {
    "collapsed": true,
    "deletable": true,
    "editable": true
   },
   "outputs": [],
   "source": [
    "#Corrección energía primer orden"
   ]
  },
  {
   "cell_type": "code",
   "execution_count": 45,
   "metadata": {
    "collapsed": false,
    "deletable": true,
    "editable": true
   },
   "outputs": [
    {
     "data": {
      "text/latex": [
       "$$\\frac{4 \\sqrt{2} \\left(\\frac{4 r_{1}}{n}\\right)^{l} e^{- \\frac{2 r_{1}}{n}}}{n^{2} \\sqrt{\\left(l + n\\right)!}} L_{- l + n - 1}^{\\left(2 l + 1\\right)}\\left(\\frac{4 r_{1}}{n}\\right) \\sqrt{\\left(- l + n - 1\\right)!}$$"
      ],
      "text/plain": [
       "              -2⋅r₁                                                           \n",
       "           l  ──────                                                          \n",
       "     ⎛4⋅r₁⎞     n                  ⎛                     4⋅r₁⎞   _____________\n",
       "4⋅√2⋅⎜────⎟ ⋅ℯ      ⋅assoc_laguerre⎜-l + n - 1, 2⋅l + 1, ────⎟⋅╲╱ (-l + n - 1)\n",
       "     ⎝ n  ⎠                        ⎝                      n  ⎠                \n",
       "──────────────────────────────────────────────────────────────────────────────\n",
       "                                 2   __________                               \n",
       "                                n ⋅╲╱ (l + n)!                                \n",
       "\n",
       "  \n",
       "  \n",
       "__\n",
       "! \n",
       "  \n",
       "──\n",
       "  \n",
       "  "
      ]
     },
     "execution_count": 45,
     "metadata": {},
     "output_type": "execute_result"
    }
   ],
   "source": [
    "Yhe_1 = hyd.R_nl(n, l, r_1, Z = 2)\n",
    "Yhe_2 = Yhe_1.subs([(r_1, r_2)])\n",
    "Yhe_1"
   ]
  },
  {
   "cell_type": "code",
   "execution_count": 46,
   "metadata": {
    "collapsed": false,
    "deletable": true,
    "editable": true
   },
   "outputs": [
    {
     "data": {
      "text/latex": [
       "$$- \\frac{2}{n^{2}}$$"
      ],
      "text/plain": [
       "-2 \n",
       "───\n",
       "  2\n",
       " n "
      ]
     },
     "execution_count": 46,
     "metadata": {},
     "output_type": "execute_result"
    }
   ],
   "source": [
    "Ehe = hyd.E_nl(n, Z=2)\n",
    "Ehe"
   ]
  },
  {
   "cell_type": "code",
   "execution_count": 47,
   "metadata": {
    "collapsed": false,
    "deletable": true,
    "editable": true
   },
   "outputs": [
    {
     "data": {
      "text/latex": [
       "$$\\frac{32 r_{1}^{2}}{r_{r}} r_{2}^{2} e^{- 2 r_{1}} e^{- 2 r_{2}}$$"
      ],
      "text/plain": [
       "     2   2  -2⋅r₁  -2⋅r₂\n",
       "32⋅r₁ ⋅r₂ ⋅ℯ     ⋅ℯ     \n",
       "────────────────────────\n",
       "           rᵣ           "
      ]
     },
     "execution_count": 47,
     "metadata": {},
     "output_type": "execute_result"
    }
   ],
   "source": [
    "def Ehe_r(nn, mm):\n",
    "    return Yhe_1.subs([(n, nn), (l, 0)])*Yhe_2.subs([(n, mm), (l, 0)])*r_1**2*r_2**2*(1/r_r)\n",
    "Ehe_r(1, 1)"
   ]
  },
  {
   "cell_type": "code",
   "execution_count": 48,
   "metadata": {
    "collapsed": false,
    "deletable": true,
    "editable": true
   },
   "outputs": [
    {
     "name": "stdout",
     "output_type": "stream",
     "text": [
      "34.0142500000000 eV\n"
     ]
    }
   ],
   "source": [
    "def Ehe_ev(nn, mm):\n",
    "    return integrate(integrate(Ehe_r(1, nn).subs([(r_r, r_2)]), (r_1, 0, r_2)) + \\\n",
    "                 integrate(Ehe_r(1, mm).subs([(r_r, r_1)]), (r_1, r_2, oo)), (r_2, 0, oo))\n",
    "\n",
    "print(Ehe_ev(1, 1) * (27.2114), 'eV' )"
   ]
  },
  {
   "cell_type": "markdown",
   "metadata": {
    "deletable": true,
    "editable": true
   },
   "source": [
    "## Variacional-perturbativo"
   ]
  },
  {
   "cell_type": "code",
   "execution_count": 50,
   "metadata": {
    "collapsed": false,
    "deletable": true,
    "editable": true
   },
   "outputs": [
    {
     "data": {
      "text/latex": [
       "$$4 \\zeta^{3} e^{- \\zeta \\left(r_{1} + r_{2}\\right)}$$"
      ],
      "text/plain": [
       "   3  -ζ⋅(r₁ + r₂)\n",
       "4⋅ζ ⋅ℯ            "
      ]
     },
     "execution_count": 50,
     "metadata": {},
     "output_type": "execute_result"
    }
   ],
   "source": [
    "Yhe_vp = hyd.R_nl(1, 0, r_1, Z=zeta) * hyd.R_nl(1, 0, r_2, Z=zeta)\n",
    "simplify(Yhe_vp)"
   ]
  },
  {
   "cell_type": "code",
   "execution_count": 110,
   "metadata": {
    "collapsed": false,
    "deletable": true,
    "editable": true
   },
   "outputs": [
    {
     "data": {
      "text/latex": [
       "$$- 2 Z \\zeta + \\zeta^{2}$$"
      ],
      "text/plain": [
       "          2\n",
       "-2⋅Z⋅ζ + ζ "
      ]
     },
     "execution_count": 110,
     "metadata": {},
     "output_type": "execute_result"
    }
   ],
   "source": [
    "Ehe_vp = integrate(integrate(Yhe_vp*(zeta - Z)*((1/r_1)+(1/r_2))*Yhe_vp*r_1**2*r_2**2, (r_1, 0, oo)).args[0][0]\\\n",
    "                   , (r_2, 0, oo)).args[0][0] - zeta**2\n",
    "Ehe_vp"
   ]
  },
  {
   "cell_type": "code",
   "execution_count": 111,
   "metadata": {
    "collapsed": false,
    "deletable": true,
    "editable": true
   },
   "outputs": [
    {
     "data": {
      "text/latex": [
       "$$- 2 Z \\zeta + \\zeta^{2} + \\frac{5 \\zeta}{8}$$"
      ],
      "text/plain": [
       "          2   5⋅ζ\n",
       "-2⋅Z⋅ζ + ζ  + ───\n",
       "               8 "
      ]
     },
     "execution_count": 111,
     "metadata": {},
     "output_type": "execute_result"
    }
   ],
   "source": [
    "Ehe_vp_1 = Ehe_vp + Ehe_ev(1, 1)*zeta/2\n",
    "Ehe_vp_1"
   ]
  },
  {
   "cell_type": "code",
   "execution_count": 114,
   "metadata": {
    "collapsed": false,
    "deletable": true,
    "editable": true
   },
   "outputs": [
    {
     "data": {
      "text/latex": [
       "$$- 2 Z + 2 \\zeta + \\frac{5}{8}$$"
      ],
      "text/plain": [
       "-2⋅Z + 2⋅ζ + 5/8"
      ]
     },
     "execution_count": 114,
     "metadata": {},
     "output_type": "execute_result"
    }
   ],
   "source": [
    "Ehe_vp_deriv = diff(Ehe_vp_1, zeta, 1)\n",
    "Ehe_vp_deriv"
   ]
  },
  {
   "cell_type": "code",
   "execution_count": 121,
   "metadata": {
    "collapsed": false,
    "deletable": true,
    "editable": true
   },
   "outputs": [
    {
     "data": {
      "text/latex": [
       "$$Z - \\frac{5}{16}$$"
      ],
      "text/plain": [
       "Z - 5/16"
      ]
     },
     "execution_count": 121,
     "metadata": {},
     "output_type": "execute_result"
    }
   ],
   "source": [
    "zeta_min = solve(Ehe_vp_deriv, zeta)[0]\n",
    "zeta_min"
   ]
  },
  {
   "cell_type": "code",
   "execution_count": 124,
   "metadata": {
    "collapsed": false,
    "deletable": true,
    "editable": true
   },
   "outputs": [
    {
     "data": {
      "text/latex": [
       "$$- Z^{2} + \\frac{5 Z}{8} - \\frac{25}{256}$$"
      ],
      "text/plain": [
       "   2   5⋅Z    25\n",
       "- Z  + ─── - ───\n",
       "        8    256"
      ]
     },
     "execution_count": 124,
     "metadata": {},
     "output_type": "execute_result"
    }
   ],
   "source": [
    "Ehe_vp_corr = simplify(Ehe_vp_1.subs([(zeta, zeta_min)]))\n",
    "Ehe_vp_corr"
   ]
  },
  {
   "cell_type": "code",
   "execution_count": 130,
   "metadata": {
    "collapsed": false,
    "deletable": true,
    "editable": true
   },
   "outputs": [
    {
     "name": "stdout",
     "output_type": "stream",
     "text": [
      "-77.4887132812500 eV\n"
     ]
    }
   ],
   "source": [
    "print(Ehe_vp_corr.subs([(Z, 2)]) * (27.2114), 'eV')"
   ]
  },
  {
   "cell_type": "code",
   "execution_count": null,
   "metadata": {
    "collapsed": true,
    "deletable": true,
    "editable": true
   },
   "outputs": [],
   "source": []
  }
 ],
 "metadata": {
  "kernelspec": {
   "display_name": "Python 3",
   "language": "python",
   "name": "python3"
  },
  "language_info": {
   "codemirror_mode": {
    "name": "ipython",
    "version": 3
   },
   "file_extension": ".py",
   "mimetype": "text/x-python",
   "name": "python",
   "nbconvert_exporter": "python",
   "pygments_lexer": "ipython3",
   "version": "3.5.1"
  }
 },
 "nbformat": 4,
 "nbformat_minor": 0
}
