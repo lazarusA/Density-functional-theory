{
 "cells": [
  {
   "cell_type": "markdown",
   "metadata": {},
   "source": [
    "## Teoría de perturbaciones"
   ]
  },
  {
   "cell_type": "markdown",
   "metadata": {},
   "source": [
    "Consiste en resolver un sistema perturbado(se conoce la solución al no perturbado), y donde el interés es conocer la contribución de la parte perturbada $H'$ al nuevo sistema total. "
   ]
  },
  {
   "cell_type": "markdown",
   "metadata": {},
   "source": [
    "$$ H = H^{0} + H'$$"
   ]
  },
  {
   "cell_type": "markdown",
   "metadata": {},
   "source": [
    "Para sistemas no degenerados, la corrección a la energía a primer orden se calcula como \n",
    "\n",
    "$$ E_{n}^{(1)} = \\int\\psi_{n}^{(0)*} H' \\psi_{n}^{(0)}d\\tau$$"
   ]
  },
  {
   "cell_type": "markdown",
   "metadata": {},
   "source": [
    "** Tarea 1 : Programar esta ecuación si conoces $H^{0}$ y sus soluciones. **"
   ]
  },
  {
   "cell_type": "code",
   "execution_count": 13,
   "metadata": {},
   "outputs": [
    {
     "name": "stdout",
     "output_type": "stream",
     "text": [
      "Energy level upon which we should perform the perturbation: 2\n",
      "Angular frequency, 1 is suggested: 3\n",
      "Perturbation: x\n"
     ]
    },
    {
     "data": {
      "text/latex": [
       "$$\\frac{3.75 \\hbar^{2}}{\\hbar} - \\frac{0.125 \\sqrt{\\hbar}}{\\sqrt{\\pi}} + 11.25 \\hbar$$"
      ],
      "text/plain": [
       "       2                     \n",
       "3.75⋅h̅    0.125⋅√ℏ          \n",
       "──────── - ──────── + 11.25⋅ℏ\n",
       "   ℏ          √π             "
      ]
     },
     "execution_count": 13,
     "metadata": {},
     "output_type": "execute_result"
    }
   ],
   "source": [
    "### Solución\n",
    "#Importar de sympy el hamiltoniano y eigenfunciones para el oscilador armónico cuántico\n",
    "from sympy.physics.qho_1d import psi_n\n",
    "from sympy.physics.qho_1d import E_n\n",
    "from sympy import *\n",
    "from sympy import init_printing; init_printing(use_latex = 'mathjax')\n",
    "\n",
    "n, m, m_e, omega, hbar = symbols('n m m_e omega hbar', real = True, constant = True)\n",
    "var('x')\n",
    "\n",
    "m_e = 9.10938356e-31\n",
    "#Necesitamos seleccionar un nivel energético, sobre el cual realizar la corrección debida a la perturbación\n",
    "n = Abs(sympify(input('Energy level upon which we should perform the perturbation: ')))\n",
    "omega = sympify(input('Angular frequency, 1 is suggested: '))\n",
    "#Unperturbed wavefunctions\n",
    "wavefuncn = psi_n(n, x, m_e, omega)\n",
    "\n",
    "#Energía previa a la perturbación\n",
    "E0 = E_n(n, omega)\n",
    "#Necesitamos definir un nuevo hamiltoniano. Este debe contener el original y agregar la perturbación\n",
    "\n",
    "H = ((-hbar**2)/(2*m_e)*diff(wavefuncn, x, 2) + wavefuncn*(m_e*(omega*x)**2)/2) + wavefuncn*sympify(input('Perturbation: '))\n",
    "\n",
    "#Energy of the unperturbed H.O. Hamiltonian\n",
    "E0 = E_n(n, omega)\n",
    "E0\n",
    "\n",
    "\n",
    "#here we perform the inner product integral\n",
    "innerproduct = conjugate(wavefuncn)*H                                  \n",
    "E = E0 + integrate(innerproduct, (x, -oo,oo))\n",
    "PorcErr = (((E-E0)*100)/E0)\n",
    "\n",
    "E\n",
    "\n",
    "\n"
   ]
  },
  {
   "cell_type": "markdown",
   "metadata": {},
   "source": [
    "Y la corrección a la función de onda, también a primer orden, se obtiene como:\n",
    "\n",
    " $$ \\psi_{n}^{(1)} = \\sum_{m\\neq n} \\frac{\\langle\\psi_{m}^{(0)} | H' | \\psi_{n}^{(0)} \\rangle}{E_{n}^{(0)} - E_{m}^{(0)}} \\psi_{m}^{(0)}$$"
   ]
  },
  {
   "cell_type": "markdown",
   "metadata": {},
   "source": [
    "**Tarea 2: Programar esta ecuación si conoces $H^{0}$ y sus soluciones. **"
   ]
  },
  {
   "cell_type": "code",
   "execution_count": 14,
   "metadata": {},
   "outputs": [
    {
     "name": "stdout",
     "output_type": "stream",
     "text": [
      "Energy level for which we are going to calculate the corrected wavefunction: 2\n",
      "Highest energy level we are going to consider:5\n",
      "Angular frequency, 1 is suggested: 2\n",
      "Perturbation: x**2\n"
     ]
    },
    {
     "data": {
      "image/png": "[encoded data removed]",
      "text/plain": [
       "<matplotlib.figure.Figure at 0xcb6bfcc5f8>"
      ]
     },
     "metadata": {},
     "output_type": "display_data"
    },
    {
     "data": {
      "text/plain": [
       "<sympy.plotting.plot.Plot at 0xcb6bfccb00>"
      ]
     },
     "execution_count": 14,
     "metadata": {},
     "output_type": "execute_result"
    }
   ],
   "source": [
    "### Solución\n",
    "#Importar de sympy el hamiltoniano y eigenfunciones para el oscilador armónico cuántico\n",
    "from sympy.physics.qho_1d import psi_n\n",
    "from sympy.physics.qho_1d import E_n\n",
    "from sympy import *\n",
    "from sympy import init_printing; init_printing(use_latex = 'mathjax')\n",
    "\n",
    "n, m, m_e, omega, hbar = symbols('n m m_e omega hbar', real = True, constant = True)\n",
    "var('x')\n",
    "\n",
    "m_e = 9.10938356e-31\n",
    "#Necesitamos seleccionar un nivel energético, sobre el cuál realizar la corrección debida a la perturbación\n",
    "n = Abs(sympify(input('Energy level for which we are going to calculate the corrected wavefunction: ')))\n",
    "i= Abs(sympify(input('Highest energy level we are going to consider:')))\n",
    "omega = sympify(input('Angular frequency, 1 is suggested: '))\n",
    "#Unperturbed wavefunctions\n",
    "wavefuncn = psi_n(n, x, m_e, omega)\n",
    "\n",
    "#Energía previa a la perturbación\n",
    "E0 = E_n(n, omega)\n",
    "\n",
    "#Necesitamos definir un nuevo Hamiltoniano. Este debe contener el original y agregar la perturbación.\n",
    "\n",
    "H =  wavefuncn*sympify(input('Perturbation: '))\n",
    "\n",
    "#Energy of the unperturbed H.O. Hamiltonian\n",
    "E0 = E_n(n, omega)\n",
    "psicorr = 0\n",
    "\n",
    "for m in range(i):\n",
    "    if m !=n:\n",
    "        psim= psi_n(m, x, m_e, omega)\n",
    "        product = conjugate(psim)*H\n",
    "        innerproduct = integrate(product, (x,-oo,oo))\n",
    "        Em = E_n(m, omega)\n",
    "        corr = ((innerproduct)/(E0-Em))*psim\n",
    "        psicorr = psicorr + corr\n",
    "    \n",
    "    \n",
    "    else:\n",
    "        psicorr = psicorr\n",
    "        \n",
    "#inner product integral\n",
    "innerproduct = conjugate(wavefuncn)*H                                  \n",
    "E = E0 + integrate(innerproduct, (x, -oo,oo))\n",
    "Err = (((E-E0)*100)/E0)\n",
    "\n",
    "psipert = wavefuncn + psicorr\n",
    "psipert.evalf()\n",
    "psiplot = conjugate(psipert)*psipert\n",
    "E\n",
    "plot(psiplot,(x,-0.1,0.1))"
   ]
  },
  {
   "cell_type": "markdown",
   "metadata": {},
   "source": [
    "**Tarea 3: Investigue las soluciones a segundo orden y también programe las soluciones. **"
   ]
  },
  {
   "cell_type": "code",
   "execution_count": 15,
   "metadata": {},
   "outputs": [
    {
     "name": "stdout",
     "output_type": "stream",
     "text": [
      "Energy level for which we are going to calculate the energy correction: 1\n",
      "Highest energy level we are going to consider for our calculations:2\n",
      "Angular frequency, 1 is suggested: 2\n",
      "Perturbation: x\n"
     ]
    },
    {
     "data": {
      "text/latex": [
       "$$3 \\hbar + 1.37221140351236 \\cdot 10^{29}$$"
      ],
      "text/plain": [
       "3⋅ℏ + 1.37221140351236e+29"
      ]
     },
     "execution_count": 15,
     "metadata": {},
     "output_type": "execute_result"
    }
   ],
   "source": [
    "### Solución\n",
    "#La forma es extremadamente similar para la corrección de la energía a segundo orden. Solo trabajamos con energía\n",
    "#en vez de funciones de onda.\n",
    "#Importar de sympy el Hamiltoniano y eigenfunciones para el oscilador armónico cuántico\n",
    "from sympy.physics.qho_1d import psi_n\n",
    "from sympy.physics.qho_1d import E_n\n",
    "from sympy import *\n",
    "from sympy import init_printing; init_printing(use_latex = 'mathjax')\n",
    "\n",
    "n, m, m_e, omega, hbar = symbols('n m m_e omega hbar', real = True, constant = True)\n",
    "var('x')\n",
    "\n",
    "m_e = 9.10938356e-31\n",
    "#Necesitamos seleccionar un nivel energético, sobre el cuál realizar la corrección debida a la perturbación\n",
    "n = Abs(sympify(input('Energy level for which we are going to calculate the energy correction: ')))\n",
    "i= Abs(sympify(input('Highest energy level we are going to consider for our calculations:')))\n",
    "omega = sympify(input('Angular frequency, 1 is suggested: '))\n",
    "#Unperturbed wavefunctions\n",
    "wavefuncn = psi_n(n, x, m_e, omega)\n",
    "\n",
    "#Energía previa a la perturbación\n",
    "E0 = E_n(n, omega)\n",
    "\n",
    "#Necesitamos definir un nuevo hamiltoniano. Este debe contener el original y agregar la perturbación\n",
    "\n",
    "H =  wavefuncn*sympify(input('Perturbation: '))\n",
    "\n",
    "integrandoprimerorden = conjugate(wavefuncn)*H\n",
    "primerorden = integrate (integrandoprimerorden, (x,-oo,oo))\n",
    "#Energy of the unperturbed H.O. Hamiltonian\n",
    "E0 = E_n(n, omega)\n",
    "Ecorr = 0\n",
    "\n",
    "#La primera parte de la corrección a 2º orden es la de primer orden\n",
    "\n",
    "\n",
    "for m in range(i):\n",
    "    if m !=n:\n",
    "        psim= psi_n(m, x, m_e, omega)\n",
    "        product = conjugate(psim)*H\n",
    "        innerproduct = integrate(product, (x,-oo,oo))\n",
    "        Em = E_n(m, omega)\n",
    "        corr = ((innerproduct)**2/(E0-Em))\n",
    "        Ecorr = Ecorr + corr\n",
    "    \n",
    "    \n",
    "    else:\n",
    "        Ecorr = Ecorr\n",
    "\n",
    "\n",
    "E2 = E0 + primerorden + Ecorr\n",
    "\n",
    "E2\n",
    "#plot(psiplot,(x,-0.1,0.1))\n",
    "\n"
   ]
  },
  {
   "cell_type": "markdown",
   "metadata": {},
   "source": [
    "**Tarea 4.  Resolver el átomo de helio aplicando los programas anteriores.** "
   ]
  },
  {
   "cell_type": "code",
   "execution_count": 16,
   "metadata": {},
   "outputs": [
    {
     "data": {
      "text/latex": [
       "$$\\left ( \\frac{4}{e^{r_{1}} e^{r_{2}}}, \\quad -1, \\quad 16 q^{2} \\int_{0}^{\\infty} \\frac{r_{2}^{2}}{e^{2 r_{2}}} \\int_{0}^{\\infty} \\frac{r_{1}^{2}}{e^{2 r_{1}} \\left|{r_{1} - r_{2}}\\right|}\\, dr_{1}\\, dr_{2}, \\quad \\frac{5 q^{2}}{8}\\right )$$"
      ],
      "text/plain": [
       "⎛                       ∞                                          ⎞\n",
       "⎜                       ⌠                                          ⎟\n",
       "⎜                       ⎮            ∞                             ⎟\n",
       "⎜                       ⎮            ⌠                             ⎟\n",
       "⎜                       ⎮            ⎮   2  -2⋅r₁                 2⎟\n",
       "⎜   -r₁  -r₂          2 ⎮   2  -2⋅r₂ ⎮ r₁ ⋅ℯ                   5⋅q ⎟\n",
       "⎜4⋅ℯ   ⋅ℯ   , -1, 16⋅q ⋅⎮ r₂ ⋅ℯ     ⋅⎮ ────────── d(r₁) d(r₂), ────⎟\n",
       "⎜                       ⎮            ⎮ │r₁ - r₂│                8  ⎟\n",
       "⎜                       ⎮            ⌡                             ⎟\n",
       "⎜                       ⎮            0                             ⎟\n",
       "⎜                       ⌡                                          ⎟\n",
       "⎝                       0                                          ⎠"
      ]
     },
     "execution_count": 16,
     "metadata": {},
     "output_type": "execute_result"
    }
   ],
   "source": [
    "\n",
    "from sympy.physics.hydrogen import E_nl, R_nl\n",
    "var('r1, r2, q', positive=True, real=True)\n",
    "\n",
    "\n",
    "\n",
    "def Helium(N1,N2,L1,L2):\n",
    "    \n",
    "    Eb=E_nl(N1,1)+E_nl(N2,1)\n",
    "    Psi1=R_nl(N1, L1, r1, Z=1)\n",
    "    Psi2=R_nl(N2, L2, r2, Z=1)\n",
    "    Psi=Psi1*Psi2\n",
    "    E_correction1 = integrate(integrate(r1**2*r2**2*conjugate(Psi1)*conjugate(Psi2)*q**2*Psi1*Psi2/abs(r1-r2), (r1,0,oo)), (r2,0,oo))\n",
    "    E_correctionR1 = q**2*integrate(r2**2*conjugate(Psi2)*Psi2*(integrate(r1**2*conjugate(Psi1)*Psi1/r2, (r1,0,r2))+integrate(r1**2*conjugate(Psi1)*Psi1/r1, (r1,r2,oo))), (r2,0,oo))\n",
    "    \n",
    "    return Psi, Eb, E_correction1, E_correctionR1\n",
    "\n",
    "\n",
    "    E_correction1, E_correctionR1\n",
    "    \n",
    "Helium (1,1,0,0)     "
   ]
  },
  {
   "cell_type": "markdown",
   "metadata": {},
   "source": [
    "**Tarea 5: Método variacional-perturbativo. **"
   ]
  },
  {
   "cell_type": "markdown",
   "metadata": {},
   "source": [
    "Este método nos permite estimar de forma precisa $E^{(2)}$ y correcciones perturbativas de la energía de órdenes más elevados para el estado fundamental del sistema, sin evaluar sumas infinitas. Ver ecuación 9.38 del libro. "
   ]
  },
  {
   "cell_type": "markdown",
   "metadata": {},
   "source": [
    "**Resolver el átomo de helio, considerando este método (sección 9.4), como mejor le parezca. **"
   ]
  },
  {
   "cell_type": "markdown",
   "metadata": {},
   "source": [
    "**Tarea 6. Revisar sección 9.7. **\n",
    "\n",
    "Inicialmente a mano, y sengunda instancia favor de intentar programar sección del problema, i.e. integral de Coulomb  e integral de intercambio."
   ]
  },
  {
   "cell_type": "markdown",
   "metadata": {},
   "source": [
    "## Siguiente: Segunda parte, Octubre\n",
    "Simetrías moleculares y Hartree-Fock"
   ]
  },
  {
   "cell_type": "code",
   "execution_count": null,
   "metadata": {
    "collapsed": true
   },
   "outputs": [],
   "source": [
    "def hov:\n",
    "    "
   ]
  }
 ],
 "metadata": {
  "kernelspec": {
   "display_name": "Python 3",
   "language": "python",
   "name": "python3"
  },
  "language_info": {
   "codemirror_mode": {
    "name": "ipython",
    "version": 3
   },
   "file_extension": ".py",
   "mimetype": "text/x-python",
   "name": "python",
   "nbconvert_exporter": "python",
   "pygments_lexer": "ipython3",
   "version": "3.6.1"
  }
 },
 "nbformat": 4,
 "nbformat_minor": 1
}
