{
 "cells": [
  {
   "cell_type": "code",
   "execution_count": 1,
   "metadata": {
    "collapsed": true
   },
   "outputs": [],
   "source": [
    "#Importando librerías\n",
    "from sympy import *\n",
    "from sympy.parsing.sympy_parser import *\n",
    "from sympy.physics.qho_1d import *\n",
    "from matplotlib import *\n",
    "from ipywidgets import *\n",
    "\n",
    "#Impresión para \"jupyter notebook\"\n",
    "init_printing(use_latex = 'mathjax')"
   ]
  },
  {
   "cell_type": "code",
   "execution_count": 2,
   "metadata": {
    "collapsed": true
   },
   "outputs": [],
   "source": [
    "[n, p, x, m, l, hbar, omega, alpha] = symbols('n p x m l hbar omega, alpha', real = True, positive = True)"
   ]
  },
  {
   "cell_type": "code",
   "execution_count": 3,
   "metadata": {},
   "outputs": [
    {
     "data": {
      "application/vnd.jupyter.widget-view+json": {
       "model_id": "711b71a8207f4d7b8d3ae65a8c9c118f",
       "version_major": 2,
       "version_minor": 0
      },
      "text/plain": [
       "A Jupyter Widget"
      ]
     },
     "metadata": {},
     "output_type": "display_data"
    },
    {
     "data": {
      "application/vnd.jupyter.widget-view+json": {
       "model_id": "2101b1efc36f4534a19682bf8992f0c8",
       "version_major": 2,
       "version_minor": 0
      },
      "text/plain": [
       "A Jupyter Widget"
      ]
     },
     "metadata": {},
     "output_type": "display_data"
    },
    {
     "data": {
      "application/vnd.jupyter.widget-view+json": {
       "model_id": "74bd338c2d5741418bd40d12f750c0d0",
       "version_major": 2,
       "version_minor": 0
      },
      "text/plain": [
       "A Jupyter Widget"
      ]
     },
     "metadata": {},
     "output_type": "display_data"
    }
   ],
   "source": [
    "items_layout = Layout(width='auto')     # override the default width of the button to 'auto' to let the button grow\n",
    "\n",
    "box_layout = Layout(display='flex',\n",
    "                    flex_flow='column',\n",
    "                    align_items='stretch',\n",
    "                    border='solid',\n",
    "                    width='50%')\n",
    "Title = Label(value = \"El programa ya reconoce las variables simbolicas $n$, $l$, $p$, $x$, $m$, $hbar$ y $omega$.\")\n",
    "Problem = RadioButtons(options = ['Harmonic Oscilator', 'Particle In a Box'], layout = items_layout)\n",
    "Function = Checkbox(description='\\(¿Calculate Psi_n? \\)')\n",
    "Energy = Checkbox(description='\\(¿Calculate E_n? \\)')\n",
    "Variables = Text(description = '\\(Vars= \\)', layout = items_layout)\n",
    "Perturbation = Text(description = '\\(H^´= \\)', layout = items_layout)\n",
    "Order = IntSlider(min = 0, max = 2, description = '\\(ECO: \\)', layout = items_layout)\n",
    "Level = BoundedIntText(min = 0, description = '\\(n= \\)', layout = items_layout)\n",
    "IntegralX1 = Text(description = '\\(x_1= \\)', layout = items_layout)\n",
    "IntegralX2 = Text(description = '\\(x_2= \\)', layout = items_layout)\n",
    "Iterations = BoundedIntText(min = 1, description = '\\(Iter= \\)', layout = items_layout)\n",
    "\n",
    "items = [Function, Energy, Variables, Perturbation, Order, Level, IntegralX1, IntegralX2, Iterations]\n",
    "\n",
    "box = Box(children=items, layout=box_layout)\n",
    "\n",
    "display(Title)\n",
    "display(Problem)\n",
    "display(box)"
   ]
  },
  {
   "cell_type": "code",
   "execution_count": 43,
   "metadata": {},
   "outputs": [],
   "source": [
    "if Variables.value != '':\n",
    "    var(Variables.value)\n",
    "Hp = eval(Perturbation.value)\n",
    "O = Order.value\n",
    "n = Level.value\n",
    "x1 = eval(IntegralX1.value)\n",
    "x2 = eval(IntegralX2.value)\n",
    "p = Iterations.value"
   ]
  },
  {
   "cell_type": "code",
   "execution_count": 44,
   "metadata": {
    "collapsed": true
   },
   "outputs": [],
   "source": [
    "def phi(n):\n",
    "    if Problem.value == 'Harmonic Oscilator':\n",
    "        return psi_n(n, x, m, omega)\n",
    "    if Problem.value == 'Particle In a Box':\n",
    "        return sqrt(2/l)*sin(((n*pi)/l)*x)"
   ]
  },
  {
   "cell_type": "code",
   "execution_count": 45,
   "metadata": {
    "collapsed": true
   },
   "outputs": [],
   "source": [
    "def E(n):\n",
    "    if Problem.value == 'Harmonic Oscilator':\n",
    "        return E_n(n, omega)\n",
    "    if Problem.value == 'Particle In a Box':\n",
    "        return (n**2*pi**2*hbar**2)/(2*m*l**2)"
   ]
  },
  {
   "cell_type": "code",
   "execution_count": 46,
   "metadata": {},
   "outputs": [],
   "source": [
    "if Energy.value == True:\n",
    "    EO0 = E(n)\n",
    "    Emat = Matrix([EO0])\n",
    "    if O >= 1:\n",
    "        IntegrandEO1 = phi(n)*Hp*phi(n)\n",
    "        IntEO1 = integrate(IntegrandEO1, (x, x1, x2))\n",
    "        EO1 = IntEO1\n",
    "        Emat = Emat.row_insert(1, Matrix([EO1]))\n",
    "    if O == 2:\n",
    "        if Problem.value == 'Harmonic Oscilator':\n",
    "            for i in range(0, p+1):\n",
    "                j = i\n",
    "                if i != n:\n",
    "                    if ((n == 0) and (i == 1)) or (i==0):\n",
    "                        IntegrandEO2 = Matrix([phi(i)*Hp*phi(n)])\n",
    "                        DenominatorEO2 = Matrix([E(n)-E(i)])\n",
    "                    else:\n",
    "                        IntegrandEO2 = IntegrandEO2.row_insert(j-1, Matrix([phi(i)*Hp*phi(n)]))\n",
    "                        DenominatorEO2 = DenominatorEO2.row_insert(j-1, Matrix([E(n)-E(i)]))\n",
    "        if Problem.value == 'Particle In a Box':\n",
    "            for i in range(0, p+2):\n",
    "                j = i\n",
    "                if i != n and i != 0:\n",
    "                    if ((n == 1) and (i == 2)) or (i==1):\n",
    "                        IntegrandEO2 = Matrix([phi(i)*Hp*phi(n)])\n",
    "                        DenominatorEO2 = Matrix([E(n)-E(i)])\n",
    "                    else:\n",
    "                        IntegrandEO2 = IntegrandEO2.row_insert(j-1, Matrix([phi(i)*Hp*phi(n)]))\n",
    "                        DenominatorEO2 = DenominatorEO2.row_insert(j-1, Matrix([E(n)-E(i)]))\n",
    "        IntEO2 = integrate(IntegrandEO2, (x, x1, x2))\n",
    "        IntEO2Sq = zeros(len(IntEO2), 1)\n",
    "        for i in range(p):\n",
    "            IntEO2Sq[i] = IntEO2[i]**2\n",
    "        DivisionEO2 = zeros(p, 1)\n",
    "        for i in range(p):\n",
    "            DivisionEO2[i] = IntEO2Sq[i]/DenominatorEO2[i]\n",
    "        EO2 = 0\n",
    "        for i in range(p):\n",
    "            EO2 = EO2 + DivisionEO2[i]\n",
    "        Emat = Emat.row_insert(2, Matrix([EO2]))\n",
    "    Ep = 0\n",
    "    for i in range(O+1):\n",
    "        Ep = Ep + Emat[i]\n",
    "if Function.value == True:\n",
    "    PHIO0 = phi(n)\n",
    "    PHImat = Matrix([PHIO0])\n",
    "    if O >= 1:\n",
    "        if Problem.value == 'Harmonic Oscilator':\n",
    "            for i in range(0, p+1):\n",
    "                j = i\n",
    "                if i != n:\n",
    "                    if ((n == 0) and (i == 1)) or (i == 0):\n",
    "                        IntegrandPHIO1 = Matrix([phi(i)*Hp*phi(n)])\n",
    "                        DenominatorPHIO1 = Matrix([E(n)-E(i)])\n",
    "                        Phi_pO1 = Matrix([phi(i)])\n",
    "                    else:\n",
    "                        IntegrandPHIO1 = IntegrandPHIO1.row_insert(j-1, Matrix([phi(i)*Hp*phi(n)]))\n",
    "                        DenominatorPHIO1 = DenominatorPHIO1.row_insert(j-1, Matrix([E(n)-E(i)]))\n",
    "                        Phi_pO1 = Phi_pO1.row_insert(j-1, Matrix([phi(i)]))\n",
    "        if Problem.value == 'Particle In a Box':\n",
    "            for i in range(0, p+2):\n",
    "                j = i\n",
    "                if i != n and i != 0:\n",
    "                    if ((n == 1) and (i == 2)) or (i == 1):\n",
    "                        IntegrandPHIO1 = Matrix([phi(i)*Hp*phi(n)])\n",
    "                        DenominatorPHIO1 = Matrix([E(n)-E(i)])\n",
    "                        Phi_pO1 = Matrix([phi(i)])\n",
    "                    else:\n",
    "                        IntegrandPHIO1 = IntegrandPHIO1.row_insert(j-1, Matrix([phi(i)*Hp*phi(n)]))\n",
    "                        DenominatorPHIO1 = DenominatorPHIO1.row_insert(j-1, Matrix([E(n)-E(i)]))\n",
    "                        Phi_pO1 = Phi_pO1.row_insert(j-1, Matrix([phi(i)]))\n",
    "        IntPHIO1 = integrate(IntegrandPHIO1, (x, x1, x2))\n",
    "        ProductPHIO1 = zeros(p, 1)\n",
    "        for i in range(p):\n",
    "            ProductPHIO1[i] = (IntPHIO1[i]/DenominatorPHIO1[i])*Phi_pO1[i]\n",
    "        PHIO1 = 0\n",
    "        for i in range(p):\n",
    "            PHIO1 = PHIO1 + ProductPHIO1[i]\n",
    "        PHImat = PHImat.row_insert(1, Matrix([PHIO1]))\n",
    "    PHIp = 0\n",
    "    if O < 2:\n",
    "        for i in range(O+1):\n",
    "            PHIp = PHIp + PHImat[i]\n",
    "    else:\n",
    "        for i in range(2):\n",
    "            PHIp = PHIp + PHImat[i]"
   ]
  },
  {
   "cell_type": "code",
   "execution_count": 47,
   "metadata": {},
   "outputs": [
    {
     "data": {
      "text/latex": [
       "$$\\left[\\begin{matrix}\\frac{\\pi^{2} \\hbar^{2}}{2 l^{2} m}\\\\- \\frac{20 l^{3}}{3} + \\frac{10 l^{3}}{\\pi^{2}}\\\\- \\frac{204800 l^{8} m}{243 \\pi^{6} \\hbar^{2}}\\end{matrix}\\right]$$"
      ],
      "text/plain": [
       "⎡     2   2     ⎤\n",
       "⎢    π ⋅h̅      ⎥\n",
       "⎢    ──────     ⎥\n",
       "⎢       2       ⎥\n",
       "⎢    2⋅l ⋅m     ⎥\n",
       "⎢               ⎥\n",
       "⎢      3       3⎥\n",
       "⎢  20⋅l    10⋅l ⎥\n",
       "⎢- ───── + ─────⎥\n",
       "⎢    3        2 ⎥\n",
       "⎢            π  ⎥\n",
       "⎢               ⎥\n",
       "⎢          8    ⎥\n",
       "⎢ -204800⋅l ⋅m  ⎥\n",
       "⎢ ───────────── ⎥\n",
       "⎢        6   2  ⎥\n",
       "⎣   243⋅π ⋅h̅   ⎦"
      ]
     },
     "execution_count": 47,
     "metadata": {},
     "output_type": "execute_result"
    }
   ],
   "source": [
    "Emat"
   ]
  },
  {
   "cell_type": "code",
   "execution_count": 48,
   "metadata": {},
   "outputs": [
    {
     "data": {
      "text/latex": [
       "$$\\frac{\\pi^{2} \\hbar^{2}}{2 l^{2} m} - \\frac{20 l^{3}}{3} + \\frac{10 l^{3}}{\\pi^{2}} - \\frac{204800 l^{8} m}{243 \\pi^{6} \\hbar^{2}}$$"
      ],
      "text/plain": [
       " 2   2       3       3           8  \n",
       "π ⋅h̅    20⋅l    10⋅l    204800⋅l ⋅m\n",
       "────── - ───── + ───── - ───────────\n",
       "   2       3        2          6   2\n",
       "2⋅l ⋅m             π      243⋅π ⋅h̅ "
      ]
     },
     "execution_count": 48,
     "metadata": {},
     "output_type": "execute_result"
    }
   ],
   "source": [
    "Ep"
   ]
  },
  {
   "cell_type": "code",
   "execution_count": 49,
   "metadata": {},
   "outputs": [
    {
     "data": {
      "text/latex": [
       "$$\\left[\\begin{matrix}\\frac{\\sqrt{2}}{\\sqrt{l}} \\sin{\\left (\\frac{\\pi x}{l} \\right )}\\\\- \\frac{640 \\sqrt{2} l^{\\frac{9}{2}} m}{27 \\pi^{4} \\hbar^{2}} \\sin{\\left (\\frac{2 \\pi}{l} x \\right )}\\end{matrix}\\right]$$"
      ],
      "text/plain": [
       "⎡             ⎛π⋅x⎞        ⎤\n",
       "⎢       √2⋅sin⎜───⎟        ⎥\n",
       "⎢             ⎝ l ⎠        ⎥\n",
       "⎢       ───────────        ⎥\n",
       "⎢            √l            ⎥\n",
       "⎢                          ⎥\n",
       "⎢         9/2      ⎛2⋅π⋅x⎞ ⎥\n",
       "⎢-640⋅√2⋅l   ⋅m⋅sin⎜─────⎟ ⎥\n",
       "⎢                  ⎝  l  ⎠ ⎥\n",
       "⎢──────────────────────────⎥\n",
       "⎢            4   2         ⎥\n",
       "⎣        27⋅π ⋅h̅          ⎦"
      ]
     },
     "execution_count": 49,
     "metadata": {},
     "output_type": "execute_result"
    }
   ],
   "source": [
    "PHImat"
   ]
  },
  {
   "cell_type": "code",
   "execution_count": 50,
   "metadata": {},
   "outputs": [
    {
     "data": {
      "text/latex": [
       "$$\\frac{\\sqrt{2}}{\\sqrt{l}} \\sin{\\left (\\frac{\\pi x}{l} \\right )} - \\frac{640 \\sqrt{2} l^{\\frac{9}{2}} m}{27 \\pi^{4} \\hbar^{2}} \\sin{\\left (\\frac{2 \\pi}{l} x \\right )}$$"
      ],
      "text/plain": [
       "      ⎛π⋅x⎞           9/2      ⎛2⋅π⋅x⎞\n",
       "√2⋅sin⎜───⎟   640⋅√2⋅l   ⋅m⋅sin⎜─────⎟\n",
       "      ⎝ l ⎠                    ⎝  l  ⎠\n",
       "─────────── - ────────────────────────\n",
       "     √l                  4   2        \n",
       "                     27⋅π ⋅h̅         "
      ]
     },
     "execution_count": 50,
     "metadata": {},
     "output_type": "execute_result"
    }
   ],
   "source": [
    "PHIp"
   ]
  },
  {
   "cell_type": "markdown",
   "metadata": {},
   "source": [
    "## Teoría de perturbaciones"
   ]
  },
  {
   "cell_type": "markdown",
   "metadata": {},
   "source": [
    "Consiste en resolver un sistema perturbado(se conoce la solución al no perturbado), y donde el interés es conocer la contribución de la parte perturbada $H'$ al nuevo sistema total. "
   ]
  },
  {
   "cell_type": "markdown",
   "metadata": {},
   "source": [
    "$$ H = H^{0} + H'$$"
   ]
  },
  {
   "cell_type": "markdown",
   "metadata": {},
   "source": [
    "Para sistemas no degenerados, la corrección a la energía a primer orden se calcula como \n",
    "\n",
    "$$ E_{n}^{(1)} = \\int\\psi_{n}^{(0)*} H' \\psi_{n}^{(0)}d\\tau$$"
   ]
  },
  {
   "cell_type": "markdown",
   "metadata": {},
   "source": [
    "** Tarea 1 : Programar esta ecuación si conoces $H^{0}$ y sus soluciones. **"
   ]
  },
  {
   "cell_type": "code",
   "execution_count": 26,
   "metadata": {},
   "outputs": [
    {
     "name": "stdout",
     "output_type": "stream",
     "text": [
      "El programa ya reconoce las variables simbolicas x, m y hbar.\n",
      "\n",
      "¿Desea declarar más variables? (0:No; 1:Sí)\n",
      "1\n",
      "\n",
      "Añada las variables simbólicas que requiera. Cuando haya finalizado, ingrese 'done'.\n",
      "var_1 = alpha, real = True\n",
      "var_2 = pi\n",
      "var_3 = done\n"
     ]
    }
   ],
   "source": []
  },
  {
   "cell_type": "markdown",
   "metadata": {},
   "source": [
    "Y la corrección a la función de onda, también a primer orden, se obtiene como:\n",
    "\n",
    " $$ \\psi_{n}^{(1)} = \\sum_{m\\neq n} \\frac{\\langle\\psi_{m}^{(0)} | H' | \\psi_{n}^{(0)} \\rangle}{E_{n}^{(0)} - E_{m}^{(0)}} \\psi_{m}^{(0)}$$"
   ]
  },
  {
   "cell_type": "markdown",
   "metadata": {},
   "source": [
    "**Tarea 2: Programar esta ecuación si conoces $H^{0}$ y sus soluciones. **"
   ]
  },
  {
   "cell_type": "code",
   "execution_count": null,
   "metadata": {
    "collapsed": true
   },
   "outputs": [],
   "source": [
    "### Solución"
   ]
  },
  {
   "cell_type": "markdown",
   "metadata": {},
   "source": [
    "**Tarea 3: Investigue las soluciones a segundo orden y también programe las soluciones. **"
   ]
  },
  {
   "cell_type": "code",
   "execution_count": null,
   "metadata": {
    "collapsed": true
   },
   "outputs": [],
   "source": [
    "### Solución\n",
    "\n",
    "\n"
   ]
  },
  {
   "cell_type": "markdown",
   "metadata": {},
   "source": [
    "**Tarea 4.  Resolver el átomo de helio aplicando los programas anteriores.** "
   ]
  },
  {
   "cell_type": "code",
   "execution_count": null,
   "metadata": {
    "collapsed": true
   },
   "outputs": [],
   "source": []
  },
  {
   "cell_type": "markdown",
   "metadata": {},
   "source": [
    "**Tarea 5: Método variacional-perturbativo. **"
   ]
  },
  {
   "cell_type": "markdown",
   "metadata": {},
   "source": [
    "Este método nos permite estimar de forma precisa $E^{(2)}$ y correcciones perturbativas de la energía de órdenes más elevados para el estado fundamental del sistema, sin evaluar sumas infinitas. Ver ecuación 9.38 del libro. "
   ]
  },
  {
   "cell_type": "markdown",
   "metadata": {},
   "source": [
    "**Resolver el átomo de helio, considerando este método (sección 9.4), como mejor le parezca. **"
   ]
  },
  {
   "cell_type": "markdown",
   "metadata": {},
   "source": [
    "**Tarea 6. Revisar sección 9.7. **\n",
    "\n",
    "Inicialmente a mano, y sengunda instancia favor de intentar programar sección del problema, i.e. integral de Coulomb  e integral de intercambio."
   ]
  },
  {
   "cell_type": "markdown",
   "metadata": {},
   "source": [
    "## Siguiente: Segunda parte, Octubre\n",
    "Simetrías moleculares y Hartree-Fock"
   ]
  },
  {
   "cell_type": "code",
   "execution_count": null,
   "metadata": {
    "collapsed": true
   },
   "outputs": [],
   "source": []
  }
 ],
 "metadata": {
  "kernelspec": {
   "display_name": "Python 3",
   "language": "python",
   "name": "python3"
  },
  "language_info": {
   "codemirror_mode": {
    "name": "ipython",
    "version": 3
   },
   "file_extension": ".py",
   "mimetype": "text/x-python",
   "name": "python",
   "nbconvert_exporter": "python",
   "pygments_lexer": "ipython3",
   "version": "3.6.2"
  }
 },
 "nbformat": 4,
 "nbformat_minor": 1
}
