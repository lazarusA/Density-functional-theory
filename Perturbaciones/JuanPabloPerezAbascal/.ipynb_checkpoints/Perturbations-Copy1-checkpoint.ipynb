{
 "cells": [
  {
   "cell_type": "code",
   "execution_count": 1,
   "metadata": {
    "collapsed": true
   },
   "outputs": [],
   "source": [
    "#Importando librerías\n",
    "from sympy import *\n",
    "from sympy.parsing.sympy_parser import *\n",
    "from sympy.physics.qho_1d import *\n",
    "from matplotlib import *\n",
    "from ipywidgets import *\n",
    "\n",
    "#Impresión para \"jupyter notebook\"\n",
    "init_printing(use_latex = 'mathjax')"
   ]
  },
  {
   "cell_type": "code",
   "execution_count": 2,
   "metadata": {
    "collapsed": true
   },
   "outputs": [],
   "source": [
    "[n, p, m, l, hbar, omega] = symbols('n p m l hbar omega', real = True, positive = True)\n",
    "x = symbols('x')"
   ]
  },
  {
   "cell_type": "code",
   "execution_count": 3,
   "metadata": {},
   "outputs": [],
   "source": [
    "def Barrier(x, height, width, center):\n",
    "    h = height\n",
    "    w = width\n",
    "    c = center\n",
    "    return h*(Heaviside(x+w/2-c)-Heaviside(x-w/2-c))"
   ]
  },
  {
   "cell_type": "code",
   "execution_count": 4,
   "metadata": {},
   "outputs": [
    {
     "data": {
      "application/vnd.jupyter.widget-view+json": {
       "model_id": "9dae5889fac94506aedd55ef8b80deee",
       "version_major": 2,
       "version_minor": 0
      },
      "text/plain": [
       "A Jupyter Widget"
      ]
     },
     "metadata": {},
     "output_type": "display_data"
    },
    {
     "data": {
      "application/vnd.jupyter.widget-view+json": {
       "model_id": "2a6445a5127d49e7bfbe90be77cdec1e",
       "version_major": 2,
       "version_minor": 0
      },
      "text/plain": [
       "A Jupyter Widget"
      ]
     },
     "metadata": {},
     "output_type": "display_data"
    },
    {
     "data": {
      "application/vnd.jupyter.widget-view+json": {
       "model_id": "0f01558a80eb47269a0c2f2593a621e4",
       "version_major": 2,
       "version_minor": 0
      },
      "text/plain": [
       "A Jupyter Widget"
      ]
     },
     "metadata": {},
     "output_type": "display_data"
    },
    {
     "data": {
      "application/vnd.jupyter.widget-view+json": {
       "model_id": "f275320ce7a14c9cbd255b9161b0ef5b",
       "version_major": 2,
       "version_minor": 0
      },
      "text/plain": [
       "A Jupyter Widget"
      ]
     },
     "metadata": {},
     "output_type": "display_data"
    }
   ],
   "source": [
    "items_layout = Layout(width='auto')     # override the default width of the button to 'auto' to let the button grow\n",
    "\n",
    "box_layout = Layout(display='flex',\n",
    "                    flex_flow='column',\n",
    "                    align_items='stretch',\n",
    "                    border='solid',\n",
    "                    width='50%')\n",
    "Line1 = Label(value = \"El programa ya reconoce las variables simbolicas $x$, $n$, $p$, $m$, $l$, $hbar$ y $omega$.\")\n",
    "Line2 = Label(value = \"Puede utilizar la función $Barrier(x, height, width, center)$ para simular la perturbación.\")\n",
    "Problem = RadioButtons(options = ['Harmonic Oscilator', 'Particle In a Box'], layout = items_layout)\n",
    "Function = Checkbox(description='\\(¿Calculate Psi_n? \\)')\n",
    "Energy = Checkbox(description='\\(¿Calculate E_n? \\)')\n",
    "Variables = Text(description = '\\(Vars= \\)', layout = items_layout)\n",
    "Perturbation = Text(description = '\\(H^´= \\)', layout = items_layout)\n",
    "Order = IntSlider(min = 0, max = 2, description = '\\(CO: \\)', layout = items_layout)\n",
    "Level = BoundedIntText(min = 0, description = '\\(n= \\)', layout = items_layout)\n",
    "IntegralX1 = Text(description = '\\(x_1= \\)', layout = items_layout)\n",
    "IntegralX2 = Text(description = '\\(x_2= \\)', layout = items_layout)\n",
    "Iterations = BoundedIntText(min = 1, description = '\\(Iter= \\)', layout = items_layout)\n",
    "\n",
    "items = [Function, Energy, Variables, Perturbation, Order, Level, IntegralX1, IntegralX2, Iterations]\n",
    "\n",
    "box = Box(children=items, layout=box_layout)\n",
    "\n",
    "display(Line1)\n",
    "display(Line2)\n",
    "display(Problem)\n",
    "display(box)"
   ]
  },
  {
   "cell_type": "code",
   "execution_count": 20,
   "metadata": {},
   "outputs": [],
   "source": [
    "if Variables.value != '':\n",
    "    var(Variables.value)\n",
    "if Perturbation.value != '':\n",
    "    Hp = eval(Perturbation.value)\n",
    "else:\n",
    "    Hp = 0\n",
    "O = Order.value\n",
    "n = Level.value\n",
    "if IntegralX1.value != '':\n",
    "    x1 = eval(IntegralX1.value)\n",
    "if IntegralX2.value != '':\n",
    "    x2 = eval(IntegralX2.value)\n",
    "p = Iterations.value"
   ]
  },
  {
   "cell_type": "code",
   "execution_count": 21,
   "metadata": {
    "collapsed": true
   },
   "outputs": [],
   "source": [
    "def phi(n):\n",
    "    if Problem.value == 'Harmonic Oscilator':\n",
    "        return psi_n(n, x, m, omega)\n",
    "    if Problem.value == 'Particle In a Box':\n",
    "        return sqrt(2/l)*sin(((n*pi)/l)*x)"
   ]
  },
  {
   "cell_type": "code",
   "execution_count": 22,
   "metadata": {
    "collapsed": true
   },
   "outputs": [],
   "source": [
    "def E(n):\n",
    "    if Problem.value == 'Harmonic Oscilator':\n",
    "        return E_n(n, omega)\n",
    "    if Problem.value == 'Particle In a Box':\n",
    "        return (n**2*pi**2*hbar**2)/(2*m*l**2)"
   ]
  },
  {
   "cell_type": "code",
   "execution_count": 23,
   "metadata": {},
   "outputs": [],
   "source": [
    "if Perturbation.value != '':\n",
    "    if O >= 1:\n",
    "        if Problem.value == 'Harmonic Oscilator':\n",
    "            for i in range(0, p+1):\n",
    "                j = i\n",
    "                if i != n:\n",
    "                    if ((n == 0) and (i == 1)) or (i==0):\n",
    "                        IntegrandHmn = Matrix([phi(i)*Hp*phi(n)])\n",
    "                        Enm = Matrix([E(n)-E(i)])\n",
    "                    else:\n",
    "                        IntegrandHmn = IntegrandHmn.row_insert(j-1, Matrix([phi(i)*Hp*phi(n)]))\n",
    "                        Enm = Enm.row_insert(j-1, Matrix([E(n)-E(i)]))\n",
    "        if Problem.value == 'Particle In a Box':\n",
    "            for i in range(0, p+2):\n",
    "                j = i\n",
    "                if i != n and i != 0:\n",
    "                    if ((n == 1) and (i == 2)) or (i==1):\n",
    "                        IntegrandHmn = Matrix([phi(i)*Hp*phi(n)])\n",
    "                        Enm = Matrix([E(n)-E(i)])\n",
    "                    else:\n",
    "                        IntegrandHmn = IntegrandHmn.row_insert(j-1, Matrix([phi(i)*Hp*phi(n)]))\n",
    "                        Enm = Enm.row_insert(j-1, Matrix([E(n)-E(i)]))\n",
    "        Hmn = integrate(IntegrandHmn, (x, x1, x2))"
   ]
  },
  {
   "cell_type": "code",
   "execution_count": 24,
   "metadata": {},
   "outputs": [],
   "source": [
    "if Perturbation.value != '':\n",
    "    if Energy.value == True:\n",
    "        EO0 = E(n)\n",
    "        Emat = Matrix([EO0])\n",
    "        if O >= 1:\n",
    "            IntegrandEO1 = phi(n)*Hp*phi(n)\n",
    "            IntEO1 = integrate(IntegrandEO1, (x, x1, x2))\n",
    "            EO1 = IntEO1\n",
    "            Emat = Emat.row_insert(1, Matrix([EO1]))\n",
    "        if O == 2:\n",
    "            HmnSq = zeros(len(Hmn), 1)\n",
    "            for i in range(p):\n",
    "                HmnSq[i] = Hmn[i]**2\n",
    "            DivisionEO2 = zeros(p, 1)\n",
    "            for i in range(p):\n",
    "                DivisionEO2[i] = HmnSq[i]/Enm[i]\n",
    "            EO2 = 0\n",
    "            for i in range(p):\n",
    "                EO2 = EO2 + DivisionEO2[i]\n",
    "            Emat = Emat.row_insert(2, Matrix([EO2]))\n",
    "        Ep = 0\n",
    "        for i in range(O+1):\n",
    "            Ep = Ep + Emat[i]"
   ]
  },
  {
   "cell_type": "code",
   "execution_count": 25,
   "metadata": {},
   "outputs": [
    {
     "data": {
      "text/latex": [
       "$$\\frac{\\hbar \\omega}{2}$$"
      ],
      "text/plain": [
       "ℏ⋅ω\n",
       "───\n",
       " 2 "
      ]
     },
     "execution_count": 25,
     "metadata": {},
     "output_type": "execute_result"
    }
   ],
   "source": [
    "EO0"
   ]
  },
  {
   "cell_type": "code",
   "execution_count": 26,
   "metadata": {},
   "outputs": [
    {
     "ename": "NameError",
     "evalue": "name 'IntEO1' is not defined",
     "output_type": "error",
     "traceback": [
      "\u001b[1;31m---------------------------------------------------------------------------\u001b[0m",
      "\u001b[1;31mNameError\u001b[0m                                 Traceback (most recent call last)",
      "\u001b[1;32m<ipython-input-26-b5a7ccdc4b89>\u001b[0m in \u001b[0;36m<module>\u001b[1;34m()\u001b[0m\n\u001b[1;32m----> 1\u001b[1;33m \u001b[0mIntEO1\u001b[0m\u001b[1;33m\u001b[0m\u001b[0m\n\u001b[0m",
      "\u001b[1;31mNameError\u001b[0m: name 'IntEO1' is not defined"
     ]
    }
   ],
   "source": [
    "IntEO1"
   ]
  },
  {
   "cell_type": "code",
   "execution_count": 27,
   "metadata": {},
   "outputs": [
    {
     "ename": "NameError",
     "evalue": "name 'DivisionEO2' is not defined",
     "output_type": "error",
     "traceback": [
      "\u001b[1;31m---------------------------------------------------------------------------\u001b[0m",
      "\u001b[1;31mNameError\u001b[0m                                 Traceback (most recent call last)",
      "\u001b[1;32m<ipython-input-27-865ddc2e7cd6>\u001b[0m in \u001b[0;36m<module>\u001b[1;34m()\u001b[0m\n\u001b[1;32m----> 1\u001b[1;33m \u001b[0mDivisionEO2\u001b[0m\u001b[1;33m\u001b[0m\u001b[0m\n\u001b[0m",
      "\u001b[1;31mNameError\u001b[0m: name 'DivisionEO2' is not defined"
     ]
    }
   ],
   "source": [
    "DivisionEO2"
   ]
  },
  {
   "cell_type": "code",
   "execution_count": 28,
   "metadata": {},
   "outputs": [
    {
     "data": {
      "text/latex": [
       "$$\\left[\\begin{matrix}\\frac{\\hbar \\omega}{2}\\end{matrix}\\right]$$"
      ],
      "text/plain": [
       "⎡ℏ⋅ω⎤\n",
       "⎢───⎥\n",
       "⎣ 2 ⎦"
      ]
     },
     "execution_count": 28,
     "metadata": {},
     "output_type": "execute_result"
    }
   ],
   "source": [
    "Emat"
   ]
  },
  {
   "cell_type": "code",
   "execution_count": 29,
   "metadata": {},
   "outputs": [
    {
     "data": {
      "text/latex": [
       "$$\\frac{\\hbar \\omega}{2}$$"
      ],
      "text/plain": [
       "ℏ⋅ω\n",
       "───\n",
       " 2 "
      ]
     },
     "execution_count": 29,
     "metadata": {},
     "output_type": "execute_result"
    }
   ],
   "source": [
    "Ep"
   ]
  },
  {
   "cell_type": "code",
   "execution_count": 30,
   "metadata": {
    "collapsed": true
   },
   "outputs": [],
   "source": [
    "if Perturbation.value != '':\n",
    "    if Function.value == True:\n",
    "        PHIO0 = phi(n)\n",
    "        PHImat = Matrix([PHIO0])\n",
    "        if O >= 1:\n",
    "            if Problem.value == 'Harmonic Oscilator':\n",
    "                for i in range(0, p+1):\n",
    "                    j = i\n",
    "                    if i != n:\n",
    "                        if ((n == 0) and (i == 1)) or (i == 0):\n",
    "                            Phi_pO1 = Matrix([phi(i)])\n",
    "                        else:\n",
    "                            Phi_pO1 = Phi_pO1.row_insert(j-1, Matrix([phi(i)]))\n",
    "            if Problem.value == 'Particle In a Box':\n",
    "                for i in range(0, p+2):\n",
    "                    j = i\n",
    "                    if i != n and i != 0:\n",
    "                        if ((n == 1) and (i == 2)) or (i == 1):\n",
    "                            IntegrandPHIO1 = Matrix([phi(i)*Hp*phi(n)])\n",
    "                            DenominatorPHIO1 = Matrix([E(n)-E(i)])\n",
    "                            Phi_pO1 = Matrix([phi(i)])\n",
    "                        else:\n",
    "                            IntegrandPHIO1 = IntegrandPHIO1.row_insert(j-1, Matrix([phi(i)*Hp*phi(n)]))\n",
    "                            DenominatorPHIO1 = DenominatorPHIO1.row_insert(j-1, Matrix([E(n)-E(i)]))\n",
    "                            Phi_pO1 = Phi_pO1.row_insert(j-1, Matrix([phi(i)]))\n",
    "            ProductPHIO1 = zeros(p, 1)\n",
    "            for i in range(p):\n",
    "                ProductPHIO1[i] = (Hmn[i]/Enm[i])*Phi_pO1[i]\n",
    "            PHIO1 = 0\n",
    "            for i in range(p):\n",
    "                PHIO1 = PHIO1 + ProductPHIO1[i]\n",
    "            PHImat = PHImat.row_insert(1, Matrix([PHIO1]))\n",
    "        PHIp = 0\n",
    "        if O < 2:\n",
    "            for i in range(O+1):\n",
    "                PHIp = PHIp + PHImat[i]\n",
    "        else:\n",
    "            for i in range(2):\n",
    "                PHIp = PHIp + PHImat[i]"
   ]
  },
  {
   "cell_type": "code",
   "execution_count": 31,
   "metadata": {},
   "outputs": [
    {
     "data": {
      "text/latex": [
       "$$\\frac{\\sqrt[4]{m} \\sqrt[4]{\\omega}}{\\sqrt[4]{\\hbar} \\sqrt[4]{\\pi}} e^{- \\frac{m \\omega x^{2}}{2 \\hbar}}$$"
      ],
      "text/plain": [
       "                   2 \n",
       "             -m⋅ω⋅x  \n",
       "             ────────\n",
       "4 ___ 4 ___    2⋅ℏ   \n",
       "╲╱ m ⋅╲╱ ω ⋅ℯ        \n",
       "─────────────────────\n",
       "     4 ___ 4 ___     \n",
       "     ╲╱ ℏ ⋅╲╱ π      "
      ]
     },
     "execution_count": 31,
     "metadata": {},
     "output_type": "execute_result"
    }
   ],
   "source": [
    "PHIO0"
   ]
  },
  {
   "cell_type": "code",
   "execution_count": 32,
   "metadata": {},
   "outputs": [
    {
     "ename": "NameError",
     "evalue": "name 'ProductPHIO1' is not defined",
     "output_type": "error",
     "traceback": [
      "\u001b[1;31m---------------------------------------------------------------------------\u001b[0m",
      "\u001b[1;31mNameError\u001b[0m                                 Traceback (most recent call last)",
      "\u001b[1;32m<ipython-input-32-690886ea29a9>\u001b[0m in \u001b[0;36m<module>\u001b[1;34m()\u001b[0m\n\u001b[1;32m----> 1\u001b[1;33m \u001b[0mProductPHIO1\u001b[0m\u001b[1;33m\u001b[0m\u001b[0m\n\u001b[0m",
      "\u001b[1;31mNameError\u001b[0m: name 'ProductPHIO1' is not defined"
     ]
    }
   ],
   "source": [
    "ProductPHIO1"
   ]
  },
  {
   "cell_type": "code",
   "execution_count": 33,
   "metadata": {},
   "outputs": [
    {
     "data": {
      "text/latex": [
       "$$\\left[\\begin{matrix}\\frac{\\sqrt[4]{m} \\sqrt[4]{\\omega}}{\\sqrt[4]{\\hbar} \\sqrt[4]{\\pi}} e^{- \\frac{m \\omega x^{2}}{2 \\hbar}}\\end{matrix}\\right]$$"
      ],
      "text/plain": [
       "⎡                   2 ⎤\n",
       "⎢             -m⋅ω⋅x  ⎥\n",
       "⎢             ────────⎥\n",
       "⎢4 ___ 4 ___    2⋅ℏ   ⎥\n",
       "⎢╲╱ m ⋅╲╱ ω ⋅ℯ        ⎥\n",
       "⎢─────────────────────⎥\n",
       "⎢     4 ___ 4 ___     ⎥\n",
       "⎣     ╲╱ ℏ ⋅╲╱ π      ⎦"
      ]
     },
     "execution_count": 33,
     "metadata": {},
     "output_type": "execute_result"
    }
   ],
   "source": [
    "PHImat"
   ]
  },
  {
   "cell_type": "code",
   "execution_count": 34,
   "metadata": {},
   "outputs": [
    {
     "data": {
      "text/latex": [
       "$$\\frac{\\sqrt[4]{m} \\sqrt[4]{\\omega}}{\\sqrt[4]{\\hbar} \\sqrt[4]{\\pi}} e^{- \\frac{m \\omega x^{2}}{2 \\hbar}}$$"
      ],
      "text/plain": [
       "                   2 \n",
       "             -m⋅ω⋅x  \n",
       "             ────────\n",
       "4 ___ 4 ___    2⋅ℏ   \n",
       "╲╱ m ⋅╲╱ ω ⋅ℯ        \n",
       "─────────────────────\n",
       "     4 ___ 4 ___     \n",
       "     ╲╱ ℏ ⋅╲╱ π      "
      ]
     },
     "execution_count": 34,
     "metadata": {},
     "output_type": "execute_result"
    }
   ],
   "source": [
    "PHIp"
   ]
  },
  {
   "cell_type": "markdown",
   "metadata": {},
   "source": [
    "## Teoría de perturbaciones"
   ]
  },
  {
   "cell_type": "markdown",
   "metadata": {},
   "source": [
    "Consiste en resolver un sistema perturbado(se conoce la solución al no perturbado), y donde el interés es conocer la contribución de la parte perturbada $H'$ al nuevo sistema total. "
   ]
  },
  {
   "cell_type": "markdown",
   "metadata": {},
   "source": [
    "$$ H = H^{0} + H'$$"
   ]
  },
  {
   "cell_type": "markdown",
   "metadata": {},
   "source": [
    "Para sistemas no degenerados, la corrección a la energía a primer orden se calcula como \n",
    "\n",
    "$$E_{n}^{(1)} = \\int\\psi_{n}^{(0)*} H' \\psi_{n}^{(0)}d\\tau$$"
   ]
  },
  {
   "cell_type": "markdown",
   "metadata": {},
   "source": [
    "** Tarea 1 : Programar esta ecuación si conoces $H^{0}$ y sus soluciones. **"
   ]
  },
  {
   "cell_type": "code",
   "execution_count": null,
   "metadata": {},
   "outputs": [],
   "source": []
  },
  {
   "cell_type": "markdown",
   "metadata": {},
   "source": [
    "Y la corrección a la función de onda, también a primer orden, se obtiene como:\n",
    "\n",
    " $$ \\psi_{n}^{(1)} = \\sum_{m\\neq n} \\frac{\\langle\\psi_{m}^{(0)} | H' | \\psi_{n}^{(0)} \\rangle}{E_{n}^{(0)} - E_{m}^{(0)}} \\psi_{m}^{(0)}$$"
   ]
  },
  {
   "cell_type": "markdown",
   "metadata": {},
   "source": [
    "**Tarea 2: Programar esta ecuación si conoces $H^{0}$ y sus soluciones. **"
   ]
  },
  {
   "cell_type": "code",
   "execution_count": null,
   "metadata": {
    "collapsed": true
   },
   "outputs": [],
   "source": [
    "### Solución"
   ]
  },
  {
   "cell_type": "markdown",
   "metadata": {},
   "source": [
    "**Tarea 3: Investigue las soluciones a segundo orden y también programe las soluciones. **"
   ]
  },
  {
   "cell_type": "code",
   "execution_count": null,
   "metadata": {
    "collapsed": true
   },
   "outputs": [],
   "source": [
    "### Solución\n",
    "\n",
    "\n"
   ]
  },
  {
   "cell_type": "markdown",
   "metadata": {},
   "source": [
    "**Tarea 4.  Resolver el átomo de helio aplicando los programas anteriores.** "
   ]
  },
  {
   "cell_type": "code",
   "execution_count": null,
   "metadata": {
    "collapsed": true
   },
   "outputs": [],
   "source": []
  },
  {
   "cell_type": "markdown",
   "metadata": {},
   "source": [
    "**Tarea 5: Método variacional-perturbativo. **"
   ]
  },
  {
   "cell_type": "markdown",
   "metadata": {},
   "source": [
    "Este método nos permite estimar de forma precisa $E^{(2)}$ y correcciones perturbativas de la energía de órdenes más elevados para el estado fundamental del sistema, sin evaluar sumas infinitas. Ver ecuación 9.38 del libro. "
   ]
  },
  {
   "cell_type": "markdown",
   "metadata": {},
   "source": [
    "**Resolver el átomo de helio, considerando este método (sección 9.4), como mejor le parezca. **"
   ]
  },
  {
   "cell_type": "markdown",
   "metadata": {},
   "source": [
    "**Tarea 6. Revisar sección 9.7. **\n",
    "\n",
    "Inicialmente a mano, y sengunda instancia favor de intentar programar sección del problema, i.e. integral de Coulomb  e integral de intercambio."
   ]
  },
  {
   "cell_type": "markdown",
   "metadata": {},
   "source": [
    "## Siguiente: Segunda parte, Octubre\n",
    "Simetrías moleculares y Hartree-Fock"
   ]
  },
  {
   "cell_type": "code",
   "execution_count": null,
   "metadata": {
    "collapsed": true
   },
   "outputs": [],
   "source": []
  }
 ],
 "metadata": {
  "kernelspec": {
   "display_name": "Python 3",
   "language": "python",
   "name": "python3"
  },
  "language_info": {
   "codemirror_mode": {
    "name": "ipython",
    "version": 3
   },
   "file_extension": ".py",
   "mimetype": "text/x-python",
   "name": "python",
   "nbconvert_exporter": "python",
   "pygments_lexer": "ipython3",
   "version": "3.6.2"
  }
 },
 "nbformat": 4,
 "nbformat_minor": 1
}
