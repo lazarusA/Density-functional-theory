{
 "cells": [
  {
   "cell_type": "markdown",
   "metadata": {},
   "source": [
    "## Teoría de perturbaciones"
   ]
  },
  {
   "cell_type": "markdown",
   "metadata": {},
   "source": [
    "Consiste en resolver un sistema perturbado(se conoce la solución al no perturbado), y donde el interés es conocer la contribución de la parte perturbada $H'$ al nuevo sistema total. "
   ]
  },
  {
   "cell_type": "markdown",
   "metadata": {},
   "source": [
    "$$ H = H^{0} + H'$$"
   ]
  },
  {
   "cell_type": "markdown",
   "metadata": {},
   "source": [
    "Para sistemas no degenerados, la corrección a la energía a primer orden se calcula como \n",
    "\n",
    "$$ E_{n}^{(1)} = \\int\\psi_{n}^{(0)*} H' \\psi_{n}^{(0)}d\\tau$$"
   ]
  },
  {
   "cell_type": "markdown",
   "metadata": {},
   "source": [
    "** Tarea 1 : Programar esta ecuación si conoces $H^{0}$ y sus soluciones. **"
   ]
  },
  {
   "cell_type": "code",
   "execution_count": 1,
   "metadata": {
    "collapsed": false
   },
   "outputs": [],
   "source": [
    "### Solución\n",
    "from sympy import *\n",
    "from sympy import init_printing; init_printing(use_latex = 'mathjax')\n",
    "import numpy as np\n",
    "from sympy.physics.quantum.constants import hbar\n",
    "import scipy.integrate as integ\n",
    "import scipy.constants as cons\n",
    "var('x r phi theta r_1 r_2 phi_1 phi_2 theta_1 theta_2 gamma')\n",
    "var('n l m', positive = 'True', integer = 'True')\n",
    "var('m_e Z a_0 q L epsilon_0 omega', constant = 'True')\n",
    "var('c d', real = 'True', constant = 'True')\n",
    "import sympy.physics.hydrogen as hyd\n",
    "import sympy.functions.special.spherical_harmonics as sph\n",
    "import sympy.physics.qho_1d as qho"
   ]
  },
  {
   "cell_type": "code",
   "execution_count": 2,
   "metadata": {
    "collapsed": false
   },
   "outputs": [],
   "source": [
    "#Átomo de Hidrogeno\n",
    "def Hidrogeno():\n",
    "    Yhyd = hyd.R_nl(n, l, r, Z)\n",
    "    Arm = sph.Ynm(m, l, theta, phi)  #Función de onda átomo de hidrógeno\n",
    "    Ehyd = hyd.E_nl(n, Z) * (hbar ** 2 / (a_0 ** 2 * m_e)) #Energía en eV\n",
    "    return Yhyd, Arm, Ehyd"
   ]
  },
  {
   "cell_type": "code",
   "execution_count": 3,
   "metadata": {
    "collapsed": true
   },
   "outputs": [],
   "source": [
    "#Oscilador armónico 1D\n",
    "#H = c * x ** 3 + d * x ** 4\n",
    "def oscilador():\n",
    "    Eqho = qho.E_n(n, omega)\n",
    "    Yqho = qho.psi_n(n, x, m, omega)\n",
    "    return Yqho, Eqho"
   ]
  },
  {
   "cell_type": "code",
   "execution_count": 4,
   "metadata": {
    "collapsed": false
   },
   "outputs": [],
   "source": [
    "#Particula en una caja 1D (box)\n",
    "#H = x ** 2\n",
    "def caja():\n",
    "    Ebox = (hbar * pi * n) ** 2 / ((2* m_e) * L **2)\n",
    "    Ybox = sqrt(2 / L) * sin(n * pi * x / L)\n",
    "    return Ybox, Ebox"
   ]
  },
  {
   "cell_type": "code",
   "execution_count": 5,
   "metadata": {
    "collapsed": false
   },
   "outputs": [
    {
     "name": "stdout",
     "output_type": "stream",
     "text": [
      "Para que sistema desea resolver: 1. Oscilador armónico 1D, 2. Partícula en una caja 1D, 3. Atómo de Hidrogeno\n",
      "Introduzca el número de opción3\n",
      "Ahora toca elegir la perturbación H´ (para el atomo de hidrogeno (corrección relativista) presione cualquier tecla)\n",
      "Introduzca la perturbación1\n"
     ]
    }
   ],
   "source": [
    "#General y Menú\n",
    "print('Para que sistema desea resolver: 1. Oscilador armónico 1D, 2. Partícula en una caja 1D, 3. Atómo de Hidrogeno')\n",
    "sis = input('Introduzca el número de opción')\n",
    "print('Ahora toca elegir la perturbación H´ (para el atomo de hidrogeno (corrección relativista) presione cualquier tecla)')\n",
    "H = sympify(input('Introduzca la perturbación'))\n",
    "aprox = 5 #que aproximación quieres + 1\n",
    "if sis == '1':\n",
    "    Y0, E0 = oscilador()\n",
    "    nbase = 0\n",
    "    linf = -oo\n",
    "    lsup = oo\n",
    "    ww = 1e15\n",
    "    def psis():\n",
    "        EqhoC = integrate((Y0* H * Y0).subs(n, nbase), (x, linf, lsup)).args[0][0]\n",
    "        YqhoS = np.asarray([(integrate((Y0.subs(n, i)* H * Y0.subs(n, nbase)), (x, -oo, oo))).args[0][0] \\\n",
    "                            for i in range(0,aprox) if i != nbase])\n",
    "        EqhoS = np.asarray([E0.subs([(n, nbase), (omega, ww), (hbar, cons.hbar)]) \\\n",
    "                            - E0.subs([(n, i), (omega, ww), (hbar, cons.hbar)]) for i in range(0,aprox) if i != nbase])\n",
    "        Cqho = YqhoS / EqhoS\n",
    "        YqhoC = [Cqho[i-nbase-1] * Y0.subs(n, i) for i in range(0, aprox) if i != nbase]\n",
    "        PsiQho = np.sum(YqhoC)\n",
    "        Cqho2 = YqhoS ** 2 / EqhoS #Oscilador\n",
    "        Eqho2 = np.sum(Cqho2)\n",
    "        return EqhoC, Eqho2, PsiQho\n",
    "elif sis == '2':\n",
    "    Y0, E0 = caja()\n",
    "    nbase = 1\n",
    "    linf = 0\n",
    "    lsup = L\n",
    "    LL = 1e-9\n",
    "    def inte(x, LL, mm, nn, pii):\n",
    "        return Y0.subs([(L, LL), (n, nn), (pi, pii)])*H*Y0.subs([(L, LL), (n, mm), (pi, pii)])\n",
    "    def psis():\n",
    "        EnBox = (integrate(Y0*H*Y0, (x, linf, lsup))).simplify()\n",
    "        YboxS = np.asarray([integ.quad(lambdify(x, inte(x, LL, i, nbase, np.pi), 'numpy'), 0, LL) \\\n",
    "                            for i in range(1,aprox) if i != nbase])\n",
    "        EboxS = np.asarray([E0.subs([(L, LL), (pi, np.pi), (n, nbase), (m_e, cons.m_e), (hbar, cons.hbar)]) \\\n",
    "                            - E0.subs([(L, LL), (pi, np.pi), (n, i), (m_e, cons.m_e), (hbar, cons.hbar)]) \\\n",
    "                            for i in range(1,aprox) if i != nbase])\n",
    "        Cbox = YboxS[:,0] / EboxS\n",
    "        YboxC = [Cbox[i-2] * Y0.subs(n, i) for i in range(1, aprox) if i != nbase]\n",
    "        PsiBox = np.sum(YboxC)\n",
    "        Cbox2 = (YboxS[:,0]) ** 2 / EboxS #CAJA\n",
    "        Ebox2 = np.sum(Cbox2)\n",
    "        return EnBox, Ebox2, PsiBox\n",
    "elif sis == '3':\n",
    "    Y0, A0, E0 = Hidrogeno()\n",
    "    nbase = 1\n",
    "    lbase = 0\n",
    "    mbase = 0\n",
    "    linf = 0\n",
    "    lsup = oo\n",
    "    def psis():\n",
    "        Rad = Y0.subs([(l, lbase), (Z, 1)])\n",
    "        RadHRad = -Rad.subs(n, nbase) *( 1/ (8*m_e**3*c**2)) * hbar ** 4  * diff(Rad.subs(n, nbase), r, 4)\n",
    "        EhydC = integrate(RadHRad*r**2, (r, 0, oo))\n",
    "        EhydC = EhydC.subs([(hbar, cons.hbar), (m_e, cons.m_e), (c, cons.c)]) / (4 * cons.epsilon_0) ** 4\n",
    "        YhydS = np.asarray([(integrate(-Rad.subs(n, i) *( 1/ (8*m_e**3*c**2)) * hbar ** 4  * diff(Rad.subs(n, nbase), r, 4), (r, 0, oo))) \\\n",
    "                   for i in range(1,aprox) if i != nbase])\n",
    "        EhydS = np.asarray([E0.subs([(n, nbase), (Z, 1)]) - E0.subs([(n, i), (Z, 1)]) for i in range(1,aprox) if i != nbase])\n",
    "        Chyd = YhydS / EhydS\n",
    "        YhydC = [Chyd[i-nbase-1] * Rad.subs([(n, i)]) for i in range(1, aprox) if i != nbase]\n",
    "        PsiHyd = np.sum(YhydC)\n",
    "        Chyd2 = YhydS ** 2 / EhydS\n",
    "        Ehyd2 = np.sum(Chyd2)\n",
    "        return EhydC, Ehyd2, PsiHyd\n",
    "else:\n",
    "    print('Selección inválida')\n"
   ]
  },
  {
   "cell_type": "code",
   "execution_count": 6,
   "metadata": {
    "collapsed": false
   },
   "outputs": [],
   "source": [
    "E1, E2, Psi = psis()"
   ]
  },
  {
   "cell_type": "code",
   "execution_count": 7,
   "metadata": {
    "collapsed": false
   },
   "outputs": [
    {
     "data": {
      "text/latex": [
       "$$\\frac{2 \\hbar^{2} a_{0}^{2} e^{- \\frac{r}{2}}}{27 c^{2} m_{e}^{2}} \\left(- r + 2\\right) + \\frac{7 \\hbar^{2} a_{0}^{2} e^{- \\frac{r}{3}}}{576 c^{2} m_{e}^{2}} \\left(\\frac{2 r^{2}}{9} - 2 r + 3\\right) + \\frac{34 \\hbar^{2} a_{0}^{2} e^{- \\frac{r}{4}}}{9375 c^{2} m_{e}^{2}} \\left(- \\frac{r^{3}}{48} + \\frac{r^{2}}{2} - 3 r + 4\\right)$$"
      ],
      "text/plain": [
       "                                                    -r                        \n",
       "                   -r             ⎛   2          ⎞  ───             ⎛   3    2\n",
       "                   ───      2   2 ⎜2⋅r           ⎟   3        2   2 ⎜  r    r \n",
       "   2   2            2    7⋅ℏ ⋅a₀ ⋅⎜──── - 2⋅r + 3⎟⋅ℯ      34⋅ℏ ⋅a₀ ⋅⎜- ── + ──\n",
       "2⋅ℏ ⋅a₀ ⋅(-r + 2)⋅ℯ               ⎝ 9            ⎠                  ⎝  48   2 \n",
       "────────────────────── + ────────────────────────────── + ────────────────────\n",
       "          2   2                         2   2                               2 \n",
       "      27⋅c ⋅mₑ                     576⋅c ⋅mₑ                          9375⋅c ⋅\n",
       "\n",
       "             -r \n",
       "          ⎞  ───\n",
       "          ⎟   4 \n",
       " - 3⋅r + 4⎟⋅ℯ   \n",
       "          ⎠     \n",
       "────────────────\n",
       "  2             \n",
       "mₑ              "
      ]
     },
     "execution_count": 7,
     "metadata": {},
     "output_type": "execute_result"
    }
   ],
   "source": [
    "Psi"
   ]
  },
  {
   "cell_type": "code",
   "execution_count": 8,
   "metadata": {
    "collapsed": false
   },
   "outputs": [
    {
     "data": {
      "text/latex": [
       "$$-1.44634324025469 \\cdot 10^{-22}$$"
      ],
      "text/plain": [
       "-1.44634324025469e-22"
      ]
     },
     "execution_count": 8,
     "metadata": {},
     "output_type": "execute_result"
    }
   ],
   "source": [
    "E1"
   ]
  },
  {
   "cell_type": "code",
   "execution_count": 9,
   "metadata": {
    "collapsed": false
   },
   "outputs": [
    {
     "data": {
      "text/latex": [
       "$$- \\frac{42820217573 \\hbar^{6} a_{0}^{2}}{1944000000000 c^{4} m_{e}^{5}}$$"
      ],
      "text/plain": [
       "              6   2 \n",
       "-42820217573⋅ℏ ⋅a₀  \n",
       "────────────────────\n",
       "               4   5\n",
       "1944000000000⋅c ⋅mₑ "
      ]
     },
     "execution_count": 9,
     "metadata": {},
     "output_type": "execute_result"
    }
   ],
   "source": [
    "E2"
   ]
  },
  {
   "cell_type": "markdown",
   "metadata": {},
   "source": [
    "Y la corrección a la función de onda, también a primer orden, se obtiene como:\n",
    "\n",
    " $$ \\psi_{n}^{(1)} = \\sum_{m\\neq n} \\frac{\\langle\\psi_{m}^{(0)} | H' | \\psi_{n}^{(0)} \\rangle}{E_{n}^{(0)} - E_{m}^{(0)}} \\psi_{m}^{(0)}$$"
   ]
  },
  {
   "cell_type": "markdown",
   "metadata": {},
   "source": [
    "**Tarea 2: Programar esta ecuación si conoces $H^{0}$ y sus soluciones. **"
   ]
  },
  {
   "cell_type": "code",
   "execution_count": 10,
   "metadata": {
    "collapsed": true
   },
   "outputs": [],
   "source": [
    "### Solución en tarea 1"
   ]
  },
  {
   "cell_type": "markdown",
   "metadata": {},
   "source": [
    "**Tarea 3: Investigue las soluciones a segundo orden y también programe las soluciones. **"
   ]
  },
  {
   "cell_type": "code",
   "execution_count": 11,
   "metadata": {
    "collapsed": true
   },
   "outputs": [],
   "source": [
    "### Solución en tarea 1"
   ]
  },
  {
   "cell_type": "markdown",
   "metadata": {},
   "source": [
    "**Tarea 4.  Resolver el átomo de helio aplicando los programas anteriores.** "
   ]
  },
  {
   "cell_type": "code",
   "execution_count": 38,
   "metadata": {
    "collapsed": false
   },
   "outputs": [],
   "source": [
    "var('r_12')\n",
    "#Obtencion perturbación átomo He\n",
    "H = 1 / r_12\n",
    "#r12 = sqrt(r_1**2 + r_2**2 - 2 * r_1 * r_2 * cos(gamma))\n",
    "#parte Radial\n",
    "Rad = hyd.R_nl(1, 0, r, 2)\n",
    "#Numérico (Revisar)\n",
    "#Irad = (Rad1 * Rad2 * H * Rad1 * Rad2).subs([(q, cons.e), (epsilon_0, cons.epsilon_0), (pi, np.pi), (r_1-r_2, r12)])\n",
    "#Ir = lambdify((r_1, r_2, gamma), Irad)\n",
    "#IRAD = integ.nquad(Ir, [[0, np.inf], [0, np.inf], [0, np.pi]])\n",
    "#EHe = IRAD[0] * ( 1/2) #Multiplicar por 1 / (cons.epsilon_0) para las unidades\n",
    "I1 = integrate((Rad*H*Rad* r ** 2).subs([(r, r_1), (r_12, r_2)]), (r_1, 0, r_2)) + \\\n",
    "                integrate((Rad*H*Rad* r ** 2).subs([(r, r_1), (r_12, r_1)]), (r_1, r_2, oo))\n",
    "EHe = integrate((Rad*Rad * r ** 2).subs(r, r_2) * (I1), (r_2, 0, oo)) / 2  #para pasar de Hartree a eV"
   ]
  },
  {
   "cell_type": "code",
   "execution_count": 88,
   "metadata": {
    "collapsed": false
   },
   "outputs": [
    {
     "data": {
      "text/latex": [
       "$$34.01425$$"
      ],
      "text/plain": [
       "34.0142500000000"
      ]
     },
     "execution_count": 88,
     "metadata": {},
     "output_type": "execute_result"
    }
   ],
   "source": [
    "EHe * (2 * 27.2114) #para pasar de Hartree a eV"
   ]
  },
  {
   "cell_type": "markdown",
   "metadata": {},
   "source": [
    "**Tarea 5: Método variacional-perturbativo. **"
   ]
  },
  {
   "cell_type": "markdown",
   "metadata": {},
   "source": [
    "Este método nos permite estimar de forma precisa $E^{(2)}$ y correcciones perturbativas de la energía de órdenes más elevados para el estado fundamental del sistema, sin evaluar sumas infinitas. Ver ecuación 9.38 del libro. "
   ]
  },
  {
   "cell_type": "code",
   "execution_count": 75,
   "metadata": {
    "collapsed": false
   },
   "outputs": [],
   "source": [
    "var('zeta A')\n",
    "ph = hyd.R_nl(1, 0, r_1, zeta) * hyd.R_nl(1, 0, r_2, zeta)\n",
    "H =  (zeta - Z)*(1/ r_1 + 1 / r_2)"
   ]
  },
  {
   "cell_type": "code",
   "execution_count": 86,
   "metadata": {
    "collapsed": false
   },
   "outputs": [
    {
     "data": {
      "text/latex": [
       "$$-77.48871328125$$"
      ],
      "text/plain": [
       "-77.4887132812500"
      ]
     },
     "execution_count": 86,
     "metadata": {},
     "output_type": "execute_result"
    }
   ],
   "source": [
    "In1 = integrate(ph * H * ph * r_1**2 * r_2 ** 2, (r_1, 0, oo)).args[0][0]\n",
    "Sand1 = integrate(In1, (r_2, 0, oo)).args[0][0] + EHe * zeta - zeta ** 2\n",
    "ZetaVal = solve((diff(Sand1, zeta, 1)), zeta)[0]\n",
    "Correc = Sand1.subs(zeta, ZetaVal).simplify()\n",
    "Correc.subs(Z, 2) * 27.2114 #para poner las unidades de eV"
   ]
  },
  {
   "cell_type": "markdown",
   "metadata": {},
   "source": [
    "**Resolver el átomo de helio, considerando este método (sección 9.4), como mejor le parezca. **"
   ]
  },
  {
   "cell_type": "markdown",
   "metadata": {},
   "source": [
    "**Tarea 6. Revisar sección 9.7. **\n",
    "\n",
    "Inicialmente a mano, y sengunda instancia favor de intentar programar sección del problema, i.e. integral de Coulomb  e integral de intercambio."
   ]
  },
  {
   "cell_type": "markdown",
   "metadata": {},
   "source": [
    "## Siguiente: Segunda parte, Octubre\n",
    "Simetrías moleculares y Hartree-Fock"
   ]
  },
  {
   "cell_type": "code",
   "execution_count": null,
   "metadata": {
    "collapsed": true
   },
   "outputs": [],
   "source": []
  }
 ],
 "metadata": {
  "kernelspec": {
   "display_name": "Python 3",
   "language": "python",
   "name": "python3"
  },
  "language_info": {
   "codemirror_mode": {
    "name": "ipython",
    "version": 3
   },
   "file_extension": ".py",
   "mimetype": "text/x-python",
   "name": "python",
   "nbconvert_exporter": "python",
   "pygments_lexer": "ipython3",
   "version": "3.5.1"
  }
 },
 "nbformat": 4,
 "nbformat_minor": 0
}
