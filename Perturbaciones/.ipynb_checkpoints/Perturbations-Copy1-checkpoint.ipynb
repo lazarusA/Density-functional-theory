{
 "cells": [
  {
   "cell_type": "code",
   "execution_count": 1,
   "metadata": {
    "collapsed": true
   },
   "outputs": [],
   "source": [
    "#Importando sympy\n",
    "from sympy import *\n",
    "\n",
    "#Impresión para \"jupyter notebook\"\n",
    "init_printing(use_latex = 'mathjax')"
   ]
  },
  {
   "cell_type": "code",
   "execution_count": 2,
   "metadata": {},
   "outputs": [
    {
     "data": {
      "text/latex": [
       "$$\\left ( x, \\quad m, \\quad \\hbar\\right )$$"
      ],
      "text/plain": [
       "(x, m, h̅)"
      ]
     },
     "execution_count": 2,
     "metadata": {},
     "output_type": "execute_result"
    }
   ],
   "source": [
    "#Variables del Hamiltoniano\n",
    "var('x m hbar')"
   ]
  },
  {
   "cell_type": "code",
   "execution_count": 3,
   "metadata": {
    "collapsed": true
   },
   "outputs": [],
   "source": [
    "#Definición de función: user_variables\n",
    "def user_variables(yn):\n",
    "    if yn == 1:\n",
    "        variable = ''\n",
    "        a = 0\n",
    "        print(\"\\nAñada las variables simbólicas que requiera. Cuando haya finalizado, ingrese 'done'.\")\n",
    "        while (variable != 'done'):\n",
    "            a = a + 1\n",
    "            variable = input(\"var_\"+str(a)+\" = \")\n",
    "            if variable != 'done':\n",
    "                var(variable)"
   ]
  },
  {
   "cell_type": "markdown",
   "metadata": {},
   "source": [
    "## Teoría de perturbaciones"
   ]
  },
  {
   "cell_type": "markdown",
   "metadata": {},
   "source": [
    "Consiste en resolver un sistema perturbado(se conoce la solución al no perturbado), y donde el interés es conocer la contribución de la parte perturbada $H'$ al nuevo sistema total. "
   ]
  },
  {
   "cell_type": "markdown",
   "metadata": {},
   "source": [
    "$$ H = H^{0} + H'$$"
   ]
  },
  {
   "cell_type": "markdown",
   "metadata": {},
   "source": [
    "Para sistemas no degenerados, la corrección a la energía a primer orden se calcula como \n",
    "\n",
    "$$ E_{n}^{(1)} = \\int\\psi_{n}^{(0)*} H' \\psi_{n}^{(0)}d\\tau$$"
   ]
  },
  {
   "cell_type": "markdown",
   "metadata": {},
   "source": [
    "** Tarea 1 : Programar esta ecuación si conoces $H^{0}$ y sus soluciones. **"
   ]
  },
  {
   "cell_type": "code",
   "execution_count": 5,
   "metadata": {},
   "outputs": [
    {
     "name": "stdout",
     "output_type": "stream",
     "text": [
      "El programa ya reconoce las variables simbolicas x, m y hbar.\n",
      "\n",
      "¿Desea declarar más variables? (0:No; 1:Sí)\n",
      "1\n",
      "\n",
      "Añada las variables simbólicas que requiera. Cuando haya finalizado, ingrese 'done'.\n",
      "var_1 = c1\n",
      "var_2 = c2\n",
      "var_3 = alpha\n",
      "var_4 = pi\n",
      "var_5 = done\n"
     ]
    }
   ],
   "source": [
    "#Añadir variables simbólicas del usuario\n",
    "print(\"El programa ya reconoce las variables simbolicas x, m y hbar.\")\n",
    "print(\"\\n¿Desea declarar más variables? (0:No; 1:Sí)\")\n",
    "user_variables(int(input()))"
   ]
  },
  {
   "cell_type": "code",
   "execution_count": 19,
   "metadata": {},
   "outputs": [
    {
     "name": "stdout",
     "output_type": "stream",
     "text": [
      "Introduzca la función de onda del sistema no perturbado.\n",
      "psi = ((alpha/pi)**(1/4))*(exp((-(alpha*x**2))/2))\n"
     ]
    }
   ],
   "source": [
    "print(\"Introduzca la función de onda del sistema no perturbado.\")\n",
    "psi = sympify(input(\"psi = \"))"
   ]
  },
  {
   "cell_type": "code",
   "execution_count": 20,
   "metadata": {},
   "outputs": [
    {
     "data": {
      "text/latex": [
       "$$\\frac{\\sqrt[4]{\\alpha}}{\\sqrt[4]{\\pi}} e^{- \\frac{\\alpha x^{2}}{2}}$$"
      ],
      "text/plain": [
       "           2 \n",
       "       -α⋅x  \n",
       "       ──────\n",
       "4 ___    2   \n",
       "╲╱ α ⋅ℯ      \n",
       "─────────────\n",
       "    4 ___    \n",
       "    ╲╱ π     "
      ]
     },
     "execution_count": 20,
     "metadata": {},
     "output_type": "execute_result"
    }
   ],
   "source": [
    "psi"
   ]
  },
  {
   "cell_type": "code",
   "execution_count": 21,
   "metadata": {},
   "outputs": [
    {
     "name": "stdout",
     "output_type": "stream",
     "text": [
      "Introduzca la perturbación del sistema.\n",
      "H' = c1*x**3+c2*x**4\n"
     ]
    }
   ],
   "source": [
    "print(\"Introduzca la perturbación del sistema.\")\n",
    "Hp = sympify(input(\"H' = \"))"
   ]
  },
  {
   "cell_type": "code",
   "execution_count": 22,
   "metadata": {},
   "outputs": [
    {
     "data": {
      "text/latex": [
       "$$c_{1} x^{3} + c_{2} x^{4}$$"
      ],
      "text/plain": [
       "    3       4\n",
       "c₁⋅x  + c₂⋅x "
      ]
     },
     "execution_count": 22,
     "metadata": {},
     "output_type": "execute_result"
    }
   ],
   "source": [
    "Hp"
   ]
  },
  {
   "cell_type": "code",
   "execution_count": 30,
   "metadata": {},
   "outputs": [
    {
     "data": {
      "text/latex": [
       "$$\\begin{cases} \\frac{3 c_{2}}{4 \\alpha^{2}} & \\text{for}\\: \\left|{\\operatorname{periodic_{argument}}{\\left (\\alpha,\\infty \\right )}}\\right| < \\frac{\\pi}{2} \\\\\\int_{-\\infty}^{\\infty} \\frac{\\sqrt{\\alpha}}{\\sqrt{\\pi}} \\left(c_{1} x^{3} + c_{2} x^{4}\\right) e^{- \\alpha x^{2}}\\, dx & \\text{otherwise} \\end{cases}$$"
      ],
      "text/plain": [
       "⎧             3⋅c₂                                                π\n",
       "⎪             ────                for │periodic_argument(α, ∞)│ < ─\n",
       "⎪                2                                                2\n",
       "⎪             4⋅α                                                  \n",
       "⎪                                                                  \n",
       "⎪∞                                                                 \n",
       "⎪⌠                                                                 \n",
       "⎨⎮                          2                                      \n",
       "⎪⎮     ⎛    3       4⎞  -α⋅x                                       \n",
       "⎪⎮  √α⋅⎝c₁⋅x  + c₂⋅x ⎠⋅ℯ                                           \n",
       "⎪⎮  ───────────────────────── dx              otherwise            \n",
       "⎪⎮              √π                                                 \n",
       "⎪⌡                                                                 \n",
       "⎪-∞                                                                \n",
       "⎩                                                                  "
      ]
     },
     "execution_count": 30,
     "metadata": {},
     "output_type": "execute_result"
    }
   ],
   "source": [
    "E1 = integrate(psi*Hp*psi, (x, -oo, oo))\n",
    "E1"
   ]
  },
  {
   "cell_type": "markdown",
   "metadata": {},
   "source": [
    "Y la corrección a la función de onda, también a primer orden, se obtiene como:\n",
    "\n",
    " $$ \\psi_{n}^{(1)} = \\sum_{m\\neq n} \\frac{\\langle\\psi_{m}^{(0)} | H' | \\psi_{n}^{(0)} \\rangle}{E_{n}^{(0)} - E_{m}^{(0)}} \\psi_{m}^{(0)}$$"
   ]
  },
  {
   "cell_type": "markdown",
   "metadata": {},
   "source": [
    "**Tarea 2: Programar esta ecuación si conoces $H^{0}$ y sus soluciones. **"
   ]
  },
  {
   "cell_type": "code",
   "execution_count": null,
   "metadata": {
    "collapsed": true
   },
   "outputs": [],
   "source": [
    "### Solución"
   ]
  },
  {
   "cell_type": "markdown",
   "metadata": {},
   "source": [
    "**Tarea 3: Investigue las soluciones a segundo orden y también programe las soluciones. **"
   ]
  },
  {
   "cell_type": "code",
   "execution_count": null,
   "metadata": {
    "collapsed": true
   },
   "outputs": [],
   "source": [
    "### Solución\n",
    "\n",
    "\n"
   ]
  },
  {
   "cell_type": "markdown",
   "metadata": {},
   "source": [
    "**Tarea 4.  Resolver el átomo de helio aplicando los programas anteriores.** "
   ]
  },
  {
   "cell_type": "code",
   "execution_count": null,
   "metadata": {
    "collapsed": true
   },
   "outputs": [],
   "source": []
  },
  {
   "cell_type": "markdown",
   "metadata": {},
   "source": [
    "**Tarea 5: Método variacional-perturbativo. **"
   ]
  },
  {
   "cell_type": "markdown",
   "metadata": {},
   "source": [
    "Este método nos permite estimar de forma precisa $E^{(2)}$ y correcciones perturbativas de la energía de órdenes más elevados para el estado fundamental del sistema, sin evaluar sumas infinitas. Ver ecuación 9.38 del libro. "
   ]
  },
  {
   "cell_type": "markdown",
   "metadata": {},
   "source": [
    "**Resolver el átomo de helio, considerando este método (sección 9.4), como mejor le parezca. **"
   ]
  },
  {
   "cell_type": "markdown",
   "metadata": {},
   "source": [
    "**Tarea 6. Revisar sección 9.7. **\n",
    "\n",
    "Inicialmente a mano, y sengunda instancia favor de intentar programar sección del problema, i.e. integral de Coulomb  e integral de intercambio."
   ]
  },
  {
   "cell_type": "markdown",
   "metadata": {},
   "source": [
    "## Siguiente: Segunda parte, Octubre\n",
    "Simetrías moleculares y Hartree-Fock"
   ]
  },
  {
   "cell_type": "code",
   "execution_count": null,
   "metadata": {
    "collapsed": true
   },
   "outputs": [],
   "source": []
  }
 ],
 "metadata": {
  "kernelspec": {
   "display_name": "Python 3",
   "language": "python",
   "name": "python3"
  },
  "language_info": {
   "codemirror_mode": {
    "name": "ipython",
    "version": 3
   },
   "file_extension": ".py",
   "mimetype": "text/x-python",
   "name": "python",
   "nbconvert_exporter": "python",
   "pygments_lexer": "ipython3",
   "version": "3.6.1"
  }
 },
 "nbformat": 4,
 "nbformat_minor": 1
}
