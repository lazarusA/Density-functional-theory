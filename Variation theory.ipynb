{
 "cells": [
  {
   "cell_type": "markdown",
   "metadata": {},
   "source": [
    "# Obtención de eigenfunciones y eigenvalores por método de variación"
   ]
  },
  {
   "cell_type": "code",
   "execution_count": 1,
   "metadata": {
    "collapsed": true
   },
   "outputs": [],
   "source": [
    "from sympy import *\n",
    "from sympy import init_printing; init_printing(use_latex = 'mathjax')"
   ]
  },
  {
   "cell_type": "code",
   "execution_count": 2,
   "metadata": {
    "collapsed": false
   },
   "outputs": [
    {
     "name": "stdout",
     "output_type": "stream",
     "text": [
      "Determine el número de funciones: 4\n",
      "Escribre tu funcion 1: x*(l-x)\n",
      "Escribre tu funcion 2: x**2*(l-x)**2\n",
      "Escribre tu funcion 3: x*(l-x)*(1/2*l-x)\n",
      "Escribre tu funcion 4: x**2*(l-x)**2*(1/2*l-x)\n"
     ]
    }
   ],
   "source": [
    "n = int(input('Determine el número de funciones: '))\n",
    "F=[]\n",
    "for i in range (0,n):\n",
    "    F.append(str(input('Escribre tu funcion %d: '  %(i+1))))\n",
    "F = sympify(F)    \n",
    "\n",
    "\n",
    "#Utilizamos las ecuaciones ejemplo del libro en el ejercicio 8.5\n",
    "#F_1 = x*(l-x)\n",
    "#F_2 = x**2*(l-x)**2\n",
    "#F_3 = x*(l-x)*(1/2*l-x)\n",
    "#F_2 = x**2*(l-x)**2*(1/2*l-x)\n"
   ]
  },
  {
   "cell_type": "code",
   "execution_count": 3,
   "metadata": {
    "collapsed": false
   },
   "outputs": [],
   "source": [
    "S = zeros(n,n)     #Matriz S\n",
    "H = zeros(n,n)     #Matriz H\n",
    "H_SW = zeros(n,n)  #Matriz H-SW\n",
    "\n",
    "var('x l m hbar W')\n",
    "for i in range (0, n):\n",
    "    for j in range (0, n):\n",
    "        Integrando_H = (-hbar**2/(2*m))*F[i]*diff(F[j], x, 2)\n",
    "        Integrando_S = F[i]*F[j]\n",
    "        H[i, j] = integrate(Integrando_H, (x,0,l))\n",
    "        S[i, j] = integrate(Integrando_S, (x,0,l))\n",
    "        H_SW[i,j] = H[i,j]-S[i,j]*W"
   ]
  },
  {
   "cell_type": "code",
   "execution_count": 4,
   "metadata": {
    "collapsed": false
   },
   "outputs": [
    {
     "data": {
      "text/latex": [
       "$$\\left[\\begin{matrix}\\frac{\\hbar^{2} l^{3}}{6 m} & \\frac{\\hbar^{2} l^{5}}{30 m} & 0 & 0\\\\\\frac{\\hbar^{2} l^{5}}{30 m} & \\frac{\\hbar^{2} l^{7}}{105 m} & 0 & 0\\\\0 & 0 & \\frac{\\hbar^{2} l^{5}}{40 m} & \\frac{\\hbar^{2} l^{7}}{280 m}\\\\0 & 0 & \\frac{\\hbar^{2} l^{7}}{280 m} & \\frac{\\hbar^{2} l^{9}}{1260 m}\\end{matrix}\\right]$$"
      ],
      "text/plain": [
       "⎡  2  3    2  5                ⎤\n",
       "⎢h̅ ⋅l   h̅ ⋅l                 ⎥\n",
       "⎢──────  ──────    0       0   ⎥\n",
       "⎢ 6⋅m     30⋅m                 ⎥\n",
       "⎢                              ⎥\n",
       "⎢  2  5    2  7                ⎥\n",
       "⎢h̅ ⋅l   h̅ ⋅l                 ⎥\n",
       "⎢──────  ──────    0       0   ⎥\n",
       "⎢ 30⋅m   105⋅m                 ⎥\n",
       "⎢                              ⎥\n",
       "⎢                  2  5    2  7⎥\n",
       "⎢                h̅ ⋅l   h̅ ⋅l ⎥\n",
       "⎢  0       0     ──────  ──────⎥\n",
       "⎢                 40⋅m   280⋅m ⎥\n",
       "⎢                              ⎥\n",
       "⎢                  2  7    2  9⎥\n",
       "⎢                h̅ ⋅l   h̅ ⋅l ⎥\n",
       "⎢  0       0     ──────  ──────⎥\n",
       "⎣                280⋅m   1260⋅m⎦"
      ]
     },
     "execution_count": 4,
     "metadata": {},
     "output_type": "execute_result"
    }
   ],
   "source": [
    "H"
   ]
  },
  {
   "cell_type": "code",
   "execution_count": 5,
   "metadata": {
    "collapsed": false,
    "scrolled": true
   },
   "outputs": [
    {
     "data": {
      "text/latex": [
       "$$\\left[\\begin{matrix}\\frac{l^{5}}{30} & \\frac{l^{7}}{140} & 0 & 0\\\\\\frac{l^{7}}{140} & \\frac{l^{9}}{630} & 0 & 0\\\\0 & 0 & \\frac{l^{7}}{840} & \\frac{l^{9}}{5040}\\\\0 & 0 & \\frac{l^{9}}{5040} & \\frac{l^{11}}{27720}\\end{matrix}\\right]$$"
      ],
      "text/plain": [
       "⎡ 5     7             ⎤\n",
       "⎢l     l              ⎥\n",
       "⎢──   ───   0      0  ⎥\n",
       "⎢30   140             ⎥\n",
       "⎢                     ⎥\n",
       "⎢  7    9             ⎥\n",
       "⎢ l    l              ⎥\n",
       "⎢───  ───   0      0  ⎥\n",
       "⎢140  630             ⎥\n",
       "⎢                     ⎥\n",
       "⎢            7     9  ⎥\n",
       "⎢           l     l   ⎥\n",
       "⎢ 0    0   ───   ──── ⎥\n",
       "⎢          840   5040 ⎥\n",
       "⎢                     ⎥\n",
       "⎢            9     11 ⎥\n",
       "⎢           l     l   ⎥\n",
       "⎢ 0    0   ────  ─────⎥\n",
       "⎣          5040  27720⎦"
      ]
     },
     "execution_count": 5,
     "metadata": {},
     "output_type": "execute_result"
    }
   ],
   "source": [
    "S"
   ]
  },
  {
   "cell_type": "code",
   "execution_count": 6,
   "metadata": {
    "collapsed": false
   },
   "outputs": [
    {
     "data": {
      "text/latex": [
       "$$\\left[\\begin{matrix}- \\frac{W l^{5}}{30} + \\frac{\\hbar^{2} l^{3}}{6 m} & - \\frac{W l^{7}}{140} + \\frac{\\hbar^{2} l^{5}}{30 m} & 0 & 0\\\\- \\frac{W l^{7}}{140} + \\frac{\\hbar^{2} l^{5}}{30 m} & - \\frac{W l^{9}}{630} + \\frac{\\hbar^{2} l^{7}}{105 m} & 0 & 0\\\\0 & 0 & - \\frac{W l^{7}}{840} + \\frac{\\hbar^{2} l^{5}}{40 m} & - \\frac{W l^{9}}{5040} + \\frac{\\hbar^{2} l^{7}}{280 m}\\\\0 & 0 & - \\frac{W l^{9}}{5040} + \\frac{\\hbar^{2} l^{7}}{280 m} & - \\frac{W l^{11}}{27720} + \\frac{\\hbar^{2} l^{9}}{1260 m}\\end{matrix}\\right]$$"
      ],
      "text/plain": [
       "⎡     5     2  3       7     2  5                                   ⎤\n",
       "⎢  W⋅l    h̅ ⋅l     W⋅l    h̅ ⋅l                                    ⎥\n",
       "⎢- ──── + ──────  - ──── + ──────         0                0        ⎥\n",
       "⎢   30     6⋅m      140     30⋅m                                    ⎥\n",
       "⎢                                                                   ⎥\n",
       "⎢     7     2  5       9     2  7                                   ⎥\n",
       "⎢  W⋅l    h̅ ⋅l     W⋅l    h̅ ⋅l                                    ⎥\n",
       "⎢- ──── + ──────  - ──── + ──────         0                0        ⎥\n",
       "⎢  140     30⋅m     630    105⋅m                                    ⎥\n",
       "⎢                                                                   ⎥\n",
       "⎢                                       7     2  5       9     2  7 ⎥\n",
       "⎢                                    W⋅l    h̅ ⋅l     W⋅l    h̅ ⋅l  ⎥\n",
       "⎢       0                0         - ──── + ──────  - ──── + ────── ⎥\n",
       "⎢                                    840     40⋅m     5040   280⋅m  ⎥\n",
       "⎢                                                                   ⎥\n",
       "⎢                                       9     2  7       11     2  9⎥\n",
       "⎢                                    W⋅l    h̅ ⋅l     W⋅l     h̅ ⋅l ⎥\n",
       "⎢       0                0         - ──── + ──────  - ───── + ──────⎥\n",
       "⎣                                    5040   280⋅m     27720   1260⋅m⎦"
      ]
     },
     "execution_count": 6,
     "metadata": {},
     "output_type": "execute_result"
    }
   ],
   "source": [
    "H_SW"
   ]
  },
  {
   "cell_type": "code",
   "execution_count": 7,
   "metadata": {
    "collapsed": false,
    "scrolled": true
   },
   "outputs": [
    {
     "data": {
      "text/latex": [
       "$$\\left [ \\frac{2 \\hbar^{2}}{l^{2} m} \\left(- \\sqrt{133} + 14\\right), \\quad \\frac{2 \\hbar^{2}}{l^{2} m} \\left(\\sqrt{133} + 14\\right), \\quad \\frac{2 \\hbar^{2}}{l^{2} m} \\left(- 9 \\sqrt{5} + 30\\right), \\quad \\frac{2 \\hbar^{2}}{l^{2} m} \\left(9 \\sqrt{5} + 30\\right)\\right ]$$"
      ],
      "text/plain": [
       "⎡    2                   2                  2                   2            ⎤\n",
       "⎢2⋅h̅ ⋅(-√133 + 14)  2⋅h̅ ⋅(√133 + 14)  2⋅h̅ ⋅(-9⋅√5 + 30)  2⋅h̅ ⋅(9⋅√5 + 30)⎥\n",
       "⎢──────────────────, ─────────────────, ──────────────────, ─────────────────⎥\n",
       "⎢        2                   2                  2                   2        ⎥\n",
       "⎣       l ⋅m                l ⋅m               l ⋅m                l ⋅m      ⎦"
      ]
     },
     "execution_count": 7,
     "metadata": {},
     "output_type": "execute_result"
    }
   ],
   "source": [
    "Wsol=solve(H_SW.det(), W)\n",
    "Wsol"
   ]
  },
  {
   "cell_type": "markdown",
   "metadata": {},
   "source": [
    "# Para obetener constantes c y Phi"
   ]
  },
  {
   "cell_type": "code",
   "execution_count": 8,
   "metadata": {
    "collapsed": false
   },
   "outputs": [],
   "source": [
    "H_SW1 = zeros(n,n) #Matriz H-SW en la cual sustituimos las W por W1\n",
    "\n",
    "c=[] # Matriz de coeficientes C\n",
    "\n",
    "for i in range(0, n):\n",
    "    c.append(str('c_%d' %(i+1)))\n",
    "c = sympify(c)\n",
    "for i in range (0, n):\n",
    "    for j in range (0, n):\n",
    "        H_SW1[i,j]= ((H[i,j]-S[i,j]*Wsol[0])*c[j])"
   ]
  },
  {
   "cell_type": "code",
   "execution_count": 9,
   "metadata": {
    "collapsed": false
   },
   "outputs": [
    {
     "data": {
      "text/latex": [
       "$$\\left[\\begin{matrix}c_{1} \\left(- \\frac{\\hbar^{2} l^{3}}{15 m} \\left(- \\sqrt{133} + 14\\right) + \\frac{\\hbar^{2} l^{3}}{6 m}\\right) & c_{2} \\left(- \\frac{\\hbar^{2} l^{5}}{70 m} \\left(- \\sqrt{133} + 14\\right) + \\frac{\\hbar^{2} l^{5}}{30 m}\\right) & 0 & 0\\\\c_{1} \\left(- \\frac{\\hbar^{2} l^{5}}{70 m} \\left(- \\sqrt{133} + 14\\right) + \\frac{\\hbar^{2} l^{5}}{30 m}\\right) & c_{2} \\left(- \\frac{\\hbar^{2} l^{7}}{315 m} \\left(- \\sqrt{133} + 14\\right) + \\frac{\\hbar^{2} l^{7}}{105 m}\\right) & 0 & 0\\\\0 & 0 & c_{3} \\left(- \\frac{\\hbar^{2} l^{5}}{420 m} \\left(- \\sqrt{133} + 14\\right) + \\frac{\\hbar^{2} l^{5}}{40 m}\\right) & c_{4} \\left(- \\frac{\\hbar^{2} l^{7}}{2520 m} \\left(- \\sqrt{133} + 14\\right) + \\frac{\\hbar^{2} l^{7}}{280 m}\\right)\\\\0 & 0 & c_{3} \\left(- \\frac{\\hbar^{2} l^{7}}{2520 m} \\left(- \\sqrt{133} + 14\\right) + \\frac{\\hbar^{2} l^{7}}{280 m}\\right) & c_{4} \\left(- \\frac{\\hbar^{2} l^{9}}{13860 m} \\left(- \\sqrt{133} + 14\\right) + \\frac{\\hbar^{2} l^{9}}{1260 m}\\right)\\end{matrix}\\right]$$"
      ],
      "text/plain": [
       "⎡   ⎛    2  3                  2  3⎞     ⎛    2  5                  2  5⎞     \n",
       "⎢   ⎜  h̅ ⋅l ⋅(-√133 + 14)   h̅ ⋅l ⎟     ⎜  h̅ ⋅l ⋅(-√133 + 14)   h̅ ⋅l ⎟     \n",
       "⎢c₁⋅⎜- ─────────────────── + ──────⎟  c₂⋅⎜- ─────────────────── + ──────⎟     \n",
       "⎢   ⎝          15⋅m           6⋅m  ⎠     ⎝          70⋅m           30⋅m ⎠     \n",
       "⎢                                                                             \n",
       "⎢   ⎛    2  5                  2  5⎞     ⎛    2  7                  2  7⎞     \n",
       "⎢   ⎜  h̅ ⋅l ⋅(-√133 + 14)   h̅ ⋅l ⎟     ⎜  h̅ ⋅l ⋅(-√133 + 14)   h̅ ⋅l ⎟     \n",
       "⎢c₁⋅⎜- ─────────────────── + ──────⎟  c₂⋅⎜- ─────────────────── + ──────⎟     \n",
       "⎢   ⎝          70⋅m           30⋅m ⎠     ⎝         315⋅m          105⋅m ⎠     \n",
       "⎢                                                                             \n",
       "⎢                                                                             \n",
       "⎢                                                                             \n",
       "⎢                 0                                    0                   c₃⋅\n",
       "⎢                                                                             \n",
       "⎢                                                                             \n",
       "⎢                                                                             \n",
       "⎢                                                                             \n",
       "⎢                 0                                    0                   c₃⋅\n",
       "⎣                                                                             \n",
       "\n",
       "                                                                     ⎤\n",
       "                                                                     ⎥\n",
       "              0                                    0                 ⎥\n",
       "                                                                     ⎥\n",
       "                                                                     ⎥\n",
       "                                                                     ⎥\n",
       "                                                                     ⎥\n",
       "              0                                    0                 ⎥\n",
       "                                                                     ⎥\n",
       "                                                                     ⎥\n",
       "⎛    2  5                  2  5⎞     ⎛    2  7                  2  7⎞⎥\n",
       "⎜  h̅ ⋅l ⋅(-√133 + 14)   h̅ ⋅l ⎟     ⎜  h̅ ⋅l ⋅(-√133 + 14)   h̅ ⋅l ⎟⎥\n",
       "⎜- ─────────────────── + ──────⎟  c₄⋅⎜- ─────────────────── + ──────⎟⎥\n",
       "⎝         420⋅m           40⋅m ⎠     ⎝         2520⋅m         280⋅m ⎠⎥\n",
       "                                                                     ⎥\n",
       "⎛    2  7                  2  7⎞     ⎛    2  9                  2  9⎞⎥\n",
       "⎜  h̅ ⋅l ⋅(-√133 + 14)   h̅ ⋅l ⎟     ⎜  h̅ ⋅l ⋅(-√133 + 14)   h̅ ⋅l ⎟⎥\n",
       "⎜- ─────────────────── + ──────⎟  c₄⋅⎜- ─────────────────── + ──────⎟⎥\n",
       "⎝         2520⋅m         280⋅m ⎠     ⎝        13860⋅m         1260⋅m⎠⎦"
      ]
     },
     "execution_count": 9,
     "metadata": {},
     "output_type": "execute_result"
    }
   ],
   "source": [
    "H_SW1\n"
   ]
  },
  {
   "cell_type": "code",
   "execution_count": 10,
   "metadata": {
    "collapsed": false
   },
   "outputs": [],
   "source": [
    "Eq=[] #Matriz que contiene las ecuaciones para encontrar los valores a las constantes c's\n",
    "var('k')\n",
    "for i in range(0, n): \n",
    "    eqn = 0\n",
    "    for j in range (0, n):\n",
    "       eqn = eqn + H_SW1[i,j]\n",
    "    Eq.append(eqn)\n",
    "    \n",
    "Eq.append(c[0]-k)  # valor constante a normalizar\n",
    "Eq = sympify (Eq)\n",
    "\n",
    "sol=solve(Eq, c, dict =true )\n"
   ]
  },
  {
   "cell_type": "code",
   "execution_count": 11,
   "metadata": {
    "collapsed": false
   },
   "outputs": [
    {
     "data": {
      "text/latex": [
       "$$\\left [ c_{1} \\left(- \\frac{\\hbar^{2} l^{3}}{15 m} \\left(- \\sqrt{133} + 14\\right) + \\frac{\\hbar^{2} l^{3}}{6 m}\\right) + c_{2} \\left(- \\frac{\\hbar^{2} l^{5}}{70 m} \\left(- \\sqrt{133} + 14\\right) + \\frac{\\hbar^{2} l^{5}}{30 m}\\right), \\quad c_{1} \\left(- \\frac{\\hbar^{2} l^{5}}{70 m} \\left(- \\sqrt{133} + 14\\right) + \\frac{\\hbar^{2} l^{5}}{30 m}\\right) + c_{2} \\left(- \\frac{\\hbar^{2} l^{7}}{315 m} \\left(- \\sqrt{133} + 14\\right) + \\frac{\\hbar^{2} l^{7}}{105 m}\\right), \\quad c_{3} \\left(- \\frac{\\hbar^{2} l^{5}}{420 m} \\left(- \\sqrt{133} + 14\\right) + \\frac{\\hbar^{2} l^{5}}{40 m}\\right) + c_{4} \\left(- \\frac{\\hbar^{2} l^{7}}{2520 m} \\left(- \\sqrt{133} + 14\\right) + \\frac{\\hbar^{2} l^{7}}{280 m}\\right), \\quad c_{3} \\left(- \\frac{\\hbar^{2} l^{7}}{2520 m} \\left(- \\sqrt{133} + 14\\right) + \\frac{\\hbar^{2} l^{7}}{280 m}\\right) + c_{4} \\left(- \\frac{\\hbar^{2} l^{9}}{13860 m} \\left(- \\sqrt{133} + 14\\right) + \\frac{\\hbar^{2} l^{9}}{1260 m}\\right), \\quad c_{1} - k\\right ]$$"
      ],
      "text/plain": [
       "⎡   ⎛    2  3                  2  3⎞      ⎛    2  5                  2  5⎞    \n",
       "⎢   ⎜  h̅ ⋅l ⋅(-√133 + 14)   h̅ ⋅l ⎟      ⎜  h̅ ⋅l ⋅(-√133 + 14)   h̅ ⋅l ⎟    \n",
       "⎢c₁⋅⎜- ─────────────────── + ──────⎟ + c₂⋅⎜- ─────────────────── + ──────⎟, c₁\n",
       "⎣   ⎝          15⋅m           6⋅m  ⎠      ⎝          70⋅m           30⋅m ⎠    \n",
       "\n",
       " ⎛    2  5                  2  5⎞      ⎛    2  7                  2  7⎞     ⎛ \n",
       " ⎜  h̅ ⋅l ⋅(-√133 + 14)   h̅ ⋅l ⎟      ⎜  h̅ ⋅l ⋅(-√133 + 14)   h̅ ⋅l ⎟     ⎜ \n",
       "⋅⎜- ─────────────────── + ──────⎟ + c₂⋅⎜- ─────────────────── + ──────⎟, c₃⋅⎜-\n",
       " ⎝          70⋅m           30⋅m ⎠      ⎝         315⋅m          105⋅m ⎠     ⎝ \n",
       "\n",
       "   2  5                  2  5⎞      ⎛    2  7                  2  7⎞     ⎛    \n",
       " h̅ ⋅l ⋅(-√133 + 14)   h̅ ⋅l ⎟      ⎜  h̅ ⋅l ⋅(-√133 + 14)   h̅ ⋅l ⎟     ⎜  h̅\n",
       " ─────────────────── + ──────⎟ + c₄⋅⎜- ─────────────────── + ──────⎟, c₃⋅⎜- ──\n",
       "        420⋅m           40⋅m ⎠      ⎝         2520⋅m         280⋅m ⎠     ⎝    \n",
       "\n",
       "2  7                  2  7⎞      ⎛    2  9                  2  9⎞        ⎤\n",
       " ⋅l ⋅(-√133 + 14)   h̅ ⋅l ⎟      ⎜  h̅ ⋅l ⋅(-√133 + 14)   h̅ ⋅l ⎟        ⎥\n",
       "───────────────── + ──────⎟ + c₄⋅⎜- ─────────────────── + ──────⎟, c₁ - k⎥\n",
       "     2520⋅m         280⋅m ⎠      ⎝        13860⋅m         1260⋅m⎠        ⎦"
      ]
     },
     "execution_count": 11,
     "metadata": {},
     "output_type": "execute_result"
    }
   ],
   "source": [
    "Eq"
   ]
  },
  {
   "cell_type": "code",
   "execution_count": 12,
   "metadata": {
    "collapsed": false
   },
   "outputs": [
    {
     "data": {
      "text/latex": [
       "$$\\left [ \\left \\{ c_{1} : k, \\quad c_{2} : \\frac{21 k}{l^{2} \\left(7 + \\sqrt{133}\\right)}, \\quad c_{3} : 0, \\quad c_{4} : 0\\right \\}\\right ]$$"
      ],
      "text/plain": [
       "⎡⎧                21⋅k                  ⎫⎤\n",
       "⎢⎪c₁: k, c₂: ─────────────, c₃: 0, c₄: 0⎪⎥\n",
       "⎢⎨            2                         ⎬⎥\n",
       "⎢⎪           l ⋅(7 + √133)              ⎪⎥\n",
       "⎣⎩                                      ⎭⎦"
      ]
     },
     "execution_count": 12,
     "metadata": {},
     "output_type": "execute_result"
    }
   ],
   "source": [
    "sol"
   ]
  },
  {
   "cell_type": "markdown",
   "metadata": {},
   "source": [
    "#Normalización para Phi1"
   ]
  },
  {
   "cell_type": "code",
   "execution_count": 13,
   "metadata": {
    "collapsed": false
   },
   "outputs": [],
   "source": [
    "Phi1 = 0\n",
    "for i in range(n):\n",
    "    Phi1 = Phi1 + sol[0][c[i]]*F[i]\n",
    "    \n",
    "Normal_1 = Integral(Phi1**2,(x,0,l)).doit()-1\n",
    "\n",
    "K = (solve(Normal_1, k)[0]).evalf()"
   ]
  },
  {
   "cell_type": "code",
   "execution_count": 14,
   "metadata": {
    "collapsed": false
   },
   "outputs": [
    {
     "data": {
      "text/latex": [
       "$$- 4.40399751133633 \\left(\\frac{1}{l^{5}}\\right)^{0.5}$$"
      ],
      "text/plain": [
       "                      0.5\n",
       "                  ⎛1 ⎞   \n",
       "-4.40399751133633⋅⎜──⎟   \n",
       "                  ⎜ 5⎟   \n",
       "                  ⎝l ⎠   "
      ]
     },
     "execution_count": 14,
     "metadata": {},
     "output_type": "execute_result"
    }
   ],
   "source": [
    "K\n"
   ]
  },
  {
   "cell_type": "code",
   "execution_count": 15,
   "metadata": {
    "collapsed": false
   },
   "outputs": [
    {
     "data": {
      "text/latex": [
       "$$- 4.40399751133633 x \\left(l - x\\right) \\left(\\frac{1}{l^{5}}\\right)^{0.5} - \\frac{4.99034859672658 x^{2}}{l^{2}} \\left(l - x\\right)^{2} \\left(\\frac{1}{l^{5}}\\right)^{0.5}$$"
      ],
      "text/plain": [
       "                                                                        0.5\n",
       "                                                         2        2 ⎛1 ⎞   \n",
       "                                       4.99034859672658⋅x ⋅(l - x) ⋅⎜──⎟   \n",
       "                                 0.5                                ⎜ 5⎟   \n",
       "                             ⎛1 ⎞                                   ⎝l ⎠   \n",
       "- 4.40399751133633⋅x⋅(l - x)⋅⎜──⎟    - ────────────────────────────────────\n",
       "                             ⎜ 5⎟                        2                 \n",
       "                             ⎝l ⎠                       l                  "
      ]
     },
     "execution_count": 15,
     "metadata": {},
     "output_type": "execute_result"
    }
   ],
   "source": [
    "(Phi1.subs(k, K)).evalf()"
   ]
  },
  {
   "cell_type": "code",
   "execution_count": 16,
   "metadata": {
    "collapsed": false
   },
   "outputs": [],
   "source": [
    "import numpy as np\n",
    "H_SWn= np.zeros((n,n,n), dtype = object) # Matriz H-SW\n",
    "\n",
    "c_Mat= zeros(n,n) #Matriz de constantes\n",
    "for i in range (n):\n",
    "    for j in range (n):\n",
    "        c_Mat[i,j] = sympify(str('c_'+str(i+1)+'_'+str(j+1)))\n",
    "\n",
    "for h in range(n):  \n",
    "    for i in range (n):\n",
    "        for j in range (n):\n",
    "            H_SWn[h,i,j]= sympify(((H[i,j]-S[i,j]*Wsol[h])*c_Mat[h,j]))    \n",
    "            \n",
    "eq_n = zeros(n,n+1)\n",
    "for h in range(0, n):\n",
    "    for i in range ( 0, n): \n",
    "        eqn = 0\n",
    "        for j in range (0, n):\n",
    "            eqn = eqn + H_SWn[h,i,j]\n",
    "        eq_n[h,i] = eqn\n",
    "        \n",
    "            \n",
    "eq_n[0,4] = c_Mat[0,0]-k\n",
    "eq_n[1,4] = c_Mat[1,0]-k\n",
    "eq_n[2,4] = c_Mat[2,2]-k\n",
    "eq_n[3,4] = c_Mat[3,2]-k\n",
    "\n",
    "eq_n = sympify(eq_n)\n",
    "\n",
    "\n"
   ]
  },
  {
   "cell_type": "code",
   "execution_count": 17,
   "metadata": {
    "collapsed": false
   },
   "outputs": [
    {
     "data": {
      "text/latex": [
       "$$\\left[\\begin{matrix}c_{1 1} \\left(- \\frac{\\hbar^{2} l^{3}}{15 m} \\left(- \\sqrt{133} + 14\\right) + \\frac{\\hbar^{2} l^{3}}{6 m}\\right) + c_{1 2} \\left(- \\frac{\\hbar^{2} l^{5}}{70 m} \\left(- \\sqrt{133} + 14\\right) + \\frac{\\hbar^{2} l^{5}}{30 m}\\right) & c_{1 1} \\left(- \\frac{\\hbar^{2} l^{5}}{70 m} \\left(- \\sqrt{133} + 14\\right) + \\frac{\\hbar^{2} l^{5}}{30 m}\\right) + c_{1 2} \\left(- \\frac{\\hbar^{2} l^{7}}{315 m} \\left(- \\sqrt{133} + 14\\right) + \\frac{\\hbar^{2} l^{7}}{105 m}\\right) & c_{1 3} \\left(- \\frac{\\hbar^{2} l^{5}}{420 m} \\left(- \\sqrt{133} + 14\\right) + \\frac{\\hbar^{2} l^{5}}{40 m}\\right) + c_{1 4} \\left(- \\frac{\\hbar^{2} l^{7}}{2520 m} \\left(- \\sqrt{133} + 14\\right) + \\frac{\\hbar^{2} l^{7}}{280 m}\\right) & c_{1 3} \\left(- \\frac{\\hbar^{2} l^{7}}{2520 m} \\left(- \\sqrt{133} + 14\\right) + \\frac{\\hbar^{2} l^{7}}{280 m}\\right) + c_{1 4} \\left(- \\frac{\\hbar^{2} l^{9}}{13860 m} \\left(- \\sqrt{133} + 14\\right) + \\frac{\\hbar^{2} l^{9}}{1260 m}\\right) & c_{1 1} - k\\\\c_{2 1} \\left(- \\frac{\\hbar^{2} l^{3}}{15 m} \\left(\\sqrt{133} + 14\\right) + \\frac{\\hbar^{2} l^{3}}{6 m}\\right) + c_{2 2} \\left(- \\frac{\\hbar^{2} l^{5}}{70 m} \\left(\\sqrt{133} + 14\\right) + \\frac{\\hbar^{2} l^{5}}{30 m}\\right) & c_{2 1} \\left(- \\frac{\\hbar^{2} l^{5}}{70 m} \\left(\\sqrt{133} + 14\\right) + \\frac{\\hbar^{2} l^{5}}{30 m}\\right) + c_{2 2} \\left(- \\frac{\\hbar^{2} l^{7}}{315 m} \\left(\\sqrt{133} + 14\\right) + \\frac{\\hbar^{2} l^{7}}{105 m}\\right) & c_{2 3} \\left(- \\frac{\\hbar^{2} l^{5}}{420 m} \\left(\\sqrt{133} + 14\\right) + \\frac{\\hbar^{2} l^{5}}{40 m}\\right) + c_{2 4} \\left(- \\frac{\\hbar^{2} l^{7}}{2520 m} \\left(\\sqrt{133} + 14\\right) + \\frac{\\hbar^{2} l^{7}}{280 m}\\right) & c_{2 3} \\left(- \\frac{\\hbar^{2} l^{7}}{2520 m} \\left(\\sqrt{133} + 14\\right) + \\frac{\\hbar^{2} l^{7}}{280 m}\\right) + c_{2 4} \\left(- \\frac{\\hbar^{2} l^{9}}{13860 m} \\left(\\sqrt{133} + 14\\right) + \\frac{\\hbar^{2} l^{9}}{1260 m}\\right) & c_{2 1} - k\\\\c_{3 1} \\left(- \\frac{\\hbar^{2} l^{3}}{15 m} \\left(- 9 \\sqrt{5} + 30\\right) + \\frac{\\hbar^{2} l^{3}}{6 m}\\right) + c_{3 2} \\left(- \\frac{\\hbar^{2} l^{5}}{70 m} \\left(- 9 \\sqrt{5} + 30\\right) + \\frac{\\hbar^{2} l^{5}}{30 m}\\right) & c_{3 1} \\left(- \\frac{\\hbar^{2} l^{5}}{70 m} \\left(- 9 \\sqrt{5} + 30\\right) + \\frac{\\hbar^{2} l^{5}}{30 m}\\right) + c_{3 2} \\left(- \\frac{\\hbar^{2} l^{7}}{315 m} \\left(- 9 \\sqrt{5} + 30\\right) + \\frac{\\hbar^{2} l^{7}}{105 m}\\right) & c_{3 3} \\left(- \\frac{\\hbar^{2} l^{5}}{420 m} \\left(- 9 \\sqrt{5} + 30\\right) + \\frac{\\hbar^{2} l^{5}}{40 m}\\right) + c_{3 4} \\left(- \\frac{\\hbar^{2} l^{7}}{2520 m} \\left(- 9 \\sqrt{5} + 30\\right) + \\frac{\\hbar^{2} l^{7}}{280 m}\\right) & c_{3 3} \\left(- \\frac{\\hbar^{2} l^{7}}{2520 m} \\left(- 9 \\sqrt{5} + 30\\right) + \\frac{\\hbar^{2} l^{7}}{280 m}\\right) + c_{3 4} \\left(- \\frac{\\hbar^{2} l^{9}}{13860 m} \\left(- 9 \\sqrt{5} + 30\\right) + \\frac{\\hbar^{2} l^{9}}{1260 m}\\right) & c_{3 3} - k\\\\c_{4 1} \\left(- \\frac{\\hbar^{2} l^{3}}{15 m} \\left(9 \\sqrt{5} + 30\\right) + \\frac{\\hbar^{2} l^{3}}{6 m}\\right) + c_{4 2} \\left(- \\frac{\\hbar^{2} l^{5}}{70 m} \\left(9 \\sqrt{5} + 30\\right) + \\frac{\\hbar^{2} l^{5}}{30 m}\\right) & c_{4 1} \\left(- \\frac{\\hbar^{2} l^{5}}{70 m} \\left(9 \\sqrt{5} + 30\\right) + \\frac{\\hbar^{2} l^{5}}{30 m}\\right) + c_{4 2} \\left(- \\frac{\\hbar^{2} l^{7}}{315 m} \\left(9 \\sqrt{5} + 30\\right) + \\frac{\\hbar^{2} l^{7}}{105 m}\\right) & c_{4 3} \\left(- \\frac{\\hbar^{2} l^{5}}{420 m} \\left(9 \\sqrt{5} + 30\\right) + \\frac{\\hbar^{2} l^{5}}{40 m}\\right) + c_{4 4} \\left(- \\frac{\\hbar^{2} l^{7}}{2520 m} \\left(9 \\sqrt{5} + 30\\right) + \\frac{\\hbar^{2} l^{7}}{280 m}\\right) & c_{4 3} \\left(- \\frac{\\hbar^{2} l^{7}}{2520 m} \\left(9 \\sqrt{5} + 30\\right) + \\frac{\\hbar^{2} l^{7}}{280 m}\\right) + c_{4 4} \\left(- \\frac{\\hbar^{2} l^{9}}{13860 m} \\left(9 \\sqrt{5} + 30\\right) + \\frac{\\hbar^{2} l^{9}}{1260 m}\\right) & c_{4 3} - k\\end{matrix}\\right]$$"
      ],
      "text/plain": [
       "⎡     ⎛    2  3                  2  3⎞        ⎛    2  5                  2  5⎞\n",
       "⎢     ⎜  h̅ ⋅l ⋅(-√133 + 14)   h̅ ⋅l ⎟        ⎜  h̅ ⋅l ⋅(-√133 + 14)   h̅ ⋅l ⎟\n",
       "⎢c₁ ₁⋅⎜- ─────────────────── + ──────⎟ + c₁ ₂⋅⎜- ─────────────────── + ──────⎟\n",
       "⎢     ⎝          15⋅m           6⋅m  ⎠        ⎝          70⋅m           30⋅m ⎠\n",
       "⎢                                                                             \n",
       "⎢      ⎛    2  3                 2  3⎞        ⎛    2  5                 2  5⎞ \n",
       "⎢      ⎜  h̅ ⋅l ⋅(√133 + 14)   h̅ ⋅l ⎟        ⎜  h̅ ⋅l ⋅(√133 + 14)   h̅ ⋅l ⎟ \n",
       "⎢ c₂ ₁⋅⎜- ────────────────── + ──────⎟ + c₂ ₂⋅⎜- ────────────────── + ──────⎟ \n",
       "⎢      ⎝         15⋅m           6⋅m  ⎠        ⎝         70⋅m           30⋅m ⎠ \n",
       "⎢                                                                             \n",
       "⎢     ⎛    2  3                  2  3⎞        ⎛    2  5                  2  5⎞\n",
       "⎢     ⎜  h̅ ⋅l ⋅(-9⋅√5 + 30)   h̅ ⋅l ⎟        ⎜  h̅ ⋅l ⋅(-9⋅√5 + 30)   h̅ ⋅l ⎟\n",
       "⎢c₃ ₁⋅⎜- ─────────────────── + ──────⎟ + c₃ ₂⋅⎜- ─────────────────── + ──────⎟\n",
       "⎢     ⎝          15⋅m           6⋅m  ⎠        ⎝          70⋅m           30⋅m ⎠\n",
       "⎢                                                                             \n",
       "⎢      ⎛    2  3                 2  3⎞        ⎛    2  5                 2  5⎞ \n",
       "⎢      ⎜  h̅ ⋅l ⋅(9⋅√5 + 30)   h̅ ⋅l ⎟        ⎜  h̅ ⋅l ⋅(9⋅√5 + 30)   h̅ ⋅l ⎟ \n",
       "⎢ c₄ ₁⋅⎜- ────────────────── + ──────⎟ + c₄ ₂⋅⎜- ────────────────── + ──────⎟ \n",
       "⎣      ⎝         15⋅m           6⋅m  ⎠        ⎝         70⋅m           30⋅m ⎠ \n",
       "\n",
       "       ⎛    2  5                  2  5⎞        ⎛    2  7                  2  7\n",
       "       ⎜  h̅ ⋅l ⋅(-√133 + 14)   h̅ ⋅l ⎟        ⎜  h̅ ⋅l ⋅(-√133 + 14)   h̅ ⋅l \n",
       "  c₁ ₁⋅⎜- ─────────────────── + ──────⎟ + c₁ ₂⋅⎜- ─────────────────── + ──────\n",
       "       ⎝          70⋅m           30⋅m ⎠        ⎝         315⋅m          105⋅m \n",
       "                                                                              \n",
       "        ⎛    2  5                 2  5⎞        ⎛    2  7                 2  7⎞\n",
       "        ⎜  h̅ ⋅l ⋅(√133 + 14)   h̅ ⋅l ⎟        ⎜  h̅ ⋅l ⋅(√133 + 14)   h̅ ⋅l ⎟\n",
       "   c₂ ₁⋅⎜- ────────────────── + ──────⎟ + c₂ ₂⋅⎜- ────────────────── + ──────⎟\n",
       "        ⎝         70⋅m           30⋅m ⎠        ⎝        315⋅m          105⋅m ⎠\n",
       "                                                                              \n",
       "       ⎛    2  5                  2  5⎞        ⎛    2  7                  2  7\n",
       "       ⎜  h̅ ⋅l ⋅(-9⋅√5 + 30)   h̅ ⋅l ⎟        ⎜  h̅ ⋅l ⋅(-9⋅√5 + 30)   h̅ ⋅l \n",
       "  c₃ ₁⋅⎜- ─────────────────── + ──────⎟ + c₃ ₂⋅⎜- ─────────────────── + ──────\n",
       "       ⎝          70⋅m           30⋅m ⎠        ⎝         315⋅m          105⋅m \n",
       "                                                                              \n",
       "        ⎛    2  5                 2  5⎞        ⎛    2  7                 2  7⎞\n",
       "        ⎜  h̅ ⋅l ⋅(9⋅√5 + 30)   h̅ ⋅l ⎟        ⎜  h̅ ⋅l ⋅(9⋅√5 + 30)   h̅ ⋅l ⎟\n",
       "   c₄ ₁⋅⎜- ────────────────── + ──────⎟ + c₄ ₂⋅⎜- ────────────────── + ──────⎟\n",
       "        ⎝         70⋅m           30⋅m ⎠        ⎝        315⋅m          105⋅m ⎠\n",
       "\n",
       "⎞       ⎛    2  5                  2  5⎞        ⎛    2  7                  2  \n",
       "⎟       ⎜  h̅ ⋅l ⋅(-√133 + 14)   h̅ ⋅l ⎟        ⎜  h̅ ⋅l ⋅(-√133 + 14)   h̅ ⋅l\n",
       "⎟  c₁ ₃⋅⎜- ─────────────────── + ──────⎟ + c₁ ₄⋅⎜- ─────────────────── + ─────\n",
       "⎠       ⎝         420⋅m           40⋅m ⎠        ⎝         2520⋅m         280⋅m\n",
       "                                                                              \n",
       "         ⎛    2  5                 2  5⎞        ⎛    2  7                 2  7\n",
       "         ⎜  h̅ ⋅l ⋅(√133 + 14)   h̅ ⋅l ⎟        ⎜  h̅ ⋅l ⋅(√133 + 14)   h̅ ⋅l \n",
       "    c₂ ₃⋅⎜- ────────────────── + ──────⎟ + c₂ ₄⋅⎜- ────────────────── + ──────\n",
       "         ⎝        420⋅m           40⋅m ⎠        ⎝        2520⋅m         280⋅m \n",
       "                                                                              \n",
       "⎞       ⎛    2  5                  2  5⎞        ⎛    2  7                  2  \n",
       "⎟       ⎜  h̅ ⋅l ⋅(-9⋅√5 + 30)   h̅ ⋅l ⎟        ⎜  h̅ ⋅l ⋅(-9⋅√5 + 30)   h̅ ⋅l\n",
       "⎟  c₃ ₃⋅⎜- ─────────────────── + ──────⎟ + c₃ ₄⋅⎜- ─────────────────── + ─────\n",
       "⎠       ⎝         420⋅m           40⋅m ⎠        ⎝         2520⋅m         280⋅m\n",
       "                                                                              \n",
       "         ⎛    2  5                 2  5⎞        ⎛    2  7                 2  7\n",
       "         ⎜  h̅ ⋅l ⋅(9⋅√5 + 30)   h̅ ⋅l ⎟        ⎜  h̅ ⋅l ⋅(9⋅√5 + 30)   h̅ ⋅l \n",
       "    c₄ ₃⋅⎜- ────────────────── + ──────⎟ + c₄ ₄⋅⎜- ────────────────── + ──────\n",
       "         ⎝        420⋅m           40⋅m ⎠        ⎝        2520⋅m         280⋅m \n",
       "\n",
       "7⎞       ⎛    2  7                  2  7⎞        ⎛    2  9                  2 \n",
       " ⎟       ⎜  h̅ ⋅l ⋅(-√133 + 14)   h̅ ⋅l ⎟        ⎜  h̅ ⋅l ⋅(-√133 + 14)   h̅ ⋅\n",
       "─⎟  c₁ ₃⋅⎜- ─────────────────── + ──────⎟ + c₁ ₄⋅⎜- ─────────────────── + ────\n",
       " ⎠       ⎝         2520⋅m         280⋅m ⎠        ⎝        13860⋅m         1260\n",
       "                                                                              \n",
       "⎞         ⎛    2  7                 2  7⎞        ⎛    2  9                 2  \n",
       "⎟         ⎜  h̅ ⋅l ⋅(√133 + 14)   h̅ ⋅l ⎟        ⎜  h̅ ⋅l ⋅(√133 + 14)   h̅ ⋅l\n",
       "⎟    c₂ ₃⋅⎜- ────────────────── + ──────⎟ + c₂ ₄⋅⎜- ────────────────── + ─────\n",
       "⎠         ⎝        2520⋅m         280⋅m ⎠        ⎝       13860⋅m         1260⋅\n",
       "                                                                              \n",
       "7⎞       ⎛    2  7                  2  7⎞        ⎛    2  9                  2 \n",
       " ⎟       ⎜  h̅ ⋅l ⋅(-9⋅√5 + 30)   h̅ ⋅l ⎟        ⎜  h̅ ⋅l ⋅(-9⋅√5 + 30)   h̅ ⋅\n",
       "─⎟  c₃ ₃⋅⎜- ─────────────────── + ──────⎟ + c₃ ₄⋅⎜- ─────────────────── + ────\n",
       " ⎠       ⎝         2520⋅m         280⋅m ⎠        ⎝        13860⋅m         1260\n",
       "                                                                              \n",
       "⎞         ⎛    2  7                 2  7⎞        ⎛    2  9                 2  \n",
       "⎟         ⎜  h̅ ⋅l ⋅(9⋅√5 + 30)   h̅ ⋅l ⎟        ⎜  h̅ ⋅l ⋅(9⋅√5 + 30)   h̅ ⋅l\n",
       "⎟    c₄ ₃⋅⎜- ────────────────── + ──────⎟ + c₄ ₄⋅⎜- ────────────────── + ─────\n",
       "⎠         ⎝        2520⋅m         280⋅m ⎠        ⎝       13860⋅m         1260⋅\n",
       "\n",
       " 9⎞          ⎤\n",
       "l ⎟          ⎥\n",
       "──⎟  c₁ ₁ - k⎥\n",
       "⋅m⎠          ⎥\n",
       "             ⎥\n",
       "9⎞           ⎥\n",
       " ⎟           ⎥\n",
       "─⎟   c₂ ₁ - k⎥\n",
       "m⎠           ⎥\n",
       "             ⎥\n",
       " 9⎞          ⎥\n",
       "l ⎟          ⎥\n",
       "──⎟  c₃ ₃ - k⎥\n",
       "⋅m⎠          ⎥\n",
       "             ⎥\n",
       "9⎞           ⎥\n",
       " ⎟           ⎥\n",
       "─⎟   c₄ ₃ - k⎥\n",
       "m⎠           ⎦"
      ]
     },
     "execution_count": 17,
     "metadata": {},
     "output_type": "execute_result"
    }
   ],
   "source": [
    "eq_n"
   ]
  },
  {
   "cell_type": "code",
   "execution_count": 18,
   "metadata": {
    "collapsed": false
   },
   "outputs": [
    {
     "data": {
      "text/latex": [
       "$$\\left[\\begin{matrix}c_{1 1} \\left(- \\frac{\\hbar^{2} l^{3}}{15 m} \\left(- \\sqrt{133} + 14\\right) + \\frac{\\hbar^{2} l^{3}}{6 m}\\right) + c_{1 2} \\left(- \\frac{\\hbar^{2} l^{5}}{70 m} \\left(- \\sqrt{133} + 14\\right) + \\frac{\\hbar^{2} l^{5}}{30 m}\\right) & c_{1 1} \\left(- \\frac{\\hbar^{2} l^{5}}{70 m} \\left(- \\sqrt{133} + 14\\right) + \\frac{\\hbar^{2} l^{5}}{30 m}\\right) + c_{1 2} \\left(- \\frac{\\hbar^{2} l^{7}}{315 m} \\left(- \\sqrt{133} + 14\\right) + \\frac{\\hbar^{2} l^{7}}{105 m}\\right) & c_{1 3} \\left(- \\frac{\\hbar^{2} l^{5}}{420 m} \\left(- \\sqrt{133} + 14\\right) + \\frac{\\hbar^{2} l^{5}}{40 m}\\right) + c_{1 4} \\left(- \\frac{\\hbar^{2} l^{7}}{2520 m} \\left(- \\sqrt{133} + 14\\right) + \\frac{\\hbar^{2} l^{7}}{280 m}\\right) & c_{1 3} \\left(- \\frac{\\hbar^{2} l^{7}}{2520 m} \\left(- \\sqrt{133} + 14\\right) + \\frac{\\hbar^{2} l^{7}}{280 m}\\right) + c_{1 4} \\left(- \\frac{\\hbar^{2} l^{9}}{13860 m} \\left(- \\sqrt{133} + 14\\right) + \\frac{\\hbar^{2} l^{9}}{1260 m}\\right) & c_{1 1} - k\\\\c_{2 1} \\left(- \\frac{\\hbar^{2} l^{3}}{15 m} \\left(\\sqrt{133} + 14\\right) + \\frac{\\hbar^{2} l^{3}}{6 m}\\right) + c_{2 2} \\left(- \\frac{\\hbar^{2} l^{5}}{70 m} \\left(\\sqrt{133} + 14\\right) + \\frac{\\hbar^{2} l^{5}}{30 m}\\right) & c_{2 1} \\left(- \\frac{\\hbar^{2} l^{5}}{70 m} \\left(\\sqrt{133} + 14\\right) + \\frac{\\hbar^{2} l^{5}}{30 m}\\right) + c_{2 2} \\left(- \\frac{\\hbar^{2} l^{7}}{315 m} \\left(\\sqrt{133} + 14\\right) + \\frac{\\hbar^{2} l^{7}}{105 m}\\right) & c_{2 3} \\left(- \\frac{\\hbar^{2} l^{5}}{420 m} \\left(\\sqrt{133} + 14\\right) + \\frac{\\hbar^{2} l^{5}}{40 m}\\right) + c_{2 4} \\left(- \\frac{\\hbar^{2} l^{7}}{2520 m} \\left(\\sqrt{133} + 14\\right) + \\frac{\\hbar^{2} l^{7}}{280 m}\\right) & c_{2 3} \\left(- \\frac{\\hbar^{2} l^{7}}{2520 m} \\left(\\sqrt{133} + 14\\right) + \\frac{\\hbar^{2} l^{7}}{280 m}\\right) + c_{2 4} \\left(- \\frac{\\hbar^{2} l^{9}}{13860 m} \\left(\\sqrt{133} + 14\\right) + \\frac{\\hbar^{2} l^{9}}{1260 m}\\right) & c_{2 1} - k\\\\c_{3 1} \\left(- \\frac{\\hbar^{2} l^{3}}{15 m} \\left(- 9 \\sqrt{5} + 30\\right) + \\frac{\\hbar^{2} l^{3}}{6 m}\\right) + c_{3 2} \\left(- \\frac{\\hbar^{2} l^{5}}{70 m} \\left(- 9 \\sqrt{5} + 30\\right) + \\frac{\\hbar^{2} l^{5}}{30 m}\\right) & c_{3 1} \\left(- \\frac{\\hbar^{2} l^{5}}{70 m} \\left(- 9 \\sqrt{5} + 30\\right) + \\frac{\\hbar^{2} l^{5}}{30 m}\\right) + c_{3 2} \\left(- \\frac{\\hbar^{2} l^{7}}{315 m} \\left(- 9 \\sqrt{5} + 30\\right) + \\frac{\\hbar^{2} l^{7}}{105 m}\\right) & c_{3 3} \\left(- \\frac{\\hbar^{2} l^{5}}{420 m} \\left(- 9 \\sqrt{5} + 30\\right) + \\frac{\\hbar^{2} l^{5}}{40 m}\\right) + c_{3 4} \\left(- \\frac{\\hbar^{2} l^{7}}{2520 m} \\left(- 9 \\sqrt{5} + 30\\right) + \\frac{\\hbar^{2} l^{7}}{280 m}\\right) & c_{3 3} \\left(- \\frac{\\hbar^{2} l^{7}}{2520 m} \\left(- 9 \\sqrt{5} + 30\\right) + \\frac{\\hbar^{2} l^{7}}{280 m}\\right) + c_{3 4} \\left(- \\frac{\\hbar^{2} l^{9}}{13860 m} \\left(- 9 \\sqrt{5} + 30\\right) + \\frac{\\hbar^{2} l^{9}}{1260 m}\\right) & c_{3 3} - k\\\\c_{4 1} \\left(- \\frac{\\hbar^{2} l^{3}}{15 m} \\left(9 \\sqrt{5} + 30\\right) + \\frac{\\hbar^{2} l^{3}}{6 m}\\right) + c_{4 2} \\left(- \\frac{\\hbar^{2} l^{5}}{70 m} \\left(9 \\sqrt{5} + 30\\right) + \\frac{\\hbar^{2} l^{5}}{30 m}\\right) & c_{4 1} \\left(- \\frac{\\hbar^{2} l^{5}}{70 m} \\left(9 \\sqrt{5} + 30\\right) + \\frac{\\hbar^{2} l^{5}}{30 m}\\right) + c_{4 2} \\left(- \\frac{\\hbar^{2} l^{7}}{315 m} \\left(9 \\sqrt{5} + 30\\right) + \\frac{\\hbar^{2} l^{7}}{105 m}\\right) & c_{4 3} \\left(- \\frac{\\hbar^{2} l^{5}}{420 m} \\left(9 \\sqrt{5} + 30\\right) + \\frac{\\hbar^{2} l^{5}}{40 m}\\right) + c_{4 4} \\left(- \\frac{\\hbar^{2} l^{7}}{2520 m} \\left(9 \\sqrt{5} + 30\\right) + \\frac{\\hbar^{2} l^{7}}{280 m}\\right) & c_{4 3} \\left(- \\frac{\\hbar^{2} l^{7}}{2520 m} \\left(9 \\sqrt{5} + 30\\right) + \\frac{\\hbar^{2} l^{7}}{280 m}\\right) + c_{4 4} \\left(- \\frac{\\hbar^{2} l^{9}}{13860 m} \\left(9 \\sqrt{5} + 30\\right) + \\frac{\\hbar^{2} l^{9}}{1260 m}\\right) & c_{4 3} - k\\end{matrix}\\right]$$"
      ],
      "text/plain": [
       "⎡     ⎛    2  3                  2  3⎞        ⎛    2  5                  2  5⎞\n",
       "⎢     ⎜  h̅ ⋅l ⋅(-√133 + 14)   h̅ ⋅l ⎟        ⎜  h̅ ⋅l ⋅(-√133 + 14)   h̅ ⋅l ⎟\n",
       "⎢c₁ ₁⋅⎜- ─────────────────── + ──────⎟ + c₁ ₂⋅⎜- ─────────────────── + ──────⎟\n",
       "⎢     ⎝          15⋅m           6⋅m  ⎠        ⎝          70⋅m           30⋅m ⎠\n",
       "⎢                                                                             \n",
       "⎢      ⎛    2  3                 2  3⎞        ⎛    2  5                 2  5⎞ \n",
       "⎢      ⎜  h̅ ⋅l ⋅(√133 + 14)   h̅ ⋅l ⎟        ⎜  h̅ ⋅l ⋅(√133 + 14)   h̅ ⋅l ⎟ \n",
       "⎢ c₂ ₁⋅⎜- ────────────────── + ──────⎟ + c₂ ₂⋅⎜- ────────────────── + ──────⎟ \n",
       "⎢      ⎝         15⋅m           6⋅m  ⎠        ⎝         70⋅m           30⋅m ⎠ \n",
       "⎢                                                                             \n",
       "⎢     ⎛    2  3                  2  3⎞        ⎛    2  5                  2  5⎞\n",
       "⎢     ⎜  h̅ ⋅l ⋅(-9⋅√5 + 30)   h̅ ⋅l ⎟        ⎜  h̅ ⋅l ⋅(-9⋅√5 + 30)   h̅ ⋅l ⎟\n",
       "⎢c₃ ₁⋅⎜- ─────────────────── + ──────⎟ + c₃ ₂⋅⎜- ─────────────────── + ──────⎟\n",
       "⎢     ⎝          15⋅m           6⋅m  ⎠        ⎝          70⋅m           30⋅m ⎠\n",
       "⎢                                                                             \n",
       "⎢      ⎛    2  3                 2  3⎞        ⎛    2  5                 2  5⎞ \n",
       "⎢      ⎜  h̅ ⋅l ⋅(9⋅√5 + 30)   h̅ ⋅l ⎟        ⎜  h̅ ⋅l ⋅(9⋅√5 + 30)   h̅ ⋅l ⎟ \n",
       "⎢ c₄ ₁⋅⎜- ────────────────── + ──────⎟ + c₄ ₂⋅⎜- ────────────────── + ──────⎟ \n",
       "⎣      ⎝         15⋅m           6⋅m  ⎠        ⎝         70⋅m           30⋅m ⎠ \n",
       "\n",
       "       ⎛    2  5                  2  5⎞        ⎛    2  7                  2  7\n",
       "       ⎜  h̅ ⋅l ⋅(-√133 + 14)   h̅ ⋅l ⎟        ⎜  h̅ ⋅l ⋅(-√133 + 14)   h̅ ⋅l \n",
       "  c₁ ₁⋅⎜- ─────────────────── + ──────⎟ + c₁ ₂⋅⎜- ─────────────────── + ──────\n",
       "       ⎝          70⋅m           30⋅m ⎠        ⎝         315⋅m          105⋅m \n",
       "                                                                              \n",
       "        ⎛    2  5                 2  5⎞        ⎛    2  7                 2  7⎞\n",
       "        ⎜  h̅ ⋅l ⋅(√133 + 14)   h̅ ⋅l ⎟        ⎜  h̅ ⋅l ⋅(√133 + 14)   h̅ ⋅l ⎟\n",
       "   c₂ ₁⋅⎜- ────────────────── + ──────⎟ + c₂ ₂⋅⎜- ────────────────── + ──────⎟\n",
       "        ⎝         70⋅m           30⋅m ⎠        ⎝        315⋅m          105⋅m ⎠\n",
       "                                                                              \n",
       "       ⎛    2  5                  2  5⎞        ⎛    2  7                  2  7\n",
       "       ⎜  h̅ ⋅l ⋅(-9⋅√5 + 30)   h̅ ⋅l ⎟        ⎜  h̅ ⋅l ⋅(-9⋅√5 + 30)   h̅ ⋅l \n",
       "  c₃ ₁⋅⎜- ─────────────────── + ──────⎟ + c₃ ₂⋅⎜- ─────────────────── + ──────\n",
       "       ⎝          70⋅m           30⋅m ⎠        ⎝         315⋅m          105⋅m \n",
       "                                                                              \n",
       "        ⎛    2  5                 2  5⎞        ⎛    2  7                 2  7⎞\n",
       "        ⎜  h̅ ⋅l ⋅(9⋅√5 + 30)   h̅ ⋅l ⎟        ⎜  h̅ ⋅l ⋅(9⋅√5 + 30)   h̅ ⋅l ⎟\n",
       "   c₄ ₁⋅⎜- ────────────────── + ──────⎟ + c₄ ₂⋅⎜- ────────────────── + ──────⎟\n",
       "        ⎝         70⋅m           30⋅m ⎠        ⎝        315⋅m          105⋅m ⎠\n",
       "\n",
       "⎞       ⎛    2  5                  2  5⎞        ⎛    2  7                  2  \n",
       "⎟       ⎜  h̅ ⋅l ⋅(-√133 + 14)   h̅ ⋅l ⎟        ⎜  h̅ ⋅l ⋅(-√133 + 14)   h̅ ⋅l\n",
       "⎟  c₁ ₃⋅⎜- ─────────────────── + ──────⎟ + c₁ ₄⋅⎜- ─────────────────── + ─────\n",
       "⎠       ⎝         420⋅m           40⋅m ⎠        ⎝         2520⋅m         280⋅m\n",
       "                                                                              \n",
       "         ⎛    2  5                 2  5⎞        ⎛    2  7                 2  7\n",
       "         ⎜  h̅ ⋅l ⋅(√133 + 14)   h̅ ⋅l ⎟        ⎜  h̅ ⋅l ⋅(√133 + 14)   h̅ ⋅l \n",
       "    c₂ ₃⋅⎜- ────────────────── + ──────⎟ + c₂ ₄⋅⎜- ────────────────── + ──────\n",
       "         ⎝        420⋅m           40⋅m ⎠        ⎝        2520⋅m         280⋅m \n",
       "                                                                              \n",
       "⎞       ⎛    2  5                  2  5⎞        ⎛    2  7                  2  \n",
       "⎟       ⎜  h̅ ⋅l ⋅(-9⋅√5 + 30)   h̅ ⋅l ⎟        ⎜  h̅ ⋅l ⋅(-9⋅√5 + 30)   h̅ ⋅l\n",
       "⎟  c₃ ₃⋅⎜- ─────────────────── + ──────⎟ + c₃ ₄⋅⎜- ─────────────────── + ─────\n",
       "⎠       ⎝         420⋅m           40⋅m ⎠        ⎝         2520⋅m         280⋅m\n",
       "                                                                              \n",
       "         ⎛    2  5                 2  5⎞        ⎛    2  7                 2  7\n",
       "         ⎜  h̅ ⋅l ⋅(9⋅√5 + 30)   h̅ ⋅l ⎟        ⎜  h̅ ⋅l ⋅(9⋅√5 + 30)   h̅ ⋅l \n",
       "    c₄ ₃⋅⎜- ────────────────── + ──────⎟ + c₄ ₄⋅⎜- ────────────────── + ──────\n",
       "         ⎝        420⋅m           40⋅m ⎠        ⎝        2520⋅m         280⋅m \n",
       "\n",
       "7⎞       ⎛    2  7                  2  7⎞        ⎛    2  9                  2 \n",
       " ⎟       ⎜  h̅ ⋅l ⋅(-√133 + 14)   h̅ ⋅l ⎟        ⎜  h̅ ⋅l ⋅(-√133 + 14)   h̅ ⋅\n",
       "─⎟  c₁ ₃⋅⎜- ─────────────────── + ──────⎟ + c₁ ₄⋅⎜- ─────────────────── + ────\n",
       " ⎠       ⎝         2520⋅m         280⋅m ⎠        ⎝        13860⋅m         1260\n",
       "                                                                              \n",
       "⎞         ⎛    2  7                 2  7⎞        ⎛    2  9                 2  \n",
       "⎟         ⎜  h̅ ⋅l ⋅(√133 + 14)   h̅ ⋅l ⎟        ⎜  h̅ ⋅l ⋅(√133 + 14)   h̅ ⋅l\n",
       "⎟    c₂ ₃⋅⎜- ────────────────── + ──────⎟ + c₂ ₄⋅⎜- ────────────────── + ─────\n",
       "⎠         ⎝        2520⋅m         280⋅m ⎠        ⎝       13860⋅m         1260⋅\n",
       "                                                                              \n",
       "7⎞       ⎛    2  7                  2  7⎞        ⎛    2  9                  2 \n",
       " ⎟       ⎜  h̅ ⋅l ⋅(-9⋅√5 + 30)   h̅ ⋅l ⎟        ⎜  h̅ ⋅l ⋅(-9⋅√5 + 30)   h̅ ⋅\n",
       "─⎟  c₃ ₃⋅⎜- ─────────────────── + ──────⎟ + c₃ ₄⋅⎜- ─────────────────── + ────\n",
       " ⎠       ⎝         2520⋅m         280⋅m ⎠        ⎝        13860⋅m         1260\n",
       "                                                                              \n",
       "⎞         ⎛    2  7                 2  7⎞        ⎛    2  9                 2  \n",
       "⎟         ⎜  h̅ ⋅l ⋅(9⋅√5 + 30)   h̅ ⋅l ⎟        ⎜  h̅ ⋅l ⋅(9⋅√5 + 30)   h̅ ⋅l\n",
       "⎟    c₄ ₃⋅⎜- ────────────────── + ──────⎟ + c₄ ₄⋅⎜- ────────────────── + ─────\n",
       "⎠         ⎝        2520⋅m         280⋅m ⎠        ⎝       13860⋅m         1260⋅\n",
       "\n",
       " 9⎞          ⎤\n",
       "l ⎟          ⎥\n",
       "──⎟  c₁ ₁ - k⎥\n",
       "⋅m⎠          ⎥\n",
       "             ⎥\n",
       "9⎞           ⎥\n",
       " ⎟           ⎥\n",
       "─⎟   c₂ ₁ - k⎥\n",
       "m⎠           ⎥\n",
       "             ⎥\n",
       " 9⎞          ⎥\n",
       "l ⎟          ⎥\n",
       "──⎟  c₃ ₃ - k⎥\n",
       "⋅m⎠          ⎥\n",
       "             ⎥\n",
       "9⎞           ⎥\n",
       " ⎟           ⎥\n",
       "─⎟   c₄ ₃ - k⎥\n",
       "m⎠           ⎦"
      ]
     },
     "execution_count": 18,
     "metadata": {},
     "output_type": "execute_result"
    }
   ],
   "source": [
    "eq_n"
   ]
  },
  {
   "cell_type": "code",
   "execution_count": 19,
   "metadata": {
    "collapsed": false
   },
   "outputs": [],
   "source": [
    "sol_gral =[]\n",
    "for i in range (0,n): \n",
    "    sol_gral.append(solve(eq_n[i,:], c_Mat[i,:], dict = true))"
   ]
  },
  {
   "cell_type": "code",
   "execution_count": 20,
   "metadata": {
    "collapsed": false
   },
   "outputs": [
    {
     "data": {
      "text/latex": [
       "$$\\left [ \\left [ \\left \\{ c_{1 1} : k, \\quad c_{1 2} : \\frac{21 k}{l^{2} \\left(7 + \\sqrt{133}\\right)}, \\quad c_{1 3} : 0, \\quad c_{1 4} : 0\\right \\}\\right ], \\quad \\left [ \\left \\{ c_{2 1} : k, \\quad c_{2 2} : \\frac{21 k}{l^{2} \\left(- \\sqrt{133} + 7\\right)}, \\quad c_{2 3} : 0, \\quad c_{2 4} : 0\\right \\}\\right ], \\quad \\left [ \\left \\{ c_{3 1} : 0, \\quad c_{3 2} : 0, \\quad c_{3 3} : k, \\quad c_{3 4} : \\frac{33 k}{l^{2} \\left(1 + 3 \\sqrt{5}\\right)}\\right \\}\\right ], \\quad \\left [ \\left \\{ c_{4 1} : 0, \\quad c_{4 2} : 0, \\quad c_{4 3} : k, \\quad c_{4 4} : \\frac{33 k}{l^{2} \\left(- 3 \\sqrt{5} + 1\\right)}\\right \\}\\right ]\\right ]$$"
      ],
      "text/plain": [
       "⎡⎡⎧                    21⋅k                      ⎫⎤  ⎡⎧                    21⋅\n",
       "⎢⎢⎪c₁ ₁: k, c₁ ₂: ─────────────, c₁ ₃: 0, c₁ ₄: 0⎪⎥, ⎢⎪c₂ ₁: k, c₂ ₂: ────────\n",
       "⎢⎢⎨                2                             ⎬⎥  ⎢⎨                2      \n",
       "⎢⎢⎪               l ⋅(7 + √133)                  ⎪⎥  ⎢⎪               l ⋅(-√13\n",
       "⎣⎣⎩                                              ⎭⎦  ⎣⎩                       \n",
       "\n",
       "k                       ⎫⎤  ⎡⎧                                      33⋅k    ⎫⎤\n",
       "──────, c₂ ₃: 0, c₂ ₄: 0⎪⎥, ⎢⎪c₃ ₁: 0, c₃ ₂: 0, c₃ ₃: k, c₃ ₄: ─────────────⎪⎥\n",
       "                        ⎬⎥  ⎢⎨                                  2           ⎬⎥\n",
       "3 + 7)                  ⎪⎥  ⎢⎪                                 l ⋅(1 + 3⋅√5)⎪⎥\n",
       "                        ⎭⎦  ⎣⎩                                              ⎭⎦\n",
       "\n",
       "  ⎡⎧                                      33⋅k     ⎫⎤⎤\n",
       ", ⎢⎪c₄ ₁: 0, c₄ ₂: 0, c₄ ₃: k, c₄ ₄: ──────────────⎪⎥⎥\n",
       "  ⎢⎨                                  2            ⎬⎥⎥\n",
       "  ⎢⎪                                 l ⋅(-3⋅√5 + 1)⎪⎥⎥\n",
       "  ⎣⎩                                               ⎭⎦⎦"
      ]
     },
     "execution_count": 20,
     "metadata": {},
     "output_type": "execute_result"
    }
   ],
   "source": [
    "sol_gral"
   ]
  },
  {
   "cell_type": "code",
   "execution_count": 24,
   "metadata": {
    "collapsed": false
   },
   "outputs": [
    {
     "ename": "AttributeError",
     "evalue": "'list' object has no attribute 'evalf'",
     "output_type": "error",
     "traceback": [
      "\u001b[1;31m---------------------------------------------------------------------------\u001b[0m",
      "\u001b[1;31mAttributeError\u001b[0m                            Traceback (most recent call last)",
      "\u001b[1;32m<ipython-input-24-3edf1447f270>\u001b[0m in \u001b[0;36m<module>\u001b[1;34m()\u001b[0m\n\u001b[0;32m      8\u001b[0m \u001b[1;32mfor\u001b[0m \u001b[0mi\u001b[0m \u001b[1;32min\u001b[0m \u001b[0mrange\u001b[0m \u001b[1;33m(\u001b[0m\u001b[1;36m0\u001b[0m\u001b[1;33m,\u001b[0m\u001b[0mn\u001b[0m\u001b[1;33m)\u001b[0m\u001b[1;33m:\u001b[0m\u001b[1;33m\u001b[0m\u001b[0m\n\u001b[0;32m      9\u001b[0m     \u001b[0mNormal_gral\u001b[0m\u001b[1;33m[\u001b[0m\u001b[0mi\u001b[0m\u001b[1;33m,\u001b[0m \u001b[1;36m0\u001b[0m\u001b[1;33m]\u001b[0m \u001b[1;33m=\u001b[0m \u001b[0mIntegral\u001b[0m\u001b[1;33m(\u001b[0m\u001b[0mPhi_gral\u001b[0m\u001b[1;33m[\u001b[0m\u001b[0mi\u001b[0m\u001b[1;33m,\u001b[0m\u001b[1;36m0\u001b[0m\u001b[1;33m]\u001b[0m\u001b[1;33m**\u001b[0m\u001b[1;36m2\u001b[0m\u001b[1;33m,\u001b[0m \u001b[1;33m(\u001b[0m\u001b[0mx\u001b[0m\u001b[1;33m,\u001b[0m \u001b[1;36m0\u001b[0m\u001b[1;33m,\u001b[0m \u001b[0ml\u001b[0m\u001b[1;33m)\u001b[0m\u001b[1;33m)\u001b[0m\u001b[1;33m.\u001b[0m\u001b[0mdoit\u001b[0m\u001b[1;33m(\u001b[0m\u001b[1;33m)\u001b[0m\u001b[1;33m-\u001b[0m\u001b[1;36m1\u001b[0m\u001b[1;33m\u001b[0m\u001b[0m\n\u001b[1;32m---> 10\u001b[1;33m     \u001b[0mK\u001b[0m\u001b[1;33m=\u001b[0m \u001b[1;33m(\u001b[0m\u001b[0msolve\u001b[0m\u001b[1;33m(\u001b[0m\u001b[0mNormal_gral\u001b[0m\u001b[1;33m[\u001b[0m\u001b[0mi\u001b[0m\u001b[1;33m,\u001b[0m\u001b[1;36m0\u001b[0m\u001b[1;33m]\u001b[0m\u001b[1;33m,\u001b[0m \u001b[0mk\u001b[0m\u001b[1;33m)\u001b[0m\u001b[1;33m)\u001b[0m\u001b[1;33m.\u001b[0m\u001b[0mevalf\u001b[0m\u001b[1;33m(\u001b[0m\u001b[1;33m)\u001b[0m\u001b[1;33m\u001b[0m\u001b[0m\n\u001b[0m\u001b[0;32m     11\u001b[0m     \u001b[0mPhi_n\u001b[0m\u001b[1;33m[\u001b[0m\u001b[0mi\u001b[0m\u001b[1;33m,\u001b[0m\u001b[1;36m0\u001b[0m\u001b[1;33m]\u001b[0m\u001b[1;33m=\u001b[0m\u001b[1;33m(\u001b[0m\u001b[0mPhi_gral\u001b[0m\u001b[1;33m[\u001b[0m\u001b[0mi\u001b[0m\u001b[1;33m,\u001b[0m \u001b[1;36m0\u001b[0m\u001b[1;33m]\u001b[0m\u001b[1;33m.\u001b[0m\u001b[0msubs\u001b[0m\u001b[1;33m(\u001b[0m\u001b[0mk\u001b[0m\u001b[1;33m,\u001b[0m\u001b[0mK\u001b[0m\u001b[1;33m)\u001b[0m\u001b[1;33m)\u001b[0m\u001b[1;33m.\u001b[0m\u001b[0mevalf\u001b[0m\u001b[1;33m(\u001b[0m\u001b[1;33m)\u001b[0m\u001b[1;33m\u001b[0m\u001b[0m\n",
      "\u001b[1;31mAttributeError\u001b[0m: 'list' object has no attribute 'evalf'"
     ]
    }
   ],
   "source": [
    "#normalización general\n",
    "Phi_gral= zeros (n,1)\n",
    "Normal_gral = zeros (n,1)\n",
    "for i in range (n,0):\n",
    "    for j in range (n, 0): \n",
    "        Phi_gral[i, 0] = Phi_gral[i, 0] + sol_gral[i][0][c_Mat[i,j]]*F[i]\n",
    "        \n",
    "#for i in range (0,n): \n",
    "    #Normal_gral[i, 0] = Integral(Phi_gral[i,0]**2, (x, 0, l)).doit()-1\n",
    "    #K= (solve(Normal_gral[i,0], k)).evalf()\n",
    "    #Phi_n[i,0]=(Phi_gral[i, 0].subs(k,K)).evalf()"
   ]
  },
  {
   "cell_type": "code",
   "execution_count": 22,
   "metadata": {
    "collapsed": false
   },
   "outputs": [
    {
     "data": {
      "text/latex": [
       "$$\\left[\\begin{matrix}0\\\\0\\\\0\\\\0\\end{matrix}\\right]$$"
      ],
      "text/plain": [
       "⎡0⎤\n",
       "⎢ ⎥\n",
       "⎢0⎥\n",
       "⎢ ⎥\n",
       "⎢0⎥\n",
       "⎢ ⎥\n",
       "⎣0⎦"
      ]
     },
     "execution_count": 22,
     "metadata": {},
     "output_type": "execute_result"
    }
   ],
   "source": [
    "Phi_gral"
   ]
  },
  {
   "cell_type": "code",
   "execution_count": null,
   "metadata": {
    "collapsed": true
   },
   "outputs": [],
   "source": []
  }
 ],
 "metadata": {
  "anaconda-cloud": {},
  "kernelspec": {
   "display_name": "Python [Root]",
   "language": "python",
   "name": "Python [Root]"
  },
  "language_info": {
   "codemirror_mode": {
    "name": "ipython",
    "version": 3
   },
   "file_extension": ".py",
   "mimetype": "text/x-python",
   "name": "python",
   "nbconvert_exporter": "python",
   "pygments_lexer": "ipython3",
   "version": "3.5.2"
  }
 },
 "nbformat": 4,
 "nbformat_minor": 0
}
