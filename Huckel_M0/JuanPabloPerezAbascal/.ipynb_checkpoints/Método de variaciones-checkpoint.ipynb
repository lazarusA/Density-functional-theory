{
 "cells": [
  {
   "cell_type": "code",
   "execution_count": 71,
   "metadata": {
    "collapsed": true
   },
   "outputs": [],
   "source": [
    "from sympy import *\n",
    "init_printing(use_latex = 'mathjax')"
   ]
  },
  {
   "cell_type": "code",
   "execution_count": 72,
   "metadata": {},
   "outputs": [
    {
     "data": {
      "text/latex": [
       "$$\\left ( x, \\quad m, \\quad \\hbar, \\quad W\\right )$$"
      ],
      "text/plain": [
       "(x, m, h̅, W)"
      ]
     },
     "execution_count": 72,
     "metadata": {},
     "output_type": "execute_result"
    }
   ],
   "source": [
    "var('x m hbar W')"
   ]
  },
  {
   "cell_type": "code",
   "execution_count": 73,
   "metadata": {},
   "outputs": [
    {
     "name": "stdout",
     "output_type": "stream",
     "text": [
      "El programa ya reconoce las variables simbolicas x, m, hbar y W. Añada las variables simbólicas que requiera. Introduzcalas separadas por espacios.\n",
      "Variables añadidas: l\n"
     ]
    },
    {
     "data": {
      "text/latex": [
       "$$l$$"
      ],
      "text/plain": [
       "l"
      ]
     },
     "execution_count": 73,
     "metadata": {},
     "output_type": "execute_result"
    }
   ],
   "source": [
    "print(\"El programa ya reconoce las variables simbolicas x, m, hbar y W. Añada las variables simbólicas que requiera. Introduzcalas separadas por espacios.\")\n",
    "var(input(\"Variables añadidas: \"))"
   ]
  },
  {
   "cell_type": "code",
   "execution_count": 74,
   "metadata": {
    "collapsed": true
   },
   "outputs": [],
   "source": [
    "def Hamiltonian(psi):\n",
    "    print(\"La energía cinética del sistema viene definida por: -(hbar**2/(2*m))*diff(psi, x, 2).\")\n",
    "    t = -(hbar**2/(2*m))*diff(psi, x, 2)\n",
    "    print(\"Defina el potencial al que está sometida la partícula. Recuerde que sólo puede ultilizar las variables disponibles y la función de onda psi.\")\n",
    "    v = sympify(input(\"V = \"))\n",
    "    return (t+v*psi)"
   ]
  },
  {
   "cell_type": "code",
   "execution_count": 104,
   "metadata": {},
   "outputs": [
    {
     "name": "stdout",
     "output_type": "stream",
     "text": [
      "Introduzca las funciones que requiera. Cuando haya acabado introduzca: 'done'.\n",
      "f_1 = x*(l-x)\n",
      "f_2 = x**2*(l-x)**2\n",
      "f_3 = x*(l-x)*((1/2)*l-x)\n",
      "f_4 = x**2*(l-x)**2*((1/2)*l-x)\n",
      "f_5 = done\n"
     ]
    },
    {
     "data": {
      "text/latex": [
       "$$\\left[\\begin{matrix}x \\left(l - x\\right) & x^{2} \\left(l - x\\right)^{2} & x \\left(\\frac{l}{2} - x\\right) \\left(l - x\\right) & x^{2} \\left(\\frac{l}{2} - x\\right) \\left(l - x\\right)^{2}\\end{matrix}\\right]$$"
      ],
      "text/plain": [
       "⎡            2        2    ⎛l    ⎞           2 ⎛l    ⎞        2⎤\n",
       "⎢x⋅(l - x)  x ⋅(l - x)   x⋅⎜─ - x⎟⋅(l - x)  x ⋅⎜─ - x⎟⋅(l - x) ⎥\n",
       "⎣                          ⎝2    ⎠             ⎝2    ⎠         ⎦"
      ]
     },
     "execution_count": 104,
     "metadata": {},
     "output_type": "execute_result"
    }
   ],
   "source": [
    "f = ''\n",
    "a = 0\n",
    "print(\"Introduzca las funciones que requiera. Cuando haya acabado introduzca: 'done'.\")\n",
    "while (f != 'done'):\n",
    "    a = a + 1\n",
    "    f = input(\"f_\"+str(a)+\" = \")\n",
    "    if f != 'done':\n",
    "        if a == 1:\n",
    "            F = Matrix([sympify(f)])\n",
    "            C = Matrix([var('c'+str(a))])\n",
    "        else:\n",
    "            F = F.col_insert(a-1, Matrix([sympify(f)]))\n",
    "            C = C.row_insert(a-1, Matrix([[var('c'+str(a))]]))\n",
    "F"
   ]
  },
  {
   "cell_type": "code",
   "execution_count": 105,
   "metadata": {},
   "outputs": [
    {
     "data": {
      "text/latex": [
       "$$\\left[\\begin{matrix}c_{1} x \\left(l - x\\right) + c_{2} x^{2} \\left(l - x\\right)^{2} + c_{3} x \\left(\\frac{l}{2} - x\\right) \\left(l - x\\right) + c_{4} x^{2} \\left(\\frac{l}{2} - x\\right) \\left(l - x\\right)^{2}\\end{matrix}\\right]$$"
      ],
      "text/plain": [
       "⎡                   2        2        ⎛l    ⎞               2 ⎛l    ⎞        2\n",
       "⎢c₁⋅x⋅(l - x) + c₂⋅x ⋅(l - x)  + c₃⋅x⋅⎜─ - x⎟⋅(l - x) + c₄⋅x ⋅⎜─ - x⎟⋅(l - x) \n",
       "⎣                                     ⎝2    ⎠                 ⎝2    ⎠         \n",
       "\n",
       "⎤\n",
       "⎥\n",
       "⎦"
      ]
     },
     "execution_count": 105,
     "metadata": {},
     "output_type": "execute_result"
    }
   ],
   "source": [
    "F*C"
   ]
  },
  {
   "cell_type": "code",
   "execution_count": 106,
   "metadata": {},
   "outputs": [
    {
     "data": {
      "text/latex": [
       "$$\\left[\\begin{matrix}\\frac{l^{5}}{30} & \\frac{l^{7}}{140} & 0 & 0\\\\\\frac{l^{7}}{140} & \\frac{l^{9}}{630} & 0 & 0\\\\0 & 0 & \\frac{l^{7}}{840} & \\frac{l^{9}}{5040}\\\\0 & 0 & \\frac{l^{9}}{5040} & \\frac{l^{11}}{27720}\\end{matrix}\\right]$$"
      ],
      "text/plain": [
       "⎡ 5     7             ⎤\n",
       "⎢l     l              ⎥\n",
       "⎢──   ───   0      0  ⎥\n",
       "⎢30   140             ⎥\n",
       "⎢                     ⎥\n",
       "⎢  7    9             ⎥\n",
       "⎢ l    l              ⎥\n",
       "⎢───  ───   0      0  ⎥\n",
       "⎢140  630             ⎥\n",
       "⎢                     ⎥\n",
       "⎢            7     9  ⎥\n",
       "⎢           l     l   ⎥\n",
       "⎢ 0    0   ───   ──── ⎥\n",
       "⎢          840   5040 ⎥\n",
       "⎢                     ⎥\n",
       "⎢            9     11 ⎥\n",
       "⎢           l     l   ⎥\n",
       "⎢ 0    0   ────  ─────⎥\n",
       "⎣          5040  27720⎦"
      ]
     },
     "execution_count": 106,
     "metadata": {},
     "output_type": "execute_result"
    }
   ],
   "source": [
    "S = integrate(F.T*F, (x, 0, l))\n",
    "S"
   ]
  },
  {
   "cell_type": "code",
   "execution_count": 107,
   "metadata": {},
   "outputs": [
    {
     "name": "stdout",
     "output_type": "stream",
     "text": [
      "La energía cinética del sistema viene definida por: -(hbar**2/(2*m))*diff(psi, x, 2).\n",
      "Defina el potencial al que está sometida la partícula. Recuerde que sólo puede ultilizar las variables disponibles y la función de onda psi.\n",
      "V = 0\n"
     ]
    },
    {
     "data": {
      "text/latex": [
       "$$\\left[\\begin{matrix}\\frac{\\hbar^{2} l^{3}}{6 m} & \\frac{\\hbar^{2} l^{5}}{30 m} & 0 & 0\\\\\\frac{\\hbar^{2} l^{5}}{30 m} & \\frac{\\hbar^{2} l^{7}}{105 m} & 0 & 0\\\\0 & 0 & \\frac{\\hbar^{2} l^{5}}{40 m} & \\frac{\\hbar^{2} l^{7}}{280 m}\\\\0 & 0 & \\frac{\\hbar^{2} l^{7}}{280 m} & \\frac{\\hbar^{2} l^{9}}{1260 m}\\end{matrix}\\right]$$"
      ],
      "text/plain": [
       "⎡  2  3    2  5                ⎤\n",
       "⎢h̅ ⋅l   h̅ ⋅l                 ⎥\n",
       "⎢──────  ──────    0       0   ⎥\n",
       "⎢ 6⋅m     30⋅m                 ⎥\n",
       "⎢                              ⎥\n",
       "⎢  2  5    2  7                ⎥\n",
       "⎢h̅ ⋅l   h̅ ⋅l                 ⎥\n",
       "⎢──────  ──────    0       0   ⎥\n",
       "⎢ 30⋅m   105⋅m                 ⎥\n",
       "⎢                              ⎥\n",
       "⎢                  2  5    2  7⎥\n",
       "⎢                h̅ ⋅l   h̅ ⋅l ⎥\n",
       "⎢  0       0     ──────  ──────⎥\n",
       "⎢                 40⋅m   280⋅m ⎥\n",
       "⎢                              ⎥\n",
       "⎢                  2  7    2  9⎥\n",
       "⎢                h̅ ⋅l   h̅ ⋅l ⎥\n",
       "⎢  0       0     ──────  ──────⎥\n",
       "⎣                280⋅m   1260⋅m⎦"
      ]
     },
     "execution_count": 107,
     "metadata": {},
     "output_type": "execute_result"
    }
   ],
   "source": [
    "H = integrate(F.T*Hamiltonian(F), (x, 0, l))\n",
    "H"
   ]
  },
  {
   "cell_type": "code",
   "execution_count": 108,
   "metadata": {},
   "outputs": [
    {
     "data": {
      "text/latex": [
       "$$\\left[\\begin{matrix}- \\frac{W l^{5}}{30} + \\frac{\\hbar^{2} l^{3}}{6 m} & - \\frac{W l^{7}}{140} + \\frac{\\hbar^{2} l^{5}}{30 m} & 0 & 0\\\\- \\frac{W l^{7}}{140} + \\frac{\\hbar^{2} l^{5}}{30 m} & - \\frac{W l^{9}}{630} + \\frac{\\hbar^{2} l^{7}}{105 m} & 0 & 0\\\\0 & 0 & - \\frac{W l^{7}}{840} + \\frac{\\hbar^{2} l^{5}}{40 m} & - \\frac{W l^{9}}{5040} + \\frac{\\hbar^{2} l^{7}}{280 m}\\\\0 & 0 & - \\frac{W l^{9}}{5040} + \\frac{\\hbar^{2} l^{7}}{280 m} & - \\frac{W l^{11}}{27720} + \\frac{\\hbar^{2} l^{9}}{1260 m}\\end{matrix}\\right]$$"
      ],
      "text/plain": [
       "⎡     5     2  3       7     2  5                                   ⎤\n",
       "⎢  W⋅l    h̅ ⋅l     W⋅l    h̅ ⋅l                                    ⎥\n",
       "⎢- ──── + ──────  - ──── + ──────         0                0        ⎥\n",
       "⎢   30     6⋅m      140     30⋅m                                    ⎥\n",
       "⎢                                                                   ⎥\n",
       "⎢     7     2  5       9     2  7                                   ⎥\n",
       "⎢  W⋅l    h̅ ⋅l     W⋅l    h̅ ⋅l                                    ⎥\n",
       "⎢- ──── + ──────  - ──── + ──────         0                0        ⎥\n",
       "⎢  140     30⋅m     630    105⋅m                                    ⎥\n",
       "⎢                                                                   ⎥\n",
       "⎢                                       7     2  5       9     2  7 ⎥\n",
       "⎢                                    W⋅l    h̅ ⋅l     W⋅l    h̅ ⋅l  ⎥\n",
       "⎢       0                0         - ──── + ──────  - ──── + ────── ⎥\n",
       "⎢                                    840     40⋅m     5040   280⋅m  ⎥\n",
       "⎢                                                                   ⎥\n",
       "⎢                                       9     2  7       11     2  9⎥\n",
       "⎢                                    W⋅l    h̅ ⋅l     W⋅l     h̅ ⋅l ⎥\n",
       "⎢       0                0         - ──── + ──────  - ───── + ──────⎥\n",
       "⎣                                    5040   280⋅m     27720   1260⋅m⎦"
      ]
     },
     "execution_count": 108,
     "metadata": {},
     "output_type": "execute_result"
    }
   ],
   "source": [
    "M = H-S*W\n",
    "M"
   ]
  },
  {
   "cell_type": "code",
   "execution_count": 109,
   "metadata": {},
   "outputs": [
    {
     "data": {
      "text/latex": [
       "$$\\frac{W^{4} l^{32}}{147867793920000} - \\frac{W^{3} \\hbar^{2} l^{30}}{840157920000 m} + \\frac{373 W^{2} \\hbar^{4} l^{28}}{6161158080000 m^{2}} - \\frac{W \\hbar^{6} l^{26}}{1047816000 m^{3}} + \\frac{\\hbar^{8} l^{24}}{296352000 m^{4}}$$"
      ],
      "text/plain": [
       "      4  32          3   2  30           2   4  28          6  26         8  2\n",
       "     W ⋅l           W ⋅h̅ ⋅l        373⋅W ⋅h̅ ⋅l        W⋅h̅ ⋅l         h̅ ⋅l \n",
       "─────────────── - ────────────── + ──────────────── - ───────────── + ────────\n",
       "147867793920000   840157920000⋅m                  2               3           \n",
       "                                   6161158080000⋅m    1047816000⋅m    29635200\n",
       "\n",
       "4   \n",
       "    \n",
       "────\n",
       "   4\n",
       "0⋅m "
      ]
     },
     "execution_count": 109,
     "metadata": {},
     "output_type": "execute_result"
    }
   ],
   "source": [
    "polyW = M.det()\n",
    "polyW"
   ]
  },
  {
   "cell_type": "code",
   "execution_count": 110,
   "metadata": {},
   "outputs": [
    {
     "data": {
      "text/latex": [
       "$$\\left [ \\frac{2 \\hbar^{2}}{l^{2} m} \\left(- \\sqrt{133} + 14\\right), \\quad \\frac{2 \\hbar^{2}}{l^{2} m} \\left(\\sqrt{133} + 14\\right), \\quad \\frac{2 \\hbar^{2}}{l^{2} m} \\left(- 9 \\sqrt{5} + 30\\right), \\quad \\frac{2 \\hbar^{2}}{l^{2} m} \\left(9 \\sqrt{5} + 30\\right)\\right ]$$"
      ],
      "text/plain": [
       "⎡    2                   2                  2                   2            ⎤\n",
       "⎢2⋅h̅ ⋅(-√133 + 14)  2⋅h̅ ⋅(√133 + 14)  2⋅h̅ ⋅(-9⋅√5 + 30)  2⋅h̅ ⋅(9⋅√5 + 30)⎥\n",
       "⎢──────────────────, ─────────────────, ──────────────────, ─────────────────⎥\n",
       "⎢        2                   2                  2                   2        ⎥\n",
       "⎣       l ⋅m                l ⋅m               l ⋅m                l ⋅m      ⎦"
      ]
     },
     "execution_count": 110,
     "metadata": {},
     "output_type": "execute_result"
    }
   ],
   "source": [
    "w = solve(polyW, W)\n",
    "w"
   ]
  },
  {
   "cell_type": "code",
   "execution_count": 111,
   "metadata": {},
   "outputs": [
    {
     "data": {
      "text/latex": [
       "$$\\left[\\begin{matrix}c_{1} \\left(- \\frac{W l^{5}}{30} + \\frac{\\hbar^{2} l^{3}}{6 m}\\right) + c_{2} \\left(- \\frac{W l^{7}}{140} + \\frac{\\hbar^{2} l^{5}}{30 m}\\right)\\\\c_{1} \\left(- \\frac{W l^{7}}{140} + \\frac{\\hbar^{2} l^{5}}{30 m}\\right) + c_{2} \\left(- \\frac{W l^{9}}{630} + \\frac{\\hbar^{2} l^{7}}{105 m}\\right)\\\\c_{3} \\left(- \\frac{W l^{7}}{840} + \\frac{\\hbar^{2} l^{5}}{40 m}\\right) + c_{4} \\left(- \\frac{W l^{9}}{5040} + \\frac{\\hbar^{2} l^{7}}{280 m}\\right)\\\\c_{3} \\left(- \\frac{W l^{9}}{5040} + \\frac{\\hbar^{2} l^{7}}{280 m}\\right) + c_{4} \\left(- \\frac{W l^{11}}{27720} + \\frac{\\hbar^{2} l^{9}}{1260 m}\\right)\\end{matrix}\\right]$$"
      ],
      "text/plain": [
       "⎡   ⎛     5     2  3⎞      ⎛     7     2  5⎞ ⎤\n",
       "⎢   ⎜  W⋅l    h̅ ⋅l ⎟      ⎜  W⋅l    h̅ ⋅l ⎟ ⎥\n",
       "⎢c₁⋅⎜- ──── + ──────⎟ + c₂⋅⎜- ──── + ──────⎟ ⎥\n",
       "⎢   ⎝   30     6⋅m  ⎠      ⎝  140     30⋅m ⎠ ⎥\n",
       "⎢                                            ⎥\n",
       "⎢   ⎛     7     2  5⎞      ⎛     9     2  7⎞ ⎥\n",
       "⎢   ⎜  W⋅l    h̅ ⋅l ⎟      ⎜  W⋅l    h̅ ⋅l ⎟ ⎥\n",
       "⎢c₁⋅⎜- ──── + ──────⎟ + c₂⋅⎜- ──── + ──────⎟ ⎥\n",
       "⎢   ⎝  140     30⋅m ⎠      ⎝  630    105⋅m ⎠ ⎥\n",
       "⎢                                            ⎥\n",
       "⎢   ⎛     7     2  5⎞      ⎛     9     2  7⎞ ⎥\n",
       "⎢   ⎜  W⋅l    h̅ ⋅l ⎟      ⎜  W⋅l    h̅ ⋅l ⎟ ⎥\n",
       "⎢c₃⋅⎜- ──── + ──────⎟ + c₄⋅⎜- ──── + ──────⎟ ⎥\n",
       "⎢   ⎝  840     40⋅m ⎠      ⎝  5040   280⋅m ⎠ ⎥\n",
       "⎢                                            ⎥\n",
       "⎢   ⎛     9     2  7⎞      ⎛     11     2  9⎞⎥\n",
       "⎢   ⎜  W⋅l    h̅ ⋅l ⎟      ⎜  W⋅l     h̅ ⋅l ⎟⎥\n",
       "⎢c₃⋅⎜- ──── + ──────⎟ + c₄⋅⎜- ───── + ──────⎟⎥\n",
       "⎣   ⎝  5040   280⋅m ⎠      ⎝  27720   1260⋅m⎠⎦"
      ]
     },
     "execution_count": 111,
     "metadata": {},
     "output_type": "execute_result"
    }
   ],
   "source": [
    "Ec = M*C\n",
    "Ec"
   ]
  },
  {
   "cell_type": "code",
   "execution_count": 112,
   "metadata": {},
   "outputs": [
    {
     "data": {
      "text/latex": [
       "$$\\left[\\begin{matrix}c_{1} \\left(- \\frac{\\hbar^{2} l^{3}}{15 m} \\left(- \\sqrt{133} + 14\\right) + \\frac{\\hbar^{2} l^{3}}{6 m}\\right) + c_{2} \\left(- \\frac{\\hbar^{2} l^{5}}{70 m} \\left(- \\sqrt{133} + 14\\right) + \\frac{\\hbar^{2} l^{5}}{30 m}\\right) & c_{1} \\left(- \\frac{\\hbar^{2} l^{3}}{15 m} \\left(\\sqrt{133} + 14\\right) + \\frac{\\hbar^{2} l^{3}}{6 m}\\right) + c_{2} \\left(- \\frac{\\hbar^{2} l^{5}}{70 m} \\left(\\sqrt{133} + 14\\right) + \\frac{\\hbar^{2} l^{5}}{30 m}\\right) & c_{1} \\left(- \\frac{\\hbar^{2} l^{3}}{15 m} \\left(- 9 \\sqrt{5} + 30\\right) + \\frac{\\hbar^{2} l^{3}}{6 m}\\right) + c_{2} \\left(- \\frac{\\hbar^{2} l^{5}}{70 m} \\left(- 9 \\sqrt{5} + 30\\right) + \\frac{\\hbar^{2} l^{5}}{30 m}\\right) & c_{1} \\left(- \\frac{\\hbar^{2} l^{3}}{15 m} \\left(9 \\sqrt{5} + 30\\right) + \\frac{\\hbar^{2} l^{3}}{6 m}\\right) + c_{2} \\left(- \\frac{\\hbar^{2} l^{5}}{70 m} \\left(9 \\sqrt{5} + 30\\right) + \\frac{\\hbar^{2} l^{5}}{30 m}\\right)\\\\c_{1} \\left(- \\frac{\\hbar^{2} l^{5}}{70 m} \\left(- \\sqrt{133} + 14\\right) + \\frac{\\hbar^{2} l^{5}}{30 m}\\right) + c_{2} \\left(- \\frac{\\hbar^{2} l^{7}}{315 m} \\left(- \\sqrt{133} + 14\\right) + \\frac{\\hbar^{2} l^{7}}{105 m}\\right) & c_{1} \\left(- \\frac{\\hbar^{2} l^{5}}{70 m} \\left(\\sqrt{133} + 14\\right) + \\frac{\\hbar^{2} l^{5}}{30 m}\\right) + c_{2} \\left(- \\frac{\\hbar^{2} l^{7}}{315 m} \\left(\\sqrt{133} + 14\\right) + \\frac{\\hbar^{2} l^{7}}{105 m}\\right) & c_{1} \\left(- \\frac{\\hbar^{2} l^{5}}{70 m} \\left(- 9 \\sqrt{5} + 30\\right) + \\frac{\\hbar^{2} l^{5}}{30 m}\\right) + c_{2} \\left(- \\frac{\\hbar^{2} l^{7}}{315 m} \\left(- 9 \\sqrt{5} + 30\\right) + \\frac{\\hbar^{2} l^{7}}{105 m}\\right) & c_{1} \\left(- \\frac{\\hbar^{2} l^{5}}{70 m} \\left(9 \\sqrt{5} + 30\\right) + \\frac{\\hbar^{2} l^{5}}{30 m}\\right) + c_{2} \\left(- \\frac{\\hbar^{2} l^{7}}{315 m} \\left(9 \\sqrt{5} + 30\\right) + \\frac{\\hbar^{2} l^{7}}{105 m}\\right)\\\\c_{3} \\left(- \\frac{\\hbar^{2} l^{5}}{420 m} \\left(- \\sqrt{133} + 14\\right) + \\frac{\\hbar^{2} l^{5}}{40 m}\\right) + c_{4} \\left(- \\frac{\\hbar^{2} l^{7}}{2520 m} \\left(- \\sqrt{133} + 14\\right) + \\frac{\\hbar^{2} l^{7}}{280 m}\\right) & c_{3} \\left(- \\frac{\\hbar^{2} l^{5}}{420 m} \\left(\\sqrt{133} + 14\\right) + \\frac{\\hbar^{2} l^{5}}{40 m}\\right) + c_{4} \\left(- \\frac{\\hbar^{2} l^{7}}{2520 m} \\left(\\sqrt{133} + 14\\right) + \\frac{\\hbar^{2} l^{7}}{280 m}\\right) & c_{3} \\left(- \\frac{\\hbar^{2} l^{5}}{420 m} \\left(- 9 \\sqrt{5} + 30\\right) + \\frac{\\hbar^{2} l^{5}}{40 m}\\right) + c_{4} \\left(- \\frac{\\hbar^{2} l^{7}}{2520 m} \\left(- 9 \\sqrt{5} + 30\\right) + \\frac{\\hbar^{2} l^{7}}{280 m}\\right) & c_{3} \\left(- \\frac{\\hbar^{2} l^{5}}{420 m} \\left(9 \\sqrt{5} + 30\\right) + \\frac{\\hbar^{2} l^{5}}{40 m}\\right) + c_{4} \\left(- \\frac{\\hbar^{2} l^{7}}{2520 m} \\left(9 \\sqrt{5} + 30\\right) + \\frac{\\hbar^{2} l^{7}}{280 m}\\right)\\\\c_{3} \\left(- \\frac{\\hbar^{2} l^{7}}{2520 m} \\left(- \\sqrt{133} + 14\\right) + \\frac{\\hbar^{2} l^{7}}{280 m}\\right) + c_{4} \\left(- \\frac{\\hbar^{2} l^{9}}{13860 m} \\left(- \\sqrt{133} + 14\\right) + \\frac{\\hbar^{2} l^{9}}{1260 m}\\right) & c_{3} \\left(- \\frac{\\hbar^{2} l^{7}}{2520 m} \\left(\\sqrt{133} + 14\\right) + \\frac{\\hbar^{2} l^{7}}{280 m}\\right) + c_{4} \\left(- \\frac{\\hbar^{2} l^{9}}{13860 m} \\left(\\sqrt{133} + 14\\right) + \\frac{\\hbar^{2} l^{9}}{1260 m}\\right) & c_{3} \\left(- \\frac{\\hbar^{2} l^{7}}{2520 m} \\left(- 9 \\sqrt{5} + 30\\right) + \\frac{\\hbar^{2} l^{7}}{280 m}\\right) + c_{4} \\left(- \\frac{\\hbar^{2} l^{9}}{13860 m} \\left(- 9 \\sqrt{5} + 30\\right) + \\frac{\\hbar^{2} l^{9}}{1260 m}\\right) & c_{3} \\left(- \\frac{\\hbar^{2} l^{7}}{2520 m} \\left(9 \\sqrt{5} + 30\\right) + \\frac{\\hbar^{2} l^{7}}{280 m}\\right) + c_{4} \\left(- \\frac{\\hbar^{2} l^{9}}{13860 m} \\left(9 \\sqrt{5} + 30\\right) + \\frac{\\hbar^{2} l^{9}}{1260 m}\\right)\\end{matrix}\\right]$$"
      ],
      "text/plain": [
       "⎡   ⎛    2  3                  2  3⎞      ⎛    2  5                  2  5⎞    \n",
       "⎢   ⎜  h̅ ⋅l ⋅(-√133 + 14)   h̅ ⋅l ⎟      ⎜  h̅ ⋅l ⋅(-√133 + 14)   h̅ ⋅l ⎟    \n",
       "⎢c₁⋅⎜- ─────────────────── + ──────⎟ + c₂⋅⎜- ─────────────────── + ──────⎟  c₁\n",
       "⎢   ⎝          15⋅m           6⋅m  ⎠      ⎝          70⋅m           30⋅m ⎠    \n",
       "⎢                                                                             \n",
       "⎢   ⎛    2  5                  2  5⎞      ⎛    2  7                  2  7⎞    \n",
       "⎢   ⎜  h̅ ⋅l ⋅(-√133 + 14)   h̅ ⋅l ⎟      ⎜  h̅ ⋅l ⋅(-√133 + 14)   h̅ ⋅l ⎟    \n",
       "⎢c₁⋅⎜- ─────────────────── + ──────⎟ + c₂⋅⎜- ─────────────────── + ──────⎟  c₁\n",
       "⎢   ⎝          70⋅m           30⋅m ⎠      ⎝         315⋅m          105⋅m ⎠    \n",
       "⎢                                                                             \n",
       "⎢   ⎛    2  5                  2  5⎞      ⎛    2  7                  2  7⎞    \n",
       "⎢   ⎜  h̅ ⋅l ⋅(-√133 + 14)   h̅ ⋅l ⎟      ⎜  h̅ ⋅l ⋅(-√133 + 14)   h̅ ⋅l ⎟    \n",
       "⎢c₃⋅⎜- ─────────────────── + ──────⎟ + c₄⋅⎜- ─────────────────── + ──────⎟  c₃\n",
       "⎢   ⎝         420⋅m           40⋅m ⎠      ⎝         2520⋅m         280⋅m ⎠    \n",
       "⎢                                                                             \n",
       "⎢   ⎛    2  7                  2  7⎞      ⎛    2  9                  2  9⎞    \n",
       "⎢   ⎜  h̅ ⋅l ⋅(-√133 + 14)   h̅ ⋅l ⎟      ⎜  h̅ ⋅l ⋅(-√133 + 14)   h̅ ⋅l ⎟    \n",
       "⎢c₃⋅⎜- ─────────────────── + ──────⎟ + c₄⋅⎜- ─────────────────── + ──────⎟  c₃\n",
       "⎣   ⎝         2520⋅m         280⋅m ⎠      ⎝        13860⋅m         1260⋅m⎠    \n",
       "\n",
       " ⎛    2  3                 2  3⎞      ⎛    2  5                 2  5⎞     ⎛   \n",
       " ⎜  h̅ ⋅l ⋅(√133 + 14)   h̅ ⋅l ⎟      ⎜  h̅ ⋅l ⋅(√133 + 14)   h̅ ⋅l ⎟     ⎜  h\n",
       "⋅⎜- ────────────────── + ──────⎟ + c₂⋅⎜- ────────────────── + ──────⎟  c₁⋅⎜- ─\n",
       " ⎝         15⋅m           6⋅m  ⎠      ⎝         70⋅m           30⋅m ⎠     ⎝   \n",
       "                                                                              \n",
       " ⎛    2  5                 2  5⎞      ⎛    2  7                 2  7⎞     ⎛   \n",
       " ⎜  h̅ ⋅l ⋅(√133 + 14)   h̅ ⋅l ⎟      ⎜  h̅ ⋅l ⋅(√133 + 14)   h̅ ⋅l ⎟     ⎜  h\n",
       "⋅⎜- ────────────────── + ──────⎟ + c₂⋅⎜- ────────────────── + ──────⎟  c₁⋅⎜- ─\n",
       " ⎝         70⋅m           30⋅m ⎠      ⎝        315⋅m          105⋅m ⎠     ⎝   \n",
       "                                                                              \n",
       " ⎛    2  5                 2  5⎞      ⎛    2  7                 2  7⎞     ⎛   \n",
       " ⎜  h̅ ⋅l ⋅(√133 + 14)   h̅ ⋅l ⎟      ⎜  h̅ ⋅l ⋅(√133 + 14)   h̅ ⋅l ⎟     ⎜  h\n",
       "⋅⎜- ────────────────── + ──────⎟ + c₄⋅⎜- ────────────────── + ──────⎟  c₃⋅⎜- ─\n",
       " ⎝        420⋅m           40⋅m ⎠      ⎝        2520⋅m         280⋅m ⎠     ⎝   \n",
       "                                                                              \n",
       " ⎛    2  7                 2  7⎞      ⎛    2  9                 2  9⎞     ⎛   \n",
       " ⎜  h̅ ⋅l ⋅(√133 + 14)   h̅ ⋅l ⎟      ⎜  h̅ ⋅l ⋅(√133 + 14)   h̅ ⋅l ⎟     ⎜  h\n",
       "⋅⎜- ────────────────── + ──────⎟ + c₄⋅⎜- ────────────────── + ──────⎟  c₃⋅⎜- ─\n",
       " ⎝        2520⋅m         280⋅m ⎠      ⎝       13860⋅m         1260⋅m⎠     ⎝   \n",
       "\n",
       " 2  3                  2  3⎞      ⎛    2  5                  2  5⎞     ⎛    2 \n",
       "̅ ⋅l ⋅(-9⋅√5 + 30)   h̅ ⋅l ⎟      ⎜  h̅ ⋅l ⋅(-9⋅√5 + 30)   h̅ ⋅l ⎟     ⎜  h̅ ⋅\n",
       "────────────────── + ──────⎟ + c₂⋅⎜- ─────────────────── + ──────⎟  c₁⋅⎜- ────\n",
       "       15⋅m           6⋅m  ⎠      ⎝          70⋅m           30⋅m ⎠     ⎝      \n",
       "                                                                              \n",
       " 2  5                  2  5⎞      ⎛    2  7                  2  7⎞     ⎛    2 \n",
       "̅ ⋅l ⋅(-9⋅√5 + 30)   h̅ ⋅l ⎟      ⎜  h̅ ⋅l ⋅(-9⋅√5 + 30)   h̅ ⋅l ⎟     ⎜  h̅ ⋅\n",
       "────────────────── + ──────⎟ + c₂⋅⎜- ─────────────────── + ──────⎟  c₁⋅⎜- ────\n",
       "       70⋅m           30⋅m ⎠      ⎝         315⋅m          105⋅m ⎠     ⎝      \n",
       "                                                                              \n",
       " 2  5                  2  5⎞      ⎛    2  7                  2  7⎞     ⎛    2 \n",
       "̅ ⋅l ⋅(-9⋅√5 + 30)   h̅ ⋅l ⎟      ⎜  h̅ ⋅l ⋅(-9⋅√5 + 30)   h̅ ⋅l ⎟     ⎜  h̅ ⋅\n",
       "────────────────── + ──────⎟ + c₄⋅⎜- ─────────────────── + ──────⎟  c₃⋅⎜- ────\n",
       "      420⋅m           40⋅m ⎠      ⎝         2520⋅m         280⋅m ⎠     ⎝      \n",
       "                                                                              \n",
       " 2  7                  2  7⎞      ⎛    2  9                  2  9⎞     ⎛    2 \n",
       "̅ ⋅l ⋅(-9⋅√5 + 30)   h̅ ⋅l ⎟      ⎜  h̅ ⋅l ⋅(-9⋅√5 + 30)   h̅ ⋅l ⎟     ⎜  h̅ ⋅\n",
       "────────────────── + ──────⎟ + c₄⋅⎜- ─────────────────── + ──────⎟  c₃⋅⎜- ────\n",
       "      2520⋅m         280⋅m ⎠      ⎝        13860⋅m         1260⋅m⎠     ⎝      \n",
       "\n",
       " 3                 2  3⎞      ⎛    2  5                 2  5⎞⎤\n",
       "l ⋅(9⋅√5 + 30)   h̅ ⋅l ⎟      ⎜  h̅ ⋅l ⋅(9⋅√5 + 30)   h̅ ⋅l ⎟⎥\n",
       "────────────── + ──────⎟ + c₂⋅⎜- ────────────────── + ──────⎟⎥\n",
       "   15⋅m           6⋅m  ⎠      ⎝         70⋅m           30⋅m ⎠⎥\n",
       "                                                             ⎥\n",
       " 5                 2  5⎞      ⎛    2  7                 2  7⎞⎥\n",
       "l ⋅(9⋅√5 + 30)   h̅ ⋅l ⎟      ⎜  h̅ ⋅l ⋅(9⋅√5 + 30)   h̅ ⋅l ⎟⎥\n",
       "────────────── + ──────⎟ + c₂⋅⎜- ────────────────── + ──────⎟⎥\n",
       "   70⋅m           30⋅m ⎠      ⎝        315⋅m          105⋅m ⎠⎥\n",
       "                                                             ⎥\n",
       " 5                 2  5⎞      ⎛    2  7                 2  7⎞⎥\n",
       "l ⋅(9⋅√5 + 30)   h̅ ⋅l ⎟      ⎜  h̅ ⋅l ⋅(9⋅√5 + 30)   h̅ ⋅l ⎟⎥\n",
       "────────────── + ──────⎟ + c₄⋅⎜- ────────────────── + ──────⎟⎥\n",
       "  420⋅m           40⋅m ⎠      ⎝        2520⋅m         280⋅m ⎠⎥\n",
       "                                                             ⎥\n",
       " 7                 2  7⎞      ⎛    2  9                 2  9⎞⎥\n",
       "l ⋅(9⋅√5 + 30)   h̅ ⋅l ⎟      ⎜  h̅ ⋅l ⋅(9⋅√5 + 30)   h̅ ⋅l ⎟⎥\n",
       "────────────── + ──────⎟ + c₄⋅⎜- ────────────────── + ──────⎟⎥\n",
       "  2520⋅m         280⋅m ⎠      ⎝       13860⋅m         1260⋅m⎠⎦"
      ]
     },
     "execution_count": 112,
     "metadata": {},
     "output_type": "execute_result"
    }
   ],
   "source": [
    "for a in range(1, len(C)+1):\n",
    "    if a == 1:\n",
    "        EC = Matrix([Ec.subs(W, w[a-1])])\n",
    "    else:\n",
    "        EC = EC.col_insert(a-1, Ec.subs(W, w[a-1]))\n",
    "EC"
   ]
  },
  {
   "cell_type": "code",
   "execution_count": 114,
   "metadata": {},
   "outputs": [
    {
     "data": {
      "text/latex": [
       "$$\\left[\\begin{matrix}\\frac{c_{2} l^{2}}{21} \\left(7 + \\sqrt{133}\\right) & \\frac{c_{2} l^{2}}{21} \\left(- \\sqrt{133} + 7\\right) & 0 & 0\\\\c_{2} & c_{2} & 0 & 0\\\\0 & 0 & \\frac{c_{4} l^{2}}{33} \\left(1 + 3 \\sqrt{5}\\right) & \\frac{c_{4} l^{2}}{33} \\left(- 3 \\sqrt{5} + 1\\right)\\\\0 & 0 & c_{4} & c_{4}\\end{matrix}\\right]$$"
      ],
      "text/plain": [
       "⎡    2                 2                                                 ⎤\n",
       "⎢c₂⋅l ⋅(7 + √133)  c₂⋅l ⋅(-√133 + 7)                                     ⎥\n",
       "⎢────────────────  ─────────────────         0                  0        ⎥\n",
       "⎢       21                 21                                            ⎥\n",
       "⎢                                                                        ⎥\n",
       "⎢       c₂                c₂                 0                  0        ⎥\n",
       "⎢                                                                        ⎥\n",
       "⎢                                         2                 2            ⎥\n",
       "⎢                                     c₄⋅l ⋅(1 + 3⋅√5)  c₄⋅l ⋅(-3⋅√5 + 1)⎥\n",
       "⎢       0                  0          ────────────────  ─────────────────⎥\n",
       "⎢                                            33                 33       ⎥\n",
       "⎢                                                                        ⎥\n",
       "⎣       0                  0                 c₄                c₄        ⎦"
      ]
     },
     "execution_count": 114,
     "metadata": {},
     "output_type": "execute_result"
    }
   ],
   "source": [
    "CRcol = C[:, :]\n",
    "for a in range(1, len(C)+1):\n",
    "    C_val = solve(EC.col(a-1), C)\n",
    "    for b in range(1, len(C)+1):\n",
    "        if sympify('c'+str(b)) in C_val:\n",
    "            CRcol[b-1] = C_val[sympify('c'+str(b))]\n",
    "        else:\n",
    "            CRcol[b-1] = sympify('c'+str(b))\n",
    "    if a == 1:\n",
    "        CR = Matrix([CRcol])\n",
    "    else:\n",
    "        CR = CR.col_insert(a-1, CRcol)\n",
    "simplify(CR)"
   ]
  },
  {
   "cell_type": "code",
   "execution_count": 115,
   "metadata": {},
   "outputs": [
    {
     "data": {
      "text/latex": [
       "$$\\left[\\begin{matrix}c_{2} x^{2} \\left(l - x\\right)^{2} + x \\left(l - x\\right) \\left(\\frac{c_{2} l^{2}}{3} + \\frac{\\sqrt{133} c_{2}}{21} l^{2}\\right)\\\\c_{2} x^{2} \\left(l - x\\right)^{2} + x \\left(l - x\\right) \\left(- \\frac{\\sqrt{133} c_{2}}{21} l^{2} + \\frac{c_{2} l^{2}}{3}\\right)\\\\c_{4} x^{2} \\left(\\frac{l}{2} - x\\right) \\left(l - x\\right)^{2} + x \\left(\\frac{l}{2} - x\\right) \\left(l - x\\right) \\left(\\frac{c_{4} l^{2}}{33} + \\frac{\\sqrt{5} c_{4}}{11} l^{2}\\right)\\\\c_{4} x^{2} \\left(\\frac{l}{2} - x\\right) \\left(l - x\\right)^{2} + x \\left(\\frac{l}{2} - x\\right) \\left(l - x\\right) \\left(- \\frac{\\sqrt{5} c_{4}}{11} l^{2} + \\frac{c_{4} l^{2}}{33}\\right)\\end{matrix}\\right]$$"
      ],
      "text/plain": [
       "⎡                                   ⎛    2            2⎞        ⎤\n",
       "⎢            2        2             ⎜c₂⋅l    √133⋅c₂⋅l ⎟        ⎥\n",
       "⎢        c₂⋅x ⋅(l - x)  + x⋅(l - x)⋅⎜───── + ──────────⎟        ⎥\n",
       "⎢                                   ⎝  3         21    ⎠        ⎥\n",
       "⎢                                                               ⎥\n",
       "⎢                                  ⎛           2       2⎞       ⎥\n",
       "⎢           2        2             ⎜  √133⋅c₂⋅l    c₂⋅l ⎟       ⎥\n",
       "⎢       c₂⋅x ⋅(l - x)  + x⋅(l - x)⋅⎜- ────────── + ─────⎟       ⎥\n",
       "⎢                                  ⎝      21         3  ⎠       ⎥\n",
       "⎢                                                               ⎥\n",
       "⎢                                            ⎛    2          2⎞ ⎥\n",
       "⎢     2 ⎛l    ⎞        2     ⎛l    ⎞         ⎜c₄⋅l    √5⋅c₄⋅l ⎟ ⎥\n",
       "⎢ c₄⋅x ⋅⎜─ - x⎟⋅(l - x)  + x⋅⎜─ - x⎟⋅(l - x)⋅⎜───── + ────────⎟ ⎥\n",
       "⎢       ⎝2    ⎠              ⎝2    ⎠         ⎝  33       11   ⎠ ⎥\n",
       "⎢                                                               ⎥\n",
       "⎢                                           ⎛         2       2⎞⎥\n",
       "⎢    2 ⎛l    ⎞        2     ⎛l    ⎞         ⎜  √5⋅c₄⋅l    c₄⋅l ⎟⎥\n",
       "⎢c₄⋅x ⋅⎜─ - x⎟⋅(l - x)  + x⋅⎜─ - x⎟⋅(l - x)⋅⎜- ──────── + ─────⎟⎥\n",
       "⎣      ⎝2    ⎠              ⎝2    ⎠         ⎝     11        33 ⎠⎦"
      ]
     },
     "execution_count": 115,
     "metadata": {},
     "output_type": "execute_result"
    }
   ],
   "source": [
    "PHI = CR.T*F.T\n",
    "PHI"
   ]
  },
  {
   "cell_type": "code",
   "execution_count": 116,
   "metadata": {},
   "outputs": [
    {
     "data": {
      "text/latex": [
       "$$\\left[\\begin{matrix}\\left(0.882502980698609 c_{2} l^{2} x \\left(l - x\\right) + c_{2} x^{2} \\left(l - x\\right)^{2}\\right)^{2}\\\\\\left(- 0.215836314031943 c_{2} l^{2} x \\left(l - x\\right) + c_{2} x^{2} \\left(l - x\\right)^{2}\\right)^{2}\\\\\\left(0.233581937348466 c_{4} l^{2} x \\left(0.5 l - x\\right) \\left(l - x\\right) + c_{4} x^{2} \\left(0.5 l - x\\right) \\left(l - x\\right)^{2}\\right)^{2}\\\\\\left(- 0.172975876742405 c_{4} l^{2} x \\left(0.5 l - x\\right) \\left(l - x\\right) + c_{4} x^{2} \\left(0.5 l - x\\right) \\left(l - x\\right)^{2}\\right)^{2}\\end{matrix}\\right]$$"
      ],
      "text/plain": [
       "⎡                                                                 2           \n",
       "⎢             ⎛                      2                 2        2⎞            \n",
       "⎢             ⎝0.882502980698609⋅c₂⋅l ⋅x⋅(l - x) + c₂⋅x ⋅(l - x) ⎠            \n",
       "⎢                                                                             \n",
       "⎢                                                                  2          \n",
       "⎢            ⎛                        2                 2        2⎞           \n",
       "⎢            ⎝- 0.215836314031943⋅c₂⋅l ⋅x⋅(l - x) + c₂⋅x ⋅(l - x) ⎠           \n",
       "⎢                                                                             \n",
       "⎢                                                                             \n",
       "⎢ ⎛                      2                             2                    2⎞\n",
       "⎢ ⎝0.233581937348466⋅c₄⋅l ⋅x⋅(0.5⋅l - x)⋅(l - x) + c₄⋅x ⋅(0.5⋅l - x)⋅(l - x) ⎠\n",
       "⎢                                                                             \n",
       "⎢                                                                             \n",
       "⎢⎛                        2                             2                    2\n",
       "⎣⎝- 0.172975876742405⋅c₄⋅l ⋅x⋅(0.5⋅l - x)⋅(l - x) + c₄⋅x ⋅(0.5⋅l - x)⋅(l - x) \n",
       "\n",
       "  ⎤\n",
       "  ⎥\n",
       "  ⎥\n",
       "  ⎥\n",
       "  ⎥\n",
       "  ⎥\n",
       "  ⎥\n",
       "  ⎥\n",
       "2 ⎥\n",
       "  ⎥\n",
       "  ⎥\n",
       "  ⎥\n",
       " 2⎥\n",
       "⎞ ⎥\n",
       "⎠ ⎦"
      ]
     },
     "execution_count": 116,
     "metadata": {},
     "output_type": "execute_result"
    }
   ],
   "source": [
    "PHISQ = zeros(len(C), 1)\n",
    "for a in range(1, len(C)+1):\n",
    "    PHISQ[a-1] = PHI[a-1]**2\n",
    "PHISQ.evalf()"
   ]
  },
  {
   "cell_type": "code",
   "execution_count": 117,
   "metadata": {},
   "outputs": [
    {
     "data": {
      "text/latex": [
       "$$\\left[\\begin{matrix}0.0401548707239174 c_{2}^{2} l^{9}\\\\5.67694877226521 \\cdot 10^{-5} c_{2}^{2} l^{9}\\\\0.000193719282787386 c_{4}^{2} l^{11}\\\\3.05364125791074 \\cdot 10^{-6} c_{4}^{2} l^{11}\\end{matrix}\\right]$$"
      ],
      "text/plain": [
       "⎡                      2  9  ⎤\n",
       "⎢ 0.0401548707239174⋅c₂ ⋅l   ⎥\n",
       "⎢                            ⎥\n",
       "⎢                       2  9 ⎥\n",
       "⎢ 5.67694877226521e-5⋅c₂ ⋅l  ⎥\n",
       "⎢                            ⎥\n",
       "⎢                       2  11⎥\n",
       "⎢0.000193719282787386⋅c₄ ⋅l  ⎥\n",
       "⎢                            ⎥\n",
       "⎢                      2  11 ⎥\n",
       "⎣3.05364125791074e-6⋅c₄ ⋅l   ⎦"
      ]
     },
     "execution_count": 117,
     "metadata": {},
     "output_type": "execute_result"
    }
   ],
   "source": [
    "INTPHISQ = integrate(PHISQ, (x, 0, l))\n",
    "INTPHISQ.evalf()"
   ]
  },
  {
   "cell_type": "code",
   "execution_count": 118,
   "metadata": {},
   "outputs": [
    {
     "data": {
      "text/latex": [
       "$$\\left[\\begin{matrix}- 4.99034859672658 \\left(\\frac{1}{l^{9}}\\right)^{0.5} & 4.99034859672658 \\left(\\frac{1}{l^{9}}\\right)^{0.5}\\\\- 132.721876195613 \\left(\\frac{1}{l^{9}}\\right)^{0.5} & 132.721876195613 \\left(\\frac{1}{l^{9}}\\right)^{0.5}\\\\- 71.8478164291383 \\left(\\frac{1}{l^{11}}\\right)^{0.5} & 71.8478164291383 \\left(\\frac{1}{l^{11}}\\right)^{0.5}\\\\- 572.256840303692 \\left(\\frac{1}{l^{11}}\\right)^{0.5} & 572.256840303692 \\left(\\frac{1}{l^{11}}\\right)^{0.5}\\end{matrix}\\right]$$"
      ],
      "text/plain": [
       "⎡                      0.5                        0.5 ⎤\n",
       "⎢                  ⎛1 ⎞                       ⎛1 ⎞    ⎥\n",
       "⎢-4.99034859672658⋅⎜──⎟      4.99034859672658⋅⎜──⎟    ⎥\n",
       "⎢                  ⎜ 9⎟                       ⎜ 9⎟    ⎥\n",
       "⎢                  ⎝l ⎠                       ⎝l ⎠    ⎥\n",
       "⎢                                                     ⎥\n",
       "⎢                      0.5                        0.5 ⎥\n",
       "⎢                  ⎛1 ⎞                       ⎛1 ⎞    ⎥\n",
       "⎢-132.721876195613⋅⎜──⎟      132.721876195613⋅⎜──⎟    ⎥\n",
       "⎢                  ⎜ 9⎟                       ⎜ 9⎟    ⎥\n",
       "⎢                  ⎝l ⎠                       ⎝l ⎠    ⎥\n",
       "⎢                                                     ⎥\n",
       "⎢                       0.5                        0.5⎥\n",
       "⎢                  ⎛ 1 ⎞                      ⎛ 1 ⎞   ⎥\n",
       "⎢-71.8478164291383⋅⎜───⎟     71.8478164291383⋅⎜───⎟   ⎥\n",
       "⎢                  ⎜ 11⎟                      ⎜ 11⎟   ⎥\n",
       "⎢                  ⎝l  ⎠                      ⎝l  ⎠   ⎥\n",
       "⎢                                                     ⎥\n",
       "⎢                       0.5                        0.5⎥\n",
       "⎢                  ⎛ 1 ⎞                      ⎛ 1 ⎞   ⎥\n",
       "⎢-572.256840303692⋅⎜───⎟     572.256840303692⋅⎜───⎟   ⎥\n",
       "⎢                  ⎜ 11⎟                      ⎜ 11⎟   ⎥\n",
       "⎣                  ⎝l  ⎠                      ⎝l  ⎠   ⎦"
      ]
     },
     "execution_count": 118,
     "metadata": {},
     "output_type": "execute_result"
    }
   ],
   "source": [
    "for a in range(1, len(C)+1):\n",
    "    SOL = solve(INTPHISQ[a-1]-1, C)\n",
    "    for b in range(1, len(C)+1):\n",
    "        for c in range(1, len(SOL)+1):\n",
    "            if sympify('c'+str(b)) in SOL[c-1]:\n",
    "                if c == 1:\n",
    "                    COEFrow = Matrix([SOL[c-1][sympify('c'+str(b))]])\n",
    "                else:\n",
    "                    COEFrow = COEFrow.col_insert(c-1, Matrix([SOL[c-1][sympify('c'+str(b))]]))\n",
    "    if a == 1:\n",
    "        COEF = COEFrow\n",
    "    else:\n",
    "        COEF = COEF.row_insert(a-1, COEFrow)\n",
    "COEF.evalf()"
   ]
  },
  {
   "cell_type": "code",
   "execution_count": 119,
   "metadata": {},
   "outputs": [
    {
     "name": "stdout",
     "output_type": "stream",
     "text": [
      "21*sqrt(30)*sqrt(l**(-9))/sqrt(23*sqrt(133) + 266)\n",
      "1\n",
      "21*sqrt(30)*sqrt(l**(-9))/sqrt(-23*sqrt(133) + 266)\n",
      "2\n",
      "66*sqrt(70)*sqrt(l**(-11))/sqrt(13*sqrt(5) + 30)\n",
      "3\n",
      "66*sqrt(70)*sqrt(l**(-11))/sqrt(-13*sqrt(5) + 30)\n",
      "4\n"
     ]
    },
    {
     "data": {
      "text/latex": [
       "$$\\left[\\begin{matrix}4.40399751133633 l^{2} \\left(\\frac{1}{l^{9}}\\right)^{0.5} & - 28.6462005494649 l^{2} \\left(\\frac{1}{l^{9}}\\right)^{0.5} & 0 & 0\\\\4.99034859672658 \\left(\\frac{1}{l^{9}}\\right)^{0.5} & 132.721876195613 \\left(\\frac{1}{l^{9}}\\right)^{0.5} & 0 & 0\\\\0 & 0 & 16.7823521557751 l^{2} \\left(\\frac{1}{l^{11}}\\right)^{0.5} & - 98.9866286733696 l^{2} \\left(\\frac{1}{l^{11}}\\right)^{0.5}\\\\0 & 0 & 71.8478164291383 \\left(\\frac{1}{l^{11}}\\right)^{0.5} & 572.256840303692 \\left(\\frac{1}{l^{11}}\\right)^{0.5}\\end{matrix}\\right]$$"
      ],
      "text/plain": [
       "⎡                        0.5                           0.5                    \n",
       "⎢                  2 ⎛1 ⎞                        2 ⎛1 ⎞                       \n",
       "⎢4.40399751133633⋅l ⋅⎜──⎟     -28.6462005494649⋅l ⋅⎜──⎟                  0    \n",
       "⎢                    ⎜ 9⎟                          ⎜ 9⎟                       \n",
       "⎢                    ⎝l ⎠                          ⎝l ⎠                       \n",
       "⎢                                                                             \n",
       "⎢                      0.5                           0.5                      \n",
       "⎢                  ⎛1 ⎞                          ⎛1 ⎞                         \n",
       "⎢ 4.99034859672658⋅⎜──⎟         132.721876195613⋅⎜──⎟                    0    \n",
       "⎢                  ⎜ 9⎟                          ⎜ 9⎟                         \n",
       "⎢                  ⎝l ⎠                          ⎝l ⎠                         \n",
       "⎢                                                                             \n",
       "⎢                                                                             \n",
       "⎢                                                                             \n",
       "⎢             0                            0                16.7823521557751⋅l\n",
       "⎢                                                                             \n",
       "⎢                                                                             \n",
       "⎢                                                                             \n",
       "⎢                                                                             \n",
       "⎢                                                                             \n",
       "⎢             0                            0                 71.8478164291383⋅\n",
       "⎢                                                                             \n",
       "⎣                                                                             \n",
       "\n",
       "                                         ⎤\n",
       "                                         ⎥\n",
       "                          0              ⎥\n",
       "                                         ⎥\n",
       "                                         ⎥\n",
       "                                         ⎥\n",
       "                                         ⎥\n",
       "                                         ⎥\n",
       "                          0              ⎥\n",
       "                                         ⎥\n",
       "                                         ⎥\n",
       "                                         ⎥\n",
       "       0.5                            0.5⎥\n",
       "2 ⎛ 1 ⎞                        2 ⎛ 1 ⎞   ⎥\n",
       " ⋅⎜───⎟     -98.9866286733696⋅l ⋅⎜───⎟   ⎥\n",
       "  ⎜ 11⎟                          ⎜ 11⎟   ⎥\n",
       "  ⎝l  ⎠                          ⎝l  ⎠   ⎥\n",
       "                                         ⎥\n",
       "     0.5                            0.5  ⎥\n",
       "⎛ 1 ⎞                          ⎛ 1 ⎞     ⎥\n",
       "⎜───⎟         572.256840303692⋅⎜───⎟     ⎥\n",
       "⎜ 11⎟                          ⎜ 11⎟     ⎥\n",
       "⎝l  ⎠                          ⎝l  ⎠     ⎦"
      ]
     },
     "execution_count": 119,
     "metadata": {},
     "output_type": "execute_result"
    }
   ],
   "source": [
    "CRF = CR[:, :]\n",
    "for a in range(1, len(C)+1):\n",
    "    SOL = solve(INTPHISQ[a-1]-1, C)\n",
    "    for b in range(1, len(C)+1):\n",
    "        if sympify('c'+str(b)) in SOL[1]:\n",
    "            print(SOL[1][sympify('c'+str(b))])\n",
    "            print(a)\n",
    "            Z = CRF.col(a-1).subs(sympify('c'+str(b)), SOL[1][sympify('c'+str(b))])\n",
    "            CRF.col_del(a-1)\n",
    "            CRF = CRF.col_insert(a-1, Z)\n",
    "CRF.evalf()"
   ]
  },
  {
   "cell_type": "code",
   "execution_count": 138,
   "metadata": {},
   "outputs": [
    {
     "data": {
      "text/latex": [
       "$$\\left[\\begin{matrix}0.0433861348609746 x \\left(l - x\\right) \\left(101.507025814777 l^{2} + 115.021737076085 x \\left(l - x\\right)\\right) \\left(\\frac{1}{l^{9}}\\right)^{0.5}\\\\1.15388516613881 x \\left(l - x\\right) \\left(- 24.8258677640534 l^{2} + 115.021737076085 x \\left(l - x\\right)\\right) \\left(\\frac{1}{l^{9}}\\right)^{0.5}\\\\0.130112978355018 x \\left(l - 2.0 x\\right) \\left(l - x\\right) \\left(64.4914610669499 l^{2} + 276.097808756245 x \\left(l - x\\right)\\right) \\left(\\frac{1}{l^{11}}\\right)^{0.5}\\\\1.03632992033072 x \\left(l - 2.0 x\\right) \\left(l - x\\right) \\left(- 47.7582605362684 l^{2} + 276.097808756245 x \\left(l - x\\right)\\right) \\left(\\frac{1}{l^{11}}\\right)^{0.5}\\end{matrix}\\right]$$"
      ],
      "text/plain": [
       "⎡                                                                             \n",
       "⎢                                   ⎛                  2                      \n",
       "⎢      0.0433861348609746⋅x⋅(l - x)⋅⎝101.507025814777⋅l  + 115.021737076085⋅x⋅\n",
       "⎢                                                                             \n",
       "⎢                                                                             \n",
       "⎢                                                                             \n",
       "⎢                                                                             \n",
       "⎢                                 ⎛                    2                      \n",
       "⎢      1.15388516613881⋅x⋅(l - x)⋅⎝- 24.8258677640534⋅l  + 115.021737076085⋅x⋅\n",
       "⎢                                                                             \n",
       "⎢                                                                             \n",
       "⎢                                                                             \n",
       "⎢                                                                             \n",
       "⎢                                        ⎛                  2                 \n",
       "⎢0.130112978355018⋅x⋅(l - 2.0⋅x)⋅(l - x)⋅⎝64.4914610669499⋅l  + 276.0978087562\n",
       "⎢                                                                             \n",
       "⎢                                                                             \n",
       "⎢                                                                             \n",
       "⎢                                                                             \n",
       "⎢                                       ⎛                    2                \n",
       "⎢1.03632992033072⋅x⋅(l - 2.0⋅x)⋅(l - x)⋅⎝- 47.7582605362684⋅l  + 276.097808756\n",
       "⎢                                                                             \n",
       "⎣                                                                             \n",
       "\n",
       "             0.5       ⎤\n",
       "       ⎞ ⎛1 ⎞          ⎥\n",
       "(l - x)⎠⋅⎜──⎟          ⎥\n",
       "         ⎜ 9⎟          ⎥\n",
       "         ⎝l ⎠          ⎥\n",
       "                       ⎥\n",
       "             0.5       ⎥\n",
       "       ⎞ ⎛1 ⎞          ⎥\n",
       "(l - x)⎠⋅⎜──⎟          ⎥\n",
       "         ⎜ 9⎟          ⎥\n",
       "         ⎝l ⎠          ⎥\n",
       "                       ⎥\n",
       "                   0.5 ⎥\n",
       "            ⎞ ⎛ 1 ⎞    ⎥\n",
       "45⋅x⋅(l - x)⎠⋅⎜───⎟    ⎥\n",
       "              ⎜ 11⎟    ⎥\n",
       "              ⎝l  ⎠    ⎥\n",
       "                       ⎥\n",
       "                    0.5⎥\n",
       "             ⎞ ⎛ 1 ⎞   ⎥\n",
       "245⋅x⋅(l - x)⎠⋅⎜───⎟   ⎥\n",
       "               ⎜ 11⎟   ⎥\n",
       "               ⎝l  ⎠   ⎦"
      ]
     },
     "execution_count": 138,
     "metadata": {},
     "output_type": "execute_result"
    }
   ],
   "source": [
    "for a in range(1, len(C)+1):\n",
    "    if a == 1:\n",
    "        PHIS = Matrix([F*CRF.col(a-1)])\n",
    "    else:\n",
    "        PHIS = PHIS.row_insert(a-1, Matrix([F*CRF.col(a-1)]))\n",
    "simplify(PHIS).evalf()"
   ]
  },
  {
   "cell_type": "code",
   "execution_count": 139,
   "metadata": {},
   "outputs": [
    {
     "data": {
      "text/latex": [
       "$$\\left[\\begin{matrix}\\left(4.40399751133633 l^{2} x \\left(l - x\\right) \\left(\\frac{1}{l^{9}}\\right)^{0.5} + 4.99034859672658 x^{2} \\left(l - x\\right)^{2} \\left(\\frac{1}{l^{9}}\\right)^{0.5}\\right)^{2}\\\\\\left(- 28.6462005494649 l^{2} x \\left(l - x\\right) \\left(\\frac{1}{l^{9}}\\right)^{0.5} + 132.721876195613 x^{2} \\left(l - x\\right)^{2} \\left(\\frac{1}{l^{9}}\\right)^{0.5}\\right)^{2}\\\\\\left(16.7823521557751 l^{2} x \\left(0.5 l - x\\right) \\left(l - x\\right) \\left(\\frac{1}{l^{11}}\\right)^{0.5} + 71.8478164291383 x^{2} \\left(0.5 l - x\\right) \\left(l - x\\right)^{2} \\left(\\frac{1}{l^{11}}\\right)^{0.5}\\right)^{2}\\\\\\left(- 98.9866286733696 l^{2} x \\left(0.5 l - x\\right) \\left(l - x\\right) \\left(\\frac{1}{l^{11}}\\right)^{0.5} + 572.256840303692 x^{2} \\left(0.5 l - x\\right) \\left(l - x\\right)^{2} \\left(\\frac{1}{l^{11}}\\right)^{0.5}\\right)^{2}\\end{matrix}\\right]$$"
      ],
      "text/plain": [
       "⎡                                                                             \n",
       "⎢              ⎛                                  0.5                         \n",
       "⎢              ⎜                  2           ⎛1 ⎞                        2   \n",
       "⎢              ⎜4.40399751133633⋅l ⋅x⋅(l - x)⋅⎜──⎟    + 4.99034859672658⋅x ⋅(l\n",
       "⎢              ⎜                              ⎜ 9⎟                            \n",
       "⎢              ⎝                              ⎝l ⎠                            \n",
       "⎢                                                                             \n",
       "⎢                                                                             \n",
       "⎢             ⎛                                    0.5                        \n",
       "⎢             ⎜                    2           ⎛1 ⎞                        2  \n",
       "⎢             ⎜- 28.6462005494649⋅l ⋅x⋅(l - x)⋅⎜──⎟    + 132.721876195613⋅x ⋅(\n",
       "⎢             ⎜                                ⎜ 9⎟                           \n",
       "⎢             ⎝                                ⎝l ⎠                           \n",
       "⎢                                                                             \n",
       "⎢                                                                             \n",
       "⎢ ⎛                                               0.5                         \n",
       "⎢ ⎜                  2                       ⎛ 1 ⎞                        2   \n",
       "⎢ ⎜16.7823521557751⋅l ⋅x⋅(0.5⋅l - x)⋅(l - x)⋅⎜───⎟    + 71.8478164291383⋅x ⋅(0\n",
       "⎢ ⎜                                          ⎜ 11⎟                            \n",
       "⎢ ⎝                                          ⎝l  ⎠                            \n",
       "⎢                                                                             \n",
       "⎢                                                                             \n",
       "⎢⎛                                                 0.5                        \n",
       "⎢⎜                    2                       ⎛ 1 ⎞                        2  \n",
       "⎢⎜- 98.9866286733696⋅l ⋅x⋅(0.5⋅l - x)⋅(l - x)⋅⎜───⎟    + 572.256840303692⋅x ⋅(\n",
       "⎢⎜                                            ⎜ 11⎟                           \n",
       "⎣⎝                                            ⎝l  ⎠                           \n",
       "\n",
       "               2              ⎤\n",
       "           0.5⎞               ⎥\n",
       "     2 ⎛1 ⎞   ⎟               ⎥\n",
       " - x) ⋅⎜──⎟   ⎟               ⎥\n",
       "       ⎜ 9⎟   ⎟               ⎥\n",
       "       ⎝l ⎠   ⎠               ⎥\n",
       "                              ⎥\n",
       "                2             ⎥\n",
       "            0.5⎞              ⎥\n",
       "      2 ⎛1 ⎞   ⎟              ⎥\n",
       "l - x) ⋅⎜──⎟   ⎟              ⎥\n",
       "        ⎜ 9⎟   ⎟              ⎥\n",
       "        ⎝l ⎠   ⎠              ⎥\n",
       "                              ⎥\n",
       "                            2 ⎥\n",
       "                        0.5⎞  ⎥\n",
       "                 2 ⎛ 1 ⎞   ⎟  ⎥\n",
       ".5⋅l - x)⋅(l - x) ⋅⎜───⎟   ⎟  ⎥\n",
       "                   ⎜ 11⎟   ⎟  ⎥\n",
       "                   ⎝l  ⎠   ⎠  ⎥\n",
       "                              ⎥\n",
       "                             2⎥\n",
       "                         0.5⎞ ⎥\n",
       "                  2 ⎛ 1 ⎞   ⎟ ⎥\n",
       "0.5⋅l - x)⋅(l - x) ⋅⎜───⎟   ⎟ ⎥\n",
       "                    ⎜ 11⎟   ⎟ ⎥\n",
       "                    ⎝l  ⎠   ⎠ ⎦"
      ]
     },
     "execution_count": 139,
     "metadata": {},
     "output_type": "execute_result"
    }
   ],
   "source": [
    "PHISSQ = zeros(len(C), 1)\n",
    "for a in range(1, len(C)+1):\n",
    "    PHISSQ[a-1] = PHIS[a-1]**2\n",
    "PHISSQ.evalf()"
   ]
  },
  {
   "cell_type": "code",
   "execution_count": 142,
   "metadata": {},
   "outputs": [
    {
     "data": {
      "text/latex": [
       "$$\\left[\\begin{matrix}\\frac{6.46506469328552 x^{3}}{l^{3}} + \\frac{1.29114436041401 x^{4}}{l^{4}} - \\frac{17.51322472148 x^{5}}{l^{5}} + \\frac{5.37509672278397 x^{6}}{l^{6}} + \\frac{15.0666441571052 x^{7}}{l^{7}} - \\frac{12.4517895584255 x^{8}}{l^{8}} + \\frac{2.76706434631677 x^{9}}{l^{9}}\\\\\\frac{273.534935306721 x^{3}}{l^{3}} - \\frac{2311.29114436047 x^{4}}{l^{4}} + \\frac{8249.5132247217 x^{5}}{l^{5}} - \\frac{15545.3750967232 x^{6}}{l^{6}} + \\frac{16184.9333558433 x^{7}}{l^{7}} - \\frac{8807.5482104418 x^{8}}{l^{8}} + \\frac{1957.23293565373 x^{9}}{l^{9}}\\\\\\frac{23.4706119900373 x^{3}}{l^{3}} + \\frac{45.1041656619921 x^{4}}{l^{4}} - \\frac{402.866540052047 x^{5}}{l^{5}} + \\frac{47.6177346654166 x^{6}}{l^{6}} + \\frac{2680.451728399 x^{7}}{l^{7}} - \\frac{5892.12414081106 x^{8}}{l^{8}} + \\frac{5611.11819154287 x^{9}}{l^{9}} - \\frac{2581.05436281758 x^{10}}{l^{10}} + \\frac{469.282611421378 x^{11}}{l^{11}}\\\\\\frac{816.529388009965 x^{3}}{l^{3}} - \\frac{10755.104165662 x^{4}}{l^{4}} + \\frac{62394.8665400521 x^{5}}{l^{5}} - \\frac{203747.617734666 x^{6}}{l^{6}} + \\frac{406639.548271602 x^{7}}{l^{7}} - \\frac{506927.87585919 x^{8}}{l^{8}} + \\frac{385548.881808458 x^{9}}{l^{9}} - \\frac{163738.945637183 x^{10}}{l^{10}} + \\frac{29770.7173885787 x^{11}}{l^{11}}\\end{matrix}\\right]$$"
      ],
      "text/plain": [
       "⎡                                         3                     4             \n",
       "⎢                       6.46506469328552⋅x    1.29114436041401⋅x    17.5132247\n",
       "⎢                       ─────────────────── + ─────────────────── - ──────────\n",
       "⎢                                 3                     4                    5\n",
       "⎢                                l                     l                    l \n",
       "⎢                                                                             \n",
       "⎢                                         3                     4             \n",
       "⎢                       273.534935306721⋅x    2311.29114436047⋅x    8249.51322\n",
       "⎢                       ─────────────────── - ─────────────────── + ──────────\n",
       "⎢                                 3                     4                    5\n",
       "⎢                                l                     l                    l \n",
       "⎢                                                                             \n",
       "⎢                  3                     4                     5              \n",
       "⎢23.4706119900373⋅x    45.1041656619921⋅x    402.866540052047⋅x    47.61773466\n",
       "⎢─────────────────── + ─────────────────── - ─────────────────── + ───────────\n",
       "⎢          3                     4                     5                     6\n",
       "⎢         l                     l                     l                     l \n",
       "⎢                                                                             \n",
       "⎢                  3                    4                     5               \n",
       "⎢816.529388009965⋅x    10755.104165662⋅x    62394.8665400521⋅x    203747.61773\n",
       "⎢─────────────────── - ────────────────── + ─────────────────── - ────────────\n",
       "⎢          3                    4                     5                     6 \n",
       "⎣         l                    l                     l                     l  \n",
       "\n",
       "      5                     6                     7                     8     \n",
       "2148⋅x    5.37509672278397⋅x    15.0666441571052⋅x    12.4517895584255⋅x    2.\n",
       "─────── + ─────────────────── + ─────────────────── - ─────────────────── + ──\n",
       "                    6                     7                     8             \n",
       "                   l                     l                     l              \n",
       "                                                                              \n",
       "       5                     6                     7                    8     \n",
       "47217⋅x    15545.3750967232⋅x    16184.9333558433⋅x    8807.5482104418⋅x    19\n",
       "──────── - ─────────────────── + ─────────────────── - ────────────────── + ──\n",
       "                     6                     7                    8             \n",
       "                    l                     l                    l              \n",
       "                                                                              \n",
       "       6                   7                     8                     9      \n",
       "54166⋅x    2680.451728399⋅x    5892.12414081106⋅x    5611.11819154287⋅x    258\n",
       "──────── + ───────────────── - ─────────────────── + ─────────────────── - ───\n",
       "                    7                    8                     9              \n",
       "                   l                    l                     l               \n",
       "                                                                              \n",
       "      6                     7                    8                     9      \n",
       "4666⋅x    406639.548271602⋅x    506927.87585919⋅x    385548.881808458⋅x    163\n",
       "─────── + ─────────────────── - ────────────────── + ─────────────────── - ───\n",
       "                    7                    8                     9              \n",
       "                   l                    l                     l               \n",
       "\n",
       "                9                       ⎤\n",
       "76706434631677⋅x                        ⎥\n",
       "─────────────────                       ⎥\n",
       "        9                               ⎥\n",
       "       l                                ⎥\n",
       "                                        ⎥\n",
       "                9                       ⎥\n",
       "57.23293565373⋅x                        ⎥\n",
       "─────────────────                       ⎥\n",
       "        9                               ⎥\n",
       "       l                                ⎥\n",
       "                                        ⎥\n",
       "               10                     11⎥\n",
       "1.05436281758⋅x     469.282611421378⋅x  ⎥\n",
       "───────────────── + ────────────────────⎥\n",
       "      10                     11         ⎥\n",
       "     l                      l           ⎥\n",
       "                                        ⎥\n",
       "               10                     11⎥\n",
       "738.945637183⋅x     29770.7173885787⋅x  ⎥\n",
       "───────────────── + ────────────────────⎥\n",
       "      10                     11         ⎥\n",
       "     l                      l           ⎦"
      ]
     },
     "execution_count": 142,
     "metadata": {},
     "output_type": "execute_result"
    }
   ],
   "source": [
    "INTPHISSQ = integrate(PHISSQ, x)\n",
    "INTPHISSQ.evalf()"
   ]
  },
  {
   "cell_type": "code",
   "execution_count": 172,
   "metadata": {},
   "outputs": [
    {
     "data": {
      "image/png": "[encoded data removed]",
      "text/plain": [
       "<matplotlib.figure.Figure at 0x14bb1467208>"
      ]
     },
     "metadata": {},
     "output_type": "display_data"
    },
    {
     "data": {
      "image/png": "[encoded data removed]",
      "text/plain": [
       "<matplotlib.figure.Figure at 0x14bafc36198>"
      ]
     },
     "metadata": {},
     "output_type": "display_data"
    },
    {
     "data": {
      "image/png": "[encoded data removed]",
      "text/plain": [
       "<matplotlib.figure.Figure at 0x14bb12e5b00>"
      ]
     },
     "metadata": {},
     "output_type": "display_data"
    },
    {
     "data": {
      "image/png": "[encoded data removed]",
      "text/plain": [
       "<matplotlib.figure.Figure at 0x14bb1622b70>"
      ]
     },
     "metadata": {},
     "output_type": "display_data"
    },
    {
     "data": {
      "text/plain": [
       "<sympy.plotting.plot.Plot at 0x14bb17ca198>"
      ]
     },
     "execution_count": 172,
     "metadata": {},
     "output_type": "execute_result"
    }
   ],
   "source": [
    "plot((PHIS.subs(l, 1)[0], (x, 0, 1)), (INTPHISSQ.subs(l, 1)[0], (x, 0, 1)))\n",
    "plot((PHIS.subs(l, 1)[1], (x, 0, 1)), (INTPHISSQ.subs(l, 1)[1], (x, 0, 1)))\n",
    "plot((PHIS.subs(l, 1)[2], (x, 0, 1)), (INTPHISSQ.subs(l, 1)[2], (x, 0, 1)))\n",
    "plot((PHIS.subs(l, 1)[3], (x, 0, 1)), (INTPHISSQ.subs(l, 1)[3], (x, 0, 1)))"
   ]
  },
  {
   "cell_type": "code",
   "execution_count": null,
   "metadata": {
    "collapsed": true
   },
   "outputs": [],
   "source": []
  }
 ],
 "metadata": {
  "kernelspec": {
   "display_name": "Python 3",
   "language": "python",
   "name": "python3"
  },
  "language_info": {
   "codemirror_mode": {
    "name": "ipython",
    "version": 3
   },
   "file_extension": ".py",
   "mimetype": "text/x-python",
   "name": "python",
   "nbconvert_exporter": "python",
   "pygments_lexer": "ipython3",
   "version": "3.6.1"
  }
 },
 "nbformat": 4,
 "nbformat_minor": 2
}
