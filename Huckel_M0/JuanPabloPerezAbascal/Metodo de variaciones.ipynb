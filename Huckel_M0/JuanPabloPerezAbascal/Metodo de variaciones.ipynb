{
 "cells": [
  {
   "cell_type": "code",
   "execution_count": 1,
   "metadata": {
    "collapsed": true
   },
   "outputs": [],
   "source": [
    "#Importando sympy\n",
    "from sympy import *\n",
    "\n",
    "#Impresión para \"jupyter notebook\"\n",
    "init_printing(use_latex = 'mathjax')"
   ]
  },
  {
   "cell_type": "code",
   "execution_count": 2,
   "metadata": {},
   "outputs": [
    {
     "data": {
      "text/latex": [
       "$$W$$"
      ],
      "text/plain": [
       "W"
      ]
     },
     "execution_count": 2,
     "metadata": {},
     "output_type": "execute_result"
    }
   ],
   "source": [
    "#Variables del Hamiltoniano\n",
    "var('x m hbar')\n",
    "\n",
    "#Variables del método de variaciones\n",
    "var('W')"
   ]
  },
  {
   "cell_type": "code",
   "execution_count": 3,
   "metadata": {
    "collapsed": true
   },
   "outputs": [],
   "source": [
    "#Definición de función: user_variables\n",
    "def user_variables(yn):\n",
    "    if yn == 1:\n",
    "        variable = ''\n",
    "        a = 0\n",
    "        print(\"\\nAñada las variables simbólicas que requiera. Cuando haya finalizado, ingrese 'done'.\")\n",
    "        while (variable != 'done'):\n",
    "            a = a + 1\n",
    "            variable = input(\"var_\"+str(a)+\" = \")\n",
    "            if variable != 'done':\n",
    "                var(variable)"
   ]
  },
  {
   "cell_type": "code",
   "execution_count": 4,
   "metadata": {
    "collapsed": true
   },
   "outputs": [],
   "source": [
    "#Definición de función: Hamiltonian\n",
    "def Hamiltonian(psi):\n",
    "    print(\"\\nLa energía cinética del sistema viene definida por: \")\n",
    "    print(\"\\n-(hbar**2/(2*m))*diff(psi, x, 2)\")\n",
    "    t = -(hbar**2/(2*m))*diff(psi, x, 2)\n",
    "    print(\"\\nDefina el potencial al que está sometida la partícula. Recuerde que sólo puede ultilizar las variables disponibles.\")\n",
    "    print(\"\\n¿Desea declarar más variables? (0:No; 1:Sí)\")\n",
    "    user_variables(int(input()))\n",
    "    v = sympify(input(\"V = \"))\n",
    "    return (t+v*psi)"
   ]
  },
  {
   "cell_type": "code",
   "execution_count": 5,
   "metadata": {},
   "outputs": [
    {
     "name": "stdout",
     "output_type": "stream",
     "text": [
      "El programa ya reconoce las variables simbolicas x, m, hbar y W.\n",
      "\n",
      "¿Desea declarar más variables? (0:No; 1:Sí)\n",
      "1\n",
      "\n",
      "Añada las variables simbólicas que requiera. Cuando haya finalizado, ingrese 'done'.\n",
      "var_1 = l\n",
      "var_2 = done\n"
     ]
    }
   ],
   "source": [
    "#Añadir variables simbólicas del usuario\n",
    "print(\"El programa ya reconoce las variables simbolicas x, m, hbar y W.\")\n",
    "print(\"\\n¿Desea declarar más variables? (0:No; 1:Sí)\")\n",
    "user_variables(int(input()))"
   ]
  },
  {
   "cell_type": "code",
   "execution_count": 6,
   "metadata": {},
   "outputs": [
    {
     "name": "stdout",
     "output_type": "stream",
     "text": [
      "Introduzca las funciones base, en función de 'x', que requiera. Cuando haya acabado introduzca: 'done'.\n",
      "f_1 = x*(l-x)\n",
      "f_2 = x**2*(l-x)**2\n",
      "f_3 = x*(l-x)*((l/2)-x)\n",
      "f_4 = x**2*(l-x)**2*((l/2)-x)\n",
      "f_5 = done\n",
      "\n",
      "Función variacional lineal:\n",
      "\n",
      "c_k*f_k = \n",
      "\n"
     ]
    },
    {
     "data": {
      "text/latex": [
       "$$\\left[\\begin{matrix}c_{1} x \\left(l - x\\right) + c_{2} x^{2} \\left(l - x\\right)^{2} + c_{3} x \\left(\\frac{l}{2} - x\\right) \\left(l - x\\right) + c_{4} x^{2} \\left(\\frac{l}{2} - x\\right) \\left(l - x\\right)^{2}\\end{matrix}\\right]$$"
      ],
      "text/plain": [
       "⎡                   2        2        ⎛l    ⎞               2 ⎛l    ⎞        2\n",
       "⎢c₁⋅x⋅(l - x) + c₂⋅x ⋅(l - x)  + c₃⋅x⋅⎜─ - x⎟⋅(l - x) + c₄⋅x ⋅⎜─ - x⎟⋅(l - x) \n",
       "⎣                                     ⎝2    ⎠                 ⎝2    ⎠         \n",
       "\n",
       "⎤\n",
       "⎥\n",
       "⎦"
      ]
     },
     "execution_count": 6,
     "metadata": {},
     "output_type": "execute_result"
    }
   ],
   "source": [
    "#Ingresar las funciones de base\n",
    "f = ''\n",
    "a = 0\n",
    "print(\"Introduzca las funciones base, en función de 'x', que requiera. Cuando haya acabado introduzca: 'done'.\")\n",
    "while (f != 'done'):\n",
    "    a = a + 1\n",
    "    f = input(\"f_\"+str(a)+\" = \")\n",
    "    if f != 'done':\n",
    "        if a == 1:\n",
    "            F = Matrix([sympify(f)])\n",
    "            C = Matrix([var('c'+str(a))])\n",
    "        else:\n",
    "            F = F.col_insert(a-1, Matrix([sympify(f)]))\n",
    "            C = C.row_insert(a-1, Matrix([[var('c'+str(a))]]))\n",
    "print(\"\\nFunción variacional lineal:\")\n",
    "print(\"\\nc_k*f_k = \\n\")\n",
    "F*C"
   ]
  },
  {
   "cell_type": "code",
   "execution_count": 7,
   "metadata": {},
   "outputs": [
    {
     "name": "stdout",
     "output_type": "stream",
     "text": [
      "\n",
      "S_j_k = \n",
      "\n"
     ]
    },
    {
     "data": {
      "text/latex": [
       "$$\\int_{x_{1}}^{x_{2}} \\left[\\begin{matrix}x^{2} \\left(l - x\\right)^{2} & x^{3} \\left(l - x\\right)^{3} & x^{2} \\left(\\frac{l}{2} - x\\right) \\left(l - x\\right)^{2} & x^{3} \\left(\\frac{l}{2} - x\\right) \\left(l - x\\right)^{3}\\\\x^{3} \\left(l - x\\right)^{3} & x^{4} \\left(l - x\\right)^{4} & x^{3} \\left(\\frac{l}{2} - x\\right) \\left(l - x\\right)^{3} & x^{4} \\left(\\frac{l}{2} - x\\right) \\left(l - x\\right)^{4}\\\\x^{2} \\left(\\frac{l}{2} - x\\right) \\left(l - x\\right)^{2} & x^{3} \\left(\\frac{l}{2} - x\\right) \\left(l - x\\right)^{3} & x^{2} \\left(\\frac{l}{2} - x\\right)^{2} \\left(l - x\\right)^{2} & x^{3} \\left(\\frac{l}{2} - x\\right)^{2} \\left(l - x\\right)^{3}\\\\x^{3} \\left(\\frac{l}{2} - x\\right) \\left(l - x\\right)^{3} & x^{4} \\left(\\frac{l}{2} - x\\right) \\left(l - x\\right)^{4} & x^{3} \\left(\\frac{l}{2} - x\\right)^{2} \\left(l - x\\right)^{3} & x^{4} \\left(\\frac{l}{2} - x\\right)^{2} \\left(l - x\\right)^{4}\\end{matrix}\\right]\\, dx$$"
      ],
      "text/plain": [
       "x₂                                                                            \n",
       "⌠                                                                             \n",
       "⎮  ⎡     2        2           3        3       2 ⎛l    ⎞        2    3 ⎛l    ⎞\n",
       "⎮  ⎢    x ⋅(l - x)           x ⋅(l - x)       x ⋅⎜─ - x⎟⋅(l - x)    x ⋅⎜─ - x⎟\n",
       "⎮  ⎢                                             ⎝2    ⎠               ⎝2    ⎠\n",
       "⎮  ⎢                                                                          \n",
       "⎮  ⎢     3        3           4        4       3 ⎛l    ⎞        3    4 ⎛l    ⎞\n",
       "⎮  ⎢    x ⋅(l - x)           x ⋅(l - x)       x ⋅⎜─ - x⎟⋅(l - x)    x ⋅⎜─ - x⎟\n",
       "⎮  ⎢                                             ⎝2    ⎠               ⎝2    ⎠\n",
       "⎮  ⎢                                                                          \n",
       "⎮  ⎢                                                    2                     \n",
       "⎮  ⎢ 2 ⎛l    ⎞        2   3 ⎛l    ⎞        3   2 ⎛l    ⎞         2   3 ⎛l    ⎞\n",
       "⎮  ⎢x ⋅⎜─ - x⎟⋅(l - x)   x ⋅⎜─ - x⎟⋅(l - x)   x ⋅⎜─ - x⎟ ⋅(l - x)   x ⋅⎜─ - x⎟\n",
       "⎮  ⎢   ⎝2    ⎠              ⎝2    ⎠              ⎝2    ⎠               ⎝2    ⎠\n",
       "⎮  ⎢                                                                          \n",
       "⎮  ⎢                                                    2                     \n",
       "⎮  ⎢ 3 ⎛l    ⎞        3   4 ⎛l    ⎞        4   3 ⎛l    ⎞         3   4 ⎛l    ⎞\n",
       "⎮  ⎢x ⋅⎜─ - x⎟⋅(l - x)   x ⋅⎜─ - x⎟⋅(l - x)   x ⋅⎜─ - x⎟ ⋅(l - x)   x ⋅⎜─ - x⎟\n",
       "⎮  ⎣   ⎝2    ⎠              ⎝2    ⎠              ⎝2    ⎠               ⎝2    ⎠\n",
       "⌡                                                                             \n",
       "x₁                                                                            \n",
       "\n",
       "              \n",
       "              \n",
       "        3 ⎤   \n",
       "⋅(l - x)  ⎥ dx\n",
       "          ⎥   \n",
       "          ⎥   \n",
       "        4 ⎥   \n",
       "⋅(l - x)  ⎥   \n",
       "          ⎥   \n",
       "          ⎥   \n",
       "2         ⎥   \n",
       "         3⎥   \n",
       " ⋅(l - x) ⎥   \n",
       "          ⎥   \n",
       "          ⎥   \n",
       "2         ⎥   \n",
       "         4⎥   \n",
       " ⋅(l - x) ⎥   \n",
       "          ⎦   \n",
       "              \n",
       "              "
      ]
     },
     "execution_count": 7,
     "metadata": {},
     "output_type": "execute_result"
    }
   ],
   "source": [
    "#Calcular integral de solapamiento\n",
    "var('x1, x2')\n",
    "S = Integral(F.T*F, (x, x1, x2))\n",
    "print(\"\\nS_j_k = \\n\")\n",
    "S"
   ]
  },
  {
   "cell_type": "code",
   "execution_count": 8,
   "metadata": {},
   "outputs": [
    {
     "name": "stdout",
     "output_type": "stream",
     "text": [
      "Para calcular la integral de solapamiento 'S_j_k' ingrese los límites de integración los mismos límites serán utilizados para calcular la integral variacional 'H_j_k'. Recuerde las variables que tiene a su disposición, incluyendo las que usted declaró.\n",
      "\n",
      "x1 = 0\n",
      "x2 = l\n",
      "\n",
      "S = \n",
      "\n"
     ]
    },
    {
     "data": {
      "text/latex": [
       "$$\\left[\\begin{matrix}\\frac{l^{5}}{30} & \\frac{l^{7}}{140} & 0 & 0\\\\\\frac{l^{7}}{140} & \\frac{l^{9}}{630} & 0 & 0\\\\0 & 0 & \\frac{l^{7}}{840} & \\frac{l^{9}}{5040}\\\\0 & 0 & \\frac{l^{9}}{5040} & \\frac{l^{11}}{27720}\\end{matrix}\\right]$$"
      ],
      "text/plain": [
       "⎡ 5     7             ⎤\n",
       "⎢l     l              ⎥\n",
       "⎢──   ───   0      0  ⎥\n",
       "⎢30   140             ⎥\n",
       "⎢                     ⎥\n",
       "⎢  7    9             ⎥\n",
       "⎢ l    l              ⎥\n",
       "⎢───  ───   0      0  ⎥\n",
       "⎢140  630             ⎥\n",
       "⎢                     ⎥\n",
       "⎢            7     9  ⎥\n",
       "⎢           l     l   ⎥\n",
       "⎢ 0    0   ───   ──── ⎥\n",
       "⎢          840   5040 ⎥\n",
       "⎢                     ⎥\n",
       "⎢            9     11 ⎥\n",
       "⎢           l     l   ⎥\n",
       "⎢ 0    0   ────  ─────⎥\n",
       "⎣          5040  27720⎦"
      ]
     },
     "execution_count": 8,
     "metadata": {},
     "output_type": "execute_result"
    }
   ],
   "source": [
    "print(\"Para calcular la integral de solapamiento 'S_j_k' ingrese los límites de integración los mismos límites serán utilizados para calcular la integral variacional 'H_j_k'. Recuerde las variables que tiene a su disposición, incluyendo las que usted declaró.\")\n",
    "x1 = sympify(input(\"\\nx1 = \"))\n",
    "x2 = sympify(input(\"x2 = \"))\n",
    "S = integrate(F.T*F, (x, x1, x2))\n",
    "print(\"\\nS = \\n\")\n",
    "S"
   ]
  },
  {
   "cell_type": "code",
   "execution_count": 9,
   "metadata": {},
   "outputs": [
    {
     "name": "stdout",
     "output_type": "stream",
     "text": [
      "\n",
      "La energía cinética del sistema viene definida por: \n",
      "\n",
      "-(hbar**2/(2*m))*diff(psi, x, 2)\n",
      "\n",
      "Defina el potencial al que está sometida la partícula. Recuerde que sólo puede ultilizar las variables disponibles.\n",
      "\n",
      "¿Desea declarar más variables? (0:No; 1:Sí)\n",
      "0\n",
      "V = 0\n"
     ]
    },
    {
     "data": {
      "text/latex": [
       "$$\\left[\\begin{matrix}\\frac{\\hbar^{2} x}{m} \\left(l - x\\right) & - \\frac{\\hbar^{2} x}{m} \\left(l - x\\right) \\left(x^{2} - 4 x \\left(l - x\\right) + \\left(l - x\\right)^{2}\\right) & - \\frac{3 \\hbar^{2} x}{2 m} \\left(- l + 2 x\\right) \\left(l - x\\right) & - \\frac{\\hbar^{2} x}{m} \\left(l - x\\right) \\left(\\frac{x^{2}}{2} \\left(l - 2 x\\right) + 2 x^{2} \\left(l - x\\right) - 2 x \\left(l - 2 x\\right) \\left(l - x\\right) - 2 x \\left(l - x\\right)^{2} + \\frac{1}{2} \\left(l - 2 x\\right) \\left(l - x\\right)^{2}\\right)\\\\\\frac{\\hbar^{2} x^{2}}{m} \\left(l - x\\right)^{2} & - \\frac{\\hbar^{2} x^{2}}{m} \\left(l - x\\right)^{2} \\left(x^{2} - 4 x \\left(l - x\\right) + \\left(l - x\\right)^{2}\\right) & - \\frac{3 \\hbar^{2} x^{2}}{2 m} \\left(- l + 2 x\\right) \\left(l - x\\right)^{2} & - \\frac{\\hbar^{2} x^{2}}{m} \\left(l - x\\right)^{2} \\left(\\frac{x^{2}}{2} \\left(l - 2 x\\right) + 2 x^{2} \\left(l - x\\right) - 2 x \\left(l - 2 x\\right) \\left(l - x\\right) - 2 x \\left(l - x\\right)^{2} + \\frac{1}{2} \\left(l - 2 x\\right) \\left(l - x\\right)^{2}\\right)\\\\\\frac{\\hbar^{2} x}{m} \\left(\\frac{l}{2} - x\\right) \\left(l - x\\right) & - \\frac{\\hbar^{2} x}{m} \\left(\\frac{l}{2} - x\\right) \\left(l - x\\right) \\left(x^{2} - 4 x \\left(l - x\\right) + \\left(l - x\\right)^{2}\\right) & - \\frac{3 \\hbar^{2} x}{2 m} \\left(- l + 2 x\\right) \\left(\\frac{l}{2} - x\\right) \\left(l - x\\right) & - \\frac{\\hbar^{2} x}{m} \\left(\\frac{l}{2} - x\\right) \\left(l - x\\right) \\left(\\frac{x^{2}}{2} \\left(l - 2 x\\right) + 2 x^{2} \\left(l - x\\right) - 2 x \\left(l - 2 x\\right) \\left(l - x\\right) - 2 x \\left(l - x\\right)^{2} + \\frac{1}{2} \\left(l - 2 x\\right) \\left(l - x\\right)^{2}\\right)\\\\\\frac{\\hbar^{2} x^{2}}{m} \\left(\\frac{l}{2} - x\\right) \\left(l - x\\right)^{2} & - \\frac{\\hbar^{2} x^{2}}{m} \\left(\\frac{l}{2} - x\\right) \\left(l - x\\right)^{2} \\left(x^{2} - 4 x \\left(l - x\\right) + \\left(l - x\\right)^{2}\\right) & - \\frac{3 \\hbar^{2} x^{2}}{2 m} \\left(- l + 2 x\\right) \\left(\\frac{l}{2} - x\\right) \\left(l - x\\right)^{2} & - \\frac{\\hbar^{2} x^{2}}{m} \\left(\\frac{l}{2} - x\\right) \\left(l - x\\right)^{2} \\left(\\frac{x^{2}}{2} \\left(l - 2 x\\right) + 2 x^{2} \\left(l - x\\right) - 2 x \\left(l - 2 x\\right) \\left(l - x\\right) - 2 x \\left(l - x\\right)^{2} + \\frac{1}{2} \\left(l - 2 x\\right) \\left(l - x\\right)^{2}\\right)\\end{matrix}\\right]$$"
      ],
      "text/plain": [
       "⎡                                                                             \n",
       "⎢                                                                             \n",
       "⎢       2                         2           ⎛ 2                        2⎞   \n",
       "⎢     h̅ ⋅x⋅(l - x)            -h̅ ⋅x⋅(l - x)⋅⎝x  - 4⋅x⋅(l - x) + (l - x) ⎠   \n",
       "⎢     ─────────────            ─────────────────────────────────────────────  \n",
       "⎢           m                                        m                        \n",
       "⎢                                                                             \n",
       "⎢                                                                             \n",
       "⎢                                                                             \n",
       "⎢      2  2        2             2  2        2 ⎛ 2                        2⎞  \n",
       "⎢    h̅ ⋅x ⋅(l - x)           -h̅ ⋅x ⋅(l - x) ⋅⎝x  - 4⋅x⋅(l - x) + (l - x) ⎠  \n",
       "⎢    ───────────────          ─────────────────────────────────────────────── \n",
       "⎢           m                                        m                        \n",
       "⎢                                                                             \n",
       "⎢                                                                             \n",
       "⎢   2   ⎛l    ⎞               2   ⎛l    ⎞         ⎛ 2                        2\n",
       "⎢ h̅ ⋅x⋅⎜─ - x⎟⋅(l - x)    -h̅ ⋅x⋅⎜─ - x⎟⋅(l - x)⋅⎝x  - 4⋅x⋅(l - x) + (l - x) \n",
       "⎢       ⎝2    ⎠                   ⎝2    ⎠                                     \n",
       "⎢ ─────────────────────    ───────────────────────────────────────────────────\n",
       "⎢           m                                        m                        \n",
       "⎢                                                                             \n",
       "⎢                                                                             \n",
       "⎢  2  2 ⎛l    ⎞        2     2  2 ⎛l    ⎞        2 ⎛ 2                        \n",
       "⎢h̅ ⋅x ⋅⎜─ - x⎟⋅(l - x)   -h̅ ⋅x ⋅⎜─ - x⎟⋅(l - x) ⋅⎝x  - 4⋅x⋅(l - x) + (l - x)\n",
       "⎢       ⎝2    ⎠                   ⎝2    ⎠                                     \n",
       "⎢───────────────────────  ────────────────────────────────────────────────────\n",
       "⎣           m                                        m                        \n",
       "\n",
       "                                                                 ⎛ 2          \n",
       "                                                     2           ⎜x ⋅(l - 2⋅x)\n",
       "               2                                  -h̅ ⋅x⋅(l - x)⋅⎜────────────\n",
       "          -3⋅h̅ ⋅x⋅(-l + 2⋅x)⋅(l - x)                            ⎝     2      \n",
       "          ────────────────────────────            ────────────────────────────\n",
       "                      2⋅m                                                     \n",
       "                                                                              \n",
       "                                                                  ⎛ 2         \n",
       "                                                    2  2        2 ⎜x ⋅(l - 2⋅x\n",
       "              2  2                   2           -h̅ ⋅x ⋅(l - x) ⋅⎜───────────\n",
       "         -3⋅h̅ ⋅x ⋅(-l + 2⋅x)⋅(l - x)                             ⎝     2     \n",
       "         ──────────────────────────────          ─────────────────────────────\n",
       "                      2⋅m                                                     \n",
       "                                                                              \n",
       "                                                                     ⎛ 2      \n",
       "⎞          2              ⎛l    ⎞                2   ⎛l    ⎞         ⎜x ⋅(l - \n",
       "⎠     -3⋅h̅ ⋅x⋅(-l + 2⋅x)⋅⎜─ - x⎟⋅(l - x)     -h̅ ⋅x⋅⎜─ - x⎟⋅(l - x)⋅⎜────────\n",
       "                          ⎝2    ⎠                    ⎝2    ⎠         ⎝     2  \n",
       "──    ────────────────────────────────────    ────────────────────────────────\n",
       "                      2⋅m                                                     \n",
       "                                                                              \n",
       "                                                                      ⎛ 2     \n",
       "2⎞        2  2            ⎛l    ⎞        2      2  2 ⎛l    ⎞        2 ⎜x ⋅(l -\n",
       " ⎠   -3⋅h̅ ⋅x ⋅(-l + 2⋅x)⋅⎜─ - x⎟⋅(l - x)    -h̅ ⋅x ⋅⎜─ - x⎟⋅(l - x) ⋅⎜───────\n",
       "                          ⎝2    ⎠                    ⎝2    ⎠          ⎝     2 \n",
       "───  ──────────────────────────────────────  ─────────────────────────────────\n",
       "                      2⋅m                                                     \n",
       "\n",
       "                                                                          2⎞  \n",
       "      2                                              2   (l - 2⋅x)⋅(l - x) ⎟  \n",
       " + 2⋅x ⋅(l - x) - 2⋅x⋅(l - 2⋅x)⋅(l - x) - 2⋅x⋅(l - x)  + ──────────────────⎟  \n",
       "                                                                 2         ⎠  \n",
       "───────────────────────────────────────────────────────────────────────────── \n",
       "                        m                                                     \n",
       "                                                                              \n",
       "                                                                           2⎞ \n",
       ")      2                                              2   (l - 2⋅x)⋅(l - x) ⎟ \n",
       "─ + 2⋅x ⋅(l - x) - 2⋅x⋅(l - 2⋅x)⋅(l - x) - 2⋅x⋅(l - x)  + ──────────────────⎟ \n",
       "                                                                  2         ⎠ \n",
       "──────────────────────────────────────────────────────────────────────────────\n",
       "                        m                                                     \n",
       "                                                                              \n",
       "                                                                              \n",
       "2⋅x)      2                                              2   (l - 2⋅x)⋅(l - x)\n",
       "──── + 2⋅x ⋅(l - x) - 2⋅x⋅(l - 2⋅x)⋅(l - x) - 2⋅x⋅(l - x)  + ─────────────────\n",
       "                                                                     2        \n",
       "──────────────────────────────────────────────────────────────────────────────\n",
       "                        m                                                     \n",
       "                                                                              \n",
       "                                                                              \n",
       " 2⋅x)      2                                              2   (l - 2⋅x)⋅(l - x\n",
       "───── + 2⋅x ⋅(l - x) - 2⋅x⋅(l - 2⋅x)⋅(l - x) - 2⋅x⋅(l - x)  + ────────────────\n",
       "                                                                      2       \n",
       "──────────────────────────────────────────────────────────────────────────────\n",
       "                        m                                                     \n",
       "\n",
       "    ⎤\n",
       "    ⎥\n",
       "    ⎥\n",
       "    ⎥\n",
       "    ⎥\n",
       "    ⎥\n",
       "    ⎥\n",
       "    ⎥\n",
       "    ⎥\n",
       "    ⎥\n",
       "    ⎥\n",
       "    ⎥\n",
       "    ⎥\n",
       "    ⎥\n",
       "2⎞  ⎥\n",
       " ⎟  ⎥\n",
       "─⎟  ⎥\n",
       " ⎠  ⎥\n",
       "─── ⎥\n",
       "    ⎥\n",
       "    ⎥\n",
       " 2⎞ ⎥\n",
       ") ⎟ ⎥\n",
       "──⎟ ⎥\n",
       "  ⎠ ⎥\n",
       "────⎥\n",
       "    ⎦"
      ]
     },
     "execution_count": 9,
     "metadata": {},
     "output_type": "execute_result"
    }
   ],
   "source": [
    "F.T*Hamiltonian(F)"
   ]
  },
  {
   "cell_type": "code",
   "execution_count": 10,
   "metadata": {},
   "outputs": [
    {
     "name": "stdout",
     "output_type": "stream",
     "text": [
      "\n",
      "La energía cinética del sistema viene definida por: \n",
      "\n",
      "-(hbar**2/(2*m))*diff(psi, x, 2)\n",
      "\n",
      "Defina el potencial al que está sometida la partícula. Recuerde que sólo puede ultilizar las variables disponibles.\n",
      "\n",
      "¿Desea declarar más variables? (0:No; 1:Sí)\n",
      "0\n",
      "V = 0\n",
      "\n",
      "H = \n",
      "\n"
     ]
    },
    {
     "data": {
      "text/latex": [
       "$$\\int_{0}^{l} \\left[\\begin{matrix}\\frac{\\hbar^{2} x}{m} \\left(l - x\\right) & - \\frac{\\hbar^{2} x}{m} \\left(l - x\\right) \\left(x^{2} - 4 x \\left(l - x\\right) + \\left(l - x\\right)^{2}\\right) & - \\frac{3 \\hbar^{2} x}{2 m} \\left(- l + 2 x\\right) \\left(l - x\\right) & - \\frac{\\hbar^{2} x}{m} \\left(l - x\\right) \\left(\\frac{x^{2}}{2} \\left(l - 2 x\\right) + 2 x^{2} \\left(l - x\\right) - 2 x \\left(l - 2 x\\right) \\left(l - x\\right) - 2 x \\left(l - x\\right)^{2} + \\frac{1}{2} \\left(l - 2 x\\right) \\left(l - x\\right)^{2}\\right)\\\\\\frac{\\hbar^{2} x^{2}}{m} \\left(l - x\\right)^{2} & - \\frac{\\hbar^{2} x^{2}}{m} \\left(l - x\\right)^{2} \\left(x^{2} - 4 x \\left(l - x\\right) + \\left(l - x\\right)^{2}\\right) & - \\frac{3 \\hbar^{2} x^{2}}{2 m} \\left(- l + 2 x\\right) \\left(l - x\\right)^{2} & - \\frac{\\hbar^{2} x^{2}}{m} \\left(l - x\\right)^{2} \\left(\\frac{x^{2}}{2} \\left(l - 2 x\\right) + 2 x^{2} \\left(l - x\\right) - 2 x \\left(l - 2 x\\right) \\left(l - x\\right) - 2 x \\left(l - x\\right)^{2} + \\frac{1}{2} \\left(l - 2 x\\right) \\left(l - x\\right)^{2}\\right)\\\\\\frac{\\hbar^{2} x}{m} \\left(\\frac{l}{2} - x\\right) \\left(l - x\\right) & - \\frac{\\hbar^{2} x}{m} \\left(\\frac{l}{2} - x\\right) \\left(l - x\\right) \\left(x^{2} - 4 x \\left(l - x\\right) + \\left(l - x\\right)^{2}\\right) & - \\frac{3 \\hbar^{2} x}{2 m} \\left(- l + 2 x\\right) \\left(\\frac{l}{2} - x\\right) \\left(l - x\\right) & - \\frac{\\hbar^{2} x}{m} \\left(\\frac{l}{2} - x\\right) \\left(l - x\\right) \\left(\\frac{x^{2}}{2} \\left(l - 2 x\\right) + 2 x^{2} \\left(l - x\\right) - 2 x \\left(l - 2 x\\right) \\left(l - x\\right) - 2 x \\left(l - x\\right)^{2} + \\frac{1}{2} \\left(l - 2 x\\right) \\left(l - x\\right)^{2}\\right)\\\\\\frac{\\hbar^{2} x^{2}}{m} \\left(\\frac{l}{2} - x\\right) \\left(l - x\\right)^{2} & - \\frac{\\hbar^{2} x^{2}}{m} \\left(\\frac{l}{2} - x\\right) \\left(l - x\\right)^{2} \\left(x^{2} - 4 x \\left(l - x\\right) + \\left(l - x\\right)^{2}\\right) & - \\frac{3 \\hbar^{2} x^{2}}{2 m} \\left(- l + 2 x\\right) \\left(\\frac{l}{2} - x\\right) \\left(l - x\\right)^{2} & - \\frac{\\hbar^{2} x^{2}}{m} \\left(\\frac{l}{2} - x\\right) \\left(l - x\\right)^{2} \\left(\\frac{x^{2}}{2} \\left(l - 2 x\\right) + 2 x^{2} \\left(l - x\\right) - 2 x \\left(l - 2 x\\right) \\left(l - x\\right) - 2 x \\left(l - x\\right)^{2} + \\frac{1}{2} \\left(l - 2 x\\right) \\left(l - x\\right)^{2}\\right)\\end{matrix}\\right]\\, dx$$"
      ],
      "text/plain": [
       "l                                                                             \n",
       "⌠                                                                             \n",
       "⎮ ⎡                                                                           \n",
       "⎮ ⎢                                                                           \n",
       "⎮ ⎢       2                         2           ⎛ 2                        2⎞ \n",
       "⎮ ⎢     h̅ ⋅x⋅(l - x)            -h̅ ⋅x⋅(l - x)⋅⎝x  - 4⋅x⋅(l - x) + (l - x) ⎠ \n",
       "⎮ ⎢     ─────────────            ─────────────────────────────────────────────\n",
       "⎮ ⎢           m                                        m                      \n",
       "⎮ ⎢                                                                           \n",
       "⎮ ⎢                                                                           \n",
       "⎮ ⎢                                                                           \n",
       "⎮ ⎢      2  2        2             2  2        2 ⎛ 2                        2⎞\n",
       "⎮ ⎢    h̅ ⋅x ⋅(l - x)           -h̅ ⋅x ⋅(l - x) ⋅⎝x  - 4⋅x⋅(l - x) + (l - x) ⎠\n",
       "⎮ ⎢    ───────────────          ──────────────────────────────────────────────\n",
       "⎮ ⎢           m                                        m                      \n",
       "⎮ ⎢                                                                           \n",
       "⎮ ⎢                                                                           \n",
       "⎮ ⎢   2   ⎛l    ⎞               2   ⎛l    ⎞         ⎛ 2                       \n",
       "⎮ ⎢ h̅ ⋅x⋅⎜─ - x⎟⋅(l - x)    -h̅ ⋅x⋅⎜─ - x⎟⋅(l - x)⋅⎝x  - 4⋅x⋅(l - x) + (l - x\n",
       "⎮ ⎢       ⎝2    ⎠                   ⎝2    ⎠                                   \n",
       "⎮ ⎢ ─────────────────────    ─────────────────────────────────────────────────\n",
       "⎮ ⎢           m                                        m                      \n",
       "⎮ ⎢                                                                           \n",
       "⎮ ⎢                                                                           \n",
       "⎮ ⎢  2  2 ⎛l    ⎞        2     2  2 ⎛l    ⎞        2 ⎛ 2                      \n",
       "⎮ ⎢h̅ ⋅x ⋅⎜─ - x⎟⋅(l - x)   -h̅ ⋅x ⋅⎜─ - x⎟⋅(l - x) ⋅⎝x  - 4⋅x⋅(l - x) + (l - \n",
       "⎮ ⎢       ⎝2    ⎠                   ⎝2    ⎠                                   \n",
       "⎮ ⎢───────────────────────  ──────────────────────────────────────────────────\n",
       "⎮ ⎣           m                                        m                      \n",
       "⌡                                                                             \n",
       "0                                                                             \n",
       "\n",
       "                                                                              \n",
       "                                                                              \n",
       "                                                                   ⎛ 2        \n",
       "                                                       2           ⎜x ⋅(l - 2⋅\n",
       "                 2                                  -h̅ ⋅x⋅(l - x)⋅⎜──────────\n",
       "            -3⋅h̅ ⋅x⋅(-l + 2⋅x)⋅(l - x)                            ⎝     2    \n",
       "            ────────────────────────────            ──────────────────────────\n",
       "                        2⋅m                                                   \n",
       "                                                                              \n",
       "                                                                    ⎛ 2       \n",
       "                                                      2  2        2 ⎜x ⋅(l - 2\n",
       "                2  2                   2           -h̅ ⋅x ⋅(l - x) ⋅⎜─────────\n",
       "           -3⋅h̅ ⋅x ⋅(-l + 2⋅x)⋅(l - x)                             ⎝     2   \n",
       "─          ──────────────────────────────          ───────────────────────────\n",
       "                        2⋅m                                                   \n",
       "                                                                              \n",
       "                                                                       ⎛ 2    \n",
       " 2⎞          2              ⎛l    ⎞                2   ⎛l    ⎞         ⎜x ⋅(l \n",
       ") ⎠     -3⋅h̅ ⋅x⋅(-l + 2⋅x)⋅⎜─ - x⎟⋅(l - x)     -h̅ ⋅x⋅⎜─ - x⎟⋅(l - x)⋅⎜──────\n",
       "                            ⎝2    ⎠                    ⎝2    ⎠         ⎝     2\n",
       "────    ────────────────────────────────────    ──────────────────────────────\n",
       "                        2⋅m                                                   \n",
       "                                                                              \n",
       "                                                                        ⎛ 2   \n",
       "  2⎞        2  2            ⎛l    ⎞        2      2  2 ⎛l    ⎞        2 ⎜x ⋅(l\n",
       "x) ⎠   -3⋅h̅ ⋅x ⋅(-l + 2⋅x)⋅⎜─ - x⎟⋅(l - x)    -h̅ ⋅x ⋅⎜─ - x⎟⋅(l - x) ⋅⎜─────\n",
       "                            ⎝2    ⎠                    ⎝2    ⎠          ⎝     \n",
       "─────  ──────────────────────────────────────  ───────────────────────────────\n",
       "                        2⋅m                                                   \n",
       "                                                                              \n",
       "                                                                              \n",
       "\n",
       "                                                                              \n",
       "                                                                              \n",
       "                                                                            2⎞\n",
       "x)      2                                              2   (l - 2⋅x)⋅(l - x) ⎟\n",
       "── + 2⋅x ⋅(l - x) - 2⋅x⋅(l - 2⋅x)⋅(l - x) - 2⋅x⋅(l - x)  + ──────────────────⎟\n",
       "                                                                   2         ⎠\n",
       "──────────────────────────────────────────────────────────────────────────────\n",
       "                          m                                                   \n",
       "                                                                              \n",
       "                                                                             2\n",
       "⋅x)      2                                              2   (l - 2⋅x)⋅(l - x) \n",
       "─── + 2⋅x ⋅(l - x) - 2⋅x⋅(l - 2⋅x)⋅(l - x) - 2⋅x⋅(l - x)  + ──────────────────\n",
       "                                                                    2         \n",
       "──────────────────────────────────────────────────────────────────────────────\n",
       "                          m                                                   \n",
       "                                                                              \n",
       "                                                                              \n",
       "- 2⋅x)      2                                              2   (l - 2⋅x)⋅(l - \n",
       "────── + 2⋅x ⋅(l - x) - 2⋅x⋅(l - 2⋅x)⋅(l - x) - 2⋅x⋅(l - x)  + ───────────────\n",
       "                                                                       2      \n",
       "──────────────────────────────────────────────────────────────────────────────\n",
       "                          m                                                   \n",
       "                                                                              \n",
       "                                                                              \n",
       " - 2⋅x)      2                                              2   (l - 2⋅x)⋅(l -\n",
       "─────── + 2⋅x ⋅(l - x) - 2⋅x⋅(l - 2⋅x)⋅(l - x) - 2⋅x⋅(l - x)  + ──────────────\n",
       "2                                                                       2     \n",
       "──────────────────────────────────────────────────────────────────────────────\n",
       "                          m                                                   \n",
       "                                                                              \n",
       "                                                                              \n",
       "\n",
       "          \n",
       "          \n",
       "      ⎤   \n",
       "      ⎥   \n",
       "      ⎥   \n",
       "      ⎥   \n",
       "─     ⎥ dx\n",
       "      ⎥   \n",
       "      ⎥   \n",
       "⎞     ⎥   \n",
       "⎟     ⎥   \n",
       "⎟     ⎥   \n",
       "⎠     ⎥   \n",
       "──    ⎥   \n",
       "      ⎥   \n",
       "      ⎥   \n",
       "  2⎞  ⎥   \n",
       "x) ⎟  ⎥   \n",
       "───⎟  ⎥   \n",
       "   ⎠  ⎥   \n",
       "───── ⎥   \n",
       "      ⎥   \n",
       "      ⎥   \n",
       "   2⎞ ⎥   \n",
       " x) ⎟ ⎥   \n",
       "────⎟ ⎥   \n",
       "    ⎠ ⎥   \n",
       "──────⎥   \n",
       "      ⎦   \n",
       "          \n",
       "          "
      ]
     },
     "execution_count": 10,
     "metadata": {},
     "output_type": "execute_result"
    }
   ],
   "source": [
    "#Calcular integral variacional\n",
    "H = Integral(F.T*Hamiltonian(F), (x, x1, x2))\n",
    "print(\"\\nH = \\n\")\n",
    "H"
   ]
  },
  {
   "cell_type": "code",
   "execution_count": 11,
   "metadata": {},
   "outputs": [
    {
     "name": "stdout",
     "output_type": "stream",
     "text": [
      "Se utilizaron los mismos límites de integración que ingresó para la integral de solapamiento.\n",
      "\n",
      "H = \n",
      "\n"
     ]
    },
    {
     "data": {
      "text/latex": [
       "$$\\left[\\begin{matrix}\\frac{\\hbar^{2} l^{3}}{6 m} & \\frac{\\hbar^{2} l^{5}}{30 m} & 0 & 0\\\\\\frac{\\hbar^{2} l^{5}}{30 m} & \\frac{\\hbar^{2} l^{7}}{105 m} & 0 & 0\\\\0 & 0 & \\frac{\\hbar^{2} l^{5}}{40 m} & \\frac{\\hbar^{2} l^{7}}{280 m}\\\\0 & 0 & \\frac{\\hbar^{2} l^{7}}{280 m} & \\frac{\\hbar^{2} l^{9}}{1260 m}\\end{matrix}\\right]$$"
      ],
      "text/plain": [
       "⎡  2  3    2  5                ⎤\n",
       "⎢h̅ ⋅l   h̅ ⋅l                 ⎥\n",
       "⎢──────  ──────    0       0   ⎥\n",
       "⎢ 6⋅m     30⋅m                 ⎥\n",
       "⎢                              ⎥\n",
       "⎢  2  5    2  7                ⎥\n",
       "⎢h̅ ⋅l   h̅ ⋅l                 ⎥\n",
       "⎢──────  ──────    0       0   ⎥\n",
       "⎢ 30⋅m   105⋅m                 ⎥\n",
       "⎢                              ⎥\n",
       "⎢                  2  5    2  7⎥\n",
       "⎢                h̅ ⋅l   h̅ ⋅l ⎥\n",
       "⎢  0       0     ──────  ──────⎥\n",
       "⎢                 40⋅m   280⋅m ⎥\n",
       "⎢                              ⎥\n",
       "⎢                  2  7    2  9⎥\n",
       "⎢                h̅ ⋅l   h̅ ⋅l ⎥\n",
       "⎢  0       0     ──────  ──────⎥\n",
       "⎣                280⋅m   1260⋅m⎦"
      ]
     },
     "execution_count": 11,
     "metadata": {},
     "output_type": "execute_result"
    }
   ],
   "source": [
    "H = H.doit()\n",
    "print(\"Se utilizaron los mismos límites de integración que ingresó para la integral de solapamiento.\")\n",
    "print(\"\\nH = \\n\")\n",
    "H"
   ]
  },
  {
   "cell_type": "code",
   "execution_count": 12,
   "metadata": {},
   "outputs": [
    {
     "name": "stdout",
     "output_type": "stream",
     "text": [
      "\n",
      "Calculando energías del sistema...\n"
     ]
    },
    {
     "data": {
      "text/latex": [
       "$$\\left[\\begin{matrix}- \\frac{W l^{5}}{30} + \\frac{\\hbar^{2} l^{3}}{6 m} & - \\frac{W l^{7}}{140} + \\frac{\\hbar^{2} l^{5}}{30 m} & 0 & 0\\\\- \\frac{W l^{7}}{140} + \\frac{\\hbar^{2} l^{5}}{30 m} & - \\frac{W l^{9}}{630} + \\frac{\\hbar^{2} l^{7}}{105 m} & 0 & 0\\\\0 & 0 & - \\frac{W l^{7}}{840} + \\frac{\\hbar^{2} l^{5}}{40 m} & - \\frac{W l^{9}}{5040} + \\frac{\\hbar^{2} l^{7}}{280 m}\\\\0 & 0 & - \\frac{W l^{9}}{5040} + \\frac{\\hbar^{2} l^{7}}{280 m} & - \\frac{W l^{11}}{27720} + \\frac{\\hbar^{2} l^{9}}{1260 m}\\end{matrix}\\right]$$"
      ],
      "text/plain": [
       "⎡     5     2  3       7     2  5                                   ⎤\n",
       "⎢  W⋅l    h̅ ⋅l     W⋅l    h̅ ⋅l                                    ⎥\n",
       "⎢- ──── + ──────  - ──── + ──────         0                0        ⎥\n",
       "⎢   30     6⋅m      140     30⋅m                                    ⎥\n",
       "⎢                                                                   ⎥\n",
       "⎢     7     2  5       9     2  7                                   ⎥\n",
       "⎢  W⋅l    h̅ ⋅l     W⋅l    h̅ ⋅l                                    ⎥\n",
       "⎢- ──── + ──────  - ──── + ──────         0                0        ⎥\n",
       "⎢  140     30⋅m     630    105⋅m                                    ⎥\n",
       "⎢                                                                   ⎥\n",
       "⎢                                       7     2  5       9     2  7 ⎥\n",
       "⎢                                    W⋅l    h̅ ⋅l     W⋅l    h̅ ⋅l  ⎥\n",
       "⎢       0                0         - ──── + ──────  - ──── + ────── ⎥\n",
       "⎢                                    840     40⋅m     5040   280⋅m  ⎥\n",
       "⎢                                                                   ⎥\n",
       "⎢                                       9     2  7       11     2  9⎥\n",
       "⎢                                    W⋅l    h̅ ⋅l     W⋅l     h̅ ⋅l ⎥\n",
       "⎢       0                0         - ──── + ──────  - ───── + ──────⎥\n",
       "⎣                                    5040   280⋅m     27720   1260⋅m⎦"
      ]
     },
     "execution_count": 12,
     "metadata": {},
     "output_type": "execute_result"
    }
   ],
   "source": [
    "#Calcular energías del sistema\n",
    "print(\"\\nCalculando energías del sistema...\")\n",
    "M = H-S*W\n",
    "M"
   ]
  },
  {
   "cell_type": "code",
   "execution_count": 13,
   "metadata": {},
   "outputs": [
    {
     "data": {
      "text/latex": [
       "$$\\frac{W^{4} l^{32}}{147867793920000} - \\frac{W^{3} \\hbar^{2} l^{30}}{840157920000 m} + \\frac{373 W^{2} \\hbar^{4} l^{28}}{6161158080000 m^{2}} - \\frac{W \\hbar^{6} l^{26}}{1047816000 m^{3}} + \\frac{\\hbar^{8} l^{24}}{296352000 m^{4}}$$"
      ],
      "text/plain": [
       "      4  32          3   2  30           2   4  28          6  26         8  2\n",
       "     W ⋅l           W ⋅h̅ ⋅l        373⋅W ⋅h̅ ⋅l        W⋅h̅ ⋅l         h̅ ⋅l \n",
       "─────────────── - ────────────── + ──────────────── - ───────────── + ────────\n",
       "147867793920000   840157920000⋅m                  2               3           \n",
       "                                   6161158080000⋅m    1047816000⋅m    29635200\n",
       "\n",
       "4   \n",
       "    \n",
       "────\n",
       "   4\n",
       "0⋅m "
      ]
     },
     "execution_count": 13,
     "metadata": {},
     "output_type": "execute_result"
    }
   ],
   "source": [
    "polyW = M.det()\n",
    "polyW"
   ]
  },
  {
   "cell_type": "code",
   "execution_count": 14,
   "metadata": {},
   "outputs": [
    {
     "data": {
      "text/latex": [
       "$$\\left [ \\frac{2 \\hbar^{2}}{l^{2} m} \\left(- \\sqrt{133} + 14\\right), \\quad \\frac{2 \\hbar^{2}}{l^{2} m} \\left(\\sqrt{133} + 14\\right), \\quad \\frac{2 \\hbar^{2}}{l^{2} m} \\left(- 9 \\sqrt{5} + 30\\right), \\quad \\frac{2 \\hbar^{2}}{l^{2} m} \\left(9 \\sqrt{5} + 30\\right)\\right ]$$"
      ],
      "text/plain": [
       "⎡    2                   2                  2                   2            ⎤\n",
       "⎢2⋅h̅ ⋅(-√133 + 14)  2⋅h̅ ⋅(√133 + 14)  2⋅h̅ ⋅(-9⋅√5 + 30)  2⋅h̅ ⋅(9⋅√5 + 30)⎥\n",
       "⎢──────────────────, ─────────────────, ──────────────────, ─────────────────⎥\n",
       "⎢        2                   2                  2                   2        ⎥\n",
       "⎣       l ⋅m                l ⋅m               l ⋅m                l ⋅m      ⎦"
      ]
     },
     "execution_count": 14,
     "metadata": {},
     "output_type": "execute_result"
    }
   ],
   "source": [
    "w = solve(polyW, W)\n",
    "w"
   ]
  },
  {
   "cell_type": "code",
   "execution_count": 15,
   "metadata": {},
   "outputs": [
    {
     "data": {
      "text/latex": [
       "$$\\left [ \\frac{\\hbar^{2}}{l^{2} m} \\left(- 2 \\sqrt{133} + 28\\right), \\quad \\frac{\\hbar^{2}}{l^{2} m} \\left(- 18 \\sqrt{5} + 60\\right), \\quad \\frac{\\hbar^{2}}{l^{2} m} \\left(2 \\sqrt{133} + 28\\right), \\quad \\frac{\\hbar^{2}}{l^{2} m} \\left(18 \\sqrt{5} + 60\\right)\\right ]$$"
      ],
      "text/plain": [
       "⎡  2                   2                  2                  2             ⎤\n",
       "⎢h̅ ⋅(-2⋅√133 + 28)  h̅ ⋅(-18⋅√5 + 60)  h̅ ⋅(2⋅√133 + 28)  h̅ ⋅(18⋅√5 + 60)⎥\n",
       "⎢──────────────────, ─────────────────, ─────────────────, ────────────────⎥\n",
       "⎢        2                   2                  2                 2        ⎥\n",
       "⎣       l ⋅m                l ⋅m               l ⋅m              l ⋅m      ⎦"
      ]
     },
     "execution_count": 15,
     "metadata": {},
     "output_type": "execute_result"
    }
   ],
   "source": [
    "#Ordenar enegías del sistema de menor a mayor-------------------------------------------------!!!\n",
    "for a in range(0, len(w)):\n",
    "    w[a] = w[a]*(m*l**2/hbar**2)\n",
    "w.sort()\n",
    "for a in range(0, len(w)):\n",
    "    w[a] = w[a]*(hbar**2/(m*l**2))\n",
    "w"
   ]
  },
  {
   "cell_type": "code",
   "execution_count": 16,
   "metadata": {},
   "outputs": [
    {
     "name": "stdout",
     "output_type": "stream",
     "text": [
      "\n",
      "Calculando coeficientes de la función variacional lineal...\n"
     ]
    },
    {
     "data": {
      "text/latex": [
       "$$\\left[\\begin{matrix}c_{1} \\left(- \\frac{W l^{5}}{30} + \\frac{\\hbar^{2} l^{3}}{6 m}\\right) + c_{2} \\left(- \\frac{W l^{7}}{140} + \\frac{\\hbar^{2} l^{5}}{30 m}\\right)\\\\c_{1} \\left(- \\frac{W l^{7}}{140} + \\frac{\\hbar^{2} l^{5}}{30 m}\\right) + c_{2} \\left(- \\frac{W l^{9}}{630} + \\frac{\\hbar^{2} l^{7}}{105 m}\\right)\\\\c_{3} \\left(- \\frac{W l^{7}}{840} + \\frac{\\hbar^{2} l^{5}}{40 m}\\right) + c_{4} \\left(- \\frac{W l^{9}}{5040} + \\frac{\\hbar^{2} l^{7}}{280 m}\\right)\\\\c_{3} \\left(- \\frac{W l^{9}}{5040} + \\frac{\\hbar^{2} l^{7}}{280 m}\\right) + c_{4} \\left(- \\frac{W l^{11}}{27720} + \\frac{\\hbar^{2} l^{9}}{1260 m}\\right)\\end{matrix}\\right]$$"
      ],
      "text/plain": [
       "⎡   ⎛     5     2  3⎞      ⎛     7     2  5⎞ ⎤\n",
       "⎢   ⎜  W⋅l    h̅ ⋅l ⎟      ⎜  W⋅l    h̅ ⋅l ⎟ ⎥\n",
       "⎢c₁⋅⎜- ──── + ──────⎟ + c₂⋅⎜- ──── + ──────⎟ ⎥\n",
       "⎢   ⎝   30     6⋅m  ⎠      ⎝  140     30⋅m ⎠ ⎥\n",
       "⎢                                            ⎥\n",
       "⎢   ⎛     7     2  5⎞      ⎛     9     2  7⎞ ⎥\n",
       "⎢   ⎜  W⋅l    h̅ ⋅l ⎟      ⎜  W⋅l    h̅ ⋅l ⎟ ⎥\n",
       "⎢c₁⋅⎜- ──── + ──────⎟ + c₂⋅⎜- ──── + ──────⎟ ⎥\n",
       "⎢   ⎝  140     30⋅m ⎠      ⎝  630    105⋅m ⎠ ⎥\n",
       "⎢                                            ⎥\n",
       "⎢   ⎛     7     2  5⎞      ⎛     9     2  7⎞ ⎥\n",
       "⎢   ⎜  W⋅l    h̅ ⋅l ⎟      ⎜  W⋅l    h̅ ⋅l ⎟ ⎥\n",
       "⎢c₃⋅⎜- ──── + ──────⎟ + c₄⋅⎜- ──── + ──────⎟ ⎥\n",
       "⎢   ⎝  840     40⋅m ⎠      ⎝  5040   280⋅m ⎠ ⎥\n",
       "⎢                                            ⎥\n",
       "⎢   ⎛     9     2  7⎞      ⎛     11     2  9⎞⎥\n",
       "⎢   ⎜  W⋅l    h̅ ⋅l ⎟      ⎜  W⋅l     h̅ ⋅l ⎟⎥\n",
       "⎢c₃⋅⎜- ──── + ──────⎟ + c₄⋅⎜- ───── + ──────⎟⎥\n",
       "⎣   ⎝  5040   280⋅m ⎠      ⎝  27720   1260⋅m⎠⎦"
      ]
     },
     "execution_count": 16,
     "metadata": {},
     "output_type": "execute_result"
    }
   ],
   "source": [
    "#Encontrando coeficientes de la función variacional lineal\n",
    "print(\"\\nCalculando coeficientes de la función variacional lineal...\")\n",
    "Ec = M*C\n",
    "Ec"
   ]
  },
  {
   "cell_type": "code",
   "execution_count": 17,
   "metadata": {},
   "outputs": [
    {
     "data": {
      "text/latex": [
       "$$\\left[\\begin{matrix}c_{1} \\left(- \\frac{\\hbar^{2} l^{3}}{30 m} \\left(- 2 \\sqrt{133} + 28\\right) + \\frac{\\hbar^{2} l^{3}}{6 m}\\right) + c_{2} \\left(- \\frac{\\hbar^{2} l^{5}}{140 m} \\left(- 2 \\sqrt{133} + 28\\right) + \\frac{\\hbar^{2} l^{5}}{30 m}\\right) & c_{1} \\left(- \\frac{\\hbar^{2} l^{3}}{30 m} \\left(- 18 \\sqrt{5} + 60\\right) + \\frac{\\hbar^{2} l^{3}}{6 m}\\right) + c_{2} \\left(- \\frac{\\hbar^{2} l^{5}}{140 m} \\left(- 18 \\sqrt{5} + 60\\right) + \\frac{\\hbar^{2} l^{5}}{30 m}\\right) & c_{1} \\left(- \\frac{\\hbar^{2} l^{3}}{30 m} \\left(2 \\sqrt{133} + 28\\right) + \\frac{\\hbar^{2} l^{3}}{6 m}\\right) + c_{2} \\left(- \\frac{\\hbar^{2} l^{5}}{140 m} \\left(2 \\sqrt{133} + 28\\right) + \\frac{\\hbar^{2} l^{5}}{30 m}\\right) & c_{1} \\left(- \\frac{\\hbar^{2} l^{3}}{30 m} \\left(18 \\sqrt{5} + 60\\right) + \\frac{\\hbar^{2} l^{3}}{6 m}\\right) + c_{2} \\left(- \\frac{\\hbar^{2} l^{5}}{140 m} \\left(18 \\sqrt{5} + 60\\right) + \\frac{\\hbar^{2} l^{5}}{30 m}\\right)\\\\c_{1} \\left(- \\frac{\\hbar^{2} l^{5}}{140 m} \\left(- 2 \\sqrt{133} + 28\\right) + \\frac{\\hbar^{2} l^{5}}{30 m}\\right) + c_{2} \\left(- \\frac{\\hbar^{2} l^{7}}{630 m} \\left(- 2 \\sqrt{133} + 28\\right) + \\frac{\\hbar^{2} l^{7}}{105 m}\\right) & c_{1} \\left(- \\frac{\\hbar^{2} l^{5}}{140 m} \\left(- 18 \\sqrt{5} + 60\\right) + \\frac{\\hbar^{2} l^{5}}{30 m}\\right) + c_{2} \\left(- \\frac{\\hbar^{2} l^{7}}{630 m} \\left(- 18 \\sqrt{5} + 60\\right) + \\frac{\\hbar^{2} l^{7}}{105 m}\\right) & c_{1} \\left(- \\frac{\\hbar^{2} l^{5}}{140 m} \\left(2 \\sqrt{133} + 28\\right) + \\frac{\\hbar^{2} l^{5}}{30 m}\\right) + c_{2} \\left(- \\frac{\\hbar^{2} l^{7}}{630 m} \\left(2 \\sqrt{133} + 28\\right) + \\frac{\\hbar^{2} l^{7}}{105 m}\\right) & c_{1} \\left(- \\frac{\\hbar^{2} l^{5}}{140 m} \\left(18 \\sqrt{5} + 60\\right) + \\frac{\\hbar^{2} l^{5}}{30 m}\\right) + c_{2} \\left(- \\frac{\\hbar^{2} l^{7}}{630 m} \\left(18 \\sqrt{5} + 60\\right) + \\frac{\\hbar^{2} l^{7}}{105 m}\\right)\\\\c_{3} \\left(- \\frac{\\hbar^{2} l^{5}}{840 m} \\left(- 2 \\sqrt{133} + 28\\right) + \\frac{\\hbar^{2} l^{5}}{40 m}\\right) + c_{4} \\left(- \\frac{\\hbar^{2} l^{7}}{5040 m} \\left(- 2 \\sqrt{133} + 28\\right) + \\frac{\\hbar^{2} l^{7}}{280 m}\\right) & c_{3} \\left(- \\frac{\\hbar^{2} l^{5}}{840 m} \\left(- 18 \\sqrt{5} + 60\\right) + \\frac{\\hbar^{2} l^{5}}{40 m}\\right) + c_{4} \\left(- \\frac{\\hbar^{2} l^{7}}{5040 m} \\left(- 18 \\sqrt{5} + 60\\right) + \\frac{\\hbar^{2} l^{7}}{280 m}\\right) & c_{3} \\left(- \\frac{\\hbar^{2} l^{5}}{840 m} \\left(2 \\sqrt{133} + 28\\right) + \\frac{\\hbar^{2} l^{5}}{40 m}\\right) + c_{4} \\left(- \\frac{\\hbar^{2} l^{7}}{5040 m} \\left(2 \\sqrt{133} + 28\\right) + \\frac{\\hbar^{2} l^{7}}{280 m}\\right) & c_{3} \\left(- \\frac{\\hbar^{2} l^{5}}{840 m} \\left(18 \\sqrt{5} + 60\\right) + \\frac{\\hbar^{2} l^{5}}{40 m}\\right) + c_{4} \\left(- \\frac{\\hbar^{2} l^{7}}{5040 m} \\left(18 \\sqrt{5} + 60\\right) + \\frac{\\hbar^{2} l^{7}}{280 m}\\right)\\\\c_{3} \\left(- \\frac{\\hbar^{2} l^{7}}{5040 m} \\left(- 2 \\sqrt{133} + 28\\right) + \\frac{\\hbar^{2} l^{7}}{280 m}\\right) + c_{4} \\left(- \\frac{\\hbar^{2} l^{9}}{27720 m} \\left(- 2 \\sqrt{133} + 28\\right) + \\frac{\\hbar^{2} l^{9}}{1260 m}\\right) & c_{3} \\left(- \\frac{\\hbar^{2} l^{7}}{5040 m} \\left(- 18 \\sqrt{5} + 60\\right) + \\frac{\\hbar^{2} l^{7}}{280 m}\\right) + c_{4} \\left(- \\frac{\\hbar^{2} l^{9}}{27720 m} \\left(- 18 \\sqrt{5} + 60\\right) + \\frac{\\hbar^{2} l^{9}}{1260 m}\\right) & c_{3} \\left(- \\frac{\\hbar^{2} l^{7}}{5040 m} \\left(2 \\sqrt{133} + 28\\right) + \\frac{\\hbar^{2} l^{7}}{280 m}\\right) + c_{4} \\left(- \\frac{\\hbar^{2} l^{9}}{27720 m} \\left(2 \\sqrt{133} + 28\\right) + \\frac{\\hbar^{2} l^{9}}{1260 m}\\right) & c_{3} \\left(- \\frac{\\hbar^{2} l^{7}}{5040 m} \\left(18 \\sqrt{5} + 60\\right) + \\frac{\\hbar^{2} l^{7}}{280 m}\\right) + c_{4} \\left(- \\frac{\\hbar^{2} l^{9}}{27720 m} \\left(18 \\sqrt{5} + 60\\right) + \\frac{\\hbar^{2} l^{9}}{1260 m}\\right)\\end{matrix}\\right]$$"
      ],
      "text/plain": [
       "⎡   ⎛    2  3                    2  3⎞      ⎛    2  5                    2  5⎞\n",
       "⎢   ⎜  h̅ ⋅l ⋅(-2⋅√133 + 28)   h̅ ⋅l ⎟      ⎜  h̅ ⋅l ⋅(-2⋅√133 + 28)   h̅ ⋅l ⎟\n",
       "⎢c₁⋅⎜- ───────────────────── + ──────⎟ + c₂⋅⎜- ───────────────────── + ──────⎟\n",
       "⎢   ⎝           30⋅m            6⋅m  ⎠      ⎝          140⋅m            30⋅m ⎠\n",
       "⎢                                                                             \n",
       "⎢   ⎛    2  5                    2  5⎞      ⎛    2  7                    2  7⎞\n",
       "⎢   ⎜  h̅ ⋅l ⋅(-2⋅√133 + 28)   h̅ ⋅l ⎟      ⎜  h̅ ⋅l ⋅(-2⋅√133 + 28)   h̅ ⋅l ⎟\n",
       "⎢c₁⋅⎜- ───────────────────── + ──────⎟ + c₂⋅⎜- ───────────────────── + ──────⎟\n",
       "⎢   ⎝          140⋅m            30⋅m ⎠      ⎝          630⋅m           105⋅m ⎠\n",
       "⎢                                                                             \n",
       "⎢   ⎛    2  5                    2  5⎞      ⎛    2  7                    2  7⎞\n",
       "⎢   ⎜  h̅ ⋅l ⋅(-2⋅√133 + 28)   h̅ ⋅l ⎟      ⎜  h̅ ⋅l ⋅(-2⋅√133 + 28)   h̅ ⋅l ⎟\n",
       "⎢c₃⋅⎜- ───────────────────── + ──────⎟ + c₄⋅⎜- ───────────────────── + ──────⎟\n",
       "⎢   ⎝          840⋅m            40⋅m ⎠      ⎝          5040⋅m          280⋅m ⎠\n",
       "⎢                                                                             \n",
       "⎢   ⎛    2  7                    2  7⎞      ⎛    2  9                    2  9⎞\n",
       "⎢   ⎜  h̅ ⋅l ⋅(-2⋅√133 + 28)   h̅ ⋅l ⎟      ⎜  h̅ ⋅l ⋅(-2⋅√133 + 28)   h̅ ⋅l ⎟\n",
       "⎢c₃⋅⎜- ───────────────────── + ──────⎟ + c₄⋅⎜- ───────────────────── + ──────⎟\n",
       "⎣   ⎝          5040⋅m          280⋅m ⎠      ⎝         27720⋅m          1260⋅m⎠\n",
       "\n",
       "     ⎛    2  3                   2  3⎞      ⎛    2  5                   2  5⎞ \n",
       "     ⎜  h̅ ⋅l ⋅(-18⋅√5 + 60)   h̅ ⋅l ⎟      ⎜  h̅ ⋅l ⋅(-18⋅√5 + 60)   h̅ ⋅l ⎟ \n",
       "  c₁⋅⎜- ──────────────────── + ──────⎟ + c₂⋅⎜- ──────────────────── + ──────⎟ \n",
       "     ⎝          30⋅m            6⋅m  ⎠      ⎝         140⋅m            30⋅m ⎠ \n",
       "                                                                              \n",
       "     ⎛    2  5                   2  5⎞      ⎛    2  7                   2  7⎞ \n",
       "     ⎜  h̅ ⋅l ⋅(-18⋅√5 + 60)   h̅ ⋅l ⎟      ⎜  h̅ ⋅l ⋅(-18⋅√5 + 60)   h̅ ⋅l ⎟ \n",
       "  c₁⋅⎜- ──────────────────── + ──────⎟ + c₂⋅⎜- ──────────────────── + ──────⎟ \n",
       "     ⎝         140⋅m            30⋅m ⎠      ⎝         630⋅m           105⋅m ⎠ \n",
       "                                                                              \n",
       "     ⎛    2  5                   2  5⎞      ⎛    2  7                   2  7⎞ \n",
       "     ⎜  h̅ ⋅l ⋅(-18⋅√5 + 60)   h̅ ⋅l ⎟      ⎜  h̅ ⋅l ⋅(-18⋅√5 + 60)   h̅ ⋅l ⎟ \n",
       "  c₃⋅⎜- ──────────────────── + ──────⎟ + c₄⋅⎜- ──────────────────── + ──────⎟ \n",
       "     ⎝         840⋅m            40⋅m ⎠      ⎝         5040⋅m          280⋅m ⎠ \n",
       "                                                                              \n",
       "     ⎛    2  7                   2  7⎞      ⎛    2  9                   2  9⎞ \n",
       "     ⎜  h̅ ⋅l ⋅(-18⋅√5 + 60)   h̅ ⋅l ⎟      ⎜  h̅ ⋅l ⋅(-18⋅√5 + 60)   h̅ ⋅l ⎟ \n",
       "  c₃⋅⎜- ──────────────────── + ──────⎟ + c₄⋅⎜- ──────────────────── + ──────⎟ \n",
       "     ⎝         5040⋅m          280⋅m ⎠      ⎝        27720⋅m          1260⋅m⎠ \n",
       "\n",
       "    ⎛    2  3                   2  3⎞      ⎛    2  5                   2  5⎞  \n",
       "    ⎜  h̅ ⋅l ⋅(2⋅√133 + 28)   h̅ ⋅l ⎟      ⎜  h̅ ⋅l ⋅(2⋅√133 + 28)   h̅ ⋅l ⎟  \n",
       " c₁⋅⎜- ──────────────────── + ──────⎟ + c₂⋅⎜- ──────────────────── + ──────⎟  \n",
       "    ⎝          30⋅m            6⋅m  ⎠      ⎝         140⋅m            30⋅m ⎠  \n",
       "                                                                              \n",
       "    ⎛    2  5                   2  5⎞      ⎛    2  7                   2  7⎞  \n",
       "    ⎜  h̅ ⋅l ⋅(2⋅√133 + 28)   h̅ ⋅l ⎟      ⎜  h̅ ⋅l ⋅(2⋅√133 + 28)   h̅ ⋅l ⎟  \n",
       " c₁⋅⎜- ──────────────────── + ──────⎟ + c₂⋅⎜- ──────────────────── + ──────⎟  \n",
       "    ⎝         140⋅m            30⋅m ⎠      ⎝         630⋅m           105⋅m ⎠  \n",
       "                                                                              \n",
       "    ⎛    2  5                   2  5⎞      ⎛    2  7                   2  7⎞  \n",
       "    ⎜  h̅ ⋅l ⋅(2⋅√133 + 28)   h̅ ⋅l ⎟      ⎜  h̅ ⋅l ⋅(2⋅√133 + 28)   h̅ ⋅l ⎟  \n",
       " c₃⋅⎜- ──────────────────── + ──────⎟ + c₄⋅⎜- ──────────────────── + ──────⎟  \n",
       "    ⎝         840⋅m            40⋅m ⎠      ⎝         5040⋅m          280⋅m ⎠  \n",
       "                                                                              \n",
       "    ⎛    2  7                   2  7⎞      ⎛    2  9                   2  9⎞  \n",
       "    ⎜  h̅ ⋅l ⋅(2⋅√133 + 28)   h̅ ⋅l ⎟      ⎜  h̅ ⋅l ⋅(2⋅√133 + 28)   h̅ ⋅l ⎟  \n",
       " c₃⋅⎜- ──────────────────── + ──────⎟ + c₄⋅⎜- ──────────────────── + ──────⎟  \n",
       "    ⎝         5040⋅m          280⋅m ⎠      ⎝        27720⋅m          1260⋅m⎠  \n",
       "\n",
       "   ⎛    2  3                  2  3⎞      ⎛    2  5                  2  5⎞⎤\n",
       "   ⎜  h̅ ⋅l ⋅(18⋅√5 + 60)   h̅ ⋅l ⎟      ⎜  h̅ ⋅l ⋅(18⋅√5 + 60)   h̅ ⋅l ⎟⎥\n",
       "c₁⋅⎜- ─────────────────── + ──────⎟ + c₂⋅⎜- ─────────────────── + ──────⎟⎥\n",
       "   ⎝          30⋅m           6⋅m  ⎠      ⎝         140⋅m           30⋅m ⎠⎥\n",
       "                                                                         ⎥\n",
       "   ⎛    2  5                  2  5⎞      ⎛    2  7                  2  7⎞⎥\n",
       "   ⎜  h̅ ⋅l ⋅(18⋅√5 + 60)   h̅ ⋅l ⎟      ⎜  h̅ ⋅l ⋅(18⋅√5 + 60)   h̅ ⋅l ⎟⎥\n",
       "c₁⋅⎜- ─────────────────── + ──────⎟ + c₂⋅⎜- ─────────────────── + ──────⎟⎥\n",
       "   ⎝         140⋅m           30⋅m ⎠      ⎝         630⋅m          105⋅m ⎠⎥\n",
       "                                                                         ⎥\n",
       "   ⎛    2  5                  2  5⎞      ⎛    2  7                  2  7⎞⎥\n",
       "   ⎜  h̅ ⋅l ⋅(18⋅√5 + 60)   h̅ ⋅l ⎟      ⎜  h̅ ⋅l ⋅(18⋅√5 + 60)   h̅ ⋅l ⎟⎥\n",
       "c₃⋅⎜- ─────────────────── + ──────⎟ + c₄⋅⎜- ─────────────────── + ──────⎟⎥\n",
       "   ⎝         840⋅m           40⋅m ⎠      ⎝         5040⋅m         280⋅m ⎠⎥\n",
       "                                                                         ⎥\n",
       "   ⎛    2  7                  2  7⎞      ⎛    2  9                  2  9⎞⎥\n",
       "   ⎜  h̅ ⋅l ⋅(18⋅√5 + 60)   h̅ ⋅l ⎟      ⎜  h̅ ⋅l ⋅(18⋅√5 + 60)   h̅ ⋅l ⎟⎥\n",
       "c₃⋅⎜- ─────────────────── + ──────⎟ + c₄⋅⎜- ─────────────────── + ──────⎟⎥\n",
       "   ⎝         5040⋅m         280⋅m ⎠      ⎝        27720⋅m         1260⋅m⎠⎦"
      ]
     },
     "execution_count": 17,
     "metadata": {},
     "output_type": "execute_result"
    }
   ],
   "source": [
    "for a in range(1, len(C)+1):\n",
    "    if a == 1:\n",
    "        EC = Matrix([Ec.subs(W, w[a-1])])\n",
    "    else:\n",
    "        EC = EC.col_insert(a-1, Ec.subs(W, w[a-1]))\n",
    "EC"
   ]
  },
  {
   "cell_type": "code",
   "execution_count": 18,
   "metadata": {},
   "outputs": [
    {
     "data": {
      "text/latex": [
       "$$\\left[\\begin{matrix}c_{1}\\\\c_{2}\\\\c_{3}\\\\c_{4}\\end{matrix}\\right]$$"
      ],
      "text/plain": [
       "⎡c₁⎤\n",
       "⎢  ⎥\n",
       "⎢c₂⎥\n",
       "⎢  ⎥\n",
       "⎢c₃⎥\n",
       "⎢  ⎥\n",
       "⎣c₄⎦"
      ]
     },
     "execution_count": 18,
     "metadata": {},
     "output_type": "execute_result"
    }
   ],
   "source": [
    "CRcol = C[:,:]\n",
    "CRcol"
   ]
  },
  {
   "cell_type": "code",
   "execution_count": 19,
   "metadata": {},
   "outputs": [
    {
     "data": {
      "text/latex": [
       "$$\\left[\\begin{matrix}\\frac{c_{2} l^{2}}{21} \\left(7 + \\sqrt{133}\\right) & 0 & \\frac{c_{2} l^{2}}{21} \\left(- \\sqrt{133} + 7\\right) & 0\\\\c_{2} & 0 & c_{2} & 0\\\\0 & \\frac{c_{4} l^{2}}{33} \\left(1 + 3 \\sqrt{5}\\right) & 0 & \\frac{c_{4} l^{2}}{33} \\left(- 3 \\sqrt{5} + 1\\right)\\\\0 & c_{4} & 0 & c_{4}\\end{matrix}\\right]$$"
      ],
      "text/plain": [
       "⎡    2                                   2                               ⎤\n",
       "⎢c₂⋅l ⋅(7 + √133)                    c₂⋅l ⋅(-√133 + 7)                   ⎥\n",
       "⎢────────────────         0          ─────────────────          0        ⎥\n",
       "⎢       21                                   21                          ⎥\n",
       "⎢                                                                        ⎥\n",
       "⎢       c₂                0                 c₂                  0        ⎥\n",
       "⎢                                                                        ⎥\n",
       "⎢                      2                                    2            ⎥\n",
       "⎢                  c₄⋅l ⋅(1 + 3⋅√5)                     c₄⋅l ⋅(-3⋅√5 + 1)⎥\n",
       "⎢       0          ────────────────          0          ─────────────────⎥\n",
       "⎢                         33                                    33       ⎥\n",
       "⎢                                                                        ⎥\n",
       "⎣       0                 c₄                 0                 c₄        ⎦"
      ]
     },
     "execution_count": 19,
     "metadata": {},
     "output_type": "execute_result"
    }
   ],
   "source": [
    "CRcol = C[:,:]\n",
    "for a in range(1, len(C)+1):\n",
    "    C_val = solve(EC.col(a-1), C)\n",
    "    for b in range(1, len(C)+1):\n",
    "        if sympify('c'+str(b)) in C_val:\n",
    "            CRcol[b-1] = C_val[sympify('c'+str(b))]\n",
    "        else:\n",
    "            CRcol[b-1] = sympify('c'+str(b))\n",
    "    if a == 1:\n",
    "        CR = Matrix([CRcol])\n",
    "    else:\n",
    "        CR = CR.col_insert(a-1, CRcol)\n",
    "simplify(CR)"
   ]
  },
  {
   "cell_type": "code",
   "execution_count": 20,
   "metadata": {},
   "outputs": [
    {
     "name": "stdout",
     "output_type": "stream",
     "text": [
      "\n",
      "Calculando constante de normalización...\n"
     ]
    },
    {
     "data": {
      "text/latex": [
       "$$\\left[\\begin{matrix}c_{2} x^{2} \\left(l - x\\right)^{2} + x \\left(l - x\\right) \\left(\\frac{c_{2} l^{2}}{3} + \\frac{\\sqrt{133} c_{2}}{21} l^{2}\\right)\\\\c_{4} x^{2} \\left(\\frac{l}{2} - x\\right) \\left(l - x\\right)^{2} + x \\left(\\frac{l}{2} - x\\right) \\left(l - x\\right) \\left(\\frac{c_{4} l^{2}}{33} + \\frac{\\sqrt{5} c_{4}}{11} l^{2}\\right)\\\\c_{2} x^{2} \\left(l - x\\right)^{2} + x \\left(l - x\\right) \\left(- \\frac{\\sqrt{133} c_{2}}{21} l^{2} + \\frac{c_{2} l^{2}}{3}\\right)\\\\c_{4} x^{2} \\left(\\frac{l}{2} - x\\right) \\left(l - x\\right)^{2} + x \\left(\\frac{l}{2} - x\\right) \\left(l - x\\right) \\left(- \\frac{\\sqrt{5} c_{4}}{11} l^{2} + \\frac{c_{4} l^{2}}{33}\\right)\\end{matrix}\\right]$$"
      ],
      "text/plain": [
       "⎡                                   ⎛    2            2⎞        ⎤\n",
       "⎢            2        2             ⎜c₂⋅l    √133⋅c₂⋅l ⎟        ⎥\n",
       "⎢        c₂⋅x ⋅(l - x)  + x⋅(l - x)⋅⎜───── + ──────────⎟        ⎥\n",
       "⎢                                   ⎝  3         21    ⎠        ⎥\n",
       "⎢                                                               ⎥\n",
       "⎢                                            ⎛    2          2⎞ ⎥\n",
       "⎢     2 ⎛l    ⎞        2     ⎛l    ⎞         ⎜c₄⋅l    √5⋅c₄⋅l ⎟ ⎥\n",
       "⎢ c₄⋅x ⋅⎜─ - x⎟⋅(l - x)  + x⋅⎜─ - x⎟⋅(l - x)⋅⎜───── + ────────⎟ ⎥\n",
       "⎢       ⎝2    ⎠              ⎝2    ⎠         ⎝  33       11   ⎠ ⎥\n",
       "⎢                                                               ⎥\n",
       "⎢                                  ⎛           2       2⎞       ⎥\n",
       "⎢           2        2             ⎜  √133⋅c₂⋅l    c₂⋅l ⎟       ⎥\n",
       "⎢       c₂⋅x ⋅(l - x)  + x⋅(l - x)⋅⎜- ────────── + ─────⎟       ⎥\n",
       "⎢                                  ⎝      21         3  ⎠       ⎥\n",
       "⎢                                                               ⎥\n",
       "⎢                                           ⎛         2       2⎞⎥\n",
       "⎢    2 ⎛l    ⎞        2     ⎛l    ⎞         ⎜  √5⋅c₄⋅l    c₄⋅l ⎟⎥\n",
       "⎢c₄⋅x ⋅⎜─ - x⎟⋅(l - x)  + x⋅⎜─ - x⎟⋅(l - x)⋅⎜- ──────── + ─────⎟⎥\n",
       "⎣      ⎝2    ⎠              ⎝2    ⎠         ⎝     11        33 ⎠⎦"
      ]
     },
     "execution_count": 20,
     "metadata": {},
     "output_type": "execute_result"
    }
   ],
   "source": [
    "print(\"\\nCalculando constante de normalización...\")\n",
    "PHI = CR.T*F.T\n",
    "PHI"
   ]
  },
  {
   "cell_type": "code",
   "execution_count": 21,
   "metadata": {},
   "outputs": [
    {
     "data": {
      "text/latex": [
       "$$\\left[\\begin{matrix}\\left(c_{2} x^{2} \\left(l - x\\right)^{2} + x \\left(l - x\\right) \\left(\\frac{c_{2} l^{2}}{3} + \\frac{\\sqrt{133} c_{2}}{21} l^{2}\\right)\\right)^{2}\\\\\\left(c_{4} x^{2} \\left(\\frac{l}{2} - x\\right) \\left(l - x\\right)^{2} + x \\left(\\frac{l}{2} - x\\right) \\left(l - x\\right) \\left(\\frac{c_{4} l^{2}}{33} + \\frac{\\sqrt{5} c_{4}}{11} l^{2}\\right)\\right)^{2}\\\\\\left(c_{2} x^{2} \\left(l - x\\right)^{2} + x \\left(l - x\\right) \\left(- \\frac{\\sqrt{133} c_{2}}{21} l^{2} + \\frac{c_{2} l^{2}}{3}\\right)\\right)^{2}\\\\\\left(c_{4} x^{2} \\left(\\frac{l}{2} - x\\right) \\left(l - x\\right)^{2} + x \\left(\\frac{l}{2} - x\\right) \\left(l - x\\right) \\left(- \\frac{\\sqrt{5} c_{4}}{11} l^{2} + \\frac{c_{4} l^{2}}{33}\\right)\\right)^{2}\\end{matrix}\\right]$$"
      ],
      "text/plain": [
       "⎡                                                         2        ⎤\n",
       "⎢        ⎛                           ⎛    2            2⎞⎞         ⎥\n",
       "⎢        ⎜    2        2             ⎜c₂⋅l    √133⋅c₂⋅l ⎟⎟         ⎥\n",
       "⎢        ⎜c₂⋅x ⋅(l - x)  + x⋅(l - x)⋅⎜───── + ──────────⎟⎟         ⎥\n",
       "⎢        ⎝                           ⎝  3         21    ⎠⎠         ⎥\n",
       "⎢                                                                  ⎥\n",
       "⎢                                                                2 ⎥\n",
       "⎢ ⎛                                           ⎛    2          2⎞⎞  ⎥\n",
       "⎢ ⎜    2 ⎛l    ⎞        2     ⎛l    ⎞         ⎜c₄⋅l    √5⋅c₄⋅l ⎟⎟  ⎥\n",
       "⎢ ⎜c₄⋅x ⋅⎜─ - x⎟⋅(l - x)  + x⋅⎜─ - x⎟⋅(l - x)⋅⎜───── + ────────⎟⎟  ⎥\n",
       "⎢ ⎝      ⎝2    ⎠              ⎝2    ⎠         ⎝  33       11   ⎠⎠  ⎥\n",
       "⎢                                                                  ⎥\n",
       "⎢                                                          2       ⎥\n",
       "⎢       ⎛                           ⎛           2       2⎞⎞        ⎥\n",
       "⎢       ⎜    2        2             ⎜  √133⋅c₂⋅l    c₂⋅l ⎟⎟        ⎥\n",
       "⎢       ⎜c₂⋅x ⋅(l - x)  + x⋅(l - x)⋅⎜- ────────── + ─────⎟⎟        ⎥\n",
       "⎢       ⎝                           ⎝      21         3  ⎠⎠        ⎥\n",
       "⎢                                                                  ⎥\n",
       "⎢                                                                 2⎥\n",
       "⎢⎛                                           ⎛         2       2⎞⎞ ⎥\n",
       "⎢⎜    2 ⎛l    ⎞        2     ⎛l    ⎞         ⎜  √5⋅c₄⋅l    c₄⋅l ⎟⎟ ⎥\n",
       "⎢⎜c₄⋅x ⋅⎜─ - x⎟⋅(l - x)  + x⋅⎜─ - x⎟⋅(l - x)⋅⎜- ──────── + ─────⎟⎟ ⎥\n",
       "⎣⎝      ⎝2    ⎠              ⎝2    ⎠         ⎝     11        33 ⎠⎠ ⎦"
      ]
     },
     "execution_count": 21,
     "metadata": {},
     "output_type": "execute_result"
    }
   ],
   "source": [
    "PHISQ = zeros(len(C), 1)\n",
    "for a in range(1, len(C)+1):\n",
    "    PHISQ[a-1] = PHI[a-1]**2\n",
    "PHISQ"
   ]
  },
  {
   "cell_type": "code",
   "execution_count": 22,
   "metadata": {},
   "outputs": [
    {
     "data": {
      "text/latex": [
       "$$\\left[\\begin{matrix}- \\frac{7 c_{2}^{2}}{18} l^{9} + l^{7} \\left(- \\frac{2 \\sqrt{133}}{147} c_{2}^{2} l^{2} + \\frac{16 c_{2}^{2}}{21} l^{2}\\right) + l^{6} \\left(- \\frac{c_{2}^{2} l^{3}}{3} + \\frac{\\sqrt{133} c_{2}^{2}}{21} l^{3}\\right) + l^{5} \\left(- \\frac{16 \\sqrt{133}}{315} c_{2}^{2} l^{4} - \\frac{37 c_{2}^{2}}{315} l^{4}\\right) + l^{4} \\left(- \\frac{5 c_{2}^{2}}{126} l^{5} + \\frac{\\sqrt{133} c_{2}^{2}}{126} l^{5}\\right) + l^{3} \\left(\\frac{2 \\sqrt{133}}{189} c_{2}^{2} l^{6} + \\frac{26 c_{2}^{2}}{189} l^{6}\\right)\\\\- \\frac{9 c_{4}^{2}}{22} l^{11} + l^{9} \\left(- \\frac{2 \\sqrt{5}}{99} c_{4}^{2} l^{2} + \\frac{1345 c_{4}^{2}}{1188} l^{2}\\right) + l^{8} \\left(- \\frac{355 c_{4}^{2}}{264} l^{3} + \\frac{\\sqrt{5} c_{4}^{2}}{11} l^{3}\\right) + l^{7} \\left(- \\frac{821 \\sqrt{5}}{5082} c_{4}^{2} l^{4} + \\frac{6712 c_{4}^{2}}{7623} l^{4}\\right) + l^{6} \\left(- \\frac{445 c_{4}^{2}}{1452} l^{5} + \\frac{205 \\sqrt{5}}{1452} c_{4}^{2} l^{5}\\right) + l^{5} \\left(- \\frac{109 \\sqrt{5}}{1815} c_{4}^{2} l^{6} + \\frac{245 c_{4}^{2}}{4356} l^{6}\\right) + l^{4} \\left(- \\frac{35 c_{4}^{2}}{2904} l^{7} + \\frac{9 \\sqrt{5}}{968} c_{4}^{2} l^{7}\\right) + l^{3} \\left(\\frac{\\sqrt{5} c_{4}^{2}}{2178} l^{8} + \\frac{23 c_{4}^{2}}{6534} l^{8}\\right)\\\\- \\frac{7 c_{2}^{2}}{18} l^{9} + l^{7} \\left(\\frac{2 \\sqrt{133}}{147} c_{2}^{2} l^{2} + \\frac{16 c_{2}^{2}}{21} l^{2}\\right) + l^{6} \\left(- \\frac{\\sqrt{133} c_{2}^{2}}{21} l^{3} - \\frac{c_{2}^{2} l^{3}}{3}\\right) + l^{5} \\left(- \\frac{37 c_{2}^{2}}{315} l^{4} + \\frac{16 \\sqrt{133}}{315} c_{2}^{2} l^{4}\\right) + l^{4} \\left(- \\frac{\\sqrt{133} c_{2}^{2}}{126} l^{5} - \\frac{5 c_{2}^{2}}{126} l^{5}\\right) + l^{3} \\left(- \\frac{2 \\sqrt{133}}{189} c_{2}^{2} l^{6} + \\frac{26 c_{2}^{2}}{189} l^{6}\\right)\\\\- \\frac{9 c_{4}^{2}}{22} l^{11} + l^{9} \\left(\\frac{2 \\sqrt{5}}{99} c_{4}^{2} l^{2} + \\frac{1345 c_{4}^{2}}{1188} l^{2}\\right) + l^{8} \\left(- \\frac{355 c_{4}^{2}}{264} l^{3} - \\frac{\\sqrt{5} c_{4}^{2}}{11} l^{3}\\right) + l^{7} \\left(\\frac{821 \\sqrt{5}}{5082} c_{4}^{2} l^{4} + \\frac{6712 c_{4}^{2}}{7623} l^{4}\\right) + l^{6} \\left(- \\frac{205 \\sqrt{5}}{1452} c_{4}^{2} l^{5} - \\frac{445 c_{4}^{2}}{1452} l^{5}\\right) + l^{5} \\left(\\frac{245 c_{4}^{2}}{4356} l^{6} + \\frac{109 \\sqrt{5}}{1815} c_{4}^{2} l^{6}\\right) + l^{4} \\left(- \\frac{9 \\sqrt{5}}{968} c_{4}^{2} l^{7} - \\frac{35 c_{4}^{2}}{2904} l^{7}\\right) + l^{3} \\left(- \\frac{\\sqrt{5} c_{4}^{2}}{2178} l^{8} + \\frac{23 c_{4}^{2}}{6534} l^{8}\\right)\\end{matrix}\\right]$$"
      ],
      "text/plain": [
       "⎡                                          2  9      ⎛           2  2        2\n",
       "⎢                                      7⋅c₂ ⋅l     7 ⎜  2⋅√133⋅c₂ ⋅l    16⋅c₂ \n",
       "⎢                                    - ──────── + l ⋅⎜- ───────────── + ──────\n",
       "⎢                                         18         ⎝       147            21\n",
       "⎢                                                                             \n",
       "⎢      2  11      ⎛         2  2          2  2⎞      ⎛        2  3        2  3\n",
       "⎢  9⋅c₄ ⋅l      9 ⎜  2⋅√5⋅c₄ ⋅l    1345⋅c₄ ⋅l ⎟    8 ⎜  355⋅c₄ ⋅l    √5⋅c₄ ⋅l \n",
       "⎢- ───────── + l ⋅⎜- ─────────── + ───────────⎟ + l ⋅⎜- ────────── + ─────────\n",
       "⎢      22         ⎝       99           1188   ⎠      ⎝     264           11   \n",
       "⎢                                                                             \n",
       "⎢                                          2  9      ⎛         2  2        2  \n",
       "⎢                                      7⋅c₂ ⋅l     7 ⎜2⋅√133⋅c₂ ⋅l    16⋅c₂ ⋅l\n",
       "⎢                                    - ──────── + l ⋅⎜───────────── + ────────\n",
       "⎢                                         18         ⎝     147            21  \n",
       "⎢                                                                             \n",
       "⎢        2  11      ⎛       2  2          2  2⎞      ⎛        2  3        2  3\n",
       "⎢    9⋅c₄ ⋅l      9 ⎜2⋅√5⋅c₄ ⋅l    1345⋅c₄ ⋅l ⎟    8 ⎜  355⋅c₄ ⋅l    √5⋅c₄ ⋅l \n",
       "⎢  - ───────── + l ⋅⎜─────────── + ───────────⎟ + l ⋅⎜- ────────── - ─────────\n",
       "⎣        22         ⎝     99           1188   ⎠      ⎝     264           11   \n",
       "\n",
       "  2⎞      ⎛    2  3          2  3⎞      ⎛            2  4        2  4⎞      ⎛ \n",
       "⋅l ⎟    6 ⎜  c₂ ⋅l    √133⋅c₂ ⋅l ⎟    5 ⎜  16⋅√133⋅c₂ ⋅l    37⋅c₂ ⋅l ⎟    4 ⎜ \n",
       "───⎟ + l ⋅⎜- ────── + ───────────⎟ + l ⋅⎜- ────────────── - ─────────⎟ + l ⋅⎜-\n",
       "   ⎠      ⎝    3           21    ⎠      ⎝       315            315   ⎠      ⎝ \n",
       "                                                                              \n",
       "⎞      ⎛           2  4          2  4⎞      ⎛        2  5            2  5⎞    \n",
       "⎟    7 ⎜  821⋅√5⋅c₄ ⋅l    6712⋅c₄ ⋅l ⎟    6 ⎜  445⋅c₄ ⋅l    205⋅√5⋅c₄ ⋅l ⎟    \n",
       "⎟ + l ⋅⎜- ───────────── + ───────────⎟ + l ⋅⎜- ────────── + ─────────────⎟ + l\n",
       "⎠      ⎝       5082           7623   ⎠      ⎝     1452           1452    ⎠    \n",
       "                                                                              \n",
       "2⎞      ⎛         2  3     2  3⎞      ⎛       2  4             2  4⎞      ⎛   \n",
       " ⎟    6 ⎜  √133⋅c₂ ⋅l    c₂ ⋅l ⎟    5 ⎜  37⋅c₂ ⋅l    16⋅√133⋅c₂ ⋅l ⎟    4 ⎜  √\n",
       "─⎟ + l ⋅⎜- ─────────── - ──────⎟ + l ⋅⎜- ───────── + ──────────────⎟ + l ⋅⎜- ─\n",
       " ⎠      ⎝       21         3   ⎠      ⎝     315           315      ⎠      ⎝   \n",
       "                                                                              \n",
       "⎞      ⎛         2  4          2  4⎞      ⎛           2  5         2  5⎞      \n",
       "⎟    7 ⎜821⋅√5⋅c₄ ⋅l    6712⋅c₄ ⋅l ⎟    6 ⎜  205⋅√5⋅c₄ ⋅l    445⋅c₄ ⋅l ⎟    5 \n",
       "⎟ + l ⋅⎜───────────── + ───────────⎟ + l ⋅⎜- ───────────── - ──────────⎟ + l ⋅\n",
       "⎠      ⎝     5082           7623   ⎠      ⎝       1452          1452   ⎠      \n",
       "\n",
       "     2  5          2  5⎞      ⎛         2  6        2  6⎞                     \n",
       " 5⋅c₂ ⋅l    √133⋅c₂ ⋅l ⎟    3 ⎜2⋅√133⋅c₂ ⋅l    26⋅c₂ ⋅l ⎟                     \n",
       " ──────── + ───────────⎟ + l ⋅⎜───────────── + ─────────⎟                     \n",
       "   126          126    ⎠      ⎝     189           189   ⎠                     \n",
       "                                                                              \n",
       "  ⎛           2  6         2  6⎞      ⎛       2  7          2  7⎞      ⎛     2\n",
       "5 ⎜  109⋅√5⋅c₄ ⋅l    245⋅c₄ ⋅l ⎟    4 ⎜  35⋅c₄ ⋅l    9⋅√5⋅c₄ ⋅l ⎟    3 ⎜√5⋅c₄ \n",
       " ⋅⎜- ───────────── + ──────────⎟ + l ⋅⎜- ───────── + ───────────⎟ + l ⋅⎜──────\n",
       "  ⎝       1815          4356   ⎠      ⎝     2904         968    ⎠      ⎝   217\n",
       "                                                                              \n",
       "      2  5       2  5⎞      ⎛           2  6        2  6⎞                     \n",
       "133⋅c₂ ⋅l    5⋅c₂ ⋅l ⎟    3 ⎜  2⋅√133⋅c₂ ⋅l    26⋅c₂ ⋅l ⎟                     \n",
       "────────── - ────────⎟ + l ⋅⎜- ───────────── + ─────────⎟                     \n",
       "   126         126   ⎠      ⎝       189           189   ⎠                     \n",
       "                                                                              \n",
       "⎛      2  6            2  6⎞      ⎛         2  7        2  7⎞      ⎛       2  \n",
       "⎜245⋅c₄ ⋅l    109⋅√5⋅c₄ ⋅l ⎟    4 ⎜  9⋅√5⋅c₄ ⋅l    35⋅c₄ ⋅l ⎟    3 ⎜  √5⋅c₄ ⋅l\n",
       "⎜────────── + ─────────────⎟ + l ⋅⎜- ─────────── - ─────────⎟ + l ⋅⎜- ────────\n",
       "⎝   4356           1815    ⎠      ⎝      968          2904  ⎠      ⎝     2178 \n",
       "\n",
       "                ⎤\n",
       "                ⎥\n",
       "                ⎥\n",
       "                ⎥\n",
       "                ⎥\n",
       "  8        2  8⎞⎥\n",
       "⋅l    23⋅c₄ ⋅l ⎟⎥\n",
       "─── + ─────────⎟⎥\n",
       "8        6534  ⎠⎥\n",
       "                ⎥\n",
       "                ⎥\n",
       "                ⎥\n",
       "                ⎥\n",
       "                ⎥\n",
       "                ⎥\n",
       "8        2  8⎞  ⎥\n",
       "    23⋅c₄ ⋅l ⎟  ⎥\n",
       "─ + ─────────⎟  ⎥\n",
       "       6534  ⎠  ⎦"
      ]
     },
     "execution_count": 22,
     "metadata": {},
     "output_type": "execute_result"
    }
   ],
   "source": [
    "INTPHISQ = integrate(PHISQ, (x, 0, l))\n",
    "INTPHISQ"
   ]
  },
  {
   "cell_type": "code",
   "execution_count": 26,
   "metadata": {},
   "outputs": [
    {
     "data": {
      "text/latex": [
       "$$\\left[\\begin{matrix}- \\frac{21 \\sqrt{30} \\sqrt{\\frac{1}{l^{9}}}}{\\sqrt{23 \\sqrt{133} + 266}} & \\frac{21 \\sqrt{30} \\sqrt{\\frac{1}{l^{9}}}}{\\sqrt{23 \\sqrt{133} + 266}}\\\\- \\frac{66 \\sqrt{70} \\sqrt{\\frac{1}{l^{11}}}}{\\sqrt{13 \\sqrt{5} + 30}} & \\frac{66 \\sqrt{70} \\sqrt{\\frac{1}{l^{11}}}}{\\sqrt{13 \\sqrt{5} + 30}}\\\\- \\frac{21 \\sqrt{30} \\sqrt{\\frac{1}{l^{9}}}}{\\sqrt{- 23 \\sqrt{133} + 266}} & \\frac{21 \\sqrt{30} \\sqrt{\\frac{1}{l^{9}}}}{\\sqrt{- 23 \\sqrt{133} + 266}}\\\\- \\frac{66 \\sqrt{70} \\sqrt{\\frac{1}{l^{11}}}}{\\sqrt{- 13 \\sqrt{5} + 30}} & \\frac{66 \\sqrt{70} \\sqrt{\\frac{1}{l^{11}}}}{\\sqrt{- 13 \\sqrt{5} + 30}}\\end{matrix}\\right]$$"
      ],
      "text/plain": [
       "⎡             ____                 ____ ⎤\n",
       "⎢            ╱ 1                  ╱ 1   ⎥\n",
       "⎢-21⋅√30⋅   ╱  ──      21⋅√30⋅   ╱  ──  ⎥\n",
       "⎢          ╱    9               ╱    9  ⎥\n",
       "⎢        ╲╱    l              ╲╱    l   ⎥\n",
       "⎢──────────────────   ───────────────── ⎥\n",
       "⎢  _______________      _______________ ⎥\n",
       "⎢╲╱ 23⋅√133 + 266     ╲╱ 23⋅√133 + 266  ⎥\n",
       "⎢                                       ⎥\n",
       "⎢             _____               _____ ⎥\n",
       "⎢            ╱  1                ╱  1   ⎥\n",
       "⎢-66⋅√70⋅   ╱  ───    66⋅√70⋅   ╱  ───  ⎥\n",
       "⎢          ╱    11             ╱    11  ⎥\n",
       "⎢        ╲╱    l             ╲╱    l    ⎥\n",
       "⎢───────────────────  ───────────────── ⎥\n",
       "⎢     ____________        ____________  ⎥\n",
       "⎢   ╲╱ 13⋅√5 + 30       ╲╱ 13⋅√5 + 30   ⎥\n",
       "⎢                                       ⎥\n",
       "⎢             ____                 ____ ⎥\n",
       "⎢            ╱ 1                  ╱ 1   ⎥\n",
       "⎢-21⋅√30⋅   ╱  ──      21⋅√30⋅   ╱  ──  ⎥\n",
       "⎢          ╱    9               ╱    9  ⎥\n",
       "⎢        ╲╱    l              ╲╱    l   ⎥\n",
       "⎢──────────────────   ──────────────────⎥\n",
       "⎢  ________________     ________________⎥\n",
       "⎢╲╱ -23⋅√133 + 266    ╲╱ -23⋅√133 + 266 ⎥\n",
       "⎢                                       ⎥\n",
       "⎢             _____               _____ ⎥\n",
       "⎢            ╱  1                ╱  1   ⎥\n",
       "⎢-66⋅√70⋅   ╱  ───    66⋅√70⋅   ╱  ───  ⎥\n",
       "⎢          ╱    11             ╱    11  ⎥\n",
       "⎢        ╲╱    l             ╲╱    l    ⎥\n",
       "⎢───────────────────  ───────────────── ⎥\n",
       "⎢    _____________       _____________  ⎥\n",
       "⎣  ╲╱ -13⋅√5 + 30      ╲╱ -13⋅√5 + 30   ⎦"
      ]
     },
     "execution_count": 26,
     "metadata": {},
     "output_type": "execute_result"
    }
   ],
   "source": [
    "for a in range(1, len(C)+1):\n",
    "    SOL = solve(INTPHISQ[a-1]-1, C)\n",
    "    if len(C) == 1:\n",
    "        SOL = list([{c1:SOL[0]}, {c1:SOL[1]}])\n",
    "    for b in range(1, len(C)+1):\n",
    "        for c in range(1, len(SOL)+1):\n",
    "            if sympify('c'+str(b)) in SOL[c-1]:\n",
    "                if c == 1:\n",
    "                    COEFrow = Matrix([SOL[c-1][sympify('c'+str(b))]])\n",
    "                else:\n",
    "                    COEFrow = COEFrow.col_insert(c-1, Matrix([SOL[c-1][sympify('c'+str(b))]]))\n",
    "    if a == 1:\n",
    "        COEF = COEFrow\n",
    "    else:\n",
    "        COEF = COEF.row_insert(a-1, COEFrow)\n",
    "COEF"
   ]
  },
  {
   "cell_type": "code",
   "execution_count": 27,
   "metadata": {},
   "outputs": [
    {
     "name": "stdout",
     "output_type": "stream",
     "text": [
      "\n",
      "Coefincientes de la funcion variacional lineal.\n",
      "\n",
      "c_i = \n",
      "\n"
     ]
    },
    {
     "data": {
      "text/latex": [
       "$$\\left[\\begin{matrix}4.40399751133633 l^{2} \\left(\\frac{1}{l^{9}}\\right)^{0.5} & 0 & - 28.6462005494649 l^{2} \\left(\\frac{1}{l^{9}}\\right)^{0.5} & 0\\\\4.99034859672658 \\left(\\frac{1}{l^{9}}\\right)^{0.5} & 0 & 132.721876195613 \\left(\\frac{1}{l^{9}}\\right)^{0.5} & 0\\\\0 & 16.7823521557751 l^{2} \\left(\\frac{1}{l^{11}}\\right)^{0.5} & 0 & - 98.9866286733696 l^{2} \\left(\\frac{1}{l^{11}}\\right)^{0.5}\\\\0 & 71.8478164291383 \\left(\\frac{1}{l^{11}}\\right)^{0.5} & 0 & 572.256840303692 \\left(\\frac{1}{l^{11}}\\right)^{0.5}\\end{matrix}\\right]$$"
      ],
      "text/plain": [
       "⎡                        0.5                                                  \n",
       "⎢                  2 ⎛1 ⎞                                                     \n",
       "⎢4.40399751133633⋅l ⋅⎜──⎟                  0                -28.6462005494649⋅\n",
       "⎢                    ⎜ 9⎟                                                     \n",
       "⎢                    ⎝l ⎠                                                     \n",
       "⎢                                                                             \n",
       "⎢                      0.5                                                    \n",
       "⎢                  ⎛1 ⎞                                                       \n",
       "⎢ 4.99034859672658⋅⎜──⎟                    0                  132.721876195613\n",
       "⎢                  ⎜ 9⎟                                                       \n",
       "⎢                  ⎝l ⎠                                                       \n",
       "⎢                                                                             \n",
       "⎢                                                      0.5                    \n",
       "⎢                                               2 ⎛ 1 ⎞                       \n",
       "⎢             0               16.7823521557751⋅l ⋅⎜───⎟                  0    \n",
       "⎢                                                 ⎜ 11⎟                       \n",
       "⎢                                                 ⎝l  ⎠                       \n",
       "⎢                                                                             \n",
       "⎢                                                    0.5                      \n",
       "⎢                                               ⎛ 1 ⎞                         \n",
       "⎢             0                71.8478164291383⋅⎜───⎟                    0    \n",
       "⎢                                               ⎜ 11⎟                         \n",
       "⎣                                               ⎝l  ⎠                         \n",
       "\n",
       "       0.5                               ⎤\n",
       " 2 ⎛1 ⎞                                  ⎥\n",
       "l ⋅⎜──⎟                   0              ⎥\n",
       "   ⎜ 9⎟                                  ⎥\n",
       "   ⎝l ⎠                                  ⎥\n",
       "                                         ⎥\n",
       "     0.5                                 ⎥\n",
       " ⎛1 ⎞                                    ⎥\n",
       "⋅⎜──⎟                     0              ⎥\n",
       " ⎜ 9⎟                                    ⎥\n",
       " ⎝l ⎠                                    ⎥\n",
       "                                         ⎥\n",
       "                                      0.5⎥\n",
       "                               2 ⎛ 1 ⎞   ⎥\n",
       "            -98.9866286733696⋅l ⋅⎜───⎟   ⎥\n",
       "                                 ⎜ 11⎟   ⎥\n",
       "                                 ⎝l  ⎠   ⎥\n",
       "                                         ⎥\n",
       "                                    0.5  ⎥\n",
       "                               ⎛ 1 ⎞     ⎥\n",
       "              572.256840303692⋅⎜───⎟     ⎥\n",
       "                               ⎜ 11⎟     ⎥\n",
       "                               ⎝l  ⎠     ⎦"
      ]
     },
     "execution_count": 27,
     "metadata": {},
     "output_type": "execute_result"
    }
   ],
   "source": [
    "#Seleccionar entre las 2 raices-----------------------------------------------------------!!!\n",
    "CRF = CR[:, :]\n",
    "for a in range(1, len(C)+1):\n",
    "    SOL = solve(INTPHISQ[a-1]-1, C)\n",
    "    if len(C) == 1:\n",
    "        SOL = list([{c1:SOL[0]}, {c1:SOL[1]}])\n",
    "    for b in range(1, len(C)+1):\n",
    "        if sympify('c'+str(b)) in SOL[1]:\n",
    "            Z = CRF.col(a-1).subs(sympify('c'+str(b)), SOL[1][sympify('c'+str(b))])\n",
    "            CRF.col_del(a-1)\n",
    "            CRF = CRF.col_insert(a-1, Z)\n",
    "print(\"\\nCoefincientes de la funcion variacional lineal.\")\n",
    "print(\"\\nc_i = \\n\")\n",
    "CRF.evalf()"
   ]
  },
  {
   "cell_type": "code",
   "execution_count": 28,
   "metadata": {},
   "outputs": [
    {
     "name": "stdout",
     "output_type": "stream",
     "text": [
      "\n",
      "Funciones de onda.\n",
      "\n",
      "f_i = \n",
      "\n"
     ]
    },
    {
     "data": {
      "text/latex": [
       "$$\\left[\\begin{matrix}4.40399751133633 l^{2} x \\left(l - x\\right) \\left(\\frac{1}{l^{9}}\\right)^{0.5} + 4.99034859672658 x^{2} \\left(l - x\\right)^{2} \\left(\\frac{1}{l^{9}}\\right)^{0.5}\\\\16.7823521557751 l^{2} x \\left(0.5 l - x\\right) \\left(l - x\\right) \\left(\\frac{1}{l^{11}}\\right)^{0.5} + 71.8478164291383 x^{2} \\left(0.5 l - x\\right) \\left(l - x\\right)^{2} \\left(\\frac{1}{l^{11}}\\right)^{0.5}\\\\- 28.6462005494649 l^{2} x \\left(l - x\\right) \\left(\\frac{1}{l^{9}}\\right)^{0.5} + 132.721876195613 x^{2} \\left(l - x\\right)^{2} \\left(\\frac{1}{l^{9}}\\right)^{0.5}\\\\- 98.9866286733696 l^{2} x \\left(0.5 l - x\\right) \\left(l - x\\right) \\left(\\frac{1}{l^{11}}\\right)^{0.5} + 572.256840303692 x^{2} \\left(0.5 l - x\\right) \\left(l - x\\right)^{2} \\left(\\frac{1}{l^{11}}\\right)^{0.5}\\end{matrix}\\right]$$"
      ],
      "text/plain": [
       "⎡                                                0.5                          \n",
       "⎢                                2           ⎛1 ⎞                        2    \n",
       "⎢              4.40399751133633⋅l ⋅x⋅(l - x)⋅⎜──⎟    + 4.99034859672658⋅x ⋅(l \n",
       "⎢                                            ⎜ 9⎟                             \n",
       "⎢                                            ⎝l ⎠                             \n",
       "⎢                                                                             \n",
       "⎢                                                0.5                          \n",
       "⎢                   2                       ⎛ 1 ⎞                        2    \n",
       "⎢ 16.7823521557751⋅l ⋅x⋅(0.5⋅l - x)⋅(l - x)⋅⎜───⎟    + 71.8478164291383⋅x ⋅(0.\n",
       "⎢                                           ⎜ 11⎟                             \n",
       "⎢                                           ⎝l  ⎠                             \n",
       "⎢                                                                             \n",
       "⎢                                                 0.5                         \n",
       "⎢                                 2           ⎛1 ⎞                        2   \n",
       "⎢             - 28.6462005494649⋅l ⋅x⋅(l - x)⋅⎜──⎟    + 132.721876195613⋅x ⋅(l\n",
       "⎢                                             ⎜ 9⎟                            \n",
       "⎢                                             ⎝l ⎠                            \n",
       "⎢                                                                             \n",
       "⎢                                                 0.5                         \n",
       "⎢                    2                       ⎛ 1 ⎞                        2   \n",
       "⎢- 98.9866286733696⋅l ⋅x⋅(0.5⋅l - x)⋅(l - x)⋅⎜───⎟    + 572.256840303692⋅x ⋅(0\n",
       "⎢                                            ⎜ 11⎟                            \n",
       "⎣                                            ⎝l  ⎠                            \n",
       "\n",
       "          0.5              ⎤\n",
       "    2 ⎛1 ⎞                 ⎥\n",
       "- x) ⋅⎜──⎟                 ⎥\n",
       "      ⎜ 9⎟                 ⎥\n",
       "      ⎝l ⎠                 ⎥\n",
       "                           ⎥\n",
       "                       0.5 ⎥\n",
       "                2 ⎛ 1 ⎞    ⎥\n",
       "5⋅l - x)⋅(l - x) ⋅⎜───⎟    ⎥\n",
       "                  ⎜ 11⎟    ⎥\n",
       "                  ⎝l  ⎠    ⎥\n",
       "                           ⎥\n",
       "           0.5             ⎥\n",
       "     2 ⎛1 ⎞                ⎥\n",
       " - x) ⋅⎜──⎟                ⎥\n",
       "       ⎜ 9⎟                ⎥\n",
       "       ⎝l ⎠                ⎥\n",
       "                           ⎥\n",
       "                        0.5⎥\n",
       "                 2 ⎛ 1 ⎞   ⎥\n",
       ".5⋅l - x)⋅(l - x) ⋅⎜───⎟   ⎥\n",
       "                   ⎜ 11⎟   ⎥\n",
       "                   ⎝l  ⎠   ⎦"
      ]
     },
     "execution_count": 28,
     "metadata": {},
     "output_type": "execute_result"
    }
   ],
   "source": [
    "#Calcular la función de onda\n",
    "for a in range(1, len(C)+1):\n",
    "    if a == 1:\n",
    "        PHIS = Matrix([F*CRF.col(a-1)])\n",
    "    else:\n",
    "        PHIS = PHIS.row_insert(a-1, Matrix([F*CRF.col(a-1)]))\n",
    "\n",
    "print(\"\\nFunciones de onda.\")\n",
    "print(\"\\nf_i = \\n\")\n",
    "PHIS.evalf()"
   ]
  },
  {
   "cell_type": "code",
   "execution_count": 29,
   "metadata": {},
   "outputs": [
    {
     "data": {
      "image/png": "[encoded data removed]",
      "text/plain": [
       "<matplotlib.figure.Figure at 0x1d8111a17b8>"
      ]
     },
     "metadata": {},
     "output_type": "display_data"
    },
    {
     "data": {
      "image/png": "[encoded data removed]",
      "text/plain": [
       "<matplotlib.figure.Figure at 0x1d8125d7780>"
      ]
     },
     "metadata": {},
     "output_type": "display_data"
    },
    {
     "data": {
      "image/png": "[encoded data removed]",
      "text/plain": [
       "<matplotlib.figure.Figure at 0x1d8135f9a90>"
      ]
     },
     "metadata": {},
     "output_type": "display_data"
    },
    {
     "data": {
      "image/png": "[encoded data removed]",
      "text/plain": [
       "<matplotlib.figure.Figure at 0x1d81365b6d8>"
      ]
     },
     "metadata": {},
     "output_type": "display_data"
    },
    {
     "data": {
      "text/plain": [
       "<sympy.plotting.plot.Plot at 0x1d81110d160>"
      ]
     },
     "execution_count": 29,
     "metadata": {},
     "output_type": "execute_result"
    }
   ],
   "source": [
    "#Graficar phi y |phi|^2------------------------------------------------------------------------!!!\n",
    "PHISSQ = zeros(len(C), 1)\n",
    "for a in range(1, len(C)+1):\n",
    "    PHISSQ[a-1] = PHIS[a-1]**2\n",
    "INTPHISSQ = integrate(PHISSQ, x)\n",
    "plot((PHIS.subs(l, 1)[0], (x, 0, 1)), (PHISSQ.subs(l, 1)[0], (x, 0, 1)))\n",
    "plot((PHIS.subs(l, 1)[1], (x, 0, 1)), (PHISSQ.subs(l, 1)[1], (x, 0, 1)))\n",
    "plot((PHIS.subs(l, 1)[2], (x, 0, 1)), (PHISSQ.subs(l, 1)[2], (x, 0, 1)))\n",
    "plot((PHIS.subs(l, 1)[3], (x, 0, 1)), (PHISSQ.subs(l, 1)[3], (x, 0, 1)))"
   ]
  },
  {
   "cell_type": "code",
   "execution_count": null,
   "metadata": {
    "collapsed": true
   },
   "outputs": [],
   "source": [
    "print(\"Esta linea sólo es para compara con los resultados del libro.\")\n",
    "var('X')\n",
    "PHIS.subs(x, X*l).evalf()"
   ]
  },
  {
   "cell_type": "code",
   "execution_count": null,
   "metadata": {
    "collapsed": true
   },
   "outputs": [],
   "source": []
  },
  {
   "cell_type": "code",
   "execution_count": null,
   "metadata": {
    "collapsed": true
   },
   "outputs": [],
   "source": []
  }
 ],
 "metadata": {
  "kernelspec": {
   "display_name": "Python 3",
   "language": "python",
   "name": "python3"
  },
  "language_info": {
   "codemirror_mode": {
    "name": "ipython",
    "version": 3
   },
   "file_extension": ".py",
   "mimetype": "text/x-python",
   "name": "python",
   "nbconvert_exporter": "python",
   "pygments_lexer": "ipython3",
   "version": "3.6.1"
  }
 },
 "nbformat": 4,
 "nbformat_minor": 2
}
