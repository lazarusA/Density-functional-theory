{
 "cells": [
  {
   "cell_type": "code",
   "execution_count": 1,
   "metadata": {
    "collapsed": true
   },
   "outputs": [],
   "source": [
    "from sympy import *\n",
    "init_printing(use_latex = 'mathjax')"
   ]
  },
  {
   "cell_type": "code",
   "execution_count": 2,
   "metadata": {},
   "outputs": [
    {
     "data": {
      "text/latex": [
       "$$\\left ( x, \\quad m, \\quad \\hbar, \\quad W\\right )$$"
      ],
      "text/plain": [
       "(x, m, h̅, W)"
      ]
     },
     "execution_count": 2,
     "metadata": {},
     "output_type": "execute_result"
    }
   ],
   "source": [
    "var('x m hbar W')"
   ]
  },
  {
   "cell_type": "code",
   "execution_count": 3,
   "metadata": {},
   "outputs": [],
   "source": [
    "def T(psi):\n",
    "    return (-(hbar**2/(2*m))*diff(psi, x, 2))"
   ]
  },
  {
   "cell_type": "code",
   "execution_count": 4,
   "metadata": {
    "collapsed": true
   },
   "outputs": [],
   "source": [
    "def V(psi):\n",
    "    return 0*psi"
   ]
  },
  {
   "cell_type": "code",
   "execution_count": 5,
   "metadata": {
    "collapsed": true
   },
   "outputs": [],
   "source": [
    "def Hamiltonian(psi):\n",
    "    return (T(psi)+V(psi))"
   ]
  },
  {
   "cell_type": "code",
   "execution_count": 6,
   "metadata": {},
   "outputs": [
    {
     "name": "stdout",
     "output_type": "stream",
     "text": [
      "Añada las variables simbólicas que requiera. Introduzcalas separadas por espacios.\n",
      "Variables añadidas: l\n"
     ]
    }
   ],
   "source": [
    "print(\"Añada las variables simbólicas que requiera. Introduzcalas separadas por espacios.\")\n",
    "user_variables = input(\"Variables añadidas: \")"
   ]
  },
  {
   "cell_type": "code",
   "execution_count": 7,
   "metadata": {},
   "outputs": [
    {
     "data": {
      "text/latex": [
       "$$l$$"
      ],
      "text/plain": [
       "l"
      ]
     },
     "execution_count": 7,
     "metadata": {},
     "output_type": "execute_result"
    }
   ],
   "source": [
    "var(user_variables)"
   ]
  },
  {
   "cell_type": "code",
   "execution_count": 22,
   "metadata": {},
   "outputs": [
    {
     "name": "stdout",
     "output_type": "stream",
     "text": [
      "Introduzca las funciones que requiera. Cuando haya acabado introduzca: 'done'.\n",
      "f_1 = \n",
      "x*(l-x)\n",
      "f_2 = \n",
      "x**2*(l-x)**2\n",
      "f_3 = \n",
      "x*(l-x)*((1/2)*l-x)\n",
      "f_4 = \n",
      "x**2*(l-x)**2*((1/2)*l-x)\n",
      "f_5 = \n",
      "done\n"
     ]
    },
    {
     "data": {
      "text/latex": [
       "$$\\left[\\begin{matrix}x \\left(l - x\\right) & x^{2} \\left(l - x\\right)^{2} & x \\left(\\frac{l}{2} - x\\right) \\left(l - x\\right) & x^{2} \\left(\\frac{l}{2} - x\\right) \\left(l - x\\right)^{2}\\end{matrix}\\right]$$"
      ],
      "text/plain": [
       "⎡            2        2    ⎛l    ⎞           2 ⎛l    ⎞        2⎤\n",
       "⎢x⋅(l - x)  x ⋅(l - x)   x⋅⎜─ - x⎟⋅(l - x)  x ⋅⎜─ - x⎟⋅(l - x) ⎥\n",
       "⎣                          ⎝2    ⎠             ⎝2    ⎠         ⎦"
      ]
     },
     "execution_count": 22,
     "metadata": {},
     "output_type": "execute_result"
    }
   ],
   "source": [
    "f = ''\n",
    "a = 0\n",
    "print(\"Introduzca las funciones que requiera. Cuando haya acabado introduzca: 'done'.\")\n",
    "while (f != 'done'):\n",
    "    a = a + 1\n",
    "    print(\"f_\"+str(a)+\" = \")\n",
    "    f = input()\n",
    "    if f != 'done':\n",
    "        if a == 1:\n",
    "            F = Matrix([sympify(f)])\n",
    "            C = Matrix([var('c'+str(a))])\n",
    "        else:\n",
    "            F = F.col_insert(a-1, Matrix([sympify(f)]))\n",
    "            C = C.row_insert(a-1, Matrix([[var('c'+str(a))]]))\n",
    "F"
   ]
  },
  {
   "cell_type": "code",
   "execution_count": 23,
   "metadata": {},
   "outputs": [
    {
     "data": {
      "text/latex": [
       "$$\\left[\\begin{matrix}c_{1} x \\left(l - x\\right) + c_{2} x^{2} \\left(l - x\\right)^{2} + c_{3} x \\left(\\frac{l}{2} - x\\right) \\left(l - x\\right) + c_{4} x^{2} \\left(\\frac{l}{2} - x\\right) \\left(l - x\\right)^{2}\\end{matrix}\\right]$$"
      ],
      "text/plain": [
       "⎡                   2        2        ⎛l    ⎞               2 ⎛l    ⎞        2\n",
       "⎢c₁⋅x⋅(l - x) + c₂⋅x ⋅(l - x)  + c₃⋅x⋅⎜─ - x⎟⋅(l - x) + c₄⋅x ⋅⎜─ - x⎟⋅(l - x) \n",
       "⎣                                     ⎝2    ⎠                 ⎝2    ⎠         \n",
       "\n",
       "⎤\n",
       "⎥\n",
       "⎦"
      ]
     },
     "execution_count": 23,
     "metadata": {},
     "output_type": "execute_result"
    }
   ],
   "source": [
    "F*C"
   ]
  },
  {
   "cell_type": "code",
   "execution_count": 24,
   "metadata": {},
   "outputs": [
    {
     "data": {
      "text/latex": [
       "$$\\left[\\begin{matrix}\\frac{l^{5}}{30} & \\frac{l^{7}}{140} & 0 & 0\\\\\\frac{l^{7}}{140} & \\frac{l^{9}}{630} & 0 & 0\\\\0 & 0 & \\frac{l^{7}}{840} & \\frac{l^{9}}{5040}\\\\0 & 0 & \\frac{l^{9}}{5040} & \\frac{l^{11}}{27720}\\end{matrix}\\right]$$"
      ],
      "text/plain": [
       "⎡ 5     7             ⎤\n",
       "⎢l     l              ⎥\n",
       "⎢──   ───   0      0  ⎥\n",
       "⎢30   140             ⎥\n",
       "⎢                     ⎥\n",
       "⎢  7    9             ⎥\n",
       "⎢ l    l              ⎥\n",
       "⎢───  ───   0      0  ⎥\n",
       "⎢140  630             ⎥\n",
       "⎢                     ⎥\n",
       "⎢            7     9  ⎥\n",
       "⎢           l     l   ⎥\n",
       "⎢ 0    0   ───   ──── ⎥\n",
       "⎢          840   5040 ⎥\n",
       "⎢                     ⎥\n",
       "⎢            9     11 ⎥\n",
       "⎢           l     l   ⎥\n",
       "⎢ 0    0   ────  ─────⎥\n",
       "⎣          5040  27720⎦"
      ]
     },
     "execution_count": 24,
     "metadata": {},
     "output_type": "execute_result"
    }
   ],
   "source": [
    "S = integrate(F.T*F, (x, 0, l))\n",
    "S"
   ]
  },
  {
   "cell_type": "code",
   "execution_count": 11,
   "metadata": {},
   "outputs": [
    {
     "data": {
      "text/latex": [
       "$$\\left[\\begin{matrix}\\frac{\\hbar^{2} l^{3}}{6 m} & \\frac{\\hbar^{2} l^{5}}{30 m} & 0 & 0\\\\\\frac{\\hbar^{2} l^{5}}{30 m} & \\frac{\\hbar^{2} l^{7}}{105 m} & 0 & 0\\\\0 & 0 & \\frac{\\hbar^{2} l^{5}}{40 m} & \\frac{\\hbar^{2} l^{7}}{280 m}\\\\0 & 0 & \\frac{\\hbar^{2} l^{7}}{280 m} & \\frac{\\hbar^{2} l^{9}}{1260 m}\\end{matrix}\\right]$$"
      ],
      "text/plain": [
       "⎡  2  3    2  5                ⎤\n",
       "⎢h̅ ⋅l   h̅ ⋅l                 ⎥\n",
       "⎢──────  ──────    0       0   ⎥\n",
       "⎢ 6⋅m     30⋅m                 ⎥\n",
       "⎢                              ⎥\n",
       "⎢  2  5    2  7                ⎥\n",
       "⎢h̅ ⋅l   h̅ ⋅l                 ⎥\n",
       "⎢──────  ──────    0       0   ⎥\n",
       "⎢ 30⋅m   105⋅m                 ⎥\n",
       "⎢                              ⎥\n",
       "⎢                  2  5    2  7⎥\n",
       "⎢                h̅ ⋅l   h̅ ⋅l ⎥\n",
       "⎢  0       0     ──────  ──────⎥\n",
       "⎢                 40⋅m   280⋅m ⎥\n",
       "⎢                              ⎥\n",
       "⎢                  2  7    2  9⎥\n",
       "⎢                h̅ ⋅l   h̅ ⋅l ⎥\n",
       "⎢  0       0     ──────  ──────⎥\n",
       "⎣                280⋅m   1260⋅m⎦"
      ]
     },
     "execution_count": 11,
     "metadata": {},
     "output_type": "execute_result"
    }
   ],
   "source": [
    "H = integrate(F.T*Hamiltonian(F), (x, 0, l))\n",
    "H"
   ]
  },
  {
   "cell_type": "code",
   "execution_count": 25,
   "metadata": {},
   "outputs": [
    {
     "data": {
      "text/latex": [
       "$$\\left[\\begin{matrix}- \\frac{W l^{5}}{30} + \\frac{\\hbar^{2} l^{3}}{6 m} & - \\frac{W l^{7}}{140} + \\frac{\\hbar^{2} l^{5}}{30 m} & 0 & 0\\\\- \\frac{W l^{7}}{140} + \\frac{\\hbar^{2} l^{5}}{30 m} & - \\frac{W l^{9}}{630} + \\frac{\\hbar^{2} l^{7}}{105 m} & 0 & 0\\\\0 & 0 & - \\frac{W l^{7}}{840} + \\frac{\\hbar^{2} l^{5}}{40 m} & - \\frac{W l^{9}}{5040} + \\frac{\\hbar^{2} l^{7}}{280 m}\\\\0 & 0 & - \\frac{W l^{9}}{5040} + \\frac{\\hbar^{2} l^{7}}{280 m} & - \\frac{W l^{11}}{27720} + \\frac{\\hbar^{2} l^{9}}{1260 m}\\end{matrix}\\right]$$"
      ],
      "text/plain": [
       "⎡     5     2  3       7     2  5                                   ⎤\n",
       "⎢  W⋅l    h̅ ⋅l     W⋅l    h̅ ⋅l                                    ⎥\n",
       "⎢- ──── + ──────  - ──── + ──────         0                0        ⎥\n",
       "⎢   30     6⋅m      140     30⋅m                                    ⎥\n",
       "⎢                                                                   ⎥\n",
       "⎢     7     2  5       9     2  7                                   ⎥\n",
       "⎢  W⋅l    h̅ ⋅l     W⋅l    h̅ ⋅l                                    ⎥\n",
       "⎢- ──── + ──────  - ──── + ──────         0                0        ⎥\n",
       "⎢  140     30⋅m     630    105⋅m                                    ⎥\n",
       "⎢                                                                   ⎥\n",
       "⎢                                       7     2  5       9     2  7 ⎥\n",
       "⎢                                    W⋅l    h̅ ⋅l     W⋅l    h̅ ⋅l  ⎥\n",
       "⎢       0                0         - ──── + ──────  - ──── + ────── ⎥\n",
       "⎢                                    840     40⋅m     5040   280⋅m  ⎥\n",
       "⎢                                                                   ⎥\n",
       "⎢                                       9     2  7       11     2  9⎥\n",
       "⎢                                    W⋅l    h̅ ⋅l     W⋅l     h̅ ⋅l ⎥\n",
       "⎢       0                0         - ──── + ──────  - ───── + ──────⎥\n",
       "⎣                                    5040   280⋅m     27720   1260⋅m⎦"
      ]
     },
     "execution_count": 25,
     "metadata": {},
     "output_type": "execute_result"
    }
   ],
   "source": [
    "M = H-S*W\n",
    "M"
   ]
  },
  {
   "cell_type": "code",
   "execution_count": 26,
   "metadata": {},
   "outputs": [
    {
     "data": {
      "text/latex": [
       "$$\\frac{W^{4} l^{32}}{147867793920000} - \\frac{W^{3} \\hbar^{2} l^{30}}{840157920000 m} + \\frac{373 W^{2} \\hbar^{4} l^{28}}{6161158080000 m^{2}} - \\frac{W \\hbar^{6} l^{26}}{1047816000 m^{3}} + \\frac{\\hbar^{8} l^{24}}{296352000 m^{4}}$$"
      ],
      "text/plain": [
       "      4  32          3   2  30           2   4  28          6  26         8  2\n",
       "     W ⋅l           W ⋅h̅ ⋅l        373⋅W ⋅h̅ ⋅l        W⋅h̅ ⋅l         h̅ ⋅l \n",
       "─────────────── - ────────────── + ──────────────── - ───────────── + ────────\n",
       "147867793920000   840157920000⋅m                  2               3           \n",
       "                                   6161158080000⋅m    1047816000⋅m    29635200\n",
       "\n",
       "4   \n",
       "    \n",
       "────\n",
       "   4\n",
       "0⋅m "
      ]
     },
     "execution_count": 26,
     "metadata": {},
     "output_type": "execute_result"
    }
   ],
   "source": [
    "polyW = M.det()\n",
    "polyW"
   ]
  },
  {
   "cell_type": "code",
   "execution_count": 27,
   "metadata": {},
   "outputs": [
    {
     "data": {
      "text/latex": [
       "$$\\left [ \\frac{2 \\hbar^{2}}{l^{2} m} \\left(- \\sqrt{133} + 14\\right), \\quad \\frac{2 \\hbar^{2}}{l^{2} m} \\left(\\sqrt{133} + 14\\right), \\quad \\frac{2 \\hbar^{2}}{l^{2} m} \\left(- 9 \\sqrt{5} + 30\\right), \\quad \\frac{2 \\hbar^{2}}{l^{2} m} \\left(9 \\sqrt{5} + 30\\right)\\right ]$$"
      ],
      "text/plain": [
       "⎡    2                   2                  2                   2            ⎤\n",
       "⎢2⋅h̅ ⋅(-√133 + 14)  2⋅h̅ ⋅(√133 + 14)  2⋅h̅ ⋅(-9⋅√5 + 30)  2⋅h̅ ⋅(9⋅√5 + 30)⎥\n",
       "⎢──────────────────, ─────────────────, ──────────────────, ─────────────────⎥\n",
       "⎢        2                   2                  2                   2        ⎥\n",
       "⎣       l ⋅m                l ⋅m               l ⋅m                l ⋅m      ⎦"
      ]
     },
     "execution_count": 27,
     "metadata": {},
     "output_type": "execute_result"
    }
   ],
   "source": [
    "w = solve(polyW, W)\n",
    "w"
   ]
  },
  {
   "cell_type": "code",
   "execution_count": 28,
   "metadata": {},
   "outputs": [
    {
     "data": {
      "text/latex": [
       "$$\\left[\\begin{matrix}c_{1} \\left(- \\frac{W l^{5}}{30} + \\frac{\\hbar^{2} l^{3}}{6 m}\\right) + c_{2} \\left(- \\frac{W l^{7}}{140} + \\frac{\\hbar^{2} l^{5}}{30 m}\\right)\\\\c_{1} \\left(- \\frac{W l^{7}}{140} + \\frac{\\hbar^{2} l^{5}}{30 m}\\right) + c_{2} \\left(- \\frac{W l^{9}}{630} + \\frac{\\hbar^{2} l^{7}}{105 m}\\right)\\\\c_{3} \\left(- \\frac{W l^{7}}{840} + \\frac{\\hbar^{2} l^{5}}{40 m}\\right) + c_{4} \\left(- \\frac{W l^{9}}{5040} + \\frac{\\hbar^{2} l^{7}}{280 m}\\right)\\\\c_{3} \\left(- \\frac{W l^{9}}{5040} + \\frac{\\hbar^{2} l^{7}}{280 m}\\right) + c_{4} \\left(- \\frac{W l^{11}}{27720} + \\frac{\\hbar^{2} l^{9}}{1260 m}\\right)\\end{matrix}\\right]$$"
      ],
      "text/plain": [
       "⎡   ⎛     5     2  3⎞      ⎛     7     2  5⎞ ⎤\n",
       "⎢   ⎜  W⋅l    h̅ ⋅l ⎟      ⎜  W⋅l    h̅ ⋅l ⎟ ⎥\n",
       "⎢c₁⋅⎜- ──── + ──────⎟ + c₂⋅⎜- ──── + ──────⎟ ⎥\n",
       "⎢   ⎝   30     6⋅m  ⎠      ⎝  140     30⋅m ⎠ ⎥\n",
       "⎢                                            ⎥\n",
       "⎢   ⎛     7     2  5⎞      ⎛     9     2  7⎞ ⎥\n",
       "⎢   ⎜  W⋅l    h̅ ⋅l ⎟      ⎜  W⋅l    h̅ ⋅l ⎟ ⎥\n",
       "⎢c₁⋅⎜- ──── + ──────⎟ + c₂⋅⎜- ──── + ──────⎟ ⎥\n",
       "⎢   ⎝  140     30⋅m ⎠      ⎝  630    105⋅m ⎠ ⎥\n",
       "⎢                                            ⎥\n",
       "⎢   ⎛     7     2  5⎞      ⎛     9     2  7⎞ ⎥\n",
       "⎢   ⎜  W⋅l    h̅ ⋅l ⎟      ⎜  W⋅l    h̅ ⋅l ⎟ ⎥\n",
       "⎢c₃⋅⎜- ──── + ──────⎟ + c₄⋅⎜- ──── + ──────⎟ ⎥\n",
       "⎢   ⎝  840     40⋅m ⎠      ⎝  5040   280⋅m ⎠ ⎥\n",
       "⎢                                            ⎥\n",
       "⎢   ⎛     9     2  7⎞      ⎛     11     2  9⎞⎥\n",
       "⎢   ⎜  W⋅l    h̅ ⋅l ⎟      ⎜  W⋅l     h̅ ⋅l ⎟⎥\n",
       "⎢c₃⋅⎜- ──── + ──────⎟ + c₄⋅⎜- ───── + ──────⎟⎥\n",
       "⎣   ⎝  5040   280⋅m ⎠      ⎝  27720   1260⋅m⎠⎦"
      ]
     },
     "execution_count": 28,
     "metadata": {},
     "output_type": "execute_result"
    }
   ],
   "source": [
    "Ec = M*C\n",
    "Ec"
   ]
  },
  {
   "cell_type": "code",
   "execution_count": 29,
   "metadata": {},
   "outputs": [
    {
     "data": {
      "text/latex": [
       "$$\\left[\\begin{matrix}c_{1} \\left(- \\frac{\\hbar^{2} l^{3}}{15 m} \\left(- \\sqrt{133} + 14\\right) + \\frac{\\hbar^{2} l^{3}}{6 m}\\right) + c_{2} \\left(- \\frac{\\hbar^{2} l^{5}}{70 m} \\left(- \\sqrt{133} + 14\\right) + \\frac{\\hbar^{2} l^{5}}{30 m}\\right)\\\\c_{1} \\left(- \\frac{\\hbar^{2} l^{5}}{70 m} \\left(- \\sqrt{133} + 14\\right) + \\frac{\\hbar^{2} l^{5}}{30 m}\\right) + c_{2} \\left(- \\frac{\\hbar^{2} l^{7}}{315 m} \\left(- \\sqrt{133} + 14\\right) + \\frac{\\hbar^{2} l^{7}}{105 m}\\right)\\\\c_{3} \\left(- \\frac{\\hbar^{2} l^{5}}{420 m} \\left(- \\sqrt{133} + 14\\right) + \\frac{\\hbar^{2} l^{5}}{40 m}\\right) + c_{4} \\left(- \\frac{\\hbar^{2} l^{7}}{2520 m} \\left(- \\sqrt{133} + 14\\right) + \\frac{\\hbar^{2} l^{7}}{280 m}\\right)\\\\c_{3} \\left(- \\frac{\\hbar^{2} l^{7}}{2520 m} \\left(- \\sqrt{133} + 14\\right) + \\frac{\\hbar^{2} l^{7}}{280 m}\\right) + c_{4} \\left(- \\frac{\\hbar^{2} l^{9}}{13860 m} \\left(- \\sqrt{133} + 14\\right) + \\frac{\\hbar^{2} l^{9}}{1260 m}\\right)\\end{matrix}\\right]$$"
      ],
      "text/plain": [
       "⎡   ⎛    2  3                  2  3⎞      ⎛    2  5                  2  5⎞⎤\n",
       "⎢   ⎜  h̅ ⋅l ⋅(-√133 + 14)   h̅ ⋅l ⎟      ⎜  h̅ ⋅l ⋅(-√133 + 14)   h̅ ⋅l ⎟⎥\n",
       "⎢c₁⋅⎜- ─────────────────── + ──────⎟ + c₂⋅⎜- ─────────────────── + ──────⎟⎥\n",
       "⎢   ⎝          15⋅m           6⋅m  ⎠      ⎝          70⋅m           30⋅m ⎠⎥\n",
       "⎢                                                                         ⎥\n",
       "⎢   ⎛    2  5                  2  5⎞      ⎛    2  7                  2  7⎞⎥\n",
       "⎢   ⎜  h̅ ⋅l ⋅(-√133 + 14)   h̅ ⋅l ⎟      ⎜  h̅ ⋅l ⋅(-√133 + 14)   h̅ ⋅l ⎟⎥\n",
       "⎢c₁⋅⎜- ─────────────────── + ──────⎟ + c₂⋅⎜- ─────────────────── + ──────⎟⎥\n",
       "⎢   ⎝          70⋅m           30⋅m ⎠      ⎝         315⋅m          105⋅m ⎠⎥\n",
       "⎢                                                                         ⎥\n",
       "⎢   ⎛    2  5                  2  5⎞      ⎛    2  7                  2  7⎞⎥\n",
       "⎢   ⎜  h̅ ⋅l ⋅(-√133 + 14)   h̅ ⋅l ⎟      ⎜  h̅ ⋅l ⋅(-√133 + 14)   h̅ ⋅l ⎟⎥\n",
       "⎢c₃⋅⎜- ─────────────────── + ──────⎟ + c₄⋅⎜- ─────────────────── + ──────⎟⎥\n",
       "⎢   ⎝         420⋅m           40⋅m ⎠      ⎝         2520⋅m         280⋅m ⎠⎥\n",
       "⎢                                                                         ⎥\n",
       "⎢   ⎛    2  7                  2  7⎞      ⎛    2  9                  2  9⎞⎥\n",
       "⎢   ⎜  h̅ ⋅l ⋅(-√133 + 14)   h̅ ⋅l ⎟      ⎜  h̅ ⋅l ⋅(-√133 + 14)   h̅ ⋅l ⎟⎥\n",
       "⎢c₃⋅⎜- ─────────────────── + ──────⎟ + c₄⋅⎜- ─────────────────── + ──────⎟⎥\n",
       "⎣   ⎝         2520⋅m         280⋅m ⎠      ⎝        13860⋅m         1260⋅m⎠⎦"
      ]
     },
     "execution_count": 29,
     "metadata": {},
     "output_type": "execute_result"
    }
   ],
   "source": [
    "Ec.subs(W, w[0])"
   ]
  },
  {
   "cell_type": "code",
   "execution_count": 32,
   "metadata": {},
   "outputs": [
    {
     "data": {
      "text/latex": [
       "$$\\left[\\begin{matrix}c_{1}\\\\\\frac{7 c_{1} \\left(-23 + 2 \\sqrt{133}\\right)}{l^{2} \\left(- 3 \\sqrt{133} + 35\\right)}\\\\0\\\\0\\end{matrix}\\right]$$"
      ],
      "text/plain": [
       "⎡        c₁         ⎤\n",
       "⎢                   ⎥\n",
       "⎢7⋅c₁⋅(-23 + 2⋅√133)⎥\n",
       "⎢───────────────────⎥\n",
       "⎢  2                ⎥\n",
       "⎢ l ⋅(-3⋅√133 + 35) ⎥\n",
       "⎢                   ⎥\n",
       "⎢         0         ⎥\n",
       "⎢                   ⎥\n",
       "⎣         0         ⎦"
      ]
     },
     "execution_count": 32,
     "metadata": {},
     "output_type": "execute_result"
    }
   ],
   "source": [
    "C_val = solve(Ec.subs(W, w[0]), c2, c3, c4)\n",
    "for i in range(1, len(C)+1):\n",
    "    if sympify('c'+str(i)) in C_val:\n",
    "        C[i-1] = C_val[sympify('c'+str(i))]\n",
    "    else:\n",
    "        C[i-1] = sympify('c'+str(i))\n",
    "C"
   ]
  },
  {
   "cell_type": "code",
   "execution_count": 33,
   "metadata": {},
   "outputs": [
    {
     "data": {
      "text/latex": [
       "$$c_{1} x \\left(l - x\\right) + \\frac{7 c_{1} x^{2} \\left(-23 + 2 \\sqrt{133}\\right) \\left(l - x\\right)^{2}}{l^{2} \\left(- 3 \\sqrt{133} + 35\\right)}$$"
      ],
      "text/plain": [
       "                     2                       2\n",
       "               7⋅c₁⋅x ⋅(-23 + 2⋅√133)⋅(l - x) \n",
       "c₁⋅x⋅(l - x) + ───────────────────────────────\n",
       "                       2                      \n",
       "                      l ⋅(-3⋅√133 + 35)       "
      ]
     },
     "execution_count": 33,
     "metadata": {},
     "output_type": "execute_result"
    }
   ],
   "source": [
    "PHI = F*C\n",
    "phi = PHI[0]\n",
    "phi"
   ]
  },
  {
   "cell_type": "code",
   "execution_count": 34,
   "metadata": {},
   "outputs": [
    {
     "data": {
      "text/latex": [
       "$$\\left [ - \\frac{6 \\sqrt{35} \\sqrt{- 402064121796855 \\sqrt{133} + 4636829651693573} \\sqrt{\\frac{1}{l^{5}}}}{\\sqrt{- 617350507588103 \\sqrt{133} + 7119633371611586}}, \\quad \\frac{6 \\sqrt{35} \\sqrt{- 402064121796855 \\sqrt{133} + 4636829651693573} \\sqrt{\\frac{1}{l^{5}}}}{\\sqrt{- 617350507588103 \\sqrt{133} + 7119633371611586}}\\right ]$$"
      ],
      "text/plain": [
       "⎡                                                         ____                \n",
       "⎢         __________________________________________     ╱ 1             _____\n",
       "⎢-6⋅√35⋅╲╱ -402064121796855⋅√133 + 4636829651693573 ⋅   ╱  ──    6⋅√35⋅╲╱ -402\n",
       "⎢                                                      ╱    5                 \n",
       "⎢                                                    ╲╱    l                  \n",
       "⎢──────────────────────────────────────────────────────────────, ─────────────\n",
       "⎢           __________________________________________                     ___\n",
       "⎣         ╲╱ -617350507588103⋅√133 + 7119633371611586                    ╲╱ -6\n",
       "\n",
       "                                           ____⎤\n",
       "_____________________________________     ╱ 1  ⎥\n",
       "064121796855⋅√133 + 4636829651693573 ⋅   ╱  ── ⎥\n",
       "                                        ╱    5 ⎥\n",
       "                                      ╲╱    l  ⎥\n",
       "───────────────────────────────────────────────⎥\n",
       "_______________________________________        ⎥\n",
       "17350507588103⋅√133 + 7119633371611586         ⎦"
      ]
     },
     "execution_count": 34,
     "metadata": {},
     "output_type": "execute_result"
    }
   ],
   "source": [
    "c1s = solve(integrate(phi**2, (x, 0, l))-1, c1)\n",
    "c1s"
   ]
  },
  {
   "cell_type": "code",
   "execution_count": 36,
   "metadata": {},
   "outputs": [
    {
     "data": {
      "text/latex": [
       "$$- \\frac{6 \\sqrt{35} x \\sqrt{- 402064121796855 \\sqrt{133} + 4636829651693573} \\sqrt{\\frac{1}{l^{5}}}}{\\sqrt{- 617350507588103 \\sqrt{133} + 7119633371611586}} \\left(l - x\\right) - \\frac{42 \\sqrt{35} x^{2} \\left(-23 + 2 \\sqrt{133}\\right) \\sqrt{- 402064121796855 \\sqrt{133} + 4636829651693573} \\left(l - x\\right)^{2} \\sqrt{\\frac{1}{l^{5}}}}{l^{2} \\sqrt{- 617350507588103 \\sqrt{133} + 7119633371611586} \\left(- 3 \\sqrt{133} + 35\\right)}$$"
      ],
      "text/plain": [
       "                                                                    ____      \n",
       "            __________________________________________             ╱ 1        \n",
       "  6⋅√35⋅x⋅╲╱ -402064121796855⋅√133 + 4636829651693573 ⋅(l - x)⋅   ╱  ──    42⋅\n",
       "                                                                 ╱    5       \n",
       "                                                               ╲╱    l        \n",
       "- ────────────────────────────────────────────────────────────────────── - ───\n",
       "                 __________________________________________                   \n",
       "               ╲╱ -617350507588103⋅√133 + 7119633371611586                    \n",
       "\n",
       "                                                                              \n",
       "     2                  __________________________________________        2   \n",
       "√35⋅x ⋅(-23 + 2⋅√133)⋅╲╱ -402064121796855⋅√133 + 4636829651693573 ⋅(l - x) ⋅  \n",
       "                                                                              \n",
       "                                                                            ╲╱\n",
       "──────────────────────────────────────────────────────────────────────────────\n",
       "           2   __________________________________________                     \n",
       "          l ⋅╲╱ -617350507588103⋅√133 + 7119633371611586 ⋅(-3⋅√133 + 35)      \n",
       "\n",
       "   ____\n",
       "  ╱ 1  \n",
       " ╱  ── \n",
       "╱    5 \n",
       "    l  \n",
       "───────\n",
       "       \n",
       "       "
      ]
     },
     "execution_count": 36,
     "metadata": {},
     "output_type": "execute_result"
    }
   ],
   "source": [
    "phi1 = phi.subs(c1, c1s[0])\n",
    "phi1"
   ]
  },
  {
   "cell_type": "code",
   "execution_count": 37,
   "metadata": {},
   "outputs": [
    {
     "data": {
      "text/latex": [
       "$$\\frac{6 \\sqrt{35} x \\sqrt{- 402064121796855 \\sqrt{133} + 4636829651693573} \\sqrt{\\frac{1}{l^{5}}}}{\\sqrt{- 617350507588103 \\sqrt{133} + 7119633371611586}} \\left(l - x\\right) + \\frac{42 \\sqrt{35} x^{2} \\left(-23 + 2 \\sqrt{133}\\right) \\sqrt{- 402064121796855 \\sqrt{133} + 4636829651693573} \\left(l - x\\right)^{2} \\sqrt{\\frac{1}{l^{5}}}}{l^{2} \\sqrt{- 617350507588103 \\sqrt{133} + 7119633371611586} \\left(- 3 \\sqrt{133} + 35\\right)}$$"
      ],
      "text/plain": [
       "                                                                  ____        \n",
       "          __________________________________________             ╱ 1          \n",
       "6⋅√35⋅x⋅╲╱ -402064121796855⋅√133 + 4636829651693573 ⋅(l - x)⋅   ╱  ──    42⋅√3\n",
       "                                                               ╱    5         \n",
       "                                                             ╲╱    l          \n",
       "────────────────────────────────────────────────────────────────────── + ─────\n",
       "               __________________________________________                     \n",
       "             ╲╱ -617350507588103⋅√133 + 7119633371611586                      \n",
       "\n",
       "                                                                              \n",
       "   2                  __________________________________________        2     \n",
       "5⋅x ⋅(-23 + 2⋅√133)⋅╲╱ -402064121796855⋅√133 + 4636829651693573 ⋅(l - x) ⋅   ╱\n",
       "                                                                            ╱ \n",
       "                                                                          ╲╱  \n",
       "──────────────────────────────────────────────────────────────────────────────\n",
       "         2   __________________________________________                       \n",
       "        l ⋅╲╱ -617350507588103⋅√133 + 7119633371611586 ⋅(-3⋅√133 + 35)        \n",
       "\n",
       " ____\n",
       "╱ 1  \n",
       "  ── \n",
       "   5 \n",
       "  l  \n",
       "─────\n",
       "     \n",
       "     "
      ]
     },
     "execution_count": 37,
     "metadata": {},
     "output_type": "execute_result"
    }
   ],
   "source": [
    "phi2 = phi.subs(c1, c1s[1])\n",
    "phi2"
   ]
  },
  {
   "cell_type": "code",
   "execution_count": null,
   "metadata": {
    "collapsed": true
   },
   "outputs": [],
   "source": []
  }
 ],
 "metadata": {
  "kernelspec": {
   "display_name": "Python 3",
   "language": "python",
   "name": "python3"
  },
  "language_info": {
   "codemirror_mode": {
    "name": "ipython",
    "version": 3
   },
   "file_extension": ".py",
   "mimetype": "text/x-python",
   "name": "python",
   "nbconvert_exporter": "python",
   "pygments_lexer": "ipython3",
   "version": "3.6.1"
  }
 },
 "nbformat": 4,
 "nbformat_minor": 2
}
