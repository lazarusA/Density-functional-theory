{
 "cells": [
  {
   "cell_type": "code",
   "execution_count": 21,
   "metadata": {
    "collapsed": true
   },
   "outputs": [],
   "source": [
    "# Método para resolver las energías de un sistema cuántico\n",
    "import numpy as np\n",
    "from sympy import *\n",
    "from sympy import init_printing; init_printing(use_latex = 'mathjax')\n",
    "import matplotlib.pyplot as plt"
   ]
  },
  {
   "cell_type": "code",
   "execution_count": 22,
   "metadata": {
    "collapsed": false
   },
   "outputs": [
    {
     "data": {
      "text/latex": [
       "$$\\left ( x, \\quad l, \\quad m, \\quad \\hbar, \\quad w\\right )$$"
      ],
      "text/plain": [
       "(x, l, m, h̅, w)"
      ]
     },
     "execution_count": 22,
     "metadata": {},
     "output_type": "execute_result"
    }
   ],
   "source": [
    "# Variables utilizadas\n",
    "var('x l m hbar w')"
   ]
  },
  {
   "cell_type": "code",
   "execution_count": 23,
   "metadata": {
    "collapsed": false
   },
   "outputs": [
    {
     "name": "stdout",
     "output_type": "stream",
     "text": [
      "Introduce_el_número_de_funciones_que_vas_a_utilizar_para_resolver_el_problema:4\n",
      "Introduce la función 1:x*(l-x)\n",
      "Introduce la función 2:x**2*(l-x)**2\n",
      "Introduce la función 3:x*(l-x)*(1/2*l-x)\n",
      "Introduce la función 4:x**2*(l-x)**2*(1/2*l-x)\n"
     ]
    }
   ],
   "source": [
    "n = int(input('Introduce_el_número_de_funciones_que_vas_a_utilizar_para_resolver_el_problema:'))\n",
    "# Lista para ingresar las funciones\n",
    "f=[]\n",
    "# Matriz con integral de solapamiento\n",
    "Sm=[]\n",
    "# Matriz con integral de intercambio\n",
    "Hm=[]\n",
    "# Aproximación de las energías\n",
    "for i in range(n):\n",
    "    f.append((input('Introduce la función %d:' %(i+1))))\n",
    "f=sympify(f)\n",
    "\n",
    "# Para partícula en un pozo de potencial de 0 a l\n",
    "for i in range(n):\n",
    "    for j in range(n):\n",
    "        integrando1=(-hbar**2)/(2*m)*(f[i])*diff(f[j],x,2)\n",
    "        integrando2=(f[i])*f[j]\n",
    "        c=Integral(integrando1,(x,0,l))\n",
    "        c=c.doit()\n",
    "        Hm.append(c)\n",
    "        d=Integral(integrando2,(x,0,l))\n",
    "        d=d.doit()\n",
    "        Sm.append(d)\n",
    "Sm=np.reshape(Sm,(n,n))\n",
    "Hm=np.reshape(Hm,(n,n))\n",
    "\n",
    "# Matriz M: (Hij-Sij)*w\n",
    "M=(Hm-Sm*w)\n",
    "H=sympify(Matrix(M))\n",
    "Hdet=H.det()\n",
    "# Resolver el determinante para encontrar las energías\n",
    "E=solve(Hdet,w)\n",
    "Eev=np.zeros(n)\n",
    "a=0\n",
    "# Se evaluan las energías divididas entre 4*pi con los valores de hbar, m=1 y l=10A\n",
    "for i in range(n):\n",
    "    a=E[i]/(4*pi)\n",
    "    Eev[i]=(a.subs({hbar:1.0545718e-34,m:1,l:10e-10})).evalf()\n"
   ]
  },
  {
   "cell_type": "code",
   "execution_count": 37,
   "metadata": {
    "collapsed": false
   },
   "outputs": [
    {
     "data": {
      "text/latex": [
       "$$\\left[\\begin{matrix}\\frac{l^{5}}{30} & \\frac{l^{7}}{140} & 0 & 0\\\\\\frac{l^{7}}{140} & \\frac{l^{9}}{630} & 0 & 0\\\\0 & 0 & \\frac{l^{7}}{840} & \\frac{l^{9}}{5040}\\\\0 & 0 & \\frac{l^{9}}{5040} & \\frac{l^{11}}{27720}\\end{matrix}\\right]$$"
      ],
      "text/plain": [
       "⎡ 5     7             ⎤\n",
       "⎢l     l              ⎥\n",
       "⎢──   ───   0      0  ⎥\n",
       "⎢30   140             ⎥\n",
       "⎢                     ⎥\n",
       "⎢  7    9             ⎥\n",
       "⎢ l    l              ⎥\n",
       "⎢───  ───   0      0  ⎥\n",
       "⎢140  630             ⎥\n",
       "⎢                     ⎥\n",
       "⎢            7     9  ⎥\n",
       "⎢           l     l   ⎥\n",
       "⎢ 0    0   ───   ──── ⎥\n",
       "⎢          840   5040 ⎥\n",
       "⎢                     ⎥\n",
       "⎢            9     11 ⎥\n",
       "⎢           l     l   ⎥\n",
       "⎢ 0    0   ────  ─────⎥\n",
       "⎣          5040  27720⎦"
      ]
     },
     "execution_count": 37,
     "metadata": {},
     "output_type": "execute_result"
    }
   ],
   "source": [
    "sympify(Matrix(Sm))"
   ]
  },
  {
   "cell_type": "code",
   "execution_count": 38,
   "metadata": {
    "collapsed": false
   },
   "outputs": [
    {
     "data": {
      "text/latex": [
       "$$\\left[\\begin{matrix}\\frac{\\hbar^{2} l^{3}}{6 m} & \\frac{\\hbar^{2} l^{5}}{30 m} & 0 & 0\\\\\\frac{\\hbar^{2} l^{5}}{30 m} & \\frac{\\hbar^{2} l^{7}}{105 m} & 0 & 0\\\\0 & 0 & \\frac{\\hbar^{2} l^{5}}{40 m} & \\frac{\\hbar^{2} l^{7}}{280 m}\\\\0 & 0 & \\frac{\\hbar^{2} l^{7}}{280 m} & \\frac{\\hbar^{2} l^{9}}{1260 m}\\end{matrix}\\right]$$"
      ],
      "text/plain": [
       "⎡  2  3    2  5                ⎤\n",
       "⎢h̅ ⋅l   h̅ ⋅l                 ⎥\n",
       "⎢──────  ──────    0       0   ⎥\n",
       "⎢ 6⋅m     30⋅m                 ⎥\n",
       "⎢                              ⎥\n",
       "⎢  2  5    2  7                ⎥\n",
       "⎢h̅ ⋅l   h̅ ⋅l                 ⎥\n",
       "⎢──────  ──────    0       0   ⎥\n",
       "⎢ 30⋅m   105⋅m                 ⎥\n",
       "⎢                              ⎥\n",
       "⎢                  2  5    2  7⎥\n",
       "⎢                h̅ ⋅l   h̅ ⋅l ⎥\n",
       "⎢  0       0     ──────  ──────⎥\n",
       "⎢                 40⋅m   280⋅m ⎥\n",
       "⎢                              ⎥\n",
       "⎢                  2  7    2  9⎥\n",
       "⎢                h̅ ⋅l   h̅ ⋅l ⎥\n",
       "⎢  0       0     ──────  ──────⎥\n",
       "⎣                280⋅m   1260⋅m⎦"
      ]
     },
     "execution_count": 38,
     "metadata": {},
     "output_type": "execute_result"
    }
   ],
   "source": [
    "sympify(Matrix(Hm))"
   ]
  },
  {
   "cell_type": "code",
   "execution_count": 31,
   "metadata": {
    "collapsed": false
   },
   "outputs": [
    {
     "data": {
      "text/latex": [
       "$$\\left[\\begin{matrix}\\frac{\\hbar^{2} l^{3}}{6 m} - \\frac{l^{5} w}{30} & \\frac{\\hbar^{2} l^{5}}{30 m} - \\frac{l^{7} w}{140} & 0 & 0\\\\\\frac{\\hbar^{2} l^{5}}{30 m} - \\frac{l^{7} w}{140} & \\frac{\\hbar^{2} l^{7}}{105 m} - \\frac{l^{9} w}{630} & 0 & 0\\\\0 & 0 & \\frac{\\hbar^{2} l^{5}}{40 m} - \\frac{l^{7} w}{840} & \\frac{\\hbar^{2} l^{7}}{280 m} - \\frac{l^{9} w}{5040}\\\\0 & 0 & \\frac{\\hbar^{2} l^{7}}{280 m} - \\frac{l^{9} w}{5040} & \\frac{\\hbar^{2} l^{9}}{1260 m} - \\frac{l^{11} w}{27720}\\end{matrix}\\right]$$"
      ],
      "text/plain": [
       "⎡  2  3    5      2  5    7                                 ⎤\n",
       "⎢h̅ ⋅l    l ⋅w  h̅ ⋅l    l ⋅w                               ⎥\n",
       "⎢────── - ────  ────── - ────        0              0       ⎥\n",
       "⎢ 6⋅m      30    30⋅m    140                                ⎥\n",
       "⎢                                                           ⎥\n",
       "⎢  2  5    7      2  7    9                                 ⎥\n",
       "⎢h̅ ⋅l    l ⋅w  h̅ ⋅l    l ⋅w                               ⎥\n",
       "⎢────── - ────  ────── - ────        0              0       ⎥\n",
       "⎢ 30⋅m    140   105⋅m    630                                ⎥\n",
       "⎢                                                           ⎥\n",
       "⎢                                2  5    7      2  7    9   ⎥\n",
       "⎢                              h̅ ⋅l    l ⋅w  h̅ ⋅l    l ⋅w ⎥\n",
       "⎢      0              0        ────── - ────  ────── - ──── ⎥\n",
       "⎢                               40⋅m    840   280⋅m    5040 ⎥\n",
       "⎢                                                           ⎥\n",
       "⎢                                2  7    9      2  9    11  ⎥\n",
       "⎢                              h̅ ⋅l    l ⋅w  h̅ ⋅l    l  ⋅w⎥\n",
       "⎢      0              0        ────── - ────  ────── - ─────⎥\n",
       "⎣                              280⋅m    5040  1260⋅m   27720⎦"
      ]
     },
     "execution_count": 31,
     "metadata": {},
     "output_type": "execute_result"
    }
   ],
   "source": [
    "H"
   ]
  },
  {
   "cell_type": "code",
   "execution_count": 39,
   "metadata": {
    "collapsed": false
   },
   "outputs": [
    {
     "data": {
      "text/latex": [
       "$$\\left [ \\frac{2 \\hbar^{2}}{l^{2} m} \\left(- \\sqrt{133} + 14\\right), \\quad \\frac{2 \\hbar^{2}}{l^{2} m} \\left(\\sqrt{133} + 14\\right), \\quad \\frac{2 \\hbar^{2}}{l^{2} m} \\left(- 9 \\sqrt{5} + 30\\right), \\quad \\frac{2 \\hbar^{2}}{l^{2} m} \\left(9 \\sqrt{5} + 30\\right)\\right ]$$"
      ],
      "text/plain": [
       "⎡    2                   2                  2                   2            ⎤\n",
       "⎢2⋅h̅ ⋅(-√133 + 14)  2⋅h̅ ⋅(√133 + 14)  2⋅h̅ ⋅(-9⋅√5 + 30)  2⋅h̅ ⋅(9⋅√5 + 30)⎥\n",
       "⎢──────────────────, ─────────────────, ──────────────────, ─────────────────⎥\n",
       "⎢        2                   2                  2                   2        ⎥\n",
       "⎣       l ⋅m                l ⋅m               l ⋅m                l ⋅m      ⎦"
      ]
     },
     "execution_count": 39,
     "metadata": {},
     "output_type": "execute_result"
    }
   ],
   "source": [
    "E"
   ]
  },
  {
   "cell_type": "code",
   "execution_count": 40,
   "metadata": {
    "collapsed": false
   },
   "outputs": [
    {
     "name": "stdout",
     "output_type": "stream",
     "text": [
      "4.93487481065841*hbar**2/(l**2*m)\n",
      "51.0651251893416*hbar**2/(l**2*m)\n",
      "19.7507764050038*hbar**2/(l**2*m)\n",
      "100.249223594996*hbar**2/(l**2*m)\n"
     ]
    }
   ],
   "source": [
    "for i in range (n):\n",
    "    print(E[i].evalf())"
   ]
  },
  {
   "cell_type": "code",
   "execution_count": null,
   "metadata": {
    "collapsed": true
   },
   "outputs": [],
   "source": []
  }
 ],
 "metadata": {
  "anaconda-cloud": {},
  "kernelspec": {
   "display_name": "Python [conda root]",
   "language": "python",
   "name": "conda-root-py"
  },
  "language_info": {
   "codemirror_mode": {
    "name": "ipython",
    "version": 3
   },
   "file_extension": ".py",
   "mimetype": "text/x-python",
   "name": "python",
   "nbconvert_exporter": "python",
   "pygments_lexer": "ipython3",
   "version": "3.5.2"
  }
 },
 "nbformat": 4,
 "nbformat_minor": 1
}
