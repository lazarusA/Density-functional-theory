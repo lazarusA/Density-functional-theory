{
 "cells": [
  {
   "cell_type": "code",
   "execution_count": 149,
   "metadata": {},
   "outputs": [
    {
     "data": {
      "text/latex": [
       "$$\\left[\\begin{matrix}\\left ( c_{12}, \\quad 0\\right ) & \\left ( c_{11}, \\quad 0\\right ) & \\left ( c_{13}, \\quad - \\frac{\\sqrt{5} c_{14}}{11} l^{2} + \\frac{c_{14} l^{2}}{33}\\right )\\\\\\left ( c_{23}, \\quad 0\\right ) & \\left ( c_{21}, \\quad - \\frac{\\sqrt{133} c_{22}}{21} l^{2} + \\frac{c_{22} l^{2}}{3}\\right ) & \\left ( c_{24}, \\quad 0\\right )\\\\\\left ( c_{32}, \\quad 0\\right ) & \\left ( c_{31}, \\quad 0\\right ) & \\left ( c_{33}, \\quad \\frac{c_{34} l^{2}}{33} + \\frac{\\sqrt{5} c_{34}}{11} l^{2}\\right )\\\\\\left ( c_{44}, \\quad 0\\right ) & \\left ( c_{41}, \\quad \\frac{c_{42} l^{2}}{3} + \\frac{\\sqrt{133} c_{42}}{21} l^{2}\\right ) & \\left ( c_{43}, \\quad 0\\right )\\end{matrix}\\right]$$"
      ],
      "text/plain": [
       "⎡                                         ⎛               2        2⎞⎤\n",
       "⎢                                         ⎜       √5⋅c₁₄⋅l    c₁₄⋅l ⎟⎥\n",
       "⎢(c₁₂, 0)            (c₁₁, 0)             ⎜c₁₃, - ───────── + ──────⎟⎥\n",
       "⎢                                         ⎝           11        33  ⎠⎥\n",
       "⎢                                                                    ⎥\n",
       "⎢          ⎛                 2        2⎞                             ⎥\n",
       "⎢          ⎜       √133⋅c₂₂⋅l    c₂₂⋅l ⎟                             ⎥\n",
       "⎢(c₂₃, 0)  ⎜c₂₁, - ─────────── + ──────⎟           (c₂₄, 0)          ⎥\n",
       "⎢          ⎝            21         3   ⎠                             ⎥\n",
       "⎢                                                                    ⎥\n",
       "⎢                                          ⎛          2           2⎞ ⎥\n",
       "⎢                                          ⎜     c₃₄⋅l    √5⋅c₃₄⋅l ⎟ ⎥\n",
       "⎢(c₃₂, 0)            (c₃₁, 0)              ⎜c₃₃, ────── + ─────────⎟ ⎥\n",
       "⎢                                          ⎝       33         11   ⎠ ⎥\n",
       "⎢                                                                    ⎥\n",
       "⎢           ⎛          2             2⎞                              ⎥\n",
       "⎢           ⎜     c₄₂⋅l    √133⋅c₄₂⋅l ⎟                              ⎥\n",
       "⎢(c₄₄, 0)   ⎜c₄₁, ────── + ───────────⎟            (c₄₃, 0)          ⎥\n",
       "⎣           ⎝       3           21    ⎠                              ⎦"
      ]
     },
     "execution_count": 149,
     "metadata": {},
     "output_type": "execute_result"
    }
   ],
   "source": [
    "from sympy import *\n",
    "from sympy import init_printing; init_printing(use_latex = 'mathjax')\n",
    "import numpy as np\n",
    "\n",
    "#n = int(input('Qué número de valores de energía desea aproximar?'))\n",
    "n = 4\n",
    "\n",
    "l, m, hbar = symbols('l m hbar', real = True, constant = True)\n",
    "var('x,W')\n",
    "\n",
    "H = ones(n,n)\n",
    "S = ones(n,n)\n",
    "U = ones(n,n)\n",
    "CC = ones(n,n)\n",
    "\n",
    "#F = [sympify(input('Ingrese la función {0}: '.format(i+1))) for i in range(n)]\n",
    "F = [x*(l - x),(x**2)*((l - x)**2),x*(l - x)*((l/2)-x),(x**2)*((l - x)**2)*((l/2)-x)]\n",
    "\n",
    "c = ones(n,n)\n",
    "for i in range(n):\n",
    "    for j in range(n):\n",
    "        c[i,j] = sympify('c%d%d' %(j+1,i+1))\n",
    "    \n",
    "\n",
    "for j in range(1,n+1):                                                             #loop para llenar la matriz H\n",
    "    for k in range(1,n+1):\n",
    "        I = ((-hbar**2)/(2*m))\n",
    "        integrando = I*(F[j-1])*diff(F[k-1], x, 2)\n",
    "        A = integrate(integrando, (x, 0, l))\n",
    "        integrandos = (F[j-1])*(F[k-1])\n",
    "        B = integrate(integrandos, (x, 0, l))\n",
    "        H[j-1,k-1] *= A\n",
    "        S[j-1,k-1] *= B\n",
    "        U[j-1,k-1] *= (H[j-1,k-1] -W*S[j-1,k-1])\n",
    "        \n",
    "E = U.det()\n",
    "EE = solve(E,W)\n",
    "#truco para ordenar los W\n",
    "for i in range(0,n):\n",
    "    EE[i] = EE[i]*((l**2)/I)\n",
    "EE.sort()\n",
    "for i in range(0,n):\n",
    "    EE[i] = EE[i]*(I/(l**2))\n",
    "\n",
    "cc = Matrix(c)\n",
    "\n",
    "\n",
    "for j in range(n):\n",
    "    for i in range(n):\n",
    "        C = U*cc.col(j)\n",
    "        CC[i,j] *= C[i].subs(W, EE[j])\n",
    "F = []        \n",
    "for m in range(n):\n",
    "    D = solve(CC.col(m),cc)  \n",
    "    F.append(list(D.items()))\n",
    "    \n",
    "F = Matrix(F)\n",
    "F"
   ]
  }
 ],
 "metadata": {
  "kernelspec": {
   "display_name": "Python 3",
   "language": "python",
   "name": "python3"
  },
  "language_info": {
   "codemirror_mode": {
    "name": "ipython",
    "version": 3
   },
   "file_extension": ".py",
   "mimetype": "text/x-python",
   "name": "python",
   "nbconvert_exporter": "python",
   "pygments_lexer": "ipython3",
   "version": "3.5.4"
  }
 },
 "nbformat": 4,
 "nbformat_minor": 2
}
