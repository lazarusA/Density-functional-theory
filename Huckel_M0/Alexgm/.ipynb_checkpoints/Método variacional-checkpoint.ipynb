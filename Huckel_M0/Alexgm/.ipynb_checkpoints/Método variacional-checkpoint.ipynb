{
 "cells": [
  {
   "cell_type": "code",
   "execution_count": 2,
   "metadata": {
    "collapsed": true,
    "deletable": true,
    "editable": true
   },
   "outputs": [],
   "source": [
    "from sympy import *\n",
    "from sympy import init_printing; init_printing(use_latex = 'mathjax')\n",
    "import numpy as np"
   ]
  },
  {
   "cell_type": "markdown",
   "metadata": {},
   "source": [
    "## Funciones variacionales lineales, método de Huckel"
   ]
  },
  {
   "cell_type": "code",
   "execution_count": 3,
   "metadata": {
    "collapsed": false,
    "deletable": true,
    "editable": true
   },
   "outputs": [
    {
     "name": "stdout",
     "output_type": "stream",
     "text": [
      "Introduzca el número de funciones: \n",
      "4\n",
      "Introduzca la función 1: x*(l-x)\n",
      "Introduzca la función 2: x**2*(l-x)**2\n",
      "Introduzca la función 3: x*(l-x)*(l/2-x)\n",
      "Introduzca la función 4: x**2*(l-x)**2*(l/2-x)\n"
     ]
    }
   ],
   "source": [
    "var('x l m hbar W k')\n",
    "\n",
    "n = int(input('Introduzca el número de funciones: \\n'))\n",
    "f = [sympify(input('Introduzca la función {0}: '.format(i+1))) for i in range(n)]\n",
    "\n",
    "#Ejemplo\n",
    "#x*(l-x)\n",
    "#x**2*(l-x)**2\n",
    "#x*(l-x)*(l/2-x)\n",
    "#x**2*(l-x)**2*(l/2-x)"
   ]
  },
  {
   "cell_type": "code",
   "execution_count": 4,
   "metadata": {
    "collapsed": false,
    "deletable": true,
    "editable": true
   },
   "outputs": [],
   "source": [
    "H = Matrix(np.reshape([integrate((-hbar**2/(2*m))*f[i]*diff(f[j], x, 2), (x, 0, l)) for i in range(n) for j in range(n)], (n,n)))\n",
    "S = Matrix(np.reshape([integrate(f[i]*f[j], (x, 0, l)) for i in range(n) for j in range(n)], (n,n)))\n",
    "Wroots = solve((H-S*W).det(),W)"
   ]
  },
  {
   "cell_type": "code",
   "execution_count": 5,
   "metadata": {
    "collapsed": false,
    "deletable": true,
    "editable": true
   },
   "outputs": [
    {
     "data": {
      "text/latex": [
       "$$\\left [ \\frac{2 \\hbar^{2}}{l^{2} m} \\left(- \\sqrt{133} + 14\\right), \\quad \\frac{2 \\hbar^{2}}{l^{2} m} \\left(\\sqrt{133} + 14\\right), \\quad \\frac{2 \\hbar^{2}}{l^{2} m} \\left(- 9 \\sqrt{5} + 30\\right), \\quad \\frac{2 \\hbar^{2}}{l^{2} m} \\left(9 \\sqrt{5} + 30\\right)\\right ]$$"
      ],
      "text/plain": [
       "⎡    2                   2                  2                   2            ⎤\n",
       "⎢2⋅h̅ ⋅(-√133 + 14)  2⋅h̅ ⋅(√133 + 14)  2⋅h̅ ⋅(-9⋅√5 + 30)  2⋅h̅ ⋅(9⋅√5 + 30)⎥\n",
       "⎢──────────────────, ─────────────────, ──────────────────, ─────────────────⎥\n",
       "⎢        2                   2                  2                   2        ⎥\n",
       "⎣       l ⋅m                l ⋅m               l ⋅m                l ⋅m      ⎦"
      ]
     },
     "execution_count": 5,
     "metadata": {},
     "output_type": "execute_result"
    }
   ],
   "source": [
    "Wroots"
   ]
  },
  {
   "cell_type": "markdown",
   "metadata": {},
   "source": [
    "### Obtención de $\\phi_{1}$"
   ]
  },
  {
   "cell_type": "code",
   "execution_count": 6,
   "metadata": {
    "collapsed": false,
    "deletable": true,
    "editable": true
   },
   "outputs": [
    {
     "data": {
      "text/latex": [
       "$$\\left[\\begin{matrix}c_{1} \\left(- \\frac{\\hbar^{2} l^{3}}{15 m} \\left(- \\sqrt{133} + 14\\right) + \\frac{\\hbar^{2} l^{3}}{6 m}\\right) & c_{2} \\left(- \\frac{\\hbar^{2} l^{5}}{70 m} \\left(- \\sqrt{133} + 14\\right) + \\frac{\\hbar^{2} l^{5}}{30 m}\\right) & 0 & 0\\\\c_{1} \\left(- \\frac{\\hbar^{2} l^{5}}{70 m} \\left(- \\sqrt{133} + 14\\right) + \\frac{\\hbar^{2} l^{5}}{30 m}\\right) & c_{2} \\left(- \\frac{\\hbar^{2} l^{7}}{315 m} \\left(- \\sqrt{133} + 14\\right) + \\frac{\\hbar^{2} l^{7}}{105 m}\\right) & 0 & 0\\\\0 & 0 & c_{3} \\left(- \\frac{\\hbar^{2} l^{5}}{420 m} \\left(- \\sqrt{133} + 14\\right) + \\frac{\\hbar^{2} l^{5}}{40 m}\\right) & c_{4} \\left(- \\frac{\\hbar^{2} l^{7}}{2520 m} \\left(- \\sqrt{133} + 14\\right) + \\frac{\\hbar^{2} l^{7}}{280 m}\\right)\\\\0 & 0 & c_{3} \\left(- \\frac{\\hbar^{2} l^{7}}{2520 m} \\left(- \\sqrt{133} + 14\\right) + \\frac{\\hbar^{2} l^{7}}{280 m}\\right) & c_{4} \\left(- \\frac{\\hbar^{2} l^{9}}{13860 m} \\left(- \\sqrt{133} + 14\\right) + \\frac{\\hbar^{2} l^{9}}{1260 m}\\right)\\end{matrix}\\right]$$"
      ],
      "text/plain": [
       "⎡   ⎛    2  3                  2  3⎞     ⎛    2  5                  2  5⎞     \n",
       "⎢   ⎜  h̅ ⋅l ⋅(-√133 + 14)   h̅ ⋅l ⎟     ⎜  h̅ ⋅l ⋅(-√133 + 14)   h̅ ⋅l ⎟     \n",
       "⎢c₁⋅⎜- ─────────────────── + ──────⎟  c₂⋅⎜- ─────────────────── + ──────⎟     \n",
       "⎢   ⎝          15⋅m           6⋅m  ⎠     ⎝          70⋅m           30⋅m ⎠     \n",
       "⎢                                                                             \n",
       "⎢   ⎛    2  5                  2  5⎞     ⎛    2  7                  2  7⎞     \n",
       "⎢   ⎜  h̅ ⋅l ⋅(-√133 + 14)   h̅ ⋅l ⎟     ⎜  h̅ ⋅l ⋅(-√133 + 14)   h̅ ⋅l ⎟     \n",
       "⎢c₁⋅⎜- ─────────────────── + ──────⎟  c₂⋅⎜- ─────────────────── + ──────⎟     \n",
       "⎢   ⎝          70⋅m           30⋅m ⎠     ⎝         315⋅m          105⋅m ⎠     \n",
       "⎢                                                                             \n",
       "⎢                                                                             \n",
       "⎢                                                                             \n",
       "⎢                 0                                    0                   c₃⋅\n",
       "⎢                                                                             \n",
       "⎢                                                                             \n",
       "⎢                                                                             \n",
       "⎢                                                                             \n",
       "⎢                 0                                    0                   c₃⋅\n",
       "⎣                                                                             \n",
       "\n",
       "                                                                     ⎤\n",
       "                                                                     ⎥\n",
       "              0                                    0                 ⎥\n",
       "                                                                     ⎥\n",
       "                                                                     ⎥\n",
       "                                                                     ⎥\n",
       "                                                                     ⎥\n",
       "              0                                    0                 ⎥\n",
       "                                                                     ⎥\n",
       "                                                                     ⎥\n",
       "⎛    2  5                  2  5⎞     ⎛    2  7                  2  7⎞⎥\n",
       "⎜  h̅ ⋅l ⋅(-√133 + 14)   h̅ ⋅l ⎟     ⎜  h̅ ⋅l ⋅(-√133 + 14)   h̅ ⋅l ⎟⎥\n",
       "⎜- ─────────────────── + ──────⎟  c₄⋅⎜- ─────────────────── + ──────⎟⎥\n",
       "⎝         420⋅m           40⋅m ⎠     ⎝         2520⋅m         280⋅m ⎠⎥\n",
       "                                                                     ⎥\n",
       "⎛    2  7                  2  7⎞     ⎛    2  9                  2  9⎞⎥\n",
       "⎜  h̅ ⋅l ⋅(-√133 + 14)   h̅ ⋅l ⎟     ⎜  h̅ ⋅l ⋅(-√133 + 14)   h̅ ⋅l ⎟⎥\n",
       "⎜- ─────────────────── + ──────⎟  c₄⋅⎜- ─────────────────── + ──────⎟⎥\n",
       "⎝         2520⋅m         280⋅m ⎠     ⎝        13860⋅m         1260⋅m⎠⎦"
      ]
     },
     "execution_count": 6,
     "metadata": {},
     "output_type": "execute_result"
    }
   ],
   "source": [
    "c = [sympify('c_{0}'.format(i+1)) for i in range (n)]\n",
    "M1 = Matrix(np.reshape([(H[i,j]-S[i,j]*Wroots[0])*c[j] for i in range(n) for j in range(n)], (n,n)))\n",
    "M1"
   ]
  },
  {
   "cell_type": "code",
   "execution_count": 7,
   "metadata": {
    "collapsed": false,
    "deletable": true,
    "editable": true
   },
   "outputs": [
    {
     "data": {
      "text/latex": [
       "$$\\left [ c_{1} \\left(- \\frac{\\hbar^{2} l^{3}}{15 m} \\left(- \\sqrt{133} + 14\\right) + \\frac{\\hbar^{2} l^{3}}{6 m}\\right) + c_{2} \\left(- \\frac{\\hbar^{2} l^{5}}{70 m} \\left(- \\sqrt{133} + 14\\right) + \\frac{\\hbar^{2} l^{5}}{30 m}\\right), \\quad c_{1} \\left(- \\frac{\\hbar^{2} l^{5}}{70 m} \\left(- \\sqrt{133} + 14\\right) + \\frac{\\hbar^{2} l^{5}}{30 m}\\right) + c_{2} \\left(- \\frac{\\hbar^{2} l^{7}}{315 m} \\left(- \\sqrt{133} + 14\\right) + \\frac{\\hbar^{2} l^{7}}{105 m}\\right), \\quad c_{3} \\left(- \\frac{\\hbar^{2} l^{5}}{420 m} \\left(- \\sqrt{133} + 14\\right) + \\frac{\\hbar^{2} l^{5}}{40 m}\\right) + c_{4} \\left(- \\frac{\\hbar^{2} l^{7}}{2520 m} \\left(- \\sqrt{133} + 14\\right) + \\frac{\\hbar^{2} l^{7}}{280 m}\\right), \\quad c_{3} \\left(- \\frac{\\hbar^{2} l^{7}}{2520 m} \\left(- \\sqrt{133} + 14\\right) + \\frac{\\hbar^{2} l^{7}}{280 m}\\right) + c_{4} \\left(- \\frac{\\hbar^{2} l^{9}}{13860 m} \\left(- \\sqrt{133} + 14\\right) + \\frac{\\hbar^{2} l^{9}}{1260 m}\\right)\\right ]$$"
      ],
      "text/plain": [
       "⎡   ⎛    2  3                  2  3⎞      ⎛    2  5                  2  5⎞    \n",
       "⎢   ⎜  h̅ ⋅l ⋅(-√133 + 14)   h̅ ⋅l ⎟      ⎜  h̅ ⋅l ⋅(-√133 + 14)   h̅ ⋅l ⎟    \n",
       "⎢c₁⋅⎜- ─────────────────── + ──────⎟ + c₂⋅⎜- ─────────────────── + ──────⎟, c₁\n",
       "⎣   ⎝          15⋅m           6⋅m  ⎠      ⎝          70⋅m           30⋅m ⎠    \n",
       "\n",
       " ⎛    2  5                  2  5⎞      ⎛    2  7                  2  7⎞     ⎛ \n",
       " ⎜  h̅ ⋅l ⋅(-√133 + 14)   h̅ ⋅l ⎟      ⎜  h̅ ⋅l ⋅(-√133 + 14)   h̅ ⋅l ⎟     ⎜ \n",
       "⋅⎜- ─────────────────── + ──────⎟ + c₂⋅⎜- ─────────────────── + ──────⎟, c₃⋅⎜-\n",
       " ⎝          70⋅m           30⋅m ⎠      ⎝         315⋅m          105⋅m ⎠     ⎝ \n",
       "\n",
       "   2  5                  2  5⎞      ⎛    2  7                  2  7⎞     ⎛    \n",
       " h̅ ⋅l ⋅(-√133 + 14)   h̅ ⋅l ⎟      ⎜  h̅ ⋅l ⋅(-√133 + 14)   h̅ ⋅l ⎟     ⎜  h̅\n",
       " ─────────────────── + ──────⎟ + c₄⋅⎜- ─────────────────── + ──────⎟, c₃⋅⎜- ──\n",
       "        420⋅m           40⋅m ⎠      ⎝         2520⋅m         280⋅m ⎠     ⎝    \n",
       "\n",
       "2  7                  2  7⎞      ⎛    2  9                  2  9⎞⎤\n",
       " ⋅l ⋅(-√133 + 14)   h̅ ⋅l ⎟      ⎜  h̅ ⋅l ⋅(-√133 + 14)   h̅ ⋅l ⎟⎥\n",
       "───────────────── + ──────⎟ + c₄⋅⎜- ─────────────────── + ──────⎟⎥\n",
       "     2520⋅m         280⋅m ⎠      ⎝        13860⋅m         1260⋅m⎠⎦"
      ]
     },
     "execution_count": 7,
     "metadata": {},
     "output_type": "execute_result"
    }
   ],
   "source": [
    "EQ = list(np.sum(M1, axis = 1))\n",
    "EQ"
   ]
  },
  {
   "cell_type": "code",
   "execution_count": 8,
   "metadata": {
    "collapsed": false,
    "deletable": true,
    "editable": true
   },
   "outputs": [
    {
     "data": {
      "text/latex": [
       "$$\\left \\{ c_{1} : \\frac{c_{2} l^{2}}{3} + \\frac{\\sqrt{133} c_{2}}{21} l^{2}, \\quad c_{3} : 0, \\quad c_{4} : 0\\right \\}$$"
      ],
      "text/plain": [
       "⎧        2            2              ⎫\n",
       "⎪    c₂⋅l    √133⋅c₂⋅l               ⎪\n",
       "⎨c₁: ───── + ──────────, c₃: 0, c₄: 0⎬\n",
       "⎪      3         21                  ⎪\n",
       "⎩                                    ⎭"
      ]
     },
     "execution_count": 8,
     "metadata": {},
     "output_type": "execute_result"
    }
   ],
   "source": [
    "sol = solve(EQ, c)\n",
    "sol"
   ]
  },
  {
   "cell_type": "code",
   "execution_count": 9,
   "metadata": {
    "collapsed": false,
    "deletable": true,
    "editable": true
   },
   "outputs": [
    {
     "data": {
      "text/latex": [
       "$$\\left [ \\frac{c_{2} l^{2}}{3} + \\frac{\\sqrt{133} c_{2}}{21} l^{2}, \\quad c_{2}, \\quad 0, \\quad 0\\right ]$$"
      ],
      "text/plain": [
       "⎡    2            2          ⎤\n",
       "⎢c₂⋅l    √133⋅c₂⋅l           ⎥\n",
       "⎢───── + ──────────, c₂, 0, 0⎥\n",
       "⎣  3         21              ⎦"
      ]
     },
     "execution_count": 9,
     "metadata": {},
     "output_type": "execute_result"
    }
   ],
   "source": [
    "Ans = [sol[c[i]] if c[i] in sol else sympify('c_{0}'.format(i+1)) for i in range(n)]\n",
    "Ans"
   ]
  },
  {
   "cell_type": "code",
   "execution_count": 10,
   "metadata": {
    "collapsed": false,
    "deletable": true,
    "editable": true
   },
   "outputs": [
    {
     "data": {
      "text/latex": [
       "$$- 4.40399751133633 l^{2} x \\left(l - x\\right) \\left(\\frac{1}{l^{9}}\\right)^{0.5} - 4.99034859672658 x^{2} \\left(l - x\\right)^{2} \\left(\\frac{1}{l^{9}}\\right)^{0.5}$$"
      ],
      "text/plain": [
       "                                    0.5                                    0.5\n",
       "                    2           ⎛1 ⎞                        2        2 ⎛1 ⎞   \n",
       "- 4.40399751133633⋅l ⋅x⋅(l - x)⋅⎜──⎟    - 4.99034859672658⋅x ⋅(l - x) ⋅⎜──⎟   \n",
       "                                ⎜ 9⎟                                   ⎜ 9⎟   \n",
       "                                ⎝l ⎠                                   ⎝l ⎠   "
      ]
     },
     "execution_count": 10,
     "metadata": {},
     "output_type": "execute_result"
    }
   ],
   "source": [
    "F = sum(Ans*np.array(f))\n",
    "Norm = integrate(F**2, (x,0,l)) - 1\n",
    "C = solve(Norm, 'c_2')[0].evalf()\n",
    "\n",
    "F.subs('c_2', C).evalf()"
   ]
  },
  {
   "cell_type": "markdown",
   "metadata": {},
   "source": [
    "### Obtención de todas las $\\phi$"
   ]
  },
  {
   "cell_type": "code",
   "execution_count": 11,
   "metadata": {
    "collapsed": false,
    "deletable": true,
    "editable": true
   },
   "outputs": [
    {
     "data": {
      "text/latex": [
       "$$\\left[\\begin{matrix}c_{1 1} & c_{1 2} & c_{1 3} & c_{1 4}\\\\c_{2 1} & c_{2 2} & c_{2 3} & c_{2 4}\\\\c_{3 1} & c_{3 2} & c_{3 3} & c_{3 4}\\\\c_{4 1} & c_{4 2} & c_{4 3} & c_{4 4}\\end{matrix}\\right]$$"
      ],
      "text/plain": [
       "⎡c₁ ₁  c₁ ₂  c₁ ₃  c₁ ₄⎤\n",
       "⎢                      ⎥\n",
       "⎢c₂ ₁  c₂ ₂  c₂ ₃  c₂ ₄⎥\n",
       "⎢                      ⎥\n",
       "⎢c₃ ₁  c₃ ₂  c₃ ₃  c₃ ₄⎥\n",
       "⎢                      ⎥\n",
       "⎣c₄ ₁  c₄ ₂  c₄ ₃  c₄ ₄⎦"
      ]
     },
     "execution_count": 11,
     "metadata": {},
     "output_type": "execute_result"
    }
   ],
   "source": [
    "c_g = Matrix(np.reshape([sympify('c_{0}_{1}'.format(i+1, j+1)) for i in range (0,n) for j in range(n)], (n,n)))\n",
    "c_g"
   ]
  },
  {
   "cell_type": "code",
   "execution_count": 12,
   "metadata": {
    "collapsed": false,
    "deletable": true,
    "editable": true
   },
   "outputs": [],
   "source": [
    "M_g = np.reshape([sympify((H[i,j]-S[i,j]*Wroots[k])*c_g[k,j]) for i in range(n) for j in range(n) for k in range(n)], (n,n,n))"
   ]
  },
  {
   "cell_type": "code",
   "execution_count": 13,
   "metadata": {
    "collapsed": false,
    "deletable": true,
    "editable": true
   },
   "outputs": [
    {
     "data": {
      "text/latex": [
       "$$\\left[\\begin{matrix}c_{1 1} \\left(- \\frac{\\hbar^{2} l^{3}}{15 m} \\left(- \\sqrt{133} + 14\\right) + \\frac{\\hbar^{2} l^{3}}{6 m}\\right) + c_{1 2} \\left(- \\frac{\\hbar^{2} l^{5}}{70 m} \\left(- \\sqrt{133} + 14\\right) + \\frac{\\hbar^{2} l^{5}}{30 m}\\right) & c_{2 1} \\left(- \\frac{\\hbar^{2} l^{3}}{15 m} \\left(\\sqrt{133} + 14\\right) + \\frac{\\hbar^{2} l^{3}}{6 m}\\right) + c_{2 2} \\left(- \\frac{\\hbar^{2} l^{5}}{70 m} \\left(\\sqrt{133} + 14\\right) + \\frac{\\hbar^{2} l^{5}}{30 m}\\right) & c_{3 1} \\left(- \\frac{\\hbar^{2} l^{3}}{15 m} \\left(- 9 \\sqrt{5} + 30\\right) + \\frac{\\hbar^{2} l^{3}}{6 m}\\right) + c_{3 2} \\left(- \\frac{\\hbar^{2} l^{5}}{70 m} \\left(- 9 \\sqrt{5} + 30\\right) + \\frac{\\hbar^{2} l^{5}}{30 m}\\right) & c_{4 1} \\left(- \\frac{\\hbar^{2} l^{3}}{15 m} \\left(9 \\sqrt{5} + 30\\right) + \\frac{\\hbar^{2} l^{3}}{6 m}\\right) + c_{4 2} \\left(- \\frac{\\hbar^{2} l^{5}}{70 m} \\left(9 \\sqrt{5} + 30\\right) + \\frac{\\hbar^{2} l^{5}}{30 m}\\right)\\\\c_{1 1} \\left(- \\frac{\\hbar^{2} l^{5}}{70 m} \\left(- \\sqrt{133} + 14\\right) + \\frac{\\hbar^{2} l^{5}}{30 m}\\right) + c_{1 2} \\left(- \\frac{\\hbar^{2} l^{7}}{315 m} \\left(- \\sqrt{133} + 14\\right) + \\frac{\\hbar^{2} l^{7}}{105 m}\\right) & c_{2 1} \\left(- \\frac{\\hbar^{2} l^{5}}{70 m} \\left(\\sqrt{133} + 14\\right) + \\frac{\\hbar^{2} l^{5}}{30 m}\\right) + c_{2 2} \\left(- \\frac{\\hbar^{2} l^{7}}{315 m} \\left(\\sqrt{133} + 14\\right) + \\frac{\\hbar^{2} l^{7}}{105 m}\\right) & c_{3 1} \\left(- \\frac{\\hbar^{2} l^{5}}{70 m} \\left(- 9 \\sqrt{5} + 30\\right) + \\frac{\\hbar^{2} l^{5}}{30 m}\\right) + c_{3 2} \\left(- \\frac{\\hbar^{2} l^{7}}{315 m} \\left(- 9 \\sqrt{5} + 30\\right) + \\frac{\\hbar^{2} l^{7}}{105 m}\\right) & c_{4 1} \\left(- \\frac{\\hbar^{2} l^{5}}{70 m} \\left(9 \\sqrt{5} + 30\\right) + \\frac{\\hbar^{2} l^{5}}{30 m}\\right) + c_{4 2} \\left(- \\frac{\\hbar^{2} l^{7}}{315 m} \\left(9 \\sqrt{5} + 30\\right) + \\frac{\\hbar^{2} l^{7}}{105 m}\\right)\\\\c_{1 3} \\left(- \\frac{\\hbar^{2} l^{5}}{420 m} \\left(- \\sqrt{133} + 14\\right) + \\frac{\\hbar^{2} l^{5}}{40 m}\\right) + c_{1 4} \\left(- \\frac{\\hbar^{2} l^{7}}{2520 m} \\left(- \\sqrt{133} + 14\\right) + \\frac{\\hbar^{2} l^{7}}{280 m}\\right) & c_{2 3} \\left(- \\frac{\\hbar^{2} l^{5}}{420 m} \\left(\\sqrt{133} + 14\\right) + \\frac{\\hbar^{2} l^{5}}{40 m}\\right) + c_{2 4} \\left(- \\frac{\\hbar^{2} l^{7}}{2520 m} \\left(\\sqrt{133} + 14\\right) + \\frac{\\hbar^{2} l^{7}}{280 m}\\right) & c_{3 3} \\left(- \\frac{\\hbar^{2} l^{5}}{420 m} \\left(- 9 \\sqrt{5} + 30\\right) + \\frac{\\hbar^{2} l^{5}}{40 m}\\right) + c_{3 4} \\left(- \\frac{\\hbar^{2} l^{7}}{2520 m} \\left(- 9 \\sqrt{5} + 30\\right) + \\frac{\\hbar^{2} l^{7}}{280 m}\\right) & c_{4 3} \\left(- \\frac{\\hbar^{2} l^{5}}{420 m} \\left(9 \\sqrt{5} + 30\\right) + \\frac{\\hbar^{2} l^{5}}{40 m}\\right) + c_{4 4} \\left(- \\frac{\\hbar^{2} l^{7}}{2520 m} \\left(9 \\sqrt{5} + 30\\right) + \\frac{\\hbar^{2} l^{7}}{280 m}\\right)\\\\c_{1 3} \\left(- \\frac{\\hbar^{2} l^{7}}{2520 m} \\left(- \\sqrt{133} + 14\\right) + \\frac{\\hbar^{2} l^{7}}{280 m}\\right) + c_{1 4} \\left(- \\frac{\\hbar^{2} l^{9}}{13860 m} \\left(- \\sqrt{133} + 14\\right) + \\frac{\\hbar^{2} l^{9}}{1260 m}\\right) & c_{2 3} \\left(- \\frac{\\hbar^{2} l^{7}}{2520 m} \\left(\\sqrt{133} + 14\\right) + \\frac{\\hbar^{2} l^{7}}{280 m}\\right) + c_{2 4} \\left(- \\frac{\\hbar^{2} l^{9}}{13860 m} \\left(\\sqrt{133} + 14\\right) + \\frac{\\hbar^{2} l^{9}}{1260 m}\\right) & c_{3 3} \\left(- \\frac{\\hbar^{2} l^{7}}{2520 m} \\left(- 9 \\sqrt{5} + 30\\right) + \\frac{\\hbar^{2} l^{7}}{280 m}\\right) + c_{3 4} \\left(- \\frac{\\hbar^{2} l^{9}}{13860 m} \\left(- 9 \\sqrt{5} + 30\\right) + \\frac{\\hbar^{2} l^{9}}{1260 m}\\right) & c_{4 3} \\left(- \\frac{\\hbar^{2} l^{7}}{2520 m} \\left(9 \\sqrt{5} + 30\\right) + \\frac{\\hbar^{2} l^{7}}{280 m}\\right) + c_{4 4} \\left(- \\frac{\\hbar^{2} l^{9}}{13860 m} \\left(9 \\sqrt{5} + 30\\right) + \\frac{\\hbar^{2} l^{9}}{1260 m}\\right)\\end{matrix}\\right]$$"
      ],
      "text/plain": [
       "⎡     ⎛    2  3                  2  3⎞        ⎛    2  5                  2  5⎞\n",
       "⎢     ⎜  h̅ ⋅l ⋅(-√133 + 14)   h̅ ⋅l ⎟        ⎜  h̅ ⋅l ⋅(-√133 + 14)   h̅ ⋅l ⎟\n",
       "⎢c₁ ₁⋅⎜- ─────────────────── + ──────⎟ + c₁ ₂⋅⎜- ─────────────────── + ──────⎟\n",
       "⎢     ⎝          15⋅m           6⋅m  ⎠        ⎝          70⋅m           30⋅m ⎠\n",
       "⎢                                                                             \n",
       "⎢     ⎛    2  5                  2  5⎞        ⎛    2  7                  2  7⎞\n",
       "⎢     ⎜  h̅ ⋅l ⋅(-√133 + 14)   h̅ ⋅l ⎟        ⎜  h̅ ⋅l ⋅(-√133 + 14)   h̅ ⋅l ⎟\n",
       "⎢c₁ ₁⋅⎜- ─────────────────── + ──────⎟ + c₁ ₂⋅⎜- ─────────────────── + ──────⎟\n",
       "⎢     ⎝          70⋅m           30⋅m ⎠        ⎝         315⋅m          105⋅m ⎠\n",
       "⎢                                                                             \n",
       "⎢     ⎛    2  5                  2  5⎞        ⎛    2  7                  2  7⎞\n",
       "⎢     ⎜  h̅ ⋅l ⋅(-√133 + 14)   h̅ ⋅l ⎟        ⎜  h̅ ⋅l ⋅(-√133 + 14)   h̅ ⋅l ⎟\n",
       "⎢c₁ ₃⋅⎜- ─────────────────── + ──────⎟ + c₁ ₄⋅⎜- ─────────────────── + ──────⎟\n",
       "⎢     ⎝         420⋅m           40⋅m ⎠        ⎝         2520⋅m         280⋅m ⎠\n",
       "⎢                                                                             \n",
       "⎢     ⎛    2  7                  2  7⎞        ⎛    2  9                  2  9⎞\n",
       "⎢     ⎜  h̅ ⋅l ⋅(-√133 + 14)   h̅ ⋅l ⎟        ⎜  h̅ ⋅l ⋅(-√133 + 14)   h̅ ⋅l ⎟\n",
       "⎢c₁ ₃⋅⎜- ─────────────────── + ──────⎟ + c₁ ₄⋅⎜- ─────────────────── + ──────⎟\n",
       "⎣     ⎝         2520⋅m         280⋅m ⎠        ⎝        13860⋅m         1260⋅m⎠\n",
       "\n",
       "       ⎛    2  3                 2  3⎞        ⎛    2  5                 2  5⎞ \n",
       "       ⎜  h̅ ⋅l ⋅(√133 + 14)   h̅ ⋅l ⎟        ⎜  h̅ ⋅l ⋅(√133 + 14)   h̅ ⋅l ⎟ \n",
       "  c₂ ₁⋅⎜- ────────────────── + ──────⎟ + c₂ ₂⋅⎜- ────────────────── + ──────⎟ \n",
       "       ⎝         15⋅m           6⋅m  ⎠        ⎝         70⋅m           30⋅m ⎠ \n",
       "                                                                              \n",
       "       ⎛    2  5                 2  5⎞        ⎛    2  7                 2  7⎞ \n",
       "       ⎜  h̅ ⋅l ⋅(√133 + 14)   h̅ ⋅l ⎟        ⎜  h̅ ⋅l ⋅(√133 + 14)   h̅ ⋅l ⎟ \n",
       "  c₂ ₁⋅⎜- ────────────────── + ──────⎟ + c₂ ₂⋅⎜- ────────────────── + ──────⎟ \n",
       "       ⎝         70⋅m           30⋅m ⎠        ⎝        315⋅m          105⋅m ⎠ \n",
       "                                                                              \n",
       "       ⎛    2  5                 2  5⎞        ⎛    2  7                 2  7⎞ \n",
       "       ⎜  h̅ ⋅l ⋅(√133 + 14)   h̅ ⋅l ⎟        ⎜  h̅ ⋅l ⋅(√133 + 14)   h̅ ⋅l ⎟ \n",
       "  c₂ ₃⋅⎜- ────────────────── + ──────⎟ + c₂ ₄⋅⎜- ────────────────── + ──────⎟ \n",
       "       ⎝        420⋅m           40⋅m ⎠        ⎝        2520⋅m         280⋅m ⎠ \n",
       "                                                                              \n",
       "       ⎛    2  7                 2  7⎞        ⎛    2  9                 2  9⎞ \n",
       "       ⎜  h̅ ⋅l ⋅(√133 + 14)   h̅ ⋅l ⎟        ⎜  h̅ ⋅l ⋅(√133 + 14)   h̅ ⋅l ⎟ \n",
       "  c₂ ₃⋅⎜- ────────────────── + ──────⎟ + c₂ ₄⋅⎜- ────────────────── + ──────⎟ \n",
       "       ⎝        2520⋅m         280⋅m ⎠        ⎝       13860⋅m         1260⋅m⎠ \n",
       "\n",
       "      ⎛    2  3                  2  3⎞        ⎛    2  5                  2  5⎞\n",
       "      ⎜  h̅ ⋅l ⋅(-9⋅√5 + 30)   h̅ ⋅l ⎟        ⎜  h̅ ⋅l ⋅(-9⋅√5 + 30)   h̅ ⋅l ⎟\n",
       " c₃ ₁⋅⎜- ─────────────────── + ──────⎟ + c₃ ₂⋅⎜- ─────────────────── + ──────⎟\n",
       "      ⎝          15⋅m           6⋅m  ⎠        ⎝          70⋅m           30⋅m ⎠\n",
       "                                                                              \n",
       "      ⎛    2  5                  2  5⎞        ⎛    2  7                  2  7⎞\n",
       "      ⎜  h̅ ⋅l ⋅(-9⋅√5 + 30)   h̅ ⋅l ⎟        ⎜  h̅ ⋅l ⋅(-9⋅√5 + 30)   h̅ ⋅l ⎟\n",
       " c₃ ₁⋅⎜- ─────────────────── + ──────⎟ + c₃ ₂⋅⎜- ─────────────────── + ──────⎟\n",
       "      ⎝          70⋅m           30⋅m ⎠        ⎝         315⋅m          105⋅m ⎠\n",
       "                                                                              \n",
       "      ⎛    2  5                  2  5⎞        ⎛    2  7                  2  7⎞\n",
       "      ⎜  h̅ ⋅l ⋅(-9⋅√5 + 30)   h̅ ⋅l ⎟        ⎜  h̅ ⋅l ⋅(-9⋅√5 + 30)   h̅ ⋅l ⎟\n",
       " c₃ ₃⋅⎜- ─────────────────── + ──────⎟ + c₃ ₄⋅⎜- ─────────────────── + ──────⎟\n",
       "      ⎝         420⋅m           40⋅m ⎠        ⎝         2520⋅m         280⋅m ⎠\n",
       "                                                                              \n",
       "      ⎛    2  7                  2  7⎞        ⎛    2  9                  2  9⎞\n",
       "      ⎜  h̅ ⋅l ⋅(-9⋅√5 + 30)   h̅ ⋅l ⎟        ⎜  h̅ ⋅l ⋅(-9⋅√5 + 30)   h̅ ⋅l ⎟\n",
       " c₃ ₃⋅⎜- ─────────────────── + ──────⎟ + c₃ ₄⋅⎜- ─────────────────── + ──────⎟\n",
       "      ⎝         2520⋅m         280⋅m ⎠        ⎝        13860⋅m         1260⋅m⎠\n",
       "\n",
       "       ⎛    2  3                 2  3⎞        ⎛    2  5                 2  5⎞⎤\n",
       "       ⎜  h̅ ⋅l ⋅(9⋅√5 + 30)   h̅ ⋅l ⎟        ⎜  h̅ ⋅l ⋅(9⋅√5 + 30)   h̅ ⋅l ⎟⎥\n",
       "  c₄ ₁⋅⎜- ────────────────── + ──────⎟ + c₄ ₂⋅⎜- ────────────────── + ──────⎟⎥\n",
       "       ⎝         15⋅m           6⋅m  ⎠        ⎝         70⋅m           30⋅m ⎠⎥\n",
       "                                                                             ⎥\n",
       "       ⎛    2  5                 2  5⎞        ⎛    2  7                 2  7⎞⎥\n",
       "       ⎜  h̅ ⋅l ⋅(9⋅√5 + 30)   h̅ ⋅l ⎟        ⎜  h̅ ⋅l ⋅(9⋅√5 + 30)   h̅ ⋅l ⎟⎥\n",
       "  c₄ ₁⋅⎜- ────────────────── + ──────⎟ + c₄ ₂⋅⎜- ────────────────── + ──────⎟⎥\n",
       "       ⎝         70⋅m           30⋅m ⎠        ⎝        315⋅m          105⋅m ⎠⎥\n",
       "                                                                             ⎥\n",
       "       ⎛    2  5                 2  5⎞        ⎛    2  7                 2  7⎞⎥\n",
       "       ⎜  h̅ ⋅l ⋅(9⋅√5 + 30)   h̅ ⋅l ⎟        ⎜  h̅ ⋅l ⋅(9⋅√5 + 30)   h̅ ⋅l ⎟⎥\n",
       "  c₄ ₃⋅⎜- ────────────────── + ──────⎟ + c₄ ₄⋅⎜- ────────────────── + ──────⎟⎥\n",
       "       ⎝        420⋅m           40⋅m ⎠        ⎝        2520⋅m         280⋅m ⎠⎥\n",
       "                                                                             ⎥\n",
       "       ⎛    2  7                 2  7⎞        ⎛    2  9                 2  9⎞⎥\n",
       "       ⎜  h̅ ⋅l ⋅(9⋅√5 + 30)   h̅ ⋅l ⎟        ⎜  h̅ ⋅l ⋅(9⋅√5 + 30)   h̅ ⋅l ⎟⎥\n",
       "  c₄ ₃⋅⎜- ────────────────── + ──────⎟ + c₄ ₄⋅⎜- ────────────────── + ──────⎟⎥\n",
       "       ⎝        2520⋅m         280⋅m ⎠        ⎝       13860⋅m         1260⋅m⎠⎦"
      ]
     },
     "execution_count": 13,
     "metadata": {},
     "output_type": "execute_result"
    }
   ],
   "source": [
    "EQ_g = Matrix(np.reshape(list(np.sum(M_g, axis = 1)),(n,n)))\n",
    "EQ_g"
   ]
  },
  {
   "cell_type": "code",
   "execution_count": 14,
   "metadata": {
    "collapsed": false,
    "deletable": true,
    "editable": true
   },
   "outputs": [
    {
     "data": {
      "text/latex": [
       "$$\\left [ \\left \\{ c_{1 1} : \\frac{c_{1 2}}{3} l^{2} + \\frac{c_{1 2}}{21} \\sqrt{133} l^{2}, \\quad c_{1 3} : 0, \\quad c_{1 4} : 0\\right \\}, \\quad \\left \\{ c_{2 1} : - \\frac{c_{2 2}}{21} \\sqrt{133} l^{2} + \\frac{c_{2 2}}{3} l^{2}, \\quad c_{2 3} : 0, \\quad c_{2 4} : 0\\right \\}, \\quad \\left \\{ c_{3 1} : 0, \\quad c_{3 2} : 0, \\quad c_{3 3} : \\frac{c_{3 4}}{33} l^{2} + \\frac{c_{3 4}}{11} \\sqrt{5} l^{2}\\right \\}, \\quad \\left \\{ c_{4 1} : 0, \\quad c_{4 2} : 0, \\quad c_{4 3} : - \\frac{c_{4 4}}{11} \\sqrt{5} l^{2} + \\frac{c_{4 4}}{33} l^{2}\\right \\}\\right ]$$"
      ],
      "text/plain": [
       "⎡⎧            2              2                  ⎫  ⎧                   2      \n",
       "⎢⎪      c₁ ₂⋅l    √133⋅c₁ ₂⋅l                   ⎪  ⎪        √133⋅c₂ ₂⋅l    c₂ \n",
       "⎢⎨c₁ ₁: ─────── + ────────────, c₁ ₃: 0, c₁ ₄: 0⎬, ⎨c₂ ₁: - ──────────── + ───\n",
       "⎢⎪         3           21                       ⎪  ⎪             21           \n",
       "⎣⎩                                              ⎭  ⎩                          \n",
       "\n",
       "   2                  ⎫  ⎧                              2            2⎫  ⎧    \n",
       "₂⋅l                   ⎪  ⎪                        c₃ ₄⋅l    √5⋅c₃ ₄⋅l ⎪  ⎪    \n",
       "────, c₂ ₃: 0, c₂ ₄: 0⎬, ⎨c₃ ₁: 0, c₃ ₂: 0, c₃ ₃: ─────── + ──────────⎬, ⎨c₄ ₁\n",
       "3                     ⎪  ⎪                           33         11    ⎪  ⎪    \n",
       "                      ⎭  ⎩                                            ⎭  ⎩    \n",
       "\n",
       "                               2         2⎫⎤\n",
       "                      √5⋅c₄ ₄⋅l    c₄ ₄⋅l ⎪⎥\n",
       ": 0, c₄ ₂: 0, c₄ ₃: - ────────── + ───────⎬⎥\n",
       "                          11          33  ⎪⎥\n",
       "                                          ⎭⎦"
      ]
     },
     "execution_count": 14,
     "metadata": {},
     "output_type": "execute_result"
    }
   ],
   "source": [
    "sol_g = [solve(EQ_g[:,i], c_g[i,:]) for i in range(n)]\n",
    "sol_g"
   ]
  },
  {
   "cell_type": "code",
   "execution_count": 15,
   "metadata": {
    "collapsed": false,
    "deletable": true,
    "editable": true
   },
   "outputs": [
    {
     "data": {
      "text/latex": [
       "$$\\left[\\begin{matrix}\\frac{c_{1 2}}{3} l^{2} + \\frac{c_{1 2}}{21} \\sqrt{133} l^{2} & c_{1 2} & 0 & 0\\\\- \\frac{c_{2 2}}{21} \\sqrt{133} l^{2} + \\frac{c_{2 2}}{3} l^{2} & c_{2 2} & 0 & 0\\\\0 & 0 & \\frac{c_{3 4}}{33} l^{2} + \\frac{c_{3 4}}{11} \\sqrt{5} l^{2} & c_{3 4}\\\\0 & 0 & - \\frac{c_{4 4}}{11} \\sqrt{5} l^{2} + \\frac{c_{4 4}}{33} l^{2} & c_{4 4}\\end{matrix}\\right]$$"
      ],
      "text/plain": [
       "⎡       2              2                                     ⎤\n",
       "⎢ c₁ ₂⋅l    √133⋅c₁ ₂⋅l                                      ⎥\n",
       "⎢ ─────── + ────────────   c₁ ₂            0              0  ⎥\n",
       "⎢    3           21                                          ⎥\n",
       "⎢                                                            ⎥\n",
       "⎢             2         2                                    ⎥\n",
       "⎢  √133⋅c₂ ₂⋅l    c₂ ₂⋅l                                     ⎥\n",
       "⎢- ──────────── + ───────  c₂ ₂            0              0  ⎥\n",
       "⎢       21           3                                       ⎥\n",
       "⎢                                                            ⎥\n",
       "⎢                                       2            2       ⎥\n",
       "⎢                                 c₃ ₄⋅l    √5⋅c₃ ₄⋅l        ⎥\n",
       "⎢           0               0     ─────── + ──────────   c₃ ₄⎥\n",
       "⎢                                    33         11           ⎥\n",
       "⎢                                                            ⎥\n",
       "⎢                                           2         2      ⎥\n",
       "⎢                                  √5⋅c₄ ₄⋅l    c₄ ₄⋅l       ⎥\n",
       "⎢           0               0    - ────────── + ───────  c₄ ₄⎥\n",
       "⎣                                      11          33        ⎦"
      ]
     },
     "execution_count": 15,
     "metadata": {},
     "output_type": "execute_result"
    }
   ],
   "source": [
    "Ans_g = Matrix(np.reshape([sympify(sol_g[i][c_g[i,j]]) if c_g[i,j] in sol_g[i] else sympify('c_{0}_{1}'.format(i+1,j+1)) \\\n",
    "                    for i in range(n) for j in range(n)], (n,n)))\n",
    "C_ans = [sympify('c_{0}_{1}'.format(i+1,j+1)) for i in range(n) for j in range(n) if c_g[i,j] not in sol_g[i]]\n",
    "Ans_g"
   ]
  },
  {
   "cell_type": "code",
   "execution_count": 16,
   "metadata": {
    "collapsed": false,
    "deletable": true,
    "editable": true
   },
   "outputs": [
    {
     "data": {
      "text/latex": [
       "$$\\left[\\begin{matrix}c_{1 2} x^{2} \\left(l - x\\right)^{2} + x \\left(l - x\\right) \\left(\\frac{c_{1 2}}{3} l^{2} + \\frac{c_{1 2}}{21} \\sqrt{133} l^{2}\\right)\\\\c_{2 2} x^{2} \\left(l - x\\right)^{2} + x \\left(l - x\\right) \\left(- \\frac{c_{2 2}}{21} \\sqrt{133} l^{2} + \\frac{c_{2 2}}{3} l^{2}\\right)\\\\c_{3 4} x^{2} \\left(\\frac{l}{2} - x\\right) \\left(l - x\\right)^{2} + x \\left(\\frac{l}{2} - x\\right) \\left(l - x\\right) \\left(\\frac{c_{3 4}}{33} l^{2} + \\frac{c_{3 4}}{11} \\sqrt{5} l^{2}\\right)\\\\c_{4 4} x^{2} \\left(\\frac{l}{2} - x\\right) \\left(l - x\\right)^{2} + x \\left(\\frac{l}{2} - x\\right) \\left(l - x\\right) \\left(- \\frac{c_{4 4}}{11} \\sqrt{5} l^{2} + \\frac{c_{4 4}}{33} l^{2}\\right)\\end{matrix}\\right]$$"
      ],
      "text/plain": [
       "⎡                                     ⎛      2              2⎞        ⎤\n",
       "⎢              2        2             ⎜c₁ ₂⋅l    √133⋅c₁ ₂⋅l ⎟        ⎥\n",
       "⎢        c₁ ₂⋅x ⋅(l - x)  + x⋅(l - x)⋅⎜─────── + ────────────⎟        ⎥\n",
       "⎢                                     ⎝   3           21     ⎠        ⎥\n",
       "⎢                                                                     ⎥\n",
       "⎢                                    ⎛             2         2⎞       ⎥\n",
       "⎢             2        2             ⎜  √133⋅c₂ ₂⋅l    c₂ ₂⋅l ⎟       ⎥\n",
       "⎢       c₂ ₂⋅x ⋅(l - x)  + x⋅(l - x)⋅⎜- ──────────── + ───────⎟       ⎥\n",
       "⎢                                    ⎝       21           3   ⎠       ⎥\n",
       "⎢                                                                     ⎥\n",
       "⎢                                              ⎛      2            2⎞ ⎥\n",
       "⎢       2 ⎛l    ⎞        2     ⎛l    ⎞         ⎜c₃ ₄⋅l    √5⋅c₃ ₄⋅l ⎟ ⎥\n",
       "⎢ c₃ ₄⋅x ⋅⎜─ - x⎟⋅(l - x)  + x⋅⎜─ - x⎟⋅(l - x)⋅⎜─────── + ──────────⎟ ⎥\n",
       "⎢         ⎝2    ⎠              ⎝2    ⎠         ⎝   33         11    ⎠ ⎥\n",
       "⎢                                                                     ⎥\n",
       "⎢                                             ⎛           2         2⎞⎥\n",
       "⎢      2 ⎛l    ⎞        2     ⎛l    ⎞         ⎜  √5⋅c₄ ₄⋅l    c₄ ₄⋅l ⎟⎥\n",
       "⎢c₄ ₄⋅x ⋅⎜─ - x⎟⋅(l - x)  + x⋅⎜─ - x⎟⋅(l - x)⋅⎜- ────────── + ───────⎟⎥\n",
       "⎣        ⎝2    ⎠              ⎝2    ⎠         ⎝      11          33  ⎠⎦"
      ]
     },
     "execution_count": 16,
     "metadata": {},
     "output_type": "execute_result"
    }
   ],
   "source": [
    "F_g = Ans_g*np.array(f)\n",
    "F_g"
   ]
  },
  {
   "cell_type": "code",
   "execution_count": 17,
   "metadata": {
    "collapsed": false,
    "deletable": true,
    "editable": true
   },
   "outputs": [
    {
     "data": {
      "text/latex": [
       "$$\\left [ - 4.40399751133633 l^{2} x \\left(l - x\\right) \\left(\\frac{1}{l^{9}}\\right)^{0.5} - 4.99034859672658 x^{2} \\left(l - x\\right)^{2} \\left(\\frac{1}{l^{9}}\\right)^{0.5}, \\quad 28.6462005494649 l^{2} x \\left(l - x\\right) \\left(\\frac{1}{l^{9}}\\right)^{0.5} - 132.721876195613 x^{2} \\left(l - x\\right)^{2} \\left(\\frac{1}{l^{9}}\\right)^{0.5}, \\quad - 16.7823521557751 l^{2} x \\left(0.5 l - x\\right) \\left(l - x\\right) \\left(\\frac{1}{l^{11}}\\right)^{0.5} - 71.8478164291383 x^{2} \\left(0.5 l - x\\right) \\left(l - x\\right)^{2} \\left(\\frac{1}{l^{11}}\\right)^{0.5}, \\quad 98.9866286733697 l^{2} x \\left(0.5 l - x\\right) \\left(l - x\\right) \\left(\\frac{1}{l^{11}}\\right)^{0.5} - 572.256840303692 x^{2} \\left(0.5 l - x\\right) \\left(l - x\\right)^{2} \\left(\\frac{1}{l^{11}}\\right)^{0.5}\\right ]$$"
      ],
      "text/plain": [
       "⎡                                    0.5                                    0.\n",
       "⎢                    2           ⎛1 ⎞                        2        2 ⎛1 ⎞  \n",
       "⎢- 4.40399751133633⋅l ⋅x⋅(l - x)⋅⎜──⎟    - 4.99034859672658⋅x ⋅(l - x) ⋅⎜──⎟  \n",
       "⎢                                ⎜ 9⎟                                   ⎜ 9⎟  \n",
       "⎣                                ⎝l ⎠                                   ⎝l ⎠  \n",
       "\n",
       "5                                    0.5                                    0.\n",
       "                     2           ⎛1 ⎞                        2        2 ⎛1 ⎞  \n",
       " , 28.6462005494649⋅l ⋅x⋅(l - x)⋅⎜──⎟    - 132.721876195613⋅x ⋅(l - x) ⋅⎜──⎟  \n",
       "                                 ⎜ 9⎟                                   ⎜ 9⎟  \n",
       "                                 ⎝l ⎠                                   ⎝l ⎠  \n",
       "\n",
       "5                                                   0.5                       \n",
       "                       2                       ⎛ 1 ⎞                        2 \n",
       " , - 16.7823521557751⋅l ⋅x⋅(0.5⋅l - x)⋅(l - x)⋅⎜───⎟    - 71.8478164291383⋅x ⋅\n",
       "                                               ⎜ 11⎟                          \n",
       "                                               ⎝l  ⎠                          \n",
       "\n",
       "                          0.5                                                 \n",
       "                   2 ⎛ 1 ⎞                       2                       ⎛ 1 ⎞\n",
       "(0.5⋅l - x)⋅(l - x) ⋅⎜───⎟   , 98.9866286733697⋅l ⋅x⋅(0.5⋅l - x)⋅(l - x)⋅⎜───⎟\n",
       "                     ⎜ 11⎟                                               ⎜ 11⎟\n",
       "                     ⎝l  ⎠                                               ⎝l  ⎠\n",
       "\n",
       "0.5                                                 0.5⎤\n",
       "                        2                    2 ⎛ 1 ⎞   ⎥\n",
       "    - 572.256840303692⋅x ⋅(0.5⋅l - x)⋅(l - x) ⋅⎜───⎟   ⎥\n",
       "                                               ⎜ 11⎟   ⎥\n",
       "                                               ⎝l  ⎠   ⎦"
      ]
     },
     "execution_count": 17,
     "metadata": {},
     "output_type": "execute_result"
    }
   ],
   "source": [
    "Norm_g = [integrate(F_g[i]**2, (x,0,l)) - 1 for i in range(n)]\n",
    "\n",
    "C_g = [solve(Norm_g[i], C_ans[i])[0].evalf() for i in range(n)]\n",
    "\n",
    "[F_g[i].subs(C_ans[i], C_g[i]).evalf() for i in range(n)]"
   ]
  }
 ],
 "metadata": {
  "kernelspec": {
   "display_name": "Python 3",
   "language": "python",
   "name": "python3"
  },
  "language_info": {
   "codemirror_mode": {
    "name": "ipython",
    "version": 3
   },
   "file_extension": ".py",
   "mimetype": "text/x-python",
   "name": "python",
   "nbconvert_exporter": "python",
   "pygments_lexer": "ipython3",
   "version": "3.5.1"
  }
 },
 "nbformat": 4,
 "nbformat_minor": 0
}
