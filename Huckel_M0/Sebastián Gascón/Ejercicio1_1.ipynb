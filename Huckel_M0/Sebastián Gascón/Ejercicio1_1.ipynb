{
 "cells": [
  {
   "cell_type": "code",
   "execution_count": 47,
   "metadata": {
    "collapsed": true
   },
   "outputs": [],
   "source": [
    "import sympy as sy\n",
    "from sympy import init_printing; init_printing(use_latex = 'mathjax')"
   ]
  },
  {
   "cell_type": "code",
   "execution_count": 62,
   "metadata": {
    "collapsed": false
   },
   "outputs": [
    {
     "name": "stdout",
     "output_type": "stream",
     "text": [
      "Indica el número de funciones:    4\n",
      "función 1:   x*(l-x)\n",
      "función 2:   (x**2)*(l-x)**2\n",
      "función 3:   x*(l-x)*((1*l/2) - x)\n",
      "función 4:   (x**2)*(l-x)**2*((1*l/2) - x)\n",
      "Escribe Hf (atento con la redacción, usando sy. para los operadores, ejemplo: -(hbar**2/(2*m)) * sy.diff(f, x, 2)):   -(hbar**2/(2*m)) * sy.diff(f, x, 2)\n"
     ]
    }
   ],
   "source": [
    "sy.var('x l m hbar W')\n",
    "n = int(input('Indica el número de funciones:    '))\n",
    "#Obtención de fi\n",
    "f = []\n",
    "for i in range(n):\n",
    "    fi = input('función %i:   ' %(i+1))\n",
    "    f.append(fi)\n",
    "f = sy.Matrix(sy.sympify(f))\n",
    "H = input('Escribe Hf (usando sy. para los operadores, ejemplo: -(hbar**2/(2*m)) * sy.diff(f, x, 2)):   ') \n",
    "#Hamiltoniano aplicado a la matriz de las fi\n",
    "Hf = eval(H)"
   ]
  },
  {
   "cell_type": "code",
   "execution_count": 67,
   "metadata": {
    "collapsed": false
   },
   "outputs": [],
   "source": [
    "#f = sy.Matrix([x*(l-x), (x**2)*(l-x)**2, x*(l-x)*((1*l/2) - x), (x**2)*(l-x)**2*((1*l/2) - x)]) #arreglo de fi\n",
    "#Hf = -(hbar**2/(2*m)) * sy.diff(f, x, 2)\n",
    "ff = f*f.T   #fjfk\n",
    "In = f*(Hf.T)   #fjHfk\n",
    "IH = sy.integrate(In, (x, 0, l))     #Hjk\n",
    "ISW = sy.integrate(ff, (x, 0, l))*W  #Sjk\n",
    "D = sy.det(IH-ISW) #Determinante\n",
    "S = sy.solvers.solve(D, W)  #Obtención de raices de W."
   ]
  },
  {
   "cell_type": "code",
   "execution_count": 68,
   "metadata": {
    "collapsed": false
   },
   "outputs": [
    {
     "data": {
      "text/latex": [
       "$$\\left [ \\frac{2 \\hbar^{2}}{l^{2} m} \\left(- \\sqrt{133} + 14\\right), \\quad \\frac{2 \\hbar^{2}}{l^{2} m} \\left(\\sqrt{133} + 14\\right), \\quad \\frac{2 \\hbar^{2}}{l^{2} m} \\left(- 9 \\sqrt{5} + 30\\right), \\quad \\frac{2 \\hbar^{2}}{l^{2} m} \\left(9 \\sqrt{5} + 30\\right)\\right ]$$"
      ],
      "text/plain": [
       "⎡    2                   2                  2                   2            ⎤\n",
       "⎢2⋅h̅ ⋅(-√133 + 14)  2⋅h̅ ⋅(√133 + 14)  2⋅h̅ ⋅(-9⋅√5 + 30)  2⋅h̅ ⋅(9⋅√5 + 30)⎥\n",
       "⎢──────────────────, ─────────────────, ──────────────────, ─────────────────⎥\n",
       "⎢        2                   2                  2                   2        ⎥\n",
       "⎣       l ⋅m                l ⋅m               l ⋅m                l ⋅m      ⎦"
      ]
     },
     "execution_count": 68,
     "metadata": {},
     "output_type": "execute_result"
    }
   ],
   "source": [
    "#Valores de W\n",
    "S"
   ]
  },
  {
   "cell_type": "code",
   "execution_count": null,
   "metadata": {
    "collapsed": true
   },
   "outputs": [],
   "source": []
  }
 ],
 "metadata": {
  "kernelspec": {
   "display_name": "Python 3",
   "language": "python",
   "name": "python3"
  },
  "language_info": {
   "codemirror_mode": {
    "name": "ipython",
    "version": 3
   },
   "file_extension": ".py",
   "mimetype": "text/x-python",
   "name": "python",
   "nbconvert_exporter": "python",
   "pygments_lexer": "ipython3",
   "version": "3.5.1"
  }
 },
 "nbformat": 4,
 "nbformat_minor": 0
}
