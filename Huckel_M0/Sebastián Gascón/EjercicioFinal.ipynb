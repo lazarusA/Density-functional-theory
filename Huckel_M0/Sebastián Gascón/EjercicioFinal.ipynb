{
 "cells": [
  {
   "cell_type": "code",
   "execution_count": 1,
   "metadata": {
    "collapsed": false
   },
   "outputs": [],
   "source": [
    "import sympy as sy\n",
    "from sympy import init_printing; init_printing(use_latex = 'mathjax')\n",
    "import numpy as np\n",
    "x, l, m, h, W, K = sy.var('x l m hbar W K', real = True)"
   ]
  },
  {
   "cell_type": "code",
   "execution_count": 31,
   "metadata": {
    "collapsed": false
   },
   "outputs": [
    {
     "name": "stdout",
     "output_type": "stream",
     "text": [
      "Indica el número de funciones:    4\n",
      "función 1:   x*(l-x)\n",
      "función 2:   (x**2)*(l-x)**2\n",
      "función 3:   x*(l-x)*((1*l/2) - x)\n",
      "función 4:   (x**2)*(l-x)**2*((1*l/2) - x)\n",
      "Escribe Hf (usando sy. para los operadores, ejemplo: -(hbar**2/(2*m)) * sy.diff(f, x, 2)):   -(hbar**2/(2*m)) * sy.diff(f, x, 2)\n"
     ]
    }
   ],
   "source": [
    "#Para fines practicos y checar el codigo, se pude omitir esta parte del codigo\n",
    "n = int(input('Indica el número de funciones:    '))\n",
    "#Obtención de fi\n",
    "f = []\n",
    "for i in range(n):\n",
    "    fi = input('función %i:   ' %(i+1))\n",
    "    f.append(fi)\n",
    "f = sy.Matrix(sy.sympify(f))\n",
    "H = input('Escribe Hf (usando sy. para los operadores, ejemplo: -(hbar**2/(2*m)) * sy.diff(f, x, 2)):   ') \n",
    "#Hamiltoniano aplicado a la matriz de las fi\n",
    "Hf = eval(H)"
   ]
  },
  {
   "cell_type": "code",
   "execution_count": 183,
   "metadata": {
    "collapsed": false
   },
   "outputs": [],
   "source": [
    "f = sy.Matrix([x*(l-x), (x**2)*(l-x)**2, x*(l-x)*((1*l/2) - x), (x**2)*(l-x)**2*((1*l/2) - x)]) #arreglo de fi\n",
    "Hf = -(hbar**2/(2*m)) * sy.diff(f, x, 2)\n",
    "ff = f*f.T   #fjfk\n",
    "In = f*(Hf.T)   #fjHfk\n",
    "IH = sy.integrate(In, (x, 0, l))     #Hjk\n",
    "IS = sy.integrate(ff, (x, 0, l))  #Sjk\n",
    "D = sy.det(IH-IS*W) #Determinante\n",
    "Wi = sy.solvers.solve(D, W)  #Obtención de raices de W.\n",
    "W1 = Wi[0]\n",
    "M = IH-IS*W1"
   ]
  },
  {
   "cell_type": "code",
   "execution_count": 184,
   "metadata": {
    "collapsed": false
   },
   "outputs": [],
   "source": [
    "n = 4\n",
    "def GaJo(M):\n",
    "    M = sy.Matrix(M)\n",
    "    #Para Hacer Gauss\n",
    "    for i in range(n):\n",
    "        #Encontrar máximo en la columna\n",
    "        a = sy.N(M[:, i])\n",
    "        b = sy.Matrix(a.subs([(l, np.random.random()), (hbar, np.random.random()), (m, np.random.random())]))\n",
    "        c = np.array(b.tolist()).astype(np.float64)\n",
    "        maxi = abs(c[i])\n",
    "        maxRow = i\n",
    "        #intercambiar filas con valores cercanos a 0\n",
    "        if maxi < 1e-15:       #Apartir de este valor se redondea a 0\n",
    "            M[i, i] = 0\n",
    "        #Continua intercambio\n",
    "        for k in range(i+1, n):\n",
    "            if abs(c[k]) > maxi:\n",
    "                maxi = abs(c[k])\n",
    "                maxRow = k\n",
    "        if maxi < 1e-15:\n",
    "            continue\n",
    "        #Cambiar filas (por valor máximo de columna)\n",
    "        for k in range(i, n):\n",
    "            temporal = M[maxRow, k]\n",
    "            M[maxRow, k] = M[i, k]\n",
    "            M[i, k] = temporal      \n",
    "        #Hacer 0 lo valores abajo del máximo de la columna\n",
    "        for k in range(i+1, n):\n",
    "            c = -M[k, i]/M[i, i]\n",
    "            for j in range(n):\n",
    "                    M[k, j] += c * M[i, j]\n",
    "    Gauss = sy.Matrix(M)\n",
    "    # Para hacer Gauss-Jordan\n",
    "    for t in range(n-1, -1, -1):\n",
    "        if M[t, t] == 0: continue\n",
    "        for d in range(t-1, -1, -1):\n",
    "            cons = M[d, t]/ M[t, t]\n",
    "            for k in range(n-1, -1, -1):\n",
    "                M[d, k] -=  M[t, k] * cons\n",
    "    GJ = sy.Matrix(M)\n",
    "    for i in range(n):\n",
    "        if GJ[i, i] == 0: continue\n",
    "        GJ[i, :] = GJ[i, :] / GJ[i, i]\n",
    "    #GJ = sy.N(GJ) #mover para fracciones o decimales\n",
    "    return GJ"
   ]
  },
  {
   "cell_type": "code",
   "execution_count": 185,
   "metadata": {
    "collapsed": false
   },
   "outputs": [],
   "source": [
    "C = sy.zeros(n,n) #Matriz de coeficientes\n",
    "for i in range (1,n+1):\n",
    "    for j in range (1,n+1):\n",
    "        C[i-1,j-1]=sy.sympify((str('c_' +str(i) + '_' + str(j))))"
   ]
  },
  {
   "cell_type": "code",
   "execution_count": 186,
   "metadata": {
    "collapsed": true
   },
   "outputs": [],
   "source": [
    "def ObMat(Wi, i):\n",
    "    Wii = Wi[i]\n",
    "    M = IH-IS*Wii\n",
    "    return M\n",
    "def ObC(i):\n",
    "    Ec = GaJo(ObMat(Wi, i))*C[:, i]\n",
    "    EcR = Ec.T.row(0).tolist()\n",
    "    return sy.solvers.solve(EcR[0], C[:, i])"
   ]
  },
  {
   "cell_type": "code",
   "execution_count": 187,
   "metadata": {
    "collapsed": false
   },
   "outputs": [],
   "source": [
    "MC = [ObC(i) for i in range(n)]"
   ]
  },
  {
   "cell_type": "code",
   "execution_count": 188,
   "metadata": {
    "collapsed": false
   },
   "outputs": [],
   "source": [
    "MCM = C\n",
    "CC = sy.Matrix(np.zeros(n).tolist())\n",
    "for i in range(n):\n",
    "    for j in range(n):\n",
    "        if C[j, i] in MC[i]:\n",
    "            MCM[j, i] = MC[i][C[j, i]]\n",
    "        elif C[j, i] not in MC[i]:\n",
    "            CC[i] = C[j, i]\n",
    "MCM = MCM.T\n",
    "Sum = MCM*f"
   ]
  },
  {
   "cell_type": "code",
   "execution_count": 191,
   "metadata": {
    "collapsed": false
   },
   "outputs": [],
   "source": [
    "Norm = [sy.integrate(Sum[i]**2, (x,0,l)) for i in range(n)]\n",
    "Sol = [sy.solve(Norm[i]-1, CC[i])[1] for i in range(n)]\n",
    "#sy.N(sy.Matrix(Sol))"
   ]
  },
  {
   "cell_type": "code",
   "execution_count": 190,
   "metadata": {
    "collapsed": false
   },
   "outputs": [
    {
     "data": {
      "text/latex": [
       "$$\\left [ 4.40399751133633 l^{2} x \\left(l - x\\right) \\left(\\frac{1}{l^{9}}\\right)^{0.5} + 4.99034859672658 x^{2} \\left(l - x\\right)^{2} \\left(\\frac{1}{l^{9}}\\right)^{0.5}, \\quad - 28.6462005494649 l^{2} x \\left(l - x\\right) \\left(\\frac{1}{l^{9}}\\right)^{0.5} + 132.721876195613 x^{2} \\left(l - x\\right)^{2} \\left(\\frac{1}{l^{9}}\\right)^{0.5}, \\quad 16.7823521557751 l^{2} x \\left(0.5 l - x\\right) \\left(l - x\\right) \\left(\\frac{1}{l^{11}}\\right)^{0.5} + 71.8478164291383 x^{2} \\left(0.5 l - x\\right) \\left(l - x\\right)^{2} \\left(\\frac{1}{l^{11}}\\right)^{0.5}, \\quad - 98.9866286733696 l^{2} x \\left(0.5 l - x\\right) \\left(l - x\\right) \\left(\\frac{1}{l^{11}}\\right)^{0.5} + 572.256840303692 x^{2} \\left(0.5 l - x\\right) \\left(l - x\\right)^{2} \\left(\\frac{1}{l^{11}}\\right)^{0.5}\\right ]$$"
      ],
      "text/plain": [
       "⎡                                  0.5                                    0.5 \n",
       "⎢                  2           ⎛1 ⎞                        2        2 ⎛1 ⎞    \n",
       "⎢4.40399751133633⋅l ⋅x⋅(l - x)⋅⎜──⎟    + 4.99034859672658⋅x ⋅(l - x) ⋅⎜──⎟   ,\n",
       "⎢                              ⎜ 9⎟                                   ⎜ 9⎟    \n",
       "⎣                              ⎝l ⎠                                   ⎝l ⎠    \n",
       "\n",
       "                                     0.5                                    0.\n",
       "                     2           ⎛1 ⎞                        2        2 ⎛1 ⎞  \n",
       " - 28.6462005494649⋅l ⋅x⋅(l - x)⋅⎜──⎟    + 132.721876195613⋅x ⋅(l - x) ⋅⎜──⎟  \n",
       "                                 ⎜ 9⎟                                   ⎜ 9⎟  \n",
       "                                 ⎝l ⎠                                   ⎝l ⎠  \n",
       "\n",
       "5                                                 0.5                         \n",
       "                     2                       ⎛ 1 ⎞                        2   \n",
       " , 16.7823521557751⋅l ⋅x⋅(0.5⋅l - x)⋅(l - x)⋅⎜───⎟    + 71.8478164291383⋅x ⋅(0\n",
       "                                             ⎜ 11⎟                            \n",
       "                                             ⎝l  ⎠                            \n",
       "\n",
       "                        0.5                                                   \n",
       "                 2 ⎛ 1 ⎞                         2                       ⎛ 1 ⎞\n",
       ".5⋅l - x)⋅(l - x) ⋅⎜───⎟   , - 98.9866286733696⋅l ⋅x⋅(0.5⋅l - x)⋅(l - x)⋅⎜───⎟\n",
       "                   ⎜ 11⎟                                                 ⎜ 11⎟\n",
       "                   ⎝l  ⎠                                                 ⎝l  ⎠\n",
       "\n",
       "0.5                                                 0.5⎤\n",
       "                        2                    2 ⎛ 1 ⎞   ⎥\n",
       "    + 572.256840303692⋅x ⋅(0.5⋅l - x)⋅(l - x) ⋅⎜───⎟   ⎥\n",
       "                                               ⎜ 11⎟   ⎥\n",
       "                                               ⎝l  ⎠   ⎦"
      ]
     },
     "execution_count": 190,
     "metadata": {},
     "output_type": "execute_result"
    }
   ],
   "source": [
    "Phis = [Sum[i].subs(CC[i], Sol[i]).evalf() for i in range(n)]\n",
    "Phis"
   ]
  },
  {
   "cell_type": "code",
   "execution_count": 197,
   "metadata": {
    "collapsed": false
   },
   "outputs": [],
   "source": [
    "#Gauss-Jordan para numpy (puede ser una matriz singular)\n",
    "A = [[1, -4, 5, -1], [3, -12, 4, -3], [2, -1, 0, 9], [0, 1, 5, -1]]\n",
    "for i in range(0, n):    #el incide i maneja las filas\n",
    "    # Search for maximum in this column\n",
    "    maxEl = abs(A[i][i])\n",
    "    maxRow = i\n",
    "    for k in range(i+1, n):\n",
    "        if abs(A[k][i]) > maxEl:\n",
    "            maxEl = abs(A[k][i])\n",
    "            maxRow = k\n",
    "    # Intercambio de la máxima columna con la actual (una por una)\n",
    "    for k in range(i, n):\n",
    "        tmp = A[maxRow][k]\n",
    "        A[maxRow][k] = A[i][k]\n",
    "        A[i][k] = tmp\n",
    "    #Hacer 0 los valores debajo\n",
    "    for k in range(i+1, n):\n",
    "        c = -A[k][i]/A[i][i]\n",
    "        for j in range(n):\n",
    "                A[k][j] += c * A[i][j]\n",
    "# Para hacer Gauss-Jordan\n",
    "xx = np.zeros(n)\n",
    "for t in range(n-1, -1, -1):\n",
    "    if A[t][t] == 0:\n",
    "        continue\n",
    "    for d in range(t-1, -1, -1):\n",
    "        xx[t] = A[d][t]/ A[t][t]\n",
    "        for k in range(n-1, -1, -1):\n",
    "            A[d][k] -=  A[t][k] * xx[t]"
   ]
  },
  {
   "cell_type": "code",
   "execution_count": 2,
   "metadata": {
    "collapsed": false
   },
   "outputs": [],
   "source": [
    "#Ejercicios 8.8, 8.11, 8.14, 8.26, 8.27, 8.57   para 01 de octubre"
   ]
  },
  {
   "cell_type": "code",
   "execution_count": 25,
   "metadata": {
    "collapsed": false
   },
   "outputs": [],
   "source": [
    "#8.8\n",
    "sy.var('x l m hbar W k', real = True)\n",
    "ph = (x**k)*(l-x)**k\n",
    "Hph = -(hbar**2/(2*m)) * sy.diff(phi, x, 2)\n",
    "pHp = ph*Hph"
   ]
  },
  {
   "cell_type": "code",
   "execution_count": 26,
   "metadata": {
    "collapsed": false
   },
   "outputs": [
    {
     "data": {
      "text/latex": [
       "$$\\frac{\\hbar^{2} k}{2 m} x^{2 k - 2} \\left(l - x\\right)^{2 k - 2} \\left(2 k x \\left(l - x\\right) + x^{2} \\left(- k + 1\\right) + \\left(- k + 1\\right) \\left(l - x\\right)^{2}\\right)$$"
      ],
      "text/plain": [
       "  2    2⋅k - 2        2⋅k - 2 ⎛                 2                            2\n",
       "h̅ ⋅k⋅x       ⋅(l - x)       ⋅⎝2⋅k⋅x⋅(l - x) + x ⋅(-k + 1) + (-k + 1)⋅(l - x) \n",
       "──────────────────────────────────────────────────────────────────────────────\n",
       "                                      2⋅m                                     \n",
       "\n",
       "⎞\n",
       "⎠\n",
       "─\n",
       " "
      ]
     },
     "execution_count": 26,
     "metadata": {},
     "output_type": "execute_result"
    }
   ],
   "source": [
    "Inn = sy.simplify(pHp); Inn"
   ]
  },
  {
   "cell_type": "code",
   "execution_count": 27,
   "metadata": {
    "collapsed": false
   },
   "outputs": [
    {
     "data": {
      "text/latex": [
       "$$x^{2 k - 1}$$"
      ],
      "text/plain": [
       " 2⋅k - 1\n",
       "x       "
      ]
     },
     "execution_count": 27,
     "metadata": {},
     "output_type": "execute_result"
    }
   ],
   "source": [
    "sy.simplify(x**(2*k-2) * x)"
   ]
  },
  {
   "cell_type": "code",
   "execution_count": 32,
   "metadata": {
    "collapsed": false
   },
   "outputs": [
    {
     "data": {
      "text/latex": [
       "$$\\frac{\\hbar^{2} \\left(8 k^{2} - 8 k - 1\\right)}{l^{2} m \\left(4 k^{2} - 4 k + 1\\right)}$$"
      ],
      "text/plain": [
       "   2 ⎛   2          ⎞\n",
       " h̅ ⋅⎝8⋅k  - 8⋅k - 1⎠\n",
       "─────────────────────\n",
       " 2   ⎛   2          ⎞\n",
       "l ⋅m⋅⎝4⋅k  - 4⋅k + 1⎠"
      ]
     },
     "execution_count": 32,
     "metadata": {},
     "output_type": "execute_result"
    }
   ],
   "source": [
    "WW = (hbar**2/(m * l ** 2)) * ((4 * k**2+k) / (2 * k - 1))\n",
    "sy.simplify(sy.diff(WW, k, 1))"
   ]
  },
  {
   "cell_type": "code",
   "execution_count": 27,
   "metadata": {
    "collapsed": false
   },
   "outputs": [
    {
     "data": {
      "text/latex": [
       "$$\\frac{1}{m \\left(a^{2} + x^{2}\\right)^{4}} \\left(- \\hbar^{2} \\left(- a^{2} + 3 x^{2}\\right) + 0.5 m^{2} w^{2} x^{2} \\left(a^{2} + x^{2}\\right)^{2}\\right)$$"
      ],
      "text/plain": [
       "                                            2\n",
       "    2 ⎛   2      2⎞        2  2  2 ⎛ 2    2⎞ \n",
       "- h̅ ⋅⎝- a  + 3⋅x ⎠ + 0.5⋅m ⋅w ⋅x ⋅⎝a  + x ⎠ \n",
       "─────────────────────────────────────────────\n",
       "                            4                \n",
       "                   ⎛ 2    2⎞                 \n",
       "                 m⋅⎝a  + x ⎠                 "
      ]
     },
     "execution_count": 27,
     "metadata": {},
     "output_type": "execute_result"
    }
   ],
   "source": [
    "#8.11\n",
    "sy.var('x m hbar a w', real = True)\n",
    "ph = 1 / (a**2 + x**2)\n",
    "Hph = -(hbar**2/(2*m)) * sy.diff(ph, x, 2) + (1 / 2)  * (m * w ** 2 * x ** 2) * ph\n",
    "phHph = ph * Hph\n",
    "Inn = sy.simplify(phHph); Inn"
   ]
  },
  {
   "cell_type": "code",
   "execution_count": 24,
   "metadata": {
    "collapsed": false
   },
   "outputs": [
    {
     "data": {
      "text/latex": [
       "$$\\frac{1}{a^{2} + x^{2}} \\left(- \\frac{\\hbar^{2} \\left(\\frac{4 x^{2}}{a^{2} + x^{2}} - 1\\right)}{m \\left(a^{2} + x^{2}\\right)^{2}} + \\frac{0.5 m w^{2} x^{2}}{a^{2} + x^{2}}\\right)$$"
      ],
      "text/plain": [
       "      ⎛     2     ⎞              \n",
       "    2 ⎜  4⋅x      ⎟              \n",
       "  h̅ ⋅⎜─────── - 1⎟              \n",
       "      ⎜ 2    2    ⎟          2  2\n",
       "      ⎝a  + x     ⎠   0.5⋅m⋅w ⋅x \n",
       "- ───────────────── + ───────────\n",
       "                2        2    2  \n",
       "       ⎛ 2    2⎞        a  + x   \n",
       "     m⋅⎝a  + x ⎠                 \n",
       "─────────────────────────────────\n",
       "              2    2             \n",
       "             a  + x              "
      ]
     },
     "execution_count": 24,
     "metadata": {},
     "output_type": "execute_result"
    }
   ],
   "source": [
    "phHph"
   ]
  },
  {
   "cell_type": "code",
   "execution_count": 34,
   "metadata": {
    "collapsed": false
   },
   "outputs": [
    {
     "data": {
      "text/latex": [
       "$$2 m w^{2} + \\frac{3 \\hbar^{2}}{2 a^{3} m}$$"
      ],
      "text/plain": [
       "             2 \n",
       "     2   3⋅h̅  \n",
       "2⋅m⋅w  + ──────\n",
       "            3  \n",
       "         2⋅a ⋅m"
      ]
     },
     "execution_count": 34,
     "metadata": {},
     "output_type": "execute_result"
    }
   ],
   "source": [
    "WW = hbar ** 2/ (4*m) - 3 * hbar ** 2/ (4*m*a**2) +2 * m * w ** 2 * a\n",
    "sy.diff(WW, a, 1)"
   ]
  },
  {
   "cell_type": "code",
   "execution_count": 37,
   "metadata": {
    "collapsed": false
   },
   "outputs": [],
   "source": [
    "WW = hbar ** 2/ (4*m) - 3 * hbar ** 2/ (4*m*((2 * hbar ** 2 / (2 * m ** 2 * w ** 2)) ** (3/2))**2) +2 * m * w ** 2 * ((2 * hbar ** 2 / (2 * m ** 2 * w ** 2)) ** (3/2))"
   ]
  },
  {
   "cell_type": "code",
   "execution_count": 38,
   "metadata": {
    "collapsed": false
   },
   "outputs": [
    {
     "data": {
      "text/latex": [
       "$$- \\frac{3 \\hbar^{2} \\left|{m}\\right|^{6.0} \\left|{w}\\right|^{6.0}}{4 m \\left|{\\hbar}\\right|^{6.0}} + \\frac{\\hbar^{2}}{4 m} + \\frac{2 m w^{2} \\left|{\\hbar}\\right|^{3.0}}{\\left|{m}\\right|^{3.0} \\left|{w}\\right|^{3.0}}$$"
      ],
      "text/plain": [
       "      2     -6.0    6.0    6.0     2                                 \n",
       "  3⋅h̅ ⋅│h̅│    ⋅│m│   ⋅│w│      h̅         2     3.0    -3.0    -3.0\n",
       "- ──────────────────────────── + ─── + 2⋅m⋅w ⋅│h̅│   ⋅│m│    ⋅│w│    \n",
       "              4⋅m                4⋅m                                 "
      ]
     },
     "execution_count": 38,
     "metadata": {},
     "output_type": "execute_result"
    }
   ],
   "source": [
    "WW"
   ]
  },
  {
   "cell_type": "code",
   "execution_count": null,
   "metadata": {
    "collapsed": true
   },
   "outputs": [],
   "source": []
  }
 ],
 "metadata": {
  "kernelspec": {
   "display_name": "Python 3",
   "language": "python",
   "name": "python3"
  },
  "language_info": {
   "codemirror_mode": {
    "name": "ipython",
    "version": 3
   },
   "file_extension": ".py",
   "mimetype": "text/x-python",
   "name": "python",
   "nbconvert_exporter": "python",
   "pygments_lexer": "ipython3",
   "version": "3.5.1"
  }
 },
 "nbformat": 4,
 "nbformat_minor": 0
}
