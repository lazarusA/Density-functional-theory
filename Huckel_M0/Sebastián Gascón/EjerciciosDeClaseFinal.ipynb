{
 "cells": [
  {
   "cell_type": "code",
   "execution_count": 1,
   "metadata": {
    "collapsed": false
   },
   "outputs": [],
   "source": [
    "import sympy as sy\n",
    "from sympy import init_printing; init_printing(use_latex = 'mathjax')\n",
    "import numpy as np\n",
    "x, l, m, h, W, K = sy.var('x l m hbar W K', real = True)"
   ]
  },
  {
   "cell_type": "code",
   "execution_count": 31,
   "metadata": {
    "collapsed": false
   },
   "outputs": [
    {
     "name": "stdout",
     "output_type": "stream",
     "text": [
      "Indica el número de funciones:    4\n",
      "función 1:   x*(l-x)\n",
      "función 2:   (x**2)*(l-x)**2\n",
      "función 3:   x*(l-x)*((1*l/2) - x)\n",
      "función 4:   (x**2)*(l-x)**2*((1*l/2) - x)\n",
      "Escribe Hf (usando sy. para los operadores, ejemplo: -(hbar**2/(2*m)) * sy.diff(f, x, 2)):   -(hbar**2/(2*m)) * sy.diff(f, x, 2)\n"
     ]
    }
   ],
   "source": [
    "#Para fines practicos y checar el codigo, se pude omitir esta parte del codigo\n",
    "n = int(input('Indica el número de funciones:    '))\n",
    "#Obtención de fi\n",
    "f = []\n",
    "for i in range(n):\n",
    "    fi = input('función %i:   ' %(i+1))\n",
    "    f.append(fi)\n",
    "f = sy.Matrix(sy.sympify(f))\n",
    "H = input('Escribe Hf (usando sy. para los operadores, ejemplo: -(hbar**2/(2*m)) * sy.diff(f, x, 2)):   ') \n",
    "#Hamiltoniano aplicado a la matriz de las fi\n",
    "Hf = eval(H)"
   ]
  },
  {
   "cell_type": "code",
   "execution_count": 2,
   "metadata": {
    "collapsed": false
   },
   "outputs": [],
   "source": [
    "f = sy.Matrix([x*(l-x), (x**2)*(l-x)**2, x*(l-x)*((1*l/2) - x), (x**2)*(l-x)**2*((1*l/2) - x)]) #arreglo de fi\n",
    "Hf = -(hbar**2/(2*m)) * sy.diff(f, x, 2)\n",
    "ff = f*f.T   #fjfk\n",
    "In = f*(Hf.T)   #fjHfk\n",
    "IH = sy.integrate(In, (x, 0, l))     #Hjk\n",
    "IS = sy.integrate(ff, (x, 0, l))  #Sjk\n",
    "D = sy.det(IH-IS*W) #Determinante\n",
    "Wi = sy.solvers.solve(D, W)  #Obtención de raices de W.\n",
    "W1 = Wi[0]\n",
    "M = IH-IS*W1"
   ]
  },
  {
   "cell_type": "code",
   "execution_count": 3,
   "metadata": {
    "collapsed": false
   },
   "outputs": [],
   "source": [
    "n = 4\n",
    "def GaJo(M):\n",
    "    M = sy.Matrix(M)\n",
    "    #Para Hacer Gauss\n",
    "    for i in range(n):\n",
    "        #Encontrar máximo en la columna\n",
    "        a = sy.N(M[:, i])\n",
    "        b = sy.Matrix(a.subs([(l, np.random.random()), (hbar, np.random.random()), (m, np.random.random())]))\n",
    "        c = np.array(b.tolist()).astype(np.float64)\n",
    "        maxi = abs(c[i])\n",
    "        maxRow = i\n",
    "        #intercambiar filas con valores cercanos a 0\n",
    "        if maxi < 1e-15:       #Apartir de este valor se redondea a 0\n",
    "            M[i, i] = 0\n",
    "        #Continua intercambio\n",
    "        for k in range(i+1, n):\n",
    "            if abs(c[k]) > maxi:\n",
    "                maxi = abs(c[k])\n",
    "                maxRow = k\n",
    "        if maxi < 1e-15:\n",
    "            continue\n",
    "        #Cambiar filas (por valor máximo de columna)\n",
    "        for k in range(i, n):\n",
    "            temporal = M[maxRow, k]\n",
    "            M[maxRow, k] = M[i, k]\n",
    "            M[i, k] = temporal      \n",
    "        #Hacer 0 lo valores abajo del máximo de la columna\n",
    "        for k in range(i+1, n):\n",
    "            c = -M[k, i]/M[i, i]\n",
    "            for j in range(n):\n",
    "                    M[k, j] += c * M[i, j]\n",
    "    Gauss = sy.Matrix(M)\n",
    "    # Para hacer Gauss-Jordan\n",
    "    for t in range(n-1, -1, -1):\n",
    "        if M[t, t] == 0: continue\n",
    "        for d in range(t-1, -1, -1):\n",
    "            cons = M[d, t]/ M[t, t]\n",
    "            for k in range(n-1, -1, -1):\n",
    "                M[d, k] -=  M[t, k] * cons\n",
    "    GJ = sy.Matrix(M)\n",
    "    for i in range(n):\n",
    "        if GJ[i, i] == 0: continue\n",
    "        GJ[i, :] = GJ[i, :] / GJ[i, i]\n",
    "    #GJ = sy.N(GJ) #mover para fracciones o decimales\n",
    "    return GJ"
   ]
  },
  {
   "cell_type": "code",
   "execution_count": 4,
   "metadata": {
    "collapsed": false
   },
   "outputs": [],
   "source": [
    "C = sy.zeros(n,n) #Matriz de coeficientes\n",
    "for i in range (1,n+1):\n",
    "    for j in range (1,n+1):\n",
    "        C[i-1,j-1]=sy.sympify((str('c_' +str(i) + '_' + str(j))))"
   ]
  },
  {
   "cell_type": "code",
   "execution_count": 5,
   "metadata": {
    "collapsed": true
   },
   "outputs": [],
   "source": [
    "def ObMat(Wi, i):\n",
    "    Wii = Wi[i]\n",
    "    M = IH-IS*Wii\n",
    "    return M\n",
    "def ObC(i):\n",
    "    Ec = GaJo(ObMat(Wi, i))*C[:, i]\n",
    "    EcR = Ec.T.row(0).tolist()\n",
    "    return sy.solvers.solve(EcR[0], C[:, i])"
   ]
  },
  {
   "cell_type": "code",
   "execution_count": 6,
   "metadata": {
    "collapsed": false
   },
   "outputs": [],
   "source": [
    "MC = [ObC(i) for i in range(n)]"
   ]
  },
  {
   "cell_type": "code",
   "execution_count": 7,
   "metadata": {
    "collapsed": false
   },
   "outputs": [],
   "source": [
    "MCM = C\n",
    "CC = sy.Matrix(np.zeros(n).tolist())\n",
    "for i in range(n):\n",
    "    for j in range(n):\n",
    "        if C[j, i] in MC[i]:\n",
    "            MCM[j, i] = MC[i][C[j, i]]\n",
    "        elif C[j, i] not in MC[i]:\n",
    "            CC[i] = C[j, i]\n",
    "MCM = MCM.T\n",
    "Sum = MCM*f"
   ]
  },
  {
   "cell_type": "code",
   "execution_count": 8,
   "metadata": {
    "collapsed": false
   },
   "outputs": [],
   "source": [
    "Norm = [sy.integrate(Sum[i]**2, (x,0,l)) for i in range(n)]\n",
    "Sol = [sy.solve(Norm[i]-1, CC[i])[1] for i in range(n)]\n",
    "#sy.N(sy.Matrix(Sol))"
   ]
  },
  {
   "cell_type": "code",
   "execution_count": 9,
   "metadata": {
    "collapsed": false
   },
   "outputs": [
    {
     "data": {
      "text/latex": [
       "$$\\left [ 4.40399751133633 l^{2} x \\left(l - x\\right) \\left(\\frac{1}{l^{9}}\\right)^{0.5} + 4.99034859672658 x^{2} \\left(l - x\\right)^{2} \\left(\\frac{1}{l^{9}}\\right)^{0.5}, \\quad - 28.6462005494649 l^{2} x \\left(l - x\\right) \\left(\\frac{1}{l^{9}}\\right)^{0.5} + 132.721876195613 x^{2} \\left(l - x\\right)^{2} \\left(\\frac{1}{l^{9}}\\right)^{0.5}, \\quad 16.7823521557751 l^{2} x \\left(0.5 l - x\\right) \\left(l - x\\right) \\left(\\frac{1}{l^{11}}\\right)^{0.5} + 71.8478164291383 x^{2} \\left(0.5 l - x\\right) \\left(l - x\\right)^{2} \\left(\\frac{1}{l^{11}}\\right)^{0.5}, \\quad - 98.9866286733696 l^{2} x \\left(0.5 l - x\\right) \\left(l - x\\right) \\left(\\frac{1}{l^{11}}\\right)^{0.5} + 572.256840303692 x^{2} \\left(0.5 l - x\\right) \\left(l - x\\right)^{2} \\left(\\frac{1}{l^{11}}\\right)^{0.5}\\right ]$$"
      ],
      "text/plain": [
       "⎡                                  0.5                                    0.5 \n",
       "⎢                  2           ⎛1 ⎞                        2        2 ⎛1 ⎞    \n",
       "⎢4.40399751133633⋅l ⋅x⋅(l - x)⋅⎜──⎟    + 4.99034859672658⋅x ⋅(l - x) ⋅⎜──⎟   ,\n",
       "⎢                              ⎜ 9⎟                                   ⎜ 9⎟    \n",
       "⎣                              ⎝l ⎠                                   ⎝l ⎠    \n",
       "\n",
       "                                     0.5                                    0.\n",
       "                     2           ⎛1 ⎞                        2        2 ⎛1 ⎞  \n",
       " - 28.6462005494649⋅l ⋅x⋅(l - x)⋅⎜──⎟    + 132.721876195613⋅x ⋅(l - x) ⋅⎜──⎟  \n",
       "                                 ⎜ 9⎟                                   ⎜ 9⎟  \n",
       "                                 ⎝l ⎠                                   ⎝l ⎠  \n",
       "\n",
       "5                                                 0.5                         \n",
       "                     2                       ⎛ 1 ⎞                        2   \n",
       " , 16.7823521557751⋅l ⋅x⋅(0.5⋅l - x)⋅(l - x)⋅⎜───⎟    + 71.8478164291383⋅x ⋅(0\n",
       "                                             ⎜ 11⎟                            \n",
       "                                             ⎝l  ⎠                            \n",
       "\n",
       "                        0.5                                                   \n",
       "                 2 ⎛ 1 ⎞                         2                       ⎛ 1 ⎞\n",
       ".5⋅l - x)⋅(l - x) ⋅⎜───⎟   , - 98.9866286733696⋅l ⋅x⋅(0.5⋅l - x)⋅(l - x)⋅⎜───⎟\n",
       "                   ⎜ 11⎟                                                 ⎜ 11⎟\n",
       "                   ⎝l  ⎠                                                 ⎝l  ⎠\n",
       "\n",
       "0.5                                                 0.5⎤\n",
       "                        2                    2 ⎛ 1 ⎞   ⎥\n",
       "    + 572.256840303692⋅x ⋅(0.5⋅l - x)⋅(l - x) ⋅⎜───⎟   ⎥\n",
       "                                               ⎜ 11⎟   ⎥\n",
       "                                               ⎝l  ⎠   ⎦"
      ]
     },
     "execution_count": 9,
     "metadata": {},
     "output_type": "execute_result"
    }
   ],
   "source": [
    "Phis = [Sum[i].subs(CC[i], Sol[i]).evalf() for i in range(n)]\n",
    "Phis"
   ]
  },
  {
   "cell_type": "code",
   "execution_count": 10,
   "metadata": {
    "collapsed": false
   },
   "outputs": [],
   "source": [
    "#Gauss-Jordan para numpy (puede ser una matriz singular)\n",
    "A = [[1, -4, 5, -1], [3, -12, 4, -3], [2, -1, 0, 9], [0, 1, 5, -1]]\n",
    "for i in range(0, n):    #el incide i maneja las filas\n",
    "    # Search for maximum in this column\n",
    "    maxEl = abs(A[i][i])\n",
    "    maxRow = i\n",
    "    for k in range(i+1, n):\n",
    "        if abs(A[k][i]) > maxEl:\n",
    "            maxEl = abs(A[k][i])\n",
    "            maxRow = k\n",
    "    # Intercambio de la máxima columna con la actual (una por una)\n",
    "    for k in range(i, n):\n",
    "        tmp = A[maxRow][k]\n",
    "        A[maxRow][k] = A[i][k]\n",
    "        A[i][k] = tmp\n",
    "    #Hacer 0 los valores debajo\n",
    "    for k in range(i+1, n):\n",
    "        c = -A[k][i]/A[i][i]\n",
    "        for j in range(n):\n",
    "                A[k][j] += c * A[i][j]\n",
    "# Para hacer Gauss-Jordan\n",
    "xx = np.zeros(n)\n",
    "for t in range(n-1, -1, -1):\n",
    "    if A[t][t] == 0:\n",
    "        continue\n",
    "    for d in range(t-1, -1, -1):\n",
    "        xx[t] = A[d][t]/ A[t][t]\n",
    "        for k in range(n-1, -1, -1):\n",
    "            A[d][k] -=  A[t][k] * xx[t]"
   ]
  },
  {
   "cell_type": "code",
   "execution_count": 11,
   "metadata": {
    "collapsed": false
   },
   "outputs": [],
   "source": [
    "#Ejercicios 8.8, 8.11, 8.14, 8.26, 8.27, 8.57   para 01 de octubre"
   ]
  },
  {
   "cell_type": "code",
   "execution_count": 12,
   "metadata": {
    "collapsed": false
   },
   "outputs": [],
   "source": [
    "#8.8 Ver Hojas extra\n",
    "sy.var('x l m hbar W k', real = True)\n",
    "ph = (x**k)*(l-x)**k\n",
    "Hph = -(hbar**2/(2*m)) * sy.diff(ph, x, 2)\n",
    "pHp = ph*Hph"
   ]
  },
  {
   "cell_type": "code",
   "execution_count": 13,
   "metadata": {
    "collapsed": false
   },
   "outputs": [
    {
     "data": {
      "text/latex": [
       "$$\\frac{\\hbar^{2} k}{2 m} x^{2 k - 2} \\left(l - x\\right)^{2 k - 2} \\left(2 k x \\left(l - x\\right) + x^{2} \\left(- k + 1\\right) + \\left(- k + 1\\right) \\left(l - x\\right)^{2}\\right)$$"
      ],
      "text/plain": [
       "  2    2⋅k - 2        2⋅k - 2 ⎛                 2                            2\n",
       "h̅ ⋅k⋅x       ⋅(l - x)       ⋅⎝2⋅k⋅x⋅(l - x) + x ⋅(-k + 1) + (-k + 1)⋅(l - x) \n",
       "──────────────────────────────────────────────────────────────────────────────\n",
       "                                      2⋅m                                     \n",
       "\n",
       "⎞\n",
       "⎠\n",
       "─\n",
       " "
      ]
     },
     "execution_count": 13,
     "metadata": {},
     "output_type": "execute_result"
    }
   ],
   "source": [
    "Inn = sy.simplify(pHp); Inn"
   ]
  },
  {
   "cell_type": "code",
   "execution_count": 14,
   "metadata": {
    "collapsed": false
   },
   "outputs": [
    {
     "data": {
      "text/latex": [
       "$$x^{2 k - 1}$$"
      ],
      "text/plain": [
       " 2⋅k - 1\n",
       "x       "
      ]
     },
     "execution_count": 14,
     "metadata": {},
     "output_type": "execute_result"
    }
   ],
   "source": [
    "sy.simplify(x**(2*k-2) * x)"
   ]
  },
  {
   "cell_type": "code",
   "execution_count": 15,
   "metadata": {
    "collapsed": false
   },
   "outputs": [
    {
     "data": {
      "text/latex": [
       "$$\\frac{\\hbar^{2} \\left(8 k^{2} - 8 k - 1\\right)}{l^{2} m \\left(4 k^{2} - 4 k + 1\\right)}$$"
      ],
      "text/plain": [
       "   2 ⎛   2          ⎞\n",
       " h̅ ⋅⎝8⋅k  - 8⋅k - 1⎠\n",
       "─────────────────────\n",
       " 2   ⎛   2          ⎞\n",
       "l ⋅m⋅⎝4⋅k  - 4⋅k + 1⎠"
      ]
     },
     "execution_count": 15,
     "metadata": {},
     "output_type": "execute_result"
    }
   ],
   "source": [
    "WW = (hbar**2/(m * l ** 2)) * ((4 * k**2+k) / (2 * k - 1))\n",
    "sy.simplify(sy.diff(WW, k, 1))"
   ]
  },
  {
   "cell_type": "code",
   "execution_count": 16,
   "metadata": {
    "collapsed": false
   },
   "outputs": [
    {
     "data": {
      "text/latex": [
       "$$\\frac{1}{m \\left(a^{2} + x^{2}\\right)^{4}} \\left(- \\hbar^{2} \\left(- a^{2} + 3 x^{2}\\right) + 0.5 m^{2} w^{2} x^{2} \\left(a^{2} + x^{2}\\right)^{2}\\right)$$"
      ],
      "text/plain": [
       "                                            2\n",
       "    2 ⎛   2      2⎞        2  2  2 ⎛ 2    2⎞ \n",
       "- h̅ ⋅⎝- a  + 3⋅x ⎠ + 0.5⋅m ⋅w ⋅x ⋅⎝a  + x ⎠ \n",
       "─────────────────────────────────────────────\n",
       "                            4                \n",
       "                   ⎛ 2    2⎞                 \n",
       "                 m⋅⎝a  + x ⎠                 "
      ]
     },
     "execution_count": 16,
     "metadata": {},
     "output_type": "execute_result"
    }
   ],
   "source": [
    "#8.11 Ver hojas para el procedimiento\n",
    "sy.var('x m hbar a w pi', real = True)\n",
    "ph = 1 / (a**2 + x**2)\n",
    "Hph = -(hbar**2/(2*m)) * sy.diff(ph, x, 2) + (1 / 2)  * (m * w ** 2 * x ** 2) * ph\n",
    "phHph = ph * Hph\n",
    "Inn = sy.simplify(phHph); Inn"
   ]
  },
  {
   "cell_type": "code",
   "execution_count": 17,
   "metadata": {
    "collapsed": false
   },
   "outputs": [
    {
     "data": {
      "text/latex": [
       "$$2 a^{2} m w^{2} + \\frac{\\hbar^{2}}{2 a^{2} m}$$"
      ],
      "text/plain": [
       "               2  \n",
       "   2    2    h̅   \n",
       "2⋅a ⋅m⋅w  + ──────\n",
       "               2  \n",
       "            2⋅a ⋅m"
      ]
     },
     "execution_count": 17,
     "metadata": {},
     "output_type": "execute_result"
    }
   ],
   "source": [
    "W = 2*((hbar**2/m *(2 * pi / (32 * a **5))) + m * w ** 2 * (pi / (4 *a))) / (pi / (4 *a **3)); sy.simplify(W)"
   ]
  },
  {
   "cell_type": "code",
   "execution_count": 18,
   "metadata": {
    "collapsed": false
   },
   "outputs": [],
   "source": [
    "dW = sy.simplify(sy.diff(W, a, 1))\n",
    "aa = sy.sqrt(hbar / (2 * m * w))"
   ]
  },
  {
   "cell_type": "code",
   "execution_count": 19,
   "metadata": {
    "collapsed": false
   },
   "outputs": [
    {
     "data": {
      "text/latex": [
       "$$4 a m w^{2} - \\frac{\\hbar^{2}}{a^{3} m}$$"
      ],
      "text/plain": [
       "             2 \n",
       "       2   h̅  \n",
       "4⋅a⋅m⋅w  - ────\n",
       "            3  \n",
       "           a ⋅m"
      ]
     },
     "execution_count": 19,
     "metadata": {},
     "output_type": "execute_result"
    }
   ],
   "source": [
    "dW"
   ]
  },
  {
   "cell_type": "code",
   "execution_count": 20,
   "metadata": {
    "collapsed": false
   },
   "outputs": [
    {
     "data": {
      "text/latex": [
       "$$\\hbar w$$"
      ],
      "text/plain": [
       "h̅⋅w"
      ]
     },
     "execution_count": 20,
     "metadata": {},
     "output_type": "execute_result"
    }
   ],
   "source": [
    "a = aa\n",
    "W = ((hbar**2/m *(2 * pi / (32 * a **5))) + m * w ** 2 * (pi / (4 *a))) / (pi / (4 *a **3)); sy.simplify(W)"
   ]
  },
  {
   "cell_type": "code",
   "execution_count": 21,
   "metadata": {
    "collapsed": false
   },
   "outputs": [],
   "source": [
    "#8.14 Ver hojas extra\n",
    "sy.var('r m hbar c a0 pi q E0', real = True)\n",
    "phi = sy.exp( - c * r **2 / a0**2);\n",
    "Hphi = sy.diff(phi, r, 2) + (2 / r)*sy.diff(phi, r, 1)\n",
    "I = phi * Hphi * r **2"
   ]
  },
  {
   "cell_type": "code",
   "execution_count": 22,
   "metadata": {
    "collapsed": false
   },
   "outputs": [
    {
     "data": {
      "text/latex": [
       "$$\\frac{2 c}{a_{0}^{4}} r^{2} \\left(- 3 a_{0}^{2} + 2 c r^{2}\\right) e^{- \\frac{2 c}{a_{0}^{2}} r^{2}}$$"
      ],
      "text/plain": [
       "                                 2 \n",
       "                           -2⋅c⋅r  \n",
       "                           ────────\n",
       "                               2   \n",
       "     2 ⎛      2        2⎞    a₀    \n",
       "2⋅c⋅r ⋅⎝- 3⋅a₀  + 2⋅c⋅r ⎠⋅ℯ        \n",
       "───────────────────────────────────\n",
       "                  4                \n",
       "                a₀                 "
      ]
     },
     "execution_count": 22,
     "metadata": {},
     "output_type": "execute_result"
    }
   ],
   "source": [
    "sy.simplify(I)"
   ]
  },
  {
   "cell_type": "code",
   "execution_count": 23,
   "metadata": {
    "collapsed": false
   },
   "outputs": [],
   "source": [
    "#8.14 Ver hojas extra\n",
    "sy.var('r m hbar c a0 pi q E0 Q', real = True)\n",
    "Y = (1/4) * sy.sqrt(5/sy.pi) * (3 * sy.cos(Q) ** 2 -1)\n",
    "phi = sy.exp( - c * r **2 / a0**2) * Y;\n",
    "pQ = (1 / (r ** 2 * sy.sin(Q))) * ((sy.cos(Q) * sy.diff(phi, Q, 1)) + sy.sin(Q) * sy.diff(phi,Q, 2))\n",
    "Hphi = sy.diff(phi, r, 2) + (2 / r)*sy.diff(phi, r, 1) + pQ\n",
    "I = phi * Hphi * r ** 2 * sy.sin(Q)"
   ]
  },
  {
   "cell_type": "code",
   "execution_count": 24,
   "metadata": {
    "collapsed": false
   },
   "outputs": [],
   "source": [
    "In = sy.simplify(I)"
   ]
  },
  {
   "cell_type": "code",
   "execution_count": 25,
   "metadata": {
    "collapsed": false
   },
   "outputs": [
    {
     "data": {
      "text/latex": [
       "$$- \\frac{1.25}{\\pi a_{0}^{4}} \\left(3 \\cos^{2}{\\left (Q \\right )} - 1\\right) \\left(- a_{0}^{4} \\left(4.5 \\sin^{2}{\\left (Q \\right )} - 3.0\\right) + 1.0 a_{0}^{2} c r^{2} \\left(3 \\cos^{2}{\\left (Q \\right )} - 1\\right) + c r^{2} \\left(0.5 a_{0}^{2} - 1.0 c r^{2}\\right) \\left(3 \\cos^{2}{\\left (Q \\right )} - 1\\right)\\right) e^{- \\frac{2 c}{a_{0}^{2}} r^{2}} \\sin{\\left (Q \\right )}$$"
      ],
      "text/plain": [
       "                                                                              \n",
       "                                                                              \n",
       "                                                                              \n",
       "                                                                              \n",
       "      ⎛     2       ⎞ ⎛    4 ⎛       2         ⎞         2    2 ⎛     2       \n",
       "-1.25⋅⎝3⋅cos (Q) - 1⎠⋅⎝- a₀ ⋅⎝4.5⋅sin (Q) - 3.0⎠ + 1.0⋅a₀ ⋅c⋅r ⋅⎝3⋅cos (Q) - 1\n",
       "──────────────────────────────────────────────────────────────────────────────\n",
       "                                                                        4     \n",
       "                                                                    π⋅a₀      \n",
       "\n",
       "                                                      2         \n",
       "                                                -2⋅c⋅r          \n",
       "                                                ────────        \n",
       "                                                    2           \n",
       "⎞      2 ⎛      2          2⎞ ⎛     2       ⎞⎞    a₀            \n",
       "⎠ + c⋅r ⋅⎝0.5⋅a₀  - 1.0⋅c⋅r ⎠⋅⎝3⋅cos (Q) - 1⎠⎠⋅ℯ        ⋅sin(Q) \n",
       "────────────────────────────────────────────────────────────────\n",
       "                                                                \n",
       "                                                                "
      ]
     },
     "execution_count": 25,
     "metadata": {},
     "output_type": "execute_result"
    }
   ],
   "source": [
    "In"
   ]
  },
  {
   "cell_type": "code",
   "execution_count": 29,
   "metadata": {
    "collapsed": false
   },
   "outputs": [],
   "source": [
    "#8.26\n",
    "sy.var('r m hbar V0 W', real = True)\n",
    "IH = sy.Matrix([[5.753112*V0, -0.31821*V0],[-0.31821*V0, 44.807117*V0]])    #Hjk\n",
    "IS = sy.Matrix(sy.eye(n))  #Sjk\n",
    "D = sy.det(IH-IS*W) #Determinante\n",
    "Wi = sy.solvers.solve(D, W)  #Obtención de raices de W.\n",
    "W1 = Wi[0]\n",
    "M = IH-IS*W1\n",
    "n= 2\n",
    "C = sy.zeros(n,n) #Matriz de coeficientes\n",
    "for i in range (1,n+1):\n",
    "    for j in range (1,n+1):\n",
    "        C[i-1,j-1]=sy.sympify((str('c_' +str(i) + '_' + str(j))))"
   ]
  },
  {
   "cell_type": "code",
   "execution_count": 53,
   "metadata": {
    "collapsed": false
   },
   "outputs": [
    {
     "data": {
      "text/latex": [
       "$$\\left [ - 0.00814740708779199 c_{2 2}\\right ]$$"
      ],
      "text/plain": [
       "[-0.00814740708779199⋅c₂ ₂]"
      ]
     },
     "execution_count": 53,
     "metadata": {},
     "output_type": "execute_result"
    }
   ],
   "source": [
    "Wii = Wi[1]\n",
    "M = IH-IS*Wii\n",
    "Ec = (M)*C[:, 1]\n",
    "sy.solvers.solve(Ec[1], C[0, 1])"
   ]
  },
  {
   "cell_type": "code",
   "execution_count": 23,
   "metadata": {
    "collapsed": true
   },
   "outputs": [],
   "source": [
    "#8.27\n",
    "import numpy as np\n",
    "x, l, m, h, W, K = sy.var('x l m hbar W K', real = True)\n",
    "n = 2"
   ]
  },
  {
   "cell_type": "code",
   "execution_count": 24,
   "metadata": {
    "collapsed": false
   },
   "outputs": [],
   "source": [
    "f = sy.Matrix([x**2 * (l-x), x * (l-x)**2]) \n",
    "Hf = -(hbar**2/(2*m)) * sy.diff(f, x, 2)\n",
    "ff = f*f.T   #fjfk\n",
    "In = f*(Hf.T)   #fjHfk\n",
    "IH = sy.integrate(In, (x, 0, l))     #Hjk\n",
    "IS = sy.integrate(ff, (x, 0, l))  #Sjk\n",
    "D = sy.det(IH-IS*W) #Determinante\n",
    "Wi = sy.solvers.solve(D, W)  #Obtención de raices de W.\n",
    "W1 = Wi[0]\n",
    "M = IH-IS*W1"
   ]
  },
  {
   "cell_type": "code",
   "execution_count": 25,
   "metadata": {
    "collapsed": false
   },
   "outputs": [
    {
     "data": {
      "text/latex": [
       "$$\\left [ \\frac{5 \\hbar^{2}}{l^{2} m}, \\quad \\frac{21 \\hbar^{2}}{l^{2} m}\\right ]$$"
      ],
      "text/plain": [
       "⎡    2       2⎤\n",
       "⎢5⋅h̅   21⋅h̅ ⎥\n",
       "⎢─────, ──────⎥\n",
       "⎢  2      2   ⎥\n",
       "⎣ l ⋅m   l ⋅m ⎦"
      ]
     },
     "execution_count": 25,
     "metadata": {},
     "output_type": "execute_result"
    }
   ],
   "source": [
    "Wi"
   ]
  },
  {
   "cell_type": "code",
   "execution_count": 26,
   "metadata": {
    "collapsed": true
   },
   "outputs": [],
   "source": [
    "C = sy.zeros(n,n) #Matriz de coeficientes\n",
    "for i in range (1,n+1):\n",
    "    for j in range (1,n+1):\n",
    "        C[i-1,j-1]=sy.sympify((str('c_' +str(i) + '_' + str(j))))\n",
    "MC = [ObC(i) for i in range(n)]"
   ]
  },
  {
   "cell_type": "code",
   "execution_count": 27,
   "metadata": {
    "collapsed": false
   },
   "outputs": [
    {
     "data": {
      "text/latex": [
       "$$\\left [ 5.47722557505166 x^{2} \\left(l - x\\right) \\left(\\frac{1}{l^{7}}\\right)^{0.5} + 5.47722557505166 x \\left(l - x\\right)^{2} \\left(\\frac{1}{l^{7}}\\right)^{0.5}, \\quad - 14.4913767461894 x^{2} \\left(l - x\\right) \\left(\\frac{1}{l^{7}}\\right)^{0.5} + 14.4913767461894 x \\left(l - x\\right)^{2} \\left(\\frac{1}{l^{7}}\\right)^{0.5}\\right ]$$"
      ],
      "text/plain": [
       "⎡                                0.5                                   0.5    \n",
       "⎢                  2         ⎛1 ⎞                                2 ⎛1 ⎞       \n",
       "⎢5.47722557505166⋅x ⋅(l - x)⋅⎜──⎟    + 5.47722557505166⋅x⋅(l - x) ⋅⎜──⎟   , - \n",
       "⎢                            ⎜ 7⎟                                  ⎜ 7⎟       \n",
       "⎣                            ⎝l ⎠                                  ⎝l ⎠       \n",
       "\n",
       "                                0.5                                   0.5⎤\n",
       "                  2         ⎛1 ⎞                                2 ⎛1 ⎞   ⎥\n",
       "14.4913767461894⋅x ⋅(l - x)⋅⎜──⎟    + 14.4913767461894⋅x⋅(l - x) ⋅⎜──⎟   ⎥\n",
       "                            ⎜ 7⎟                                  ⎜ 7⎟   ⎥\n",
       "                            ⎝l ⎠                                  ⎝l ⎠   ⎦"
      ]
     },
     "execution_count": 27,
     "metadata": {},
     "output_type": "execute_result"
    }
   ],
   "source": [
    "MCM = C\n",
    "CC = sy.Matrix(np.zeros(n).tolist())\n",
    "for i in range(n):\n",
    "    for j in range(n):\n",
    "        if C[j, i] in MC[i]:\n",
    "            MCM[j, i] = MC[i][C[j, i]]\n",
    "        elif C[j, i] not in MC[i]:\n",
    "            CC[i] = C[j, i]\n",
    "MCM = MCM.T\n",
    "Sum = MCM*f\n",
    "Norm = [sy.integrate(Sum[i]**2, (x,0,l)) for i in range(n)]\n",
    "Sol = [sy.solve(Norm[i]-1, CC[i])[1] for i in range(n)]\n",
    "#sy.N(sy.Matrix(Sol))\n",
    "Phis = [Sum[i].subs(CC[i], Sol[i]).evalf() for i in range(n)]\n",
    "Phis"
   ]
  },
  {
   "cell_type": "code",
   "execution_count": 28,
   "metadata": {
    "collapsed": false
   },
   "outputs": [
    {
     "data": {
      "image/png": "[encoded data removed]",
      "text/plain": [
       "<matplotlib.figure.Figure at 0x13d77966278>"
      ]
     },
     "metadata": {},
     "output_type": "display_data"
    }
   ],
   "source": [
    "import matplotlib.pyplot as plt\n",
    "%matplotlib inline\n",
    "p = (sy.Matrix(Phis)).subs([(l, 1)])\n",
    "lam_x = sy.lambdify(x, p, modules=['numpy'])\n",
    "xx = np.linspace(0, 1, 100)\n",
    "y = lam_x(xx)\n",
    "f1, f2 = xx**2 * (1-xx), xx * (1-xx)**2\n",
    "plt.plot(xx, y[0][0], label = 'phi1')\n",
    "plt.plot(xx, y[1][0], label = 'phi2')\n",
    "plt.plot(xx, f1, label = 'f1')\n",
    "plt.plot(xx, f2, label = 'f2')\n",
    "plt.legend(loc='best', shadow=True)\n",
    "plt.grid()\n",
    "plt.show()"
   ]
  },
  {
   "cell_type": "code",
   "execution_count": null,
   "metadata": {
    "collapsed": true
   },
   "outputs": [],
   "source": []
  }
 ],
 "metadata": {
  "kernelspec": {
   "display_name": "Python 3",
   "language": "python",
   "name": "python3"
  },
  "language_info": {
   "codemirror_mode": {
    "name": "ipython",
    "version": 3
   },
   "file_extension": ".py",
   "mimetype": "text/x-python",
   "name": "python",
   "nbconvert_exporter": "python",
   "pygments_lexer": "ipython3",
   "version": "3.5.1"
  }
 },
 "nbformat": 4,
 "nbformat_minor": 0
}
