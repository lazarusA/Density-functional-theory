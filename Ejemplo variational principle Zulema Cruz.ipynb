{
 "cells": [
  {
   "cell_type": "code",
   "execution_count": 1,
   "metadata": {
    "collapsed": true
   },
   "outputs": [],
   "source": [
    "### Usar este ejemplo como base, para resolver el problema completo."
   ]
  },
  {
   "cell_type": "code",
   "execution_count": 5,
   "metadata": {
    "collapsed": true
   },
   "outputs": [],
   "source": [
    "from sympy import *\n",
    "from sympy import init_printing; init_printing(use_latex = 'mathjax')"
   ]
  },
  {
   "cell_type": "code",
   "execution_count": 6,
   "metadata": {
    "collapsed": true
   },
   "outputs": [],
   "source": [
    "#var('x l m hbar W c')"
   ]
  },
  {
   "cell_type": "code",
   "execution_count": 7,
   "metadata": {
    "collapsed": true
   },
   "outputs": [],
   "source": [
    "x, l, m, hbar, W, c = symbols('x l m hbar W c')"
   ]
  },
  {
   "cell_type": "code",
   "execution_count": 8,
   "metadata": {
    "collapsed": true
   },
   "outputs": [],
   "source": [
    "f_1 = x*(l - x)\n",
    "f_2 = (x**2)*((l - x)**2)\n",
    "f_3 = x*(l - x)*((l/2)-x)\n",
    "f_4 = (x**2)*((l - x)**2)*((l/2)-x)"
   ]
  },
  {
   "cell_type": "code",
   "execution_count": 9,
   "metadata": {
    "collapsed": true
   },
   "outputs": [],
   "source": [
    "FUNC = [f_1,f_2,f_3,f_4]\n"
   ]
  },
  {
   "cell_type": "code",
   "execution_count": 10,
   "metadata": {
    "collapsed": true
   },
   "outputs": [],
   "source": [
    "n=4\n",
    "c=[]\n",
    "for i in range (n):\n",
    "    c.append(Symbol('c_%d' %(i+1)))"
   ]
  },
  {
   "cell_type": "code",
   "execution_count": 11,
   "metadata": {},
   "outputs": [
    {
     "data": {
      "text/latex": [
       "$$\\left[\\begin{matrix}c_{1}\\\\c_{2}\\\\c_{3}\\\\c_{4}\\end{matrix}\\right]$$"
      ],
      "text/plain": [
       "⎡c₁⎤\n",
       "⎢  ⎥\n",
       "⎢c₂⎥\n",
       "⎢  ⎥\n",
       "⎢c₃⎥\n",
       "⎢  ⎥\n",
       "⎣c₄⎦"
      ]
     },
     "execution_count": 11,
     "metadata": {},
     "output_type": "execute_result"
    }
   ],
   "source": [
    "c = Matrix([var('c1')])\n",
    "c = c.row_insert(1, Matrix([var('c2')]))\n",
    "c = c.row_insert(2, Matrix([var('c3')]))\n",
    "c = c.row_insert(3, Matrix([var('c4')]))\n",
    "c"
   ]
  },
  {
   "cell_type": "code",
   "execution_count": 12,
   "metadata": {
    "collapsed": true
   },
   "outputs": [],
   "source": [
    "n = 4\n",
    "U = ones(n,n)\n",
    "H = zeros(n,n)\n",
    "s = zeros(n,n)\n",
    "for i in range(n):\n",
    "    for j in range(n):\n",
    "        integrando = (-hbar**2/(2*m))* FUNC[i] *diff(FUNC[j], x, 2)    \n",
    "        H[i,j]= integrate(integrando, (x, 0, l))\n",
    "        s[i,j] = integrate(FUNC[i]*FUNC[j], (x,0,l))\n",
    "\n",
    "mult = H - s*W"
   ]
  },
  {
   "cell_type": "code",
   "execution_count": 13,
   "metadata": {},
   "outputs": [
    {
     "data": {
      "text/latex": [
       "$$\\left[\\begin{matrix}- \\frac{W l^{5}}{30} + \\frac{\\hbar^{2} l^{3}}{6 m} & - \\frac{W l^{7}}{140} + \\frac{\\hbar^{2} l^{5}}{30 m} & 0 & 0\\\\- \\frac{W l^{7}}{140} + \\frac{\\hbar^{2} l^{5}}{30 m} & - \\frac{W l^{9}}{630} + \\frac{\\hbar^{2} l^{7}}{105 m} & 0 & 0\\\\0 & 0 & - \\frac{W l^{7}}{840} + \\frac{\\hbar^{2} l^{5}}{40 m} & - \\frac{W l^{9}}{5040} + \\frac{\\hbar^{2} l^{7}}{280 m}\\\\0 & 0 & - \\frac{W l^{9}}{5040} + \\frac{\\hbar^{2} l^{7}}{280 m} & - \\frac{W l^{11}}{27720} + \\frac{\\hbar^{2} l^{9}}{1260 m}\\end{matrix}\\right]$$"
      ],
      "text/plain": [
       "⎡     5     2  3       7     2  5                                   ⎤\n",
       "⎢  W⋅l    h̅ ⋅l     W⋅l    h̅ ⋅l                                    ⎥\n",
       "⎢- ──── + ──────  - ──── + ──────         0                0        ⎥\n",
       "⎢   30     6⋅m      140     30⋅m                                    ⎥\n",
       "⎢                                                                   ⎥\n",
       "⎢     7     2  5       9     2  7                                   ⎥\n",
       "⎢  W⋅l    h̅ ⋅l     W⋅l    h̅ ⋅l                                    ⎥\n",
       "⎢- ──── + ──────  - ──── + ──────         0                0        ⎥\n",
       "⎢  140     30⋅m     630    105⋅m                                    ⎥\n",
       "⎢                                                                   ⎥\n",
       "⎢                                       7     2  5       9     2  7 ⎥\n",
       "⎢                                    W⋅l    h̅ ⋅l     W⋅l    h̅ ⋅l  ⎥\n",
       "⎢       0                0         - ──── + ──────  - ──── + ────── ⎥\n",
       "⎢                                    840     40⋅m     5040   280⋅m  ⎥\n",
       "⎢                                                                   ⎥\n",
       "⎢                                       9     2  7       11     2  9⎥\n",
       "⎢                                    W⋅l    h̅ ⋅l     W⋅l     h̅ ⋅l ⎥\n",
       "⎢       0                0         - ──── + ──────  - ───── + ──────⎥\n",
       "⎣                                    5040   280⋅m     27720   1260⋅m⎦"
      ]
     },
     "execution_count": 13,
     "metadata": {},
     "output_type": "execute_result"
    }
   ],
   "source": [
    "mult"
   ]
  },
  {
   "cell_type": "code",
   "execution_count": 14,
   "metadata": {
    "collapsed": true
   },
   "outputs": [],
   "source": [
    "determinante = mult.det()"
   ]
  },
  {
   "cell_type": "code",
   "execution_count": 15,
   "metadata": {},
   "outputs": [
    {
     "data": {
      "text/latex": [
       "$$\\frac{W^{4} l^{32}}{147867793920000} - \\frac{W^{3} \\hbar^{2} l^{30}}{840157920000 m} + \\frac{373 W^{2} \\hbar^{4} l^{28}}{6161158080000 m^{2}} - \\frac{W \\hbar^{6} l^{26}}{1047816000 m^{3}} + \\frac{\\hbar^{8} l^{24}}{296352000 m^{4}}$$"
      ],
      "text/plain": [
       "      4  32          3   2  30           2   4  28          6  26         8  2\n",
       "     W ⋅l           W ⋅h̅ ⋅l        373⋅W ⋅h̅ ⋅l        W⋅h̅ ⋅l         h̅ ⋅l \n",
       "─────────────── - ────────────── + ──────────────── - ───────────── + ────────\n",
       "147867793920000   840157920000⋅m                  2               3           \n",
       "                                   6161158080000⋅m    1047816000⋅m    29635200\n",
       "\n",
       "4   \n",
       "    \n",
       "────\n",
       "   4\n",
       "0⋅m "
      ]
     },
     "execution_count": 15,
     "metadata": {},
     "output_type": "execute_result"
    }
   ],
   "source": [
    "determinante"
   ]
  },
  {
   "cell_type": "code",
   "execution_count": 16,
   "metadata": {
    "collapsed": true
   },
   "outputs": [],
   "source": [
    "e = solve(determinante,W)"
   ]
  },
  {
   "cell_type": "code",
   "execution_count": 17,
   "metadata": {
    "scrolled": false
   },
   "outputs": [
    {
     "data": {
      "text/latex": [
       "$$\\left[\\begin{matrix}\\frac{2 \\hbar^{2}}{l^{2} m} \\left(- \\sqrt{133} + 14\\right) & \\frac{2 \\hbar^{2}}{l^{2} m} \\left(\\sqrt{133} + 14\\right) & \\frac{2 \\hbar^{2}}{l^{2} m} \\left(- 9 \\sqrt{5} + 30\\right) & \\frac{2 \\hbar^{2}}{l^{2} m} \\left(9 \\sqrt{5} + 30\\right)\\end{matrix}\\right]$$"
      ],
      "text/plain": [
       "⎡    2                   2                  2                   2            ⎤\n",
       "⎢2⋅h̅ ⋅(-√133 + 14)  2⋅h̅ ⋅(√133 + 14)  2⋅h̅ ⋅(-9⋅√5 + 30)  2⋅h̅ ⋅(9⋅√5 + 30)⎥\n",
       "⎢──────────────────  ─────────────────  ──────────────────  ─────────────────⎥\n",
       "⎢        2                   2                  2                   2        ⎥\n",
       "⎣       l ⋅m                l ⋅m               l ⋅m                l ⋅m      ⎦"
      ]
     },
     "execution_count": 17,
     "metadata": {},
     "output_type": "execute_result"
    }
   ],
   "source": [
    "e = Matrix([e])\n",
    "e"
   ]
  },
  {
   "cell_type": "code",
   "execution_count": 18,
   "metadata": {},
   "outputs": [
    {
     "data": {
      "text/latex": [
       "$$\\left[\\begin{matrix}- 2 \\sqrt{133} + 28 & 2 \\sqrt{133} + 28 & - 18 \\sqrt{5} + 60 & 18 \\sqrt{5} + 60\\end{matrix}\\right]$$"
      ],
      "text/plain": [
       "[-2⋅√133 + 28  2⋅√133 + 28  -18⋅√5 + 60  18⋅√5 + 60]"
      ]
     },
     "execution_count": 18,
     "metadata": {},
     "output_type": "execute_result"
    }
   ],
   "source": [
    "e = e*((l**2*m)/(hbar**2))\n",
    "e"
   ]
  },
  {
   "cell_type": "code",
   "execution_count": 19,
   "metadata": {},
   "outputs": [
    {
     "data": {
      "text/latex": [
       "$$\\left[\\begin{matrix}- 2 \\sqrt{133} + 28 & - 18 \\sqrt{5} + 60 & 2 \\sqrt{133} + 28 & 18 \\sqrt{5} + 60\\end{matrix}\\right]$$"
      ],
      "text/plain": [
       "[-2⋅√133 + 28  -18⋅√5 + 60  2⋅√133 + 28  18⋅√5 + 60]"
      ]
     },
     "execution_count": 19,
     "metadata": {},
     "output_type": "execute_result"
    }
   ],
   "source": [
    "#sorted(e_lista)\n",
    "e = Matrix([sorted(e)])\n",
    "e"
   ]
  },
  {
   "cell_type": "code",
   "execution_count": 20,
   "metadata": {},
   "outputs": [
    {
     "data": {
      "text/latex": [
       "$$\\left[\\begin{matrix}\\frac{\\hbar^{2}}{l^{2} m} \\left(- 2 \\sqrt{133} + 28\\right) & \\frac{\\hbar^{2}}{l^{2} m} \\left(- 18 \\sqrt{5} + 60\\right) & \\frac{\\hbar^{2}}{l^{2} m} \\left(2 \\sqrt{133} + 28\\right) & \\frac{\\hbar^{2}}{l^{2} m} \\left(18 \\sqrt{5} + 60\\right)\\end{matrix}\\right]$$"
      ],
      "text/plain": [
       "⎡  2                   2                  2                  2             ⎤\n",
       "⎢h̅ ⋅(-2⋅√133 + 28)  h̅ ⋅(-18⋅√5 + 60)  h̅ ⋅(2⋅√133 + 28)  h̅ ⋅(18⋅√5 + 60)⎥\n",
       "⎢──────────────────  ─────────────────  ─────────────────  ────────────────⎥\n",
       "⎢        2                   2                  2                 2        ⎥\n",
       "⎣       l ⋅m                l ⋅m               l ⋅m              l ⋅m      ⎦"
      ]
     },
     "execution_count": 20,
     "metadata": {},
     "output_type": "execute_result"
    }
   ],
   "source": [
    "e = e*(hbar**2)/(l**2*m)\n",
    "e"
   ]
  },
  {
   "cell_type": "code",
   "execution_count": 21,
   "metadata": {},
   "outputs": [
    {
     "data": {
      "text/latex": [
       "$$\\left[\\begin{matrix}- \\frac{\\hbar^{2} l^{3}}{30 m} \\left(- 2 \\sqrt{133} + 28\\right) + \\frac{\\hbar^{2} l^{3}}{6 m} & - \\frac{\\hbar^{2} l^{5}}{140 m} \\left(- 2 \\sqrt{133} + 28\\right) + \\frac{\\hbar^{2} l^{5}}{30 m} & 0 & 0\\\\- \\frac{\\hbar^{2} l^{5}}{140 m} \\left(- 2 \\sqrt{133} + 28\\right) + \\frac{\\hbar^{2} l^{5}}{30 m} & - \\frac{\\hbar^{2} l^{7}}{630 m} \\left(- 2 \\sqrt{133} + 28\\right) + \\frac{\\hbar^{2} l^{7}}{105 m} & 0 & 0\\\\0 & 0 & - \\frac{\\hbar^{2} l^{5}}{840 m} \\left(- 2 \\sqrt{133} + 28\\right) + \\frac{\\hbar^{2} l^{5}}{40 m} & - \\frac{\\hbar^{2} l^{7}}{5040 m} \\left(- 2 \\sqrt{133} + 28\\right) + \\frac{\\hbar^{2} l^{7}}{280 m}\\\\0 & 0 & - \\frac{\\hbar^{2} l^{7}}{5040 m} \\left(- 2 \\sqrt{133} + 28\\right) + \\frac{\\hbar^{2} l^{7}}{280 m} & - \\frac{\\hbar^{2} l^{9}}{27720 m} \\left(- 2 \\sqrt{133} + 28\\right) + \\frac{\\hbar^{2} l^{9}}{1260 m}\\end{matrix}\\right]$$"
      ],
      "text/plain": [
       "⎡    2  3                    2  3      2  5                    2  5           \n",
       "⎢  h̅ ⋅l ⋅(-2⋅√133 + 28)   h̅ ⋅l     h̅ ⋅l ⋅(-2⋅√133 + 28)   h̅ ⋅l            \n",
       "⎢- ───────────────────── + ──────  - ───────────────────── + ──────           \n",
       "⎢           30⋅m            6⋅m              140⋅m            30⋅m            \n",
       "⎢                                                                             \n",
       "⎢    2  5                    2  5      2  7                    2  7           \n",
       "⎢  h̅ ⋅l ⋅(-2⋅√133 + 28)   h̅ ⋅l     h̅ ⋅l ⋅(-2⋅√133 + 28)   h̅ ⋅l            \n",
       "⎢- ───────────────────── + ──────  - ───────────────────── + ──────           \n",
       "⎢          140⋅m            30⋅m             630⋅m           105⋅m            \n",
       "⎢                                                                             \n",
       "⎢                                                                        2  5 \n",
       "⎢                                                                      h̅ ⋅l ⋅\n",
       "⎢               0                                 0                  - ───────\n",
       "⎢                                                                             \n",
       "⎢                                                                             \n",
       "⎢                                                                        2  7 \n",
       "⎢                                                                      h̅ ⋅l ⋅\n",
       "⎢               0                                 0                  - ───────\n",
       "⎣                                                                             \n",
       "\n",
       "                                                         ⎤\n",
       "                                                         ⎥\n",
       "      0                                 0                ⎥\n",
       "                                                         ⎥\n",
       "                                                         ⎥\n",
       "                                                         ⎥\n",
       "                                                         ⎥\n",
       "      0                                 0                ⎥\n",
       "                                                         ⎥\n",
       "                                                         ⎥\n",
       "                   2  5      2  7                    2  7⎥\n",
       "(-2⋅√133 + 28)   h̅ ⋅l     h̅ ⋅l ⋅(-2⋅√133 + 28)   h̅ ⋅l ⎥\n",
       "────────────── + ──────  - ───────────────────── + ──────⎥\n",
       " 840⋅m            40⋅m             5040⋅m          280⋅m ⎥\n",
       "                                                         ⎥\n",
       "                   2  7      2  9                    2  9⎥\n",
       "(-2⋅√133 + 28)   h̅ ⋅l     h̅ ⋅l ⋅(-2⋅√133 + 28)   h̅ ⋅l ⎥\n",
       "────────────── + ──────  - ───────────────────── + ──────⎥\n",
       " 5040⋅m          280⋅m            27720⋅m          1260⋅m⎦"
      ]
     },
     "execution_count": 21,
     "metadata": {},
     "output_type": "execute_result"
    }
   ],
   "source": [
    "mult = H - s*e[0]\n",
    "mult"
   ]
  },
  {
   "cell_type": "code",
   "execution_count": 22,
   "metadata": {
    "scrolled": false
   },
   "outputs": [
    {
     "data": {
      "text/latex": [
       "$$\\left[\\begin{matrix}- \\frac{\\hbar^{2} l^{3}}{30 m} \\left(- 2 \\sqrt{133} + 28\\right) + \\frac{\\hbar^{2} l^{3}}{6 m} & - \\frac{\\hbar^{2} l^{5}}{140 m} \\left(- 2 \\sqrt{133} + 28\\right) + \\frac{\\hbar^{2} l^{5}}{30 m} & 0 & 0\\\\- \\frac{\\hbar^{2} l^{5}}{140 m} \\left(- 2 \\sqrt{133} + 28\\right) + \\frac{\\hbar^{2} l^{5}}{30 m} & - \\frac{\\hbar^{2} l^{7}}{630 m} \\left(- 2 \\sqrt{133} + 28\\right) + \\frac{\\hbar^{2} l^{7}}{105 m} & 0 & 0\\\\0 & 0 & - \\frac{\\hbar^{2} l^{5}}{840 m} \\left(- 2 \\sqrt{133} + 28\\right) + \\frac{\\hbar^{2} l^{5}}{40 m} & - \\frac{\\hbar^{2} l^{7}}{5040 m} \\left(- 2 \\sqrt{133} + 28\\right) + \\frac{\\hbar^{2} l^{7}}{280 m}\\\\0 & 0 & - \\frac{\\hbar^{2} l^{7}}{5040 m} \\left(- 2 \\sqrt{133} + 28\\right) + \\frac{\\hbar^{2} l^{7}}{280 m} & - \\frac{\\hbar^{2} l^{9}}{27720 m} \\left(- 2 \\sqrt{133} + 28\\right) + \\frac{\\hbar^{2} l^{9}}{1260 m}\\end{matrix}\\right]$$"
      ],
      "text/plain": [
       "⎡    2  3                    2  3      2  5                    2  5           \n",
       "⎢  h̅ ⋅l ⋅(-2⋅√133 + 28)   h̅ ⋅l     h̅ ⋅l ⋅(-2⋅√133 + 28)   h̅ ⋅l            \n",
       "⎢- ───────────────────── + ──────  - ───────────────────── + ──────           \n",
       "⎢           30⋅m            6⋅m              140⋅m            30⋅m            \n",
       "⎢                                                                             \n",
       "⎢    2  5                    2  5      2  7                    2  7           \n",
       "⎢  h̅ ⋅l ⋅(-2⋅√133 + 28)   h̅ ⋅l     h̅ ⋅l ⋅(-2⋅√133 + 28)   h̅ ⋅l            \n",
       "⎢- ───────────────────── + ──────  - ───────────────────── + ──────           \n",
       "⎢          140⋅m            30⋅m             630⋅m           105⋅m            \n",
       "⎢                                                                             \n",
       "⎢                                                                        2  5 \n",
       "⎢                                                                      h̅ ⋅l ⋅\n",
       "⎢               0                                 0                  - ───────\n",
       "⎢                                                                             \n",
       "⎢                                                                             \n",
       "⎢                                                                        2  7 \n",
       "⎢                                                                      h̅ ⋅l ⋅\n",
       "⎢               0                                 0                  - ───────\n",
       "⎣                                                                             \n",
       "\n",
       "                                                         ⎤\n",
       "                                                         ⎥\n",
       "      0                                 0                ⎥\n",
       "                                                         ⎥\n",
       "                                                         ⎥\n",
       "                                                         ⎥\n",
       "                                                         ⎥\n",
       "      0                                 0                ⎥\n",
       "                                                         ⎥\n",
       "                                                         ⎥\n",
       "                   2  5      2  7                    2  7⎥\n",
       "(-2⋅√133 + 28)   h̅ ⋅l     h̅ ⋅l ⋅(-2⋅√133 + 28)   h̅ ⋅l ⎥\n",
       "────────────── + ──────  - ───────────────────── + ──────⎥\n",
       " 840⋅m            40⋅m             5040⋅m          280⋅m ⎥\n",
       "                                                         ⎥\n",
       "                   2  7      2  9                    2  9⎥\n",
       "(-2⋅√133 + 28)   h̅ ⋅l     h̅ ⋅l ⋅(-2⋅√133 + 28)   h̅ ⋅l ⎥\n",
       "────────────── + ──────  - ───────────────────── + ──────⎥\n",
       " 5040⋅m          280⋅m            27720⋅m          1260⋅m⎦"
      ]
     },
     "execution_count": 22,
     "metadata": {},
     "output_type": "execute_result"
    }
   ],
   "source": [
    "res1 = H - s*e[0]\n",
    "    \n",
    "res1\n"
   ]
  },
  {
   "cell_type": "code",
   "execution_count": 23,
   "metadata": {},
   "outputs": [
    {
     "data": {
      "text/latex": [
       "$$\\left[\\begin{matrix}- \\frac{\\hbar^{2} l^{3}}{30 m} \\left(- 18 \\sqrt{5} + 60\\right) + \\frac{\\hbar^{2} l^{3}}{6 m} & - \\frac{\\hbar^{2} l^{5}}{140 m} \\left(- 18 \\sqrt{5} + 60\\right) + \\frac{\\hbar^{2} l^{5}}{30 m} & 0 & 0\\\\- \\frac{\\hbar^{2} l^{5}}{140 m} \\left(- 18 \\sqrt{5} + 60\\right) + \\frac{\\hbar^{2} l^{5}}{30 m} & - \\frac{\\hbar^{2} l^{7}}{630 m} \\left(- 18 \\sqrt{5} + 60\\right) + \\frac{\\hbar^{2} l^{7}}{105 m} & 0 & 0\\\\0 & 0 & - \\frac{\\hbar^{2} l^{5}}{840 m} \\left(- 18 \\sqrt{5} + 60\\right) + \\frac{\\hbar^{2} l^{5}}{40 m} & - \\frac{\\hbar^{2} l^{7}}{5040 m} \\left(- 18 \\sqrt{5} + 60\\right) + \\frac{\\hbar^{2} l^{7}}{280 m}\\\\0 & 0 & - \\frac{\\hbar^{2} l^{7}}{5040 m} \\left(- 18 \\sqrt{5} + 60\\right) + \\frac{\\hbar^{2} l^{7}}{280 m} & - \\frac{\\hbar^{2} l^{9}}{27720 m} \\left(- 18 \\sqrt{5} + 60\\right) + \\frac{\\hbar^{2} l^{9}}{1260 m}\\end{matrix}\\right]$$"
      ],
      "text/plain": [
       "⎡    2  3                   2  3      2  5                   2  5             \n",
       "⎢  h̅ ⋅l ⋅(-18⋅√5 + 60)   h̅ ⋅l     h̅ ⋅l ⋅(-18⋅√5 + 60)   h̅ ⋅l              \n",
       "⎢- ──────────────────── + ──────  - ──────────────────── + ──────             \n",
       "⎢          30⋅m            6⋅m             140⋅m            30⋅m              \n",
       "⎢                                                                             \n",
       "⎢    2  5                   2  5      2  7                   2  7             \n",
       "⎢  h̅ ⋅l ⋅(-18⋅√5 + 60)   h̅ ⋅l     h̅ ⋅l ⋅(-18⋅√5 + 60)   h̅ ⋅l              \n",
       "⎢- ──────────────────── + ──────  - ──────────────────── + ──────             \n",
       "⎢         140⋅m            30⋅m            630⋅m           105⋅m              \n",
       "⎢                                                                             \n",
       "⎢                                                                      2  5   \n",
       "⎢                                                                    h̅ ⋅l ⋅(-\n",
       "⎢               0                                0                 - ─────────\n",
       "⎢                                                                           84\n",
       "⎢                                                                             \n",
       "⎢                                                                      2  7   \n",
       "⎢                                                                    h̅ ⋅l ⋅(-\n",
       "⎢               0                                0                 - ─────────\n",
       "⎣                                                                           50\n",
       "\n",
       "                                                     ⎤\n",
       "                                                     ⎥\n",
       "    0                                0               ⎥\n",
       "                                                     ⎥\n",
       "                                                     ⎥\n",
       "                                                     ⎥\n",
       "                                                     ⎥\n",
       "    0                                0               ⎥\n",
       "                                                     ⎥\n",
       "                                                     ⎥\n",
       "                2  5      2  7                   2  7⎥\n",
       "18⋅√5 + 60)   h̅ ⋅l     h̅ ⋅l ⋅(-18⋅√5 + 60)   h̅ ⋅l ⎥\n",
       "─────────── + ──────  - ──────────────────── + ──────⎥\n",
       "0⋅m            40⋅m            5040⋅m          280⋅m ⎥\n",
       "                                                     ⎥\n",
       "                2  7      2  9                   2  9⎥\n",
       "18⋅√5 + 60)   h̅ ⋅l     h̅ ⋅l ⋅(-18⋅√5 + 60)   h̅ ⋅l ⎥\n",
       "─────────── + ──────  - ──────────────────── + ──────⎥\n",
       "40⋅m          280⋅m           27720⋅m          1260⋅m⎦"
      ]
     },
     "execution_count": 23,
     "metadata": {},
     "output_type": "execute_result"
    }
   ],
   "source": [
    "res2 = H - s*e[1]\n",
    "    \n",
    "res2"
   ]
  },
  {
   "cell_type": "code",
   "execution_count": 24,
   "metadata": {},
   "outputs": [
    {
     "data": {
      "text/latex": [
       "$$\\left[\\begin{matrix}- \\frac{\\hbar^{2} l^{3}}{30 m} \\left(2 \\sqrt{133} + 28\\right) + \\frac{\\hbar^{2} l^{3}}{6 m} & - \\frac{\\hbar^{2} l^{5}}{140 m} \\left(2 \\sqrt{133} + 28\\right) + \\frac{\\hbar^{2} l^{5}}{30 m} & 0 & 0\\\\- \\frac{\\hbar^{2} l^{5}}{140 m} \\left(2 \\sqrt{133} + 28\\right) + \\frac{\\hbar^{2} l^{5}}{30 m} & - \\frac{\\hbar^{2} l^{7}}{630 m} \\left(2 \\sqrt{133} + 28\\right) + \\frac{\\hbar^{2} l^{7}}{105 m} & 0 & 0\\\\0 & 0 & - \\frac{\\hbar^{2} l^{5}}{840 m} \\left(2 \\sqrt{133} + 28\\right) + \\frac{\\hbar^{2} l^{5}}{40 m} & - \\frac{\\hbar^{2} l^{7}}{5040 m} \\left(2 \\sqrt{133} + 28\\right) + \\frac{\\hbar^{2} l^{7}}{280 m}\\\\0 & 0 & - \\frac{\\hbar^{2} l^{7}}{5040 m} \\left(2 \\sqrt{133} + 28\\right) + \\frac{\\hbar^{2} l^{7}}{280 m} & - \\frac{\\hbar^{2} l^{9}}{27720 m} \\left(2 \\sqrt{133} + 28\\right) + \\frac{\\hbar^{2} l^{9}}{1260 m}\\end{matrix}\\right]$$"
      ],
      "text/plain": [
       "⎡    2  3                   2  3      2  5                   2  5             \n",
       "⎢  h̅ ⋅l ⋅(2⋅√133 + 28)   h̅ ⋅l     h̅ ⋅l ⋅(2⋅√133 + 28)   h̅ ⋅l              \n",
       "⎢- ──────────────────── + ──────  - ──────────────────── + ──────             \n",
       "⎢          30⋅m            6⋅m             140⋅m            30⋅m              \n",
       "⎢                                                                             \n",
       "⎢    2  5                   2  5      2  7                   2  7             \n",
       "⎢  h̅ ⋅l ⋅(2⋅√133 + 28)   h̅ ⋅l     h̅ ⋅l ⋅(2⋅√133 + 28)   h̅ ⋅l              \n",
       "⎢- ──────────────────── + ──────  - ──────────────────── + ──────             \n",
       "⎢         140⋅m            30⋅m            630⋅m           105⋅m              \n",
       "⎢                                                                             \n",
       "⎢                                                                      2  5   \n",
       "⎢                                                                    h̅ ⋅l ⋅(2\n",
       "⎢               0                                0                 - ─────────\n",
       "⎢                                                                           84\n",
       "⎢                                                                             \n",
       "⎢                                                                      2  7   \n",
       "⎢                                                                    h̅ ⋅l ⋅(2\n",
       "⎢               0                                0                 - ─────────\n",
       "⎣                                                                           50\n",
       "\n",
       "                                                     ⎤\n",
       "                                                     ⎥\n",
       "    0                                0               ⎥\n",
       "                                                     ⎥\n",
       "                                                     ⎥\n",
       "                                                     ⎥\n",
       "                                                     ⎥\n",
       "    0                                0               ⎥\n",
       "                                                     ⎥\n",
       "                                                     ⎥\n",
       "                2  5      2  7                   2  7⎥\n",
       "⋅√133 + 28)   h̅ ⋅l     h̅ ⋅l ⋅(2⋅√133 + 28)   h̅ ⋅l ⎥\n",
       "─────────── + ──────  - ──────────────────── + ──────⎥\n",
       "0⋅m            40⋅m            5040⋅m          280⋅m ⎥\n",
       "                                                     ⎥\n",
       "                2  7      2  9                   2  9⎥\n",
       "⋅√133 + 28)   h̅ ⋅l     h̅ ⋅l ⋅(2⋅√133 + 28)   h̅ ⋅l ⎥\n",
       "─────────── + ──────  - ──────────────────── + ──────⎥\n",
       "40⋅m          280⋅m           27720⋅m          1260⋅m⎦"
      ]
     },
     "execution_count": 24,
     "metadata": {},
     "output_type": "execute_result"
    }
   ],
   "source": [
    "res3 = H - s*e[2]\n",
    "    \n",
    "res3"
   ]
  },
  {
   "cell_type": "code",
   "execution_count": 25,
   "metadata": {},
   "outputs": [
    {
     "data": {
      "text/latex": [
       "$$\\left[\\begin{matrix}- \\frac{\\hbar^{2} l^{3}}{30 m} \\left(18 \\sqrt{5} + 60\\right) + \\frac{\\hbar^{2} l^{3}}{6 m} & - \\frac{\\hbar^{2} l^{5}}{140 m} \\left(18 \\sqrt{5} + 60\\right) + \\frac{\\hbar^{2} l^{5}}{30 m} & 0 & 0\\\\- \\frac{\\hbar^{2} l^{5}}{140 m} \\left(18 \\sqrt{5} + 60\\right) + \\frac{\\hbar^{2} l^{5}}{30 m} & - \\frac{\\hbar^{2} l^{7}}{630 m} \\left(18 \\sqrt{5} + 60\\right) + \\frac{\\hbar^{2} l^{7}}{105 m} & 0 & 0\\\\0 & 0 & - \\frac{\\hbar^{2} l^{5}}{840 m} \\left(18 \\sqrt{5} + 60\\right) + \\frac{\\hbar^{2} l^{5}}{40 m} & - \\frac{\\hbar^{2} l^{7}}{5040 m} \\left(18 \\sqrt{5} + 60\\right) + \\frac{\\hbar^{2} l^{7}}{280 m}\\\\0 & 0 & - \\frac{\\hbar^{2} l^{7}}{5040 m} \\left(18 \\sqrt{5} + 60\\right) + \\frac{\\hbar^{2} l^{7}}{280 m} & - \\frac{\\hbar^{2} l^{9}}{27720 m} \\left(18 \\sqrt{5} + 60\\right) + \\frac{\\hbar^{2} l^{9}}{1260 m}\\end{matrix}\\right]$$"
      ],
      "text/plain": [
       "⎡    2  3                  2  3      2  5                  2  5               \n",
       "⎢  h̅ ⋅l ⋅(18⋅√5 + 60)   h̅ ⋅l     h̅ ⋅l ⋅(18⋅√5 + 60)   h̅ ⋅l                \n",
       "⎢- ─────────────────── + ──────  - ─────────────────── + ──────               \n",
       "⎢          30⋅m           6⋅m             140⋅m           30⋅m                \n",
       "⎢                                                                             \n",
       "⎢    2  5                  2  5      2  7                  2  7               \n",
       "⎢  h̅ ⋅l ⋅(18⋅√5 + 60)   h̅ ⋅l     h̅ ⋅l ⋅(18⋅√5 + 60)   h̅ ⋅l                \n",
       "⎢- ─────────────────── + ──────  - ─────────────────── + ──────               \n",
       "⎢         140⋅m           30⋅m            630⋅m          105⋅m                \n",
       "⎢                                                                             \n",
       "⎢                                                                    2  5     \n",
       "⎢                                                                  h̅ ⋅l ⋅(18⋅\n",
       "⎢              0                               0                 - ───────────\n",
       "⎢                                                                         840⋅\n",
       "⎢                                                                             \n",
       "⎢                                                                    2  7     \n",
       "⎢                                                                  h̅ ⋅l ⋅(18⋅\n",
       "⎢              0                               0                 - ───────────\n",
       "⎣                                                                         5040\n",
       "\n",
       "                                                 ⎤\n",
       "                                                 ⎥\n",
       " 0                               0               ⎥\n",
       "                                                 ⎥\n",
       "                                                 ⎥\n",
       "                                                 ⎥\n",
       "                                                 ⎥\n",
       " 0                               0               ⎥\n",
       "                                                 ⎥\n",
       "                                                 ⎥\n",
       "             2  5      2  7                  2  7⎥\n",
       "√5 + 60)   h̅ ⋅l     h̅ ⋅l ⋅(18⋅√5 + 60)   h̅ ⋅l ⎥\n",
       "──────── + ──────  - ─────────────────── + ──────⎥\n",
       "m           40⋅m            5040⋅m         280⋅m ⎥\n",
       "                                                 ⎥\n",
       "             2  7      2  9                  2  9⎥\n",
       "√5 + 60)   h̅ ⋅l     h̅ ⋅l ⋅(18⋅√5 + 60)   h̅ ⋅l ⎥\n",
       "──────── + ──────  - ─────────────────── + ──────⎥\n",
       "⋅m         280⋅m           27720⋅m         1260⋅m⎦"
      ]
     },
     "execution_count": 25,
     "metadata": {},
     "output_type": "execute_result"
    }
   ],
   "source": [
    "res4 = H - s*e[3]\n",
    "    \n",
    "res4"
   ]
  },
  {
   "cell_type": "code",
   "execution_count": 26,
   "metadata": {
    "collapsed": true
   },
   "outputs": [],
   "source": [
    "c = Matrix(c)"
   ]
  },
  {
   "cell_type": "code",
   "execution_count": 27,
   "metadata": {},
   "outputs": [
    {
     "data": {
      "text/latex": [
       "$$\\left[\\begin{matrix}c_{1}\\\\c_{2}\\\\c_{3}\\\\c_{4}\\end{matrix}\\right]$$"
      ],
      "text/plain": [
       "⎡c₁⎤\n",
       "⎢  ⎥\n",
       "⎢c₂⎥\n",
       "⎢  ⎥\n",
       "⎢c₃⎥\n",
       "⎢  ⎥\n",
       "⎣c₄⎦"
      ]
     },
     "execution_count": 27,
     "metadata": {},
     "output_type": "execute_result"
    }
   ],
   "source": [
    "c"
   ]
  },
  {
   "cell_type": "code",
   "execution_count": 28,
   "metadata": {},
   "outputs": [
    {
     "data": {
      "text/latex": [
       "$$\\left[\\begin{matrix}c_{1} \\left(- \\frac{\\hbar^{2} l^{3}}{30 m} \\left(- 2 \\sqrt{133} + 28\\right) + \\frac{\\hbar^{2} l^{3}}{6 m}\\right) + c_{2} \\left(- \\frac{\\hbar^{2} l^{5}}{140 m} \\left(- 2 \\sqrt{133} + 28\\right) + \\frac{\\hbar^{2} l^{5}}{30 m}\\right)\\\\c_{1} \\left(- \\frac{\\hbar^{2} l^{5}}{140 m} \\left(- 2 \\sqrt{133} + 28\\right) + \\frac{\\hbar^{2} l^{5}}{30 m}\\right) + c_{2} \\left(- \\frac{\\hbar^{2} l^{7}}{630 m} \\left(- 2 \\sqrt{133} + 28\\right) + \\frac{\\hbar^{2} l^{7}}{105 m}\\right)\\\\c_{3} \\left(- \\frac{\\hbar^{2} l^{5}}{840 m} \\left(- 2 \\sqrt{133} + 28\\right) + \\frac{\\hbar^{2} l^{5}}{40 m}\\right) + c_{4} \\left(- \\frac{\\hbar^{2} l^{7}}{5040 m} \\left(- 2 \\sqrt{133} + 28\\right) + \\frac{\\hbar^{2} l^{7}}{280 m}\\right)\\\\c_{3} \\left(- \\frac{\\hbar^{2} l^{7}}{5040 m} \\left(- 2 \\sqrt{133} + 28\\right) + \\frac{\\hbar^{2} l^{7}}{280 m}\\right) + c_{4} \\left(- \\frac{\\hbar^{2} l^{9}}{27720 m} \\left(- 2 \\sqrt{133} + 28\\right) + \\frac{\\hbar^{2} l^{9}}{1260 m}\\right)\\end{matrix}\\right]$$"
      ],
      "text/plain": [
       "⎡   ⎛    2  3                    2  3⎞      ⎛    2  5                    2  5⎞\n",
       "⎢   ⎜  h̅ ⋅l ⋅(-2⋅√133 + 28)   h̅ ⋅l ⎟      ⎜  h̅ ⋅l ⋅(-2⋅√133 + 28)   h̅ ⋅l ⎟\n",
       "⎢c₁⋅⎜- ───────────────────── + ──────⎟ + c₂⋅⎜- ───────────────────── + ──────⎟\n",
       "⎢   ⎝           30⋅m            6⋅m  ⎠      ⎝          140⋅m            30⋅m ⎠\n",
       "⎢                                                                             \n",
       "⎢   ⎛    2  5                    2  5⎞      ⎛    2  7                    2  7⎞\n",
       "⎢   ⎜  h̅ ⋅l ⋅(-2⋅√133 + 28)   h̅ ⋅l ⎟      ⎜  h̅ ⋅l ⋅(-2⋅√133 + 28)   h̅ ⋅l ⎟\n",
       "⎢c₁⋅⎜- ───────────────────── + ──────⎟ + c₂⋅⎜- ───────────────────── + ──────⎟\n",
       "⎢   ⎝          140⋅m            30⋅m ⎠      ⎝          630⋅m           105⋅m ⎠\n",
       "⎢                                                                             \n",
       "⎢   ⎛    2  5                    2  5⎞      ⎛    2  7                    2  7⎞\n",
       "⎢   ⎜  h̅ ⋅l ⋅(-2⋅√133 + 28)   h̅ ⋅l ⎟      ⎜  h̅ ⋅l ⋅(-2⋅√133 + 28)   h̅ ⋅l ⎟\n",
       "⎢c₃⋅⎜- ───────────────────── + ──────⎟ + c₄⋅⎜- ───────────────────── + ──────⎟\n",
       "⎢   ⎝          840⋅m            40⋅m ⎠      ⎝          5040⋅m          280⋅m ⎠\n",
       "⎢                                                                             \n",
       "⎢   ⎛    2  7                    2  7⎞      ⎛    2  9                    2  9⎞\n",
       "⎢   ⎜  h̅ ⋅l ⋅(-2⋅√133 + 28)   h̅ ⋅l ⎟      ⎜  h̅ ⋅l ⋅(-2⋅√133 + 28)   h̅ ⋅l ⎟\n",
       "⎢c₃⋅⎜- ───────────────────── + ──────⎟ + c₄⋅⎜- ───────────────────── + ──────⎟\n",
       "⎣   ⎝          5040⋅m          280⋅m ⎠      ⎝         27720⋅m          1260⋅m⎠\n",
       "\n",
       "⎤\n",
       "⎥\n",
       "⎥\n",
       "⎥\n",
       "⎥\n",
       "⎥\n",
       "⎥\n",
       "⎥\n",
       "⎥\n",
       "⎥\n",
       "⎥\n",
       "⎥\n",
       "⎥\n",
       "⎥\n",
       "⎥\n",
       "⎥\n",
       "⎥\n",
       "⎥\n",
       "⎦"
      ]
     },
     "execution_count": 28,
     "metadata": {},
     "output_type": "execute_result"
    }
   ],
   "source": [
    "f1 = res1*c\n",
    "f1"
   ]
  },
  {
   "cell_type": "code",
   "execution_count": 29,
   "metadata": {},
   "outputs": [
    {
     "data": {
      "text/latex": [
       "$$\\left[\\begin{matrix}c_{1} \\left(- \\frac{\\hbar^{2} l^{3}}{30 m} \\left(- 18 \\sqrt{5} + 60\\right) + \\frac{\\hbar^{2} l^{3}}{6 m}\\right) + c_{2} \\left(- \\frac{\\hbar^{2} l^{5}}{140 m} \\left(- 18 \\sqrt{5} + 60\\right) + \\frac{\\hbar^{2} l^{5}}{30 m}\\right)\\\\c_{1} \\left(- \\frac{\\hbar^{2} l^{5}}{140 m} \\left(- 18 \\sqrt{5} + 60\\right) + \\frac{\\hbar^{2} l^{5}}{30 m}\\right) + c_{2} \\left(- \\frac{\\hbar^{2} l^{7}}{630 m} \\left(- 18 \\sqrt{5} + 60\\right) + \\frac{\\hbar^{2} l^{7}}{105 m}\\right)\\\\c_{3} \\left(- \\frac{\\hbar^{2} l^{5}}{840 m} \\left(- 18 \\sqrt{5} + 60\\right) + \\frac{\\hbar^{2} l^{5}}{40 m}\\right) + c_{4} \\left(- \\frac{\\hbar^{2} l^{7}}{5040 m} \\left(- 18 \\sqrt{5} + 60\\right) + \\frac{\\hbar^{2} l^{7}}{280 m}\\right)\\\\c_{3} \\left(- \\frac{\\hbar^{2} l^{7}}{5040 m} \\left(- 18 \\sqrt{5} + 60\\right) + \\frac{\\hbar^{2} l^{7}}{280 m}\\right) + c_{4} \\left(- \\frac{\\hbar^{2} l^{9}}{27720 m} \\left(- 18 \\sqrt{5} + 60\\right) + \\frac{\\hbar^{2} l^{9}}{1260 m}\\right)\\end{matrix}\\right]$$"
      ],
      "text/plain": [
       "⎡   ⎛    2  3                   2  3⎞      ⎛    2  5                   2  5⎞⎤\n",
       "⎢   ⎜  h̅ ⋅l ⋅(-18⋅√5 + 60)   h̅ ⋅l ⎟      ⎜  h̅ ⋅l ⋅(-18⋅√5 + 60)   h̅ ⋅l ⎟⎥\n",
       "⎢c₁⋅⎜- ──────────────────── + ──────⎟ + c₂⋅⎜- ──────────────────── + ──────⎟⎥\n",
       "⎢   ⎝          30⋅m            6⋅m  ⎠      ⎝         140⋅m            30⋅m ⎠⎥\n",
       "⎢                                                                           ⎥\n",
       "⎢   ⎛    2  5                   2  5⎞      ⎛    2  7                   2  7⎞⎥\n",
       "⎢   ⎜  h̅ ⋅l ⋅(-18⋅√5 + 60)   h̅ ⋅l ⎟      ⎜  h̅ ⋅l ⋅(-18⋅√5 + 60)   h̅ ⋅l ⎟⎥\n",
       "⎢c₁⋅⎜- ──────────────────── + ──────⎟ + c₂⋅⎜- ──────────────────── + ──────⎟⎥\n",
       "⎢   ⎝         140⋅m            30⋅m ⎠      ⎝         630⋅m           105⋅m ⎠⎥\n",
       "⎢                                                                           ⎥\n",
       "⎢   ⎛    2  5                   2  5⎞      ⎛    2  7                   2  7⎞⎥\n",
       "⎢   ⎜  h̅ ⋅l ⋅(-18⋅√5 + 60)   h̅ ⋅l ⎟      ⎜  h̅ ⋅l ⋅(-18⋅√5 + 60)   h̅ ⋅l ⎟⎥\n",
       "⎢c₃⋅⎜- ──────────────────── + ──────⎟ + c₄⋅⎜- ──────────────────── + ──────⎟⎥\n",
       "⎢   ⎝         840⋅m            40⋅m ⎠      ⎝         5040⋅m          280⋅m ⎠⎥\n",
       "⎢                                                                           ⎥\n",
       "⎢   ⎛    2  7                   2  7⎞      ⎛    2  9                   2  9⎞⎥\n",
       "⎢   ⎜  h̅ ⋅l ⋅(-18⋅√5 + 60)   h̅ ⋅l ⎟      ⎜  h̅ ⋅l ⋅(-18⋅√5 + 60)   h̅ ⋅l ⎟⎥\n",
       "⎢c₃⋅⎜- ──────────────────── + ──────⎟ + c₄⋅⎜- ──────────────────── + ──────⎟⎥\n",
       "⎣   ⎝         5040⋅m          280⋅m ⎠      ⎝        27720⋅m          1260⋅m⎠⎦"
      ]
     },
     "execution_count": 29,
     "metadata": {},
     "output_type": "execute_result"
    }
   ],
   "source": [
    "f2 = res2*c\n",
    "f2"
   ]
  },
  {
   "cell_type": "code",
   "execution_count": 30,
   "metadata": {},
   "outputs": [
    {
     "data": {
      "text/latex": [
       "$$\\left[\\begin{matrix}c_{1} \\left(- \\frac{\\hbar^{2} l^{3}}{30 m} \\left(2 \\sqrt{133} + 28\\right) + \\frac{\\hbar^{2} l^{3}}{6 m}\\right) + c_{2} \\left(- \\frac{\\hbar^{2} l^{5}}{140 m} \\left(2 \\sqrt{133} + 28\\right) + \\frac{\\hbar^{2} l^{5}}{30 m}\\right)\\\\c_{1} \\left(- \\frac{\\hbar^{2} l^{5}}{140 m} \\left(2 \\sqrt{133} + 28\\right) + \\frac{\\hbar^{2} l^{5}}{30 m}\\right) + c_{2} \\left(- \\frac{\\hbar^{2} l^{7}}{630 m} \\left(2 \\sqrt{133} + 28\\right) + \\frac{\\hbar^{2} l^{7}}{105 m}\\right)\\\\c_{3} \\left(- \\frac{\\hbar^{2} l^{5}}{840 m} \\left(2 \\sqrt{133} + 28\\right) + \\frac{\\hbar^{2} l^{5}}{40 m}\\right) + c_{4} \\left(- \\frac{\\hbar^{2} l^{7}}{5040 m} \\left(2 \\sqrt{133} + 28\\right) + \\frac{\\hbar^{2} l^{7}}{280 m}\\right)\\\\c_{3} \\left(- \\frac{\\hbar^{2} l^{7}}{5040 m} \\left(2 \\sqrt{133} + 28\\right) + \\frac{\\hbar^{2} l^{7}}{280 m}\\right) + c_{4} \\left(- \\frac{\\hbar^{2} l^{9}}{27720 m} \\left(2 \\sqrt{133} + 28\\right) + \\frac{\\hbar^{2} l^{9}}{1260 m}\\right)\\end{matrix}\\right]$$"
      ],
      "text/plain": [
       "⎡   ⎛    2  3                   2  3⎞      ⎛    2  5                   2  5⎞⎤\n",
       "⎢   ⎜  h̅ ⋅l ⋅(2⋅√133 + 28)   h̅ ⋅l ⎟      ⎜  h̅ ⋅l ⋅(2⋅√133 + 28)   h̅ ⋅l ⎟⎥\n",
       "⎢c₁⋅⎜- ──────────────────── + ──────⎟ + c₂⋅⎜- ──────────────────── + ──────⎟⎥\n",
       "⎢   ⎝          30⋅m            6⋅m  ⎠      ⎝         140⋅m            30⋅m ⎠⎥\n",
       "⎢                                                                           ⎥\n",
       "⎢   ⎛    2  5                   2  5⎞      ⎛    2  7                   2  7⎞⎥\n",
       "⎢   ⎜  h̅ ⋅l ⋅(2⋅√133 + 28)   h̅ ⋅l ⎟      ⎜  h̅ ⋅l ⋅(2⋅√133 + 28)   h̅ ⋅l ⎟⎥\n",
       "⎢c₁⋅⎜- ──────────────────── + ──────⎟ + c₂⋅⎜- ──────────────────── + ──────⎟⎥\n",
       "⎢   ⎝         140⋅m            30⋅m ⎠      ⎝         630⋅m           105⋅m ⎠⎥\n",
       "⎢                                                                           ⎥\n",
       "⎢   ⎛    2  5                   2  5⎞      ⎛    2  7                   2  7⎞⎥\n",
       "⎢   ⎜  h̅ ⋅l ⋅(2⋅√133 + 28)   h̅ ⋅l ⎟      ⎜  h̅ ⋅l ⋅(2⋅√133 + 28)   h̅ ⋅l ⎟⎥\n",
       "⎢c₃⋅⎜- ──────────────────── + ──────⎟ + c₄⋅⎜- ──────────────────── + ──────⎟⎥\n",
       "⎢   ⎝         840⋅m            40⋅m ⎠      ⎝         5040⋅m          280⋅m ⎠⎥\n",
       "⎢                                                                           ⎥\n",
       "⎢   ⎛    2  7                   2  7⎞      ⎛    2  9                   2  9⎞⎥\n",
       "⎢   ⎜  h̅ ⋅l ⋅(2⋅√133 + 28)   h̅ ⋅l ⎟      ⎜  h̅ ⋅l ⋅(2⋅√133 + 28)   h̅ ⋅l ⎟⎥\n",
       "⎢c₃⋅⎜- ──────────────────── + ──────⎟ + c₄⋅⎜- ──────────────────── + ──────⎟⎥\n",
       "⎣   ⎝         5040⋅m          280⋅m ⎠      ⎝        27720⋅m          1260⋅m⎠⎦"
      ]
     },
     "execution_count": 30,
     "metadata": {},
     "output_type": "execute_result"
    }
   ],
   "source": [
    "f3 = res3*c\n",
    "f3"
   ]
  },
  {
   "cell_type": "code",
   "execution_count": 31,
   "metadata": {},
   "outputs": [
    {
     "data": {
      "text/latex": [
       "$$\\left[\\begin{matrix}c_{1} \\left(- \\frac{\\hbar^{2} l^{3}}{30 m} \\left(18 \\sqrt{5} + 60\\right) + \\frac{\\hbar^{2} l^{3}}{6 m}\\right) + c_{2} \\left(- \\frac{\\hbar^{2} l^{5}}{140 m} \\left(18 \\sqrt{5} + 60\\right) + \\frac{\\hbar^{2} l^{5}}{30 m}\\right)\\\\c_{1} \\left(- \\frac{\\hbar^{2} l^{5}}{140 m} \\left(18 \\sqrt{5} + 60\\right) + \\frac{\\hbar^{2} l^{5}}{30 m}\\right) + c_{2} \\left(- \\frac{\\hbar^{2} l^{7}}{630 m} \\left(18 \\sqrt{5} + 60\\right) + \\frac{\\hbar^{2} l^{7}}{105 m}\\right)\\\\c_{3} \\left(- \\frac{\\hbar^{2} l^{5}}{840 m} \\left(18 \\sqrt{5} + 60\\right) + \\frac{\\hbar^{2} l^{5}}{40 m}\\right) + c_{4} \\left(- \\frac{\\hbar^{2} l^{7}}{5040 m} \\left(18 \\sqrt{5} + 60\\right) + \\frac{\\hbar^{2} l^{7}}{280 m}\\right)\\\\c_{3} \\left(- \\frac{\\hbar^{2} l^{7}}{5040 m} \\left(18 \\sqrt{5} + 60\\right) + \\frac{\\hbar^{2} l^{7}}{280 m}\\right) + c_{4} \\left(- \\frac{\\hbar^{2} l^{9}}{27720 m} \\left(18 \\sqrt{5} + 60\\right) + \\frac{\\hbar^{2} l^{9}}{1260 m}\\right)\\end{matrix}\\right]$$"
      ],
      "text/plain": [
       "⎡   ⎛    2  3                  2  3⎞      ⎛    2  5                  2  5⎞⎤\n",
       "⎢   ⎜  h̅ ⋅l ⋅(18⋅√5 + 60)   h̅ ⋅l ⎟      ⎜  h̅ ⋅l ⋅(18⋅√5 + 60)   h̅ ⋅l ⎟⎥\n",
       "⎢c₁⋅⎜- ─────────────────── + ──────⎟ + c₂⋅⎜- ─────────────────── + ──────⎟⎥\n",
       "⎢   ⎝          30⋅m           6⋅m  ⎠      ⎝         140⋅m           30⋅m ⎠⎥\n",
       "⎢                                                                         ⎥\n",
       "⎢   ⎛    2  5                  2  5⎞      ⎛    2  7                  2  7⎞⎥\n",
       "⎢   ⎜  h̅ ⋅l ⋅(18⋅√5 + 60)   h̅ ⋅l ⎟      ⎜  h̅ ⋅l ⋅(18⋅√5 + 60)   h̅ ⋅l ⎟⎥\n",
       "⎢c₁⋅⎜- ─────────────────── + ──────⎟ + c₂⋅⎜- ─────────────────── + ──────⎟⎥\n",
       "⎢   ⎝         140⋅m           30⋅m ⎠      ⎝         630⋅m          105⋅m ⎠⎥\n",
       "⎢                                                                         ⎥\n",
       "⎢   ⎛    2  5                  2  5⎞      ⎛    2  7                  2  7⎞⎥\n",
       "⎢   ⎜  h̅ ⋅l ⋅(18⋅√5 + 60)   h̅ ⋅l ⎟      ⎜  h̅ ⋅l ⋅(18⋅√5 + 60)   h̅ ⋅l ⎟⎥\n",
       "⎢c₃⋅⎜- ─────────────────── + ──────⎟ + c₄⋅⎜- ─────────────────── + ──────⎟⎥\n",
       "⎢   ⎝         840⋅m           40⋅m ⎠      ⎝         5040⋅m         280⋅m ⎠⎥\n",
       "⎢                                                                         ⎥\n",
       "⎢   ⎛    2  7                  2  7⎞      ⎛    2  9                  2  9⎞⎥\n",
       "⎢   ⎜  h̅ ⋅l ⋅(18⋅√5 + 60)   h̅ ⋅l ⎟      ⎜  h̅ ⋅l ⋅(18⋅√5 + 60)   h̅ ⋅l ⎟⎥\n",
       "⎢c₃⋅⎜- ─────────────────── + ──────⎟ + c₄⋅⎜- ─────────────────── + ──────⎟⎥\n",
       "⎣   ⎝         5040⋅m         280⋅m ⎠      ⎝        27720⋅m         1260⋅m⎠⎦"
      ]
     },
     "execution_count": 31,
     "metadata": {},
     "output_type": "execute_result"
    }
   ],
   "source": [
    "f4 = res4*c\n",
    "f4"
   ]
  },
  {
   "cell_type": "code",
   "execution_count": 32,
   "metadata": {},
   "outputs": [
    {
     "data": {
      "text/latex": [
       "$$\\frac{c_{2} l^{2}}{3} + \\frac{\\sqrt{133} c_{2}}{21} l^{2}$$"
      ],
      "text/plain": [
       "    2            2\n",
       "c₂⋅l    √133⋅c₂⋅l \n",
       "───── + ──────────\n",
       "  3         21    "
      ]
     },
     "execution_count": 32,
     "metadata": {},
     "output_type": "execute_result"
    }
   ],
   "source": [
    "r1 = solve(f1, c)\n",
    "r2 = solve(f2, c)\n",
    "r3 = solve(f3, c)\n",
    "r4 = solve(f4, c)\n",
    "r1[c[0]]"
   ]
  },
  {
   "cell_type": "code",
   "execution_count": 33,
   "metadata": {},
   "outputs": [
    {
     "data": {
      "text/latex": [
       "$$\\left [ \\left \\{ c_{1} : \\frac{c_{2} l^{2}}{3} + \\frac{\\sqrt{133} c_{2}}{21} l^{2}, \\quad c_{3} : 0, \\quad c_{4} : 0\\right \\}, \\quad \\left \\{ c_{1} : 0, \\quad c_{2} : 0, \\quad c_{3} : \\frac{c_{4} l^{2}}{33} + \\frac{\\sqrt{5} c_{4}}{11} l^{2}\\right \\}, \\quad \\left \\{ c_{1} : - \\frac{\\sqrt{133} c_{2}}{21} l^{2} + \\frac{c_{2} l^{2}}{3}, \\quad c_{3} : 0, \\quad c_{4} : 0\\right \\}, \\quad \\left \\{ c_{1} : 0, \\quad c_{2} : 0, \\quad c_{3} : - \\frac{\\sqrt{5} c_{4}}{11} l^{2} + \\frac{c_{4} l^{2}}{33}\\right \\}\\right ]$$"
      ],
      "text/plain": [
       "⎡⎧        2            2              ⎫  ⎧                      2          2⎫ \n",
       "⎢⎪    c₂⋅l    √133⋅c₂⋅l               ⎪  ⎪                  c₄⋅l    √5⋅c₄⋅l ⎪ \n",
       "⎢⎨c₁: ───── + ──────────, c₃: 0, c₄: 0⎬, ⎨c₁: 0, c₂: 0, c₃: ───── + ────────⎬,\n",
       "⎢⎪      3         21                  ⎪  ⎪                    33       11   ⎪ \n",
       "⎣⎩                                    ⎭  ⎩                                  ⎭ \n",
       "\n",
       " ⎧               2       2              ⎫  ⎧                           2      \n",
       " ⎪      √133⋅c₂⋅l    c₂⋅l               ⎪  ⎪                    √5⋅c₄⋅l    c₄⋅\n",
       " ⎨c₁: - ────────── + ─────, c₃: 0, c₄: 0⎬, ⎨c₁: 0, c₂: 0, c₃: - ──────── + ───\n",
       " ⎪          21         3                ⎪  ⎪                       11        3\n",
       " ⎩                                      ⎭  ⎩                                  \n",
       "\n",
       " 2⎫⎤\n",
       "l ⎪⎥\n",
       "──⎬⎥\n",
       "3 ⎪⎥\n",
       "  ⎭⎦"
      ]
     },
     "execution_count": 33,
     "metadata": {},
     "output_type": "execute_result"
    }
   ],
   "source": [
    "r = [r1, r2, r3, r4]\n",
    "r"
   ]
  },
  {
   "cell_type": "code",
   "execution_count": 34,
   "metadata": {},
   "outputs": [
    {
     "data": {
      "text/latex": [
       "$$\\left[\\begin{matrix}c_{1} \\left(- \\frac{\\hbar^{2} l^{3}}{30 m} \\left(- 2 \\sqrt{133} + 28\\right) + \\frac{\\hbar^{2} l^{3}}{6 m}\\right) + c_{2} \\left(- \\frac{\\hbar^{2} l^{5}}{140 m} \\left(- 2 \\sqrt{133} + 28\\right) + \\frac{\\hbar^{2} l^{5}}{30 m}\\right) & c_{1} \\left(- \\frac{\\hbar^{2} l^{3}}{30 m} \\left(- 18 \\sqrt{5} + 60\\right) + \\frac{\\hbar^{2} l^{3}}{6 m}\\right) + c_{2} \\left(- \\frac{\\hbar^{2} l^{5}}{140 m} \\left(- 18 \\sqrt{5} + 60\\right) + \\frac{\\hbar^{2} l^{5}}{30 m}\\right) & c_{1} \\left(- \\frac{\\hbar^{2} l^{3}}{30 m} \\left(2 \\sqrt{133} + 28\\right) + \\frac{\\hbar^{2} l^{3}}{6 m}\\right) + c_{2} \\left(- \\frac{\\hbar^{2} l^{5}}{140 m} \\left(2 \\sqrt{133} + 28\\right) + \\frac{\\hbar^{2} l^{5}}{30 m}\\right) & c_{1} \\left(- \\frac{\\hbar^{2} l^{3}}{30 m} \\left(18 \\sqrt{5} + 60\\right) + \\frac{\\hbar^{2} l^{3}}{6 m}\\right) + c_{2} \\left(- \\frac{\\hbar^{2} l^{5}}{140 m} \\left(18 \\sqrt{5} + 60\\right) + \\frac{\\hbar^{2} l^{5}}{30 m}\\right)\\\\c_{1} \\left(- \\frac{\\hbar^{2} l^{5}}{140 m} \\left(- 2 \\sqrt{133} + 28\\right) + \\frac{\\hbar^{2} l^{5}}{30 m}\\right) + c_{2} \\left(- \\frac{\\hbar^{2} l^{7}}{630 m} \\left(- 2 \\sqrt{133} + 28\\right) + \\frac{\\hbar^{2} l^{7}}{105 m}\\right) & c_{1} \\left(- \\frac{\\hbar^{2} l^{5}}{140 m} \\left(- 18 \\sqrt{5} + 60\\right) + \\frac{\\hbar^{2} l^{5}}{30 m}\\right) + c_{2} \\left(- \\frac{\\hbar^{2} l^{7}}{630 m} \\left(- 18 \\sqrt{5} + 60\\right) + \\frac{\\hbar^{2} l^{7}}{105 m}\\right) & c_{1} \\left(- \\frac{\\hbar^{2} l^{5}}{140 m} \\left(2 \\sqrt{133} + 28\\right) + \\frac{\\hbar^{2} l^{5}}{30 m}\\right) + c_{2} \\left(- \\frac{\\hbar^{2} l^{7}}{630 m} \\left(2 \\sqrt{133} + 28\\right) + \\frac{\\hbar^{2} l^{7}}{105 m}\\right) & c_{1} \\left(- \\frac{\\hbar^{2} l^{5}}{140 m} \\left(18 \\sqrt{5} + 60\\right) + \\frac{\\hbar^{2} l^{5}}{30 m}\\right) + c_{2} \\left(- \\frac{\\hbar^{2} l^{7}}{630 m} \\left(18 \\sqrt{5} + 60\\right) + \\frac{\\hbar^{2} l^{7}}{105 m}\\right)\\\\c_{3} \\left(- \\frac{\\hbar^{2} l^{5}}{840 m} \\left(- 2 \\sqrt{133} + 28\\right) + \\frac{\\hbar^{2} l^{5}}{40 m}\\right) + c_{4} \\left(- \\frac{\\hbar^{2} l^{7}}{5040 m} \\left(- 2 \\sqrt{133} + 28\\right) + \\frac{\\hbar^{2} l^{7}}{280 m}\\right) & c_{3} \\left(- \\frac{\\hbar^{2} l^{5}}{840 m} \\left(- 18 \\sqrt{5} + 60\\right) + \\frac{\\hbar^{2} l^{5}}{40 m}\\right) + c_{4} \\left(- \\frac{\\hbar^{2} l^{7}}{5040 m} \\left(- 18 \\sqrt{5} + 60\\right) + \\frac{\\hbar^{2} l^{7}}{280 m}\\right) & c_{3} \\left(- \\frac{\\hbar^{2} l^{5}}{840 m} \\left(2 \\sqrt{133} + 28\\right) + \\frac{\\hbar^{2} l^{5}}{40 m}\\right) + c_{4} \\left(- \\frac{\\hbar^{2} l^{7}}{5040 m} \\left(2 \\sqrt{133} + 28\\right) + \\frac{\\hbar^{2} l^{7}}{280 m}\\right) & c_{3} \\left(- \\frac{\\hbar^{2} l^{5}}{840 m} \\left(18 \\sqrt{5} + 60\\right) + \\frac{\\hbar^{2} l^{5}}{40 m}\\right) + c_{4} \\left(- \\frac{\\hbar^{2} l^{7}}{5040 m} \\left(18 \\sqrt{5} + 60\\right) + \\frac{\\hbar^{2} l^{7}}{280 m}\\right)\\\\c_{3} \\left(- \\frac{\\hbar^{2} l^{7}}{5040 m} \\left(- 2 \\sqrt{133} + 28\\right) + \\frac{\\hbar^{2} l^{7}}{280 m}\\right) + c_{4} \\left(- \\frac{\\hbar^{2} l^{9}}{27720 m} \\left(- 2 \\sqrt{133} + 28\\right) + \\frac{\\hbar^{2} l^{9}}{1260 m}\\right) & c_{3} \\left(- \\frac{\\hbar^{2} l^{7}}{5040 m} \\left(- 18 \\sqrt{5} + 60\\right) + \\frac{\\hbar^{2} l^{7}}{280 m}\\right) + c_{4} \\left(- \\frac{\\hbar^{2} l^{9}}{27720 m} \\left(- 18 \\sqrt{5} + 60\\right) + \\frac{\\hbar^{2} l^{9}}{1260 m}\\right) & c_{3} \\left(- \\frac{\\hbar^{2} l^{7}}{5040 m} \\left(2 \\sqrt{133} + 28\\right) + \\frac{\\hbar^{2} l^{7}}{280 m}\\right) + c_{4} \\left(- \\frac{\\hbar^{2} l^{9}}{27720 m} \\left(2 \\sqrt{133} + 28\\right) + \\frac{\\hbar^{2} l^{9}}{1260 m}\\right) & c_{3} \\left(- \\frac{\\hbar^{2} l^{7}}{5040 m} \\left(18 \\sqrt{5} + 60\\right) + \\frac{\\hbar^{2} l^{7}}{280 m}\\right) + c_{4} \\left(- \\frac{\\hbar^{2} l^{9}}{27720 m} \\left(18 \\sqrt{5} + 60\\right) + \\frac{\\hbar^{2} l^{9}}{1260 m}\\right)\\end{matrix}\\right]$$"
      ],
      "text/plain": [
       "⎡   ⎛    2  3                    2  3⎞      ⎛    2  5                    2  5⎞\n",
       "⎢   ⎜  h̅ ⋅l ⋅(-2⋅√133 + 28)   h̅ ⋅l ⎟      ⎜  h̅ ⋅l ⋅(-2⋅√133 + 28)   h̅ ⋅l ⎟\n",
       "⎢c₁⋅⎜- ───────────────────── + ──────⎟ + c₂⋅⎜- ───────────────────── + ──────⎟\n",
       "⎢   ⎝           30⋅m            6⋅m  ⎠      ⎝          140⋅m            30⋅m ⎠\n",
       "⎢                                                                             \n",
       "⎢   ⎛    2  5                    2  5⎞      ⎛    2  7                    2  7⎞\n",
       "⎢   ⎜  h̅ ⋅l ⋅(-2⋅√133 + 28)   h̅ ⋅l ⎟      ⎜  h̅ ⋅l ⋅(-2⋅√133 + 28)   h̅ ⋅l ⎟\n",
       "⎢c₁⋅⎜- ───────────────────── + ──────⎟ + c₂⋅⎜- ───────────────────── + ──────⎟\n",
       "⎢   ⎝          140⋅m            30⋅m ⎠      ⎝          630⋅m           105⋅m ⎠\n",
       "⎢                                                                             \n",
       "⎢   ⎛    2  5                    2  5⎞      ⎛    2  7                    2  7⎞\n",
       "⎢   ⎜  h̅ ⋅l ⋅(-2⋅√133 + 28)   h̅ ⋅l ⎟      ⎜  h̅ ⋅l ⋅(-2⋅√133 + 28)   h̅ ⋅l ⎟\n",
       "⎢c₃⋅⎜- ───────────────────── + ──────⎟ + c₄⋅⎜- ───────────────────── + ──────⎟\n",
       "⎢   ⎝          840⋅m            40⋅m ⎠      ⎝          5040⋅m          280⋅m ⎠\n",
       "⎢                                                                             \n",
       "⎢   ⎛    2  7                    2  7⎞      ⎛    2  9                    2  9⎞\n",
       "⎢   ⎜  h̅ ⋅l ⋅(-2⋅√133 + 28)   h̅ ⋅l ⎟      ⎜  h̅ ⋅l ⋅(-2⋅√133 + 28)   h̅ ⋅l ⎟\n",
       "⎢c₃⋅⎜- ───────────────────── + ──────⎟ + c₄⋅⎜- ───────────────────── + ──────⎟\n",
       "⎣   ⎝          5040⋅m          280⋅m ⎠      ⎝         27720⋅m          1260⋅m⎠\n",
       "\n",
       "     ⎛    2  3                   2  3⎞      ⎛    2  5                   2  5⎞ \n",
       "     ⎜  h̅ ⋅l ⋅(-18⋅√5 + 60)   h̅ ⋅l ⎟      ⎜  h̅ ⋅l ⋅(-18⋅√5 + 60)   h̅ ⋅l ⎟ \n",
       "  c₁⋅⎜- ──────────────────── + ──────⎟ + c₂⋅⎜- ──────────────────── + ──────⎟ \n",
       "     ⎝          30⋅m            6⋅m  ⎠      ⎝         140⋅m            30⋅m ⎠ \n",
       "                                                                              \n",
       "     ⎛    2  5                   2  5⎞      ⎛    2  7                   2  7⎞ \n",
       "     ⎜  h̅ ⋅l ⋅(-18⋅√5 + 60)   h̅ ⋅l ⎟      ⎜  h̅ ⋅l ⋅(-18⋅√5 + 60)   h̅ ⋅l ⎟ \n",
       "  c₁⋅⎜- ──────────────────── + ──────⎟ + c₂⋅⎜- ──────────────────── + ──────⎟ \n",
       "     ⎝         140⋅m            30⋅m ⎠      ⎝         630⋅m           105⋅m ⎠ \n",
       "                                                                              \n",
       "     ⎛    2  5                   2  5⎞      ⎛    2  7                   2  7⎞ \n",
       "     ⎜  h̅ ⋅l ⋅(-18⋅√5 + 60)   h̅ ⋅l ⎟      ⎜  h̅ ⋅l ⋅(-18⋅√5 + 60)   h̅ ⋅l ⎟ \n",
       "  c₃⋅⎜- ──────────────────── + ──────⎟ + c₄⋅⎜- ──────────────────── + ──────⎟ \n",
       "     ⎝         840⋅m            40⋅m ⎠      ⎝         5040⋅m          280⋅m ⎠ \n",
       "                                                                              \n",
       "     ⎛    2  7                   2  7⎞      ⎛    2  9                   2  9⎞ \n",
       "     ⎜  h̅ ⋅l ⋅(-18⋅√5 + 60)   h̅ ⋅l ⎟      ⎜  h̅ ⋅l ⋅(-18⋅√5 + 60)   h̅ ⋅l ⎟ \n",
       "  c₃⋅⎜- ──────────────────── + ──────⎟ + c₄⋅⎜- ──────────────────── + ──────⎟ \n",
       "     ⎝         5040⋅m          280⋅m ⎠      ⎝        27720⋅m          1260⋅m⎠ \n",
       "\n",
       "    ⎛    2  3                   2  3⎞      ⎛    2  5                   2  5⎞  \n",
       "    ⎜  h̅ ⋅l ⋅(2⋅√133 + 28)   h̅ ⋅l ⎟      ⎜  h̅ ⋅l ⋅(2⋅√133 + 28)   h̅ ⋅l ⎟  \n",
       " c₁⋅⎜- ──────────────────── + ──────⎟ + c₂⋅⎜- ──────────────────── + ──────⎟  \n",
       "    ⎝          30⋅m            6⋅m  ⎠      ⎝         140⋅m            30⋅m ⎠  \n",
       "                                                                              \n",
       "    ⎛    2  5                   2  5⎞      ⎛    2  7                   2  7⎞  \n",
       "    ⎜  h̅ ⋅l ⋅(2⋅√133 + 28)   h̅ ⋅l ⎟      ⎜  h̅ ⋅l ⋅(2⋅√133 + 28)   h̅ ⋅l ⎟  \n",
       " c₁⋅⎜- ──────────────────── + ──────⎟ + c₂⋅⎜- ──────────────────── + ──────⎟  \n",
       "    ⎝         140⋅m            30⋅m ⎠      ⎝         630⋅m           105⋅m ⎠  \n",
       "                                                                              \n",
       "    ⎛    2  5                   2  5⎞      ⎛    2  7                   2  7⎞  \n",
       "    ⎜  h̅ ⋅l ⋅(2⋅√133 + 28)   h̅ ⋅l ⎟      ⎜  h̅ ⋅l ⋅(2⋅√133 + 28)   h̅ ⋅l ⎟  \n",
       " c₃⋅⎜- ──────────────────── + ──────⎟ + c₄⋅⎜- ──────────────────── + ──────⎟  \n",
       "    ⎝         840⋅m            40⋅m ⎠      ⎝         5040⋅m          280⋅m ⎠  \n",
       "                                                                              \n",
       "    ⎛    2  7                   2  7⎞      ⎛    2  9                   2  9⎞  \n",
       "    ⎜  h̅ ⋅l ⋅(2⋅√133 + 28)   h̅ ⋅l ⎟      ⎜  h̅ ⋅l ⋅(2⋅√133 + 28)   h̅ ⋅l ⎟  \n",
       " c₃⋅⎜- ──────────────────── + ──────⎟ + c₄⋅⎜- ──────────────────── + ──────⎟  \n",
       "    ⎝         5040⋅m          280⋅m ⎠      ⎝        27720⋅m          1260⋅m⎠  \n",
       "\n",
       "   ⎛    2  3                  2  3⎞      ⎛    2  5                  2  5⎞⎤\n",
       "   ⎜  h̅ ⋅l ⋅(18⋅√5 + 60)   h̅ ⋅l ⎟      ⎜  h̅ ⋅l ⋅(18⋅√5 + 60)   h̅ ⋅l ⎟⎥\n",
       "c₁⋅⎜- ─────────────────── + ──────⎟ + c₂⋅⎜- ─────────────────── + ──────⎟⎥\n",
       "   ⎝          30⋅m           6⋅m  ⎠      ⎝         140⋅m           30⋅m ⎠⎥\n",
       "                                                                         ⎥\n",
       "   ⎛    2  5                  2  5⎞      ⎛    2  7                  2  7⎞⎥\n",
       "   ⎜  h̅ ⋅l ⋅(18⋅√5 + 60)   h̅ ⋅l ⎟      ⎜  h̅ ⋅l ⋅(18⋅√5 + 60)   h̅ ⋅l ⎟⎥\n",
       "c₁⋅⎜- ─────────────────── + ──────⎟ + c₂⋅⎜- ─────────────────── + ──────⎟⎥\n",
       "   ⎝         140⋅m           30⋅m ⎠      ⎝         630⋅m          105⋅m ⎠⎥\n",
       "                                                                         ⎥\n",
       "   ⎛    2  5                  2  5⎞      ⎛    2  7                  2  7⎞⎥\n",
       "   ⎜  h̅ ⋅l ⋅(18⋅√5 + 60)   h̅ ⋅l ⎟      ⎜  h̅ ⋅l ⋅(18⋅√5 + 60)   h̅ ⋅l ⎟⎥\n",
       "c₃⋅⎜- ─────────────────── + ──────⎟ + c₄⋅⎜- ─────────────────── + ──────⎟⎥\n",
       "   ⎝         840⋅m           40⋅m ⎠      ⎝         5040⋅m         280⋅m ⎠⎥\n",
       "                                                                         ⎥\n",
       "   ⎛    2  7                  2  7⎞      ⎛    2  9                  2  9⎞⎥\n",
       "   ⎜  h̅ ⋅l ⋅(18⋅√5 + 60)   h̅ ⋅l ⎟      ⎜  h̅ ⋅l ⋅(18⋅√5 + 60)   h̅ ⋅l ⎟⎥\n",
       "c₃⋅⎜- ─────────────────── + ──────⎟ + c₄⋅⎜- ─────────────────── + ──────⎟⎥\n",
       "   ⎝         5040⋅m         280⋅m ⎠      ⎝        27720⋅m         1260⋅m⎠⎦"
      ]
     },
     "execution_count": 34,
     "metadata": {},
     "output_type": "execute_result"
    }
   ],
   "source": [
    "EC = Matrix([f1])\n",
    "EC = EC.col_insert(1,f2)\n",
    "EC = EC.col_insert(2,f3)\n",
    "EC = EC.col_insert(3,f4)\n",
    "EC"
   ]
  },
  {
   "cell_type": "code",
   "execution_count": 35,
   "metadata": {},
   "outputs": [
    {
     "data": {
      "text/latex": [
       "$$\\left[\\begin{matrix}c_{1}\\\\c_{2}\\\\c_{3}\\\\c_{4}\\end{matrix}\\right]$$"
      ],
      "text/plain": [
       "⎡c₁⎤\n",
       "⎢  ⎥\n",
       "⎢c₂⎥\n",
       "⎢  ⎥\n",
       "⎢c₃⎥\n",
       "⎢  ⎥\n",
       "⎣c₄⎦"
      ]
     },
     "execution_count": 35,
     "metadata": {},
     "output_type": "execute_result"
    }
   ],
   "source": [
    "C = Matrix(c)\n",
    "C"
   ]
  },
  {
   "cell_type": "code",
   "execution_count": 36,
   "metadata": {},
   "outputs": [
    {
     "data": {
      "text/latex": [
       "$$\\left[\\begin{matrix}\\frac{c_{2} l^{2}}{21} \\left(7 + \\sqrt{133}\\right) & 0 & \\frac{c_{2} l^{2}}{21} \\left(- \\sqrt{133} + 7\\right) & 0\\\\c_{2} & 0 & c_{2} & 0\\\\0 & \\frac{c_{4} l^{2}}{33} \\left(1 + 3 \\sqrt{5}\\right) & 0 & \\frac{c_{4} l^{2}}{33} \\left(- 3 \\sqrt{5} + 1\\right)\\\\0 & c_{4} & 0 & c_{4}\\end{matrix}\\right]$$"
      ],
      "text/plain": [
       "⎡    2                                   2                               ⎤\n",
       "⎢c₂⋅l ⋅(7 + √133)                    c₂⋅l ⋅(-√133 + 7)                   ⎥\n",
       "⎢────────────────         0          ─────────────────          0        ⎥\n",
       "⎢       21                                   21                          ⎥\n",
       "⎢                                                                        ⎥\n",
       "⎢       c₂                0                 c₂                  0        ⎥\n",
       "⎢                                                                        ⎥\n",
       "⎢                      2                                    2            ⎥\n",
       "⎢                  c₄⋅l ⋅(1 + 3⋅√5)                     c₄⋅l ⋅(-3⋅√5 + 1)⎥\n",
       "⎢       0          ────────────────          0          ─────────────────⎥\n",
       "⎢                         33                                    33       ⎥\n",
       "⎢                                                                        ⎥\n",
       "⎣       0                 c₄                 0                 c₄        ⎦"
      ]
     },
     "execution_count": 36,
     "metadata": {},
     "output_type": "execute_result"
    }
   ],
   "source": [
    "CRcol = C[:, :]\n",
    "for a in range(1, len(C)+1):\n",
    "    C_val = solve(EC.col(a-1), C)\n",
    "    for b in range(1, len(C)+1):\n",
    "        if sympify('c'+str(b)) in C_val:\n",
    "            CRcol[b-1] = C_val[sympify('c'+str(b))]\n",
    "        else:\n",
    "            CRcol[b-1] = sympify('c'+str(b))\n",
    "    if a == 1:\n",
    "        CR = Matrix([CRcol])\n",
    "    else:\n",
    "        CR = CR.col_insert(a-1, CRcol)\n",
    "simplify(CR)"
   ]
  },
  {
   "cell_type": "code",
   "execution_count": 37,
   "metadata": {},
   "outputs": [
    {
     "data": {
      "text/latex": [
       "$$\\left[\\begin{matrix}\\frac{c_{2} l^{2}}{3} + \\frac{\\sqrt{133} c_{2}}{21} l^{2} & c_{2} & 0 & 0\\\\0 & 0 & \\frac{c_{4} l^{2}}{33} + \\frac{\\sqrt{5} c_{4}}{11} l^{2} & c_{4}\\\\- \\frac{\\sqrt{133} c_{2}}{21} l^{2} + \\frac{c_{2} l^{2}}{3} & c_{2} & 0 & 0\\\\0 & 0 & - \\frac{\\sqrt{5} c_{4}}{11} l^{2} + \\frac{c_{4} l^{2}}{33} & c_{4}\\end{matrix}\\right]$$"
      ],
      "text/plain": [
       "⎡     2            2                             ⎤\n",
       "⎢ c₂⋅l    √133⋅c₂⋅l                              ⎥\n",
       "⎢ ───── + ──────────   c₂          0           0 ⎥\n",
       "⎢   3         21                                 ⎥\n",
       "⎢                                                ⎥\n",
       "⎢                               2          2     ⎥\n",
       "⎢                           c₄⋅l    √5⋅c₄⋅l      ⎥\n",
       "⎢         0            0    ───── + ────────   c₄⎥\n",
       "⎢                             33       11        ⎥\n",
       "⎢                                                ⎥\n",
       "⎢           2       2                            ⎥\n",
       "⎢  √133⋅c₂⋅l    c₂⋅l                             ⎥\n",
       "⎢- ────────── + ─────  c₂          0           0 ⎥\n",
       "⎢      21         3                              ⎥\n",
       "⎢                                                ⎥\n",
       "⎢                                   2       2    ⎥\n",
       "⎢                            √5⋅c₄⋅l    c₄⋅l     ⎥\n",
       "⎢         0            0   - ──────── + ─────  c₄⎥\n",
       "⎣                               11        33     ⎦"
      ]
     },
     "execution_count": 37,
     "metadata": {},
     "output_type": "execute_result"
    }
   ],
   "source": [
    "CR.T"
   ]
  },
  {
   "cell_type": "code",
   "execution_count": 38,
   "metadata": {},
   "outputs": [
    {
     "data": {
      "text/latex": [
       "$$\\left[\\begin{matrix}x \\left(l - x\\right)\\\\x^{2} \\left(l - x\\right)^{2}\\\\x \\left(\\frac{l}{2} - x\\right) \\left(l - x\\right)\\\\x^{2} \\left(\\frac{l}{2} - x\\right) \\left(l - x\\right)^{2}\\end{matrix}\\right]$$"
      ],
      "text/plain": [
       "⎡     x⋅(l - x)     ⎤\n",
       "⎢                   ⎥\n",
       "⎢     2        2    ⎥\n",
       "⎢    x ⋅(l - x)     ⎥\n",
       "⎢                   ⎥\n",
       "⎢   ⎛l    ⎞         ⎥\n",
       "⎢ x⋅⎜─ - x⎟⋅(l - x) ⎥\n",
       "⎢   ⎝2    ⎠         ⎥\n",
       "⎢                   ⎥\n",
       "⎢ 2 ⎛l    ⎞        2⎥\n",
       "⎢x ⋅⎜─ - x⎟⋅(l - x) ⎥\n",
       "⎣   ⎝2    ⎠         ⎦"
      ]
     },
     "execution_count": 38,
     "metadata": {},
     "output_type": "execute_result"
    }
   ],
   "source": [
    "FUNC = Matrix(FUNC)\n",
    "FUNC"
   ]
  },
  {
   "cell_type": "code",
   "execution_count": 39,
   "metadata": {},
   "outputs": [
    {
     "data": {
      "text/latex": [
       "$$\\left[\\begin{matrix}c_{2} x^{2} \\left(l - x\\right)^{2} + x \\left(l - x\\right) \\left(\\frac{c_{2} l^{2}}{3} + \\frac{\\sqrt{133} c_{2}}{21} l^{2}\\right)\\\\c_{4} x^{2} \\left(\\frac{l}{2} - x\\right) \\left(l - x\\right)^{2} + x \\left(\\frac{l}{2} - x\\right) \\left(l - x\\right) \\left(\\frac{c_{4} l^{2}}{33} + \\frac{\\sqrt{5} c_{4}}{11} l^{2}\\right)\\\\c_{2} x^{2} \\left(l - x\\right)^{2} + x \\left(l - x\\right) \\left(- \\frac{\\sqrt{133} c_{2}}{21} l^{2} + \\frac{c_{2} l^{2}}{3}\\right)\\\\c_{4} x^{2} \\left(\\frac{l}{2} - x\\right) \\left(l - x\\right)^{2} + x \\left(\\frac{l}{2} - x\\right) \\left(l - x\\right) \\left(- \\frac{\\sqrt{5} c_{4}}{11} l^{2} + \\frac{c_{4} l^{2}}{33}\\right)\\end{matrix}\\right]$$"
      ],
      "text/plain": [
       "⎡                                   ⎛    2            2⎞        ⎤\n",
       "⎢            2        2             ⎜c₂⋅l    √133⋅c₂⋅l ⎟        ⎥\n",
       "⎢        c₂⋅x ⋅(l - x)  + x⋅(l - x)⋅⎜───── + ──────────⎟        ⎥\n",
       "⎢                                   ⎝  3         21    ⎠        ⎥\n",
       "⎢                                                               ⎥\n",
       "⎢                                            ⎛    2          2⎞ ⎥\n",
       "⎢     2 ⎛l    ⎞        2     ⎛l    ⎞         ⎜c₄⋅l    √5⋅c₄⋅l ⎟ ⎥\n",
       "⎢ c₄⋅x ⋅⎜─ - x⎟⋅(l - x)  + x⋅⎜─ - x⎟⋅(l - x)⋅⎜───── + ────────⎟ ⎥\n",
       "⎢       ⎝2    ⎠              ⎝2    ⎠         ⎝  33       11   ⎠ ⎥\n",
       "⎢                                                               ⎥\n",
       "⎢                                  ⎛           2       2⎞       ⎥\n",
       "⎢           2        2             ⎜  √133⋅c₂⋅l    c₂⋅l ⎟       ⎥\n",
       "⎢       c₂⋅x ⋅(l - x)  + x⋅(l - x)⋅⎜- ────────── + ─────⎟       ⎥\n",
       "⎢                                  ⎝      21         3  ⎠       ⎥\n",
       "⎢                                                               ⎥\n",
       "⎢                                           ⎛         2       2⎞⎥\n",
       "⎢    2 ⎛l    ⎞        2     ⎛l    ⎞         ⎜  √5⋅c₄⋅l    c₄⋅l ⎟⎥\n",
       "⎢c₄⋅x ⋅⎜─ - x⎟⋅(l - x)  + x⋅⎜─ - x⎟⋅(l - x)⋅⎜- ──────── + ─────⎟⎥\n",
       "⎣      ⎝2    ⎠              ⎝2    ⎠         ⎝     11        33 ⎠⎦"
      ]
     },
     "execution_count": 39,
     "metadata": {},
     "output_type": "execute_result"
    }
   ],
   "source": [
    "PHIS = CR.T*FUNC\n",
    "PHIS"
   ]
  },
  {
   "cell_type": "code",
   "execution_count": 40,
   "metadata": {},
   "outputs": [
    {
     "data": {
      "text/latex": [
       "$$\\left[\\begin{matrix}\\left(c_{2} x^{2} \\left(l - x\\right)^{2} + x \\left(l - x\\right) \\left(\\frac{c_{2} l^{2}}{3} + \\frac{\\sqrt{133} c_{2}}{21} l^{2}\\right)\\right)^{2}\\\\\\left(c_{4} x^{2} \\left(\\frac{l}{2} - x\\right) \\left(l - x\\right)^{2} + x \\left(\\frac{l}{2} - x\\right) \\left(l - x\\right) \\left(\\frac{c_{4} l^{2}}{33} + \\frac{\\sqrt{5} c_{4}}{11} l^{2}\\right)\\right)^{2}\\\\\\left(c_{2} x^{2} \\left(l - x\\right)^{2} + x \\left(l - x\\right) \\left(- \\frac{\\sqrt{133} c_{2}}{21} l^{2} + \\frac{c_{2} l^{2}}{3}\\right)\\right)^{2}\\\\\\left(c_{4} x^{2} \\left(\\frac{l}{2} - x\\right) \\left(l - x\\right)^{2} + x \\left(\\frac{l}{2} - x\\right) \\left(l - x\\right) \\left(- \\frac{\\sqrt{5} c_{4}}{11} l^{2} + \\frac{c_{4} l^{2}}{33}\\right)\\right)^{2}\\end{matrix}\\right]$$"
      ],
      "text/plain": [
       "⎡                                                         2        ⎤\n",
       "⎢        ⎛                           ⎛    2            2⎞⎞         ⎥\n",
       "⎢        ⎜    2        2             ⎜c₂⋅l    √133⋅c₂⋅l ⎟⎟         ⎥\n",
       "⎢        ⎜c₂⋅x ⋅(l - x)  + x⋅(l - x)⋅⎜───── + ──────────⎟⎟         ⎥\n",
       "⎢        ⎝                           ⎝  3         21    ⎠⎠         ⎥\n",
       "⎢                                                                  ⎥\n",
       "⎢                                                                2 ⎥\n",
       "⎢ ⎛                                           ⎛    2          2⎞⎞  ⎥\n",
       "⎢ ⎜    2 ⎛l    ⎞        2     ⎛l    ⎞         ⎜c₄⋅l    √5⋅c₄⋅l ⎟⎟  ⎥\n",
       "⎢ ⎜c₄⋅x ⋅⎜─ - x⎟⋅(l - x)  + x⋅⎜─ - x⎟⋅(l - x)⋅⎜───── + ────────⎟⎟  ⎥\n",
       "⎢ ⎝      ⎝2    ⎠              ⎝2    ⎠         ⎝  33       11   ⎠⎠  ⎥\n",
       "⎢                                                                  ⎥\n",
       "⎢                                                          2       ⎥\n",
       "⎢       ⎛                           ⎛           2       2⎞⎞        ⎥\n",
       "⎢       ⎜    2        2             ⎜  √133⋅c₂⋅l    c₂⋅l ⎟⎟        ⎥\n",
       "⎢       ⎜c₂⋅x ⋅(l - x)  + x⋅(l - x)⋅⎜- ────────── + ─────⎟⎟        ⎥\n",
       "⎢       ⎝                           ⎝      21         3  ⎠⎠        ⎥\n",
       "⎢                                                                  ⎥\n",
       "⎢                                                                 2⎥\n",
       "⎢⎛                                           ⎛         2       2⎞⎞ ⎥\n",
       "⎢⎜    2 ⎛l    ⎞        2     ⎛l    ⎞         ⎜  √5⋅c₄⋅l    c₄⋅l ⎟⎟ ⎥\n",
       "⎢⎜c₄⋅x ⋅⎜─ - x⎟⋅(l - x)  + x⋅⎜─ - x⎟⋅(l - x)⋅⎜- ──────── + ─────⎟⎟ ⎥\n",
       "⎣⎝      ⎝2    ⎠              ⎝2    ⎠         ⎝     11        33 ⎠⎠ ⎦"
      ]
     },
     "execution_count": 40,
     "metadata": {},
     "output_type": "execute_result"
    }
   ],
   "source": [
    "for i in range (0,4):\n",
    "    PHIS[i] = PHIS[i]**2\n",
    "PHIS"
   ]
  },
  {
   "cell_type": "code",
   "execution_count": 42,
   "metadata": {},
   "outputs": [
    {
     "data": {
      "text/latex": [
       "$$\\left[\\begin{matrix}- \\frac{7 c_{2}^{2}}{18} l^{9} + l^{7} \\left(- \\frac{2 \\sqrt{133}}{147} c_{2}^{2} l^{2} + \\frac{16 c_{2}^{2}}{21} l^{2}\\right) + l^{6} \\left(- \\frac{c_{2}^{2} l^{3}}{3} + \\frac{\\sqrt{133} c_{2}^{2}}{21} l^{3}\\right) + l^{5} \\left(- \\frac{16 \\sqrt{133}}{315} c_{2}^{2} l^{4} - \\frac{37 c_{2}^{2}}{315} l^{4}\\right) + l^{4} \\left(- \\frac{5 c_{2}^{2}}{126} l^{5} + \\frac{\\sqrt{133} c_{2}^{2}}{126} l^{5}\\right) + l^{3} \\left(\\frac{2 \\sqrt{133}}{189} c_{2}^{2} l^{6} + \\frac{26 c_{2}^{2}}{189} l^{6}\\right)\\\\- \\frac{9 c_{4}^{2}}{22} l^{11} + l^{9} \\left(- \\frac{2 \\sqrt{5}}{99} c_{4}^{2} l^{2} + \\frac{1345 c_{4}^{2}}{1188} l^{2}\\right) + l^{8} \\left(- \\frac{355 c_{4}^{2}}{264} l^{3} + \\frac{\\sqrt{5} c_{4}^{2}}{11} l^{3}\\right) + l^{7} \\left(- \\frac{821 \\sqrt{5}}{5082} c_{4}^{2} l^{4} + \\frac{6712 c_{4}^{2}}{7623} l^{4}\\right) + l^{6} \\left(- \\frac{445 c_{4}^{2}}{1452} l^{5} + \\frac{205 \\sqrt{5}}{1452} c_{4}^{2} l^{5}\\right) + l^{5} \\left(- \\frac{109 \\sqrt{5}}{1815} c_{4}^{2} l^{6} + \\frac{245 c_{4}^{2}}{4356} l^{6}\\right) + l^{4} \\left(- \\frac{35 c_{4}^{2}}{2904} l^{7} + \\frac{9 \\sqrt{5}}{968} c_{4}^{2} l^{7}\\right) + l^{3} \\left(\\frac{\\sqrt{5} c_{4}^{2}}{2178} l^{8} + \\frac{23 c_{4}^{2}}{6534} l^{8}\\right)\\\\- \\frac{7 c_{2}^{2}}{18} l^{9} + l^{7} \\left(\\frac{2 \\sqrt{133}}{147} c_{2}^{2} l^{2} + \\frac{16 c_{2}^{2}}{21} l^{2}\\right) + l^{6} \\left(- \\frac{\\sqrt{133} c_{2}^{2}}{21} l^{3} - \\frac{c_{2}^{2} l^{3}}{3}\\right) + l^{5} \\left(- \\frac{37 c_{2}^{2}}{315} l^{4} + \\frac{16 \\sqrt{133}}{315} c_{2}^{2} l^{4}\\right) + l^{4} \\left(- \\frac{\\sqrt{133} c_{2}^{2}}{126} l^{5} - \\frac{5 c_{2}^{2}}{126} l^{5}\\right) + l^{3} \\left(- \\frac{2 \\sqrt{133}}{189} c_{2}^{2} l^{6} + \\frac{26 c_{2}^{2}}{189} l^{6}\\right)\\\\- \\frac{9 c_{4}^{2}}{22} l^{11} + l^{9} \\left(\\frac{2 \\sqrt{5}}{99} c_{4}^{2} l^{2} + \\frac{1345 c_{4}^{2}}{1188} l^{2}\\right) + l^{8} \\left(- \\frac{355 c_{4}^{2}}{264} l^{3} - \\frac{\\sqrt{5} c_{4}^{2}}{11} l^{3}\\right) + l^{7} \\left(\\frac{821 \\sqrt{5}}{5082} c_{4}^{2} l^{4} + \\frac{6712 c_{4}^{2}}{7623} l^{4}\\right) + l^{6} \\left(- \\frac{205 \\sqrt{5}}{1452} c_{4}^{2} l^{5} - \\frac{445 c_{4}^{2}}{1452} l^{5}\\right) + l^{5} \\left(\\frac{245 c_{4}^{2}}{4356} l^{6} + \\frac{109 \\sqrt{5}}{1815} c_{4}^{2} l^{6}\\right) + l^{4} \\left(- \\frac{9 \\sqrt{5}}{968} c_{4}^{2} l^{7} - \\frac{35 c_{4}^{2}}{2904} l^{7}\\right) + l^{3} \\left(- \\frac{\\sqrt{5} c_{4}^{2}}{2178} l^{8} + \\frac{23 c_{4}^{2}}{6534} l^{8}\\right)\\end{matrix}\\right]$$"
      ],
      "text/plain": [
       "⎡                                          2  9      ⎛           2  2        2\n",
       "⎢                                      7⋅c₂ ⋅l     7 ⎜  2⋅√133⋅c₂ ⋅l    16⋅c₂ \n",
       "⎢                                    - ──────── + l ⋅⎜- ───────────── + ──────\n",
       "⎢                                         18         ⎝       147            21\n",
       "⎢                                                                             \n",
       "⎢      2  11      ⎛         2  2          2  2⎞      ⎛        2  3        2  3\n",
       "⎢  9⋅c₄ ⋅l      9 ⎜  2⋅√5⋅c₄ ⋅l    1345⋅c₄ ⋅l ⎟    8 ⎜  355⋅c₄ ⋅l    √5⋅c₄ ⋅l \n",
       "⎢- ───────── + l ⋅⎜- ─────────── + ───────────⎟ + l ⋅⎜- ────────── + ─────────\n",
       "⎢      22         ⎝       99           1188   ⎠      ⎝     264           11   \n",
       "⎢                                                                             \n",
       "⎢                                          2  9      ⎛         2  2        2  \n",
       "⎢                                      7⋅c₂ ⋅l     7 ⎜2⋅√133⋅c₂ ⋅l    16⋅c₂ ⋅l\n",
       "⎢                                    - ──────── + l ⋅⎜───────────── + ────────\n",
       "⎢                                         18         ⎝     147            21  \n",
       "⎢                                                                             \n",
       "⎢        2  11      ⎛       2  2          2  2⎞      ⎛        2  3        2  3\n",
       "⎢    9⋅c₄ ⋅l      9 ⎜2⋅√5⋅c₄ ⋅l    1345⋅c₄ ⋅l ⎟    8 ⎜  355⋅c₄ ⋅l    √5⋅c₄ ⋅l \n",
       "⎢  - ───────── + l ⋅⎜─────────── + ───────────⎟ + l ⋅⎜- ────────── - ─────────\n",
       "⎣        22         ⎝     99           1188   ⎠      ⎝     264           11   \n",
       "\n",
       "  2⎞      ⎛    2  3          2  3⎞      ⎛            2  4        2  4⎞      ⎛ \n",
       "⋅l ⎟    6 ⎜  c₂ ⋅l    √133⋅c₂ ⋅l ⎟    5 ⎜  16⋅√133⋅c₂ ⋅l    37⋅c₂ ⋅l ⎟    4 ⎜ \n",
       "───⎟ + l ⋅⎜- ────── + ───────────⎟ + l ⋅⎜- ────────────── - ─────────⎟ + l ⋅⎜-\n",
       "   ⎠      ⎝    3           21    ⎠      ⎝       315            315   ⎠      ⎝ \n",
       "                                                                              \n",
       "⎞      ⎛           2  4          2  4⎞      ⎛        2  5            2  5⎞    \n",
       "⎟    7 ⎜  821⋅√5⋅c₄ ⋅l    6712⋅c₄ ⋅l ⎟    6 ⎜  445⋅c₄ ⋅l    205⋅√5⋅c₄ ⋅l ⎟    \n",
       "⎟ + l ⋅⎜- ───────────── + ───────────⎟ + l ⋅⎜- ────────── + ─────────────⎟ + l\n",
       "⎠      ⎝       5082           7623   ⎠      ⎝     1452           1452    ⎠    \n",
       "                                                                              \n",
       "2⎞      ⎛         2  3     2  3⎞      ⎛       2  4             2  4⎞      ⎛   \n",
       " ⎟    6 ⎜  √133⋅c₂ ⋅l    c₂ ⋅l ⎟    5 ⎜  37⋅c₂ ⋅l    16⋅√133⋅c₂ ⋅l ⎟    4 ⎜  √\n",
       "─⎟ + l ⋅⎜- ─────────── - ──────⎟ + l ⋅⎜- ───────── + ──────────────⎟ + l ⋅⎜- ─\n",
       " ⎠      ⎝       21         3   ⎠      ⎝     315           315      ⎠      ⎝   \n",
       "                                                                              \n",
       "⎞      ⎛         2  4          2  4⎞      ⎛           2  5         2  5⎞      \n",
       "⎟    7 ⎜821⋅√5⋅c₄ ⋅l    6712⋅c₄ ⋅l ⎟    6 ⎜  205⋅√5⋅c₄ ⋅l    445⋅c₄ ⋅l ⎟    5 \n",
       "⎟ + l ⋅⎜───────────── + ───────────⎟ + l ⋅⎜- ───────────── - ──────────⎟ + l ⋅\n",
       "⎠      ⎝     5082           7623   ⎠      ⎝       1452          1452   ⎠      \n",
       "\n",
       "     2  5          2  5⎞      ⎛         2  6        2  6⎞                     \n",
       " 5⋅c₂ ⋅l    √133⋅c₂ ⋅l ⎟    3 ⎜2⋅√133⋅c₂ ⋅l    26⋅c₂ ⋅l ⎟                     \n",
       " ──────── + ───────────⎟ + l ⋅⎜───────────── + ─────────⎟                     \n",
       "   126          126    ⎠      ⎝     189           189   ⎠                     \n",
       "                                                                              \n",
       "  ⎛           2  6         2  6⎞      ⎛       2  7          2  7⎞      ⎛     2\n",
       "5 ⎜  109⋅√5⋅c₄ ⋅l    245⋅c₄ ⋅l ⎟    4 ⎜  35⋅c₄ ⋅l    9⋅√5⋅c₄ ⋅l ⎟    3 ⎜√5⋅c₄ \n",
       " ⋅⎜- ───────────── + ──────────⎟ + l ⋅⎜- ───────── + ───────────⎟ + l ⋅⎜──────\n",
       "  ⎝       1815          4356   ⎠      ⎝     2904         968    ⎠      ⎝   217\n",
       "                                                                              \n",
       "      2  5       2  5⎞      ⎛           2  6        2  6⎞                     \n",
       "133⋅c₂ ⋅l    5⋅c₂ ⋅l ⎟    3 ⎜  2⋅√133⋅c₂ ⋅l    26⋅c₂ ⋅l ⎟                     \n",
       "────────── - ────────⎟ + l ⋅⎜- ───────────── + ─────────⎟                     \n",
       "   126         126   ⎠      ⎝       189           189   ⎠                     \n",
       "                                                                              \n",
       "⎛      2  6            2  6⎞      ⎛         2  7        2  7⎞      ⎛       2  \n",
       "⎜245⋅c₄ ⋅l    109⋅√5⋅c₄ ⋅l ⎟    4 ⎜  9⋅√5⋅c₄ ⋅l    35⋅c₄ ⋅l ⎟    3 ⎜  √5⋅c₄ ⋅l\n",
       "⎜────────── + ─────────────⎟ + l ⋅⎜- ─────────── - ─────────⎟ + l ⋅⎜- ────────\n",
       "⎝   4356           1815    ⎠      ⎝      968          2904  ⎠      ⎝     2178 \n",
       "\n",
       "                ⎤\n",
       "                ⎥\n",
       "                ⎥\n",
       "                ⎥\n",
       "                ⎥\n",
       "  8        2  8⎞⎥\n",
       "⋅l    23⋅c₄ ⋅l ⎟⎥\n",
       "─── + ─────────⎟⎥\n",
       "8        6534  ⎠⎥\n",
       "                ⎥\n",
       "                ⎥\n",
       "                ⎥\n",
       "                ⎥\n",
       "                ⎥\n",
       "                ⎥\n",
       "8        2  8⎞  ⎥\n",
       "    23⋅c₄ ⋅l ⎟  ⎥\n",
       "─ + ─────────⎟  ⎥\n",
       "       6534  ⎠  ⎦"
      ]
     },
     "execution_count": 42,
     "metadata": {},
     "output_type": "execute_result"
    }
   ],
   "source": [
    "#integrate de phis con respecto a x de 0 a l y el resultado; al termino 1, le resto 1 y eso lo resuelvo para c2 y así con \n",
    "PHISI = integrate(PHIS, (x, 0, l))\n",
    "PHISI"
   ]
  },
  {
   "cell_type": "code",
   "execution_count": 46,
   "metadata": {},
   "outputs": [
    {
     "data": {
      "text/latex": [
       "$$- \\frac{7 c_{2}^{2}}{18} l^{9} + l^{7} \\left(- \\frac{2 \\sqrt{133}}{147} c_{2}^{2} l^{2} + \\frac{16 c_{2}^{2}}{21} l^{2}\\right) + l^{6} \\left(- \\frac{c_{2}^{2} l^{3}}{3} + \\frac{\\sqrt{133} c_{2}^{2}}{21} l^{3}\\right) + l^{5} \\left(- \\frac{16 \\sqrt{133}}{315} c_{2}^{2} l^{4} - \\frac{37 c_{2}^{2}}{315} l^{4}\\right) + l^{4} \\left(- \\frac{5 c_{2}^{2}}{126} l^{5} + \\frac{\\sqrt{133} c_{2}^{2}}{126} l^{5}\\right) + l^{3} \\left(\\frac{2 \\sqrt{133}}{189} c_{2}^{2} l^{6} + \\frac{26 c_{2}^{2}}{189} l^{6}\\right) - 1$$"
      ],
      "text/plain": [
       "      2  9      ⎛           2  2        2  2⎞      ⎛    2  3          2  3⎞   \n",
       "  7⋅c₂ ⋅l     7 ⎜  2⋅√133⋅c₂ ⋅l    16⋅c₂ ⋅l ⎟    6 ⎜  c₂ ⋅l    √133⋅c₂ ⋅l ⎟   \n",
       "- ──────── + l ⋅⎜- ───────────── + ─────────⎟ + l ⋅⎜- ────── + ───────────⎟ + \n",
       "     18         ⎝       147            21   ⎠      ⎝    3           21    ⎠   \n",
       "\n",
       "   ⎛            2  4        2  4⎞      ⎛      2  5          2  5⎞      ⎛      \n",
       " 5 ⎜  16⋅√133⋅c₂ ⋅l    37⋅c₂ ⋅l ⎟    4 ⎜  5⋅c₂ ⋅l    √133⋅c₂ ⋅l ⎟    3 ⎜2⋅√133\n",
       "l ⋅⎜- ────────────── - ─────────⎟ + l ⋅⎜- ──────── + ───────────⎟ + l ⋅⎜──────\n",
       "   ⎝       315            315   ⎠      ⎝    126          126    ⎠      ⎝     1\n",
       "\n",
       "   2  6        2  6⎞    \n",
       "⋅c₂ ⋅l    26⋅c₂ ⋅l ⎟    \n",
       "─────── + ─────────⎟ - 1\n",
       "89           189   ⎠    "
      ]
     },
     "execution_count": 46,
     "metadata": {},
     "output_type": "execute_result"
    }
   ],
   "source": [
    "c2 = PHISI[0]-1 \n",
    "c2"
   ]
  },
  {
   "cell_type": "code",
   "execution_count": 47,
   "metadata": {},
   "outputs": [
    {
     "data": {
      "text/latex": [
       "$$\\left [ - \\frac{21 \\sqrt{30} \\sqrt{\\frac{1}{l^{9}}}}{\\sqrt{23 \\sqrt{133} + 266}}, \\quad \\frac{21 \\sqrt{30} \\sqrt{\\frac{1}{l^{9}}}}{\\sqrt{23 \\sqrt{133} + 266}}\\right ]$$"
      ],
      "text/plain": [
       "⎡             ____                ____⎤\n",
       "⎢            ╱ 1                 ╱ 1  ⎥\n",
       "⎢-21⋅√30⋅   ╱  ──     21⋅√30⋅   ╱  ── ⎥\n",
       "⎢          ╱    9              ╱    9 ⎥\n",
       "⎢        ╲╱    l             ╲╱    l  ⎥\n",
       "⎢──────────────────, ─────────────────⎥\n",
       "⎢  _______________     _______________⎥\n",
       "⎣╲╱ 23⋅√133 + 266    ╲╱ 23⋅√133 + 266 ⎦"
      ]
     },
     "execution_count": 47,
     "metadata": {},
     "output_type": "execute_result"
    }
   ],
   "source": [
    "solve(c2, C[1])"
   ]
  },
  {
   "cell_type": "code",
   "execution_count": 53,
   "metadata": {},
   "outputs": [
    {
     "data": {
      "text/latex": [
       "$$- \\frac{21 \\sqrt{30} \\sqrt{\\frac{1}{l^{9}}}}{\\sqrt{23 \\sqrt{133} + 266}}$$"
      ],
      "text/plain": [
       "             ____ \n",
       "            ╱ 1   \n",
       "-21⋅√30⋅   ╱  ──  \n",
       "          ╱    9  \n",
       "        ╲╱    l   \n",
       "──────────────────\n",
       "  _______________ \n",
       "╲╱ 23⋅√133 + 266  "
      ]
     },
     "execution_count": 53,
     "metadata": {},
     "output_type": "execute_result"
    }
   ],
   "source": [
    "C[1] = solve(c2, C[1])\n",
    "C[1]"
   ]
  },
  {
   "cell_type": "code",
   "execution_count": 48,
   "metadata": {},
   "outputs": [
    {
     "data": {
      "text/latex": [
       "$$- \\frac{9 c_{4}^{2}}{22} l^{11} + l^{9} \\left(\\frac{2 \\sqrt{5}}{99} c_{4}^{2} l^{2} + \\frac{1345 c_{4}^{2}}{1188} l^{2}\\right) + l^{8} \\left(- \\frac{355 c_{4}^{2}}{264} l^{3} - \\frac{\\sqrt{5} c_{4}^{2}}{11} l^{3}\\right) + l^{7} \\left(\\frac{821 \\sqrt{5}}{5082} c_{4}^{2} l^{4} + \\frac{6712 c_{4}^{2}}{7623} l^{4}\\right) + l^{6} \\left(- \\frac{205 \\sqrt{5}}{1452} c_{4}^{2} l^{5} - \\frac{445 c_{4}^{2}}{1452} l^{5}\\right) + l^{5} \\left(\\frac{245 c_{4}^{2}}{4356} l^{6} + \\frac{109 \\sqrt{5}}{1815} c_{4}^{2} l^{6}\\right) + l^{4} \\left(- \\frac{9 \\sqrt{5}}{968} c_{4}^{2} l^{7} - \\frac{35 c_{4}^{2}}{2904} l^{7}\\right) + l^{3} \\left(- \\frac{\\sqrt{5} c_{4}^{2}}{2178} l^{8} + \\frac{23 c_{4}^{2}}{6534} l^{8}\\right) - 1$$"
      ],
      "text/plain": [
       "      2  11      ⎛       2  2          2  2⎞      ⎛        2  3        2  3⎞  \n",
       "  9⋅c₄ ⋅l      9 ⎜2⋅√5⋅c₄ ⋅l    1345⋅c₄ ⋅l ⎟    8 ⎜  355⋅c₄ ⋅l    √5⋅c₄ ⋅l ⎟  \n",
       "- ───────── + l ⋅⎜─────────── + ───────────⎟ + l ⋅⎜- ────────── - ─────────⎟ +\n",
       "      22         ⎝     99           1188   ⎠      ⎝     264           11   ⎠  \n",
       "\n",
       "    ⎛         2  4          2  4⎞      ⎛           2  5         2  5⎞      ⎛  \n",
       "  7 ⎜821⋅√5⋅c₄ ⋅l    6712⋅c₄ ⋅l ⎟    6 ⎜  205⋅√5⋅c₄ ⋅l    445⋅c₄ ⋅l ⎟    5 ⎜24\n",
       " l ⋅⎜───────────── + ───────────⎟ + l ⋅⎜- ───────────── - ──────────⎟ + l ⋅⎜──\n",
       "    ⎝     5082           7623   ⎠      ⎝       1452          1452   ⎠      ⎝  \n",
       "\n",
       "    2  6            2  6⎞      ⎛         2  7        2  7⎞      ⎛       2  8  \n",
       "5⋅c₄ ⋅l    109⋅√5⋅c₄ ⋅l ⎟    4 ⎜  9⋅√5⋅c₄ ⋅l    35⋅c₄ ⋅l ⎟    3 ⎜  √5⋅c₄ ⋅l   \n",
       "──────── + ─────────────⎟ + l ⋅⎜- ─────────── - ─────────⎟ + l ⋅⎜- ───────── +\n",
       " 4356           1815    ⎠      ⎝      968          2904  ⎠      ⎝     2178    \n",
       "\n",
       "      2  8⎞    \n",
       " 23⋅c₄ ⋅l ⎟    \n",
       " ─────────⎟ - 1\n",
       "    6534  ⎠    "
      ]
     },
     "execution_count": 48,
     "metadata": {},
     "output_type": "execute_result"
    }
   ],
   "source": [
    "c4 = PHISI[3]-1\n",
    "c4"
   ]
  },
  {
   "cell_type": "code",
   "execution_count": 55,
   "metadata": {},
   "outputs": [
    {
     "data": {
      "text/latex": [
       "$$\\left [ - \\frac{66 \\sqrt{70} \\sqrt{\\frac{1}{l^{11}}}}{\\sqrt{- 13 \\sqrt{5} + 30}}, \\quad \\frac{66 \\sqrt{70} \\sqrt{\\frac{1}{l^{11}}}}{\\sqrt{- 13 \\sqrt{5} + 30}}\\right ]$$"
      ],
      "text/plain": [
       "⎡             _____               _____⎤\n",
       "⎢            ╱  1                ╱  1  ⎥\n",
       "⎢-66⋅√70⋅   ╱  ───    66⋅√70⋅   ╱  ─── ⎥\n",
       "⎢          ╱    11             ╱    11 ⎥\n",
       "⎢        ╲╱    l             ╲╱    l   ⎥\n",
       "⎢───────────────────, ─────────────────⎥\n",
       "⎢    _____________       _____________ ⎥\n",
       "⎣  ╲╱ -13⋅√5 + 30      ╲╱ -13⋅√5 + 30  ⎦"
      ]
     },
     "execution_count": 55,
     "metadata": {},
     "output_type": "execute_result"
    }
   ],
   "source": [
    "solve(c4,C[3])"
   ]
  },
  {
   "cell_type": "code",
   "execution_count": null,
   "metadata": {},
   "outputs": [],
   "source": []
  },
  {
   "cell_type": "code",
   "execution_count": 57,
   "metadata": {},
   "outputs": [
    {
     "data": {
      "text/latex": [
       "$$\\left[\\begin{matrix}c_{1} & c_{1} & c_{1} & c_{1}\\\\c_{2} & c_{2} & c_{2} & c_{2}\\\\c_{3} & c_{3} & c_{3} & c_{3}\\\\c_{4} & c_{4} & c_{4} & c_{4}\\end{matrix}\\right]$$"
      ],
      "text/plain": [
       "⎡c₁  c₁  c₁  c₁⎤\n",
       "⎢              ⎥\n",
       "⎢c₂  c₂  c₂  c₂⎥\n",
       "⎢              ⎥\n",
       "⎢c₃  c₃  c₃  c₃⎥\n",
       "⎢              ⎥\n",
       "⎣c₄  c₄  c₄  c₄⎦"
      ]
     },
     "execution_count": 57,
     "metadata": {},
     "output_type": "execute_result"
    }
   ],
   "source": [
    "CRcol = C[:, :]\n",
    "for a in range(1, len(C)+1):\n",
    "    C_val = solve(EC.col(a-1), C)\n",
    "    for b in range(1, len(C)+1):\n",
    "        if sympify('c'+str(b)) in C_val:\n",
    "            CRcol[b-1] = C_val[sympify('c'+str(b))]\n",
    "        else:\n",
    "            CRcol[b-1] = sympify('c'+str(b))\n",
    "    if a == 1:\n",
    "        CR = Matrix([CRcol])\n",
    "    else:\n",
    "        CR = CR.col_insert(a-1, CRcol)\n",
    "simplify(CR)"
   ]
  },
  {
   "cell_type": "code",
   "execution_count": null,
   "metadata": {
    "collapsed": true
   },
   "outputs": [],
   "source": []
  }
 ],
 "metadata": {
  "kernelspec": {
   "display_name": "Python 3",
   "language": "python",
   "name": "python3"
  },
  "language_info": {
   "codemirror_mode": {
    "name": "ipython",
    "version": 3
   },
   "file_extension": ".py",
   "mimetype": "text/x-python",
   "name": "python",
   "nbconvert_exporter": "python",
   "pygments_lexer": "ipython3",
   "version": "3.6.1"
  }
 },
 "nbformat": 4,
 "nbformat_minor": 2
}
